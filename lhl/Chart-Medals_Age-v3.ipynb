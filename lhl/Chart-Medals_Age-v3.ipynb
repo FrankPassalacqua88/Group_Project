{
 "cells": [
  {
   "cell_type": "code",
   "execution_count": 480,
   "id": "1e0eaeca-ef9e-41c3-a4d3-67be68c0bca8",
   "metadata": {
    "tags": []
   },
   "outputs": [],
   "source": [
    "import pandas as pd\n",
    "import matplotlib.pyplot as plt\n",
    "from ipywidgets import interact\n",
    "import ipywidgets as widgets\n",
    "from IPython.display import display\n",
    "import matplotlib.ticker as ticker"
   ]
  },
  {
   "cell_type": "code",
   "execution_count": 481,
   "id": "73c5e8d3-4ca6-440f-822f-8336e7ac5aff",
   "metadata": {
    "tags": []
   },
   "outputs": [
    {
     "data": {
      "text/html": [
       "<div>\n",
       "<style scoped>\n",
       "    .dataframe tbody tr th:only-of-type {\n",
       "        vertical-align: middle;\n",
       "    }\n",
       "\n",
       "    .dataframe tbody tr th {\n",
       "        vertical-align: top;\n",
       "    }\n",
       "\n",
       "    .dataframe thead th {\n",
       "        text-align: right;\n",
       "    }\n",
       "</style>\n",
       "<table border=\"1\" class=\"dataframe\">\n",
       "  <thead>\n",
       "    <tr style=\"text-align: right;\">\n",
       "      <th></th>\n",
       "      <th>Athlete_ID</th>\n",
       "      <th>Name</th>\n",
       "      <th>Age</th>\n",
       "      <th>Gender</th>\n",
       "      <th>Height(cm)</th>\n",
       "      <th>Weight(kg)</th>\n",
       "      <th>Sport</th>\n",
       "      <th>Country_Name</th>\n",
       "      <th>Country_Code</th>\n",
       "      <th>Year</th>\n",
       "      <th>Season</th>\n",
       "      <th>isTeamSport</th>\n",
       "      <th>Medal</th>\n",
       "      <th>Result_ID</th>\n",
       "    </tr>\n",
       "  </thead>\n",
       "  <tbody>\n",
       "    <tr>\n",
       "      <th>0</th>\n",
       "      <td>16809</td>\n",
       "      <td>Károly Teppert</td>\n",
       "      <td>21.0</td>\n",
       "      <td>M</td>\n",
       "      <td>NaN</td>\n",
       "      <td>NaN</td>\n",
       "      <td>Cycling Road</td>\n",
       "      <td>Hungary</td>\n",
       "      <td>HUN</td>\n",
       "      <td>1912</td>\n",
       "      <td>Summer</td>\n",
       "      <td>False</td>\n",
       "      <td>na</td>\n",
       "      <td>153233</td>\n",
       "    </tr>\n",
       "    <tr>\n",
       "      <th>1</th>\n",
       "      <td>16809</td>\n",
       "      <td>Károly Teppert</td>\n",
       "      <td>21.0</td>\n",
       "      <td>M</td>\n",
       "      <td>NaN</td>\n",
       "      <td>NaN</td>\n",
       "      <td>Cycling Road</td>\n",
       "      <td>Hungary</td>\n",
       "      <td>HUN</td>\n",
       "      <td>1912</td>\n",
       "      <td>Summer</td>\n",
       "      <td>True</td>\n",
       "      <td>na</td>\n",
       "      <td>153234</td>\n",
       "    </tr>\n",
       "    <tr>\n",
       "      <th>2</th>\n",
       "      <td>43737</td>\n",
       "      <td>Andrzej Socharski</td>\n",
       "      <td>29.0</td>\n",
       "      <td>M</td>\n",
       "      <td>173.0</td>\n",
       "      <td>72.0</td>\n",
       "      <td>Shooting</td>\n",
       "      <td>Poland</td>\n",
       "      <td>POL</td>\n",
       "      <td>1976</td>\n",
       "      <td>Summer</td>\n",
       "      <td>False</td>\n",
       "      <td>na</td>\n",
       "      <td>51745</td>\n",
       "    </tr>\n",
       "    <tr>\n",
       "      <th>3</th>\n",
       "      <td>50147</td>\n",
       "      <td>Nathalie Wunderlich</td>\n",
       "      <td>21.0</td>\n",
       "      <td>F</td>\n",
       "      <td>170.0</td>\n",
       "      <td>50.0</td>\n",
       "      <td>Swimming</td>\n",
       "      <td>Switzerland</td>\n",
       "      <td>SUI</td>\n",
       "      <td>1992</td>\n",
       "      <td>Summer</td>\n",
       "      <td>False</td>\n",
       "      <td>na</td>\n",
       "      <td>7860</td>\n",
       "    </tr>\n",
       "    <tr>\n",
       "      <th>4</th>\n",
       "      <td>50147</td>\n",
       "      <td>Nathalie Wunderlich</td>\n",
       "      <td>21.0</td>\n",
       "      <td>F</td>\n",
       "      <td>170.0</td>\n",
       "      <td>50.0</td>\n",
       "      <td>Swimming</td>\n",
       "      <td>Switzerland</td>\n",
       "      <td>SUI</td>\n",
       "      <td>1992</td>\n",
       "      <td>Summer</td>\n",
       "      <td>False</td>\n",
       "      <td>na</td>\n",
       "      <td>7870</td>\n",
       "    </tr>\n",
       "  </tbody>\n",
       "</table>\n",
       "</div>"
      ],
      "text/plain": [
       "   Athlete_ID                 Name   Age Gender  Height(cm)  Weight(kg)  \\\n",
       "0       16809       Károly Teppert  21.0      M         NaN         NaN   \n",
       "1       16809       Károly Teppert  21.0      M         NaN         NaN   \n",
       "2       43737    Andrzej Socharski  29.0      M       173.0        72.0   \n",
       "3       50147  Nathalie Wunderlich  21.0      F       170.0        50.0   \n",
       "4       50147  Nathalie Wunderlich  21.0      F       170.0        50.0   \n",
       "\n",
       "          Sport  Country_Name Country_Code  Year  Season  isTeamSport Medal  \\\n",
       "0  Cycling Road       Hungary          HUN  1912  Summer        False    na   \n",
       "1  Cycling Road       Hungary          HUN  1912  Summer         True    na   \n",
       "2      Shooting        Poland          POL  1976  Summer        False    na   \n",
       "3      Swimming   Switzerland          SUI  1992  Summer        False    na   \n",
       "4      Swimming   Switzerland          SUI  1992  Summer        False    na   \n",
       "\n",
       "   Result_ID  \n",
       "0     153233  \n",
       "1     153234  \n",
       "2      51745  \n",
       "3       7860  \n",
       "4       7870  "
      ]
     },
     "execution_count": 481,
     "metadata": {},
     "output_type": "execute_result"
    }
   ],
   "source": [
    "# Import data, change column header from Sex to Gender\n",
    "df = pd.read_csv('../Resources/Cleaning2/merged_events_bio.csv')\n",
    "df = df.rename(columns={'Sex': 'Gender'})\n",
    "df.head(5)"
   ]
  },
  {
   "cell_type": "code",
   "execution_count": 482,
   "id": "8ab15a5b-2608-41f7-a786-1539adddb45b",
   "metadata": {
    "tags": []
   },
   "outputs": [
    {
     "name": "stdout",
     "output_type": "stream",
     "text": [
      "Athlete_ID        int64\n",
      "Name             object\n",
      "Age             float64\n",
      "Gender           object\n",
      "Height(cm)      float64\n",
      "Weight(kg)      float64\n",
      "Sport            object\n",
      "Country_Name     object\n",
      "Country_Code     object\n",
      "Year              int64\n",
      "Season           object\n",
      "isTeamSport        bool\n",
      "Medal            object\n",
      "Result_ID         int64\n",
      "dtype: object\n"
     ]
    }
   ],
   "source": [
    "print(df.dtypes)"
   ]
  },
  {
   "cell_type": "code",
   "execution_count": 483,
   "id": "57baeee5-e740-4106-b5c5-bf29b8b71788",
   "metadata": {
    "tags": []
   },
   "outputs": [],
   "source": [
    "# Remove NA's and convert \"Age\" column to integer data type\n",
    "#df['Age'] = df['Age'].fillna(0)\n",
    "#df['Age'] = df['Age'].astype(int)\n",
    "#print(df.dtypes)"
   ]
  },
  {
   "cell_type": "code",
   "execution_count": 484,
   "id": "f6bcf18d-6091-422d-8af9-85edcaf9e61e",
   "metadata": {
    "tags": []
   },
   "outputs": [],
   "source": [
    "# Define the medal colors \n",
    "color_scale = {'Gold': 'gold', 'Silver': 'silver', 'Bronze': 'peru'}"
   ]
  },
  {
   "cell_type": "code",
   "execution_count": 485,
   "id": "0f096e66-d9df-4cbd-9861-00481fba56be",
   "metadata": {
    "tags": []
   },
   "outputs": [],
   "source": [
    "# Define dropdown menus, alphabetize sports and countries\n",
    "gender_dropdown = widgets.Dropdown(\n",
    "    options=['Both', 'M', 'F'],\n",
    "    value='Both',\n",
    "    description='Gender:')\n",
    "\n",
    "sports = [\"ALL\"] + sorted(df['Sport'].unique().tolist())\n",
    "sports.sort()\n",
    "sport_dropdown = widgets.Dropdown(options=sports, value=\"ALL\", description=\"Sport:\")\n",
    "\n",
    "countries = [\"ALL\"] + sorted(df['Country_Name'].unique().tolist())\n",
    "countries.sort()\n",
    "country_dropdown = widgets.Dropdown(options=countries, value=\"ALL\", description='Country:')"
   ]
  },
  {
   "cell_type": "code",
   "execution_count": 486,
   "id": "3eca8d7a-f006-4c43-a232-c6a157b9f713",
   "metadata": {
    "tags": []
   },
   "outputs": [],
   "source": [
    "# Define the callback functions\n",
    "def on_gender_change(change):\n",
    "    update_scatter_plot(filtered_df, change.new, sport_dropdown.value, country_dropdown.value)\n",
    "    \n",
    "def on_sport_change(change):\n",
    "    update_scatter_plot(filtered_df, gender_dropdown.value, change.new, country_dropdown.value)\n",
    "    \n",
    "def on_country_change(change):\n",
    "    update_scatter_plot(filtered_df, gender_dropdown.value, sport_dropdown.value, change.new)"
   ]
  },
  {
   "cell_type": "code",
   "execution_count": 487,
   "id": "f57d7ce0-0c61-42dd-9cad-8062e677633e",
   "metadata": {
    "tags": []
   },
   "outputs": [],
   "source": [
    "# Define the function to filter the data \n",
    "def filter_data(df, gender, country=None, sport=None):\n",
    "    filtered_df = df.copy()\n",
    "    if gender != 'Both':\n",
    "        filtered_df = filtered_df[filtered_df['Gender'] == gender]\n",
    "    if country != 'ALL':\n",
    "        filtered_df = filtered_df[filtered_df['Country_Name'] == country]\n",
    "    if sport != 'ALL':\n",
    "        filtered_df = filtered_df[filtered_df['Sport'] == sport]\n",
    "    \n",
    "    # filter out rows where no medal was received\n",
    "    filtered_df = filtered_df[~(filtered_df['Medal'] == 'na')]\n",
    "        \n",
    "    return filtered_df"
   ]
  },
  {
   "cell_type": "code",
   "execution_count": 494,
   "id": "ef3a6c2c-cd4b-4278-8a2e-93e70d31ee53",
   "metadata": {
    "tags": []
   },
   "outputs": [],
   "source": [
    "# Add hover labels\n",
    "\n",
    "#def medal_label_formatter(val, pos):\n",
    "#    \"\"\"Function to format the label of each bar in the medal bar chart.\"\"\"\n",
    "#    gold_count = int(val[1])\n",
    "#    silver_count = int(val[2])\n",
    "#    bronze_count = int(val[0])\n",
    "#    total_count = gold_count + silver_count + bronze_count\n",
    "#    return f\"Gold: {gold_count}\\nSilver: {silver_count}\\nBronze: {bronze_count}\\nTotal: {total_count}\""
   ]
  },
  {
   "cell_type": "code",
   "execution_count": 500,
   "id": "9edec17d-11a3-4216-a924-d47ea73c5d86",
   "metadata": {
    "tags": []
   },
   "outputs": [],
   "source": [
    "# Define the function to update the medal bar plot\n",
    "def update_plot(gender, sport, country):\n",
    "    filtered_df = filter_data(df, gender, country, sport)\n",
    "    filtered_df = filtered_df[filtered_df['Age'].notnull()] # Filter out rows where Age is null\n",
    "    filtered_df['Age'] = filtered_df['Age'].astype(int) # Convert Age column to integer\n",
    "    medal_counts = pd.pivot_table(filtered_df, index=['Age'], columns=['Medal'], values='Name', aggfunc='count', fill_value=0)\n",
    "    print(medal_counts)\n",
    "    medal_counts.plot(kind='bar', stacked=True, color=[color_scale.get(x, '#333333') for x in ['Gold', 'Silver', 'Bronze']])\n",
    "    plt.xlabel('Age')\n",
    "    plt.ylabel('Medal Count')\n",
    "    plt.legend(title='Medal Count by Age', labels=['Gold', 'Silver', 'Bronze'])\n",
    "   #    plt.gca().xaxis.set_major_formatter(ticker.FormatStrFormatter('%d'))\n",
    "    plt.show()"
   ]
  },
  {
   "cell_type": "code",
   "execution_count": 501,
   "id": "17eead28-cbe6-41a6-a763-c564da25bc60",
   "metadata": {
    "tags": []
   },
   "outputs": [],
   "source": [
    "# Define the function to reset the dropdown menus\n",
    "def reset_dropdowns():\n",
    "    gender_dropdown.value = 'Both'\n",
    "    sport_dropdown.value = 'ALL'\n",
    "    country_dropdown.value = 'ALL'"
   ]
  },
  {
   "cell_type": "code",
   "execution_count": 502,
   "id": "d5149d57-6832-487f-ab6e-1f1e7916fe86",
   "metadata": {
    "tags": []
   },
   "outputs": [],
   "source": [
    "# Register the callback functions\n",
    "gender_dropdown.observe(on_gender_change, names='value')\n",
    "sport_dropdown.observe(on_sport_change, names='value')\n",
    "country_dropdown.observe(on_country_change, names='value')"
   ]
  },
  {
   "cell_type": "code",
   "execution_count": 505,
   "id": "b77ab2cb-d5ad-4403-9ef1-2ebd3e826d43",
   "metadata": {
    "tags": []
   },
   "outputs": [
    {
     "data": {
      "application/vnd.jupyter.widget-view+json": {
       "model_id": "13935f257abc421a8977c92c8a26acd5",
       "version_major": 2,
       "version_minor": 0
      },
      "text/plain": [
       "Dropdown(description='Gender:', index=2, options=('Both', 'M', 'F'), value='F')"
      ]
     },
     "metadata": {},
     "output_type": "display_data"
    },
    {
     "data": {
      "application/vnd.jupyter.widget-view+json": {
       "model_id": "d52b296089db4b47af2ce36d033b4990",
       "version_major": 2,
       "version_minor": 0
      },
      "text/plain": [
       "Dropdown(description='Sport:', index=98, options=('3x3 Basketball', 'ALL', 'Aeronautics', 'Alpine Skiing', 'Al…"
      ]
     },
     "metadata": {},
     "output_type": "display_data"
    },
    {
     "data": {
      "application/vnd.jupyter.widget-view+json": {
       "model_id": "01935602b3b84623b6e4ed8f2b1e8718",
       "version_major": 2,
       "version_minor": 0
      },
      "text/plain": [
       "Dropdown(description='Country:', index=697, options=(' Afghanistan', ' Albania', ' Albania  Australia', ' Alba…"
      ]
     },
     "metadata": {},
     "output_type": "display_data"
    }
   ],
   "source": [
    "# Display the dropdown menus\n",
    "display(gender_dropdown)\n",
    "display(sport_dropdown)\n",
    "display(country_dropdown)"
   ]
  },
  {
   "cell_type": "code",
   "execution_count": 506,
   "id": "829bd509-5e0d-4710-85af-bb5d17633f0d",
   "metadata": {
    "tags": []
   },
   "outputs": [
    {
     "name": "stdout",
     "output_type": "stream",
     "text": [
      "Medal  Bronze  Gold  Silver\n",
      "Age                        \n",
      "16          0     1       0\n",
      "18          0     0       2\n",
      "19          2     5       1\n",
      "20          0     3       2\n",
      "21         10     3       3\n",
      "22          2     1       4\n",
      "23          5     4       3\n",
      "24          6     3       1\n",
      "25          7     4       4\n",
      "26          3     1       2\n",
      "27          3     2       4\n",
      "28          4     3       6\n",
      "29          1     1       2\n",
      "30          3     4       1\n",
      "31          2     3       3\n",
      "32          0     3       2\n",
      "34          0     2       1\n",
      "35          0     0       1\n",
      "36          5     0       2\n",
      "37          0     0       3\n",
      "38          1     2       0\n",
      "39          1     0       0\n",
      "40          1     0       0\n",
      "43          0     1       0\n"
     ]
    },
    {
     "data": {
      "image/png": "[encoded data removed]",
      "text/plain": [
       "<Figure size 640x480 with 1 Axes>"
      ]
     },
     "metadata": {},
     "output_type": "display_data"
    }
   ],
   "source": [
    "# Display the initial scatter plot\n",
    "filtered_df = df.copy()\n",
    "update_plot(gender_dropdown.value, sport_dropdown.value, country_dropdown.value)"
   ]
  },
  {
   "cell_type": "code",
   "execution_count": null,
   "id": "d52d6679-68a0-41f4-859c-a9e86c17af39",
   "metadata": {},
   "outputs": [],
   "source": []
  },
  {
   "cell_type": "code",
   "execution_count": null,
   "id": "f7cdaaeb-6083-4231-9ef8-9428121c3c48",
   "metadata": {},
   "outputs": [],
   "source": []
  }
 ],
 "metadata": {
  "kernelspec": {
   "display_name": "mlenv",
   "language": "python",
   "name": "mlenv"
  },
  "language_info": {
   "codemirror_mode": {
    "name": "ipython",
    "version": 3
   },
   "file_extension": ".py",
   "mimetype": "text/x-python",
   "name": "python",
   "nbconvert_exporter": "python",
   "pygments_lexer": "ipython3",
   "version": "3.7.13"
  }
 },
 "nbformat": 4,
 "nbformat_minor": 5
}
