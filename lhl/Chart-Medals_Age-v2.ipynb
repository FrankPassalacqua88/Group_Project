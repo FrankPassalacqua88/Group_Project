{
 "cells": [
  {
   "cell_type": "code",
   "execution_count": 167,
   "id": "f1c03bd2-503d-4153-ae88-e3c8f6471727",
   "metadata": {
    "tags": []
   },
   "outputs": [],
   "source": [
    "import pandas as pd\n",
    "import matplotlib.pyplot as plt\n",
    "from ipywidgets import interact\n",
    "import ipywidgets as widgets\n",
    "from IPython.display import display"
   ]
  },
  {
   "cell_type": "code",
   "execution_count": 168,
   "id": "16ed5196-3825-4ba0-9733-cf87dd443b19",
   "metadata": {
    "tags": []
   },
   "outputs": [
    {
     "data": {
      "text/html": [
       "<div>\n",
       "<style scoped>\n",
       "    .dataframe tbody tr th:only-of-type {\n",
       "        vertical-align: middle;\n",
       "    }\n",
       "\n",
       "    .dataframe tbody tr th {\n",
       "        vertical-align: top;\n",
       "    }\n",
       "\n",
       "    .dataframe thead th {\n",
       "        text-align: right;\n",
       "    }\n",
       "</style>\n",
       "<table border=\"1\" class=\"dataframe\">\n",
       "  <thead>\n",
       "    <tr style=\"text-align: right;\">\n",
       "      <th></th>\n",
       "      <th>Athlete_ID</th>\n",
       "      <th>Name</th>\n",
       "      <th>Age</th>\n",
       "      <th>Sex</th>\n",
       "      <th>Height(cm)</th>\n",
       "      <th>Weight(kg)</th>\n",
       "      <th>Sport</th>\n",
       "      <th>Country_Name</th>\n",
       "      <th>Country_Code</th>\n",
       "      <th>Year</th>\n",
       "      <th>Season</th>\n",
       "      <th>isTeamSport</th>\n",
       "      <th>Medal</th>\n",
       "      <th>Result_ID</th>\n",
       "    </tr>\n",
       "  </thead>\n",
       "  <tbody>\n",
       "    <tr>\n",
       "      <th>0</th>\n",
       "      <td>16809</td>\n",
       "      <td>Károly Teppert</td>\n",
       "      <td>21.0</td>\n",
       "      <td>M</td>\n",
       "      <td>NaN</td>\n",
       "      <td>NaN</td>\n",
       "      <td>Cycling Road</td>\n",
       "      <td>Hungary</td>\n",
       "      <td>HUN</td>\n",
       "      <td>1912</td>\n",
       "      <td>Summer</td>\n",
       "      <td>False</td>\n",
       "      <td>na</td>\n",
       "      <td>153233</td>\n",
       "    </tr>\n",
       "    <tr>\n",
       "      <th>1</th>\n",
       "      <td>16809</td>\n",
       "      <td>Károly Teppert</td>\n",
       "      <td>21.0</td>\n",
       "      <td>M</td>\n",
       "      <td>NaN</td>\n",
       "      <td>NaN</td>\n",
       "      <td>Cycling Road</td>\n",
       "      <td>Hungary</td>\n",
       "      <td>HUN</td>\n",
       "      <td>1912</td>\n",
       "      <td>Summer</td>\n",
       "      <td>True</td>\n",
       "      <td>na</td>\n",
       "      <td>153234</td>\n",
       "    </tr>\n",
       "    <tr>\n",
       "      <th>2</th>\n",
       "      <td>43737</td>\n",
       "      <td>Andrzej Socharski</td>\n",
       "      <td>29.0</td>\n",
       "      <td>M</td>\n",
       "      <td>173.0</td>\n",
       "      <td>72.0</td>\n",
       "      <td>Shooting</td>\n",
       "      <td>Poland</td>\n",
       "      <td>POL</td>\n",
       "      <td>1976</td>\n",
       "      <td>Summer</td>\n",
       "      <td>False</td>\n",
       "      <td>na</td>\n",
       "      <td>51745</td>\n",
       "    </tr>\n",
       "    <tr>\n",
       "      <th>3</th>\n",
       "      <td>50147</td>\n",
       "      <td>Nathalie Wunderlich</td>\n",
       "      <td>21.0</td>\n",
       "      <td>F</td>\n",
       "      <td>170.0</td>\n",
       "      <td>50.0</td>\n",
       "      <td>Swimming</td>\n",
       "      <td>Switzerland</td>\n",
       "      <td>SUI</td>\n",
       "      <td>1992</td>\n",
       "      <td>Summer</td>\n",
       "      <td>False</td>\n",
       "      <td>na</td>\n",
       "      <td>7860</td>\n",
       "    </tr>\n",
       "    <tr>\n",
       "      <th>4</th>\n",
       "      <td>50147</td>\n",
       "      <td>Nathalie Wunderlich</td>\n",
       "      <td>21.0</td>\n",
       "      <td>F</td>\n",
       "      <td>170.0</td>\n",
       "      <td>50.0</td>\n",
       "      <td>Swimming</td>\n",
       "      <td>Switzerland</td>\n",
       "      <td>SUI</td>\n",
       "      <td>1992</td>\n",
       "      <td>Summer</td>\n",
       "      <td>False</td>\n",
       "      <td>na</td>\n",
       "      <td>7870</td>\n",
       "    </tr>\n",
       "  </tbody>\n",
       "</table>\n",
       "</div>"
      ],
      "text/plain": [
       "   Athlete_ID                 Name   Age Sex  Height(cm)  Weight(kg)  \\\n",
       "0       16809       Károly Teppert  21.0   M         NaN         NaN   \n",
       "1       16809       Károly Teppert  21.0   M         NaN         NaN   \n",
       "2       43737    Andrzej Socharski  29.0   M       173.0        72.0   \n",
       "3       50147  Nathalie Wunderlich  21.0   F       170.0        50.0   \n",
       "4       50147  Nathalie Wunderlich  21.0   F       170.0        50.0   \n",
       "\n",
       "          Sport  Country_Name Country_Code  Year  Season  isTeamSport Medal  \\\n",
       "0  Cycling Road       Hungary          HUN  1912  Summer        False    na   \n",
       "1  Cycling Road       Hungary          HUN  1912  Summer         True    na   \n",
       "2      Shooting        Poland          POL  1976  Summer        False    na   \n",
       "3      Swimming   Switzerland          SUI  1992  Summer        False    na   \n",
       "4      Swimming   Switzerland          SUI  1992  Summer        False    na   \n",
       "\n",
       "   Result_ID  \n",
       "0     153233  \n",
       "1     153234  \n",
       "2      51745  \n",
       "3       7860  \n",
       "4       7870  "
      ]
     },
     "execution_count": 168,
     "metadata": {},
     "output_type": "execute_result"
    }
   ],
   "source": [
    "# Import data\n",
    "df = pd.read_csv('../Resources/Cleaning2/merged_events_bio.csv')\n",
    "df.head(5)"
   ]
  },
  {
   "cell_type": "code",
   "execution_count": 169,
   "id": "d4f282b3-af25-4207-a7cd-806cdf038e2e",
   "metadata": {
    "tags": []
   },
   "outputs": [
    {
     "data": {
      "text/html": [
       "<div>\n",
       "<style scoped>\n",
       "    .dataframe tbody tr th:only-of-type {\n",
       "        vertical-align: middle;\n",
       "    }\n",
       "\n",
       "    .dataframe tbody tr th {\n",
       "        vertical-align: top;\n",
       "    }\n",
       "\n",
       "    .dataframe thead th {\n",
       "        text-align: right;\n",
       "    }\n",
       "</style>\n",
       "<table border=\"1\" class=\"dataframe\">\n",
       "  <thead>\n",
       "    <tr style=\"text-align: right;\">\n",
       "      <th></th>\n",
       "      <th>Athlete_ID</th>\n",
       "      <th>Name</th>\n",
       "      <th>Age</th>\n",
       "      <th>Gender</th>\n",
       "      <th>Height(cm)</th>\n",
       "      <th>Weight(kg)</th>\n",
       "      <th>Sport</th>\n",
       "      <th>Country_Name</th>\n",
       "      <th>Country_Code</th>\n",
       "      <th>Year</th>\n",
       "      <th>Season</th>\n",
       "      <th>isTeamSport</th>\n",
       "      <th>Medal</th>\n",
       "      <th>Result_ID</th>\n",
       "    </tr>\n",
       "  </thead>\n",
       "  <tbody>\n",
       "    <tr>\n",
       "      <th>0</th>\n",
       "      <td>16809</td>\n",
       "      <td>Károly Teppert</td>\n",
       "      <td>21.0</td>\n",
       "      <td>M</td>\n",
       "      <td>NaN</td>\n",
       "      <td>NaN</td>\n",
       "      <td>Cycling Road</td>\n",
       "      <td>Hungary</td>\n",
       "      <td>HUN</td>\n",
       "      <td>1912</td>\n",
       "      <td>Summer</td>\n",
       "      <td>False</td>\n",
       "      <td>na</td>\n",
       "      <td>153233</td>\n",
       "    </tr>\n",
       "    <tr>\n",
       "      <th>1</th>\n",
       "      <td>16809</td>\n",
       "      <td>Károly Teppert</td>\n",
       "      <td>21.0</td>\n",
       "      <td>M</td>\n",
       "      <td>NaN</td>\n",
       "      <td>NaN</td>\n",
       "      <td>Cycling Road</td>\n",
       "      <td>Hungary</td>\n",
       "      <td>HUN</td>\n",
       "      <td>1912</td>\n",
       "      <td>Summer</td>\n",
       "      <td>True</td>\n",
       "      <td>na</td>\n",
       "      <td>153234</td>\n",
       "    </tr>\n",
       "    <tr>\n",
       "      <th>2</th>\n",
       "      <td>43737</td>\n",
       "      <td>Andrzej Socharski</td>\n",
       "      <td>29.0</td>\n",
       "      <td>M</td>\n",
       "      <td>173.0</td>\n",
       "      <td>72.0</td>\n",
       "      <td>Shooting</td>\n",
       "      <td>Poland</td>\n",
       "      <td>POL</td>\n",
       "      <td>1976</td>\n",
       "      <td>Summer</td>\n",
       "      <td>False</td>\n",
       "      <td>na</td>\n",
       "      <td>51745</td>\n",
       "    </tr>\n",
       "    <tr>\n",
       "      <th>3</th>\n",
       "      <td>50147</td>\n",
       "      <td>Nathalie Wunderlich</td>\n",
       "      <td>21.0</td>\n",
       "      <td>F</td>\n",
       "      <td>170.0</td>\n",
       "      <td>50.0</td>\n",
       "      <td>Swimming</td>\n",
       "      <td>Switzerland</td>\n",
       "      <td>SUI</td>\n",
       "      <td>1992</td>\n",
       "      <td>Summer</td>\n",
       "      <td>False</td>\n",
       "      <td>na</td>\n",
       "      <td>7860</td>\n",
       "    </tr>\n",
       "    <tr>\n",
       "      <th>4</th>\n",
       "      <td>50147</td>\n",
       "      <td>Nathalie Wunderlich</td>\n",
       "      <td>21.0</td>\n",
       "      <td>F</td>\n",
       "      <td>170.0</td>\n",
       "      <td>50.0</td>\n",
       "      <td>Swimming</td>\n",
       "      <td>Switzerland</td>\n",
       "      <td>SUI</td>\n",
       "      <td>1992</td>\n",
       "      <td>Summer</td>\n",
       "      <td>False</td>\n",
       "      <td>na</td>\n",
       "      <td>7870</td>\n",
       "    </tr>\n",
       "  </tbody>\n",
       "</table>\n",
       "</div>"
      ],
      "text/plain": [
       "   Athlete_ID                 Name   Age Gender  Height(cm)  Weight(kg)  \\\n",
       "0       16809       Károly Teppert  21.0      M         NaN         NaN   \n",
       "1       16809       Károly Teppert  21.0      M         NaN         NaN   \n",
       "2       43737    Andrzej Socharski  29.0      M       173.0        72.0   \n",
       "3       50147  Nathalie Wunderlich  21.0      F       170.0        50.0   \n",
       "4       50147  Nathalie Wunderlich  21.0      F       170.0        50.0   \n",
       "\n",
       "          Sport  Country_Name Country_Code  Year  Season  isTeamSport Medal  \\\n",
       "0  Cycling Road       Hungary          HUN  1912  Summer        False    na   \n",
       "1  Cycling Road       Hungary          HUN  1912  Summer         True    na   \n",
       "2      Shooting        Poland          POL  1976  Summer        False    na   \n",
       "3      Swimming   Switzerland          SUI  1992  Summer        False    na   \n",
       "4      Swimming   Switzerland          SUI  1992  Summer        False    na   \n",
       "\n",
       "   Result_ID  \n",
       "0     153233  \n",
       "1     153234  \n",
       "2      51745  \n",
       "3       7860  \n",
       "4       7870  "
      ]
     },
     "execution_count": 169,
     "metadata": {},
     "output_type": "execute_result"
    }
   ],
   "source": [
    "df = df.rename(columns={'Sex': 'Gender'})\n",
    "df.head(5)"
   ]
  },
  {
   "cell_type": "code",
   "execution_count": 170,
   "id": "7327f4a6-28e9-4718-8f07-bb2a05b50fad",
   "metadata": {
    "tags": []
   },
   "outputs": [],
   "source": [
    "# Define the medal colors\n",
    "color_scale = {'Gold': 'gold', 'Silver': 'silver', 'Bronze': 'brown'}"
   ]
  },
  {
   "cell_type": "code",
   "execution_count": 171,
   "id": "098a447b-126d-43f2-93c1-8f9657575715",
   "metadata": {},
   "outputs": [],
   "source": [
    "# define a function to update the plot based on the dropdown values\n",
    "def filter_data(df, gender, country=None, sport=None):\n",
    "    if gender != 'All':\n",
    "        filtered_df = filtered_df[filtered_df['Gender'] == gender]\n",
    "    if country != 'All':\n",
    "        filtered_df = filtered_df[filtered_df['Country_Name'] == country]\n",
    "    if sport != 'All':\n",
    "        filtered_df = filtered_df[filtered_df['Sport'] == sport]"
   ]
  },
  {
   "cell_type": "code",
   "execution_count": 172,
   "id": "d3c3fccf-d043-4a8c-a1c7-154fd207faff",
   "metadata": {
    "tags": []
   },
   "outputs": [],
   "source": [
    "# Define the dropdown menus\n",
    "gender_dropdown = widgets.Dropdown(\n",
    "    options=['Both', 'M', 'F'],\n",
    "    value='Both',\n",
    "    description='Gender:')\n",
    "\n",
    "sports = [\"ALL\"] + df['Sport'].unique().tolist()\n",
    "sports.sort()\n",
    "sport_dropdown = widgets.Dropdown(options=sports, value=\"ALL\", description=\"Sport:\")\n",
    "\n",
    "countries = [\"ALL\"] + df['Country_Name'].unique().tolist()\n",
    "countries.sort()\n",
    "country_dropdown = widgets.Dropdown(options=countries, value=\"ALL\", description='Country:')"
   ]
  },
  {
   "cell_type": "code",
   "execution_count": 173,
   "id": "875b2683-04e0-49aa-a964-ed8cf2defbb9",
   "metadata": {},
   "outputs": [],
   "source": [
    "# filter out rows where no medal was received\n",
    "filtered_df = filtered_df[~(filtered_df['Medal'] == 'na')]"
   ]
  },
  {
   "cell_type": "code",
   "execution_count": 174,
   "id": "b27b1642-458d-4418-8d1f-d9271f242dda",
   "metadata": {},
   "outputs": [],
   "source": [
    "# Create dropdowns\n",
    "gender_dropdown = widgets.Dropdown(options=['All'] + list(df['Gender'].unique()), description='Gender')\n",
    "country_dropdown = widgets.Dropdown(options=['All'] + list(df['Country_Name'].unique()), description='Country')\n",
    "sport_dropdown = widgets.Dropdown(options=['All'] + list(df['Sport'].unique()), description='Sport')"
   ]
  },
  {
   "cell_type": "code",
   "execution_count": 175,
   "id": "588ca157-5a12-4df0-9f73-0fe31e431b9c",
   "metadata": {
    "tags": []
   },
   "outputs": [],
   "source": [
    "# Define the callback functions\n",
    "def on_gender_change(change):\n",
    "    update_scatter_plot(change.new, gender_dropdown.value)\n",
    "    \n",
    "def on_sport_change(change):\n",
    "    update_scatter_plot(change.new, sport_dropdown.value)\n",
    "    \n",
    "def on_country_change(change):\n",
    "    update_scatter_plot(change.new, country_dropdown.value)"
   ]
  },
  {
   "cell_type": "code",
   "execution_count": 176,
   "id": "0a9539d6-4de5-458e-bd0c-618e74dc6913",
   "metadata": {
    "tags": []
   },
   "outputs": [],
   "source": [
    "# create a pivot table to count medals by age and medal type\n",
    "medal_counts = pd.pivot_table(filtered_df, index=['Age'], columns='Medal', values='Name', aggfunc='count', fill_value=0)"
   ]
  },
  {
   "cell_type": "code",
   "execution_count": 177,
   "id": "338a8c55-7259-44c1-8165-81895eadaabf",
   "metadata": {},
   "outputs": [
    {
     "data": {
      "text/plain": [
       "Text(0, 0.5, 'Medal Count')"
      ]
     },
     "execution_count": 177,
     "metadata": {},
     "output_type": "execute_result"
    },
    {
     "data": {
      "image/png": "[encoded data removed]",
      "text/plain": [
       "<Figure size 640x480 with 1 Axes>"
      ]
     },
     "metadata": {},
     "output_type": "display_data"
    }
   ],
   "source": [
    "# create stacked bar chart\n",
    "medal_counts.plot(kind='bar', stacked=True)\n",
    "\n",
    "# set x and y axis labels\n",
    "plt.xlabel('Age')\n",
    "plt.ylabel('Medal Count')"
   ]
  },
  {
   "cell_type": "code",
   "execution_count": 178,
   "id": "da0cd200-8535-4867-b0a2-97eb24cf3ced",
   "metadata": {
    "tags": []
   },
   "outputs": [],
   "source": [
    "# Register the callback functions\n",
    "gender_dropdown.observe(on_gender_change, names='value')\n",
    "sport_dropdown.observe(on_sport_change, names='value')\n",
    "country_dropdown.observe(on_country_change, names='value')"
   ]
  },
  {
   "cell_type": "code",
   "execution_count": 180,
   "id": "2506d93f-849f-4199-adcc-9de58a583d72",
   "metadata": {
    "tags": []
   },
   "outputs": [
    {
     "data": {
      "application/vnd.jupyter.widget-view+json": {
       "model_id": "904b81a99c194092b56543d95b067d8a",
       "version_major": 2,
       "version_minor": 0
      },
      "text/plain": [
       "Dropdown(description='Gender', index=2, options=('All', 'M', 'F'), value='F')"
      ]
     },
     "metadata": {},
     "output_type": "display_data"
    },
    {
     "data": {
      "application/vnd.jupyter.widget-view+json": {
       "model_id": "3c8e414c6c8642598ad753a61a45e12f",
       "version_major": 2,
       "version_minor": 0
      },
      "text/plain": [
       "Dropdown(description='Sport', index=12, options=('All', 'Cycling Road', 'Shooting', 'Swimming', 'Basketball', …"
      ]
     },
     "metadata": {},
     "output_type": "display_data"
    },
    {
     "data": {
      "application/vnd.jupyter.widget-view+json": {
       "model_id": "c453ea551d644c71a2be8047ff5e8eea",
       "version_major": 2,
       "version_minor": 0
      },
      "text/plain": [
       "Dropdown(description='Country', options=('All', ' Hungary', ' Poland', ' Switzerland', ' Yugoslavia', ' United…"
      ]
     },
     "metadata": {},
     "output_type": "display_data"
    }
   ],
   "source": [
    "# Display the dropdown menus\n",
    "display(gender_dropdown)\n",
    "display(sport_dropdown)\n",
    "display(country_dropdown)"
   ]
  },
  {
   "cell_type": "code",
   "execution_count": 181,
   "id": "dd110fea-748a-4648-b27e-605bfdd928cc",
   "metadata": {
    "tags": []
   },
   "outputs": [],
   "source": [
    "# plot dropdowns\n",
    "update_plot(gender_dropdown.value, sport_dropdown.value, country_dropdown.value)"
   ]
  },
  {
   "cell_type": "code",
   "execution_count": null,
   "id": "1302a9ae-49ec-4205-ae6e-0cb3d245fedf",
   "metadata": {},
   "outputs": [],
   "source": []
  },
  {
   "cell_type": "code",
   "execution_count": null,
   "id": "1f7d38c1-7a2a-48e5-8fcb-7fca4c8d45e6",
   "metadata": {},
   "outputs": [],
   "source": []
  },
  {
   "cell_type": "code",
   "execution_count": null,
   "id": "0d07310e-dfad-452c-b8c1-89750dbe5688",
   "metadata": {},
   "outputs": [],
   "source": []
  }
 ],
 "metadata": {
  "kernelspec": {
   "display_name": "mlenv",
   "language": "python",
   "name": "mlenv"
  },
  "language_info": {
   "codemirror_mode": {
    "name": "ipython",
    "version": 3
   },
   "file_extension": ".py",
   "mimetype": "text/x-python",
   "name": "python",
   "nbconvert_exporter": "python",
   "pygments_lexer": "ipython3",
   "version": "3.7.13"
  }
 },
 "nbformat": 4,
 "nbformat_minor": 5
}
