{
 "cells": [
  {
   "cell_type": "code",
   "execution_count": 34,
   "id": "fdc9dea9-977d-47ec-a607-c4302a010733",
   "metadata": {},
   "outputs": [],
   "source": [
    "\n",
    "import pandas as pd\n",
    "import panel as pn\n",
    "import panel.widgets as pnw\n",
    "from panel.pane import Plotly\n",
    "pn.extension('tabulator')\n",
    "import param\n",
    "\n",
    "import hvplot.pandas"
   ]
  },
  {
   "cell_type": "code",
   "execution_count": 35,
   "id": "898340f2",
   "metadata": {
    "scrolled": true
   },
   "outputs": [
    {
     "data": {
      "text/html": [
       "<div>\n",
       "<style scoped>\n",
       "    .dataframe tbody tr th:only-of-type {\n",
       "        vertical-align: middle;\n",
       "    }\n",
       "\n",
       "    .dataframe tbody tr th {\n",
       "        vertical-align: top;\n",
       "    }\n",
       "\n",
       "    .dataframe thead th {\n",
       "        text-align: right;\n",
       "    }\n",
       "</style>\n",
       "<table border=\"1\" class=\"dataframe\">\n",
       "  <thead>\n",
       "    <tr style=\"text-align: right;\">\n",
       "      <th></th>\n",
       "      <th>Unnamed: 0</th>\n",
       "      <th>Country_Name</th>\n",
       "      <th>Country_Code</th>\n",
       "      <th>Year</th>\n",
       "      <th>Season</th>\n",
       "      <th>Population</th>\n",
       "      <th>GDP</th>\n",
       "      <th>GDP_Per_Capita</th>\n",
       "      <th>Y_Gold</th>\n",
       "      <th>Y_Silver</th>\n",
       "      <th>...</th>\n",
       "      <th>A_Bronze</th>\n",
       "      <th>A_Total</th>\n",
       "      <th>Y_Capita_Per_Medal</th>\n",
       "      <th>A_Capita_Per_Medal</th>\n",
       "      <th>Y_Capita_Per_GDP</th>\n",
       "      <th>A_Capita_Per_GDP</th>\n",
       "      <th>A_Score</th>\n",
       "      <th>Y_Score</th>\n",
       "      <th>Y_Score_Per_Capita</th>\n",
       "      <th>A_Score_Per_Capita</th>\n",
       "    </tr>\n",
       "  </thead>\n",
       "  <tbody>\n",
       "    <tr>\n",
       "      <th>0</th>\n",
       "      <td>88</td>\n",
       "      <td>Afghanistan</td>\n",
       "      <td>AFG</td>\n",
       "      <td>1960</td>\n",
       "      <td>NaN</td>\n",
       "      <td>8622466.0</td>\n",
       "      <td>5.377778e+08</td>\n",
       "      <td>62.369375</td>\n",
       "      <td>0.0</td>\n",
       "      <td>0.0</td>\n",
       "      <td>...</td>\n",
       "      <td>0.0</td>\n",
       "      <td>0.0</td>\n",
       "      <td>0.000000e+00</td>\n",
       "      <td>0.000000e+00</td>\n",
       "      <td>0.000000e+00</td>\n",
       "      <td>0.000000e+00</td>\n",
       "      <td>0.0</td>\n",
       "      <td>0.0</td>\n",
       "      <td>0.000000e+00</td>\n",
       "      <td>0.000000e+00</td>\n",
       "    </tr>\n",
       "    <tr>\n",
       "      <th>1</th>\n",
       "      <td>0</td>\n",
       "      <td>Argentina</td>\n",
       "      <td>ARG</td>\n",
       "      <td>1960</td>\n",
       "      <td>Summer</td>\n",
       "      <td>20349744.0</td>\n",
       "      <td>0.000000e+00</td>\n",
       "      <td>0.000000</td>\n",
       "      <td>0.0</td>\n",
       "      <td>1.0</td>\n",
       "      <td>...</td>\n",
       "      <td>1.0</td>\n",
       "      <td>2.0</td>\n",
       "      <td>9.828133e-08</td>\n",
       "      <td>9.828133e-08</td>\n",
       "      <td>0.000000e+00</td>\n",
       "      <td>0.000000e+00</td>\n",
       "      <td>3.0</td>\n",
       "      <td>3.0</td>\n",
       "      <td>6.783248e+06</td>\n",
       "      <td>6.783248e+06</td>\n",
       "    </tr>\n",
       "    <tr>\n",
       "      <th>2</th>\n",
       "      <td>75</td>\n",
       "      <td>Armenia</td>\n",
       "      <td>ARM</td>\n",
       "      <td>1960</td>\n",
       "      <td>NaN</td>\n",
       "      <td>1904148.0</td>\n",
       "      <td>0.000000e+00</td>\n",
       "      <td>0.000000</td>\n",
       "      <td>0.0</td>\n",
       "      <td>0.0</td>\n",
       "      <td>...</td>\n",
       "      <td>0.0</td>\n",
       "      <td>0.0</td>\n",
       "      <td>0.000000e+00</td>\n",
       "      <td>0.000000e+00</td>\n",
       "      <td>NaN</td>\n",
       "      <td>NaN</td>\n",
       "      <td>0.0</td>\n",
       "      <td>0.0</td>\n",
       "      <td>0.000000e+00</td>\n",
       "      <td>0.000000e+00</td>\n",
       "    </tr>\n",
       "    <tr>\n",
       "      <th>3</th>\n",
       "      <td>1</td>\n",
       "      <td>Australia</td>\n",
       "      <td>AUS</td>\n",
       "      <td>1960</td>\n",
       "      <td>Summer</td>\n",
       "      <td>10276477.0</td>\n",
       "      <td>1.860567e+10</td>\n",
       "      <td>1810.510249</td>\n",
       "      <td>8.0</td>\n",
       "      <td>8.0</td>\n",
       "      <td>...</td>\n",
       "      <td>6.0</td>\n",
       "      <td>22.0</td>\n",
       "      <td>2.140811e-06</td>\n",
       "      <td>2.140811e-06</td>\n",
       "      <td>1.182435e-09</td>\n",
       "      <td>1.182435e-09</td>\n",
       "      <td>46.0</td>\n",
       "      <td>46.0</td>\n",
       "      <td>2.234017e+05</td>\n",
       "      <td>2.234017e+05</td>\n",
       "    </tr>\n",
       "    <tr>\n",
       "      <th>4</th>\n",
       "      <td>2</td>\n",
       "      <td>Austria</td>\n",
       "      <td>AUT</td>\n",
       "      <td>1960</td>\n",
       "      <td>Summer</td>\n",
       "      <td>7047539.0</td>\n",
       "      <td>6.592694e+09</td>\n",
       "      <td>935.460427</td>\n",
       "      <td>1.0</td>\n",
       "      <td>1.0</td>\n",
       "      <td>...</td>\n",
       "      <td>0.0</td>\n",
       "      <td>2.0</td>\n",
       "      <td>2.837870e-07</td>\n",
       "      <td>2.837870e-07</td>\n",
       "      <td>3.033661e-10</td>\n",
       "      <td>3.033661e-10</td>\n",
       "      <td>5.0</td>\n",
       "      <td>5.0</td>\n",
       "      <td>1.409508e+06</td>\n",
       "      <td>1.409508e+06</td>\n",
       "    </tr>\n",
       "  </tbody>\n",
       "</table>\n",
       "<p>5 rows × 24 columns</p>\n",
       "</div>"
      ],
      "text/plain": [
       "   Unnamed: 0 Country_Name Country_Code  Year  Season  Population  \\\n",
       "0          88  Afghanistan          AFG  1960     NaN   8622466.0   \n",
       "1           0    Argentina          ARG  1960  Summer  20349744.0   \n",
       "2          75      Armenia          ARM  1960     NaN   1904148.0   \n",
       "3           1    Australia          AUS  1960  Summer  10276477.0   \n",
       "4           2      Austria          AUT  1960  Summer   7047539.0   \n",
       "\n",
       "            GDP  GDP_Per_Capita  Y_Gold  Y_Silver  ...  A_Bronze  A_Total  \\\n",
       "0  5.377778e+08       62.369375     0.0       0.0  ...       0.0      0.0   \n",
       "1  0.000000e+00        0.000000     0.0       1.0  ...       1.0      2.0   \n",
       "2  0.000000e+00        0.000000     0.0       0.0  ...       0.0      0.0   \n",
       "3  1.860567e+10     1810.510249     8.0       8.0  ...       6.0     22.0   \n",
       "4  6.592694e+09      935.460427     1.0       1.0  ...       0.0      2.0   \n",
       "\n",
       "   Y_Capita_Per_Medal  A_Capita_Per_Medal  Y_Capita_Per_GDP  A_Capita_Per_GDP  \\\n",
       "0        0.000000e+00        0.000000e+00      0.000000e+00      0.000000e+00   \n",
       "1        9.828133e-08        9.828133e-08      0.000000e+00      0.000000e+00   \n",
       "2        0.000000e+00        0.000000e+00               NaN               NaN   \n",
       "3        2.140811e-06        2.140811e-06      1.182435e-09      1.182435e-09   \n",
       "4        2.837870e-07        2.837870e-07      3.033661e-10      3.033661e-10   \n",
       "\n",
       "   A_Score  Y_Score  Y_Score_Per_Capita  A_Score_Per_Capita  \n",
       "0      0.0      0.0        0.000000e+00        0.000000e+00  \n",
       "1      3.0      3.0        6.783248e+06        6.783248e+06  \n",
       "2      0.0      0.0        0.000000e+00        0.000000e+00  \n",
       "3     46.0     46.0        2.234017e+05        2.234017e+05  \n",
       "4      5.0      5.0        1.409508e+06        1.409508e+06  \n",
       "\n",
       "[5 rows x 24 columns]"
      ]
     },
     "execution_count": 35,
     "metadata": {},
     "output_type": "execute_result"
    }
   ],
   "source": [
    "df = pd.read_csv('olympic_data_country_medal_year.csv')\n",
    "df.head()"
   ]
  },
  {
   "cell_type": "code",
   "execution_count": 36,
   "id": "9a6546fb",
   "metadata": {},
   "outputs": [],
   "source": [
    "# cache data to improve dashboard performance\n",
    "if 'data' not in pn.state.cache.keys():\n",
    "\n",
    "    df\n",
    "\n",
    "    pn.state.cache['data'] = df.copy()\n",
    "\n",
    "else: \n",
    "\n",
    "    df= pn.state.cache['data']"
   ]
  },
  {
   "cell_type": "code",
   "execution_count": 37,
   "id": "d55ef8d9",
   "metadata": {},
   "outputs": [],
   "source": [
    "idf = df.interactive()"
   ]
  },
  {
   "cell_type": "markdown",
   "id": "ef1d523e-0409-4024-9783-2b654b8f9d53",
   "metadata": {},
   "source": [
    "## Creating Dashboard"
   ]
  },
  {
   "cell_type": "code",
   "execution_count": 38,
   "id": "dd3427ac",
   "metadata": {},
   "outputs": [
    {
     "data": {
      "text/plain": [
       "Index(['Unnamed: 0', 'Country_Name', 'Country_Code', 'Year', 'Season',\n",
       "       'Population', 'GDP', 'GDP_Per_Capita', 'Y_Gold', 'Y_Silver', 'Y_Bronze',\n",
       "       'Y_Total', 'A_Gold', 'A_Silver', 'A_Bronze', 'A_Total',\n",
       "       'Y_Capita_Per_Medal', 'A_Capita_Per_Medal', 'Y_Capita_Per_GDP',\n",
       "       'A_Capita_Per_GDP', 'A_Score', 'Y_Score', 'Y_Score_Per_Capita',\n",
       "       'A_Score_Per_Capita'],\n",
       "      dtype='object')"
      ]
     },
     "execution_count": 38,
     "metadata": {},
     "output_type": "execute_result"
    }
   ],
   "source": [
    "line_data = df[(df['Country_Name'] == 'China') & (df['Season'] == 'Summer')]\n",
    "line_data.columns"
   ]
  },
  {
   "cell_type": "code",
   "execution_count": 39,
   "id": "7557f67a",
   "metadata": {},
   "outputs": [
    {
     "name": "stderr",
     "output_type": "stream",
     "text": [
      "C:\\Users\\ponen\\AppData\\Roaming\\Python\\Python37\\site-packages\\pandas\\core\\frame.py:3678: SettingWithCopyWarning:\n",
      "\n",
      "\n",
      "A value is trying to be set on a copy of a slice from a DataFrame.\n",
      "Try using .loc[row_indexer,col_indexer] = value instead\n",
      "\n",
      "See the caveats in the documentation: https://pandas.pydata.org/pandas-docs/stable/user_guide/indexing.html#returning-a-view-versus-a-copy\n",
      "\n"
     ]
    }
   ],
   "source": [
    "from sklearn.preprocessing import minmax_scale\n",
    "\n",
    "line_data[['Population', 'GDP', 'GDP_Per_Capita', 'Y_Gold', 'Y_Silver', 'Y_Bronze',\n",
    "       'Y_Total', 'A_Gold', 'A_Silver', 'A_Bronze', 'A_Total',\n",
    "       'Y_Capita_Per_Medal', 'A_Capita_Per_Medal', 'Y_Capita_Per_GDP',\n",
    "       'A_Capita_Per_GDP', 'A_Score', 'Y_Score', 'Y_Score_Per_Capita',\n",
    "       'A_Score_Per_Capita']] = minmax_scale(line_data[['Population', 'GDP', 'GDP_Per_Capita', 'Y_Gold', 'Y_Silver', 'Y_Bronze',\n",
    "       'Y_Total', 'A_Gold', 'A_Silver', 'A_Bronze', 'A_Total',\n",
    "       'Y_Capita_Per_Medal', 'A_Capita_Per_Medal', 'Y_Capita_Per_GDP',\n",
    "       'A_Capita_Per_GDP', 'A_Score', 'Y_Score', 'Y_Score_Per_Capita',\n",
    "       'A_Score_Per_Capita']])"
   ]
  },
  {
   "cell_type": "code",
   "execution_count": 40,
   "id": "c7620c5f",
   "metadata": {},
   "outputs": [
    {
     "data": {
      "text/html": [
       "<div>\n",
       "<style scoped>\n",
       "    .dataframe tbody tr th:only-of-type {\n",
       "        vertical-align: middle;\n",
       "    }\n",
       "\n",
       "    .dataframe tbody tr th {\n",
       "        vertical-align: top;\n",
       "    }\n",
       "\n",
       "    .dataframe thead th {\n",
       "        text-align: right;\n",
       "    }\n",
       "</style>\n",
       "<table border=\"1\" class=\"dataframe\">\n",
       "  <thead>\n",
       "    <tr style=\"text-align: right;\">\n",
       "      <th></th>\n",
       "      <th>Unnamed: 0</th>\n",
       "      <th>Country_Name</th>\n",
       "      <th>Country_Code</th>\n",
       "      <th>Year</th>\n",
       "      <th>Season</th>\n",
       "      <th>Population</th>\n",
       "      <th>GDP</th>\n",
       "      <th>GDP_Per_Capita</th>\n",
       "      <th>Y_Gold</th>\n",
       "      <th>Y_Silver</th>\n",
       "      <th>...</th>\n",
       "      <th>A_Bronze</th>\n",
       "      <th>A_Total</th>\n",
       "      <th>Y_Capita_Per_Medal</th>\n",
       "      <th>A_Capita_Per_Medal</th>\n",
       "      <th>Y_Capita_Per_GDP</th>\n",
       "      <th>A_Capita_Per_GDP</th>\n",
       "      <th>A_Score</th>\n",
       "      <th>Y_Score</th>\n",
       "      <th>Y_Score_Per_Capita</th>\n",
       "      <th>A_Score_Per_Capita</th>\n",
       "    </tr>\n",
       "  </thead>\n",
       "  <tbody>\n",
       "    <tr>\n",
       "      <th>114</th>\n",
       "      <td>150</td>\n",
       "      <td>China</td>\n",
       "      <td>CHN</td>\n",
       "      <td>1964</td>\n",
       "      <td>Summer</td>\n",
       "      <td>0.000000</td>\n",
       "      <td>0.000000</td>\n",
       "      <td>0.000000</td>\n",
       "      <td>0.0</td>\n",
       "      <td>0.0</td>\n",
       "      <td>...</td>\n",
       "      <td>0.0</td>\n",
       "      <td>0.0</td>\n",
       "      <td>0.0</td>\n",
       "      <td>0.0</td>\n",
       "      <td>0.0</td>\n",
       "      <td>0.0</td>\n",
       "      <td>0.0</td>\n",
       "      <td>0.0</td>\n",
       "      <td>0.0</td>\n",
       "      <td>0.0</td>\n",
       "    </tr>\n",
       "    <tr>\n",
       "      <th>212</th>\n",
       "      <td>249</td>\n",
       "      <td>China</td>\n",
       "      <td>CHN</td>\n",
       "      <td>1968</td>\n",
       "      <td>Summer</td>\n",
       "      <td>0.106847</td>\n",
       "      <td>0.000761</td>\n",
       "      <td>0.000579</td>\n",
       "      <td>0.0</td>\n",
       "      <td>0.0</td>\n",
       "      <td>...</td>\n",
       "      <td>0.0</td>\n",
       "      <td>0.0</td>\n",
       "      <td>0.0</td>\n",
       "      <td>0.0</td>\n",
       "      <td>0.0</td>\n",
       "      <td>0.0</td>\n",
       "      <td>0.0</td>\n",
       "      <td>0.0</td>\n",
       "      <td>0.0</td>\n",
       "      <td>0.0</td>\n",
       "    </tr>\n",
       "    <tr>\n",
       "      <th>311</th>\n",
       "      <td>350</td>\n",
       "      <td>China</td>\n",
       "      <td>CHN</td>\n",
       "      <td>1972</td>\n",
       "      <td>Summer</td>\n",
       "      <td>0.229640</td>\n",
       "      <td>0.003690</td>\n",
       "      <td>0.004493</td>\n",
       "      <td>0.0</td>\n",
       "      <td>0.0</td>\n",
       "      <td>...</td>\n",
       "      <td>0.0</td>\n",
       "      <td>0.0</td>\n",
       "      <td>0.0</td>\n",
       "      <td>0.0</td>\n",
       "      <td>0.0</td>\n",
       "      <td>0.0</td>\n",
       "      <td>0.0</td>\n",
       "      <td>0.0</td>\n",
       "      <td>0.0</td>\n",
       "      <td>0.0</td>\n",
       "    </tr>\n",
       "    <tr>\n",
       "      <th>412</th>\n",
       "      <td>449</td>\n",
       "      <td>China</td>\n",
       "      <td>CHN</td>\n",
       "      <td>1976</td>\n",
       "      <td>Summer</td>\n",
       "      <td>0.325965</td>\n",
       "      <td>0.006442</td>\n",
       "      <td>0.007741</td>\n",
       "      <td>0.0</td>\n",
       "      <td>0.0</td>\n",
       "      <td>...</td>\n",
       "      <td>0.0</td>\n",
       "      <td>0.0</td>\n",
       "      <td>0.0</td>\n",
       "      <td>0.0</td>\n",
       "      <td>0.0</td>\n",
       "      <td>0.0</td>\n",
       "      <td>0.0</td>\n",
       "      <td>0.0</td>\n",
       "      <td>0.0</td>\n",
       "      <td>0.0</td>\n",
       "    </tr>\n",
       "    <tr>\n",
       "      <th>510</th>\n",
       "      <td>546</td>\n",
       "      <td>China</td>\n",
       "      <td>CHN</td>\n",
       "      <td>1980</td>\n",
       "      <td>Summer</td>\n",
       "      <td>0.396888</td>\n",
       "      <td>0.008986</td>\n",
       "      <td>0.010588</td>\n",
       "      <td>0.0</td>\n",
       "      <td>0.0</td>\n",
       "      <td>...</td>\n",
       "      <td>0.0</td>\n",
       "      <td>0.0</td>\n",
       "      <td>0.0</td>\n",
       "      <td>0.0</td>\n",
       "      <td>0.0</td>\n",
       "      <td>0.0</td>\n",
       "      <td>0.0</td>\n",
       "      <td>0.0</td>\n",
       "      <td>0.0</td>\n",
       "      <td>0.0</td>\n",
       "    </tr>\n",
       "  </tbody>\n",
       "</table>\n",
       "<p>5 rows × 24 columns</p>\n",
       "</div>"
      ],
      "text/plain": [
       "     Unnamed: 0 Country_Name Country_Code  Year  Season  Population       GDP  \\\n",
       "114         150        China          CHN  1964  Summer    0.000000  0.000000   \n",
       "212         249        China          CHN  1968  Summer    0.106847  0.000761   \n",
       "311         350        China          CHN  1972  Summer    0.229640  0.003690   \n",
       "412         449        China          CHN  1976  Summer    0.325965  0.006442   \n",
       "510         546        China          CHN  1980  Summer    0.396888  0.008986   \n",
       "\n",
       "     GDP_Per_Capita  Y_Gold  Y_Silver  ...  A_Bronze  A_Total  \\\n",
       "114        0.000000     0.0       0.0  ...       0.0      0.0   \n",
       "212        0.000579     0.0       0.0  ...       0.0      0.0   \n",
       "311        0.004493     0.0       0.0  ...       0.0      0.0   \n",
       "412        0.007741     0.0       0.0  ...       0.0      0.0   \n",
       "510        0.010588     0.0       0.0  ...       0.0      0.0   \n",
       "\n",
       "     Y_Capita_Per_Medal  A_Capita_Per_Medal  Y_Capita_Per_GDP  \\\n",
       "114                 0.0                 0.0               0.0   \n",
       "212                 0.0                 0.0               0.0   \n",
       "311                 0.0                 0.0               0.0   \n",
       "412                 0.0                 0.0               0.0   \n",
       "510                 0.0                 0.0               0.0   \n",
       "\n",
       "     A_Capita_Per_GDP  A_Score  Y_Score  Y_Score_Per_Capita  \\\n",
       "114               0.0      0.0      0.0                 0.0   \n",
       "212               0.0      0.0      0.0                 0.0   \n",
       "311               0.0      0.0      0.0                 0.0   \n",
       "412               0.0      0.0      0.0                 0.0   \n",
       "510               0.0      0.0      0.0                 0.0   \n",
       "\n",
       "     A_Score_Per_Capita  \n",
       "114                 0.0  \n",
       "212                 0.0  \n",
       "311                 0.0  \n",
       "412                 0.0  \n",
       "510                 0.0  \n",
       "\n",
       "[5 rows x 24 columns]"
      ]
     },
     "execution_count": 40,
     "metadata": {},
     "output_type": "execute_result"
    }
   ],
   "source": [
    "line_data. head()"
   ]
  },
  {
   "cell_type": "code",
   "execution_count": 41,
   "id": "9348465f",
   "metadata": {},
   "outputs": [
    {
     "data": {
      "application/vnd.plotly.v1+json": {
       "config": {
        "plotlyServerURL": "https://plot.ly"
       },
       "data": [
        {
         "line": {
          "color": "red"
         },
         "mode": "lines",
         "name": "Population",
         "type": "scatter",
         "x": [
          1964,
          1968,
          1972,
          1976,
          1980,
          1984,
          1988,
          1992,
          1996,
          2000,
          2004,
          2008,
          2012,
          2016,
          2020
         ],
         "y": [
          0,
          0.1068474699927745,
          0.22964033420087138,
          0.32596510673522794,
          0.39688808760496397,
          0.47488232116675666,
          0.5658054423391256,
          0.6546731299412835,
          0.7284442542564312,
          0.7917137265080779,
          0.8386168966460655,
          0.8787153890942764,
          0.9201537716855258,
          0.9672954562992374,
          1
         ]
        },
        {
         "line": {
          "color": "blue"
         },
         "mode": "lines",
         "name": "GDP",
         "type": "scatter",
         "x": [
          1964,
          1968,
          1972,
          1976,
          1980,
          1984,
          1988,
          1992,
          1996,
          2000,
          2004,
          2008,
          2012,
          2016,
          2020
         ],
         "y": [
          0,
          0.0007614313506381937,
          0.0036901401339837856,
          0.006441915078695732,
          0.008985587750143416,
          0.013688722923832062,
          0.017271389293823956,
          0.02510310595435388,
          0.05496583725320645,
          0.07872855057993654,
          0.12959004138469785,
          0.3099951713771248,
          0.5792002730241688,
          0.7638497747144068,
          1
         ]
        },
        {
         "line": {
          "color": "green"
         },
         "mode": "lines",
         "name": "GDP per capita",
         "type": "scatter",
         "x": [
          1964,
          1968,
          1972,
          1976,
          1980,
          1984,
          1988,
          1992,
          1996,
          2000,
          2004,
          2008,
          2012,
          2016,
          2020
         ],
         "y": [
          0,
          0.0005787139466600175,
          0.004493290396874605,
          0.007740546354838691,
          0.010588429163002934,
          0.016004327600663937,
          0.019183944168934222,
          0.027216649958132187,
          0.06043832728914527,
          0.08465169385452853,
          0.1378616623322831,
          0.32769058845541355,
          0.602054973177821,
          0.7758143939417627,
          1
         ]
        },
        {
         "marker": {
          "color": "gold"
         },
         "name": "Gold Medals",
         "type": "bar",
         "x": [
          1964,
          1968,
          1972,
          1976,
          1980,
          1984,
          1988,
          1992,
          1996,
          2000,
          2004,
          2008,
          2012,
          2016,
          2020
         ],
         "y": [
          0,
          0,
          0,
          0,
          0,
          0.3125,
          0.10416666666666666,
          0.3333333333333333,
          0.3333333333333333,
          0.5833333333333333,
          0.6666666666666666,
          1,
          0.7916666666666666,
          0.5416666666666666,
          0.7916666666666666
         ]
        },
        {
         "marker": {
          "color": "silver"
         },
         "name": "Silver Medals",
         "type": "bar",
         "x": [
          1964,
          1968,
          1972,
          1976,
          1980,
          1984,
          1988,
          1992,
          1996,
          2000,
          2004,
          2008,
          2012,
          2016,
          2020
         ],
         "y": [
          0,
          0,
          0,
          0,
          0,
          0.25,
          0.34375,
          0.6875,
          0.6875,
          0.5,
          0.53125,
          0.6875,
          0.96875,
          0.5625,
          1
         ]
        },
        {
         "marker": {
          "color": "peru"
         },
         "name": "Bronze Medals",
         "type": "bar",
         "x": [
          1964,
          1968,
          1972,
          1976,
          1980,
          1984,
          1988,
          1992,
          1996,
          2000,
          2004,
          2008,
          2012,
          2016,
          2020
         ],
         "y": [
          0,
          0,
          0,
          0,
          0,
          0.3,
          0.4,
          0.5333333333333333,
          0.4,
          0.4666666666666667,
          0.4666666666666667,
          1,
          0.7333333333333333,
          0.8666666666666667,
          0.6
         ]
        }
       ],
       "layout": {
        "template": {
         "data": {
          "bar": [
           {
            "error_x": {
             "color": "#2a3f5f"
            },
            "error_y": {
             "color": "#2a3f5f"
            },
            "marker": {
             "line": {
              "color": "#E5ECF6",
              "width": 0.5
             },
             "pattern": {
              "fillmode": "overlay",
              "size": 10,
              "solidity": 0.2
             }
            },
            "type": "bar"
           }
          ],
          "barpolar": [
           {
            "marker": {
             "line": {
              "color": "#E5ECF6",
              "width": 0.5
             },
             "pattern": {
              "fillmode": "overlay",
              "size": 10,
              "solidity": 0.2
             }
            },
            "type": "barpolar"
           }
          ],
          "carpet": [
           {
            "aaxis": {
             "endlinecolor": "#2a3f5f",
             "gridcolor": "white",
             "linecolor": "white",
             "minorgridcolor": "white",
             "startlinecolor": "#2a3f5f"
            },
            "baxis": {
             "endlinecolor": "#2a3f5f",
             "gridcolor": "white",
             "linecolor": "white",
             "minorgridcolor": "white",
             "startlinecolor": "#2a3f5f"
            },
            "type": "carpet"
           }
          ],
          "choropleth": [
           {
            "colorbar": {
             "outlinewidth": 0,
             "ticks": ""
            },
            "type": "choropleth"
           }
          ],
          "contour": [
           {
            "colorbar": {
             "outlinewidth": 0,
             "ticks": ""
            },
            "colorscale": [
             [
              0,
              "#0d0887"
             ],
             [
              0.1111111111111111,
              "#46039f"
             ],
             [
              0.2222222222222222,
              "#7201a8"
             ],
             [
              0.3333333333333333,
              "#9c179e"
             ],
             [
              0.4444444444444444,
              "#bd3786"
             ],
             [
              0.5555555555555556,
              "#d8576b"
             ],
             [
              0.6666666666666666,
              "#ed7953"
             ],
             [
              0.7777777777777778,
              "#fb9f3a"
             ],
             [
              0.8888888888888888,
              "#fdca26"
             ],
             [
              1,
              "#f0f921"
             ]
            ],
            "type": "contour"
           }
          ],
          "contourcarpet": [
           {
            "colorbar": {
             "outlinewidth": 0,
             "ticks": ""
            },
            "type": "contourcarpet"
           }
          ],
          "heatmap": [
           {
            "colorbar": {
             "outlinewidth": 0,
             "ticks": ""
            },
            "colorscale": [
             [
              0,
              "#0d0887"
             ],
             [
              0.1111111111111111,
              "#46039f"
             ],
             [
              0.2222222222222222,
              "#7201a8"
             ],
             [
              0.3333333333333333,
              "#9c179e"
             ],
             [
              0.4444444444444444,
              "#bd3786"
             ],
             [
              0.5555555555555556,
              "#d8576b"
             ],
             [
              0.6666666666666666,
              "#ed7953"
             ],
             [
              0.7777777777777778,
              "#fb9f3a"
             ],
             [
              0.8888888888888888,
              "#fdca26"
             ],
             [
              1,
              "#f0f921"
             ]
            ],
            "type": "heatmap"
           }
          ],
          "heatmapgl": [
           {
            "colorbar": {
             "outlinewidth": 0,
             "ticks": ""
            },
            "colorscale": [
             [
              0,
              "#0d0887"
             ],
             [
              0.1111111111111111,
              "#46039f"
             ],
             [
              0.2222222222222222,
              "#7201a8"
             ],
             [
              0.3333333333333333,
              "#9c179e"
             ],
             [
              0.4444444444444444,
              "#bd3786"
             ],
             [
              0.5555555555555556,
              "#d8576b"
             ],
             [
              0.6666666666666666,
              "#ed7953"
             ],
             [
              0.7777777777777778,
              "#fb9f3a"
             ],
             [
              0.8888888888888888,
              "#fdca26"
             ],
             [
              1,
              "#f0f921"
             ]
            ],
            "type": "heatmapgl"
           }
          ],
          "histogram": [
           {
            "marker": {
             "pattern": {
              "fillmode": "overlay",
              "size": 10,
              "solidity": 0.2
             }
            },
            "type": "histogram"
           }
          ],
          "histogram2d": [
           {
            "colorbar": {
             "outlinewidth": 0,
             "ticks": ""
            },
            "colorscale": [
             [
              0,
              "#0d0887"
             ],
             [
              0.1111111111111111,
              "#46039f"
             ],
             [
              0.2222222222222222,
              "#7201a8"
             ],
             [
              0.3333333333333333,
              "#9c179e"
             ],
             [
              0.4444444444444444,
              "#bd3786"
             ],
             [
              0.5555555555555556,
              "#d8576b"
             ],
             [
              0.6666666666666666,
              "#ed7953"
             ],
             [
              0.7777777777777778,
              "#fb9f3a"
             ],
             [
              0.8888888888888888,
              "#fdca26"
             ],
             [
              1,
              "#f0f921"
             ]
            ],
            "type": "histogram2d"
           }
          ],
          "histogram2dcontour": [
           {
            "colorbar": {
             "outlinewidth": 0,
             "ticks": ""
            },
            "colorscale": [
             [
              0,
              "#0d0887"
             ],
             [
              0.1111111111111111,
              "#46039f"
             ],
             [
              0.2222222222222222,
              "#7201a8"
             ],
             [
              0.3333333333333333,
              "#9c179e"
             ],
             [
              0.4444444444444444,
              "#bd3786"
             ],
             [
              0.5555555555555556,
              "#d8576b"
             ],
             [
              0.6666666666666666,
              "#ed7953"
             ],
             [
              0.7777777777777778,
              "#fb9f3a"
             ],
             [
              0.8888888888888888,
              "#fdca26"
             ],
             [
              1,
              "#f0f921"
             ]
            ],
            "type": "histogram2dcontour"
           }
          ],
          "mesh3d": [
           {
            "colorbar": {
             "outlinewidth": 0,
             "ticks": ""
            },
            "type": "mesh3d"
           }
          ],
          "parcoords": [
           {
            "line": {
             "colorbar": {
              "outlinewidth": 0,
              "ticks": ""
             }
            },
            "type": "parcoords"
           }
          ],
          "pie": [
           {
            "automargin": true,
            "type": "pie"
           }
          ],
          "scatter": [
           {
            "fillpattern": {
             "fillmode": "overlay",
             "size": 10,
             "solidity": 0.2
            },
            "type": "scatter"
           }
          ],
          "scatter3d": [
           {
            "line": {
             "colorbar": {
              "outlinewidth": 0,
              "ticks": ""
             }
            },
            "marker": {
             "colorbar": {
              "outlinewidth": 0,
              "ticks": ""
             }
            },
            "type": "scatter3d"
           }
          ],
          "scattercarpet": [
           {
            "marker": {
             "colorbar": {
              "outlinewidth": 0,
              "ticks": ""
             }
            },
            "type": "scattercarpet"
           }
          ],
          "scattergeo": [
           {
            "marker": {
             "colorbar": {
              "outlinewidth": 0,
              "ticks": ""
             }
            },
            "type": "scattergeo"
           }
          ],
          "scattergl": [
           {
            "marker": {
             "colorbar": {
              "outlinewidth": 0,
              "ticks": ""
             }
            },
            "type": "scattergl"
           }
          ],
          "scattermapbox": [
           {
            "marker": {
             "colorbar": {
              "outlinewidth": 0,
              "ticks": ""
             }
            },
            "type": "scattermapbox"
           }
          ],
          "scatterpolar": [
           {
            "marker": {
             "colorbar": {
              "outlinewidth": 0,
              "ticks": ""
             }
            },
            "type": "scatterpolar"
           }
          ],
          "scatterpolargl": [
           {
            "marker": {
             "colorbar": {
              "outlinewidth": 0,
              "ticks": ""
             }
            },
            "type": "scatterpolargl"
           }
          ],
          "scatterternary": [
           {
            "marker": {
             "colorbar": {
              "outlinewidth": 0,
              "ticks": ""
             }
            },
            "type": "scatterternary"
           }
          ],
          "surface": [
           {
            "colorbar": {
             "outlinewidth": 0,
             "ticks": ""
            },
            "colorscale": [
             [
              0,
              "#0d0887"
             ],
             [
              0.1111111111111111,
              "#46039f"
             ],
             [
              0.2222222222222222,
              "#7201a8"
             ],
             [
              0.3333333333333333,
              "#9c179e"
             ],
             [
              0.4444444444444444,
              "#bd3786"
             ],
             [
              0.5555555555555556,
              "#d8576b"
             ],
             [
              0.6666666666666666,
              "#ed7953"
             ],
             [
              0.7777777777777778,
              "#fb9f3a"
             ],
             [
              0.8888888888888888,
              "#fdca26"
             ],
             [
              1,
              "#f0f921"
             ]
            ],
            "type": "surface"
           }
          ],
          "table": [
           {
            "cells": {
             "fill": {
              "color": "#EBF0F8"
             },
             "line": {
              "color": "white"
             }
            },
            "header": {
             "fill": {
              "color": "#C8D4E3"
             },
             "line": {
              "color": "white"
             }
            },
            "type": "table"
           }
          ]
         },
         "layout": {
          "annotationdefaults": {
           "arrowcolor": "#2a3f5f",
           "arrowhead": 0,
           "arrowwidth": 1
          },
          "autotypenumbers": "strict",
          "coloraxis": {
           "colorbar": {
            "outlinewidth": 0,
            "ticks": ""
           }
          },
          "colorscale": {
           "diverging": [
            [
             0,
             "#8e0152"
            ],
            [
             0.1,
             "#c51b7d"
            ],
            [
             0.2,
             "#de77ae"
            ],
            [
             0.3,
             "#f1b6da"
            ],
            [
             0.4,
             "#fde0ef"
            ],
            [
             0.5,
             "#f7f7f7"
            ],
            [
             0.6,
             "#e6f5d0"
            ],
            [
             0.7,
             "#b8e186"
            ],
            [
             0.8,
             "#7fbc41"
            ],
            [
             0.9,
             "#4d9221"
            ],
            [
             1,
             "#276419"
            ]
           ],
           "sequential": [
            [
             0,
             "#0d0887"
            ],
            [
             0.1111111111111111,
             "#46039f"
            ],
            [
             0.2222222222222222,
             "#7201a8"
            ],
            [
             0.3333333333333333,
             "#9c179e"
            ],
            [
             0.4444444444444444,
             "#bd3786"
            ],
            [
             0.5555555555555556,
             "#d8576b"
            ],
            [
             0.6666666666666666,
             "#ed7953"
            ],
            [
             0.7777777777777778,
             "#fb9f3a"
            ],
            [
             0.8888888888888888,
             "#fdca26"
            ],
            [
             1,
             "#f0f921"
            ]
           ],
           "sequentialminus": [
            [
             0,
             "#0d0887"
            ],
            [
             0.1111111111111111,
             "#46039f"
            ],
            [
             0.2222222222222222,
             "#7201a8"
            ],
            [
             0.3333333333333333,
             "#9c179e"
            ],
            [
             0.4444444444444444,
             "#bd3786"
            ],
            [
             0.5555555555555556,
             "#d8576b"
            ],
            [
             0.6666666666666666,
             "#ed7953"
            ],
            [
             0.7777777777777778,
             "#fb9f3a"
            ],
            [
             0.8888888888888888,
             "#fdca26"
            ],
            [
             1,
             "#f0f921"
            ]
           ]
          },
          "colorway": [
           "#636efa",
           "#EF553B",
           "#00cc96",
           "#ab63fa",
           "#FFA15A",
           "#19d3f3",
           "#FF6692",
           "#B6E880",
           "#FF97FF",
           "#FECB52"
          ],
          "font": {
           "color": "#2a3f5f"
          },
          "geo": {
           "bgcolor": "white",
           "lakecolor": "white",
           "landcolor": "#E5ECF6",
           "showlakes": true,
           "showland": true,
           "subunitcolor": "white"
          },
          "hoverlabel": {
           "align": "left"
          },
          "hovermode": "closest",
          "mapbox": {
           "style": "light"
          },
          "paper_bgcolor": "white",
          "plot_bgcolor": "#E5ECF6",
          "polar": {
           "angularaxis": {
            "gridcolor": "white",
            "linecolor": "white",
            "ticks": ""
           },
           "bgcolor": "#E5ECF6",
           "radialaxis": {
            "gridcolor": "white",
            "linecolor": "white",
            "ticks": ""
           }
          },
          "scene": {
           "xaxis": {
            "backgroundcolor": "#E5ECF6",
            "gridcolor": "white",
            "gridwidth": 2,
            "linecolor": "white",
            "showbackground": true,
            "ticks": "",
            "zerolinecolor": "white"
           },
           "yaxis": {
            "backgroundcolor": "#E5ECF6",
            "gridcolor": "white",
            "gridwidth": 2,
            "linecolor": "white",
            "showbackground": true,
            "ticks": "",
            "zerolinecolor": "white"
           },
           "zaxis": {
            "backgroundcolor": "#E5ECF6",
            "gridcolor": "white",
            "gridwidth": 2,
            "linecolor": "white",
            "showbackground": true,
            "ticks": "",
            "zerolinecolor": "white"
           }
          },
          "shapedefaults": {
           "line": {
            "color": "#2a3f5f"
           }
          },
          "ternary": {
           "aaxis": {
            "gridcolor": "white",
            "linecolor": "white",
            "ticks": ""
           },
           "baxis": {
            "gridcolor": "white",
            "linecolor": "white",
            "ticks": ""
           },
           "bgcolor": "#E5ECF6",
           "caxis": {
            "gridcolor": "white",
            "linecolor": "white",
            "ticks": ""
           }
          },
          "title": {
           "x": 0.05
          },
          "xaxis": {
           "automargin": true,
           "gridcolor": "white",
           "linecolor": "white",
           "ticks": "",
           "title": {
            "standoff": 15
           },
           "zerolinecolor": "white",
           "zerolinewidth": 2
          },
          "yaxis": {
           "automargin": true,
           "gridcolor": "white",
           "linecolor": "white",
           "ticks": "",
           "title": {
            "standoff": 15
           },
           "zerolinecolor": "white",
           "zerolinewidth": 2
          }
         }
        }
       }
      },
      "text/html": [
       "<div>                            <div id=\"dd1700b6-2a01-4997-a069-3e1dd466c295\" class=\"plotly-graph-div\" style=\"height:525px; width:100%;\"></div>            <script type=\"text/javascript\">                require([\"plotly\"], function(Plotly) {                    window.PLOTLYENV=window.PLOTLYENV || {};                                    if (document.getElementById(\"dd1700b6-2a01-4997-a069-3e1dd466c295\")) {                    Plotly.newPlot(                        \"dd1700b6-2a01-4997-a069-3e1dd466c295\",                        [{\"line\":{\"color\":\"red\"},\"mode\":\"lines\",\"name\":\"Population\",\"x\":[1964,1968,1972,1976,1980,1984,1988,1992,1996,2000,2004,2008,2012,2016,2020],\"y\":[0.0,0.1068474699927745,0.22964033420087138,0.32596510673522794,0.39688808760496397,0.47488232116675666,0.5658054423391256,0.6546731299412835,0.7284442542564312,0.7917137265080779,0.8386168966460655,0.8787153890942764,0.9201537716855258,0.9672954562992374,1.0],\"type\":\"scatter\"},{\"line\":{\"color\":\"blue\"},\"mode\":\"lines\",\"name\":\"GDP\",\"x\":[1964,1968,1972,1976,1980,1984,1988,1992,1996,2000,2004,2008,2012,2016,2020],\"y\":[0.0,0.0007614313506381937,0.0036901401339837856,0.006441915078695732,0.008985587750143416,0.013688722923832062,0.017271389293823956,0.02510310595435388,0.05496583725320645,0.07872855057993654,0.12959004138469785,0.3099951713771248,0.5792002730241688,0.7638497747144068,1.0],\"type\":\"scatter\"},{\"line\":{\"color\":\"green\"},\"mode\":\"lines\",\"name\":\"GDP per capita\",\"x\":[1964,1968,1972,1976,1980,1984,1988,1992,1996,2000,2004,2008,2012,2016,2020],\"y\":[0.0,0.0005787139466600175,0.004493290396874605,0.007740546354838691,0.010588429163002934,0.016004327600663937,0.019183944168934222,0.027216649958132187,0.06043832728914527,0.08465169385452853,0.1378616623322831,0.32769058845541355,0.602054973177821,0.7758143939417627,1.0],\"type\":\"scatter\"},{\"marker\":{\"color\":\"gold\"},\"name\":\"Gold Medals\",\"x\":[1964,1968,1972,1976,1980,1984,1988,1992,1996,2000,2004,2008,2012,2016,2020],\"y\":[0.0,0.0,0.0,0.0,0.0,0.3125,0.10416666666666666,0.3333333333333333,0.3333333333333333,0.5833333333333333,0.6666666666666666,1.0,0.7916666666666666,0.5416666666666666,0.7916666666666666],\"type\":\"bar\"},{\"marker\":{\"color\":\"silver\"},\"name\":\"Silver Medals\",\"x\":[1964,1968,1972,1976,1980,1984,1988,1992,1996,2000,2004,2008,2012,2016,2020],\"y\":[0.0,0.0,0.0,0.0,0.0,0.25,0.34375,0.6875,0.6875,0.5,0.53125,0.6875,0.96875,0.5625,1.0],\"type\":\"bar\"},{\"marker\":{\"color\":\"peru\"},\"name\":\"Bronze Medals\",\"x\":[1964,1968,1972,1976,1980,1984,1988,1992,1996,2000,2004,2008,2012,2016,2020],\"y\":[0.0,0.0,0.0,0.0,0.0,0.3,0.4,0.5333333333333333,0.4,0.4666666666666667,0.4666666666666667,1.0,0.7333333333333333,0.8666666666666667,0.6],\"type\":\"bar\"}],                        {\"template\":{\"data\":{\"histogram2dcontour\":[{\"type\":\"histogram2dcontour\",\"colorbar\":{\"outlinewidth\":0,\"ticks\":\"\"},\"colorscale\":[[0.0,\"#0d0887\"],[0.1111111111111111,\"#46039f\"],[0.2222222222222222,\"#7201a8\"],[0.3333333333333333,\"#9c179e\"],[0.4444444444444444,\"#bd3786\"],[0.5555555555555556,\"#d8576b\"],[0.6666666666666666,\"#ed7953\"],[0.7777777777777778,\"#fb9f3a\"],[0.8888888888888888,\"#fdca26\"],[1.0,\"#f0f921\"]]}],\"choropleth\":[{\"type\":\"choropleth\",\"colorbar\":{\"outlinewidth\":0,\"ticks\":\"\"}}],\"histogram2d\":[{\"type\":\"histogram2d\",\"colorbar\":{\"outlinewidth\":0,\"ticks\":\"\"},\"colorscale\":[[0.0,\"#0d0887\"],[0.1111111111111111,\"#46039f\"],[0.2222222222222222,\"#7201a8\"],[0.3333333333333333,\"#9c179e\"],[0.4444444444444444,\"#bd3786\"],[0.5555555555555556,\"#d8576b\"],[0.6666666666666666,\"#ed7953\"],[0.7777777777777778,\"#fb9f3a\"],[0.8888888888888888,\"#fdca26\"],[1.0,\"#f0f921\"]]}],\"heatmap\":[{\"type\":\"heatmap\",\"colorbar\":{\"outlinewidth\":0,\"ticks\":\"\"},\"colorscale\":[[0.0,\"#0d0887\"],[0.1111111111111111,\"#46039f\"],[0.2222222222222222,\"#7201a8\"],[0.3333333333333333,\"#9c179e\"],[0.4444444444444444,\"#bd3786\"],[0.5555555555555556,\"#d8576b\"],[0.6666666666666666,\"#ed7953\"],[0.7777777777777778,\"#fb9f3a\"],[0.8888888888888888,\"#fdca26\"],[1.0,\"#f0f921\"]]}],\"heatmapgl\":[{\"type\":\"heatmapgl\",\"colorbar\":{\"outlinewidth\":0,\"ticks\":\"\"},\"colorscale\":[[0.0,\"#0d0887\"],[0.1111111111111111,\"#46039f\"],[0.2222222222222222,\"#7201a8\"],[0.3333333333333333,\"#9c179e\"],[0.4444444444444444,\"#bd3786\"],[0.5555555555555556,\"#d8576b\"],[0.6666666666666666,\"#ed7953\"],[0.7777777777777778,\"#fb9f3a\"],[0.8888888888888888,\"#fdca26\"],[1.0,\"#f0f921\"]]}],\"contourcarpet\":[{\"type\":\"contourcarpet\",\"colorbar\":{\"outlinewidth\":0,\"ticks\":\"\"}}],\"contour\":[{\"type\":\"contour\",\"colorbar\":{\"outlinewidth\":0,\"ticks\":\"\"},\"colorscale\":[[0.0,\"#0d0887\"],[0.1111111111111111,\"#46039f\"],[0.2222222222222222,\"#7201a8\"],[0.3333333333333333,\"#9c179e\"],[0.4444444444444444,\"#bd3786\"],[0.5555555555555556,\"#d8576b\"],[0.6666666666666666,\"#ed7953\"],[0.7777777777777778,\"#fb9f3a\"],[0.8888888888888888,\"#fdca26\"],[1.0,\"#f0f921\"]]}],\"surface\":[{\"type\":\"surface\",\"colorbar\":{\"outlinewidth\":0,\"ticks\":\"\"},\"colorscale\":[[0.0,\"#0d0887\"],[0.1111111111111111,\"#46039f\"],[0.2222222222222222,\"#7201a8\"],[0.3333333333333333,\"#9c179e\"],[0.4444444444444444,\"#bd3786\"],[0.5555555555555556,\"#d8576b\"],[0.6666666666666666,\"#ed7953\"],[0.7777777777777778,\"#fb9f3a\"],[0.8888888888888888,\"#fdca26\"],[1.0,\"#f0f921\"]]}],\"mesh3d\":[{\"type\":\"mesh3d\",\"colorbar\":{\"outlinewidth\":0,\"ticks\":\"\"}}],\"scatter\":[{\"fillpattern\":{\"fillmode\":\"overlay\",\"size\":10,\"solidity\":0.2},\"type\":\"scatter\"}],\"parcoords\":[{\"type\":\"parcoords\",\"line\":{\"colorbar\":{\"outlinewidth\":0,\"ticks\":\"\"}}}],\"scatterpolargl\":[{\"type\":\"scatterpolargl\",\"marker\":{\"colorbar\":{\"outlinewidth\":0,\"ticks\":\"\"}}}],\"bar\":[{\"error_x\":{\"color\":\"#2a3f5f\"},\"error_y\":{\"color\":\"#2a3f5f\"},\"marker\":{\"line\":{\"color\":\"#E5ECF6\",\"width\":0.5},\"pattern\":{\"fillmode\":\"overlay\",\"size\":10,\"solidity\":0.2}},\"type\":\"bar\"}],\"scattergeo\":[{\"type\":\"scattergeo\",\"marker\":{\"colorbar\":{\"outlinewidth\":0,\"ticks\":\"\"}}}],\"scatterpolar\":[{\"type\":\"scatterpolar\",\"marker\":{\"colorbar\":{\"outlinewidth\":0,\"ticks\":\"\"}}}],\"histogram\":[{\"marker\":{\"pattern\":{\"fillmode\":\"overlay\",\"size\":10,\"solidity\":0.2}},\"type\":\"histogram\"}],\"scattergl\":[{\"type\":\"scattergl\",\"marker\":{\"colorbar\":{\"outlinewidth\":0,\"ticks\":\"\"}}}],\"scatter3d\":[{\"type\":\"scatter3d\",\"line\":{\"colorbar\":{\"outlinewidth\":0,\"ticks\":\"\"}},\"marker\":{\"colorbar\":{\"outlinewidth\":0,\"ticks\":\"\"}}}],\"scattermapbox\":[{\"type\":\"scattermapbox\",\"marker\":{\"colorbar\":{\"outlinewidth\":0,\"ticks\":\"\"}}}],\"scatterternary\":[{\"type\":\"scatterternary\",\"marker\":{\"colorbar\":{\"outlinewidth\":0,\"ticks\":\"\"}}}],\"scattercarpet\":[{\"type\":\"scattercarpet\",\"marker\":{\"colorbar\":{\"outlinewidth\":0,\"ticks\":\"\"}}}],\"carpet\":[{\"aaxis\":{\"endlinecolor\":\"#2a3f5f\",\"gridcolor\":\"white\",\"linecolor\":\"white\",\"minorgridcolor\":\"white\",\"startlinecolor\":\"#2a3f5f\"},\"baxis\":{\"endlinecolor\":\"#2a3f5f\",\"gridcolor\":\"white\",\"linecolor\":\"white\",\"minorgridcolor\":\"white\",\"startlinecolor\":\"#2a3f5f\"},\"type\":\"carpet\"}],\"table\":[{\"cells\":{\"fill\":{\"color\":\"#EBF0F8\"},\"line\":{\"color\":\"white\"}},\"header\":{\"fill\":{\"color\":\"#C8D4E3\"},\"line\":{\"color\":\"white\"}},\"type\":\"table\"}],\"barpolar\":[{\"marker\":{\"line\":{\"color\":\"#E5ECF6\",\"width\":0.5},\"pattern\":{\"fillmode\":\"overlay\",\"size\":10,\"solidity\":0.2}},\"type\":\"barpolar\"}],\"pie\":[{\"automargin\":true,\"type\":\"pie\"}]},\"layout\":{\"autotypenumbers\":\"strict\",\"colorway\":[\"#636efa\",\"#EF553B\",\"#00cc96\",\"#ab63fa\",\"#FFA15A\",\"#19d3f3\",\"#FF6692\",\"#B6E880\",\"#FF97FF\",\"#FECB52\"],\"font\":{\"color\":\"#2a3f5f\"},\"hovermode\":\"closest\",\"hoverlabel\":{\"align\":\"left\"},\"paper_bgcolor\":\"white\",\"plot_bgcolor\":\"#E5ECF6\",\"polar\":{\"bgcolor\":\"#E5ECF6\",\"angularaxis\":{\"gridcolor\":\"white\",\"linecolor\":\"white\",\"ticks\":\"\"},\"radialaxis\":{\"gridcolor\":\"white\",\"linecolor\":\"white\",\"ticks\":\"\"}},\"ternary\":{\"bgcolor\":\"#E5ECF6\",\"aaxis\":{\"gridcolor\":\"white\",\"linecolor\":\"white\",\"ticks\":\"\"},\"baxis\":{\"gridcolor\":\"white\",\"linecolor\":\"white\",\"ticks\":\"\"},\"caxis\":{\"gridcolor\":\"white\",\"linecolor\":\"white\",\"ticks\":\"\"}},\"coloraxis\":{\"colorbar\":{\"outlinewidth\":0,\"ticks\":\"\"}},\"colorscale\":{\"sequential\":[[0.0,\"#0d0887\"],[0.1111111111111111,\"#46039f\"],[0.2222222222222222,\"#7201a8\"],[0.3333333333333333,\"#9c179e\"],[0.4444444444444444,\"#bd3786\"],[0.5555555555555556,\"#d8576b\"],[0.6666666666666666,\"#ed7953\"],[0.7777777777777778,\"#fb9f3a\"],[0.8888888888888888,\"#fdca26\"],[1.0,\"#f0f921\"]],\"sequentialminus\":[[0.0,\"#0d0887\"],[0.1111111111111111,\"#46039f\"],[0.2222222222222222,\"#7201a8\"],[0.3333333333333333,\"#9c179e\"],[0.4444444444444444,\"#bd3786\"],[0.5555555555555556,\"#d8576b\"],[0.6666666666666666,\"#ed7953\"],[0.7777777777777778,\"#fb9f3a\"],[0.8888888888888888,\"#fdca26\"],[1.0,\"#f0f921\"]],\"diverging\":[[0,\"#8e0152\"],[0.1,\"#c51b7d\"],[0.2,\"#de77ae\"],[0.3,\"#f1b6da\"],[0.4,\"#fde0ef\"],[0.5,\"#f7f7f7\"],[0.6,\"#e6f5d0\"],[0.7,\"#b8e186\"],[0.8,\"#7fbc41\"],[0.9,\"#4d9221\"],[1,\"#276419\"]]},\"xaxis\":{\"gridcolor\":\"white\",\"linecolor\":\"white\",\"ticks\":\"\",\"title\":{\"standoff\":15},\"zerolinecolor\":\"white\",\"automargin\":true,\"zerolinewidth\":2},\"yaxis\":{\"gridcolor\":\"white\",\"linecolor\":\"white\",\"ticks\":\"\",\"title\":{\"standoff\":15},\"zerolinecolor\":\"white\",\"automargin\":true,\"zerolinewidth\":2},\"scene\":{\"xaxis\":{\"backgroundcolor\":\"#E5ECF6\",\"gridcolor\":\"white\",\"linecolor\":\"white\",\"showbackground\":true,\"ticks\":\"\",\"zerolinecolor\":\"white\",\"gridwidth\":2},\"yaxis\":{\"backgroundcolor\":\"#E5ECF6\",\"gridcolor\":\"white\",\"linecolor\":\"white\",\"showbackground\":true,\"ticks\":\"\",\"zerolinecolor\":\"white\",\"gridwidth\":2},\"zaxis\":{\"backgroundcolor\":\"#E5ECF6\",\"gridcolor\":\"white\",\"linecolor\":\"white\",\"showbackground\":true,\"ticks\":\"\",\"zerolinecolor\":\"white\",\"gridwidth\":2}},\"shapedefaults\":{\"line\":{\"color\":\"#2a3f5f\"}},\"annotationdefaults\":{\"arrowcolor\":\"#2a3f5f\",\"arrowhead\":0,\"arrowwidth\":1},\"geo\":{\"bgcolor\":\"white\",\"landcolor\":\"#E5ECF6\",\"subunitcolor\":\"white\",\"showland\":true,\"showlakes\":true,\"lakecolor\":\"white\"},\"title\":{\"x\":0.05},\"mapbox\":{\"style\":\"light\"}}}},                        {\"responsive\": true}                    ).then(function(){\n",
       "                            \n",
       "var gd = document.getElementById('dd1700b6-2a01-4997-a069-3e1dd466c295');\n",
       "var x = new MutationObserver(function (mutations, observer) {{\n",
       "        var display = window.getComputedStyle(gd).display;\n",
       "        if (!display || display === 'none') {{\n",
       "            console.log([gd, 'removed!']);\n",
       "            Plotly.purge(gd);\n",
       "            observer.disconnect();\n",
       "        }}\n",
       "}});\n",
       "\n",
       "// Listen for the removal of the full notebook cells\n",
       "var notebookContainer = gd.closest('#notebook-container');\n",
       "if (notebookContainer) {{\n",
       "    x.observe(notebookContainer, {childList: true});\n",
       "}}\n",
       "\n",
       "// Listen for the clearing of the current output cell\n",
       "var outputEl = gd.closest('.output');\n",
       "if (outputEl) {{\n",
       "    x.observe(outputEl, {childList: true});\n",
       "}}\n",
       "\n",
       "                        })                };                });            </script>        </div>"
      ]
     },
     "metadata": {},
     "output_type": "display_data"
    }
   ],
   "source": [
    "import plotly.graph_objs as go\n",
    "import plotly.express as px\n",
    "\n",
    "fig = go.Figure()\n",
    "fig.add_trace(go.Scatter(x=line_data['Year'], y=line_data['Population'], mode='lines', line=dict(color='red'), name='Population'))\n",
    "fig.add_trace(go.Scatter(x=line_data['Year'], y=line_data['GDP'], mode='lines', line=dict(color='blue'), name='GDP'))\n",
    "fig.add_trace(go.Scatter(x=line_data['Year'], y=line_data['GDP_Per_Capita'], mode='lines', line=dict(color='green'), name='GDP per capita'))\n",
    "\n",
    "fig.add_trace(go.Bar(x=line_data['Year'], y=line_data['Y_Gold'], name='Gold Medals', marker_color='gold'))\n",
    "fig.add_trace(go.Bar(x=line_data['Year'], y=line_data['Y_Silver'], name='Silver Medals', marker_color='silver'))\n",
    "fig.add_trace(go.Bar(x=line_data['Year'], y=line_data['Y_Bronze'], name='Bronze Medals', marker_color='peru'))\n",
    "\n",
    "\n",
    "fig.show()"
   ]
  },
  {
   "cell_type": "code",
   "execution_count": 42,
   "id": "40559d36",
   "metadata": {},
   "outputs": [
    {
     "data": {
      "text/plain": [
       "['Afghanistan',\n",
       " 'Argentina',\n",
       " 'Armenia',\n",
       " 'Australia',\n",
       " 'Austria',\n",
       " 'Azerbaijan',\n",
       " 'Belarus',\n",
       " 'Belgium',\n",
       " 'Brazil',\n",
       " 'Brunei Darussalam',\n",
       " 'Burundi',\n",
       " 'Cameroon',\n",
       " 'Canada',\n",
       " 'Channel Islands',\n",
       " 'China',\n",
       " 'Colombia',\n",
       " \"Cote d'Ivoire\",\n",
       " 'Cuba',\n",
       " 'Cyprus',\n",
       " 'Czechia',\n",
       " 'Djibouti',\n",
       " 'Dominican Republic',\n",
       " 'Ecuador',\n",
       " 'Egypt, Arab Rep.',\n",
       " 'Eritrea',\n",
       " 'Estonia',\n",
       " 'Ethiopia',\n",
       " 'Finland',\n",
       " 'France',\n",
       " 'Gabon',\n",
       " 'Georgia',\n",
       " 'Ghana',\n",
       " 'Guyana',\n",
       " 'Hong Kong SAR, China',\n",
       " 'Hungary',\n",
       " 'Iceland',\n",
       " 'India',\n",
       " 'Iraq',\n",
       " 'Ireland',\n",
       " 'Israel',\n",
       " 'Italy',\n",
       " 'Jamaica',\n",
       " 'Japan',\n",
       " 'Jordan',\n",
       " 'Kazakhstan',\n",
       " 'Kenya',\n",
       " \"Korea, Dem. People's Rep.\",\n",
       " 'Korea, Rep.',\n",
       " 'Kyrgyz Republic',\n",
       " 'Lebanon',\n",
       " 'Liechtenstein',\n",
       " 'Lithuania',\n",
       " 'Luxembourg',\n",
       " 'Mexico',\n",
       " 'Moldova',\n",
       " 'Montenegro',\n",
       " 'Morocco',\n",
       " 'Mozambique',\n",
       " 'Namibia',\n",
       " 'New Zealand',\n",
       " 'North Macedonia',\n",
       " 'Norway',\n",
       " 'Pakistan',\n",
       " 'Panama',\n",
       " 'Peru',\n",
       " 'Poland',\n",
       " 'Qatar',\n",
       " 'Romania',\n",
       " 'Russian Federation',\n",
       " 'San Marino',\n",
       " 'Senegal',\n",
       " 'Serbia',\n",
       " 'Singapore',\n",
       " 'Slovak Republic',\n",
       " 'Spain',\n",
       " 'Suriname',\n",
       " 'Sweden',\n",
       " 'Syrian Arab Republic',\n",
       " 'Tajikistan',\n",
       " 'Thailand',\n",
       " 'Trinidad and Tobago',\n",
       " 'Tunisia',\n",
       " 'Turkiye',\n",
       " 'Turkmenistan',\n",
       " 'Uganda',\n",
       " 'Ukraine',\n",
       " 'United Kingdom',\n",
       " 'United States',\n",
       " 'Uzbekistan',\n",
       " 'Venezuela, RB']"
      ]
     },
     "execution_count": 42,
     "metadata": {},
     "output_type": "execute_result"
    }
   ],
   "source": [
    "countries = df['Country_Name'].unique().tolist()\n",
    "countries"
   ]
  },
  {
   "cell_type": "code",
   "execution_count": 43,
   "id": "f9f15e93",
   "metadata": {},
   "outputs": [
    {
     "data": {},
     "metadata": {},
     "output_type": "display_data"
    },
    {
     "data": {
      "application/vnd.holoviews_exec.v0+json": "",
      "text/html": [
       "<div id='2832'>\n",
       "  <div class=\"bk-root\" id=\"8e02fc34-cfe1-4f3a-9ff5-2e8f72e4322c\" data-root-id=\"2832\"></div>\n",
       "</div>\n",
       "<script type=\"application/javascript\">(function(root) {\n",
       "  function embed_document(root) {\n",
       "    var docs_json = {\"985be059-1f3c-4eb9-992f-5aa28a17034f\":{\"defs\":[{\"extends\":null,\"module\":null,\"name\":\"ReactiveHTML1\",\"overrides\":[],\"properties\":[]},{\"extends\":null,\"module\":null,\"name\":\"FlexBox1\",\"overrides\":[],\"properties\":[{\"default\":\"flex-start\",\"kind\":null,\"name\":\"align_content\"},{\"default\":\"flex-start\",\"kind\":null,\"name\":\"align_items\"},{\"default\":\"row\",\"kind\":null,\"name\":\"flex_direction\"},{\"default\":\"wrap\",\"kind\":null,\"name\":\"flex_wrap\"},{\"default\":\"flex-start\",\"kind\":null,\"name\":\"justify_content\"}]},{\"extends\":null,\"module\":null,\"name\":\"GridStack1\",\"overrides\":[],\"properties\":[{\"default\":\"warn\",\"kind\":null,\"name\":\"mode\"},{\"default\":null,\"kind\":null,\"name\":\"ncols\"},{\"default\":null,\"kind\":null,\"name\":\"nrows\"},{\"default\":true,\"kind\":null,\"name\":\"allow_resize\"},{\"default\":true,\"kind\":null,\"name\":\"allow_drag\"},{\"default\":[],\"kind\":null,\"name\":\"state\"}]},{\"extends\":null,\"module\":null,\"name\":\"click1\",\"overrides\":[],\"properties\":[{\"default\":\"\",\"kind\":null,\"name\":\"terminal_output\"},{\"default\":\"\",\"kind\":null,\"name\":\"debug_name\"},{\"default\":0,\"kind\":null,\"name\":\"clears\"}]},{\"extends\":null,\"module\":null,\"name\":\"NotificationAreaBase1\",\"overrides\":[],\"properties\":[{\"default\":\"bottom-right\",\"kind\":null,\"name\":\"position\"},{\"default\":0,\"kind\":null,\"name\":\"_clear\"}]},{\"extends\":null,\"module\":null,\"name\":\"NotificationArea1\",\"overrides\":[],\"properties\":[{\"default\":[],\"kind\":null,\"name\":\"notifications\"},{\"default\":\"bottom-right\",\"kind\":null,\"name\":\"position\"},{\"default\":0,\"kind\":null,\"name\":\"_clear\"},{\"default\":[{\"background\":\"#ffc107\",\"icon\":{\"className\":\"fas fa-exclamation-triangle\",\"color\":\"white\",\"tagName\":\"i\"},\"type\":\"warning\"},{\"background\":\"#007bff\",\"icon\":{\"className\":\"fas fa-info-circle\",\"color\":\"white\",\"tagName\":\"i\"},\"type\":\"info\"}],\"kind\":null,\"name\":\"types\"}]},{\"extends\":null,\"module\":null,\"name\":\"Notification\",\"overrides\":[],\"properties\":[{\"default\":null,\"kind\":null,\"name\":\"background\"},{\"default\":3000,\"kind\":null,\"name\":\"duration\"},{\"default\":null,\"kind\":null,\"name\":\"icon\"},{\"default\":\"\",\"kind\":null,\"name\":\"message\"},{\"default\":null,\"kind\":null,\"name\":\"notification_type\"},{\"default\":false,\"kind\":null,\"name\":\"_destroyed\"}]},{\"extends\":null,\"module\":null,\"name\":\"TemplateActions1\",\"overrides\":[],\"properties\":[{\"default\":0,\"kind\":null,\"name\":\"open_modal\"},{\"default\":0,\"kind\":null,\"name\":\"close_modal\"}]},{\"extends\":null,\"module\":null,\"name\":\"MaterialTemplateActions1\",\"overrides\":[],\"properties\":[{\"default\":0,\"kind\":null,\"name\":\"open_modal\"},{\"default\":0,\"kind\":null,\"name\":\"close_modal\"}]}],\"roots\":{\"references\":[{\"attributes\":{\"client_comm_id\":\"944f5c605e0840d5ab04c331b2d8abc9\",\"comm_id\":\"835128a88758409b9f22045be3458fc5\",\"plot_id\":\"2832\"},\"id\":\"2833\",\"type\":\"panel.models.comm_manager.CommManager\"},{\"attributes\":{\"margin\":[5,10,5,10],\"options\":[\"Afghanistan\",\"Argentina\",\"Armenia\",\"Australia\",\"Austria\",\"Azerbaijan\",\"Belarus\",\"Belgium\",\"Brazil\",\"Brunei Darussalam\",\"Burundi\",\"Cameroon\",\"Canada\",\"Channel Islands\",\"China\",\"Colombia\",\"Cote d'Ivoire\",\"Cuba\",\"Cyprus\",\"Czechia\",\"Djibouti\",\"Dominican Republic\",\"Ecuador\",\"Egypt, Arab Rep.\",\"Eritrea\",\"Estonia\",\"Ethiopia\",\"Finland\",\"France\",\"Gabon\",\"Georgia\",\"Ghana\",\"Guyana\",\"Hong Kong SAR, China\",\"Hungary\",\"Iceland\",\"India\",\"Iraq\",\"Ireland\",\"Israel\",\"Italy\",\"Jamaica\",\"Japan\",\"Jordan\",\"Kazakhstan\",\"Kenya\",\"Korea, Dem. People's Rep.\",\"Korea, Rep.\",\"Kyrgyz Republic\",\"Lebanon\",\"Liechtenstein\",\"Lithuania\",\"Luxembourg\",\"Mexico\",\"Moldova\",\"Montenegro\",\"Morocco\",\"Mozambique\",\"Namibia\",\"New Zealand\",\"North Macedonia\",\"Norway\",\"Pakistan\",\"Panama\",\"Peru\",\"Poland\",\"Qatar\",\"Romania\",\"Russian Federation\",\"San Marino\",\"Senegal\",\"Serbia\",\"Singapore\",\"Slovak Republic\",\"Spain\",\"Suriname\",\"Sweden\",\"Syrian Arab Republic\",\"Tajikistan\",\"Thailand\",\"Trinidad and Tobago\",\"Tunisia\",\"Turkiye\",\"Turkmenistan\",\"Uganda\",\"Ukraine\",\"United Kingdom\",\"United States\",\"Uzbekistan\",\"Venezuela, RB\"],\"title\":\"Select\",\"value\":\"Afghanistan\"},\"id\":\"2832\",\"type\":\"panel.models.widgets.CustomSelect\"}],\"root_ids\":[\"2832\",\"2833\"]},\"title\":\"Bokeh Application\",\"version\":\"2.4.3\"}};\n",
       "    var render_items = [{\"docid\":\"985be059-1f3c-4eb9-992f-5aa28a17034f\",\"root_ids\":[\"2832\"],\"roots\":{\"2832\":\"8e02fc34-cfe1-4f3a-9ff5-2e8f72e4322c\"}}];\n",
       "    root.Bokeh.embed.embed_items_notebook(docs_json, render_items);\n",
       "    for (const render_item of render_items) {\n",
       "      for (const root_id of render_item.root_ids) {\n",
       "\tconst id_el = document.getElementById(root_id)\n",
       "\tif (id_el.children.length && (id_el.children[0].className === 'bk-root')) {\n",
       "\t  const root_el = id_el.children[0]\n",
       "\t  root_el.id = root_el.id + '-rendered'\n",
       "\t}\n",
       "      }\n",
       "    }\n",
       "  }\n",
       "  if (root.Bokeh !== undefined && root.Bokeh.Panel !== undefined && ( root['Tabulator'] !== undefined) && ( root['Tabulator'] !== undefined) && ( root['Tabulator'] !== undefined)) {\n",
       "    embed_document(root);\n",
       "  } else {\n",
       "    var attempts = 0;\n",
       "    var timer = setInterval(function(root) {\n",
       "      if (root.Bokeh !== undefined && root.Bokeh.Panel !== undefined && (root['Tabulator'] !== undefined) && (root['Tabulator'] !== undefined) && (root['Tabulator'] !== undefined)) {\n",
       "        clearInterval(timer);\n",
       "        embed_document(root);\n",
       "      } else if (document.readyState == \"complete\") {\n",
       "        attempts++;\n",
       "        if (attempts > 200) {\n",
       "          clearInterval(timer);\n",
       "          console.log(\"Bokeh: ERROR: Unable to run BokehJS code because BokehJS library is missing\");\n",
       "        }\n",
       "      }\n",
       "    }, 25, root)\n",
       "  }\n",
       "})(window);</script>"
      ],
      "text/plain": [
       "Select(options=['Afghanistan', ...], value='Afghanistan')"
      ]
     },
     "execution_count": 43,
     "metadata": {
      "application/vnd.holoviews_exec.v0+json": {
       "id": "2832"
      }
     },
     "output_type": "execute_result"
    }
   ],
   "source": [
    "select_country = pn.widgets.Select(name='Select', options=countries)\n",
    "\n",
    "select_country"
   ]
  },
  {
   "cell_type": "code",
   "execution_count": 44,
   "id": "1abcfa1f",
   "metadata": {},
   "outputs": [
    {
     "data": {
      "text/plain": [
       "'Afghanistan'"
      ]
     },
     "execution_count": 44,
     "metadata": {},
     "output_type": "execute_result"
    }
   ],
   "source": [
    "select_country.value"
   ]
  },
  {
   "cell_type": "code",
   "execution_count": 45,
   "id": "8917a110",
   "metadata": {},
   "outputs": [
    {
     "data": {},
     "metadata": {},
     "output_type": "display_data"
    },
    {
     "data": {
      "application/vnd.holoviews_exec.v0+json": "",
      "text/html": [
       "<div id='2834'>\n",
       "  <div class=\"bk-root\" id=\"7eb8c921-4adb-4282-a035-103a86768b45\" data-root-id=\"2834\"></div>\n",
       "</div>\n",
       "<script type=\"application/javascript\">(function(root) {\n",
       "  function embed_document(root) {\n",
       "    var docs_json = {\"67ee5760-faff-43ea-916a-e54dd2aeb9e2\":{\"defs\":[{\"extends\":null,\"module\":null,\"name\":\"ReactiveHTML1\",\"overrides\":[],\"properties\":[]},{\"extends\":null,\"module\":null,\"name\":\"FlexBox1\",\"overrides\":[],\"properties\":[{\"default\":\"flex-start\",\"kind\":null,\"name\":\"align_content\"},{\"default\":\"flex-start\",\"kind\":null,\"name\":\"align_items\"},{\"default\":\"row\",\"kind\":null,\"name\":\"flex_direction\"},{\"default\":\"wrap\",\"kind\":null,\"name\":\"flex_wrap\"},{\"default\":\"flex-start\",\"kind\":null,\"name\":\"justify_content\"}]},{\"extends\":null,\"module\":null,\"name\":\"GridStack1\",\"overrides\":[],\"properties\":[{\"default\":\"warn\",\"kind\":null,\"name\":\"mode\"},{\"default\":null,\"kind\":null,\"name\":\"ncols\"},{\"default\":null,\"kind\":null,\"name\":\"nrows\"},{\"default\":true,\"kind\":null,\"name\":\"allow_resize\"},{\"default\":true,\"kind\":null,\"name\":\"allow_drag\"},{\"default\":[],\"kind\":null,\"name\":\"state\"}]},{\"extends\":null,\"module\":null,\"name\":\"click1\",\"overrides\":[],\"properties\":[{\"default\":\"\",\"kind\":null,\"name\":\"terminal_output\"},{\"default\":\"\",\"kind\":null,\"name\":\"debug_name\"},{\"default\":0,\"kind\":null,\"name\":\"clears\"}]},{\"extends\":null,\"module\":null,\"name\":\"NotificationAreaBase1\",\"overrides\":[],\"properties\":[{\"default\":\"bottom-right\",\"kind\":null,\"name\":\"position\"},{\"default\":0,\"kind\":null,\"name\":\"_clear\"}]},{\"extends\":null,\"module\":null,\"name\":\"NotificationArea1\",\"overrides\":[],\"properties\":[{\"default\":[],\"kind\":null,\"name\":\"notifications\"},{\"default\":\"bottom-right\",\"kind\":null,\"name\":\"position\"},{\"default\":0,\"kind\":null,\"name\":\"_clear\"},{\"default\":[{\"background\":\"#ffc107\",\"icon\":{\"className\":\"fas fa-exclamation-triangle\",\"color\":\"white\",\"tagName\":\"i\"},\"type\":\"warning\"},{\"background\":\"#007bff\",\"icon\":{\"className\":\"fas fa-info-circle\",\"color\":\"white\",\"tagName\":\"i\"},\"type\":\"info\"}],\"kind\":null,\"name\":\"types\"}]},{\"extends\":null,\"module\":null,\"name\":\"Notification\",\"overrides\":[],\"properties\":[{\"default\":null,\"kind\":null,\"name\":\"background\"},{\"default\":3000,\"kind\":null,\"name\":\"duration\"},{\"default\":null,\"kind\":null,\"name\":\"icon\"},{\"default\":\"\",\"kind\":null,\"name\":\"message\"},{\"default\":null,\"kind\":null,\"name\":\"notification_type\"},{\"default\":false,\"kind\":null,\"name\":\"_destroyed\"}]},{\"extends\":null,\"module\":null,\"name\":\"TemplateActions1\",\"overrides\":[],\"properties\":[{\"default\":0,\"kind\":null,\"name\":\"open_modal\"},{\"default\":0,\"kind\":null,\"name\":\"close_modal\"}]},{\"extends\":null,\"module\":null,\"name\":\"MaterialTemplateActions1\",\"overrides\":[],\"properties\":[{\"default\":0,\"kind\":null,\"name\":\"open_modal\"},{\"default\":0,\"kind\":null,\"name\":\"close_modal\"}]}],\"roots\":{\"references\":[{\"attributes\":{\"children\":[{\"id\":\"2841\"}],\"margin\":[0,0,0,0],\"name\":\"Row02529\"},\"id\":\"2840\",\"type\":\"Row\"},{\"attributes\":{\"children\":[{\"id\":\"2836\"},{\"id\":\"2840\"}],\"margin\":[0,0,0,0],\"name\":\"Column02568\"},\"id\":\"2835\",\"type\":\"Column\"},{\"attributes\":{\"children\":[{\"id\":\"2838\"}],\"margin\":[0,0,0,0],\"name\":\"Column02524\"},\"id\":\"2837\",\"type\":\"Column\"},{\"attributes\":{\"margin\":[5,5,5,5],\"name\":\"HSpacer02566\",\"sizing_mode\":\"stretch_width\"},\"id\":\"2839\",\"type\":\"Spacer\"},{\"attributes\":{\"margin\":[5,5,5,5],\"name\":\"ParamFunction02525\",\"text\":\"&lt;table border=&quot;0&quot; class=&quot;dataframe panel-df&quot;&gt;\\n  &lt;thead&gt;\\n    &lt;tr style=&quot;text-align: right;&quot;&gt;\\n      &lt;th&gt;&lt;/th&gt;\\n      &lt;th&gt;GDP&lt;/th&gt;\\n    &lt;/tr&gt;\\n  &lt;/thead&gt;\\n  &lt;tbody&gt;\\n    &lt;tr&gt;\\n      &lt;th&gt;0&lt;/th&gt;\\n      &lt;td&gt;5.377778e+08&lt;/td&gt;\\n    &lt;/tr&gt;\\n    &lt;tr&gt;\\n      &lt;th&gt;99&lt;/th&gt;\\n      &lt;td&gt;8.000000e+08&lt;/td&gt;\\n    &lt;/tr&gt;\\n    &lt;tr&gt;\\n      &lt;th&gt;196&lt;/th&gt;\\n      &lt;td&gt;1.373333e+09&lt;/td&gt;\\n    &lt;/tr&gt;\\n    &lt;tr&gt;\\n      &lt;th&gt;295&lt;/th&gt;\\n      &lt;td&gt;1.595555e+09&lt;/td&gt;\\n    &lt;/tr&gt;\\n    &lt;tr&gt;\\n      &lt;th&gt;396&lt;/th&gt;\\n      &lt;td&gt;2.555556e+09&lt;/td&gt;\\n    &lt;/tr&gt;\\n  &lt;/tbody&gt;\\n&lt;/table&gt;\"},\"id\":\"2841\",\"type\":\"panel.models.markup.HTML\"},{\"attributes\":{\"children\":[{\"id\":\"2837\"},{\"id\":\"2839\"}],\"margin\":[0,0,0,0],\"name\":\"Row02567\"},\"id\":\"2836\",\"type\":\"Row\"},{\"attributes\":{\"client_comm_id\":\"af17632284d14a33a40ece4f34ff7fea\",\"comm_id\":\"7a4e589d4783498593112e3f944b97be\",\"plot_id\":\"2834\"},\"id\":\"2842\",\"type\":\"panel.models.comm_manager.CommManager\"},{\"attributes\":{\"margin\":[5,10,5,10],\"options\":[\"Afghanistan\",\"Argentina\",\"Armenia\",\"Australia\",\"Austria\",\"Azerbaijan\",\"Belarus\",\"Belgium\",\"Brazil\",\"Brunei Darussalam\",\"Burundi\",\"Cameroon\",\"Canada\",\"Channel Islands\",\"China\",\"Colombia\",\"Cote d'Ivoire\",\"Cuba\",\"Cyprus\",\"Czechia\",\"Djibouti\",\"Dominican Republic\",\"Ecuador\",\"Egypt, Arab Rep.\",\"Eritrea\",\"Estonia\",\"Ethiopia\",\"Finland\",\"France\",\"Gabon\",\"Georgia\",\"Ghana\",\"Guyana\",\"Hong Kong SAR, China\",\"Hungary\",\"Iceland\",\"India\",\"Iraq\",\"Ireland\",\"Israel\",\"Italy\",\"Jamaica\",\"Japan\",\"Jordan\",\"Kazakhstan\",\"Kenya\",\"Korea, Dem. People's Rep.\",\"Korea, Rep.\",\"Kyrgyz Republic\",\"Lebanon\",\"Liechtenstein\",\"Lithuania\",\"Luxembourg\",\"Mexico\",\"Moldova\",\"Montenegro\",\"Morocco\",\"Mozambique\",\"Namibia\",\"New Zealand\",\"North Macedonia\",\"Norway\",\"Pakistan\",\"Panama\",\"Peru\",\"Poland\",\"Qatar\",\"Romania\",\"Russian Federation\",\"San Marino\",\"Senegal\",\"Serbia\",\"Singapore\",\"Slovak Republic\",\"Spain\",\"Suriname\",\"Sweden\",\"Syrian Arab Republic\",\"Tajikistan\",\"Thailand\",\"Trinidad and Tobago\",\"Tunisia\",\"Turkiye\",\"Turkmenistan\",\"Uganda\",\"Ukraine\",\"United Kingdom\",\"United States\",\"Uzbekistan\",\"Venezuela, RB\"],\"title\":\"Select\",\"value\":\"Afghanistan\"},\"id\":\"2838\",\"type\":\"panel.models.widgets.CustomSelect\"},{\"attributes\":{\"children\":[{\"id\":\"2835\"}],\"margin\":[0,0,0,0],\"name\":\"Row02569\"},\"id\":\"2834\",\"type\":\"Row\"}],\"root_ids\":[\"2834\",\"2842\"]},\"title\":\"Bokeh Application\",\"version\":\"2.4.3\"}};\n",
       "    var render_items = [{\"docid\":\"67ee5760-faff-43ea-916a-e54dd2aeb9e2\",\"root_ids\":[\"2834\"],\"roots\":{\"2834\":\"7eb8c921-4adb-4282-a035-103a86768b45\"}}];\n",
       "    root.Bokeh.embed.embed_items_notebook(docs_json, render_items);\n",
       "    for (const render_item of render_items) {\n",
       "      for (const root_id of render_item.root_ids) {\n",
       "\tconst id_el = document.getElementById(root_id)\n",
       "\tif (id_el.children.length && (id_el.children[0].className === 'bk-root')) {\n",
       "\t  const root_el = id_el.children[0]\n",
       "\t  root_el.id = root_el.id + '-rendered'\n",
       "\t}\n",
       "      }\n",
       "    }\n",
       "  }\n",
       "  if (root.Bokeh !== undefined && root.Bokeh.Panel !== undefined && ( root['Tabulator'] !== undefined) && ( root['Tabulator'] !== undefined) && ( root['Tabulator'] !== undefined)) {\n",
       "    embed_document(root);\n",
       "  } else {\n",
       "    var attempts = 0;\n",
       "    var timer = setInterval(function(root) {\n",
       "      if (root.Bokeh !== undefined && root.Bokeh.Panel !== undefined && (root['Tabulator'] !== undefined) && (root['Tabulator'] !== undefined) && (root['Tabulator'] !== undefined)) {\n",
       "        clearInterval(timer);\n",
       "        embed_document(root);\n",
       "      } else if (document.readyState == \"complete\") {\n",
       "        attempts++;\n",
       "        if (attempts > 200) {\n",
       "          clearInterval(timer);\n",
       "          console.log(\"Bokeh: ERROR: Unable to run BokehJS code because BokehJS library is missing\");\n",
       "        }\n",
       "      }\n",
       "    }, 25, root)\n",
       "  }\n",
       "})(window);</script>"
      ],
      "text/plain": [
       "<hvplot.interactive.Interactive at 0x1928f9c6708>"
      ]
     },
     "execution_count": 45,
     "metadata": {
      "application/vnd.holoviews_exec.v0+json": {
       "id": "2834"
      }
     },
     "output_type": "execute_result"
    }
   ],
   "source": [
    "ipipeline = idf[(idf.Country_Name == select_country)]\n",
    "ipipeline['GDP'].head()"
   ]
  },
  {
   "cell_type": "code",
   "execution_count": 69,
   "id": "d70cc114",
   "metadata": {},
   "outputs": [
    {
     "name": "stdout",
     "output_type": "stream",
     "text": [
      "Launching server at http://localhost:59759\n"
     ]
    },
    {
     "data": {
      "text/plain": [
       "<panel.io.server.Server at 0x19291ad02c8>"
      ]
     },
     "execution_count": 69,
     "metadata": {},
     "output_type": "execute_result"
    }
   ],
   "source": [
    "import panel as pn\n",
    "import plotly.graph_objs as go\n",
    "import plotly.express as px\n",
    "pn.extension('plotly')\n",
    "\n",
    "line_pop = ipipeline.hvplot.line(x='Year', y='Population', xlabel='Year', ylabel='Population', title='World Population (1950-2020)')\n",
    "line_gdp = ipipeline.hvplot.line(x='Year', y='GDP', xlabel='Year', ylabel='GDP', title='World GDP (1950-2020)')\n",
    "line_cap = ipipeline.hvplot.line(x='Year', y='GDP_Per_Capita', xlabel='Year', ylabel='GDP', title='World GDP (1950-2020)')\n",
    "\n",
    "pn.Row(line_pop * line_gdp * line_cap).show()"
   ]
  },
  {
   "cell_type": "code",
   "execution_count": 13,
   "id": "797df1e6",
   "metadata": {},
   "outputs": [],
   "source": [
    "# import plotly.graph_objs as go\n",
    "# import plotly.express as px\n",
    "\n",
    "# fig = go.Figure()\n",
    "# fig.add_trace(go.Scatter(x=line_data['Year'], y=line_data['Population'], mode='lines', line=dict(color='red'), name='Population'))\n",
    "# fig.add_trace(go.Scatter(x=line_data['Year'], y=line_data['GDP'], mode='lines', line=dict(color='blue'), name='GDP'))\n",
    "# fig.add_trace(go.Scatter(x=line_data['Year'], y=line_data['GDP_Per_Capita'], mode='lines', line=dict(color='green'), name='GDP per capita'))\n",
    "# fig.add_trace(go.Bar(x=line_data['Year'], y=line_data['Y_Gold'], name='Gold Medals'))\n",
    "# fig.add_trace(go.Bar(x=line_data['Year'], y=line_data['Y_Silver'], name='Silver Medals', base=line_data['Y_Gold']))\n",
    "# fig.add_trace(go.Bar(x=line_data['Year'], y=line_data['Y_Bronze'], name='Bronze Medals', base=line_data['Y_Silver']+line_data['Y_Gold']))\n",
    "\n",
    "# fig.show()"
   ]
  },
  {
   "cell_type": "code",
   "execution_count": 14,
   "id": "64626729",
   "metadata": {
    "code_folding": []
   },
   "outputs": [
    {
     "data": {
      "application/vnd.plotly.v1+json": {
       "config": {
        "plotlyServerURL": "https://plot.ly"
       },
       "data": [
        {
         "marker": {
          "color": "red",
          "opacity": 0.75
         },
         "name": "Population",
         "orientation": "h",
         "type": "bar",
         "x": [
          107465134,
          117190911,
          125998302,
          126261000,
          144073139,
          213196304,
          227196741,
          331501080,
          1396387127,
          1411100000
         ],
         "xaxis": "x",
         "y": [
          "Egypt, Arab Rep.",
          "Ethiopia",
          "Mexico",
          "Japan",
          "Russian Federation",
          "Brazil",
          "Pakistan",
          "United States",
          "India",
          "China"
         ],
         "yaxis": "y"
        },
        {
         "marker": {
          "color": "blue",
          "opacity": 0.75
         },
         "name": "GDP",
         "orientation": "h",
         "type": "bar",
         "x": [
          1465092271887.5105,
          1644312831689.1997,
          1645423407509.0195,
          1896755301577.4773,
          2639008701778.304,
          2667687952041.578,
          2704609160353.17,
          5040107754293.16,
          14687673898336,
          21060473611704.16
         ],
         "xaxis": "x2",
         "y": [
          "Russian Federation",
          "Korea, Rep.",
          "Canada",
          "Italy",
          "France",
          "India",
          "United Kingdom",
          "Japan",
          "China",
          "United States"
         ],
         "yaxis": "y2"
        },
        {
         "marker": {
          "color": "green",
          "opacity": 0.75
         },
         "name": "GDP Per Capita",
         "orientation": "h",
         "type": "bar",
         "x": [
          40318.55757,
          41596.5055,
          43258.26387,
          44846.7916,
          45517.79493,
          46107.76528,
          48809.22688,
          49170.75215,
          51720.37076,
          52315.66008,
          52837.90398,
          60729.45035,
          63530.63348,
          67329.67779,
          85420.19086
         ],
         "xaxis": "x3",
         "y": [
          "United Kingdom",
          "New Zealand",
          "Canada",
          "Israel",
          "Belgium",
          "Hong Kong SAR, China",
          "Austria",
          "Finland",
          "Australia",
          "Qatar",
          "Sweden",
          "Singapore",
          "United States",
          "Norway",
          "Ireland"
         ],
         "yaxis": "y3"
        }
       ],
       "layout": {
        "annotations": [
         {
          "align": "left",
          "showarrow": false,
          "text": "Select Year:",
          "x": 0,
          "y": 1.085,
          "yref": "paper"
         }
        ],
        "barmode": "group",
        "height": 600,
        "showlegend": false,
        "template": {
         "data": {
          "bar": [
           {
            "error_x": {
             "color": "#2a3f5f"
            },
            "error_y": {
             "color": "#2a3f5f"
            },
            "marker": {
             "line": {
              "color": "#E5ECF6",
              "width": 0.5
             },
             "pattern": {
              "fillmode": "overlay",
              "size": 10,
              "solidity": 0.2
             }
            },
            "type": "bar"
           }
          ],
          "barpolar": [
           {
            "marker": {
             "line": {
              "color": "#E5ECF6",
              "width": 0.5
             },
             "pattern": {
              "fillmode": "overlay",
              "size": 10,
              "solidity": 0.2
             }
            },
            "type": "barpolar"
           }
          ],
          "carpet": [
           {
            "aaxis": {
             "endlinecolor": "#2a3f5f",
             "gridcolor": "white",
             "linecolor": "white",
             "minorgridcolor": "white",
             "startlinecolor": "#2a3f5f"
            },
            "baxis": {
             "endlinecolor": "#2a3f5f",
             "gridcolor": "white",
             "linecolor": "white",
             "minorgridcolor": "white",
             "startlinecolor": "#2a3f5f"
            },
            "type": "carpet"
           }
          ],
          "choropleth": [
           {
            "colorbar": {
             "outlinewidth": 0,
             "ticks": ""
            },
            "type": "choropleth"
           }
          ],
          "contour": [
           {
            "colorbar": {
             "outlinewidth": 0,
             "ticks": ""
            },
            "colorscale": [
             [
              0,
              "#0d0887"
             ],
             [
              0.1111111111111111,
              "#46039f"
             ],
             [
              0.2222222222222222,
              "#7201a8"
             ],
             [
              0.3333333333333333,
              "#9c179e"
             ],
             [
              0.4444444444444444,
              "#bd3786"
             ],
             [
              0.5555555555555556,
              "#d8576b"
             ],
             [
              0.6666666666666666,
              "#ed7953"
             ],
             [
              0.7777777777777778,
              "#fb9f3a"
             ],
             [
              0.8888888888888888,
              "#fdca26"
             ],
             [
              1,
              "#f0f921"
             ]
            ],
            "type": "contour"
           }
          ],
          "contourcarpet": [
           {
            "colorbar": {
             "outlinewidth": 0,
             "ticks": ""
            },
            "type": "contourcarpet"
           }
          ],
          "heatmap": [
           {
            "colorbar": {
             "outlinewidth": 0,
             "ticks": ""
            },
            "colorscale": [
             [
              0,
              "#0d0887"
             ],
             [
              0.1111111111111111,
              "#46039f"
             ],
             [
              0.2222222222222222,
              "#7201a8"
             ],
             [
              0.3333333333333333,
              "#9c179e"
             ],
             [
              0.4444444444444444,
              "#bd3786"
             ],
             [
              0.5555555555555556,
              "#d8576b"
             ],
             [
              0.6666666666666666,
              "#ed7953"
             ],
             [
              0.7777777777777778,
              "#fb9f3a"
             ],
             [
              0.8888888888888888,
              "#fdca26"
             ],
             [
              1,
              "#f0f921"
             ]
            ],
            "type": "heatmap"
           }
          ],
          "heatmapgl": [
           {
            "colorbar": {
             "outlinewidth": 0,
             "ticks": ""
            },
            "colorscale": [
             [
              0,
              "#0d0887"
             ],
             [
              0.1111111111111111,
              "#46039f"
             ],
             [
              0.2222222222222222,
              "#7201a8"
             ],
             [
              0.3333333333333333,
              "#9c179e"
             ],
             [
              0.4444444444444444,
              "#bd3786"
             ],
             [
              0.5555555555555556,
              "#d8576b"
             ],
             [
              0.6666666666666666,
              "#ed7953"
             ],
             [
              0.7777777777777778,
              "#fb9f3a"
             ],
             [
              0.8888888888888888,
              "#fdca26"
             ],
             [
              1,
              "#f0f921"
             ]
            ],
            "type": "heatmapgl"
           }
          ],
          "histogram": [
           {
            "marker": {
             "pattern": {
              "fillmode": "overlay",
              "size": 10,
              "solidity": 0.2
             }
            },
            "type": "histogram"
           }
          ],
          "histogram2d": [
           {
            "colorbar": {
             "outlinewidth": 0,
             "ticks": ""
            },
            "colorscale": [
             [
              0,
              "#0d0887"
             ],
             [
              0.1111111111111111,
              "#46039f"
             ],
             [
              0.2222222222222222,
              "#7201a8"
             ],
             [
              0.3333333333333333,
              "#9c179e"
             ],
             [
              0.4444444444444444,
              "#bd3786"
             ],
             [
              0.5555555555555556,
              "#d8576b"
             ],
             [
              0.6666666666666666,
              "#ed7953"
             ],
             [
              0.7777777777777778,
              "#fb9f3a"
             ],
             [
              0.8888888888888888,
              "#fdca26"
             ],
             [
              1,
              "#f0f921"
             ]
            ],
            "type": "histogram2d"
           }
          ],
          "histogram2dcontour": [
           {
            "colorbar": {
             "outlinewidth": 0,
             "ticks": ""
            },
            "colorscale": [
             [
              0,
              "#0d0887"
             ],
             [
              0.1111111111111111,
              "#46039f"
             ],
             [
              0.2222222222222222,
              "#7201a8"
             ],
             [
              0.3333333333333333,
              "#9c179e"
             ],
             [
              0.4444444444444444,
              "#bd3786"
             ],
             [
              0.5555555555555556,
              "#d8576b"
             ],
             [
              0.6666666666666666,
              "#ed7953"
             ],
             [
              0.7777777777777778,
              "#fb9f3a"
             ],
             [
              0.8888888888888888,
              "#fdca26"
             ],
             [
              1,
              "#f0f921"
             ]
            ],
            "type": "histogram2dcontour"
           }
          ],
          "mesh3d": [
           {
            "colorbar": {
             "outlinewidth": 0,
             "ticks": ""
            },
            "type": "mesh3d"
           }
          ],
          "parcoords": [
           {
            "line": {
             "colorbar": {
              "outlinewidth": 0,
              "ticks": ""
             }
            },
            "type": "parcoords"
           }
          ],
          "pie": [
           {
            "automargin": true,
            "type": "pie"
           }
          ],
          "scatter": [
           {
            "fillpattern": {
             "fillmode": "overlay",
             "size": 10,
             "solidity": 0.2
            },
            "type": "scatter"
           }
          ],
          "scatter3d": [
           {
            "line": {
             "colorbar": {
              "outlinewidth": 0,
              "ticks": ""
             }
            },
            "marker": {
             "colorbar": {
              "outlinewidth": 0,
              "ticks": ""
             }
            },
            "type": "scatter3d"
           }
          ],
          "scattercarpet": [
           {
            "marker": {
             "colorbar": {
              "outlinewidth": 0,
              "ticks": ""
             }
            },
            "type": "scattercarpet"
           }
          ],
          "scattergeo": [
           {
            "marker": {
             "colorbar": {
              "outlinewidth": 0,
              "ticks": ""
             }
            },
            "type": "scattergeo"
           }
          ],
          "scattergl": [
           {
            "marker": {
             "colorbar": {
              "outlinewidth": 0,
              "ticks": ""
             }
            },
            "type": "scattergl"
           }
          ],
          "scattermapbox": [
           {
            "marker": {
             "colorbar": {
              "outlinewidth": 0,
              "ticks": ""
             }
            },
            "type": "scattermapbox"
           }
          ],
          "scatterpolar": [
           {
            "marker": {
             "colorbar": {
              "outlinewidth": 0,
              "ticks": ""
             }
            },
            "type": "scatterpolar"
           }
          ],
          "scatterpolargl": [
           {
            "marker": {
             "colorbar": {
              "outlinewidth": 0,
              "ticks": ""
             }
            },
            "type": "scatterpolargl"
           }
          ],
          "scatterternary": [
           {
            "marker": {
             "colorbar": {
              "outlinewidth": 0,
              "ticks": ""
             }
            },
            "type": "scatterternary"
           }
          ],
          "surface": [
           {
            "colorbar": {
             "outlinewidth": 0,
             "ticks": ""
            },
            "colorscale": [
             [
              0,
              "#0d0887"
             ],
             [
              0.1111111111111111,
              "#46039f"
             ],
             [
              0.2222222222222222,
              "#7201a8"
             ],
             [
              0.3333333333333333,
              "#9c179e"
             ],
             [
              0.4444444444444444,
              "#bd3786"
             ],
             [
              0.5555555555555556,
              "#d8576b"
             ],
             [
              0.6666666666666666,
              "#ed7953"
             ],
             [
              0.7777777777777778,
              "#fb9f3a"
             ],
             [
              0.8888888888888888,
              "#fdca26"
             ],
             [
              1,
              "#f0f921"
             ]
            ],
            "type": "surface"
           }
          ],
          "table": [
           {
            "cells": {
             "fill": {
              "color": "#EBF0F8"
             },
             "line": {
              "color": "white"
             }
            },
            "header": {
             "fill": {
              "color": "#C8D4E3"
             },
             "line": {
              "color": "white"
             }
            },
            "type": "table"
           }
          ]
         },
         "layout": {
          "annotationdefaults": {
           "arrowcolor": "#2a3f5f",
           "arrowhead": 0,
           "arrowwidth": 1
          },
          "autotypenumbers": "strict",
          "coloraxis": {
           "colorbar": {
            "outlinewidth": 0,
            "ticks": ""
           }
          },
          "colorscale": {
           "diverging": [
            [
             0,
             "#8e0152"
            ],
            [
             0.1,
             "#c51b7d"
            ],
            [
             0.2,
             "#de77ae"
            ],
            [
             0.3,
             "#f1b6da"
            ],
            [
             0.4,
             "#fde0ef"
            ],
            [
             0.5,
             "#f7f7f7"
            ],
            [
             0.6,
             "#e6f5d0"
            ],
            [
             0.7,
             "#b8e186"
            ],
            [
             0.8,
             "#7fbc41"
            ],
            [
             0.9,
             "#4d9221"
            ],
            [
             1,
             "#276419"
            ]
           ],
           "sequential": [
            [
             0,
             "#0d0887"
            ],
            [
             0.1111111111111111,
             "#46039f"
            ],
            [
             0.2222222222222222,
             "#7201a8"
            ],
            [
             0.3333333333333333,
             "#9c179e"
            ],
            [
             0.4444444444444444,
             "#bd3786"
            ],
            [
             0.5555555555555556,
             "#d8576b"
            ],
            [
             0.6666666666666666,
             "#ed7953"
            ],
            [
             0.7777777777777778,
             "#fb9f3a"
            ],
            [
             0.8888888888888888,
             "#fdca26"
            ],
            [
             1,
             "#f0f921"
            ]
           ],
           "sequentialminus": [
            [
             0,
             "#0d0887"
            ],
            [
             0.1111111111111111,
             "#46039f"
            ],
            [
             0.2222222222222222,
             "#7201a8"
            ],
            [
             0.3333333333333333,
             "#9c179e"
            ],
            [
             0.4444444444444444,
             "#bd3786"
            ],
            [
             0.5555555555555556,
             "#d8576b"
            ],
            [
             0.6666666666666666,
             "#ed7953"
            ],
            [
             0.7777777777777778,
             "#fb9f3a"
            ],
            [
             0.8888888888888888,
             "#fdca26"
            ],
            [
             1,
             "#f0f921"
            ]
           ]
          },
          "colorway": [
           "#636efa",
           "#EF553B",
           "#00cc96",
           "#ab63fa",
           "#FFA15A",
           "#19d3f3",
           "#FF6692",
           "#B6E880",
           "#FF97FF",
           "#FECB52"
          ],
          "font": {
           "color": "#2a3f5f"
          },
          "geo": {
           "bgcolor": "white",
           "lakecolor": "white",
           "landcolor": "#E5ECF6",
           "showlakes": true,
           "showland": true,
           "subunitcolor": "white"
          },
          "hoverlabel": {
           "align": "left"
          },
          "hovermode": "closest",
          "mapbox": {
           "style": "light"
          },
          "paper_bgcolor": "white",
          "plot_bgcolor": "#E5ECF6",
          "polar": {
           "angularaxis": {
            "gridcolor": "white",
            "linecolor": "white",
            "ticks": ""
           },
           "bgcolor": "#E5ECF6",
           "radialaxis": {
            "gridcolor": "white",
            "linecolor": "white",
            "ticks": ""
           }
          },
          "scene": {
           "xaxis": {
            "backgroundcolor": "#E5ECF6",
            "gridcolor": "white",
            "gridwidth": 2,
            "linecolor": "white",
            "showbackground": true,
            "ticks": "",
            "zerolinecolor": "white"
           },
           "yaxis": {
            "backgroundcolor": "#E5ECF6",
            "gridcolor": "white",
            "gridwidth": 2,
            "linecolor": "white",
            "showbackground": true,
            "ticks": "",
            "zerolinecolor": "white"
           },
           "zaxis": {
            "backgroundcolor": "#E5ECF6",
            "gridcolor": "white",
            "gridwidth": 2,
            "linecolor": "white",
            "showbackground": true,
            "ticks": "",
            "zerolinecolor": "white"
           }
          },
          "shapedefaults": {
           "line": {
            "color": "#2a3f5f"
           }
          },
          "ternary": {
           "aaxis": {
            "gridcolor": "white",
            "linecolor": "white",
            "ticks": ""
           },
           "baxis": {
            "gridcolor": "white",
            "linecolor": "white",
            "ticks": ""
           },
           "bgcolor": "#E5ECF6",
           "caxis": {
            "gridcolor": "white",
            "linecolor": "white",
            "ticks": ""
           }
          },
          "title": {
           "x": 0.05
          },
          "xaxis": {
           "automargin": true,
           "gridcolor": "white",
           "linecolor": "white",
           "ticks": "",
           "title": {
            "standoff": 15
           },
           "zerolinecolor": "white",
           "zerolinewidth": 2
          },
          "yaxis": {
           "automargin": true,
           "gridcolor": "white",
           "linecolor": "white",
           "ticks": "",
           "title": {
            "standoff": 15
           },
           "zerolinecolor": "white",
           "zerolinewidth": 2
          }
         }
        },
        "title": {
         "text": "Country Population, GDP, and Medals in 2020"
        },
        "updatemenus": [
         {
          "buttons": [
           {
            "args": [
             {
              "marker_color": [
               "red",
               "blue",
               "green"
              ],
              "name": [
               "Population",
               "GDP",
               "GDP Per Capita"
              ],
              "orientation": "h",
              "type": "bar",
              "x": [
               [
                59438851,
                67081000,
                67571107,
                71475664,
                84135428,
                107465134,
                117190911,
                125998302,
                126261000,
                144073139,
                213196304,
                227196741,
                331501080,
                1396387127,
                1411100000
               ],
               [
                720289368348.3458,
                1090515389740.842,
                1276962685803.0132,
                1326901059034.9497,
                1448559976266.8682,
                1465092271887.5105,
                1644312831689.1997,
                1645423407509.0195,
                1896755301577.4773,
                2639008701778.304,
                2667687952041.578,
                2704609160353.17,
                5040107754293.16,
                14687673898336,
                21060473611704.16
               ],
               [
                40318.55757,
                41596.5055,
                43258.26387,
                44846.7916,
                45517.79493,
                46107.76528,
                48809.22688,
                49170.75215,
                51720.37076,
                52315.66008,
                52837.90398,
                60729.45035,
                63530.63348,
                67329.67779,
                85420.19086
               ]
              ],
              "y": [
               [
                "Italy",
                "United Kingdom",
                "France",
                "Thailand",
                "Turkiye",
                "Egypt, Arab Rep.",
                "Ethiopia",
                "Mexico",
                "Japan",
                "Russian Federation",
                "Brazil",
                "Pakistan",
                "United States",
                "India",
                "China"
               ],
               [
                "Turkiye",
                "Mexico",
                "Spain",
                "Australia",
                "Brazil",
                "Russian Federation",
                "Korea, Rep.",
                "Canada",
                "Italy",
                "France",
                "India",
                "United Kingdom",
                "Japan",
                "China",
                "United States"
               ],
               [
                "United Kingdom",
                "New Zealand",
                "Canada",
                "Israel",
                "Belgium",
                "Hong Kong SAR, China",
                "Austria",
                "Finland",
                "Australia",
                "Qatar",
                "Sweden",
                "Singapore",
                "United States",
                "Norway",
                "Ireland"
               ]
              ]
             },
             {
              "title": "Country Population, GDP, and Medal Score in 2020"
             }
            ],
            "label": "2020",
            "method": "update"
           },
           {
            "args": [
             {
              "marker_color": [
               "red",
               "blue",
               "green"
              ],
              "name": [
               "Population",
               "GDP",
               "GDP Per Capita"
              ],
              "orientation": "h",
              "type": "bar",
              "x": [
               [
                60421760,
                66460344,
                67158348,
                71127802,
                82809304,
                103740765,
                111129438,
                124013861,
                126811000,
                144477859,
                210166592,
                219731479,
                326838199,
                1369003306,
                1402760000
               ],
               [
                778471900959.703,
                1222408203072.5989,
                1421702715094.387,
                1428288504780.0408,
                1630773657129.4907,
                1724845615391.6377,
                1725329192752.2764,
                1916947014156.2727,
                2091932426480.0195,
                2702929719064.968,
                2790956878821.371,
                2878152146988.055,
                5037835383162.601,
                13894817549531.04,
                20533057312589.297
               ],
               [
                42406.84543,
                43250.44097,
                43306.3083,
                46548.63841,
                47544.98115,
                48537.56689,
                49987.62616,
                51466.55656,
                54589.06039,
                57207.87151,
                62823.30944,
                66264.08117,
                66859.33834,
                79250.38785,
                82267.80932
               ]
              ],
              "y": [
               [
                "Italy",
                "United Kingdom",
                "France",
                "Thailand",
                "Turkiye",
                "Egypt, Arab Rep.",
                "Ethiopia",
                "Mexico",
                "Japan",
                "Russian Federation",
                "Brazil",
                "Pakistan",
                "United States",
                "India",
                "China"
               ],
               [
                "Turkiye",
                "Mexico",
                "Spain",
                "Australia",
                "Russian Federation",
                "Korea, Rep.",
                "Canada",
                "Brazil",
                "Italy",
                "India",
                "France",
                "United Kingdom",
                "Japan",
                "China",
                "United States"
               ],
               [
                "Israel",
                "New Zealand",
                "United Kingdom",
                "Canada",
                "Belgium",
                "Hong Kong SAR, China",
                "Finland",
                "Austria",
                "Sweden",
                "Australia",
                "United States",
                "Qatar",
                "Singapore",
                "Ireland",
                "Norway"
               ]
              ]
             },
             {
              "title": "Country Population, GDP, and Medal Score in 2018"
             }
            ],
            "label": "2018",
            "method": "update"
           },
           {
            "args": [
             {
              "marker_color": [
               "red",
               "blue",
               "green"
              ],
              "name": [
               "Population",
               "GDP",
               "GDP Per Capita"
              ],
              "orientation": "h",
              "type": "bar",
              "x": [
               [
                60627498,
                65611593,
                66724104,
                70607037,
                81019394,
                99784030,
                105293228,
                121519221,
                127076000,
                144342397,
                206859578,
                213524840,
                323071755,
                1338636340,
                1387790000
               ],
               [
                869692960135.1382,
                1078490651675.6224,
                1206535157874.182,
                1233554967037.0483,
                1256485906182.4758,
                1500111596288.4434,
                1527994742063.397,
                1795700169028.69,
                1877071687701.062,
                2294797980151.101,
                2472964344428.1714,
                2699659681290.8345,
                5003677627280.16,
                11233276537088.93,
                18695110840672.453
               ],
               [
                39375.47316,
                40058.19616,
                41146.07736,
                42012.62272,
                42315.60371,
                43733.91636,
                43814.02651,
                45307.58786,
                49875.56514,
                51965.15715,
                56860.41324,
                57866.74493,
                58467.23557,
                62895.91112,
                70460.56053
               ]
              ],
              "y": [
               [
                "Italy",
                "United Kingdom",
                "France",
                "Thailand",
                "Turkiye",
                "Egypt, Arab Rep.",
                "Ethiopia",
                "Mexico",
                "Japan",
                "Russian Federation",
                "Brazil",
                "Pakistan",
                "United States",
                "India",
                "China"
               ],
               [
                "Turkiye",
                "Mexico",
                "Australia",
                "Spain",
                "Russian Federation",
                "Korea, Rep.",
                "Canada",
                "Brazil",
                "Italy",
                "India",
                "France",
                "United Kingdom",
                "Japan",
                "China",
                "United States"
               ],
               [
                "Japan",
                "New Zealand",
                "United Kingdom",
                "Belgium",
                "Canada",
                "Hong Kong SAR, China",
                "Finland",
                "Austria",
                "Australia",
                "Sweden",
                "Singapore",
                "United States",
                "Qatar",
                "Ireland",
                "Norway"
               ]
              ]
             },
             {
              "title": "Country Population, GDP, and Medal Score in 2016"
             }
            ],
            "label": "2016",
            "method": "update"
           },
           {
            "args": [
             {
              "marker_color": [
               "red",
               "blue",
               "green"
              ],
              "name": [
               "Population",
               "GDP",
               "GDP Per Capita"
              ],
              "orientation": "h",
              "type": "bar",
              "x": [
               [
                60789140,
                64602298,
                66312067,
                69960943,
                78112073,
                95592324,
                99746766,
                118755887,
                127276000,
                143819667,
                203459650,
                208251628,
                318386329,
                1307246509,
                1371860000
               ],
               [
                938952628678.2128,
                1315351183393.7532,
                1371820537886.7407,
                1467545212589.597,
                1484318219584.19,
                1805749878325.109,
                2027231464789.8696,
                2039127445668.468,
                2162009616169.8132,
                2455993624501.2266,
                2855964488313.4043,
                3065223279437.361,
                4896994405839,
                10475682920247.86,
                17550680174985.52
               ],
               [
                40315.28556,
                43068.54872,
                44572.89875,
                47447.58893,
                47764.07151,
                50327.24029,
                50955.99832,
                51786.37717,
                55123.84979,
                55643.05943,
                57562.53079,
                60020.36046,
                62513.41122,
                93126.14946,
                97019.18275
               ]
              ],
              "y": [
               [
                "Italy",
                "United Kingdom",
                "France",
                "Thailand",
                "Turkiye",
                "Egypt, Arab Rep.",
                "Ethiopia",
                "Mexico",
                "Japan",
                "Russian Federation",
                "Brazil",
                "Pakistan",
                "United States",
                "India",
                "China"
               ],
               [
                "Turkiye",
                "Mexico",
                "Spain",
                "Australia",
                "Korea, Rep.",
                "Canada",
                "Russian Federation",
                "India",
                "Italy",
                "Brazil",
                "France",
                "United Kingdom",
                "Japan",
                "China",
                "United States"
               ],
               [
                "Hong Kong SAR, China",
                "France",
                "New Zealand",
                "United Kingdom",
                "Belgium",
                "Finland",
                "Canada",
                "Austria",
                "United States",
                "Ireland",
                "Singapore",
                "Sweden",
                "Australia",
                "Qatar",
                "Norway"
               ]
              ]
             },
             {
              "title": "Country Population, GDP, and Medal Score in 2014"
             }
            ],
            "label": "2014",
            "method": "update"
           },
           {
            "args": [
             {
              "marker_color": [
               "red",
               "blue",
               "green"
              ],
              "name": [
               "Population",
               "GDP",
               "GDP Per Capita"
              ],
              "orientation": "h",
              "type": "bar",
              "x": [
               [
                59539717,
                63700215,
                65662240,
                69157023,
                75277439,
                91240376,
                94451280,
                115755909,
                127629000,
                143201721,
                199977707,
                202205861,
                313877662,
                1274487215,
                1354190000
               ],
               [
                880556375545.2139,
                1201089987427.272,
                1278427634490.2036,
                1324750738616.1323,
                1546892142795.4512,
                1827637859428.3384,
                1828366481409.4111,
                2086957656835.2805,
                2208295839325.875,
                2465188675112.31,
                2683671716666.886,
                2706340967060.005,
                6272362996000.47,
                8532229986644.42,
                16253972228780.984
               ],
               [
                39973.38076,
                40870.85236,
                42485.58607,
                44670.56068,
                47708.06128,
                48564.91734,
                49054.69743,
                49145.28043,
                51784.41857,
                52669.08996,
                55546.48854,
                58037.82132,
                68044.71482,
                98041.36224,
                101524.1419
               ]
              ],
              "y": [
               [
                "Italy",
                "United Kingdom",
                "France",
                "Thailand",
                "Turkiye",
                "Egypt, Arab Rep.",
                "Ethiopia",
                "Mexico",
                "Japan",
                "Russian Federation",
                "Brazil",
                "Pakistan",
                "United States",
                "India",
                "China"
               ],
               [
                "Turkiye",
                "Mexico",
                "Korea, Rep.",
                "Spain",
                "Australia",
                "India",
                "Canada",
                "Italy",
                "Russian Federation",
                "Brazil",
                "France",
                "United Kingdom",
                "Japan",
                "China",
                "United States"
               ],
               [
                "New Zealand",
                "France",
                "United Kingdom",
                "Belgium",
                "Finland",
                "Austria",
                "Ireland",
                "Japan",
                "United States",
                "Canada",
                "Singapore",
                "Sweden",
                "Australia",
                "Qatar",
                "Norway"
               ]
              ]
             },
             {
              "title": "Country Population, GDP, and Medal Score in 2012"
             }
            ],
            "label": "2012",
            "method": "update"
           },
           {
            "args": [
             {
              "marker_color": [
               "red",
               "blue",
               "green"
              ],
              "name": [
               "Population",
               "GDP",
               "GDP Per Capita"
              ],
              "orientation": "h",
              "type": "bar",
              "x": [
               [
                59277417,
                62766365,
                65030575,
                68270489,
                73195345,
                87252413,
                89237791,
                112532401,
                128070000,
                142849468,
                194454498,
                196353492,
                309327143,
                1240613620,
                1337705000
               ],
               [
                776992599639.8807,
                1057801295607.39,
                1144066965133.8318,
                1148610059005.9875,
                1422108199868.7776,
                1524917512358.58,
                1617343367645.8892,
                1675615335512.6658,
                2136099955528.9648,
                2208871645559.174,
                2491397494460.1826,
                2645187882030.954,
                5759071768376.1,
                6087163874837.14,
                15048964444515.477
               ],
               [
                36035.645,
                39693.19387,
                40676.06479,
                44184.94635,
                44968.15623,
                46505.30318,
                46903.76159,
                47236.96023,
                47562.08343,
                48650.64313,
                48663.60044,
                52134.30885,
                52869.04429,
                73021.30975,
                87693.79007
               ]
              ],
              "y": [
               [
                "Italy",
                "United Kingdom",
                "France",
                "Thailand",
                "Turkiye",
                "Egypt, Arab Rep.",
                "Ethiopia",
                "Mexico",
                "Japan",
                "Russian Federation",
                "Pakistan",
                "Brazil",
                "United States",
                "India",
                "China"
               ],
               [
                "Turkiye",
                "Mexico",
                "Korea, Rep.",
                "Australia",
                "Spain",
                "Russian Federation",
                "Canada",
                "India",
                "Italy",
                "Brazil",
                "United Kingdom",
                "France",
                "Japan",
                "China",
                "United States"
               ],
               [
                "Italy",
                "United Kingdom",
                "France",
                "Belgium",
                "Japan",
                "Finland",
                "Austria",
                "Singapore",
                "Canada",
                "United States",
                "Ireland",
                "Australia",
                "Sweden",
                "Qatar",
                "Norway"
               ]
              ]
             },
             {
              "title": "Country Population, GDP, and Medal Score in 2010"
             }
            ],
            "label": "2010",
            "method": "update"
           },
           {
            "args": [
             {
              "marker_color": [
               "red",
               "blue",
               "green"
              ],
              "name": [
               "Population",
               "GDP",
               "GDP Per Capita"
              ],
              "orientation": "h",
              "type": "bar",
              "x": [
               [
                58826731,
                61806995,
                64379696,
                67328239,
                71320726,
                83844783,
                84357105,
                109684489,
                128063000,
                142742366,
                185931955,
                192672317,
                304093966,
                1206734806,
                1324655000
               ],
               [
                770462155923.9229,
                1047339010233.9298,
                1055642793238.8954,
                1109989063457.5466,
                1198895582168.0557,
                1552989690857.9185,
                1631863493493.9763,
                1660846319995.0403,
                1695824565888.2844,
                2408655348749.899,
                2930303780612.628,
                2931501838216.698,
                4594307032562.311,
                5106679115310.11,
                14769857910860.557
               ],
               [
                39876.30397,
                40007.46926,
                40944.91242,
                45515.96175,
                46710.50558,
                47429.93634,
                48303.39796,
                48570.04598,
                49679.18053,
                51919.98358,
                53772.79424,
                56152.55234,
                61353.10656,
                79811.59774,
                96944.09561
               ]
              ],
              "y": [
               [
                "Italy",
                "United Kingdom",
                "France",
                "Thailand",
                "Turkiye",
                "Egypt, Arab Rep.",
                "Ethiopia",
                "Mexico",
                "Japan",
                "Russian Federation",
                "Pakistan",
                "Brazil",
                "United States",
                "India",
                "China"
               ],
               [
                "Turkiye",
                "Korea, Rep.",
                "Australia",
                "Mexico",
                "India",
                "Canada",
                "Spain",
                "Russian Federation",
                "Brazil",
                "Italy",
                "France",
                "United Kingdom",
                "China",
                "Japan",
                "United States"
               ],
               [
                "Japan",
                "Singapore",
                "Italy",
                "France",
                "Canada",
                "United Kingdom",
                "Belgium",
                "United States",
                "Australia",
                "Austria",
                "Finland",
                "Sweden",
                "Ireland",
                "Qatar",
                "Norway"
               ]
              ]
             },
             {
              "title": "Country Population, GDP, and Medal Score in 2008"
             }
            ],
            "label": "2008",
            "method": "update"
           },
           {
            "args": [
             {
              "marker_color": [
               "red",
               "blue",
               "green"
              ],
              "name": [
               "Population",
               "GDP",
               "GDP Per Capita"
              ],
              "orientation": "h",
              "type": "bar",
              "x": [
               [
                58143979,
                60846820,
                63628261,
                66319525,
                69601333,
                79691050,
                80629670,
                106886790,
                127854000,
                143049637,
                178069984,
                188820682,
                298379912,
                1172373788,
                1311020000
               ],
               [
                557057829052.0883,
                747906558882.3774,
                940259888736.5948,
                975387131672.737,
                989930519414.6558,
                1053216909818.5154,
                1107640289693.3047,
                1260398977832.3271,
                1319264809743.397,
                1949551719306.1416,
                2320536221309.072,
                2709911683511.2905,
                2752131773873.7,
                4601663122284,
                13815586947998.322
               ],
               [
                33529.7266,
                33769.15416,
                35991.546,
                36470.21284,
                36570.72037,
                38705.1068,
                40504.06073,
                40669.32696,
                41222.602,
                44536.61972,
                46302.00088,
                46593.60216,
                54329.16186,
                59978.86121,
                74148.32008
               ]
              ],
              "y": [
               [
                "Italy",
                "United Kingdom",
                "France",
                "Thailand",
                "Turkiye",
                "Ethiopia",
                "Egypt, Arab Rep.",
                "Mexico",
                "Japan",
                "Russian Federation",
                "Pakistan",
                "Brazil",
                "United States",
                "India",
                "China"
               ],
               [
                "Turkiye",
                "Australia",
                "India",
                "Mexico",
                "Russian Federation",
                "Korea, Rep.",
                "Brazil",
                "Spain",
                "Canada",
                "Italy",
                "France",
                "United Kingdom",
                "China",
                "Japan",
                "United States"
               ],
               [
                "Italy",
                "Singapore",
                "Japan",
                "France",
                "Australia",
                "Belgium",
                "Canada",
                "Austria",
                "Finland",
                "United Kingdom",
                "United States",
                "Sweden",
                "Ireland",
                "Qatar",
                "Norway"
               ]
              ]
             },
             {
              "title": "Country Population, GDP, and Medal Score in 2006"
             }
            ],
            "label": "2006",
            "method": "update"
           },
           {
            "args": [
             {
              "marker_color": [
               "red",
               "blue",
               "green"
              ],
              "name": [
               "Population",
               "GDP",
               "GDP Per Capita"
              ],
              "orientation": "h",
              "type": "bar",
              "x": [
               [
                57685327,
                59987905,
                62716306,
                65311166,
                67785075,
                75301026,
                77522427,
                103945813,
                127761000,
                144067316,
                170648620,
                184722043,
                292805298,
                1136264583,
                1296075000
               ],
               [
                408876042627.7896,
                591016678209.2418,
                614326362277.9797,
                669293772116.7759,
                709148514836.5917,
                782240601951.3652,
                793175007653.7068,
                1026690238346.7236,
                1069055675248.6108,
                1806542968295.8083,
                1955347005115.35,
                2119633181518.7463,
                2422958623245.386,
                4893116005499.37,
                12217193198362.377
               ],
               [
                25420.23488,
                27608.53737,
                30819.99349,
                31317.20079,
                32143.68141,
                33797.16244,
                35429.40779,
                36889.23351,
                37772.17811,
                38298.98017,
                40390.78583,
                41724.63163,
                42821.67314,
                47754.20232,
                57603.83602
               ]
              ],
              "y": [
               [
                "Italy",
                "United Kingdom",
                "France",
                "Thailand",
                "Turkiye",
                "Ethiopia",
                "Egypt, Arab Rep.",
                "Mexico",
                "Japan",
                "Russian Federation",
                "Pakistan",
                "Brazil",
                "United States",
                "India",
                "China"
               ],
               [
                "Turkiye",
                "Russian Federation",
                "Australia",
                "Brazil",
                "India",
                "Mexico",
                "Korea, Rep.",
                "Canada",
                "Spain",
                "Italy",
                "China",
                "France",
                "United Kingdom",
                "Japan",
                "United States"
               ],
               [
                "New Zealand",
                "Singapore",
                "Australia",
                "Italy",
                "Canada",
                "France",
                "Belgium",
                "Austria",
                "Finland",
                "Japan",
                "United Kingdom",
                "United States",
                "Sweden",
                "Ireland",
                "Norway"
               ]
              ]
             },
             {
              "title": "Country Population, GDP, and Medal Score in 2004"
             }
            ],
            "label": "2004",
            "method": "update"
           },
           {
            "args": [
             {
              "marker_color": [
               "red",
               "blue",
               "green"
              ],
              "name": [
               "Population",
               "GDP",
               "GDP Per Capita"
              ],
              "orientation": "h",
              "type": "bar",
              "x": [
               [
                57059007,
                59370479,
                61816234,
                64222580,
                65988663,
                71073215,
                74393759,
                100917081,
                127445000,
                145306497,
                163262807,
                180476685,
                287625193,
                1098313039,
                1280400000
               ],
               [
                266849061840.0495,
                345470489116.72784,
                395580786979.7455,
                509788814907.0432,
                514937948864.3906,
                627246081604.9446,
                708756677227.0917,
                760649334040.5479,
                772106378968.2568,
                1276769338510.1853,
                1470550014516,
                1501409383011.5046,
                1785843824731.959,
                4182846045449.8,
                10929112955775.115
               ],
               [
                20291.17855,
                22159.68886,
                22376.2979,
                24255.33858,
                24288.27002,
                24665.89,
                25006.1914,
                26527.59309,
                26997.75299,
                29899.19525,
                30079.66004,
                32705.43456,
                32820.79364,
                37997.75966,
                43084.47247
               ]
              ],
              "y": [
               [
                "Italy",
                "United Kingdom",
                "France",
                "Thailand",
                "Turkiye",
                "Ethiopia",
                "Egypt, Arab Rep.",
                "Mexico",
                "Japan",
                "Russian Federation",
                "Pakistan",
                "Brazil",
                "United States",
                "India",
                "China"
               ],
               [
                "Sweden",
                "Russian Federation",
                "Australia",
                "Brazil",
                "India",
                "Korea, Rep.",
                "Spain",
                "Canada",
                "Mexico",
                "Italy",
                "China",
                "France",
                "United Kingdom",
                "Japan",
                "United States"
               ],
               [
                "Australia",
                "Singapore",
                "Italy",
                "Canada",
                "France",
                "Hong Kong SAR, China",
                "Belgium",
                "Austria",
                "Finland",
                "Sweden",
                "United Kingdom",
                "Ireland",
                "Japan",
                "United States",
                "Norway"
               ]
              ]
             },
             {
              "title": "Country Population, GDP, and Medal Score in 2002"
             }
            ],
            "label": "2002",
            "method": "update"
           },
           {
            "args": [
             {
              "marker_color": [
               "red",
               "blue",
               "green"
              ],
              "name": [
               "Population",
               "GDP",
               "GDP Per Capita"
              ],
              "orientation": "h",
              "type": "bar",
              "x": [
               [
                56942108,
                58892514,
                60921384,
                63066603,
                64113547,
                67031867,
                71371371,
                97873442,
                126843000,
                146596869,
                154369924,
                175873720,
                282162411,
                1059633675,
                1262645000
               ],
               [
                274302959024.73212,
                284203749991.18353,
                415851284349.65936,
                468394937243.61945,
                576178114264.8463,
                598363313297.0709,
                655448188173.8824,
                707906744605.6906,
                744773416042.6038,
                1146676894109.0916,
                1211346869555.122,
                1365639660919.1812,
                1666126494029.865,
                4968359075937.51,
                10250947996235.283
               ],
               [
                21630.74761,
                21853.78167,
                22416.42542,
                23098.88651,
                23852.32703,
                24271.00206,
                24345.91482,
                24625.60072,
                25756.66378,
                26334.56721,
                28290.9725,
                29624.91267,
                36329.95607,
                38131.46061,
                39169.35957
               ]
              ],
              "y": [
               [
                "Italy",
                "United Kingdom",
                "France",
                "Thailand",
                "Turkiye",
                "Ethiopia",
                "Egypt, Arab Rep.",
                "Mexico",
                "Japan",
                "Russian Federation",
                "Pakistan",
                "Brazil",
                "United States",
                "India",
                "China"
               ],
               [
                "Turkiye",
                "Argentina",
                "Australia",
                "India",
                "Korea, Rep.",
                "Spain",
                "Brazil",
                "Mexico",
                "Canada",
                "Italy",
                "China",
                "France",
                "United Kingdom",
                "Japan",
                "United States"
               ],
               [
                "Israel",
                "Australia",
                "France",
                "Belgium",
                "Singapore",
                "Canada",
                "Finland",
                "Austria",
                "Hong Kong SAR, China",
                "Ireland",
                "United Kingdom",
                "Sweden",
                "United States",
                "Norway",
                "Japan"
               ]
              ]
             },
             {
              "title": "Country Population, GDP, and Medal Score in 2000"
             }
            ],
            "label": "2000",
            "method": "update"
           },
           {
            "args": [
             {
              "marker_color": [
               "red",
               "blue",
               "green"
              ],
              "name": [
               "Population",
               "GDP",
               "GDP Per Capita"
              ],
              "orientation": "h",
              "type": "bar",
              "x": [
               [
                56906744,
                58487141,
                60192790,
                61745217,
                62242204,
                63136493,
                68446011,
                94767284,
                126400000,
                145476106,
                147670784,
                171039804,
                275854000,
                1021434576,
                1241935000
               ],
               [
                275967393939.74744,
                298948249994.8109,
                383330931061.9429,
                399660856049.0535,
                421351477464.2523,
                526502129421.0598,
                619214834500.4731,
                634000000039.0671,
                863711007239.6007,
                1029043097559.4454,
                1270052525887.9512,
                1503108739245.927,
                1655061278741.1062,
                4098362709104,
                9062818201365.3
               ],
               [
                21024.58507,
                21478.38516,
                21829.29987,
                22318.1373,
                24294.85477,
                24971.57449,
                25338.44329,
                25808.97095,
                26009.26949,
                27361.87511,
                28297.866,
                30596.5272,
                32423.75561,
                32853.67695,
                34788.35985
               ]
              ],
              "y": [
               [
                "Italy",
                "United Kingdom",
                "France",
                "Thailand",
                "Turkiye",
                "Ethiopia",
                "Egypt, Arab Rep.",
                "Mexico",
                "Japan",
                "Pakistan",
                "Russian Federation",
                "Brazil",
                "United States",
                "India",
                "China"
               ],
               [
                "Turkiye",
                "Argentina",
                "Korea, Rep.",
                "Australia",
                "India",
                "Mexico",
                "Spain",
                "Canada",
                "Brazil",
                "China",
                "Italy",
                "France",
                "United Kingdom",
                "Japan",
                "United States"
               ],
               [
                "Canada",
                "Australia",
                "Singapore",
                "Italy",
                "Ireland",
                "France",
                "Belgium",
                "Hong Kong SAR, China",
                "Finland",
                "Austria",
                "United Kingdom",
                "Sweden",
                "Japan",
                "United States",
                "Norway"
               ]
              ]
             },
             {
              "title": "Country Population, GDP, and Medal Score in 1998"
             }
            ],
            "label": "1998",
            "method": "update"
           },
           {
            "args": [
             {
              "marker_color": [
               "red",
               "blue",
               "green"
              ],
              "name": [
               "Population",
               "GDP",
               "GDP Per Capita"
              ],
              "orientation": "h",
              "type": "bar",
              "x": [
               [
                56860281,
                58166950,
                59347649,
                59756533,
                60211096,
                60293786,
                65565195,
                91586555,
                125757000,
                137234810,
                148160129,
                166037122,
                269394000,
                983281218,
                1217550000
               ],
               [
                291743811504.62366,
                391724891190.70667,
                392897054326.8792,
                401311077365.16327,
                410975595318.43134,
                610169557011.9308,
                628546387925.0615,
                642588992571.5088,
                850426432934.5187,
                863746717522.005,
                1312426528035.715,
                1421619344902.9731,
                1605675086663.473,
                4923391533749.91,
                8073122000491.68
               ],
               [
                20835.89771,
                21227.34753,
                22020.09372,
                23081.60468,
                24440.32814,
                24818.15455,
                25783.45049,
                26233.6289,
                26870.28524,
                27489.55518,
                29809.07677,
                29967.71272,
                32998.96816,
                37321.9742,
                39150.03963
               ]
              ],
              "y": [
               [
                "Italy",
                "United Kingdom",
                "Ethiopia",
                "France",
                "Thailand",
                "Turkiye",
                "Egypt, Arab Rep.",
                "Mexico",
                "Japan",
                "Pakistan",
                "Russian Federation",
                "Brazil",
                "United States",
                "India",
                "China"
               ],
               [
                "Sweden",
                "Russian Federation",
                "India",
                "Australia",
                "Mexico",
                "Korea, Rep.",
                "Canada",
                "Spain",
                "Brazil",
                "China",
                "Italy",
                "United Kingdom",
                "France",
                "Japan",
                "United States"
               ],
               [
                "Ireland",
                "Canada",
                "Australia",
                "Italy",
                "United Kingdom",
                "Hong Kong SAR, China",
                "Finland",
                "Singapore",
                "France",
                "Belgium",
                "Austria",
                "United States",
                "Sweden",
                "Norway",
                "Japan"
               ]
              ]
             },
             {
              "title": "Country Population, GDP, and Medal Score in 1996"
             }
            ],
            "label": "1996",
            "method": "update"
           },
           {
            "args": [
             {
              "marker_color": [
               "red",
               "blue",
               "green"
              ],
              "name": [
               "Population",
               "GDP",
               "GDP Per Capita"
              ],
              "orientation": "h",
              "type": "bar",
              "x": [
               [
                55620211,
                56843400,
                57865745,
                58310245,
                58610010,
                59327585,
                62775847,
                88314424,
                125178000,
                129245139,
                148407912,
                160980472,
                263126000,
                945261958,
                1191835000
               ],
               [
                257440000004.0729,
                322809408511.657,
                327275583514.94165,
                395077296760.4796,
                463617400046.5018,
                525369851291.1176,
                527813238108.3189,
                530562634413.996,
                564324669984.4144,
                578139279497.908,
                1099216688301.06,
                1140489746038.8845,
                1393982750726.453,
                4998797548180.68,
                7287236000990.92
               ],
               [
                15902.92968,
                18129.79072,
                19337.6309,
                19709.2381,
                19935.38146,
                20301.33309,
                21553.0309,
                22502.57974,
                23496.36768,
                24208.55479,
                25646.70066,
                26083.61439,
                27694.85342,
                29315.84191,
                39933.51506
               ]
              ],
              "y": [
               [
                "Ethiopia",
                "Italy",
                "United Kingdom",
                "Turkiye",
                "Thailand",
                "France",
                "Egypt, Arab Rep.",
                "Mexico",
                "Japan",
                "Pakistan",
                "Russian Federation",
                "Brazil",
                "United States",
                "India",
                "China"
               ],
               [
                "Argentina",
                "Australia",
                "India",
                "Russian Federation",
                "Korea, Rep.",
                "Brazil",
                "Mexico",
                "Spain",
                "China",
                "Canada",
                "Italy",
                "United Kingdom",
                "France",
                "Japan",
                "United States"
               ],
               [
                "Ireland",
                "Australia",
                "Italy",
                "United Kingdom",
                "Canada",
                "Finland",
                "Singapore",
                "Hong Kong SAR, China",
                "France",
                "Belgium",
                "Austria",
                "Sweden",
                "United States",
                "Norway",
                "Japan"
               ]
              ]
             },
             {
              "title": "Country Population, GDP, and Medal Score in 1994"
             }
            ],
            "label": "1994",
            "method": "update"
           },
           {
            "args": [
             {
              "marker_color": [
               "red",
               "blue",
               "green"
              ],
              "name": [
               "Population",
               "GDP",
               "GDP Per Capita"
              ],
              "orientation": "h",
              "type": "bar",
              "x": [
               [
                57580402,
                58849943,
                58849943,
                59989142,
                84993164,
                122375179,
                124425000,
                124425000,
                148538197,
                155900790,
                256514000,
                256514000,
                907574049,
                1164970000,
                1164970000
               ],
               [
                426915712708.731,
                460290570967.0306,
                592387689250.3892,
                592387689250.3892,
                630916018389.8502,
                630916018389.8502,
                1179659529930.8577,
                1320161645062.694,
                1320161645062.694,
                1401465923313.54,
                1401465923313.54,
                3908809463832,
                3908809463832,
                6520327000940.92,
                6520327000940.92
               ],
               [
                23243.47453,
                23243.47453,
                23372.61917,
                23814.22737,
                23814.22737,
                24880.16412,
                24880.16412,
                25418.99078,
                25418.99078,
                30523.98506,
                30523.98506,
                31414.98464,
                31414.98464,
                32800.98269,
                32800.98269
               ]
              ],
              "y": [
               [
                "United Kingdom",
                "France",
                "France",
                "Egypt, Arab Rep.",
                "Mexico",
                "Pakistan",
                "Japan",
                "Japan",
                "Russian Federation",
                "Brazil",
                "United States",
                "United States",
                "India",
                "China",
                "China"
               ],
               [
                "China",
                "Russian Federation",
                "Canada",
                "Canada",
                "Spain",
                "Spain",
                "United Kingdom",
                "Italy",
                "Italy",
                "France",
                "France",
                "Japan",
                "Japan",
                "United States",
                "United States"
               ],
               [
                "Italy",
                "Italy",
                "Belgium",
                "France",
                "France",
                "Austria",
                "Austria",
                "United States",
                "United States",
                "Norway",
                "Norway",
                "Japan",
                "Japan",
                "Sweden",
                "Sweden"
               ]
              ]
             },
             {
              "title": "Country Population, GDP, and Medal Score in 1992"
             }
            ],
            "label": "1992",
            "method": "update"
           },
           {
            "args": [
             {
              "marker_color": [
               "red",
               "blue",
               "green"
              ],
              "name": [
               "Population",
               "GDP",
               "GDP Per Capita"
              ],
              "orientation": "h",
              "type": "bar",
              "x": [
               [
                56629288,
                56629288,
                56928327,
                57472651,
                57472651,
                78892015,
                107967838,
                122578000,
                122578000,
                145253973,
                146857000,
                244499000,
                244499000,
                833729681,
                1101630000
               ],
               [
                296588994850.60297,
                312353631163.176,
                376160409937.19183,
                507354351115.2827,
                507354351115.2827,
                554713452088.6641,
                891608956954.9829,
                891608956954.9829,
                910122732262.202,
                1018847043031.3104,
                1018847043031.3104,
                3071683012754.54,
                3071683012754.54,
                5236437999873.07,
                5236437999873.07
               ],
               [
                17578.61894,
                17727.51083,
                17727.51083,
                18936.9641,
                18936.9641,
                21417.01193,
                21417.01193,
                22047.79332,
                22047.79332,
                24207.28147,
                24207.28147,
                24534.69382,
                24534.69382,
                25059.00743,
                25059.00743
               ]
              ],
              "y": [
               [
                "Italy",
                "Italy",
                "United Kingdom",
                "France",
                "France",
                "Mexico",
                "Pakistan",
                "Japan",
                "Japan",
                "Brazil",
                "Russian Federation",
                "United States",
                "United States",
                "India",
                "China"
               ],
               [
                "India",
                "China",
                "Spain",
                "Canada",
                "Canada",
                "Russian Federation",
                "Italy",
                "Italy",
                "United Kingdom",
                "France",
                "France",
                "Japan",
                "Japan",
                "United States",
                "United States"
               ],
               [
                "Austria",
                "France",
                "France",
                "Canada",
                "Canada",
                "United States",
                "United States",
                "Finland",
                "Finland",
                "Norway",
                "Norway",
                "Sweden",
                "Sweden",
                "Japan",
                "Japan"
               ]
              ]
             },
             {
              "title": "Country Population, GDP, and Medal Score in 1988"
             }
            ],
            "label": "1988",
            "method": "update"
           },
           {
            "args": [
             {
              "marker_color": [
               "red",
               "blue",
               "green"
              ],
              "name": [
               "Population",
               "GDP",
               "GDP Per Capita"
              ],
              "orientation": "h",
              "type": "bar",
              "x": [
               [
                56275701,
                56422072,
                56422072,
                56576718,
                56576718,
                73489654,
                94003867,
                120083000,
                120083000,
                133888775,
                142745000,
                235825000,
                235825000,
                762895156,
                1036825000
               ],
               [
                193519290019.0066,
                212158234193.2387,
                259946510908.425,
                355372558197.1652,
                355372558197.1652,
                437887689023.1579,
                437887689023.1579,
                461487097652.10175,
                461487097652.10175,
                530683779920.02325,
                530683779920.02325,
                1318381627544.23,
                1318381627544.23,
                4037612998821,
                4037612998821
               ],
               [
                9430.069648,
                9430.069648,
                10833.86629,
                10833.86629,
                10978.91981,
                10978.91981,
                12421.4926,
                13099.02083,
                13099.02083,
                13877.91708,
                13877.91708,
                14989.48577,
                14989.48577,
                17121.22548,
                17121.22548
               ]
              ],
              "y": [
               [
                "France",
                "United Kingdom",
                "United Kingdom",
                "Italy",
                "Italy",
                "Mexico",
                "Pakistan",
                "Japan",
                "Japan",
                "Brazil",
                "Russian Federation",
                "United States",
                "United States",
                "India",
                "China"
               ],
               [
                "Australia",
                "India",
                "China",
                "Canada",
                "Canada",
                "Italy",
                "Italy",
                "United Kingdom",
                "United Kingdom",
                "France",
                "France",
                "Japan",
                "Japan",
                "United States",
                "United States"
               ],
               [
                "France",
                "France",
                "Finland",
                "Finland",
                "Japan",
                "Japan",
                "Australia",
                "Sweden",
                "Sweden",
                "Canada",
                "Canada",
                "Norway",
                "Norway",
                "United States",
                "United States"
               ]
              ]
             },
             {
              "title": "Country Population, GDP, and Medal Score in 1984"
             }
            ],
            "label": "1984",
            "method": "update"
           },
           {
            "args": [
             {
              "marker_color": [
               "red",
               "blue",
               "green"
              ],
              "name": [
               "Population",
               "GDP",
               "GDP Per Capita"
              ],
              "orientation": "h",
              "type": "bar",
              "x": [
               [
                49973920,
                55052582,
                55052582,
                56314216,
                56314216,
                56433883,
                56433883,
                67705186,
                80624057,
                116807000,
                122288383,
                139010000,
                227225000,
                696828385,
                981235000
               ],
               [
                149984401089.64,
                186325345119.7364,
                191149211587.917,
                205139086929.32303,
                232766822925.7021,
                237393489885.34705,
                273853826490.718,
                477256775919.196,
                477256775919.196,
                564947710898.5293,
                564947710898.5293,
                701288419611.269,
                701288419611.269,
                1105385973740.9849,
                2857307000859.75
               ],
               [
                10032.06208,
                10032.06208,
                10208.57617,
                10869.54649,
                10869.54649,
                11170.56397,
                11223.93756,
                11223.93756,
                12574.79151,
                12738.52005,
                12738.52005,
                12864.00257,
                15772.24091,
                17097.83265,
                17097.83265
               ]
              ],
              "y": [
               [
                "Ukraine",
                "France",
                "France",
                "United Kingdom",
                "United Kingdom",
                "Italy",
                "Italy",
                "Mexico",
                "Pakistan",
                "Japan",
                "Brazil",
                "Russian Federation",
                "United States",
                "India",
                "China"
               ],
               [
                "Australia",
                "India",
                "China",
                "Mexico",
                "Spain",
                "Brazil",
                "Canada",
                "Italy",
                "Italy",
                "United Kingdom",
                "United Kingdom",
                "France",
                "France",
                "Japan",
                "United States"
               ],
               [
                "United Kingdom",
                "United Kingdom",
                "Australia",
                "Austria",
                "Austria",
                "Canada",
                "Finland",
                "Finland",
                "United States",
                "France",
                "France",
                "Belgium",
                "Norway",
                "Sweden",
                "Sweden"
               ]
              ]
             },
             {
              "title": "Country Population, GDP, and Medal Score in 1980"
             }
            ],
            "label": "1980",
            "method": "update"
           },
           {
            "args": [
             {
              "marker_color": [
               "red",
               "blue",
               "green"
              ],
              "name": [
               "Population",
               "GDP",
               "GDP Per Capita"
              ],
              "orientation": "h",
              "type": "bar",
              "x": [
               [
                53966558,
                53966558,
                55718260,
                55718260,
                56211968,
                56211968,
                60452543,
                70230923,
                111286504,
                112775000,
                135147000,
                218035000,
                218035000,
                637451448,
                930685000
               ],
               [
                105066179256.175,
                118507184793.81586,
                153168949194.7637,
                153940455367.174,
                206575564898.1853,
                206575564898.1853,
                224717278412.00403,
                224717278412.00403,
                232614555277.6868,
                232614555277.6868,
                372319038527.1725,
                372319038527.1725,
                586161859055.1749,
                1873411999939.7952,
                1873411999939.7952
               ],
               [
                5678.386658,
                6739.690713,
                6739.690713,
                6899.069578,
                6899.069578,
                7243.047341,
                7487.078975,
                8592.253537,
                8592.253537,
                8809.26466,
                8809.26466,
                8927.201627,
                8927.201627,
                10868.27577,
                10868.27577
               ]
              ],
              "y": [
               [
                "France",
                "France",
                "Italy",
                "Italy",
                "United Kingdom",
                "United Kingdom",
                "Mexico",
                "Pakistan",
                "Brazil",
                "Japan",
                "Russian Federation",
                "United States",
                "United States",
                "India",
                "China"
               ],
               [
                "Australia",
                "Spain",
                "Brazil",
                "China",
                "Canada",
                "Canada",
                "Italy",
                "Italy",
                "United Kingdom",
                "United Kingdom",
                "France",
                "France",
                "Japan",
                "United States",
                "United States"
               ],
               [
                "Austria",
                "Finland",
                "Finland",
                "France",
                "France",
                "Belgium",
                "Australia",
                "United States",
                "United States",
                "Canada",
                "Canada",
                "Norway",
                "Norway",
                "Sweden",
                "Sweden"
               ]
              ]
             },
             {
              "title": "Country Population, GDP, and Medal Score in 1976"
             }
            ],
            "label": "1976",
            "method": "update"
           },
           {
            "args": [
             {
              "marker_color": [
               "red",
               "blue",
               "green"
              ],
              "name": [
               "Population",
               "GDP",
               "GDP Per Capita"
              ],
              "orientation": "h",
              "type": "bar",
              "x": [
               [
                52637888,
                52637888,
                53543436,
                54381345,
                54381345,
                56086065,
                62509565,
                101194394,
                107188000,
                107188000,
                131909000,
                209896000,
                209896000,
                582837973,
                862030000
               ],
               [
                59132415229.163,
                59132415229.163,
                71463193804.21297,
                113082820485.83464,
                113082820485.83464,
                113687586261.236,
                145260039815.00732,
                145260039815.00732,
                169965034958.3174,
                203494148221.5552,
                203494148221.5552,
                318031297467.248,
                318031297467.248,
                1279110000029.04,
                1279110000029.04
               ],
               [
                3177.645701,
                3177.645701,
                3294.648943,
                3831.6319,
                3865.9254,
                3865.9254,
                3949.461643,
                4413.575692,
                4413.575692,
                5089.587902,
                5089.587902,
                6027.128499,
                6027.128499,
                6094.01799,
                6094.01799
               ]
              ],
              "y": [
               [
                "France",
                "France",
                "Mexico",
                "Italy",
                "Italy",
                "United Kingdom",
                "Pakistan",
                "Brazil",
                "Japan",
                "Japan",
                "Russian Federation",
                "United States",
                "United States",
                "India",
                "China"
               ],
               [
                "Spain",
                "Spain",
                "India",
                "Canada",
                "Canada",
                "China",
                "Italy",
                "Italy",
                "United Kingdom",
                "France",
                "France",
                "Japan",
                "Japan",
                "United States",
                "United States"
               ],
               [
                "Finland",
                "Finland",
                "New Zealand",
                "Belgium",
                "France",
                "France",
                "Australia",
                "Norway",
                "Norway",
                "Canada",
                "Canada",
                "Sweden",
                "Sweden",
                "United States",
                "United States"
               ]
              ]
             },
             {
              "title": "Country Population, GDP, and Medal Score in 1972"
             }
            ],
            "label": "1972",
            "method": "update"
           },
           {
            "args": [
             {
              "marker_color": [
               "red",
               "blue",
               "green"
              ],
              "name": [
               "Population",
               "GDP",
               "GDP Per Capita"
              ],
              "orientation": "h",
              "type": "bar",
              "x": [
               [
                46635196,
                47170337,
                50817020,
                50817020,
                53235750,
                53235750,
                55211700,
                56124743,
                91659246,
                101011000,
                128928000,
                200706000,
                200706000,
                533431909,
                774510000
               ],
               [
                31475548481.617043,
                32712509803.356,
                33930457429.557503,
                53085455869.13175,
                70846535058.2781,
                71829810520.768,
                71829810520.768,
                87942231689.12775,
                87942231689.12775,
                107759910074.7732,
                129785441493.24786,
                129785441493.24786,
                146601072717.733,
                942499999913.34,
                942499999913.34
               ],
               [
                1907.077272,
                1907.077272,
                1951.758596,
                2222.361511,
                2553.975843,
                2553.975843,
                2662.117492,
                2662.117492,
                2723.999484,
                3462.678872,
                3462.678872,
                3926.409001,
                3926.409001,
                4695.92339,
                4695.92339
               ]
              ],
              "y": [
               [
                "Ukraine",
                "Mexico",
                "France",
                "France",
                "Italy",
                "Italy",
                "United Kingdom",
                "Pakistan",
                "Brazil",
                "Japan",
                "Russian Federation",
                "United States",
                "United States",
                "India",
                "China"
               ],
               [
                "Spain",
                "Australia",
                "Brazil",
                "India",
                "China",
                "Canada",
                "Canada",
                "Italy",
                "Italy",
                "United Kingdom",
                "France",
                "France",
                "Japan",
                "United States",
                "United States"
               ],
               [
                "Finland",
                "Finland",
                "United Kingdom",
                "Belgium",
                "France",
                "France",
                "Norway",
                "Norway",
                "Australia",
                "Canada",
                "Canada",
                "Sweden",
                "Sweden",
                "United States",
                "United States"
               ]
              ]
             },
             {
              "title": "Country Population, GDP, and Medal Score in 1968"
             }
            ],
            "label": "1968",
            "method": "update"
           },
           {
            "args": [
             {
              "marker_color": [
               "red",
               "blue",
               "green"
              ],
              "name": [
               "Population",
               "GDP",
               "GDP Per Capita"
              ],
              "orientation": "h",
              "type": "bar",
              "x": [
               [
                44941406,
                48733997,
                48733997,
                50552592,
                51675350,
                51675350,
                54000000,
                54000000,
                82262794,
                96903000,
                125345000,
                191889000,
                191889000,
                489059309,
                698355000
               ],
               [
                23799977595.719,
                25605249377.87973,
                49377522896.450005,
                49377522896.450005,
                56480289962.1666,
                59708343488.7618,
                63175416995.089005,
                63175416995.089005,
                81749006377.28549,
                94007851070.0698,
                94007851070.0698,
                94407558372,
                94407558372,
                685800000048.465,
                685800000048.465
               ],
               [
                1707.503938,
                1707.503938,
                1748.288118,
                1748.288118,
                1928.999402,
                1928.999402,
                1937.884614,
                2131.277657,
                2555.111146,
                2555.111146,
                2813.546976,
                2941.048899,
                2941.048899,
                3573.941185,
                3573.941185
               ]
              ],
              "y": [
               [
                "Ukraine",
                "France",
                "France",
                "Pakistan",
                "Italy",
                "Italy",
                "United Kingdom",
                "United Kingdom",
                "Brazil",
                "Japan",
                "Russian Federation",
                "United States",
                "United States",
                "India",
                "China"
               ],
               [
                "Australia",
                "Argentina",
                "Canada",
                "Canada",
                "India",
                "China",
                "Italy",
                "Italy",
                "Japan",
                "France",
                "France",
                "United Kingdom",
                "United Kingdom",
                "United States",
                "United States"
               ],
               [
                "Finland",
                "Finland",
                "United Kingdom",
                "United Kingdom",
                "France",
                "France",
                "Norway",
                "Australia",
                "Canada",
                "Canada",
                "New Zealand",
                "Sweden",
                "Sweden",
                "United States",
                "United States"
               ]
              ]
             },
             {
              "title": "Country Population, GDP, and Medal Score in 1964"
             }
            ],
            "label": "1964",
            "method": "update"
           },
           {
            "args": [
             {
              "marker_color": [
               "red",
               "blue",
               "green"
              ],
              "name": [
               "Population",
               "GDP",
               "GDP Per Capita"
              ],
              "orientation": "h",
              "type": "bar",
              "x": [
               [
                36268055,
                42767251,
                45954226,
                46649927,
                46649927,
                50199700,
                50199700,
                52400000,
                73092515,
                93216000,
                119897000,
                180671000,
                180671000,
                445954579,
                667070000
               ],
               [
                15822585035.882288,
                17030465543.012688,
                18605666932.112774,
                37029883874.36023,
                40385288341.87301,
                40385288341.87301,
                40461721694.68092,
                40461721694.68092,
                44307342951.1296,
                59716467625.0757,
                62225478007.09517,
                62225478007.09517,
                73233967677.2,
                543299999931.59503,
                543299999931.59503
               ],
               [
                1229.174748,
                1273.691659,
                1333.881573,
                1333.881573,
                1397.594803,
                1441.75566,
                1441.75566,
                1810.510249,
                2114.002973,
                2114.002973,
                2259.250511,
                2259.250511,
                2312.949992,
                3007.123445,
                3007.123445
               ]
              ],
              "y": [
               [
                "Mexico",
                "Ukraine",
                "Pakistan",
                "France",
                "France",
                "Italy",
                "Italy",
                "United Kingdom",
                "Brazil",
                "Japan",
                "Russian Federation",
                "United States",
                "United States",
                "India",
                "China"
               ],
               [
                "Sweden",
                "Brazil",
                "Australia",
                "India",
                "Italy",
                "Italy",
                "Canada",
                "Canada",
                "Japan",
                "China",
                "France",
                "France",
                "United Kingdom",
                "United States",
                "United States"
               ],
               [
                "Israel",
                "Belgium",
                "France",
                "France",
                "United Kingdom",
                "Norway",
                "Norway",
                "Australia",
                "Sweden",
                "Sweden",
                "Canada",
                "Canada",
                "New Zealand",
                "United States",
                "United States"
               ]
              ]
             },
             {
              "title": "Country Population, GDP, and Medal Score in 1960"
             }
            ],
            "label": "1960",
            "method": "update"
           }
          ],
          "direction": "down",
          "showactive": true,
          "x": 0.1,
          "xanchor": "left",
          "y": 1.1,
          "yanchor": "top"
         }
        ],
        "width": 1000,
        "xaxis": {
         "anchor": "y",
         "domain": [
          0,
          0.2888888888888889
         ],
         "title": {
          "text": "Top Population"
         }
        },
        "xaxis2": {
         "anchor": "y2",
         "domain": [
          0.35555555555555557,
          0.6444444444444445
         ],
         "title": {
          "text": "Top GDP"
         }
        },
        "xaxis3": {
         "anchor": "y3",
         "domain": [
          0.7111111111111111,
          1
         ],
         "title": {
          "text": "GDP Per Capita"
         }
        },
        "yaxis": {
         "anchor": "x",
         "domain": [
          0,
          1
         ]
        },
        "yaxis2": {
         "anchor": "x2",
         "domain": [
          0,
          1
         ]
        },
        "yaxis3": {
         "anchor": "x3",
         "domain": [
          0,
          1
         ]
        }
       }
      },
      "text/html": [
       "<div>                            <div id=\"40de8cc5-6788-408f-a6cb-6074143ca6ca\" class=\"plotly-graph-div\" style=\"height:600px; width:1000px;\"></div>            <script type=\"text/javascript\">                require([\"plotly\"], function(Plotly) {                    window.PLOTLYENV=window.PLOTLYENV || {};                                    if (document.getElementById(\"40de8cc5-6788-408f-a6cb-6074143ca6ca\")) {                    Plotly.newPlot(                        \"40de8cc5-6788-408f-a6cb-6074143ca6ca\",                        [{\"marker\":{\"color\":\"red\",\"opacity\":0.75},\"name\":\"Population\",\"orientation\":\"h\",\"x\":[107465134.0,117190911.0,125998302.0,126261000.0,144073139.0,213196304.0,227196741.0,331501080.0,1396387127.0,1411100000.0],\"y\":[\"Egypt, Arab Rep.\",\"Ethiopia\",\"Mexico\",\"Japan\",\"Russian Federation\",\"Brazil\",\"Pakistan\",\"United States\",\"India\",\"China\"],\"type\":\"bar\",\"xaxis\":\"x\",\"yaxis\":\"y\"},{\"marker\":{\"color\":\"blue\",\"opacity\":0.75},\"name\":\"GDP\",\"orientation\":\"h\",\"x\":[1465092271887.5105,1644312831689.1997,1645423407509.0195,1896755301577.4773,2639008701778.304,2667687952041.578,2704609160353.17,5040107754293.16,14687673898336.0,21060473611704.16],\"y\":[\"Russian Federation\",\"Korea, Rep.\",\"Canada\",\"Italy\",\"France\",\"India\",\"United Kingdom\",\"Japan\",\"China\",\"United States\"],\"type\":\"bar\",\"xaxis\":\"x2\",\"yaxis\":\"y2\"},{\"marker\":{\"color\":\"green\",\"opacity\":0.75},\"name\":\"GDP Per Capita\",\"orientation\":\"h\",\"x\":[40318.55757,41596.5055,43258.26387,44846.7916,45517.79493,46107.76528,48809.22688,49170.75215,51720.37076,52315.66008,52837.90398,60729.45035,63530.63348,67329.67779,85420.19086],\"y\":[\"United Kingdom\",\"New Zealand\",\"Canada\",\"Israel\",\"Belgium\",\"Hong Kong SAR, China\",\"Austria\",\"Finland\",\"Australia\",\"Qatar\",\"Sweden\",\"Singapore\",\"United States\",\"Norway\",\"Ireland\"],\"type\":\"bar\",\"xaxis\":\"x3\",\"yaxis\":\"y3\"}],                        {\"template\":{\"data\":{\"histogram2dcontour\":[{\"type\":\"histogram2dcontour\",\"colorbar\":{\"outlinewidth\":0,\"ticks\":\"\"},\"colorscale\":[[0.0,\"#0d0887\"],[0.1111111111111111,\"#46039f\"],[0.2222222222222222,\"#7201a8\"],[0.3333333333333333,\"#9c179e\"],[0.4444444444444444,\"#bd3786\"],[0.5555555555555556,\"#d8576b\"],[0.6666666666666666,\"#ed7953\"],[0.7777777777777778,\"#fb9f3a\"],[0.8888888888888888,\"#fdca26\"],[1.0,\"#f0f921\"]]}],\"choropleth\":[{\"type\":\"choropleth\",\"colorbar\":{\"outlinewidth\":0,\"ticks\":\"\"}}],\"histogram2d\":[{\"type\":\"histogram2d\",\"colorbar\":{\"outlinewidth\":0,\"ticks\":\"\"},\"colorscale\":[[0.0,\"#0d0887\"],[0.1111111111111111,\"#46039f\"],[0.2222222222222222,\"#7201a8\"],[0.3333333333333333,\"#9c179e\"],[0.4444444444444444,\"#bd3786\"],[0.5555555555555556,\"#d8576b\"],[0.6666666666666666,\"#ed7953\"],[0.7777777777777778,\"#fb9f3a\"],[0.8888888888888888,\"#fdca26\"],[1.0,\"#f0f921\"]]}],\"heatmap\":[{\"type\":\"heatmap\",\"colorbar\":{\"outlinewidth\":0,\"ticks\":\"\"},\"colorscale\":[[0.0,\"#0d0887\"],[0.1111111111111111,\"#46039f\"],[0.2222222222222222,\"#7201a8\"],[0.3333333333333333,\"#9c179e\"],[0.4444444444444444,\"#bd3786\"],[0.5555555555555556,\"#d8576b\"],[0.6666666666666666,\"#ed7953\"],[0.7777777777777778,\"#fb9f3a\"],[0.8888888888888888,\"#fdca26\"],[1.0,\"#f0f921\"]]}],\"heatmapgl\":[{\"type\":\"heatmapgl\",\"colorbar\":{\"outlinewidth\":0,\"ticks\":\"\"},\"colorscale\":[[0.0,\"#0d0887\"],[0.1111111111111111,\"#46039f\"],[0.2222222222222222,\"#7201a8\"],[0.3333333333333333,\"#9c179e\"],[0.4444444444444444,\"#bd3786\"],[0.5555555555555556,\"#d8576b\"],[0.6666666666666666,\"#ed7953\"],[0.7777777777777778,\"#fb9f3a\"],[0.8888888888888888,\"#fdca26\"],[1.0,\"#f0f921\"]]}],\"contourcarpet\":[{\"type\":\"contourcarpet\",\"colorbar\":{\"outlinewidth\":0,\"ticks\":\"\"}}],\"contour\":[{\"type\":\"contour\",\"colorbar\":{\"outlinewidth\":0,\"ticks\":\"\"},\"colorscale\":[[0.0,\"#0d0887\"],[0.1111111111111111,\"#46039f\"],[0.2222222222222222,\"#7201a8\"],[0.3333333333333333,\"#9c179e\"],[0.4444444444444444,\"#bd3786\"],[0.5555555555555556,\"#d8576b\"],[0.6666666666666666,\"#ed7953\"],[0.7777777777777778,\"#fb9f3a\"],[0.8888888888888888,\"#fdca26\"],[1.0,\"#f0f921\"]]}],\"surface\":[{\"type\":\"surface\",\"colorbar\":{\"outlinewidth\":0,\"ticks\":\"\"},\"colorscale\":[[0.0,\"#0d0887\"],[0.1111111111111111,\"#46039f\"],[0.2222222222222222,\"#7201a8\"],[0.3333333333333333,\"#9c179e\"],[0.4444444444444444,\"#bd3786\"],[0.5555555555555556,\"#d8576b\"],[0.6666666666666666,\"#ed7953\"],[0.7777777777777778,\"#fb9f3a\"],[0.8888888888888888,\"#fdca26\"],[1.0,\"#f0f921\"]]}],\"mesh3d\":[{\"type\":\"mesh3d\",\"colorbar\":{\"outlinewidth\":0,\"ticks\":\"\"}}],\"scatter\":[{\"fillpattern\":{\"fillmode\":\"overlay\",\"size\":10,\"solidity\":0.2},\"type\":\"scatter\"}],\"parcoords\":[{\"type\":\"parcoords\",\"line\":{\"colorbar\":{\"outlinewidth\":0,\"ticks\":\"\"}}}],\"scatterpolargl\":[{\"type\":\"scatterpolargl\",\"marker\":{\"colorbar\":{\"outlinewidth\":0,\"ticks\":\"\"}}}],\"bar\":[{\"error_x\":{\"color\":\"#2a3f5f\"},\"error_y\":{\"color\":\"#2a3f5f\"},\"marker\":{\"line\":{\"color\":\"#E5ECF6\",\"width\":0.5},\"pattern\":{\"fillmode\":\"overlay\",\"size\":10,\"solidity\":0.2}},\"type\":\"bar\"}],\"scattergeo\":[{\"type\":\"scattergeo\",\"marker\":{\"colorbar\":{\"outlinewidth\":0,\"ticks\":\"\"}}}],\"scatterpolar\":[{\"type\":\"scatterpolar\",\"marker\":{\"colorbar\":{\"outlinewidth\":0,\"ticks\":\"\"}}}],\"histogram\":[{\"marker\":{\"pattern\":{\"fillmode\":\"overlay\",\"size\":10,\"solidity\":0.2}},\"type\":\"histogram\"}],\"scattergl\":[{\"type\":\"scattergl\",\"marker\":{\"colorbar\":{\"outlinewidth\":0,\"ticks\":\"\"}}}],\"scatter3d\":[{\"type\":\"scatter3d\",\"line\":{\"colorbar\":{\"outlinewidth\":0,\"ticks\":\"\"}},\"marker\":{\"colorbar\":{\"outlinewidth\":0,\"ticks\":\"\"}}}],\"scattermapbox\":[{\"type\":\"scattermapbox\",\"marker\":{\"colorbar\":{\"outlinewidth\":0,\"ticks\":\"\"}}}],\"scatterternary\":[{\"type\":\"scatterternary\",\"marker\":{\"colorbar\":{\"outlinewidth\":0,\"ticks\":\"\"}}}],\"scattercarpet\":[{\"type\":\"scattercarpet\",\"marker\":{\"colorbar\":{\"outlinewidth\":0,\"ticks\":\"\"}}}],\"carpet\":[{\"aaxis\":{\"endlinecolor\":\"#2a3f5f\",\"gridcolor\":\"white\",\"linecolor\":\"white\",\"minorgridcolor\":\"white\",\"startlinecolor\":\"#2a3f5f\"},\"baxis\":{\"endlinecolor\":\"#2a3f5f\",\"gridcolor\":\"white\",\"linecolor\":\"white\",\"minorgridcolor\":\"white\",\"startlinecolor\":\"#2a3f5f\"},\"type\":\"carpet\"}],\"table\":[{\"cells\":{\"fill\":{\"color\":\"#EBF0F8\"},\"line\":{\"color\":\"white\"}},\"header\":{\"fill\":{\"color\":\"#C8D4E3\"},\"line\":{\"color\":\"white\"}},\"type\":\"table\"}],\"barpolar\":[{\"marker\":{\"line\":{\"color\":\"#E5ECF6\",\"width\":0.5},\"pattern\":{\"fillmode\":\"overlay\",\"size\":10,\"solidity\":0.2}},\"type\":\"barpolar\"}],\"pie\":[{\"automargin\":true,\"type\":\"pie\"}]},\"layout\":{\"autotypenumbers\":\"strict\",\"colorway\":[\"#636efa\",\"#EF553B\",\"#00cc96\",\"#ab63fa\",\"#FFA15A\",\"#19d3f3\",\"#FF6692\",\"#B6E880\",\"#FF97FF\",\"#FECB52\"],\"font\":{\"color\":\"#2a3f5f\"},\"hovermode\":\"closest\",\"hoverlabel\":{\"align\":\"left\"},\"paper_bgcolor\":\"white\",\"plot_bgcolor\":\"#E5ECF6\",\"polar\":{\"bgcolor\":\"#E5ECF6\",\"angularaxis\":{\"gridcolor\":\"white\",\"linecolor\":\"white\",\"ticks\":\"\"},\"radialaxis\":{\"gridcolor\":\"white\",\"linecolor\":\"white\",\"ticks\":\"\"}},\"ternary\":{\"bgcolor\":\"#E5ECF6\",\"aaxis\":{\"gridcolor\":\"white\",\"linecolor\":\"white\",\"ticks\":\"\"},\"baxis\":{\"gridcolor\":\"white\",\"linecolor\":\"white\",\"ticks\":\"\"},\"caxis\":{\"gridcolor\":\"white\",\"linecolor\":\"white\",\"ticks\":\"\"}},\"coloraxis\":{\"colorbar\":{\"outlinewidth\":0,\"ticks\":\"\"}},\"colorscale\":{\"sequential\":[[0.0,\"#0d0887\"],[0.1111111111111111,\"#46039f\"],[0.2222222222222222,\"#7201a8\"],[0.3333333333333333,\"#9c179e\"],[0.4444444444444444,\"#bd3786\"],[0.5555555555555556,\"#d8576b\"],[0.6666666666666666,\"#ed7953\"],[0.7777777777777778,\"#fb9f3a\"],[0.8888888888888888,\"#fdca26\"],[1.0,\"#f0f921\"]],\"sequentialminus\":[[0.0,\"#0d0887\"],[0.1111111111111111,\"#46039f\"],[0.2222222222222222,\"#7201a8\"],[0.3333333333333333,\"#9c179e\"],[0.4444444444444444,\"#bd3786\"],[0.5555555555555556,\"#d8576b\"],[0.6666666666666666,\"#ed7953\"],[0.7777777777777778,\"#fb9f3a\"],[0.8888888888888888,\"#fdca26\"],[1.0,\"#f0f921\"]],\"diverging\":[[0,\"#8e0152\"],[0.1,\"#c51b7d\"],[0.2,\"#de77ae\"],[0.3,\"#f1b6da\"],[0.4,\"#fde0ef\"],[0.5,\"#f7f7f7\"],[0.6,\"#e6f5d0\"],[0.7,\"#b8e186\"],[0.8,\"#7fbc41\"],[0.9,\"#4d9221\"],[1,\"#276419\"]]},\"xaxis\":{\"gridcolor\":\"white\",\"linecolor\":\"white\",\"ticks\":\"\",\"title\":{\"standoff\":15},\"zerolinecolor\":\"white\",\"automargin\":true,\"zerolinewidth\":2},\"yaxis\":{\"gridcolor\":\"white\",\"linecolor\":\"white\",\"ticks\":\"\",\"title\":{\"standoff\":15},\"zerolinecolor\":\"white\",\"automargin\":true,\"zerolinewidth\":2},\"scene\":{\"xaxis\":{\"backgroundcolor\":\"#E5ECF6\",\"gridcolor\":\"white\",\"linecolor\":\"white\",\"showbackground\":true,\"ticks\":\"\",\"zerolinecolor\":\"white\",\"gridwidth\":2},\"yaxis\":{\"backgroundcolor\":\"#E5ECF6\",\"gridcolor\":\"white\",\"linecolor\":\"white\",\"showbackground\":true,\"ticks\":\"\",\"zerolinecolor\":\"white\",\"gridwidth\":2},\"zaxis\":{\"backgroundcolor\":\"#E5ECF6\",\"gridcolor\":\"white\",\"linecolor\":\"white\",\"showbackground\":true,\"ticks\":\"\",\"zerolinecolor\":\"white\",\"gridwidth\":2}},\"shapedefaults\":{\"line\":{\"color\":\"#2a3f5f\"}},\"annotationdefaults\":{\"arrowcolor\":\"#2a3f5f\",\"arrowhead\":0,\"arrowwidth\":1},\"geo\":{\"bgcolor\":\"white\",\"landcolor\":\"#E5ECF6\",\"subunitcolor\":\"white\",\"showland\":true,\"showlakes\":true,\"lakecolor\":\"white\"},\"title\":{\"x\":0.05},\"mapbox\":{\"style\":\"light\"}}},\"xaxis\":{\"anchor\":\"y\",\"domain\":[0.0,0.2888888888888889],\"title\":{\"text\":\"Top Population\"}},\"yaxis\":{\"anchor\":\"x\",\"domain\":[0.0,1.0]},\"xaxis2\":{\"anchor\":\"y2\",\"domain\":[0.35555555555555557,0.6444444444444445],\"title\":{\"text\":\"Top GDP\"}},\"yaxis2\":{\"anchor\":\"x2\",\"domain\":[0.0,1.0]},\"xaxis3\":{\"anchor\":\"y3\",\"domain\":[0.7111111111111111,1.0],\"title\":{\"text\":\"GDP Per Capita\"}},\"yaxis3\":{\"anchor\":\"x3\",\"domain\":[0.0,1.0]},\"title\":{\"text\":\"Country Population, GDP, and Medals in 2020\"},\"height\":600,\"width\":1000,\"barmode\":\"group\",\"showlegend\":false,\"updatemenus\":[{\"buttons\":[{\"args\":[{\"x\":[[59438851.0,67081000.0,67571107.0,71475664.0,84135428.0,107465134.0,117190911.0,125998302.0,126261000.0,144073139.0,213196304.0,227196741.0,331501080.0,1396387127.0,1411100000.0],[720289368348.3458,1090515389740.842,1276962685803.0132,1326901059034.9497,1448559976266.8682,1465092271887.5105,1644312831689.1997,1645423407509.0195,1896755301577.4773,2639008701778.304,2667687952041.578,2704609160353.17,5040107754293.16,14687673898336.0,21060473611704.16],[40318.55757,41596.5055,43258.26387,44846.7916,45517.79493,46107.76528,48809.22688,49170.75215,51720.37076,52315.66008,52837.90398,60729.45035,63530.63348,67329.67779,85420.19086]],\"y\":[[\"Italy\",\"United Kingdom\",\"France\",\"Thailand\",\"Turkiye\",\"Egypt, Arab Rep.\",\"Ethiopia\",\"Mexico\",\"Japan\",\"Russian Federation\",\"Brazil\",\"Pakistan\",\"United States\",\"India\",\"China\"],[\"Turkiye\",\"Mexico\",\"Spain\",\"Australia\",\"Brazil\",\"Russian Federation\",\"Korea, Rep.\",\"Canada\",\"Italy\",\"France\",\"India\",\"United Kingdom\",\"Japan\",\"China\",\"United States\"],[\"United Kingdom\",\"New Zealand\",\"Canada\",\"Israel\",\"Belgium\",\"Hong Kong SAR, China\",\"Austria\",\"Finland\",\"Australia\",\"Qatar\",\"Sweden\",\"Singapore\",\"United States\",\"Norway\",\"Ireland\"]],\"type\":\"bar\",\"orientation\":\"h\",\"marker_color\":[\"red\",\"blue\",\"green\"],\"name\":[\"Population\",\"GDP\",\"GDP Per Capita\"]},{\"title\":\"Country Population, GDP, and Medal Score in 2020\"}],\"label\":\"2020\",\"method\":\"update\"},{\"args\":[{\"x\":[[60421760.0,66460344.0,67158348.0,71127802.0,82809304.0,103740765.0,111129438.0,124013861.0,126811000.0,144477859.0,210166592.0,219731479.0,326838199.0,1369003306.0,1402760000.0],[778471900959.703,1222408203072.5989,1421702715094.387,1428288504780.0408,1630773657129.4907,1724845615391.6377,1725329192752.2764,1916947014156.2727,2091932426480.0195,2702929719064.968,2790956878821.371,2878152146988.055,5037835383162.601,13894817549531.04,20533057312589.297],[42406.84543,43250.44097,43306.3083,46548.63841,47544.98115,48537.56689,49987.62616,51466.55656,54589.06039,57207.87151,62823.30944,66264.08117,66859.33834,79250.38785,82267.80932]],\"y\":[[\"Italy\",\"United Kingdom\",\"France\",\"Thailand\",\"Turkiye\",\"Egypt, Arab Rep.\",\"Ethiopia\",\"Mexico\",\"Japan\",\"Russian Federation\",\"Brazil\",\"Pakistan\",\"United States\",\"India\",\"China\"],[\"Turkiye\",\"Mexico\",\"Spain\",\"Australia\",\"Russian Federation\",\"Korea, Rep.\",\"Canada\",\"Brazil\",\"Italy\",\"India\",\"France\",\"United Kingdom\",\"Japan\",\"China\",\"United States\"],[\"Israel\",\"New Zealand\",\"United Kingdom\",\"Canada\",\"Belgium\",\"Hong Kong SAR, China\",\"Finland\",\"Austria\",\"Sweden\",\"Australia\",\"United States\",\"Qatar\",\"Singapore\",\"Ireland\",\"Norway\"]],\"type\":\"bar\",\"orientation\":\"h\",\"marker_color\":[\"red\",\"blue\",\"green\"],\"name\":[\"Population\",\"GDP\",\"GDP Per Capita\"]},{\"title\":\"Country Population, GDP, and Medal Score in 2018\"}],\"label\":\"2018\",\"method\":\"update\"},{\"args\":[{\"x\":[[60627498.0,65611593.0,66724104.0,70607037.0,81019394.0,99784030.0,105293228.0,121519221.0,127076000.0,144342397.0,206859578.0,213524840.0,323071755.0,1338636340.0,1387790000.0],[869692960135.1382,1078490651675.6224,1206535157874.182,1233554967037.0483,1256485906182.4758,1500111596288.4434,1527994742063.397,1795700169028.69,1877071687701.062,2294797980151.101,2472964344428.1714,2699659681290.8345,5003677627280.16,11233276537088.93,18695110840672.453],[39375.47316,40058.19616,41146.07736,42012.62272,42315.60371,43733.91636,43814.02651,45307.58786,49875.56514,51965.15715,56860.41324,57866.74493,58467.23557,62895.91112,70460.56053]],\"y\":[[\"Italy\",\"United Kingdom\",\"France\",\"Thailand\",\"Turkiye\",\"Egypt, Arab Rep.\",\"Ethiopia\",\"Mexico\",\"Japan\",\"Russian Federation\",\"Brazil\",\"Pakistan\",\"United States\",\"India\",\"China\"],[\"Turkiye\",\"Mexico\",\"Australia\",\"Spain\",\"Russian Federation\",\"Korea, Rep.\",\"Canada\",\"Brazil\",\"Italy\",\"India\",\"France\",\"United Kingdom\",\"Japan\",\"China\",\"United States\"],[\"Japan\",\"New Zealand\",\"United Kingdom\",\"Belgium\",\"Canada\",\"Hong Kong SAR, China\",\"Finland\",\"Austria\",\"Australia\",\"Sweden\",\"Singapore\",\"United States\",\"Qatar\",\"Ireland\",\"Norway\"]],\"type\":\"bar\",\"orientation\":\"h\",\"marker_color\":[\"red\",\"blue\",\"green\"],\"name\":[\"Population\",\"GDP\",\"GDP Per Capita\"]},{\"title\":\"Country Population, GDP, and Medal Score in 2016\"}],\"label\":\"2016\",\"method\":\"update\"},{\"args\":[{\"x\":[[60789140.0,64602298.0,66312067.0,69960943.0,78112073.0,95592324.0,99746766.0,118755887.0,127276000.0,143819667.0,203459650.0,208251628.0,318386329.0,1307246509.0,1371860000.0],[938952628678.2128,1315351183393.7532,1371820537886.7407,1467545212589.597,1484318219584.19,1805749878325.109,2027231464789.8696,2039127445668.468,2162009616169.8132,2455993624501.2266,2855964488313.4043,3065223279437.361,4896994405839.0,10475682920247.86,17550680174985.52],[40315.28556,43068.54872,44572.89875,47447.58893,47764.07151,50327.24029,50955.99832,51786.37717,55123.84979,55643.05943,57562.53079,60020.36046,62513.41122,93126.14946,97019.18275]],\"y\":[[\"Italy\",\"United Kingdom\",\"France\",\"Thailand\",\"Turkiye\",\"Egypt, Arab Rep.\",\"Ethiopia\",\"Mexico\",\"Japan\",\"Russian Federation\",\"Brazil\",\"Pakistan\",\"United States\",\"India\",\"China\"],[\"Turkiye\",\"Mexico\",\"Spain\",\"Australia\",\"Korea, Rep.\",\"Canada\",\"Russian Federation\",\"India\",\"Italy\",\"Brazil\",\"France\",\"United Kingdom\",\"Japan\",\"China\",\"United States\"],[\"Hong Kong SAR, China\",\"France\",\"New Zealand\",\"United Kingdom\",\"Belgium\",\"Finland\",\"Canada\",\"Austria\",\"United States\",\"Ireland\",\"Singapore\",\"Sweden\",\"Australia\",\"Qatar\",\"Norway\"]],\"type\":\"bar\",\"orientation\":\"h\",\"marker_color\":[\"red\",\"blue\",\"green\"],\"name\":[\"Population\",\"GDP\",\"GDP Per Capita\"]},{\"title\":\"Country Population, GDP, and Medal Score in 2014\"}],\"label\":\"2014\",\"method\":\"update\"},{\"args\":[{\"x\":[[59539717.0,63700215.0,65662240.0,69157023.0,75277439.0,91240376.0,94451280.0,115755909.0,127629000.0,143201721.0,199977707.0,202205861.0,313877662.0,1274487215.0,1354190000.0],[880556375545.2139,1201089987427.272,1278427634490.2036,1324750738616.1323,1546892142795.4512,1827637859428.3384,1828366481409.4111,2086957656835.2805,2208295839325.875,2465188675112.31,2683671716666.886,2706340967060.005,6272362996000.47,8532229986644.42,16253972228780.984],[39973.38076,40870.85236,42485.58607,44670.56068,47708.06128,48564.91734,49054.69743,49145.28043,51784.41857,52669.08996,55546.48854,58037.82132,68044.71482,98041.36224,101524.1419]],\"y\":[[\"Italy\",\"United Kingdom\",\"France\",\"Thailand\",\"Turkiye\",\"Egypt, Arab Rep.\",\"Ethiopia\",\"Mexico\",\"Japan\",\"Russian Federation\",\"Brazil\",\"Pakistan\",\"United States\",\"India\",\"China\"],[\"Turkiye\",\"Mexico\",\"Korea, Rep.\",\"Spain\",\"Australia\",\"India\",\"Canada\",\"Italy\",\"Russian Federation\",\"Brazil\",\"France\",\"United Kingdom\",\"Japan\",\"China\",\"United States\"],[\"New Zealand\",\"France\",\"United Kingdom\",\"Belgium\",\"Finland\",\"Austria\",\"Ireland\",\"Japan\",\"United States\",\"Canada\",\"Singapore\",\"Sweden\",\"Australia\",\"Qatar\",\"Norway\"]],\"type\":\"bar\",\"orientation\":\"h\",\"marker_color\":[\"red\",\"blue\",\"green\"],\"name\":[\"Population\",\"GDP\",\"GDP Per Capita\"]},{\"title\":\"Country Population, GDP, and Medal Score in 2012\"}],\"label\":\"2012\",\"method\":\"update\"},{\"args\":[{\"x\":[[59277417.0,62766365.0,65030575.0,68270489.0,73195345.0,87252413.0,89237791.0,112532401.0,128070000.0,142849468.0,194454498.0,196353492.0,309327143.0,1240613620.0,1337705000.0],[776992599639.8807,1057801295607.39,1144066965133.8318,1148610059005.9875,1422108199868.7776,1524917512358.58,1617343367645.8892,1675615335512.6658,2136099955528.9648,2208871645559.174,2491397494460.1826,2645187882030.954,5759071768376.1,6087163874837.14,15048964444515.477],[36035.645,39693.19387,40676.06479,44184.94635,44968.15623,46505.30318,46903.76159,47236.96023,47562.08343,48650.64313,48663.60044,52134.30885,52869.04429,73021.30975,87693.79007]],\"y\":[[\"Italy\",\"United Kingdom\",\"France\",\"Thailand\",\"Turkiye\",\"Egypt, Arab Rep.\",\"Ethiopia\",\"Mexico\",\"Japan\",\"Russian Federation\",\"Pakistan\",\"Brazil\",\"United States\",\"India\",\"China\"],[\"Turkiye\",\"Mexico\",\"Korea, Rep.\",\"Australia\",\"Spain\",\"Russian Federation\",\"Canada\",\"India\",\"Italy\",\"Brazil\",\"United Kingdom\",\"France\",\"Japan\",\"China\",\"United States\"],[\"Italy\",\"United Kingdom\",\"France\",\"Belgium\",\"Japan\",\"Finland\",\"Austria\",\"Singapore\",\"Canada\",\"United States\",\"Ireland\",\"Australia\",\"Sweden\",\"Qatar\",\"Norway\"]],\"type\":\"bar\",\"orientation\":\"h\",\"marker_color\":[\"red\",\"blue\",\"green\"],\"name\":[\"Population\",\"GDP\",\"GDP Per Capita\"]},{\"title\":\"Country Population, GDP, and Medal Score in 2010\"}],\"label\":\"2010\",\"method\":\"update\"},{\"args\":[{\"x\":[[58826731.0,61806995.0,64379696.0,67328239.0,71320726.0,83844783.0,84357105.0,109684489.0,128063000.0,142742366.0,185931955.0,192672317.0,304093966.0,1206734806.0,1324655000.0],[770462155923.9229,1047339010233.9298,1055642793238.8954,1109989063457.5466,1198895582168.0557,1552989690857.9185,1631863493493.9763,1660846319995.0403,1695824565888.2844,2408655348749.899,2930303780612.628,2931501838216.698,4594307032562.311,5106679115310.11,14769857910860.557],[39876.30397,40007.46926,40944.91242,45515.96175,46710.50558,47429.93634,48303.39796,48570.04598,49679.18053,51919.98358,53772.79424,56152.55234,61353.10656,79811.59774,96944.09561]],\"y\":[[\"Italy\",\"United Kingdom\",\"France\",\"Thailand\",\"Turkiye\",\"Egypt, Arab Rep.\",\"Ethiopia\",\"Mexico\",\"Japan\",\"Russian Federation\",\"Pakistan\",\"Brazil\",\"United States\",\"India\",\"China\"],[\"Turkiye\",\"Korea, Rep.\",\"Australia\",\"Mexico\",\"India\",\"Canada\",\"Spain\",\"Russian Federation\",\"Brazil\",\"Italy\",\"France\",\"United Kingdom\",\"China\",\"Japan\",\"United States\"],[\"Japan\",\"Singapore\",\"Italy\",\"France\",\"Canada\",\"United Kingdom\",\"Belgium\",\"United States\",\"Australia\",\"Austria\",\"Finland\",\"Sweden\",\"Ireland\",\"Qatar\",\"Norway\"]],\"type\":\"bar\",\"orientation\":\"h\",\"marker_color\":[\"red\",\"blue\",\"green\"],\"name\":[\"Population\",\"GDP\",\"GDP Per Capita\"]},{\"title\":\"Country Population, GDP, and Medal Score in 2008\"}],\"label\":\"2008\",\"method\":\"update\"},{\"args\":[{\"x\":[[58143979.0,60846820.0,63628261.0,66319525.0,69601333.0,79691050.0,80629670.0,106886790.0,127854000.0,143049637.0,178069984.0,188820682.0,298379912.0,1172373788.0,1311020000.0],[557057829052.0883,747906558882.3774,940259888736.5948,975387131672.737,989930519414.6558,1053216909818.5154,1107640289693.3047,1260398977832.3271,1319264809743.397,1949551719306.1416,2320536221309.072,2709911683511.2905,2752131773873.7,4601663122284.0,13815586947998.322],[33529.7266,33769.15416,35991.546,36470.21284,36570.72037,38705.1068,40504.06073,40669.32696,41222.602,44536.61972,46302.00088,46593.60216,54329.16186,59978.86121,74148.32008]],\"y\":[[\"Italy\",\"United Kingdom\",\"France\",\"Thailand\",\"Turkiye\",\"Ethiopia\",\"Egypt, Arab Rep.\",\"Mexico\",\"Japan\",\"Russian Federation\",\"Pakistan\",\"Brazil\",\"United States\",\"India\",\"China\"],[\"Turkiye\",\"Australia\",\"India\",\"Mexico\",\"Russian Federation\",\"Korea, Rep.\",\"Brazil\",\"Spain\",\"Canada\",\"Italy\",\"France\",\"United Kingdom\",\"China\",\"Japan\",\"United States\"],[\"Italy\",\"Singapore\",\"Japan\",\"France\",\"Australia\",\"Belgium\",\"Canada\",\"Austria\",\"Finland\",\"United Kingdom\",\"United States\",\"Sweden\",\"Ireland\",\"Qatar\",\"Norway\"]],\"type\":\"bar\",\"orientation\":\"h\",\"marker_color\":[\"red\",\"blue\",\"green\"],\"name\":[\"Population\",\"GDP\",\"GDP Per Capita\"]},{\"title\":\"Country Population, GDP, and Medal Score in 2006\"}],\"label\":\"2006\",\"method\":\"update\"},{\"args\":[{\"x\":[[57685327.0,59987905.0,62716306.0,65311166.0,67785075.0,75301026.0,77522427.0,103945813.0,127761000.0,144067316.0,170648620.0,184722043.0,292805298.0,1136264583.0,1296075000.0],[408876042627.7896,591016678209.2418,614326362277.9797,669293772116.7759,709148514836.5917,782240601951.3652,793175007653.7068,1026690238346.7236,1069055675248.6108,1806542968295.8083,1955347005115.35,2119633181518.7463,2422958623245.386,4893116005499.37,12217193198362.377],[25420.23488,27608.53737,30819.99349,31317.20079,32143.68141,33797.16244,35429.40779,36889.23351,37772.17811,38298.98017,40390.78583,41724.63163,42821.67314,47754.20232,57603.83602]],\"y\":[[\"Italy\",\"United Kingdom\",\"France\",\"Thailand\",\"Turkiye\",\"Ethiopia\",\"Egypt, Arab Rep.\",\"Mexico\",\"Japan\",\"Russian Federation\",\"Pakistan\",\"Brazil\",\"United States\",\"India\",\"China\"],[\"Turkiye\",\"Russian Federation\",\"Australia\",\"Brazil\",\"India\",\"Mexico\",\"Korea, Rep.\",\"Canada\",\"Spain\",\"Italy\",\"China\",\"France\",\"United Kingdom\",\"Japan\",\"United States\"],[\"New Zealand\",\"Singapore\",\"Australia\",\"Italy\",\"Canada\",\"France\",\"Belgium\",\"Austria\",\"Finland\",\"Japan\",\"United Kingdom\",\"United States\",\"Sweden\",\"Ireland\",\"Norway\"]],\"type\":\"bar\",\"orientation\":\"h\",\"marker_color\":[\"red\",\"blue\",\"green\"],\"name\":[\"Population\",\"GDP\",\"GDP Per Capita\"]},{\"title\":\"Country Population, GDP, and Medal Score in 2004\"}],\"label\":\"2004\",\"method\":\"update\"},{\"args\":[{\"x\":[[57059007.0,59370479.0,61816234.0,64222580.0,65988663.0,71073215.0,74393759.0,100917081.0,127445000.0,145306497.0,163262807.0,180476685.0,287625193.0,1098313039.0,1280400000.0],[266849061840.0495,345470489116.72784,395580786979.7455,509788814907.0432,514937948864.3906,627246081604.9446,708756677227.0917,760649334040.5479,772106378968.2568,1276769338510.1853,1470550014516.0,1501409383011.5046,1785843824731.959,4182846045449.8,10929112955775.115],[20291.17855,22159.68886,22376.2979,24255.33858,24288.27002,24665.89,25006.1914,26527.59309,26997.75299,29899.19525,30079.66004,32705.43456,32820.79364,37997.75966,43084.47247]],\"y\":[[\"Italy\",\"United Kingdom\",\"France\",\"Thailand\",\"Turkiye\",\"Ethiopia\",\"Egypt, Arab Rep.\",\"Mexico\",\"Japan\",\"Russian Federation\",\"Pakistan\",\"Brazil\",\"United States\",\"India\",\"China\"],[\"Sweden\",\"Russian Federation\",\"Australia\",\"Brazil\",\"India\",\"Korea, Rep.\",\"Spain\",\"Canada\",\"Mexico\",\"Italy\",\"China\",\"France\",\"United Kingdom\",\"Japan\",\"United States\"],[\"Australia\",\"Singapore\",\"Italy\",\"Canada\",\"France\",\"Hong Kong SAR, China\",\"Belgium\",\"Austria\",\"Finland\",\"Sweden\",\"United Kingdom\",\"Ireland\",\"Japan\",\"United States\",\"Norway\"]],\"type\":\"bar\",\"orientation\":\"h\",\"marker_color\":[\"red\",\"blue\",\"green\"],\"name\":[\"Population\",\"GDP\",\"GDP Per Capita\"]},{\"title\":\"Country Population, GDP, and Medal Score in 2002\"}],\"label\":\"2002\",\"method\":\"update\"},{\"args\":[{\"x\":[[56942108.0,58892514.0,60921384.0,63066603.0,64113547.0,67031867.0,71371371.0,97873442.0,126843000.0,146596869.0,154369924.0,175873720.0,282162411.0,1059633675.0,1262645000.0],[274302959024.73212,284203749991.18353,415851284349.65936,468394937243.61945,576178114264.8463,598363313297.0709,655448188173.8824,707906744605.6906,744773416042.6038,1146676894109.0916,1211346869555.122,1365639660919.1812,1666126494029.865,4968359075937.51,10250947996235.283],[21630.74761,21853.78167,22416.42542,23098.88651,23852.32703,24271.00206,24345.91482,24625.60072,25756.66378,26334.56721,28290.9725,29624.91267,36329.95607,38131.46061,39169.35957]],\"y\":[[\"Italy\",\"United Kingdom\",\"France\",\"Thailand\",\"Turkiye\",\"Ethiopia\",\"Egypt, Arab Rep.\",\"Mexico\",\"Japan\",\"Russian Federation\",\"Pakistan\",\"Brazil\",\"United States\",\"India\",\"China\"],[\"Turkiye\",\"Argentina\",\"Australia\",\"India\",\"Korea, Rep.\",\"Spain\",\"Brazil\",\"Mexico\",\"Canada\",\"Italy\",\"China\",\"France\",\"United Kingdom\",\"Japan\",\"United States\"],[\"Israel\",\"Australia\",\"France\",\"Belgium\",\"Singapore\",\"Canada\",\"Finland\",\"Austria\",\"Hong Kong SAR, China\",\"Ireland\",\"United Kingdom\",\"Sweden\",\"United States\",\"Norway\",\"Japan\"]],\"type\":\"bar\",\"orientation\":\"h\",\"marker_color\":[\"red\",\"blue\",\"green\"],\"name\":[\"Population\",\"GDP\",\"GDP Per Capita\"]},{\"title\":\"Country Population, GDP, and Medal Score in 2000\"}],\"label\":\"2000\",\"method\":\"update\"},{\"args\":[{\"x\":[[56906744.0,58487141.0,60192790.0,61745217.0,62242204.0,63136493.0,68446011.0,94767284.0,126400000.0,145476106.0,147670784.0,171039804.0,275854000.0,1021434576.0,1241935000.0],[275967393939.74744,298948249994.8109,383330931061.9429,399660856049.0535,421351477464.2523,526502129421.0598,619214834500.4731,634000000039.0671,863711007239.6007,1029043097559.4454,1270052525887.9512,1503108739245.927,1655061278741.1062,4098362709104.0,9062818201365.3],[21024.58507,21478.38516,21829.29987,22318.1373,24294.85477,24971.57449,25338.44329,25808.97095,26009.26949,27361.87511,28297.866,30596.5272,32423.75561,32853.67695,34788.35985]],\"y\":[[\"Italy\",\"United Kingdom\",\"France\",\"Thailand\",\"Turkiye\",\"Ethiopia\",\"Egypt, Arab Rep.\",\"Mexico\",\"Japan\",\"Pakistan\",\"Russian Federation\",\"Brazil\",\"United States\",\"India\",\"China\"],[\"Turkiye\",\"Argentina\",\"Korea, Rep.\",\"Australia\",\"India\",\"Mexico\",\"Spain\",\"Canada\",\"Brazil\",\"China\",\"Italy\",\"France\",\"United Kingdom\",\"Japan\",\"United States\"],[\"Canada\",\"Australia\",\"Singapore\",\"Italy\",\"Ireland\",\"France\",\"Belgium\",\"Hong Kong SAR, China\",\"Finland\",\"Austria\",\"United Kingdom\",\"Sweden\",\"Japan\",\"United States\",\"Norway\"]],\"type\":\"bar\",\"orientation\":\"h\",\"marker_color\":[\"red\",\"blue\",\"green\"],\"name\":[\"Population\",\"GDP\",\"GDP Per Capita\"]},{\"title\":\"Country Population, GDP, and Medal Score in 1998\"}],\"label\":\"1998\",\"method\":\"update\"},{\"args\":[{\"x\":[[56860281.0,58166950.0,59347649.0,59756533.0,60211096.0,60293786.0,65565195.0,91586555.0,125757000.0,137234810.0,148160129.0,166037122.0,269394000.0,983281218.0,1217550000.0],[291743811504.62366,391724891190.70667,392897054326.8792,401311077365.16327,410975595318.43134,610169557011.9308,628546387925.0615,642588992571.5088,850426432934.5187,863746717522.005,1312426528035.715,1421619344902.9731,1605675086663.473,4923391533749.91,8073122000491.68],[20835.89771,21227.34753,22020.09372,23081.60468,24440.32814,24818.15455,25783.45049,26233.6289,26870.28524,27489.55518,29809.07677,29967.71272,32998.96816,37321.9742,39150.03963]],\"y\":[[\"Italy\",\"United Kingdom\",\"Ethiopia\",\"France\",\"Thailand\",\"Turkiye\",\"Egypt, Arab Rep.\",\"Mexico\",\"Japan\",\"Pakistan\",\"Russian Federation\",\"Brazil\",\"United States\",\"India\",\"China\"],[\"Sweden\",\"Russian Federation\",\"India\",\"Australia\",\"Mexico\",\"Korea, Rep.\",\"Canada\",\"Spain\",\"Brazil\",\"China\",\"Italy\",\"United Kingdom\",\"France\",\"Japan\",\"United States\"],[\"Ireland\",\"Canada\",\"Australia\",\"Italy\",\"United Kingdom\",\"Hong Kong SAR, China\",\"Finland\",\"Singapore\",\"France\",\"Belgium\",\"Austria\",\"United States\",\"Sweden\",\"Norway\",\"Japan\"]],\"type\":\"bar\",\"orientation\":\"h\",\"marker_color\":[\"red\",\"blue\",\"green\"],\"name\":[\"Population\",\"GDP\",\"GDP Per Capita\"]},{\"title\":\"Country Population, GDP, and Medal Score in 1996\"}],\"label\":\"1996\",\"method\":\"update\"},{\"args\":[{\"x\":[[55620211.0,56843400.0,57865745.0,58310245.0,58610010.0,59327585.0,62775847.0,88314424.0,125178000.0,129245139.0,148407912.0,160980472.0,263126000.0,945261958.0,1191835000.0],[257440000004.0729,322809408511.657,327275583514.94165,395077296760.4796,463617400046.5018,525369851291.1176,527813238108.3189,530562634413.996,564324669984.4144,578139279497.908,1099216688301.06,1140489746038.8845,1393982750726.453,4998797548180.68,7287236000990.92],[15902.92968,18129.79072,19337.6309,19709.2381,19935.38146,20301.33309,21553.0309,22502.57974,23496.36768,24208.55479,25646.70066,26083.61439,27694.85342,29315.84191,39933.51506]],\"y\":[[\"Ethiopia\",\"Italy\",\"United Kingdom\",\"Turkiye\",\"Thailand\",\"France\",\"Egypt, Arab Rep.\",\"Mexico\",\"Japan\",\"Pakistan\",\"Russian Federation\",\"Brazil\",\"United States\",\"India\",\"China\"],[\"Argentina\",\"Australia\",\"India\",\"Russian Federation\",\"Korea, Rep.\",\"Brazil\",\"Mexico\",\"Spain\",\"China\",\"Canada\",\"Italy\",\"United Kingdom\",\"France\",\"Japan\",\"United States\"],[\"Ireland\",\"Australia\",\"Italy\",\"United Kingdom\",\"Canada\",\"Finland\",\"Singapore\",\"Hong Kong SAR, China\",\"France\",\"Belgium\",\"Austria\",\"Sweden\",\"United States\",\"Norway\",\"Japan\"]],\"type\":\"bar\",\"orientation\":\"h\",\"marker_color\":[\"red\",\"blue\",\"green\"],\"name\":[\"Population\",\"GDP\",\"GDP Per Capita\"]},{\"title\":\"Country Population, GDP, and Medal Score in 1994\"}],\"label\":\"1994\",\"method\":\"update\"},{\"args\":[{\"x\":[[57580402.0,58849943.0,58849943.0,59989142.0,84993164.0,122375179.0,124425000.0,124425000.0,148538197.0,155900790.0,256514000.0,256514000.0,907574049.0,1164970000.0,1164970000.0],[426915712708.731,460290570967.0306,592387689250.3892,592387689250.3892,630916018389.8502,630916018389.8502,1179659529930.8577,1320161645062.694,1320161645062.694,1401465923313.54,1401465923313.54,3908809463832.0,3908809463832.0,6520327000940.92,6520327000940.92],[23243.47453,23243.47453,23372.61917,23814.22737,23814.22737,24880.16412,24880.16412,25418.99078,25418.99078,30523.98506,30523.98506,31414.98464,31414.98464,32800.98269,32800.98269]],\"y\":[[\"United Kingdom\",\"France\",\"France\",\"Egypt, Arab Rep.\",\"Mexico\",\"Pakistan\",\"Japan\",\"Japan\",\"Russian Federation\",\"Brazil\",\"United States\",\"United States\",\"India\",\"China\",\"China\"],[\"China\",\"Russian Federation\",\"Canada\",\"Canada\",\"Spain\",\"Spain\",\"United Kingdom\",\"Italy\",\"Italy\",\"France\",\"France\",\"Japan\",\"Japan\",\"United States\",\"United States\"],[\"Italy\",\"Italy\",\"Belgium\",\"France\",\"France\",\"Austria\",\"Austria\",\"United States\",\"United States\",\"Norway\",\"Norway\",\"Japan\",\"Japan\",\"Sweden\",\"Sweden\"]],\"type\":\"bar\",\"orientation\":\"h\",\"marker_color\":[\"red\",\"blue\",\"green\"],\"name\":[\"Population\",\"GDP\",\"GDP Per Capita\"]},{\"title\":\"Country Population, GDP, and Medal Score in 1992\"}],\"label\":\"1992\",\"method\":\"update\"},{\"args\":[{\"x\":[[56629288.0,56629288.0,56928327.0,57472651.0,57472651.0,78892015.0,107967838.0,122578000.0,122578000.0,145253973.0,146857000.0,244499000.0,244499000.0,833729681.0,1101630000.0],[296588994850.60297,312353631163.176,376160409937.19183,507354351115.2827,507354351115.2827,554713452088.6641,891608956954.9829,891608956954.9829,910122732262.202,1018847043031.3104,1018847043031.3104,3071683012754.54,3071683012754.54,5236437999873.07,5236437999873.07],[17578.61894,17727.51083,17727.51083,18936.9641,18936.9641,21417.01193,21417.01193,22047.79332,22047.79332,24207.28147,24207.28147,24534.69382,24534.69382,25059.00743,25059.00743]],\"y\":[[\"Italy\",\"Italy\",\"United Kingdom\",\"France\",\"France\",\"Mexico\",\"Pakistan\",\"Japan\",\"Japan\",\"Brazil\",\"Russian Federation\",\"United States\",\"United States\",\"India\",\"China\"],[\"India\",\"China\",\"Spain\",\"Canada\",\"Canada\",\"Russian Federation\",\"Italy\",\"Italy\",\"United Kingdom\",\"France\",\"France\",\"Japan\",\"Japan\",\"United States\",\"United States\"],[\"Austria\",\"France\",\"France\",\"Canada\",\"Canada\",\"United States\",\"United States\",\"Finland\",\"Finland\",\"Norway\",\"Norway\",\"Sweden\",\"Sweden\",\"Japan\",\"Japan\"]],\"type\":\"bar\",\"orientation\":\"h\",\"marker_color\":[\"red\",\"blue\",\"green\"],\"name\":[\"Population\",\"GDP\",\"GDP Per Capita\"]},{\"title\":\"Country Population, GDP, and Medal Score in 1988\"}],\"label\":\"1988\",\"method\":\"update\"},{\"args\":[{\"x\":[[56275701.0,56422072.0,56422072.0,56576718.0,56576718.0,73489654.0,94003867.0,120083000.0,120083000.0,133888775.0,142745000.0,235825000.0,235825000.0,762895156.0,1036825000.0],[193519290019.0066,212158234193.2387,259946510908.425,355372558197.1652,355372558197.1652,437887689023.1579,437887689023.1579,461487097652.10175,461487097652.10175,530683779920.02325,530683779920.02325,1318381627544.23,1318381627544.23,4037612998821.0,4037612998821.0],[9430.069648,9430.069648,10833.86629,10833.86629,10978.91981,10978.91981,12421.4926,13099.02083,13099.02083,13877.91708,13877.91708,14989.48577,14989.48577,17121.22548,17121.22548]],\"y\":[[\"France\",\"United Kingdom\",\"United Kingdom\",\"Italy\",\"Italy\",\"Mexico\",\"Pakistan\",\"Japan\",\"Japan\",\"Brazil\",\"Russian Federation\",\"United States\",\"United States\",\"India\",\"China\"],[\"Australia\",\"India\",\"China\",\"Canada\",\"Canada\",\"Italy\",\"Italy\",\"United Kingdom\",\"United Kingdom\",\"France\",\"France\",\"Japan\",\"Japan\",\"United States\",\"United States\"],[\"France\",\"France\",\"Finland\",\"Finland\",\"Japan\",\"Japan\",\"Australia\",\"Sweden\",\"Sweden\",\"Canada\",\"Canada\",\"Norway\",\"Norway\",\"United States\",\"United States\"]],\"type\":\"bar\",\"orientation\":\"h\",\"marker_color\":[\"red\",\"blue\",\"green\"],\"name\":[\"Population\",\"GDP\",\"GDP Per Capita\"]},{\"title\":\"Country Population, GDP, and Medal Score in 1984\"}],\"label\":\"1984\",\"method\":\"update\"},{\"args\":[{\"x\":[[49973920.0,55052582.0,55052582.0,56314216.0,56314216.0,56433883.0,56433883.0,67705186.0,80624057.0,116807000.0,122288383.0,139010000.0,227225000.0,696828385.0,981235000.0],[149984401089.64,186325345119.7364,191149211587.917,205139086929.32303,232766822925.7021,237393489885.34705,273853826490.718,477256775919.196,477256775919.196,564947710898.5293,564947710898.5293,701288419611.269,701288419611.269,1105385973740.9849,2857307000859.75],[10032.06208,10032.06208,10208.57617,10869.54649,10869.54649,11170.56397,11223.93756,11223.93756,12574.79151,12738.52005,12738.52005,12864.00257,15772.24091,17097.83265,17097.83265]],\"y\":[[\"Ukraine\",\"France\",\"France\",\"United Kingdom\",\"United Kingdom\",\"Italy\",\"Italy\",\"Mexico\",\"Pakistan\",\"Japan\",\"Brazil\",\"Russian Federation\",\"United States\",\"India\",\"China\"],[\"Australia\",\"India\",\"China\",\"Mexico\",\"Spain\",\"Brazil\",\"Canada\",\"Italy\",\"Italy\",\"United Kingdom\",\"United Kingdom\",\"France\",\"France\",\"Japan\",\"United States\"],[\"United Kingdom\",\"United Kingdom\",\"Australia\",\"Austria\",\"Austria\",\"Canada\",\"Finland\",\"Finland\",\"United States\",\"France\",\"France\",\"Belgium\",\"Norway\",\"Sweden\",\"Sweden\"]],\"type\":\"bar\",\"orientation\":\"h\",\"marker_color\":[\"red\",\"blue\",\"green\"],\"name\":[\"Population\",\"GDP\",\"GDP Per Capita\"]},{\"title\":\"Country Population, GDP, and Medal Score in 1980\"}],\"label\":\"1980\",\"method\":\"update\"},{\"args\":[{\"x\":[[53966558.0,53966558.0,55718260.0,55718260.0,56211968.0,56211968.0,60452543.0,70230923.0,111286504.0,112775000.0,135147000.0,218035000.0,218035000.0,637451448.0,930685000.0],[105066179256.175,118507184793.81586,153168949194.7637,153940455367.174,206575564898.1853,206575564898.1853,224717278412.00403,224717278412.00403,232614555277.6868,232614555277.6868,372319038527.1725,372319038527.1725,586161859055.1749,1873411999939.7952,1873411999939.7952],[5678.386658,6739.690713,6739.690713,6899.069578,6899.069578,7243.047341,7487.078975,8592.253537,8592.253537,8809.26466,8809.26466,8927.201627,8927.201627,10868.27577,10868.27577]],\"y\":[[\"France\",\"France\",\"Italy\",\"Italy\",\"United Kingdom\",\"United Kingdom\",\"Mexico\",\"Pakistan\",\"Brazil\",\"Japan\",\"Russian Federation\",\"United States\",\"United States\",\"India\",\"China\"],[\"Australia\",\"Spain\",\"Brazil\",\"China\",\"Canada\",\"Canada\",\"Italy\",\"Italy\",\"United Kingdom\",\"United Kingdom\",\"France\",\"France\",\"Japan\",\"United States\",\"United States\"],[\"Austria\",\"Finland\",\"Finland\",\"France\",\"France\",\"Belgium\",\"Australia\",\"United States\",\"United States\",\"Canada\",\"Canada\",\"Norway\",\"Norway\",\"Sweden\",\"Sweden\"]],\"type\":\"bar\",\"orientation\":\"h\",\"marker_color\":[\"red\",\"blue\",\"green\"],\"name\":[\"Population\",\"GDP\",\"GDP Per Capita\"]},{\"title\":\"Country Population, GDP, and Medal Score in 1976\"}],\"label\":\"1976\",\"method\":\"update\"},{\"args\":[{\"x\":[[52637888.0,52637888.0,53543436.0,54381345.0,54381345.0,56086065.0,62509565.0,101194394.0,107188000.0,107188000.0,131909000.0,209896000.0,209896000.0,582837973.0,862030000.0],[59132415229.163,59132415229.163,71463193804.21297,113082820485.83464,113082820485.83464,113687586261.236,145260039815.00732,145260039815.00732,169965034958.3174,203494148221.5552,203494148221.5552,318031297467.248,318031297467.248,1279110000029.04,1279110000029.04],[3177.645701,3177.645701,3294.648943,3831.6319,3865.9254,3865.9254,3949.461643,4413.575692,4413.575692,5089.587902,5089.587902,6027.128499,6027.128499,6094.01799,6094.01799]],\"y\":[[\"France\",\"France\",\"Mexico\",\"Italy\",\"Italy\",\"United Kingdom\",\"Pakistan\",\"Brazil\",\"Japan\",\"Japan\",\"Russian Federation\",\"United States\",\"United States\",\"India\",\"China\"],[\"Spain\",\"Spain\",\"India\",\"Canada\",\"Canada\",\"China\",\"Italy\",\"Italy\",\"United Kingdom\",\"France\",\"France\",\"Japan\",\"Japan\",\"United States\",\"United States\"],[\"Finland\",\"Finland\",\"New Zealand\",\"Belgium\",\"France\",\"France\",\"Australia\",\"Norway\",\"Norway\",\"Canada\",\"Canada\",\"Sweden\",\"Sweden\",\"United States\",\"United States\"]],\"type\":\"bar\",\"orientation\":\"h\",\"marker_color\":[\"red\",\"blue\",\"green\"],\"name\":[\"Population\",\"GDP\",\"GDP Per Capita\"]},{\"title\":\"Country Population, GDP, and Medal Score in 1972\"}],\"label\":\"1972\",\"method\":\"update\"},{\"args\":[{\"x\":[[46635196.0,47170337.0,50817020.0,50817020.0,53235750.0,53235750.0,55211700.0,56124743.0,91659246.0,101011000.0,128928000.0,200706000.0,200706000.0,533431909.0,774510000.0],[31475548481.617043,32712509803.356,33930457429.557503,53085455869.13175,70846535058.2781,71829810520.768,71829810520.768,87942231689.12775,87942231689.12775,107759910074.7732,129785441493.24786,129785441493.24786,146601072717.733,942499999913.34,942499999913.34],[1907.077272,1907.077272,1951.758596,2222.361511,2553.975843,2553.975843,2662.117492,2662.117492,2723.999484,3462.678872,3462.678872,3926.409001,3926.409001,4695.92339,4695.92339]],\"y\":[[\"Ukraine\",\"Mexico\",\"France\",\"France\",\"Italy\",\"Italy\",\"United Kingdom\",\"Pakistan\",\"Brazil\",\"Japan\",\"Russian Federation\",\"United States\",\"United States\",\"India\",\"China\"],[\"Spain\",\"Australia\",\"Brazil\",\"India\",\"China\",\"Canada\",\"Canada\",\"Italy\",\"Italy\",\"United Kingdom\",\"France\",\"France\",\"Japan\",\"United States\",\"United States\"],[\"Finland\",\"Finland\",\"United Kingdom\",\"Belgium\",\"France\",\"France\",\"Norway\",\"Norway\",\"Australia\",\"Canada\",\"Canada\",\"Sweden\",\"Sweden\",\"United States\",\"United States\"]],\"type\":\"bar\",\"orientation\":\"h\",\"marker_color\":[\"red\",\"blue\",\"green\"],\"name\":[\"Population\",\"GDP\",\"GDP Per Capita\"]},{\"title\":\"Country Population, GDP, and Medal Score in 1968\"}],\"label\":\"1968\",\"method\":\"update\"},{\"args\":[{\"x\":[[44941406.0,48733997.0,48733997.0,50552592.0,51675350.0,51675350.0,54000000.0,54000000.0,82262794.0,96903000.0,125345000.0,191889000.0,191889000.0,489059309.0,698355000.0],[23799977595.719,25605249377.87973,49377522896.450005,49377522896.450005,56480289962.1666,59708343488.7618,63175416995.089005,63175416995.089005,81749006377.28549,94007851070.0698,94007851070.0698,94407558372.0,94407558372.0,685800000048.465,685800000048.465],[1707.503938,1707.503938,1748.288118,1748.288118,1928.999402,1928.999402,1937.884614,2131.277657,2555.111146,2555.111146,2813.546976,2941.048899,2941.048899,3573.941185,3573.941185]],\"y\":[[\"Ukraine\",\"France\",\"France\",\"Pakistan\",\"Italy\",\"Italy\",\"United Kingdom\",\"United Kingdom\",\"Brazil\",\"Japan\",\"Russian Federation\",\"United States\",\"United States\",\"India\",\"China\"],[\"Australia\",\"Argentina\",\"Canada\",\"Canada\",\"India\",\"China\",\"Italy\",\"Italy\",\"Japan\",\"France\",\"France\",\"United Kingdom\",\"United Kingdom\",\"United States\",\"United States\"],[\"Finland\",\"Finland\",\"United Kingdom\",\"United Kingdom\",\"France\",\"France\",\"Norway\",\"Australia\",\"Canada\",\"Canada\",\"New Zealand\",\"Sweden\",\"Sweden\",\"United States\",\"United States\"]],\"type\":\"bar\",\"orientation\":\"h\",\"marker_color\":[\"red\",\"blue\",\"green\"],\"name\":[\"Population\",\"GDP\",\"GDP Per Capita\"]},{\"title\":\"Country Population, GDP, and Medal Score in 1964\"}],\"label\":\"1964\",\"method\":\"update\"},{\"args\":[{\"x\":[[36268055.0,42767251.0,45954226.0,46649927.0,46649927.0,50199700.0,50199700.0,52400000.0,73092515.0,93216000.0,119897000.0,180671000.0,180671000.0,445954579.0,667070000.0],[15822585035.882288,17030465543.012688,18605666932.112774,37029883874.36023,40385288341.87301,40385288341.87301,40461721694.68092,40461721694.68092,44307342951.1296,59716467625.0757,62225478007.09517,62225478007.09517,73233967677.2,543299999931.59503,543299999931.59503],[1229.174748,1273.691659,1333.881573,1333.881573,1397.594803,1441.75566,1441.75566,1810.510249,2114.002973,2114.002973,2259.250511,2259.250511,2312.949992,3007.123445,3007.123445]],\"y\":[[\"Mexico\",\"Ukraine\",\"Pakistan\",\"France\",\"France\",\"Italy\",\"Italy\",\"United Kingdom\",\"Brazil\",\"Japan\",\"Russian Federation\",\"United States\",\"United States\",\"India\",\"China\"],[\"Sweden\",\"Brazil\",\"Australia\",\"India\",\"Italy\",\"Italy\",\"Canada\",\"Canada\",\"Japan\",\"China\",\"France\",\"France\",\"United Kingdom\",\"United States\",\"United States\"],[\"Israel\",\"Belgium\",\"France\",\"France\",\"United Kingdom\",\"Norway\",\"Norway\",\"Australia\",\"Sweden\",\"Sweden\",\"Canada\",\"Canada\",\"New Zealand\",\"United States\",\"United States\"]],\"type\":\"bar\",\"orientation\":\"h\",\"marker_color\":[\"red\",\"blue\",\"green\"],\"name\":[\"Population\",\"GDP\",\"GDP Per Capita\"]},{\"title\":\"Country Population, GDP, and Medal Score in 1960\"}],\"label\":\"1960\",\"method\":\"update\"}],\"direction\":\"down\",\"showactive\":true,\"x\":0.1,\"xanchor\":\"left\",\"y\":1.1,\"yanchor\":\"top\"}],\"annotations\":[{\"align\":\"left\",\"showarrow\":false,\"text\":\"Select Year:\",\"x\":0,\"y\":1.085,\"yref\":\"paper\"}]},                        {\"responsive\": true}                    ).then(function(){\n",
       "                            \n",
       "var gd = document.getElementById('40de8cc5-6788-408f-a6cb-6074143ca6ca');\n",
       "var x = new MutationObserver(function (mutations, observer) {{\n",
       "        var display = window.getComputedStyle(gd).display;\n",
       "        if (!display || display === 'none') {{\n",
       "            console.log([gd, 'removed!']);\n",
       "            Plotly.purge(gd);\n",
       "            observer.disconnect();\n",
       "        }}\n",
       "}});\n",
       "\n",
       "// Listen for the removal of the full notebook cells\n",
       "var notebookContainer = gd.closest('#notebook-container');\n",
       "if (notebookContainer) {{\n",
       "    x.observe(notebookContainer, {childList: true});\n",
       "}}\n",
       "\n",
       "// Listen for the clearing of the current output cell\n",
       "var outputEl = gd.closest('.output');\n",
       "if (outputEl) {{\n",
       "    x.observe(outputEl, {childList: true});\n",
       "}}\n",
       "\n",
       "                        })                };                });            </script>        </div>"
      ]
     },
     "metadata": {},
     "output_type": "display_data"
    }
   ],
   "source": [
    "# Import necessary libraries\n",
    "import plotly.graph_objs as go\n",
    "import plotly.offline as pyo\n",
    "import plotly.subplots as sp\n",
    "import numpy as np\n",
    "\n",
    "df = pd.read_csv('olympic_data_country_medal_year.csv')\n",
    "# Create figure\n",
    "bar_chart = go.Figure()\n",
    "\n",
    "# Set default year\n",
    "selected_year = 2020\n",
    "\n",
    "# Define function to sort data by GDP and Total_Score\n",
    "def sort_data_by_selected_year(selected_year):\n",
    "    df_filtered_pop = df[df['Year'] == selected_year].sort_values(by='Population', ascending=True).tail(15)\n",
    "    df_filtered_gdp = df[df['Year'] == selected_year].sort_values(by='GDP', ascending=True).tail(15)\n",
    "    df_filtered_gdp_per_capita = df[(df['Year'] == selected_year) & (df['Population'] >= 1000000)].sort_values(by='GDP_Per_Capita', ascending=True).tail(15)\n",
    "    return df_filtered_pop, df_filtered_gdp, df_filtered_gdp_per_capita\n",
    "\n",
    "# Create two subplots\n",
    "bar_chart = sp.make_subplots(rows=1, cols=3)\n",
    "\n",
    "df_filtered_pop, df_filtered_gdp, df_filtered_gdp_per_capita = sort_data_by_selected_year(df['Year'].max())\n",
    "\n",
    "# Add first chart to subplot 1\n",
    "df_filtered_pop = df[df['Year'] == selected_year].sort_values(by='Population', ascending=True).tail(10)\n",
    "bar_chart.add_trace(go.Bar(\n",
    "    y=df_filtered_pop['Country_Name'],\n",
    "    x=df_filtered_pop['Population'],\n",
    "    name='Population',\n",
    "    marker_color='red',\n",
    "    orientation='h',\n",
    "    marker=dict(opacity=0.75)\n",
    "), row=1, col=1)\n",
    "# Add title to x-axis of subplot 1\n",
    "bar_chart.update_xaxes(title_text='Top Population', row=1, col=1)\n",
    "\n",
    "\n",
    "\n",
    "# Add second chart to subplot 2\n",
    "df_filtered_gdp = df[df['Year'] == selected_year].sort_values(by='GDP', ascending=True).tail(10)\n",
    "bar_chart.add_trace(go.Bar(\n",
    "  y=df_filtered_gdp['Country_Name'],\n",
    "    x=df_filtered_gdp['GDP'],\n",
    "    name='GDP',\n",
    "    marker_color='blue',\n",
    "    orientation='h',\n",
    "    marker=dict(opacity=0.75)\n",
    "), row=1, col=2)\n",
    "# Add title to x-axis of subplot 2\n",
    "bar_chart.update_xaxes(title_text='Top GDP', row=1, col=2)\n",
    "\n",
    "\n",
    "\n",
    "# Add third chart to subplot 3\n",
    "filtered_gdp_per_capita = df[df['Year'] == selected_year].sort_values(by='GDP_Per_Capita', ascending=True).tail(10)\n",
    "bar_chart.add_trace(go.Bar(\n",
    "    y=df_filtered_gdp_per_capita['Country_Name'],\n",
    "    x=df_filtered_gdp_per_capita['GDP_Per_Capita'],\n",
    "    name='GDP Per Capita',\n",
    "    marker_color='green',\n",
    "    orientation='h',\n",
    "    marker=dict(opacity=0.75)\n",
    "), row=1, col=3)\n",
    "# Add title to x-axis of subplot 3\n",
    "bar_chart.update_xaxes(title_text='GDP Per Capita', row=1, col=3)\n",
    "\n",
    "\n",
    "\n",
    "# Update layout\n",
    "bar_chart.update_layout(title=f'Country Population, GDP, and Medals in {df[\"Year\"].max()}',\n",
    "                  height=600, width=1000,\n",
    "                  barmode='group',\n",
    "                  showlegend=False)\n",
    "\n",
    "# Create dropdown list of years\n",
    "years = np.sort(df['Year'].unique())[::-1]\n",
    "dropdown_buttons = []\n",
    "for year in years:\n",
    "    df_filtered_pop, df_filtered_gdp, df_filtered_gdp_per_capita = sort_data_by_selected_year(year)\n",
    "    dropdown_buttons.append(dict(\n",
    "        label=str(year),\n",
    "        method=\"update\",\n",
    "        args=[{\n",
    "                \"x\": [df_filtered_pop['Population'],df_filtered_gdp['GDP'], df_filtered_gdp_per_capita['GDP_Per_Capita']],\n",
    "                \"y\": [df_filtered_pop['Country_Name'], df_filtered_gdp['Country_Name'], df_filtered_gdp_per_capita['Country_Name']],\n",
    "                \"type\": \"bar\",\n",
    "                \"orientation\": \"h\",\n",
    "                \"marker_color\": ['red','blue','green'],\n",
    "                \"name\": ['Population', 'GDP', 'GDP Per Capita']\n",
    "              },\n",
    "              {\n",
    "                \"title\": f\"Country Population, GDP, and Medal Score in {year}\"\n",
    "            }]\n",
    "            ))\n",
    "\n",
    "# Add dropdown\n",
    "bar_chart.update_layout(\n",
    "    updatemenus=[dict(\n",
    "        buttons=dropdown_buttons,\n",
    "        direction=\"down\",\n",
    "        showactive=True,\n",
    "        x=0.1,\n",
    "        xanchor=\"left\",\n",
    "        y=1.1,\n",
    "        yanchor=\"top\"\n",
    "    )]\n",
    ")\n",
    "\n",
    "# Add annotation\n",
    "bar_chart.update_layout(\n",
    "    annotations=[\n",
    "        dict(text=\"Select Year:\", showarrow=False,\n",
    "        x=0, y=1.085, yref=\"paper\", align=\"left\")\n",
    "    ]\n",
    ")\n",
    "\n",
    "bar_chart.show()\n",
    "#pyo.plot(fig, filename='barchart.html', auto_open=True)"
   ]
  },
  {
   "cell_type": "code",
   "execution_count": 15,
   "id": "63ebd2c8",
   "metadata": {},
   "outputs": [
    {
     "data": {
      "application/vnd.plotly.v1+json": {
       "config": {
        "plotlyServerURL": "https://plot.ly"
       },
       "data": [
        {
         "hovertemplate": "<b>%{hovertext}</b><br><br>Country_Name=Afghanistan<br>Y_Capita_Per_Medal=%{x}<br>GDP_Per_Capita=%{y}<extra></extra>",
         "hovertext": [
          "Afghanistan"
         ],
         "legendgroup": "Afghanistan",
         "marker": {
          "color": "#636efa",
          "size": 10,
          "symbol": "circle"
         },
         "mode": "markers",
         "name": "Afghanistan",
         "orientation": "v",
         "showlegend": true,
         "type": "scatter",
         "x": [
          0
         ],
         "xaxis": "x",
         "y": [
          520.252064
         ],
         "yaxis": "y"
        },
        {
         "hovertemplate": "<b>%{hovertext}</b><br><br>Country_Name=Argentina<br>Y_Capita_Per_Medal=%{x}<br>GDP_Per_Capita=%{y}<extra></extra>",
         "hovertext": [
          "Argentina"
         ],
         "legendgroup": "Argentina",
         "marker": {
          "color": "#EF553B",
          "size": 10,
          "symbol": "circle"
         },
         "mode": "markers",
         "name": "Argentina",
         "orientation": "v",
         "showlegend": true,
         "type": "scatter",
         "x": [
          9.17633913987604e-08
         ],
         "xaxis": "x",
         "y": [
          12790.24247
         ],
         "yaxis": "y"
        },
        {
         "hovertemplate": "<b>%{hovertext}</b><br><br>Country_Name=Armenia<br>Y_Capita_Per_Medal=%{x}<br>GDP_Per_Capita=%{y}<extra></extra>",
         "hovertext": [
          "Armenia"
         ],
         "legendgroup": "Armenia",
         "marker": {
          "color": "#00cc96",
          "size": 10,
          "symbol": "circle"
         },
         "mode": "markers",
         "name": "Armenia",
         "orientation": "v",
         "showlegend": true,
         "type": "scatter",
         "x": [
          1.3957537680990008e-06
         ],
         "xaxis": "x",
         "y": [
          3679.951972
         ],
         "yaxis": "y"
        },
        {
         "hovertemplate": "<b>%{hovertext}</b><br><br>Country_Name=Australia<br>Y_Capita_Per_Medal=%{x}<br>GDP_Per_Capita=%{y}<extra></extra>",
         "hovertext": [
          "Australia"
         ],
         "legendgroup": "Australia",
         "marker": {
          "color": "#ab63fa",
          "size": 10,
          "symbol": "circle"
         },
         "mode": "markers",
         "name": "Australia",
         "orientation": "v",
         "showlegend": true,
         "type": "scatter",
         "x": [
          1.1987975481861845e-06
         ],
         "xaxis": "x",
         "y": [
          49875.56514
         ],
         "yaxis": "y"
        },
        {
         "hovertemplate": "<b>%{hovertext}</b><br><br>Country_Name=Austria<br>Y_Capita_Per_Medal=%{x}<br>GDP_Per_Capita=%{y}<extra></extra>",
         "hovertext": [
          "Austria"
         ],
         "legendgroup": "Austria",
         "marker": {
          "color": "#FFA15A",
          "size": 10,
          "symbol": "circle"
         },
         "mode": "markers",
         "name": "Austria",
         "orientation": "v",
         "showlegend": true,
         "type": "scatter",
         "x": [
          1.1446011225332129e-07
         ],
         "xaxis": "x",
         "y": [
          45307.58786
         ],
         "yaxis": "y"
        },
        {
         "hovertemplate": "<b>%{hovertext}</b><br><br>Country_Name=Azerbaijan<br>Y_Capita_Per_Medal=%{x}<br>GDP_Per_Capita=%{y}<extra></extra>",
         "hovertext": [
          "Azerbaijan"
         ],
         "legendgroup": "Azerbaijan",
         "marker": {
          "color": "#19d3f3",
          "size": 10,
          "symbol": "circle"
         },
         "mode": "markers",
         "name": "Azerbaijan",
         "orientation": "v",
         "showlegend": true,
         "type": "scatter",
         "x": [
          1.844675835115495e-06
         ],
         "xaxis": "x",
         "y": [
          3880.738731
         ],
         "yaxis": "y"
        },
        {
         "hovertemplate": "<b>%{hovertext}</b><br><br>Country_Name=Belarus<br>Y_Capita_Per_Medal=%{x}<br>GDP_Per_Capita=%{y}<extra></extra>",
         "hovertext": [
          "Belarus"
         ],
         "legendgroup": "Belarus",
         "marker": {
          "color": "#FF6692",
          "size": 10,
          "symbol": "circle"
         },
         "mode": "markers",
         "name": "Belarus",
         "orientation": "v",
         "showlegend": true,
         "type": "scatter",
         "x": [
          9.504319132226094e-07
         ],
         "xaxis": "x",
         "y": [
          5039.681886
         ],
         "yaxis": "y"
        },
        {
         "hovertemplate": "<b>%{hovertext}</b><br><br>Country_Name=Belgium<br>Y_Capita_Per_Medal=%{x}<br>GDP_Per_Capita=%{y}<extra></extra>",
         "hovertext": [
          "Belgium"
         ],
         "legendgroup": "Belgium",
         "marker": {
          "color": "#B6E880",
          "size": 10,
          "symbol": "circle"
         },
         "mode": "markers",
         "name": "Belgium",
         "orientation": "v",
         "showlegend": true,
         "type": "scatter",
         "x": [
          5.29501063502886e-07
         ],
         "xaxis": "x",
         "y": [
          42012.62272
         ],
         "yaxis": "y"
        },
        {
         "hovertemplate": "<b>%{hovertext}</b><br><br>Country_Name=Brazil<br>Y_Capita_Per_Medal=%{x}<br>GDP_Per_Capita=%{y}<extra></extra>",
         "hovertext": [
          "Brazil"
         ],
         "legendgroup": "Brazil",
         "marker": {
          "color": "#FF97FF",
          "size": 10,
          "symbol": "circle"
         },
         "mode": "markers",
         "name": "Brazil",
         "orientation": "v",
         "showlegend": true,
         "type": "scatter",
         "x": [
          9.184974746492038e-08
         ],
         "xaxis": "x",
         "y": [
          8680.768792
         ],
         "yaxis": "y"
        },
        {
         "hovertemplate": "<b>%{hovertext}</b><br><br>Country_Name=Brunei Darussalam<br>Y_Capita_Per_Medal=%{x}<br>GDP_Per_Capita=%{y}<extra></extra>",
         "hovertext": [
          "Brunei Darussalam"
         ],
         "legendgroup": "Brunei Darussalam",
         "marker": {
          "color": "#FECB52",
          "size": 10,
          "symbol": "circle"
         },
         "mode": "markers",
         "name": "Brunei Darussalam",
         "orientation": "v",
         "showlegend": true,
         "type": "scatter",
         "x": [
          4.694901806128725e-06
         ],
         "xaxis": "x",
         "y": [
          26762.94565
         ],
         "yaxis": "y"
        },
        {
         "hovertemplate": "<b>%{hovertext}</b><br><br>Country_Name=Burundi<br>Y_Capita_Per_Medal=%{x}<br>GDP_Per_Capita=%{y}<extra></extra>",
         "hovertext": [
          "Burundi"
         ],
         "legendgroup": "Burundi",
         "marker": {
          "color": "#636efa",
          "size": 10,
          "symbol": "circle"
         },
         "mode": "markers",
         "name": "Burundi",
         "orientation": "v",
         "showlegend": true,
         "type": "scatter",
         "x": [
          9.171512511731512e-08
         ],
         "xaxis": "x",
         "y": [
          242.0656705
         ],
         "yaxis": "y"
        },
        {
         "hovertemplate": "<b>%{hovertext}</b><br><br>Country_Name=Cameroon<br>Y_Capita_Per_Medal=%{x}<br>GDP_Per_Capita=%{y}<extra></extra>",
         "hovertext": [
          "Cameroon"
         ],
         "legendgroup": "Cameroon",
         "marker": {
          "color": "#EF553B",
          "size": 10,
          "symbol": "circle"
         },
         "mode": "markers",
         "name": "Cameroon",
         "orientation": "v",
         "showlegend": true,
         "type": "scatter",
         "x": [
          0
         ],
         "xaxis": "x",
         "y": [
          1426.065517
         ],
         "yaxis": "y"
        },
        {
         "hovertemplate": "<b>%{hovertext}</b><br><br>Country_Name=Canada<br>Y_Capita_Per_Medal=%{x}<br>GDP_Per_Capita=%{y}<extra></extra>",
         "hovertext": [
          "Canada"
         ],
         "legendgroup": "Canada",
         "marker": {
          "color": "#00cc96",
          "size": 10,
          "symbol": "circle"
         },
         "mode": "markers",
         "name": "Canada",
         "orientation": "v",
         "showlegend": true,
         "type": "scatter",
         "x": [
          6.092581708513334e-07
         ],
         "xaxis": "x",
         "y": [
          42315.60371
         ],
         "yaxis": "y"
        },
        {
         "hovertemplate": "<b>%{hovertext}</b><br><br>Country_Name=Channel Islands<br>Y_Capita_Per_Medal=%{x}<br>GDP_Per_Capita=%{y}<extra></extra>",
         "hovertext": [
          "Channel Islands"
         ],
         "legendgroup": "Channel Islands",
         "marker": {
          "color": "#ab63fa",
          "size": 10,
          "symbol": "circle"
         },
         "mode": "markers",
         "name": "Channel Islands",
         "orientation": "v",
         "showlegend": true,
         "type": "scatter",
         "x": [
          0
         ],
         "xaxis": "x",
         "y": [
          0
         ],
         "yaxis": "y"
        },
        {
         "hovertemplate": "<b>%{hovertext}</b><br><br>Country_Name=China<br>Y_Capita_Per_Medal=%{x}<br>GDP_Per_Capita=%{y}<extra></extra>",
         "hovertext": [
          "China"
         ],
         "legendgroup": "China",
         "marker": {
          "color": "#FFA15A",
          "size": 10,
          "symbol": "circle"
         },
         "mode": "markers",
         "name": "China",
         "orientation": "v",
         "showlegend": true,
         "type": "scatter",
         "x": [
          5.043990805525331e-08
         ],
         "xaxis": "x",
         "y": [
          8094.363367
         ],
         "yaxis": "y"
        },
        {
         "hovertemplate": "<b>%{hovertext}</b><br><br>Country_Name=Colombia<br>Y_Capita_Per_Medal=%{x}<br>GDP_Per_Capita=%{y}<extra></extra>",
         "hovertext": [
          "Colombia"
         ],
         "legendgroup": "Colombia",
         "marker": {
          "color": "#19d3f3",
          "size": 10,
          "symbol": "circle"
         },
         "mode": "markers",
         "name": "Colombia",
         "orientation": "v",
         "showlegend": true,
         "type": "scatter",
         "x": [
          1.6797563429436744e-07
         ],
         "xaxis": "x",
         "y": [
          5938.463856
         ],
         "yaxis": "y"
        },
        {
         "hovertemplate": "<b>%{hovertext}</b><br><br>Country_Name=Cote d'Ivoire<br>Y_Capita_Per_Medal=%{x}<br>GDP_Per_Capita=%{y}<extra></extra>",
         "hovertext": [
          "Cote d'Ivoire"
         ],
         "legendgroup": "Cote d'Ivoire",
         "marker": {
          "color": "#FF6692",
          "size": 10,
          "symbol": "circle"
         },
         "mode": "markers",
         "name": "Cote d'Ivoire",
         "orientation": "v",
         "showlegend": true,
         "type": "scatter",
         "x": [
          8.259813422378529e-08
         ],
         "xaxis": "x",
         "y": [
          1980.878142
         ],
         "yaxis": "y"
        },
        {
         "hovertemplate": "<b>%{hovertext}</b><br><br>Country_Name=Cuba<br>Y_Capita_Per_Medal=%{x}<br>GDP_Per_Capita=%{y}<extra></extra>",
         "hovertext": [
          "Cuba"
         ],
         "legendgroup": "Cuba",
         "marker": {
          "color": "#B6E880",
          "size": 10,
          "symbol": "circle"
         },
         "mode": "markers",
         "name": "Cuba",
         "orientation": "v",
         "showlegend": true,
         "type": "scatter",
         "x": [
          9.6984556179274e-07
         ],
         "xaxis": "x",
         "y": [
          8055.889907
         ],
         "yaxis": "y"
        },
        {
         "hovertemplate": "<b>%{hovertext}</b><br><br>Country_Name=Cyprus<br>Y_Capita_Per_Medal=%{x}<br>GDP_Per_Capita=%{y}<extra></extra>",
         "hovertext": [
          "Cyprus"
         ],
         "legendgroup": "Cyprus",
         "marker": {
          "color": "#FF97FF",
          "size": 10,
          "symbol": "circle"
         },
         "mode": "markers",
         "name": "Cyprus",
         "orientation": "v",
         "showlegend": true,
         "type": "scatter",
         "x": [
          0
         ],
         "xaxis": "x",
         "y": [
          24715.73047
         ],
         "yaxis": "y"
        },
        {
         "hovertemplate": "<b>%{hovertext}</b><br><br>Country_Name=Czechia<br>Y_Capita_Per_Medal=%{x}<br>GDP_Per_Capita=%{y}<extra></extra>",
         "hovertext": [
          "Czechia"
         ],
         "legendgroup": "Czechia",
         "marker": {
          "color": "#FECB52",
          "size": 10,
          "symbol": "circle"
         },
         "mode": "markers",
         "name": "Czechia",
         "orientation": "v",
         "showlegend": true,
         "type": "scatter",
         "x": [
          9.46402214126908e-07
         ],
         "xaxis": "x",
         "y": [
          18575.23203
         ],
         "yaxis": "y"
        },
        {
         "hovertemplate": "<b>%{hovertext}</b><br><br>Country_Name=Djibouti<br>Y_Capita_Per_Medal=%{x}<br>GDP_Per_Capita=%{y}<extra></extra>",
         "hovertext": [
          "Djibouti"
         ],
         "legendgroup": "Djibouti",
         "marker": {
          "color": "#636efa",
          "size": 10,
          "symbol": "circle"
         },
         "mode": "markers",
         "name": "Djibouti",
         "orientation": "v",
         "showlegend": true,
         "type": "scatter",
         "x": [
          0
         ],
         "xaxis": "x",
         "y": [
          2545.738799
         ],
         "yaxis": "y"
        },
        {
         "hovertemplate": "<b>%{hovertext}</b><br><br>Country_Name=Dominican Republic<br>Y_Capita_Per_Medal=%{x}<br>GDP_Per_Capita=%{y}<extra></extra>",
         "hovertext": [
          "Dominican Republic"
         ],
         "legendgroup": "Dominican Republic",
         "marker": {
          "color": "#EF553B",
          "size": 10,
          "symbol": "circle"
         },
         "mode": "markers",
         "name": "Dominican Republic",
         "orientation": "v",
         "showlegend": true,
         "type": "scatter",
         "x": [
          9.498848359624881e-08
         ],
         "xaxis": "x",
         "y": [
          7191.076572
         ],
         "yaxis": "y"
        },
        {
         "hovertemplate": "<b>%{hovertext}</b><br><br>Country_Name=Ecuador<br>Y_Capita_Per_Medal=%{x}<br>GDP_Per_Capita=%{y}<extra></extra>",
         "hovertext": [
          "Ecuador"
         ],
         "legendgroup": "Ecuador",
         "marker": {
          "color": "#00cc96",
          "size": 10,
          "symbol": "circle"
         },
         "mode": "markers",
         "name": "Ecuador",
         "orientation": "v",
         "showlegend": true,
         "type": "scatter",
         "x": [
          0
         ],
         "xaxis": "x",
         "y": [
          6079.088736
         ],
         "yaxis": "y"
        },
        {
         "hovertemplate": "<b>%{hovertext}</b><br><br>Country_Name=Egypt, Arab Rep.<br>Y_Capita_Per_Medal=%{x}<br>GDP_Per_Capita=%{y}<extra></extra>",
         "hovertext": [
          "Egypt, Arab Rep."
         ],
         "legendgroup": "Egypt, Arab Rep.",
         "marker": {
          "color": "#ab63fa",
          "size": 10,
          "symbol": "circle"
         },
         "mode": "markers",
         "name": "Egypt, Arab Rep.",
         "orientation": "v",
         "showlegend": true,
         "type": "scatter",
         "x": [
          3.006493123198171e-08
         ],
         "xaxis": "x",
         "y": [
          3331.612461
         ],
         "yaxis": "y"
        },
        {
         "hovertemplate": "<b>%{hovertext}</b><br><br>Country_Name=Eritrea<br>Y_Capita_Per_Medal=%{x}<br>GDP_Per_Capita=%{y}<extra></extra>",
         "hovertext": [
          "Eritrea"
         ],
         "legendgroup": "Eritrea",
         "marker": {
          "color": "#FFA15A",
          "size": 10,
          "symbol": "circle"
         },
         "mode": "markers",
         "name": "Eritrea",
         "orientation": "v",
         "showlegend": true,
         "type": "scatter",
         "x": [
          0
         ],
         "xaxis": "x",
         "y": [
          0
         ],
         "yaxis": "y"
        },
        {
         "hovertemplate": "<b>%{hovertext}</b><br><br>Country_Name=Estonia<br>Y_Capita_Per_Medal=%{x}<br>GDP_Per_Capita=%{y}<extra></extra>",
         "hovertext": [
          "Estonia"
         ],
         "legendgroup": "Estonia",
         "marker": {
          "color": "#19d3f3",
          "size": 10,
          "symbol": "circle"
         },
         "mode": "markers",
         "name": "Estonia",
         "orientation": "v",
         "showlegend": true,
         "type": "scatter",
         "x": [
          7.599996960001216e-07
         ],
         "xaxis": "x",
         "y": [
          18295.34293
         ],
         "yaxis": "y"
        },
        {
         "hovertemplate": "<b>%{hovertext}</b><br><br>Country_Name=Ethiopia<br>Y_Capita_Per_Medal=%{x}<br>GDP_Per_Capita=%{y}<extra></extra>",
         "hovertext": [
          "Ethiopia"
         ],
         "legendgroup": "Ethiopia",
         "marker": {
          "color": "#FF6692",
          "size": 10,
          "symbol": "circle"
         },
         "mode": "markers",
         "name": "Ethiopia",
         "orientation": "v",
         "showlegend": true,
         "type": "scatter",
         "x": [
          7.597829558421365e-08
         ],
         "xaxis": "x",
         "y": [
          705.616305
         ],
         "yaxis": "y"
        },
        {
         "hovertemplate": "<b>%{hovertext}</b><br><br>Country_Name=Finland<br>Y_Capita_Per_Medal=%{x}<br>GDP_Per_Capita=%{y}<extra></extra>",
         "hovertext": [
          "Finland"
         ],
         "legendgroup": "Finland",
         "marker": {
          "color": "#B6E880",
          "size": 10,
          "symbol": "circle"
         },
         "mode": "markers",
         "name": "Finland",
         "orientation": "v",
         "showlegend": true,
         "type": "scatter",
         "x": [
          1.819735872617033e-07
         ],
         "xaxis": "x",
         "y": [
          43814.02651
         ],
         "yaxis": "y"
        },
        {
         "hovertemplate": "<b>%{hovertext}</b><br><br>Country_Name=France<br>Y_Capita_Per_Medal=%{x}<br>GDP_Per_Capita=%{y}<extra></extra>",
         "hovertext": [
          "France"
         ],
         "legendgroup": "France",
         "marker": {
          "color": "#FF97FF",
          "size": 10,
          "symbol": "circle"
         },
         "mode": "markers",
         "name": "France",
         "orientation": "v",
         "showlegend": true,
         "type": "scatter",
         "x": [
          6.294576844373962e-07
         ],
         "xaxis": "x",
         "y": [
          37062.53357
         ],
         "yaxis": "y"
        },
        {
         "hovertemplate": "<b>%{hovertext}</b><br><br>Country_Name=Gabon<br>Y_Capita_Per_Medal=%{x}<br>GDP_Per_Capita=%{y}<extra></extra>",
         "hovertext": [
          "Gabon"
         ],
         "legendgroup": "Gabon",
         "marker": {
          "color": "#FECB52",
          "size": 10,
          "symbol": "circle"
         },
         "mode": "markers",
         "name": "Gabon",
         "orientation": "v",
         "showlegend": true,
         "type": "scatter",
         "x": [
          0
         ],
         "xaxis": "x",
         "y": [
          6722.198393
         ],
         "yaxis": "y"
        },
        {
         "hovertemplate": "<b>%{hovertext}</b><br><br>Country_Name=Georgia<br>Y_Capita_Per_Medal=%{x}<br>GDP_Per_Capita=%{y}<extra></extra>",
         "hovertext": [
          "Georgia"
         ],
         "legendgroup": "Georgia",
         "marker": {
          "color": "#636efa",
          "size": 10,
          "symbol": "circle"
         },
         "mode": "markers",
         "name": "Georgia",
         "orientation": "v",
         "showlegend": true,
         "type": "scatter",
         "x": [
          1.8779317532773264e-06
         ],
         "xaxis": "x",
         "y": [
          4062.169888
         ],
         "yaxis": "y"
        },
        {
         "hovertemplate": "<b>%{hovertext}</b><br><br>Country_Name=Ghana<br>Y_Capita_Per_Medal=%{x}<br>GDP_Per_Capita=%{y}<extra></extra>",
         "hovertext": [
          "Ghana"
         ],
         "legendgroup": "Ghana",
         "marker": {
          "color": "#EF553B",
          "size": 10,
          "symbol": "circle"
         },
         "mode": "markers",
         "name": "Ghana",
         "orientation": "v",
         "showlegend": true,
         "type": "scatter",
         "x": [
          0
         ],
         "xaxis": "x",
         "y": [
          1900.405937
         ],
         "yaxis": "y"
        },
        {
         "hovertemplate": "<b>%{hovertext}</b><br><br>Country_Name=Guyana<br>Y_Capita_Per_Medal=%{x}<br>GDP_Per_Capita=%{y}<extra></extra>",
         "hovertext": [
          "Guyana"
         ],
         "legendgroup": "Guyana",
         "marker": {
          "color": "#00cc96",
          "size": 10,
          "symbol": "circle"
         },
         "mode": "markers",
         "name": "Guyana",
         "orientation": "v",
         "showlegend": true,
         "type": "scatter",
         "x": [
          0
         ],
         "xaxis": "x",
         "y": [
          5905.380196
         ],
         "yaxis": "y"
        },
        {
         "hovertemplate": "<b>%{hovertext}</b><br><br>Country_Name=Hong Kong SAR, China<br>Y_Capita_Per_Medal=%{x}<br>GDP_Per_Capita=%{y}<extra></extra>",
         "hovertext": [
          "Hong Kong SAR, China"
         ],
         "legendgroup": "Hong Kong SAR, China",
         "marker": {
          "color": "#ab63fa",
          "size": 10,
          "symbol": "circle"
         },
         "mode": "markers",
         "name": "Hong Kong SAR, China",
         "orientation": "v",
         "showlegend": true,
         "type": "scatter",
         "x": [
          0
         ],
         "xaxis": "x",
         "y": [
          43733.91636
         ],
         "yaxis": "y"
        },
        {
         "hovertemplate": "<b>%{hovertext}</b><br><br>Country_Name=Hungary<br>Y_Capita_Per_Medal=%{x}<br>GDP_Per_Capita=%{y}<extra></extra>",
         "hovertext": [
          "Hungary"
         ],
         "legendgroup": "Hungary",
         "marker": {
          "color": "#FFA15A",
          "size": 10,
          "symbol": "circle"
         },
         "mode": "markers",
         "name": "Hungary",
         "orientation": "v",
         "showlegend": true,
         "type": "scatter",
         "x": [
          1.5284251932158709e-06
         ],
         "xaxis": "x",
         "y": [
          13104.69955
         ],
         "yaxis": "y"
        },
        {
         "hovertemplate": "<b>%{hovertext}</b><br><br>Country_Name=Iceland<br>Y_Capita_Per_Medal=%{x}<br>GDP_Per_Capita=%{y}<extra></extra>",
         "hovertext": [
          "Iceland"
         ],
         "legendgroup": "Iceland",
         "marker": {
          "color": "#19d3f3",
          "size": 10,
          "symbol": "circle"
         },
         "mode": "markers",
         "name": "Iceland",
         "orientation": "v",
         "showlegend": true,
         "type": "scatter",
         "x": [
          0
         ],
         "xaxis": "x",
         "y": [
          61987.92636
         ],
         "yaxis": "y"
        },
        {
         "hovertemplate": "<b>%{hovertext}</b><br><br>Country_Name=India<br>Y_Capita_Per_Medal=%{x}<br>GDP_Per_Capita=%{y}<extra></extra>",
         "hovertext": [
          "India"
         ],
         "legendgroup": "India",
         "marker": {
          "color": "#FF6692",
          "size": 10,
          "symbol": "circle"
         },
         "mode": "markers",
         "name": "India",
         "orientation": "v",
         "showlegend": true,
         "type": "scatter",
         "x": [
          1.4940577513382012e-09
         ],
         "xaxis": "x",
         "y": [
          1714.280355
         ],
         "yaxis": "y"
        },
        {
         "hovertemplate": "<b>%{hovertext}</b><br><br>Country_Name=Iraq<br>Y_Capita_Per_Medal=%{x}<br>GDP_Per_Capita=%{y}<extra></extra>",
         "hovertext": [
          "Iraq"
         ],
         "legendgroup": "Iraq",
         "marker": {
          "color": "#B6E880",
          "size": 10,
          "symbol": "circle"
         },
         "mode": "markers",
         "name": "Iraq",
         "orientation": "v",
         "showlegend": true,
         "type": "scatter",
         "x": [
          0
         ],
         "xaxis": "x",
         "y": [
          4305.202702
         ],
         "yaxis": "y"
        },
        {
         "hovertemplate": "<b>%{hovertext}</b><br><br>Country_Name=Ireland<br>Y_Capita_Per_Medal=%{x}<br>GDP_Per_Capita=%{y}<extra></extra>",
         "hovertext": [
          "Ireland"
         ],
         "legendgroup": "Ireland",
         "marker": {
          "color": "#FF97FF",
          "size": 10,
          "symbol": "circle"
         },
         "mode": "markers",
         "name": "Ireland",
         "orientation": "v",
         "showlegend": true,
         "type": "scatter",
         "x": [
          4.2058025354680587e-07
         ],
         "xaxis": "x",
         "y": [
          62895.91112
         ],
         "yaxis": "y"
        },
        {
         "hovertemplate": "<b>%{hovertext}</b><br><br>Country_Name=Israel<br>Y_Capita_Per_Medal=%{x}<br>GDP_Per_Capita=%{y}<extra></extra>",
         "hovertext": [
          "Israel"
         ],
         "legendgroup": "Israel",
         "marker": {
          "color": "#FECB52",
          "size": 10,
          "symbol": "circle"
         },
         "mode": "markers",
         "name": "Israel",
         "orientation": "v",
         "showlegend": true,
         "type": "scatter",
         "x": [
          2.340276152586005e-07
         ],
         "xaxis": "x",
         "y": [
          37690.47395
         ],
         "yaxis": "y"
        },
        {
         "hovertemplate": "<b>%{hovertext}</b><br><br>Country_Name=Italy<br>Y_Capita_Per_Medal=%{x}<br>GDP_Per_Capita=%{y}<extra></extra>",
         "hovertext": [
          "Italy"
         ],
         "legendgroup": "Italy",
         "marker": {
          "color": "#636efa",
          "size": 10,
          "symbol": "circle"
         },
         "mode": "markers",
         "name": "Italy",
         "orientation": "v",
         "showlegend": true,
         "type": "scatter",
         "x": [
          4.61836640529022e-07
         ],
         "xaxis": "x",
         "y": [
          30960.73151
         ],
         "yaxis": "y"
        },
        {
         "hovertemplate": "<b>%{hovertext}</b><br><br>Country_Name=Jamaica<br>Y_Capita_Per_Medal=%{x}<br>GDP_Per_Capita=%{y}<extra></extra>",
         "hovertext": [
          "Jamaica"
         ],
         "legendgroup": "Jamaica",
         "marker": {
          "color": "#EF553B",
          "size": 10,
          "symbol": "circle"
         },
         "mode": "markers",
         "name": "Jamaica",
         "orientation": "v",
         "showlegend": true,
         "type": "scatter",
         "x": [
          3.9247938145249486e-06
         ],
         "xaxis": "x",
         "y": [
          5022.704717
         ],
         "yaxis": "y"
        },
        {
         "hovertemplate": "<b>%{hovertext}</b><br><br>Country_Name=Japan<br>Y_Capita_Per_Medal=%{x}<br>GDP_Per_Capita=%{y}<extra></extra>",
         "hovertext": [
          "Japan"
         ],
         "legendgroup": "Japan",
         "marker": {
          "color": "#00cc96",
          "size": 10,
          "symbol": "circle"
         },
         "mode": "markers",
         "name": "Japan",
         "orientation": "v",
         "showlegend": true,
         "type": "scatter",
         "x": [
          3.226415688249552e-07
         ],
         "xaxis": "x",
         "y": [
          39375.47316
         ],
         "yaxis": "y"
        },
        {
         "hovertemplate": "<b>%{hovertext}</b><br><br>Country_Name=Jordan<br>Y_Capita_Per_Medal=%{x}<br>GDP_Per_Capita=%{y}<extra></extra>",
         "hovertext": [
          "Jordan"
         ],
         "legendgroup": "Jordan",
         "marker": {
          "color": "#ab63fa",
          "size": 10,
          "symbol": "circle"
         },
         "mode": "markers",
         "name": "Jordan",
         "orientation": "v",
         "showlegend": true,
         "type": "scatter",
         "x": [
          1.0035469362916293e-07
         ],
         "xaxis": "x",
         "y": [
          4003.404749
         ],
         "yaxis": "y"
        },
        {
         "hovertemplate": "<b>%{hovertext}</b><br><br>Country_Name=Kazakhstan<br>Y_Capita_Per_Medal=%{x}<br>GDP_Per_Capita=%{y}<extra></extra>",
         "hovertext": [
          "Kazakhstan"
         ],
         "legendgroup": "Kazakhstan",
         "marker": {
          "color": "#FFA15A",
          "size": 10,
          "symbol": "circle"
         },
         "mode": "markers",
         "name": "Kazakhstan",
         "orientation": "v",
         "showlegend": true,
         "type": "scatter",
         "x": [
          9.5537526437903e-07
         ],
         "xaxis": "x",
         "y": [
          7714.841844
         ],
         "yaxis": "y"
        },
        {
         "hovertemplate": "<b>%{hovertext}</b><br><br>Country_Name=Kenya<br>Y_Capita_Per_Medal=%{x}<br>GDP_Per_Capita=%{y}<extra></extra>",
         "hovertext": [
          "Kenya"
         ],
         "legendgroup": "Kenya",
         "marker": {
          "color": "#19d3f3",
          "size": 10,
          "symbol": "circle"
         },
         "mode": "markers",
         "name": "Kenya",
         "orientation": "v",
         "showlegend": true,
         "type": "scatter",
         "x": [
          2.7142895023600746e-07
         ],
         "xaxis": "x",
         "y": [
          1562.076142
         ],
         "yaxis": "y"
        },
        {
         "hovertemplate": "<b>%{hovertext}</b><br><br>Country_Name=Korea, Dem. People's Rep.<br>Y_Capita_Per_Medal=%{x}<br>GDP_Per_Capita=%{y}<extra></extra>",
         "hovertext": [
          "Korea, Dem. People's Rep."
         ],
         "legendgroup": "Korea, Dem. People's Rep.",
         "marker": {
          "color": "#FF6692",
          "size": 10,
          "symbol": "circle"
         },
         "mode": "markers",
         "name": "Korea, Dem. People's Rep.",
         "orientation": "v",
         "showlegend": true,
         "type": "scatter",
         "x": [
          2.7570331818002254e-07
         ],
         "xaxis": "x",
         "y": [
          0
         ],
         "yaxis": "y"
        },
        {
         "hovertemplate": "<b>%{hovertext}</b><br><br>Country_Name=Korea, Rep.<br>Y_Capita_Per_Medal=%{x}<br>GDP_Per_Capita=%{y}<extra></extra>",
         "hovertext": [
          "Korea, Rep."
         ],
         "legendgroup": "Korea, Rep.",
         "marker": {
          "color": "#B6E880",
          "size": 10,
          "symbol": "circle"
         },
         "mode": "markers",
         "name": "Korea, Rep.",
         "orientation": "v",
         "showlegend": true,
         "type": "scatter",
         "x": [
          4.100136821565736e-07
         ],
         "xaxis": "x",
         "y": [
          29288.87044
         ],
         "yaxis": "y"
        },
        {
         "hovertemplate": "<b>%{hovertext}</b><br><br>Country_Name=Kyrgyz Republic<br>Y_Capita_Per_Medal=%{x}<br>GDP_Per_Capita=%{y}<extra></extra>",
         "hovertext": [
          "Kyrgyz Republic"
         ],
         "legendgroup": "Kyrgyz Republic",
         "marker": {
          "color": "#FF97FF",
          "size": 10,
          "symbol": "circle"
         },
         "mode": "markers",
         "name": "Kyrgyz Republic",
         "orientation": "v",
         "showlegend": true,
         "type": "scatter",
         "x": [
          0
         ],
         "xaxis": "x",
         "y": [
          1120.666513
         ],
         "yaxis": "y"
        },
        {
         "hovertemplate": "<b>%{hovertext}</b><br><br>Country_Name=Lebanon<br>Y_Capita_Per_Medal=%{x}<br>GDP_Per_Capita=%{y}<extra></extra>",
         "hovertext": [
          "Lebanon"
         ],
         "legendgroup": "Lebanon",
         "marker": {
          "color": "#FECB52",
          "size": 10,
          "symbol": "circle"
         },
         "mode": "markers",
         "name": "Lebanon",
         "orientation": "v",
         "showlegend": true,
         "type": "scatter",
         "x": [
          0
         ],
         "xaxis": "x",
         "y": [
          8172.299476
         ],
         "yaxis": "y"
        },
        {
         "hovertemplate": "<b>%{hovertext}</b><br><br>Country_Name=Liechtenstein<br>Y_Capita_Per_Medal=%{x}<br>GDP_Per_Capita=%{y}<extra></extra>",
         "hovertext": [
          "Liechtenstein"
         ],
         "legendgroup": "Liechtenstein",
         "marker": {
          "color": "#636efa",
          "size": 10,
          "symbol": "circle"
         },
         "mode": "markers",
         "name": "Liechtenstein",
         "orientation": "v",
         "showlegend": true,
         "type": "scatter",
         "x": [
          0
         ],
         "xaxis": "x",
         "y": [
          165844.9854
         ],
         "yaxis": "y"
        },
        {
         "hovertemplate": "<b>%{hovertext}</b><br><br>Country_Name=Lithuania<br>Y_Capita_Per_Medal=%{x}<br>GDP_Per_Capita=%{y}<extra></extra>",
         "hovertext": [
          "Lithuania"
         ],
         "legendgroup": "Lithuania",
         "marker": {
          "color": "#EF553B",
          "size": 10,
          "symbol": "circle"
         },
         "mode": "markers",
         "name": "Lithuania",
         "orientation": "v",
         "showlegend": true,
         "type": "scatter",
         "x": [
          1.394587813882494e-06
         ],
         "xaxis": "x",
         "y": [
          15008.31324
         ],
         "yaxis": "y"
        },
        {
         "hovertemplate": "<b>%{hovertext}</b><br><br>Country_Name=Luxembourg<br>Y_Capita_Per_Medal=%{x}<br>GDP_Per_Capita=%{y}<extra></extra>",
         "hovertext": [
          "Luxembourg"
         ],
         "legendgroup": "Luxembourg",
         "marker": {
          "color": "#00cc96",
          "size": 10,
          "symbol": "circle"
         },
         "mode": "markers",
         "name": "Luxembourg",
         "orientation": "v",
         "showlegend": true,
         "type": "scatter",
         "x": [
          0
         ],
         "xaxis": "x",
         "y": [
          106899.2935
         ],
         "yaxis": "y"
        },
        {
         "hovertemplate": "<b>%{hovertext}</b><br><br>Country_Name=Mexico<br>Y_Capita_Per_Medal=%{x}<br>GDP_Per_Capita=%{y}<extra></extra>",
         "hovertext": [
          "Mexico"
         ],
         "legendgroup": "Mexico",
         "marker": {
          "color": "#ab63fa",
          "size": 10,
          "symbol": "circle"
         },
         "mode": "markers",
         "name": "Mexico",
         "orientation": "v",
         "showlegend": true,
         "type": "scatter",
         "x": [
          4.114575421776281e-08
         ],
         "xaxis": "x",
         "y": [
          8875.062256
         ],
         "yaxis": "y"
        },
        {
         "hovertemplate": "<b>%{hovertext}</b><br><br>Country_Name=Moldova<br>Y_Capita_Per_Medal=%{x}<br>GDP_Per_Capita=%{y}<extra></extra>",
         "hovertext": [
          "Moldova"
         ],
         "legendgroup": "Moldova",
         "marker": {
          "color": "#FFA15A",
          "size": 10,
          "symbol": "circle"
         },
         "mode": "markers",
         "name": "Moldova",
         "orientation": "v",
         "showlegend": true,
         "type": "scatter",
         "x": [
          0
         ],
         "xaxis": "x",
         "y": [
          2879.391291
         ],
         "yaxis": "y"
        },
        {
         "hovertemplate": "<b>%{hovertext}</b><br><br>Country_Name=Montenegro<br>Y_Capita_Per_Medal=%{x}<br>GDP_Per_Capita=%{y}<extra></extra>",
         "hovertext": [
          "Montenegro"
         ],
         "legendgroup": "Montenegro",
         "marker": {
          "color": "#19d3f3",
          "size": 10,
          "symbol": "circle"
         },
         "mode": "markers",
         "name": "Montenegro",
         "orientation": "v",
         "showlegend": true,
         "type": "scatter",
         "x": [
          0
         ],
         "xaxis": "x",
         "y": [
          7033.604899
         ],
         "yaxis": "y"
        },
        {
         "hovertemplate": "<b>%{hovertext}</b><br><br>Country_Name=Morocco<br>Y_Capita_Per_Medal=%{x}<br>GDP_Per_Capita=%{y}<extra></extra>",
         "hovertext": [
          "Morocco"
         ],
         "legendgroup": "Morocco",
         "marker": {
          "color": "#FF6692",
          "size": 10,
          "symbol": "circle"
         },
         "mode": "markers",
         "name": "Morocco",
         "orientation": "v",
         "showlegend": true,
         "type": "scatter",
         "x": [
          2.8484133653935553e-08
         ],
         "xaxis": "x",
         "y": [
          3132.94458
         ],
         "yaxis": "y"
        },
        {
         "hovertemplate": "<b>%{hovertext}</b><br><br>Country_Name=Mozambique<br>Y_Capita_Per_Medal=%{x}<br>GDP_Per_Capita=%{y}<extra></extra>",
         "hovertext": [
          "Mozambique"
         ],
         "legendgroup": "Mozambique",
         "marker": {
          "color": "#B6E880",
          "size": 10,
          "symbol": "circle"
         },
         "mode": "markers",
         "name": "Mozambique",
         "orientation": "v",
         "showlegend": true,
         "type": "scatter",
         "x": [
          0
         ],
         "xaxis": "x",
         "y": [
          430.9931688
         ],
         "yaxis": "y"
        },
        {
         "hovertemplate": "<b>%{hovertext}</b><br><br>Country_Name=Namibia<br>Y_Capita_Per_Medal=%{x}<br>GDP_Per_Capita=%{y}<extra></extra>",
         "hovertext": [
          "Namibia"
         ],
         "legendgroup": "Namibia",
         "marker": {
          "color": "#FF97FF",
          "size": 10,
          "symbol": "circle"
         },
         "mode": "markers",
         "name": "Namibia",
         "orientation": "v",
         "showlegend": true,
         "type": "scatter",
         "x": [
          0
         ],
         "xaxis": "x",
         "y": [
          4614.881721
         ],
         "yaxis": "y"
        },
        {
         "hovertemplate": "<b>%{hovertext}</b><br><br>Country_Name=New Zealand<br>Y_Capita_Per_Medal=%{x}<br>GDP_Per_Capita=%{y}<extra></extra>",
         "hovertext": [
          "New Zealand"
         ],
         "legendgroup": "New Zealand",
         "marker": {
          "color": "#FECB52",
          "size": 10,
          "symbol": "circle"
         },
         "mode": "markers",
         "name": "New Zealand",
         "orientation": "v",
         "showlegend": true,
         "type": "scatter",
         "x": [
          3.818332237330562e-06
         ],
         "xaxis": "x",
         "y": [
          40058.19616
         ],
         "yaxis": "y"
        },
        {
         "hovertemplate": "<b>%{hovertext}</b><br><br>Country_Name=North Macedonia<br>Y_Capita_Per_Medal=%{x}<br>GDP_Per_Capita=%{y}<extra></extra>",
         "hovertext": [
          "North Macedonia"
         ],
         "legendgroup": "North Macedonia",
         "marker": {
          "color": "#636efa",
          "size": 10,
          "symbol": "circle"
         },
         "mode": "markers",
         "name": "North Macedonia",
         "orientation": "v",
         "showlegend": true,
         "type": "scatter",
         "x": [
          0
         ],
         "xaxis": "x",
         "y": [
          5149.589074
         ],
         "yaxis": "y"
        },
        {
         "hovertemplate": "<b>%{hovertext}</b><br><br>Country_Name=Norway<br>Y_Capita_Per_Medal=%{x}<br>GDP_Per_Capita=%{y}<extra></extra>",
         "hovertext": [
          "Norway"
         ],
         "legendgroup": "Norway",
         "marker": {
          "color": "#EF553B",
          "size": 10,
          "symbol": "circle"
         },
         "mode": "markers",
         "name": "Norway",
         "orientation": "v",
         "showlegend": true,
         "type": "scatter",
         "x": [
          7.641580821466118e-07
         ],
         "xaxis": "x",
         "y": [
          70460.56053
         ],
         "yaxis": "y"
        },
        {
         "hovertemplate": "<b>%{hovertext}</b><br><br>Country_Name=Pakistan<br>Y_Capita_Per_Medal=%{x}<br>GDP_Per_Capita=%{y}<extra></extra>",
         "hovertext": [
          "Pakistan"
         ],
         "legendgroup": "Pakistan",
         "marker": {
          "color": "#00cc96",
          "size": 10,
          "symbol": "circle"
         },
         "mode": "markers",
         "name": "Pakistan",
         "orientation": "v",
         "showlegend": true,
         "type": "scatter",
         "x": [
          0
         ],
         "xaxis": "x",
         "y": [
          1468.821421
         ],
         "yaxis": "y"
        },
        {
         "hovertemplate": "<b>%{hovertext}</b><br><br>Country_Name=Panama<br>Y_Capita_Per_Medal=%{x}<br>GDP_Per_Capita=%{y}<extra></extra>",
         "hovertext": [
          "Panama"
         ],
         "legendgroup": "Panama",
         "marker": {
          "color": "#ab63fa",
          "size": 10,
          "symbol": "circle"
         },
         "mode": "markers",
         "name": "Panama",
         "orientation": "v",
         "showlegend": true,
         "type": "scatter",
         "x": [
          0
         ],
         "xaxis": "x",
         "y": [
          14382.23238
         ],
         "yaxis": "y"
        },
        {
         "hovertemplate": "<b>%{hovertext}</b><br><br>Country_Name=Peru<br>Y_Capita_Per_Medal=%{x}<br>GDP_Per_Capita=%{y}<extra></extra>",
         "hovertext": [
          "Peru"
         ],
         "legendgroup": "Peru",
         "marker": {
          "color": "#FFA15A",
          "size": 10,
          "symbol": "circle"
         },
         "mode": "markers",
         "name": "Peru",
         "orientation": "v",
         "showlegend": true,
         "type": "scatter",
         "x": [
          0
         ],
         "xaxis": "x",
         "y": [
          6163.791026
         ],
         "yaxis": "y"
        },
        {
         "hovertemplate": "<b>%{hovertext}</b><br><br>Country_Name=Poland<br>Y_Capita_Per_Medal=%{x}<br>GDP_Per_Capita=%{y}<extra></extra>",
         "hovertext": [
          "Poland"
         ],
         "legendgroup": "Poland",
         "marker": {
          "color": "#19d3f3",
          "size": 10,
          "symbol": "circle"
         },
         "mode": "markers",
         "name": "Poland",
         "orientation": "v",
         "showlegend": true,
         "type": "scatter",
         "x": [
          2.897017328403804e-07
         ],
         "xaxis": "x",
         "y": [
          12378.75944
         ],
         "yaxis": "y"
        },
        {
         "hovertemplate": "<b>%{hovertext}</b><br><br>Country_Name=Qatar<br>Y_Capita_Per_Medal=%{x}<br>GDP_Per_Capita=%{y}<extra></extra>",
         "hovertext": [
          "Qatar"
         ],
         "legendgroup": "Qatar",
         "marker": {
          "color": "#FF6692",
          "size": 10,
          "symbol": "circle"
         },
         "mode": "markers",
         "name": "Qatar",
         "orientation": "v",
         "showlegend": true,
         "type": "scatter",
         "x": [
          3.8533180536428114e-07
         ],
         "xaxis": "x",
         "y": [
          58467.23557
         ],
         "yaxis": "y"
        },
        {
         "hovertemplate": "<b>%{hovertext}</b><br><br>Country_Name=Romania<br>Y_Capita_Per_Medal=%{x}<br>GDP_Per_Capita=%{y}<extra></extra>",
         "hovertext": [
          "Romania"
         ],
         "legendgroup": "Romania",
         "marker": {
          "color": "#B6E880",
          "size": 10,
          "symbol": "circle"
         },
         "mode": "markers",
         "name": "Romania",
         "orientation": "v",
         "showlegend": true,
         "type": "scatter",
         "x": [
          2.030223222535762e-07
         ],
         "xaxis": "x",
         "y": [
          9404.341874
         ],
         "yaxis": "y"
        },
        {
         "hovertemplate": "<b>%{hovertext}</b><br><br>Country_Name=Russian Federation<br>Y_Capita_Per_Medal=%{x}<br>GDP_Per_Capita=%{y}<extra></extra>",
         "hovertext": [
          "Russian Federation"
         ],
         "legendgroup": "Russian Federation",
         "marker": {
          "color": "#FF97FF",
          "size": 10,
          "symbol": "circle"
         },
         "mode": "markers",
         "name": "Russian Federation",
         "orientation": "v",
         "showlegend": true,
         "type": "scatter",
         "x": [
          3.879663990892434e-07
         ],
         "xaxis": "x",
         "y": [
          8704.898438
         ],
         "yaxis": "y"
        },
        {
         "hovertemplate": "<b>%{hovertext}</b><br><br>Country_Name=San Marino<br>Y_Capita_Per_Medal=%{x}<br>GDP_Per_Capita=%{y}<extra></extra>",
         "hovertext": [
          "San Marino"
         ],
         "legendgroup": "San Marino",
         "marker": {
          "color": "#FECB52",
          "size": 10,
          "symbol": "circle"
         },
         "mode": "markers",
         "name": "San Marino",
         "orientation": "v",
         "showlegend": true,
         "type": "scatter",
         "x": [
          0
         ],
         "xaxis": "x",
         "y": [
          43399.4583
         ],
         "yaxis": "y"
        },
        {
         "hovertemplate": "<b>%{hovertext}</b><br><br>Country_Name=Senegal<br>Y_Capita_Per_Medal=%{x}<br>GDP_Per_Capita=%{y}<extra></extra>",
         "hovertext": [
          "Senegal"
         ],
         "legendgroup": "Senegal",
         "marker": {
          "color": "#636efa",
          "size": 10,
          "symbol": "circle"
         },
         "mode": "markers",
         "name": "Senegal",
         "orientation": "v",
         "showlegend": true,
         "type": "scatter",
         "x": [
          0
         ],
         "xaxis": "x",
         "y": [
          1290.750004
         ],
         "yaxis": "y"
        },
        {
         "hovertemplate": "<b>%{hovertext}</b><br><br>Country_Name=Serbia<br>Y_Capita_Per_Medal=%{x}<br>GDP_Per_Capita=%{y}<extra></extra>",
         "hovertext": [
          "Serbia"
         ],
         "legendgroup": "Serbia",
         "marker": {
          "color": "#EF553B",
          "size": 10,
          "symbol": "circle"
         },
         "mode": "markers",
         "name": "Serbia",
         "orientation": "v",
         "showlegend": true,
         "type": "scatter",
         "x": [
          1.133413862388256e-06
         ],
         "xaxis": "x",
         "y": [
          5765.200762
         ],
         "yaxis": "y"
        },
        {
         "hovertemplate": "<b>%{hovertext}</b><br><br>Country_Name=Singapore<br>Y_Capita_Per_Medal=%{x}<br>GDP_Per_Capita=%{y}<extra></extra>",
         "hovertext": [
          "Singapore"
         ],
         "legendgroup": "Singapore",
         "marker": {
          "color": "#00cc96",
          "size": 10,
          "symbol": "circle"
         },
         "mode": "markers",
         "name": "Singapore",
         "orientation": "v",
         "showlegend": true,
         "type": "scatter",
         "x": [
          1.78339491693214e-07
         ],
         "xaxis": "x",
         "y": [
          56860.41324
         ],
         "yaxis": "y"
        },
        {
         "hovertemplate": "<b>%{hovertext}</b><br><br>Country_Name=Slovak Republic<br>Y_Capita_Per_Medal=%{x}<br>GDP_Per_Capita=%{y}<extra></extra>",
         "hovertext": [
          "Slovak Republic"
         ],
         "legendgroup": "Slovak Republic",
         "marker": {
          "color": "#ab63fa",
          "size": 10,
          "symbol": "circle"
         },
         "mode": "markers",
         "name": "Slovak Republic",
         "orientation": "v",
         "showlegend": true,
         "type": "scatter",
         "x": [
          7.365400075642658e-07
         ],
         "xaxis": "x",
         "y": [
          16563.4405
         ],
         "yaxis": "y"
        },
        {
         "hovertemplate": "<b>%{hovertext}</b><br><br>Country_Name=Spain<br>Y_Capita_Per_Medal=%{x}<br>GDP_Per_Capita=%{y}<extra></extra>",
         "hovertext": [
          "Spain"
         ],
         "legendgroup": "Spain",
         "marker": {
          "color": "#FFA15A",
          "size": 10,
          "symbol": "circle"
         },
         "mode": "markers",
         "name": "Spain",
         "orientation": "v",
         "showlegend": true,
         "type": "scatter",
         "x": [
          3.6571674824803394e-07
         ],
         "xaxis": "x",
         "y": [
          26537.15949
         ],
         "yaxis": "y"
        },
        {
         "hovertemplate": "<b>%{hovertext}</b><br><br>Country_Name=Suriname<br>Y_Capita_Per_Medal=%{x}<br>GDP_Per_Capita=%{y}<extra></extra>",
         "hovertext": [
          "Suriname"
         ],
         "legendgroup": "Suriname",
         "marker": {
          "color": "#19d3f3",
          "size": 10,
          "symbol": "circle"
         },
         "mode": "markers",
         "name": "Suriname",
         "orientation": "v",
         "showlegend": true,
         "type": "scatter",
         "x": [
          0
         ],
         "xaxis": "x",
         "y": [
          5705.426967
         ],
         "yaxis": "y"
        },
        {
         "hovertemplate": "<b>%{hovertext}</b><br><br>Country_Name=Sweden<br>Y_Capita_Per_Medal=%{x}<br>GDP_Per_Capita=%{y}<extra></extra>",
         "hovertext": [
          "Sweden"
         ],
         "legendgroup": "Sweden",
         "marker": {
          "color": "#FF6692",
          "size": 10,
          "symbol": "circle"
         },
         "mode": "markers",
         "name": "Sweden",
         "orientation": "v",
         "showlegend": true,
         "type": "scatter",
         "x": [
          1.1085262294941544e-06
         ],
         "xaxis": "x",
         "y": [
          51965.15715
         ],
         "yaxis": "y"
        },
        {
         "hovertemplate": "<b>%{hovertext}</b><br><br>Country_Name=Syrian Arab Republic<br>Y_Capita_Per_Medal=%{x}<br>GDP_Per_Capita=%{y}<extra></extra>",
         "hovertext": [
          "Syrian Arab Republic"
         ],
         "legendgroup": "Syrian Arab Republic",
         "marker": {
          "color": "#B6E880",
          "size": 10,
          "symbol": "circle"
         },
         "mode": "markers",
         "name": "Syrian Arab Republic",
         "orientation": "v",
         "showlegend": true,
         "type": "scatter",
         "x": [
          0
         ],
         "xaxis": "x",
         "y": [
          664.3416723
         ],
         "yaxis": "y"
        },
        {
         "hovertemplate": "<b>%{hovertext}</b><br><br>Country_Name=Tajikistan<br>Y_Capita_Per_Medal=%{x}<br>GDP_Per_Capita=%{y}<extra></extra>",
         "hovertext": [
          "Tajikistan"
         ],
         "legendgroup": "Tajikistan",
         "marker": {
          "color": "#FF97FF",
          "size": 10,
          "symbol": "circle"
         },
         "mode": "markers",
         "name": "Tajikistan",
         "orientation": "v",
         "showlegend": true,
         "type": "scatter",
         "x": [
          1.1460900336239897e-07
         ],
         "xaxis": "x",
         "y": [
          801.3912831
         ],
         "yaxis": "y"
        },
        {
         "hovertemplate": "<b>%{hovertext}</b><br><br>Country_Name=Thailand<br>Y_Capita_Per_Medal=%{x}<br>GDP_Per_Capita=%{y}<extra></extra>",
         "hovertext": [
          "Thailand"
         ],
         "legendgroup": "Thailand",
         "marker": {
          "color": "#FECB52",
          "size": 10,
          "symbol": "circle"
         },
         "mode": "markers",
         "name": "Thailand",
         "orientation": "v",
         "showlegend": true,
         "type": "scatter",
         "x": [
          8.49773656413312e-08
         ],
         "xaxis": "x",
         "y": [
          5854.461088
         ],
         "yaxis": "y"
        },
        {
         "hovertemplate": "<b>%{hovertext}</b><br><br>Country_Name=Trinidad and Tobago<br>Y_Capita_Per_Medal=%{x}<br>GDP_Per_Capita=%{y}<extra></extra>",
         "hovertext": [
          "Trinidad and Tobago"
         ],
         "legendgroup": "Trinidad and Tobago",
         "marker": {
          "color": "#636efa",
          "size": 10,
          "symbol": "circle"
         },
         "mode": "markers",
         "name": "Trinidad and Tobago",
         "orientation": "v",
         "showlegend": true,
         "type": "scatter",
         "x": [
          6.805823062212028e-07
         ],
         "xaxis": "x",
         "y": [
          15991.10879
         ],
         "yaxis": "y"
        },
        {
         "hovertemplate": "<b>%{hovertext}</b><br><br>Country_Name=Tunisia<br>Y_Capita_Per_Medal=%{x}<br>GDP_Per_Capita=%{y}<extra></extra>",
         "hovertext": [
          "Tunisia"
         ],
         "legendgroup": "Tunisia",
         "marker": {
          "color": "#EF553B",
          "size": 10,
          "symbol": "circle"
         },
         "mode": "markers",
         "name": "Tunisia",
         "orientation": "v",
         "showlegend": true,
         "type": "scatter",
         "x": [
          2.567247552065278e-07
         ],
         "xaxis": "x",
         "y": [
          3796.16792
         ],
         "yaxis": "y"
        },
        {
         "hovertemplate": "<b>%{hovertext}</b><br><br>Country_Name=Turkiye<br>Y_Capita_Per_Medal=%{x}<br>GDP_Per_Capita=%{y}<extra></extra>",
         "hovertext": [
          "Turkiye"
         ],
         "legendgroup": "Turkiye",
         "marker": {
          "color": "#00cc96",
          "size": 10,
          "symbol": "circle"
         },
         "mode": "markers",
         "name": "Turkiye",
         "orientation": "v",
         "showlegend": true,
         "type": "scatter",
         "x": [
          9.874179014471525e-08
         ],
         "xaxis": "x",
         "y": [
          10734.37997
         ],
         "yaxis": "y"
        },
        {
         "hovertemplate": "<b>%{hovertext}</b><br><br>Country_Name=Turkmenistan<br>Y_Capita_Per_Medal=%{x}<br>GDP_Per_Capita=%{y}<extra></extra>",
         "hovertext": [
          "Turkmenistan"
         ],
         "legendgroup": "Turkmenistan",
         "marker": {
          "color": "#ab63fa",
          "size": 10,
          "symbol": "circle"
         },
         "mode": "markers",
         "name": "Turkmenistan",
         "orientation": "v",
         "showlegend": true,
         "type": "scatter",
         "x": [
          0
         ],
         "xaxis": "x",
         "y": [
          6163.253406
         ],
         "yaxis": "y"
        },
        {
         "hovertemplate": "<b>%{hovertext}</b><br><br>Country_Name=Uganda<br>Y_Capita_Per_Medal=%{x}<br>GDP_Per_Capita=%{y}<extra></extra>",
         "hovertext": [
          "Uganda"
         ],
         "legendgroup": "Uganda",
         "marker": {
          "color": "#FFA15A",
          "size": 10,
          "symbol": "circle"
         },
         "mode": "markers",
         "name": "Uganda",
         "orientation": "v",
         "showlegend": true,
         "type": "scatter",
         "x": [
          0
         ],
         "xaxis": "x",
         "y": [
          753.6844086
         ],
         "yaxis": "y"
        },
        {
         "hovertemplate": "<b>%{hovertext}</b><br><br>Country_Name=Ukraine<br>Y_Capita_Per_Medal=%{x}<br>GDP_Per_Capita=%{y}<extra></extra>",
         "hovertext": [
          "Ukraine"
         ],
         "legendgroup": "Ukraine",
         "marker": {
          "color": "#19d3f3",
          "size": 10,
          "symbol": "circle"
         },
         "mode": "markers",
         "name": "Ukraine",
         "orientation": "v",
         "showlegend": true,
         "type": "scatter",
         "x": [
          2.4441906288264777e-07
         ],
         "xaxis": "x",
         "y": [
          2187.730469
         ],
         "yaxis": "y"
        },
        {
         "hovertemplate": "<b>%{hovertext}</b><br><br>Country_Name=United Kingdom<br>Y_Capita_Per_Medal=%{x}<br>GDP_Per_Capita=%{y}<extra></extra>",
         "hovertext": [
          "United Kingdom"
         ],
         "legendgroup": "United Kingdom",
         "marker": {
          "color": "#FF6692",
          "size": 10,
          "symbol": "circle"
         },
         "mode": "markers",
         "name": "United Kingdom",
         "orientation": "v",
         "showlegend": true,
         "type": "scatter",
         "x": [
          1.0211610012273288e-06
         ],
         "xaxis": "x",
         "y": [
          41146.07736
         ],
         "yaxis": "y"
        },
        {
         "hovertemplate": "<b>%{hovertext}</b><br><br>Country_Name=United States<br>Y_Capita_Per_Medal=%{x}<br>GDP_Per_Capita=%{y}<extra></extra>",
         "hovertext": [
          "United States"
         ],
         "legendgroup": "United States",
         "marker": {
          "color": "#B6E880",
          "size": 10,
          "symbol": "circle"
         },
         "mode": "markers",
         "name": "United States",
         "orientation": "v",
         "showlegend": true,
         "type": "scatter",
         "x": [
          3.745298006630137e-07
         ],
         "xaxis": "x",
         "y": [
          57866.74493
         ],
         "yaxis": "y"
        },
        {
         "hovertemplate": "<b>%{hovertext}</b><br><br>Country_Name=Uzbekistan<br>Y_Capita_Per_Medal=%{x}<br>GDP_Per_Capita=%{y}<extra></extra>",
         "hovertext": [
          "Uzbekistan"
         ],
         "legendgroup": "Uzbekistan",
         "marker": {
          "color": "#FF97FF",
          "size": 10,
          "symbol": "circle"
         },
         "mode": "markers",
         "name": "Uzbekistan",
         "orientation": "v",
         "showlegend": true,
         "type": "scatter",
         "x": [
          4.081901789442946e-07
         ],
         "xaxis": "x",
         "y": [
          2704.677188
         ],
         "yaxis": "y"
        },
        {
         "hovertemplate": "<b>%{hovertext}</b><br><br>Country_Name=Venezuela, RB<br>Y_Capita_Per_Medal=%{x}<br>GDP_Per_Capita=%{y}<extra></extra>",
         "hovertext": [
          "Venezuela, RB"
         ],
         "legendgroup": "Venezuela, RB",
         "marker": {
          "color": "#FECB52",
          "size": 10,
          "symbol": "circle"
         },
         "mode": "markers",
         "name": "Venezuela, RB",
         "orientation": "v",
         "showlegend": true,
         "type": "scatter",
         "x": [
          9.758806542199813e-08
         ],
         "xaxis": "x",
         "y": [
          0
         ],
         "yaxis": "y"
        }
       ],
       "layout": {
        "font": {
         "family": "Arial",
         "size": 12
        },
        "height": 500,
        "hovermode": "closest",
        "legend": {
         "title": {
          "text": "Country"
         },
         "tracegroupgap": 0
        },
        "margin": {
         "b": 50,
         "l": 50,
         "r": 50,
         "t": 50
        },
        "paper_bgcolor": "#F9F9F9",
        "plot_bgcolor": "#F9F9F9",
        "scattergap": 0.5,
        "scattermode": "group",
        "template": {
         "data": {
          "bar": [
           {
            "error_x": {
             "color": "#2a3f5f"
            },
            "error_y": {
             "color": "#2a3f5f"
            },
            "marker": {
             "line": {
              "color": "#E5ECF6",
              "width": 0.5
             },
             "pattern": {
              "fillmode": "overlay",
              "size": 10,
              "solidity": 0.2
             }
            },
            "type": "bar"
           }
          ],
          "barpolar": [
           {
            "marker": {
             "line": {
              "color": "#E5ECF6",
              "width": 0.5
             },
             "pattern": {
              "fillmode": "overlay",
              "size": 10,
              "solidity": 0.2
             }
            },
            "type": "barpolar"
           }
          ],
          "carpet": [
           {
            "aaxis": {
             "endlinecolor": "#2a3f5f",
             "gridcolor": "white",
             "linecolor": "white",
             "minorgridcolor": "white",
             "startlinecolor": "#2a3f5f"
            },
            "baxis": {
             "endlinecolor": "#2a3f5f",
             "gridcolor": "white",
             "linecolor": "white",
             "minorgridcolor": "white",
             "startlinecolor": "#2a3f5f"
            },
            "type": "carpet"
           }
          ],
          "choropleth": [
           {
            "colorbar": {
             "outlinewidth": 0,
             "ticks": ""
            },
            "type": "choropleth"
           }
          ],
          "contour": [
           {
            "colorbar": {
             "outlinewidth": 0,
             "ticks": ""
            },
            "colorscale": [
             [
              0,
              "#0d0887"
             ],
             [
              0.1111111111111111,
              "#46039f"
             ],
             [
              0.2222222222222222,
              "#7201a8"
             ],
             [
              0.3333333333333333,
              "#9c179e"
             ],
             [
              0.4444444444444444,
              "#bd3786"
             ],
             [
              0.5555555555555556,
              "#d8576b"
             ],
             [
              0.6666666666666666,
              "#ed7953"
             ],
             [
              0.7777777777777778,
              "#fb9f3a"
             ],
             [
              0.8888888888888888,
              "#fdca26"
             ],
             [
              1,
              "#f0f921"
             ]
            ],
            "type": "contour"
           }
          ],
          "contourcarpet": [
           {
            "colorbar": {
             "outlinewidth": 0,
             "ticks": ""
            },
            "type": "contourcarpet"
           }
          ],
          "heatmap": [
           {
            "colorbar": {
             "outlinewidth": 0,
             "ticks": ""
            },
            "colorscale": [
             [
              0,
              "#0d0887"
             ],
             [
              0.1111111111111111,
              "#46039f"
             ],
             [
              0.2222222222222222,
              "#7201a8"
             ],
             [
              0.3333333333333333,
              "#9c179e"
             ],
             [
              0.4444444444444444,
              "#bd3786"
             ],
             [
              0.5555555555555556,
              "#d8576b"
             ],
             [
              0.6666666666666666,
              "#ed7953"
             ],
             [
              0.7777777777777778,
              "#fb9f3a"
             ],
             [
              0.8888888888888888,
              "#fdca26"
             ],
             [
              1,
              "#f0f921"
             ]
            ],
            "type": "heatmap"
           }
          ],
          "heatmapgl": [
           {
            "colorbar": {
             "outlinewidth": 0,
             "ticks": ""
            },
            "colorscale": [
             [
              0,
              "#0d0887"
             ],
             [
              0.1111111111111111,
              "#46039f"
             ],
             [
              0.2222222222222222,
              "#7201a8"
             ],
             [
              0.3333333333333333,
              "#9c179e"
             ],
             [
              0.4444444444444444,
              "#bd3786"
             ],
             [
              0.5555555555555556,
              "#d8576b"
             ],
             [
              0.6666666666666666,
              "#ed7953"
             ],
             [
              0.7777777777777778,
              "#fb9f3a"
             ],
             [
              0.8888888888888888,
              "#fdca26"
             ],
             [
              1,
              "#f0f921"
             ]
            ],
            "type": "heatmapgl"
           }
          ],
          "histogram": [
           {
            "marker": {
             "pattern": {
              "fillmode": "overlay",
              "size": 10,
              "solidity": 0.2
             }
            },
            "type": "histogram"
           }
          ],
          "histogram2d": [
           {
            "colorbar": {
             "outlinewidth": 0,
             "ticks": ""
            },
            "colorscale": [
             [
              0,
              "#0d0887"
             ],
             [
              0.1111111111111111,
              "#46039f"
             ],
             [
              0.2222222222222222,
              "#7201a8"
             ],
             [
              0.3333333333333333,
              "#9c179e"
             ],
             [
              0.4444444444444444,
              "#bd3786"
             ],
             [
              0.5555555555555556,
              "#d8576b"
             ],
             [
              0.6666666666666666,
              "#ed7953"
             ],
             [
              0.7777777777777778,
              "#fb9f3a"
             ],
             [
              0.8888888888888888,
              "#fdca26"
             ],
             [
              1,
              "#f0f921"
             ]
            ],
            "type": "histogram2d"
           }
          ],
          "histogram2dcontour": [
           {
            "colorbar": {
             "outlinewidth": 0,
             "ticks": ""
            },
            "colorscale": [
             [
              0,
              "#0d0887"
             ],
             [
              0.1111111111111111,
              "#46039f"
             ],
             [
              0.2222222222222222,
              "#7201a8"
             ],
             [
              0.3333333333333333,
              "#9c179e"
             ],
             [
              0.4444444444444444,
              "#bd3786"
             ],
             [
              0.5555555555555556,
              "#d8576b"
             ],
             [
              0.6666666666666666,
              "#ed7953"
             ],
             [
              0.7777777777777778,
              "#fb9f3a"
             ],
             [
              0.8888888888888888,
              "#fdca26"
             ],
             [
              1,
              "#f0f921"
             ]
            ],
            "type": "histogram2dcontour"
           }
          ],
          "mesh3d": [
           {
            "colorbar": {
             "outlinewidth": 0,
             "ticks": ""
            },
            "type": "mesh3d"
           }
          ],
          "parcoords": [
           {
            "line": {
             "colorbar": {
              "outlinewidth": 0,
              "ticks": ""
             }
            },
            "type": "parcoords"
           }
          ],
          "pie": [
           {
            "automargin": true,
            "type": "pie"
           }
          ],
          "scatter": [
           {
            "fillpattern": {
             "fillmode": "overlay",
             "size": 10,
             "solidity": 0.2
            },
            "type": "scatter"
           }
          ],
          "scatter3d": [
           {
            "line": {
             "colorbar": {
              "outlinewidth": 0,
              "ticks": ""
             }
            },
            "marker": {
             "colorbar": {
              "outlinewidth": 0,
              "ticks": ""
             }
            },
            "type": "scatter3d"
           }
          ],
          "scattercarpet": [
           {
            "marker": {
             "colorbar": {
              "outlinewidth": 0,
              "ticks": ""
             }
            },
            "type": "scattercarpet"
           }
          ],
          "scattergeo": [
           {
            "marker": {
             "colorbar": {
              "outlinewidth": 0,
              "ticks": ""
             }
            },
            "type": "scattergeo"
           }
          ],
          "scattergl": [
           {
            "marker": {
             "colorbar": {
              "outlinewidth": 0,
              "ticks": ""
             }
            },
            "type": "scattergl"
           }
          ],
          "scattermapbox": [
           {
            "marker": {
             "colorbar": {
              "outlinewidth": 0,
              "ticks": ""
             }
            },
            "type": "scattermapbox"
           }
          ],
          "scatterpolar": [
           {
            "marker": {
             "colorbar": {
              "outlinewidth": 0,
              "ticks": ""
             }
            },
            "type": "scatterpolar"
           }
          ],
          "scatterpolargl": [
           {
            "marker": {
             "colorbar": {
              "outlinewidth": 0,
              "ticks": ""
             }
            },
            "type": "scatterpolargl"
           }
          ],
          "scatterternary": [
           {
            "marker": {
             "colorbar": {
              "outlinewidth": 0,
              "ticks": ""
             }
            },
            "type": "scatterternary"
           }
          ],
          "surface": [
           {
            "colorbar": {
             "outlinewidth": 0,
             "ticks": ""
            },
            "colorscale": [
             [
              0,
              "#0d0887"
             ],
             [
              0.1111111111111111,
              "#46039f"
             ],
             [
              0.2222222222222222,
              "#7201a8"
             ],
             [
              0.3333333333333333,
              "#9c179e"
             ],
             [
              0.4444444444444444,
              "#bd3786"
             ],
             [
              0.5555555555555556,
              "#d8576b"
             ],
             [
              0.6666666666666666,
              "#ed7953"
             ],
             [
              0.7777777777777778,
              "#fb9f3a"
             ],
             [
              0.8888888888888888,
              "#fdca26"
             ],
             [
              1,
              "#f0f921"
             ]
            ],
            "type": "surface"
           }
          ],
          "table": [
           {
            "cells": {
             "fill": {
              "color": "#EBF0F8"
             },
             "line": {
              "color": "white"
             }
            },
            "header": {
             "fill": {
              "color": "#C8D4E3"
             },
             "line": {
              "color": "white"
             }
            },
            "type": "table"
           }
          ]
         },
         "layout": {
          "annotationdefaults": {
           "arrowcolor": "#2a3f5f",
           "arrowhead": 0,
           "arrowwidth": 1
          },
          "autotypenumbers": "strict",
          "coloraxis": {
           "colorbar": {
            "outlinewidth": 0,
            "ticks": ""
           }
          },
          "colorscale": {
           "diverging": [
            [
             0,
             "#8e0152"
            ],
            [
             0.1,
             "#c51b7d"
            ],
            [
             0.2,
             "#de77ae"
            ],
            [
             0.3,
             "#f1b6da"
            ],
            [
             0.4,
             "#fde0ef"
            ],
            [
             0.5,
             "#f7f7f7"
            ],
            [
             0.6,
             "#e6f5d0"
            ],
            [
             0.7,
             "#b8e186"
            ],
            [
             0.8,
             "#7fbc41"
            ],
            [
             0.9,
             "#4d9221"
            ],
            [
             1,
             "#276419"
            ]
           ],
           "sequential": [
            [
             0,
             "#0d0887"
            ],
            [
             0.1111111111111111,
             "#46039f"
            ],
            [
             0.2222222222222222,
             "#7201a8"
            ],
            [
             0.3333333333333333,
             "#9c179e"
            ],
            [
             0.4444444444444444,
             "#bd3786"
            ],
            [
             0.5555555555555556,
             "#d8576b"
            ],
            [
             0.6666666666666666,
             "#ed7953"
            ],
            [
             0.7777777777777778,
             "#fb9f3a"
            ],
            [
             0.8888888888888888,
             "#fdca26"
            ],
            [
             1,
             "#f0f921"
            ]
           ],
           "sequentialminus": [
            [
             0,
             "#0d0887"
            ],
            [
             0.1111111111111111,
             "#46039f"
            ],
            [
             0.2222222222222222,
             "#7201a8"
            ],
            [
             0.3333333333333333,
             "#9c179e"
            ],
            [
             0.4444444444444444,
             "#bd3786"
            ],
            [
             0.5555555555555556,
             "#d8576b"
            ],
            [
             0.6666666666666666,
             "#ed7953"
            ],
            [
             0.7777777777777778,
             "#fb9f3a"
            ],
            [
             0.8888888888888888,
             "#fdca26"
            ],
            [
             1,
             "#f0f921"
            ]
           ]
          },
          "colorway": [
           "#636efa",
           "#EF553B",
           "#00cc96",
           "#ab63fa",
           "#FFA15A",
           "#19d3f3",
           "#FF6692",
           "#B6E880",
           "#FF97FF",
           "#FECB52"
          ],
          "font": {
           "color": "#2a3f5f"
          },
          "geo": {
           "bgcolor": "white",
           "lakecolor": "white",
           "landcolor": "#E5ECF6",
           "showlakes": true,
           "showland": true,
           "subunitcolor": "white"
          },
          "hoverlabel": {
           "align": "left"
          },
          "hovermode": "closest",
          "mapbox": {
           "style": "light"
          },
          "paper_bgcolor": "white",
          "plot_bgcolor": "#E5ECF6",
          "polar": {
           "angularaxis": {
            "gridcolor": "white",
            "linecolor": "white",
            "ticks": ""
           },
           "bgcolor": "#E5ECF6",
           "radialaxis": {
            "gridcolor": "white",
            "linecolor": "white",
            "ticks": ""
           }
          },
          "scene": {
           "xaxis": {
            "backgroundcolor": "#E5ECF6",
            "gridcolor": "white",
            "gridwidth": 2,
            "linecolor": "white",
            "showbackground": true,
            "ticks": "",
            "zerolinecolor": "white"
           },
           "yaxis": {
            "backgroundcolor": "#E5ECF6",
            "gridcolor": "white",
            "gridwidth": 2,
            "linecolor": "white",
            "showbackground": true,
            "ticks": "",
            "zerolinecolor": "white"
           },
           "zaxis": {
            "backgroundcolor": "#E5ECF6",
            "gridcolor": "white",
            "gridwidth": 2,
            "linecolor": "white",
            "showbackground": true,
            "ticks": "",
            "zerolinecolor": "white"
           }
          },
          "shapedefaults": {
           "line": {
            "color": "#2a3f5f"
           }
          },
          "ternary": {
           "aaxis": {
            "gridcolor": "white",
            "linecolor": "white",
            "ticks": ""
           },
           "baxis": {
            "gridcolor": "white",
            "linecolor": "white",
            "ticks": ""
           },
           "bgcolor": "#E5ECF6",
           "caxis": {
            "gridcolor": "white",
            "linecolor": "white",
            "ticks": ""
           }
          },
          "title": {
           "x": 0.05
          },
          "xaxis": {
           "automargin": true,
           "gridcolor": "white",
           "linecolor": "white",
           "ticks": "",
           "title": {
            "standoff": 15
           },
           "zerolinecolor": "white",
           "zerolinewidth": 2
          },
          "yaxis": {
           "automargin": true,
           "gridcolor": "white",
           "linecolor": "white",
           "ticks": "",
           "title": {
            "standoff": 15
           },
           "zerolinecolor": "white",
           "zerolinewidth": 2
          }
         }
        },
        "title": {
         "text": "Performance by Population Size",
         "x": 0.5,
         "xanchor": "center",
         "y": 0.95,
         "yanchor": "top"
        },
        "width": 800,
        "xaxis": {
         "anchor": "y",
         "domain": [
          0,
          1
         ],
         "title": {
          "text": "Medals Per Population"
         }
        },
        "yaxis": {
         "anchor": "x",
         "domain": [
          0,
          1
         ],
         "title": {
          "text": "GDP per Capita"
         }
        }
       }
      },
      "text/html": [
       "<div>                            <div id=\"b4285b62-b500-4287-b14b-d85d9dc63c2d\" class=\"plotly-graph-div\" style=\"height:500px; width:800px;\"></div>            <script type=\"text/javascript\">                require([\"plotly\"], function(Plotly) {                    window.PLOTLYENV=window.PLOTLYENV || {};                                    if (document.getElementById(\"b4285b62-b500-4287-b14b-d85d9dc63c2d\")) {                    Plotly.newPlot(                        \"b4285b62-b500-4287-b14b-d85d9dc63c2d\",                        [{\"hovertemplate\":\"<b>%{hovertext}</b><br><br>Country_Name=Afghanistan<br>Y_Capita_Per_Medal=%{x}<br>GDP_Per_Capita=%{y}<extra></extra>\",\"hovertext\":[\"Afghanistan\"],\"legendgroup\":\"Afghanistan\",\"marker\":{\"color\":\"#636efa\",\"symbol\":\"circle\",\"size\":10},\"mode\":\"markers\",\"name\":\"Afghanistan\",\"orientation\":\"v\",\"showlegend\":true,\"x\":[0.0],\"xaxis\":\"x\",\"y\":[520.252064],\"yaxis\":\"y\",\"type\":\"scatter\"},{\"hovertemplate\":\"<b>%{hovertext}</b><br><br>Country_Name=Argentina<br>Y_Capita_Per_Medal=%{x}<br>GDP_Per_Capita=%{y}<extra></extra>\",\"hovertext\":[\"Argentina\"],\"legendgroup\":\"Argentina\",\"marker\":{\"color\":\"#EF553B\",\"symbol\":\"circle\",\"size\":10},\"mode\":\"markers\",\"name\":\"Argentina\",\"orientation\":\"v\",\"showlegend\":true,\"x\":[9.17633913987604e-08],\"xaxis\":\"x\",\"y\":[12790.24247],\"yaxis\":\"y\",\"type\":\"scatter\"},{\"hovertemplate\":\"<b>%{hovertext}</b><br><br>Country_Name=Armenia<br>Y_Capita_Per_Medal=%{x}<br>GDP_Per_Capita=%{y}<extra></extra>\",\"hovertext\":[\"Armenia\"],\"legendgroup\":\"Armenia\",\"marker\":{\"color\":\"#00cc96\",\"symbol\":\"circle\",\"size\":10},\"mode\":\"markers\",\"name\":\"Armenia\",\"orientation\":\"v\",\"showlegend\":true,\"x\":[1.3957537680990008e-06],\"xaxis\":\"x\",\"y\":[3679.951972],\"yaxis\":\"y\",\"type\":\"scatter\"},{\"hovertemplate\":\"<b>%{hovertext}</b><br><br>Country_Name=Australia<br>Y_Capita_Per_Medal=%{x}<br>GDP_Per_Capita=%{y}<extra></extra>\",\"hovertext\":[\"Australia\"],\"legendgroup\":\"Australia\",\"marker\":{\"color\":\"#ab63fa\",\"symbol\":\"circle\",\"size\":10},\"mode\":\"markers\",\"name\":\"Australia\",\"orientation\":\"v\",\"showlegend\":true,\"x\":[1.1987975481861845e-06],\"xaxis\":\"x\",\"y\":[49875.56514],\"yaxis\":\"y\",\"type\":\"scatter\"},{\"hovertemplate\":\"<b>%{hovertext}</b><br><br>Country_Name=Austria<br>Y_Capita_Per_Medal=%{x}<br>GDP_Per_Capita=%{y}<extra></extra>\",\"hovertext\":[\"Austria\"],\"legendgroup\":\"Austria\",\"marker\":{\"color\":\"#FFA15A\",\"symbol\":\"circle\",\"size\":10},\"mode\":\"markers\",\"name\":\"Austria\",\"orientation\":\"v\",\"showlegend\":true,\"x\":[1.1446011225332129e-07],\"xaxis\":\"x\",\"y\":[45307.58786],\"yaxis\":\"y\",\"type\":\"scatter\"},{\"hovertemplate\":\"<b>%{hovertext}</b><br><br>Country_Name=Azerbaijan<br>Y_Capita_Per_Medal=%{x}<br>GDP_Per_Capita=%{y}<extra></extra>\",\"hovertext\":[\"Azerbaijan\"],\"legendgroup\":\"Azerbaijan\",\"marker\":{\"color\":\"#19d3f3\",\"symbol\":\"circle\",\"size\":10},\"mode\":\"markers\",\"name\":\"Azerbaijan\",\"orientation\":\"v\",\"showlegend\":true,\"x\":[1.844675835115495e-06],\"xaxis\":\"x\",\"y\":[3880.738731],\"yaxis\":\"y\",\"type\":\"scatter\"},{\"hovertemplate\":\"<b>%{hovertext}</b><br><br>Country_Name=Belarus<br>Y_Capita_Per_Medal=%{x}<br>GDP_Per_Capita=%{y}<extra></extra>\",\"hovertext\":[\"Belarus\"],\"legendgroup\":\"Belarus\",\"marker\":{\"color\":\"#FF6692\",\"symbol\":\"circle\",\"size\":10},\"mode\":\"markers\",\"name\":\"Belarus\",\"orientation\":\"v\",\"showlegend\":true,\"x\":[9.504319132226094e-07],\"xaxis\":\"x\",\"y\":[5039.681886],\"yaxis\":\"y\",\"type\":\"scatter\"},{\"hovertemplate\":\"<b>%{hovertext}</b><br><br>Country_Name=Belgium<br>Y_Capita_Per_Medal=%{x}<br>GDP_Per_Capita=%{y}<extra></extra>\",\"hovertext\":[\"Belgium\"],\"legendgroup\":\"Belgium\",\"marker\":{\"color\":\"#B6E880\",\"symbol\":\"circle\",\"size\":10},\"mode\":\"markers\",\"name\":\"Belgium\",\"orientation\":\"v\",\"showlegend\":true,\"x\":[5.29501063502886e-07],\"xaxis\":\"x\",\"y\":[42012.62272],\"yaxis\":\"y\",\"type\":\"scatter\"},{\"hovertemplate\":\"<b>%{hovertext}</b><br><br>Country_Name=Brazil<br>Y_Capita_Per_Medal=%{x}<br>GDP_Per_Capita=%{y}<extra></extra>\",\"hovertext\":[\"Brazil\"],\"legendgroup\":\"Brazil\",\"marker\":{\"color\":\"#FF97FF\",\"symbol\":\"circle\",\"size\":10},\"mode\":\"markers\",\"name\":\"Brazil\",\"orientation\":\"v\",\"showlegend\":true,\"x\":[9.184974746492038e-08],\"xaxis\":\"x\",\"y\":[8680.768792],\"yaxis\":\"y\",\"type\":\"scatter\"},{\"hovertemplate\":\"<b>%{hovertext}</b><br><br>Country_Name=Brunei Darussalam<br>Y_Capita_Per_Medal=%{x}<br>GDP_Per_Capita=%{y}<extra></extra>\",\"hovertext\":[\"Brunei Darussalam\"],\"legendgroup\":\"Brunei Darussalam\",\"marker\":{\"color\":\"#FECB52\",\"symbol\":\"circle\",\"size\":10},\"mode\":\"markers\",\"name\":\"Brunei Darussalam\",\"orientation\":\"v\",\"showlegend\":true,\"x\":[4.694901806128725e-06],\"xaxis\":\"x\",\"y\":[26762.94565],\"yaxis\":\"y\",\"type\":\"scatter\"},{\"hovertemplate\":\"<b>%{hovertext}</b><br><br>Country_Name=Burundi<br>Y_Capita_Per_Medal=%{x}<br>GDP_Per_Capita=%{y}<extra></extra>\",\"hovertext\":[\"Burundi\"],\"legendgroup\":\"Burundi\",\"marker\":{\"color\":\"#636efa\",\"symbol\":\"circle\",\"size\":10},\"mode\":\"markers\",\"name\":\"Burundi\",\"orientation\":\"v\",\"showlegend\":true,\"x\":[9.171512511731512e-08],\"xaxis\":\"x\",\"y\":[242.0656705],\"yaxis\":\"y\",\"type\":\"scatter\"},{\"hovertemplate\":\"<b>%{hovertext}</b><br><br>Country_Name=Cameroon<br>Y_Capita_Per_Medal=%{x}<br>GDP_Per_Capita=%{y}<extra></extra>\",\"hovertext\":[\"Cameroon\"],\"legendgroup\":\"Cameroon\",\"marker\":{\"color\":\"#EF553B\",\"symbol\":\"circle\",\"size\":10},\"mode\":\"markers\",\"name\":\"Cameroon\",\"orientation\":\"v\",\"showlegend\":true,\"x\":[0.0],\"xaxis\":\"x\",\"y\":[1426.065517],\"yaxis\":\"y\",\"type\":\"scatter\"},{\"hovertemplate\":\"<b>%{hovertext}</b><br><br>Country_Name=Canada<br>Y_Capita_Per_Medal=%{x}<br>GDP_Per_Capita=%{y}<extra></extra>\",\"hovertext\":[\"Canada\"],\"legendgroup\":\"Canada\",\"marker\":{\"color\":\"#00cc96\",\"symbol\":\"circle\",\"size\":10},\"mode\":\"markers\",\"name\":\"Canada\",\"orientation\":\"v\",\"showlegend\":true,\"x\":[6.092581708513334e-07],\"xaxis\":\"x\",\"y\":[42315.60371],\"yaxis\":\"y\",\"type\":\"scatter\"},{\"hovertemplate\":\"<b>%{hovertext}</b><br><br>Country_Name=Channel Islands<br>Y_Capita_Per_Medal=%{x}<br>GDP_Per_Capita=%{y}<extra></extra>\",\"hovertext\":[\"Channel Islands\"],\"legendgroup\":\"Channel Islands\",\"marker\":{\"color\":\"#ab63fa\",\"symbol\":\"circle\",\"size\":10},\"mode\":\"markers\",\"name\":\"Channel Islands\",\"orientation\":\"v\",\"showlegend\":true,\"x\":[0.0],\"xaxis\":\"x\",\"y\":[0.0],\"yaxis\":\"y\",\"type\":\"scatter\"},{\"hovertemplate\":\"<b>%{hovertext}</b><br><br>Country_Name=China<br>Y_Capita_Per_Medal=%{x}<br>GDP_Per_Capita=%{y}<extra></extra>\",\"hovertext\":[\"China\"],\"legendgroup\":\"China\",\"marker\":{\"color\":\"#FFA15A\",\"symbol\":\"circle\",\"size\":10},\"mode\":\"markers\",\"name\":\"China\",\"orientation\":\"v\",\"showlegend\":true,\"x\":[5.043990805525331e-08],\"xaxis\":\"x\",\"y\":[8094.363367],\"yaxis\":\"y\",\"type\":\"scatter\"},{\"hovertemplate\":\"<b>%{hovertext}</b><br><br>Country_Name=Colombia<br>Y_Capita_Per_Medal=%{x}<br>GDP_Per_Capita=%{y}<extra></extra>\",\"hovertext\":[\"Colombia\"],\"legendgroup\":\"Colombia\",\"marker\":{\"color\":\"#19d3f3\",\"symbol\":\"circle\",\"size\":10},\"mode\":\"markers\",\"name\":\"Colombia\",\"orientation\":\"v\",\"showlegend\":true,\"x\":[1.6797563429436744e-07],\"xaxis\":\"x\",\"y\":[5938.463856],\"yaxis\":\"y\",\"type\":\"scatter\"},{\"hovertemplate\":\"<b>%{hovertext}</b><br><br>Country_Name=Cote d'Ivoire<br>Y_Capita_Per_Medal=%{x}<br>GDP_Per_Capita=%{y}<extra></extra>\",\"hovertext\":[\"Cote d'Ivoire\"],\"legendgroup\":\"Cote d'Ivoire\",\"marker\":{\"color\":\"#FF6692\",\"symbol\":\"circle\",\"size\":10},\"mode\":\"markers\",\"name\":\"Cote d'Ivoire\",\"orientation\":\"v\",\"showlegend\":true,\"x\":[8.259813422378529e-08],\"xaxis\":\"x\",\"y\":[1980.878142],\"yaxis\":\"y\",\"type\":\"scatter\"},{\"hovertemplate\":\"<b>%{hovertext}</b><br><br>Country_Name=Cuba<br>Y_Capita_Per_Medal=%{x}<br>GDP_Per_Capita=%{y}<extra></extra>\",\"hovertext\":[\"Cuba\"],\"legendgroup\":\"Cuba\",\"marker\":{\"color\":\"#B6E880\",\"symbol\":\"circle\",\"size\":10},\"mode\":\"markers\",\"name\":\"Cuba\",\"orientation\":\"v\",\"showlegend\":true,\"x\":[9.6984556179274e-07],\"xaxis\":\"x\",\"y\":[8055.889907],\"yaxis\":\"y\",\"type\":\"scatter\"},{\"hovertemplate\":\"<b>%{hovertext}</b><br><br>Country_Name=Cyprus<br>Y_Capita_Per_Medal=%{x}<br>GDP_Per_Capita=%{y}<extra></extra>\",\"hovertext\":[\"Cyprus\"],\"legendgroup\":\"Cyprus\",\"marker\":{\"color\":\"#FF97FF\",\"symbol\":\"circle\",\"size\":10},\"mode\":\"markers\",\"name\":\"Cyprus\",\"orientation\":\"v\",\"showlegend\":true,\"x\":[0.0],\"xaxis\":\"x\",\"y\":[24715.73047],\"yaxis\":\"y\",\"type\":\"scatter\"},{\"hovertemplate\":\"<b>%{hovertext}</b><br><br>Country_Name=Czechia<br>Y_Capita_Per_Medal=%{x}<br>GDP_Per_Capita=%{y}<extra></extra>\",\"hovertext\":[\"Czechia\"],\"legendgroup\":\"Czechia\",\"marker\":{\"color\":\"#FECB52\",\"symbol\":\"circle\",\"size\":10},\"mode\":\"markers\",\"name\":\"Czechia\",\"orientation\":\"v\",\"showlegend\":true,\"x\":[9.46402214126908e-07],\"xaxis\":\"x\",\"y\":[18575.23203],\"yaxis\":\"y\",\"type\":\"scatter\"},{\"hovertemplate\":\"<b>%{hovertext}</b><br><br>Country_Name=Djibouti<br>Y_Capita_Per_Medal=%{x}<br>GDP_Per_Capita=%{y}<extra></extra>\",\"hovertext\":[\"Djibouti\"],\"legendgroup\":\"Djibouti\",\"marker\":{\"color\":\"#636efa\",\"symbol\":\"circle\",\"size\":10},\"mode\":\"markers\",\"name\":\"Djibouti\",\"orientation\":\"v\",\"showlegend\":true,\"x\":[0.0],\"xaxis\":\"x\",\"y\":[2545.738799],\"yaxis\":\"y\",\"type\":\"scatter\"},{\"hovertemplate\":\"<b>%{hovertext}</b><br><br>Country_Name=Dominican Republic<br>Y_Capita_Per_Medal=%{x}<br>GDP_Per_Capita=%{y}<extra></extra>\",\"hovertext\":[\"Dominican Republic\"],\"legendgroup\":\"Dominican Republic\",\"marker\":{\"color\":\"#EF553B\",\"symbol\":\"circle\",\"size\":10},\"mode\":\"markers\",\"name\":\"Dominican Republic\",\"orientation\":\"v\",\"showlegend\":true,\"x\":[9.498848359624881e-08],\"xaxis\":\"x\",\"y\":[7191.076572],\"yaxis\":\"y\",\"type\":\"scatter\"},{\"hovertemplate\":\"<b>%{hovertext}</b><br><br>Country_Name=Ecuador<br>Y_Capita_Per_Medal=%{x}<br>GDP_Per_Capita=%{y}<extra></extra>\",\"hovertext\":[\"Ecuador\"],\"legendgroup\":\"Ecuador\",\"marker\":{\"color\":\"#00cc96\",\"symbol\":\"circle\",\"size\":10},\"mode\":\"markers\",\"name\":\"Ecuador\",\"orientation\":\"v\",\"showlegend\":true,\"x\":[0.0],\"xaxis\":\"x\",\"y\":[6079.088736],\"yaxis\":\"y\",\"type\":\"scatter\"},{\"hovertemplate\":\"<b>%{hovertext}</b><br><br>Country_Name=Egypt, Arab Rep.<br>Y_Capita_Per_Medal=%{x}<br>GDP_Per_Capita=%{y}<extra></extra>\",\"hovertext\":[\"Egypt, Arab Rep.\"],\"legendgroup\":\"Egypt, Arab Rep.\",\"marker\":{\"color\":\"#ab63fa\",\"symbol\":\"circle\",\"size\":10},\"mode\":\"markers\",\"name\":\"Egypt, Arab Rep.\",\"orientation\":\"v\",\"showlegend\":true,\"x\":[3.006493123198171e-08],\"xaxis\":\"x\",\"y\":[3331.612461],\"yaxis\":\"y\",\"type\":\"scatter\"},{\"hovertemplate\":\"<b>%{hovertext}</b><br><br>Country_Name=Eritrea<br>Y_Capita_Per_Medal=%{x}<br>GDP_Per_Capita=%{y}<extra></extra>\",\"hovertext\":[\"Eritrea\"],\"legendgroup\":\"Eritrea\",\"marker\":{\"color\":\"#FFA15A\",\"symbol\":\"circle\",\"size\":10},\"mode\":\"markers\",\"name\":\"Eritrea\",\"orientation\":\"v\",\"showlegend\":true,\"x\":[0.0],\"xaxis\":\"x\",\"y\":[0.0],\"yaxis\":\"y\",\"type\":\"scatter\"},{\"hovertemplate\":\"<b>%{hovertext}</b><br><br>Country_Name=Estonia<br>Y_Capita_Per_Medal=%{x}<br>GDP_Per_Capita=%{y}<extra></extra>\",\"hovertext\":[\"Estonia\"],\"legendgroup\":\"Estonia\",\"marker\":{\"color\":\"#19d3f3\",\"symbol\":\"circle\",\"size\":10},\"mode\":\"markers\",\"name\":\"Estonia\",\"orientation\":\"v\",\"showlegend\":true,\"x\":[7.599996960001216e-07],\"xaxis\":\"x\",\"y\":[18295.34293],\"yaxis\":\"y\",\"type\":\"scatter\"},{\"hovertemplate\":\"<b>%{hovertext}</b><br><br>Country_Name=Ethiopia<br>Y_Capita_Per_Medal=%{x}<br>GDP_Per_Capita=%{y}<extra></extra>\",\"hovertext\":[\"Ethiopia\"],\"legendgroup\":\"Ethiopia\",\"marker\":{\"color\":\"#FF6692\",\"symbol\":\"circle\",\"size\":10},\"mode\":\"markers\",\"name\":\"Ethiopia\",\"orientation\":\"v\",\"showlegend\":true,\"x\":[7.597829558421365e-08],\"xaxis\":\"x\",\"y\":[705.616305],\"yaxis\":\"y\",\"type\":\"scatter\"},{\"hovertemplate\":\"<b>%{hovertext}</b><br><br>Country_Name=Finland<br>Y_Capita_Per_Medal=%{x}<br>GDP_Per_Capita=%{y}<extra></extra>\",\"hovertext\":[\"Finland\"],\"legendgroup\":\"Finland\",\"marker\":{\"color\":\"#B6E880\",\"symbol\":\"circle\",\"size\":10},\"mode\":\"markers\",\"name\":\"Finland\",\"orientation\":\"v\",\"showlegend\":true,\"x\":[1.819735872617033e-07],\"xaxis\":\"x\",\"y\":[43814.02651],\"yaxis\":\"y\",\"type\":\"scatter\"},{\"hovertemplate\":\"<b>%{hovertext}</b><br><br>Country_Name=France<br>Y_Capita_Per_Medal=%{x}<br>GDP_Per_Capita=%{y}<extra></extra>\",\"hovertext\":[\"France\"],\"legendgroup\":\"France\",\"marker\":{\"color\":\"#FF97FF\",\"symbol\":\"circle\",\"size\":10},\"mode\":\"markers\",\"name\":\"France\",\"orientation\":\"v\",\"showlegend\":true,\"x\":[6.294576844373962e-07],\"xaxis\":\"x\",\"y\":[37062.53357],\"yaxis\":\"y\",\"type\":\"scatter\"},{\"hovertemplate\":\"<b>%{hovertext}</b><br><br>Country_Name=Gabon<br>Y_Capita_Per_Medal=%{x}<br>GDP_Per_Capita=%{y}<extra></extra>\",\"hovertext\":[\"Gabon\"],\"legendgroup\":\"Gabon\",\"marker\":{\"color\":\"#FECB52\",\"symbol\":\"circle\",\"size\":10},\"mode\":\"markers\",\"name\":\"Gabon\",\"orientation\":\"v\",\"showlegend\":true,\"x\":[0.0],\"xaxis\":\"x\",\"y\":[6722.198393],\"yaxis\":\"y\",\"type\":\"scatter\"},{\"hovertemplate\":\"<b>%{hovertext}</b><br><br>Country_Name=Georgia<br>Y_Capita_Per_Medal=%{x}<br>GDP_Per_Capita=%{y}<extra></extra>\",\"hovertext\":[\"Georgia\"],\"legendgroup\":\"Georgia\",\"marker\":{\"color\":\"#636efa\",\"symbol\":\"circle\",\"size\":10},\"mode\":\"markers\",\"name\":\"Georgia\",\"orientation\":\"v\",\"showlegend\":true,\"x\":[1.8779317532773264e-06],\"xaxis\":\"x\",\"y\":[4062.169888],\"yaxis\":\"y\",\"type\":\"scatter\"},{\"hovertemplate\":\"<b>%{hovertext}</b><br><br>Country_Name=Ghana<br>Y_Capita_Per_Medal=%{x}<br>GDP_Per_Capita=%{y}<extra></extra>\",\"hovertext\":[\"Ghana\"],\"legendgroup\":\"Ghana\",\"marker\":{\"color\":\"#EF553B\",\"symbol\":\"circle\",\"size\":10},\"mode\":\"markers\",\"name\":\"Ghana\",\"orientation\":\"v\",\"showlegend\":true,\"x\":[0.0],\"xaxis\":\"x\",\"y\":[1900.405937],\"yaxis\":\"y\",\"type\":\"scatter\"},{\"hovertemplate\":\"<b>%{hovertext}</b><br><br>Country_Name=Guyana<br>Y_Capita_Per_Medal=%{x}<br>GDP_Per_Capita=%{y}<extra></extra>\",\"hovertext\":[\"Guyana\"],\"legendgroup\":\"Guyana\",\"marker\":{\"color\":\"#00cc96\",\"symbol\":\"circle\",\"size\":10},\"mode\":\"markers\",\"name\":\"Guyana\",\"orientation\":\"v\",\"showlegend\":true,\"x\":[0.0],\"xaxis\":\"x\",\"y\":[5905.380196],\"yaxis\":\"y\",\"type\":\"scatter\"},{\"hovertemplate\":\"<b>%{hovertext}</b><br><br>Country_Name=Hong Kong SAR, China<br>Y_Capita_Per_Medal=%{x}<br>GDP_Per_Capita=%{y}<extra></extra>\",\"hovertext\":[\"Hong Kong SAR, China\"],\"legendgroup\":\"Hong Kong SAR, China\",\"marker\":{\"color\":\"#ab63fa\",\"symbol\":\"circle\",\"size\":10},\"mode\":\"markers\",\"name\":\"Hong Kong SAR, China\",\"orientation\":\"v\",\"showlegend\":true,\"x\":[0.0],\"xaxis\":\"x\",\"y\":[43733.91636],\"yaxis\":\"y\",\"type\":\"scatter\"},{\"hovertemplate\":\"<b>%{hovertext}</b><br><br>Country_Name=Hungary<br>Y_Capita_Per_Medal=%{x}<br>GDP_Per_Capita=%{y}<extra></extra>\",\"hovertext\":[\"Hungary\"],\"legendgroup\":\"Hungary\",\"marker\":{\"color\":\"#FFA15A\",\"symbol\":\"circle\",\"size\":10},\"mode\":\"markers\",\"name\":\"Hungary\",\"orientation\":\"v\",\"showlegend\":true,\"x\":[1.5284251932158709e-06],\"xaxis\":\"x\",\"y\":[13104.69955],\"yaxis\":\"y\",\"type\":\"scatter\"},{\"hovertemplate\":\"<b>%{hovertext}</b><br><br>Country_Name=Iceland<br>Y_Capita_Per_Medal=%{x}<br>GDP_Per_Capita=%{y}<extra></extra>\",\"hovertext\":[\"Iceland\"],\"legendgroup\":\"Iceland\",\"marker\":{\"color\":\"#19d3f3\",\"symbol\":\"circle\",\"size\":10},\"mode\":\"markers\",\"name\":\"Iceland\",\"orientation\":\"v\",\"showlegend\":true,\"x\":[0.0],\"xaxis\":\"x\",\"y\":[61987.92636],\"yaxis\":\"y\",\"type\":\"scatter\"},{\"hovertemplate\":\"<b>%{hovertext}</b><br><br>Country_Name=India<br>Y_Capita_Per_Medal=%{x}<br>GDP_Per_Capita=%{y}<extra></extra>\",\"hovertext\":[\"India\"],\"legendgroup\":\"India\",\"marker\":{\"color\":\"#FF6692\",\"symbol\":\"circle\",\"size\":10},\"mode\":\"markers\",\"name\":\"India\",\"orientation\":\"v\",\"showlegend\":true,\"x\":[1.4940577513382012e-09],\"xaxis\":\"x\",\"y\":[1714.280355],\"yaxis\":\"y\",\"type\":\"scatter\"},{\"hovertemplate\":\"<b>%{hovertext}</b><br><br>Country_Name=Iraq<br>Y_Capita_Per_Medal=%{x}<br>GDP_Per_Capita=%{y}<extra></extra>\",\"hovertext\":[\"Iraq\"],\"legendgroup\":\"Iraq\",\"marker\":{\"color\":\"#B6E880\",\"symbol\":\"circle\",\"size\":10},\"mode\":\"markers\",\"name\":\"Iraq\",\"orientation\":\"v\",\"showlegend\":true,\"x\":[0.0],\"xaxis\":\"x\",\"y\":[4305.202702],\"yaxis\":\"y\",\"type\":\"scatter\"},{\"hovertemplate\":\"<b>%{hovertext}</b><br><br>Country_Name=Ireland<br>Y_Capita_Per_Medal=%{x}<br>GDP_Per_Capita=%{y}<extra></extra>\",\"hovertext\":[\"Ireland\"],\"legendgroup\":\"Ireland\",\"marker\":{\"color\":\"#FF97FF\",\"symbol\":\"circle\",\"size\":10},\"mode\":\"markers\",\"name\":\"Ireland\",\"orientation\":\"v\",\"showlegend\":true,\"x\":[4.2058025354680587e-07],\"xaxis\":\"x\",\"y\":[62895.91112],\"yaxis\":\"y\",\"type\":\"scatter\"},{\"hovertemplate\":\"<b>%{hovertext}</b><br><br>Country_Name=Israel<br>Y_Capita_Per_Medal=%{x}<br>GDP_Per_Capita=%{y}<extra></extra>\",\"hovertext\":[\"Israel\"],\"legendgroup\":\"Israel\",\"marker\":{\"color\":\"#FECB52\",\"symbol\":\"circle\",\"size\":10},\"mode\":\"markers\",\"name\":\"Israel\",\"orientation\":\"v\",\"showlegend\":true,\"x\":[2.340276152586005e-07],\"xaxis\":\"x\",\"y\":[37690.47395],\"yaxis\":\"y\",\"type\":\"scatter\"},{\"hovertemplate\":\"<b>%{hovertext}</b><br><br>Country_Name=Italy<br>Y_Capita_Per_Medal=%{x}<br>GDP_Per_Capita=%{y}<extra></extra>\",\"hovertext\":[\"Italy\"],\"legendgroup\":\"Italy\",\"marker\":{\"color\":\"#636efa\",\"symbol\":\"circle\",\"size\":10},\"mode\":\"markers\",\"name\":\"Italy\",\"orientation\":\"v\",\"showlegend\":true,\"x\":[4.61836640529022e-07],\"xaxis\":\"x\",\"y\":[30960.73151],\"yaxis\":\"y\",\"type\":\"scatter\"},{\"hovertemplate\":\"<b>%{hovertext}</b><br><br>Country_Name=Jamaica<br>Y_Capita_Per_Medal=%{x}<br>GDP_Per_Capita=%{y}<extra></extra>\",\"hovertext\":[\"Jamaica\"],\"legendgroup\":\"Jamaica\",\"marker\":{\"color\":\"#EF553B\",\"symbol\":\"circle\",\"size\":10},\"mode\":\"markers\",\"name\":\"Jamaica\",\"orientation\":\"v\",\"showlegend\":true,\"x\":[3.9247938145249486e-06],\"xaxis\":\"x\",\"y\":[5022.704717],\"yaxis\":\"y\",\"type\":\"scatter\"},{\"hovertemplate\":\"<b>%{hovertext}</b><br><br>Country_Name=Japan<br>Y_Capita_Per_Medal=%{x}<br>GDP_Per_Capita=%{y}<extra></extra>\",\"hovertext\":[\"Japan\"],\"legendgroup\":\"Japan\",\"marker\":{\"color\":\"#00cc96\",\"symbol\":\"circle\",\"size\":10},\"mode\":\"markers\",\"name\":\"Japan\",\"orientation\":\"v\",\"showlegend\":true,\"x\":[3.226415688249552e-07],\"xaxis\":\"x\",\"y\":[39375.47316],\"yaxis\":\"y\",\"type\":\"scatter\"},{\"hovertemplate\":\"<b>%{hovertext}</b><br><br>Country_Name=Jordan<br>Y_Capita_Per_Medal=%{x}<br>GDP_Per_Capita=%{y}<extra></extra>\",\"hovertext\":[\"Jordan\"],\"legendgroup\":\"Jordan\",\"marker\":{\"color\":\"#ab63fa\",\"symbol\":\"circle\",\"size\":10},\"mode\":\"markers\",\"name\":\"Jordan\",\"orientation\":\"v\",\"showlegend\":true,\"x\":[1.0035469362916293e-07],\"xaxis\":\"x\",\"y\":[4003.404749],\"yaxis\":\"y\",\"type\":\"scatter\"},{\"hovertemplate\":\"<b>%{hovertext}</b><br><br>Country_Name=Kazakhstan<br>Y_Capita_Per_Medal=%{x}<br>GDP_Per_Capita=%{y}<extra></extra>\",\"hovertext\":[\"Kazakhstan\"],\"legendgroup\":\"Kazakhstan\",\"marker\":{\"color\":\"#FFA15A\",\"symbol\":\"circle\",\"size\":10},\"mode\":\"markers\",\"name\":\"Kazakhstan\",\"orientation\":\"v\",\"showlegend\":true,\"x\":[9.5537526437903e-07],\"xaxis\":\"x\",\"y\":[7714.841844],\"yaxis\":\"y\",\"type\":\"scatter\"},{\"hovertemplate\":\"<b>%{hovertext}</b><br><br>Country_Name=Kenya<br>Y_Capita_Per_Medal=%{x}<br>GDP_Per_Capita=%{y}<extra></extra>\",\"hovertext\":[\"Kenya\"],\"legendgroup\":\"Kenya\",\"marker\":{\"color\":\"#19d3f3\",\"symbol\":\"circle\",\"size\":10},\"mode\":\"markers\",\"name\":\"Kenya\",\"orientation\":\"v\",\"showlegend\":true,\"x\":[2.7142895023600746e-07],\"xaxis\":\"x\",\"y\":[1562.076142],\"yaxis\":\"y\",\"type\":\"scatter\"},{\"hovertemplate\":\"<b>%{hovertext}</b><br><br>Country_Name=Korea, Dem. People's Rep.<br>Y_Capita_Per_Medal=%{x}<br>GDP_Per_Capita=%{y}<extra></extra>\",\"hovertext\":[\"Korea, Dem. People's Rep.\"],\"legendgroup\":\"Korea, Dem. People's Rep.\",\"marker\":{\"color\":\"#FF6692\",\"symbol\":\"circle\",\"size\":10},\"mode\":\"markers\",\"name\":\"Korea, Dem. People's Rep.\",\"orientation\":\"v\",\"showlegend\":true,\"x\":[2.7570331818002254e-07],\"xaxis\":\"x\",\"y\":[0.0],\"yaxis\":\"y\",\"type\":\"scatter\"},{\"hovertemplate\":\"<b>%{hovertext}</b><br><br>Country_Name=Korea, Rep.<br>Y_Capita_Per_Medal=%{x}<br>GDP_Per_Capita=%{y}<extra></extra>\",\"hovertext\":[\"Korea, Rep.\"],\"legendgroup\":\"Korea, Rep.\",\"marker\":{\"color\":\"#B6E880\",\"symbol\":\"circle\",\"size\":10},\"mode\":\"markers\",\"name\":\"Korea, Rep.\",\"orientation\":\"v\",\"showlegend\":true,\"x\":[4.100136821565736e-07],\"xaxis\":\"x\",\"y\":[29288.87044],\"yaxis\":\"y\",\"type\":\"scatter\"},{\"hovertemplate\":\"<b>%{hovertext}</b><br><br>Country_Name=Kyrgyz Republic<br>Y_Capita_Per_Medal=%{x}<br>GDP_Per_Capita=%{y}<extra></extra>\",\"hovertext\":[\"Kyrgyz Republic\"],\"legendgroup\":\"Kyrgyz Republic\",\"marker\":{\"color\":\"#FF97FF\",\"symbol\":\"circle\",\"size\":10},\"mode\":\"markers\",\"name\":\"Kyrgyz Republic\",\"orientation\":\"v\",\"showlegend\":true,\"x\":[0.0],\"xaxis\":\"x\",\"y\":[1120.666513],\"yaxis\":\"y\",\"type\":\"scatter\"},{\"hovertemplate\":\"<b>%{hovertext}</b><br><br>Country_Name=Lebanon<br>Y_Capita_Per_Medal=%{x}<br>GDP_Per_Capita=%{y}<extra></extra>\",\"hovertext\":[\"Lebanon\"],\"legendgroup\":\"Lebanon\",\"marker\":{\"color\":\"#FECB52\",\"symbol\":\"circle\",\"size\":10},\"mode\":\"markers\",\"name\":\"Lebanon\",\"orientation\":\"v\",\"showlegend\":true,\"x\":[0.0],\"xaxis\":\"x\",\"y\":[8172.299476],\"yaxis\":\"y\",\"type\":\"scatter\"},{\"hovertemplate\":\"<b>%{hovertext}</b><br><br>Country_Name=Liechtenstein<br>Y_Capita_Per_Medal=%{x}<br>GDP_Per_Capita=%{y}<extra></extra>\",\"hovertext\":[\"Liechtenstein\"],\"legendgroup\":\"Liechtenstein\",\"marker\":{\"color\":\"#636efa\",\"symbol\":\"circle\",\"size\":10},\"mode\":\"markers\",\"name\":\"Liechtenstein\",\"orientation\":\"v\",\"showlegend\":true,\"x\":[0.0],\"xaxis\":\"x\",\"y\":[165844.9854],\"yaxis\":\"y\",\"type\":\"scatter\"},{\"hovertemplate\":\"<b>%{hovertext}</b><br><br>Country_Name=Lithuania<br>Y_Capita_Per_Medal=%{x}<br>GDP_Per_Capita=%{y}<extra></extra>\",\"hovertext\":[\"Lithuania\"],\"legendgroup\":\"Lithuania\",\"marker\":{\"color\":\"#EF553B\",\"symbol\":\"circle\",\"size\":10},\"mode\":\"markers\",\"name\":\"Lithuania\",\"orientation\":\"v\",\"showlegend\":true,\"x\":[1.394587813882494e-06],\"xaxis\":\"x\",\"y\":[15008.31324],\"yaxis\":\"y\",\"type\":\"scatter\"},{\"hovertemplate\":\"<b>%{hovertext}</b><br><br>Country_Name=Luxembourg<br>Y_Capita_Per_Medal=%{x}<br>GDP_Per_Capita=%{y}<extra></extra>\",\"hovertext\":[\"Luxembourg\"],\"legendgroup\":\"Luxembourg\",\"marker\":{\"color\":\"#00cc96\",\"symbol\":\"circle\",\"size\":10},\"mode\":\"markers\",\"name\":\"Luxembourg\",\"orientation\":\"v\",\"showlegend\":true,\"x\":[0.0],\"xaxis\":\"x\",\"y\":[106899.2935],\"yaxis\":\"y\",\"type\":\"scatter\"},{\"hovertemplate\":\"<b>%{hovertext}</b><br><br>Country_Name=Mexico<br>Y_Capita_Per_Medal=%{x}<br>GDP_Per_Capita=%{y}<extra></extra>\",\"hovertext\":[\"Mexico\"],\"legendgroup\":\"Mexico\",\"marker\":{\"color\":\"#ab63fa\",\"symbol\":\"circle\",\"size\":10},\"mode\":\"markers\",\"name\":\"Mexico\",\"orientation\":\"v\",\"showlegend\":true,\"x\":[4.114575421776281e-08],\"xaxis\":\"x\",\"y\":[8875.062256],\"yaxis\":\"y\",\"type\":\"scatter\"},{\"hovertemplate\":\"<b>%{hovertext}</b><br><br>Country_Name=Moldova<br>Y_Capita_Per_Medal=%{x}<br>GDP_Per_Capita=%{y}<extra></extra>\",\"hovertext\":[\"Moldova\"],\"legendgroup\":\"Moldova\",\"marker\":{\"color\":\"#FFA15A\",\"symbol\":\"circle\",\"size\":10},\"mode\":\"markers\",\"name\":\"Moldova\",\"orientation\":\"v\",\"showlegend\":true,\"x\":[0.0],\"xaxis\":\"x\",\"y\":[2879.391291],\"yaxis\":\"y\",\"type\":\"scatter\"},{\"hovertemplate\":\"<b>%{hovertext}</b><br><br>Country_Name=Montenegro<br>Y_Capita_Per_Medal=%{x}<br>GDP_Per_Capita=%{y}<extra></extra>\",\"hovertext\":[\"Montenegro\"],\"legendgroup\":\"Montenegro\",\"marker\":{\"color\":\"#19d3f3\",\"symbol\":\"circle\",\"size\":10},\"mode\":\"markers\",\"name\":\"Montenegro\",\"orientation\":\"v\",\"showlegend\":true,\"x\":[0.0],\"xaxis\":\"x\",\"y\":[7033.604899],\"yaxis\":\"y\",\"type\":\"scatter\"},{\"hovertemplate\":\"<b>%{hovertext}</b><br><br>Country_Name=Morocco<br>Y_Capita_Per_Medal=%{x}<br>GDP_Per_Capita=%{y}<extra></extra>\",\"hovertext\":[\"Morocco\"],\"legendgroup\":\"Morocco\",\"marker\":{\"color\":\"#FF6692\",\"symbol\":\"circle\",\"size\":10},\"mode\":\"markers\",\"name\":\"Morocco\",\"orientation\":\"v\",\"showlegend\":true,\"x\":[2.8484133653935553e-08],\"xaxis\":\"x\",\"y\":[3132.94458],\"yaxis\":\"y\",\"type\":\"scatter\"},{\"hovertemplate\":\"<b>%{hovertext}</b><br><br>Country_Name=Mozambique<br>Y_Capita_Per_Medal=%{x}<br>GDP_Per_Capita=%{y}<extra></extra>\",\"hovertext\":[\"Mozambique\"],\"legendgroup\":\"Mozambique\",\"marker\":{\"color\":\"#B6E880\",\"symbol\":\"circle\",\"size\":10},\"mode\":\"markers\",\"name\":\"Mozambique\",\"orientation\":\"v\",\"showlegend\":true,\"x\":[0.0],\"xaxis\":\"x\",\"y\":[430.9931688],\"yaxis\":\"y\",\"type\":\"scatter\"},{\"hovertemplate\":\"<b>%{hovertext}</b><br><br>Country_Name=Namibia<br>Y_Capita_Per_Medal=%{x}<br>GDP_Per_Capita=%{y}<extra></extra>\",\"hovertext\":[\"Namibia\"],\"legendgroup\":\"Namibia\",\"marker\":{\"color\":\"#FF97FF\",\"symbol\":\"circle\",\"size\":10},\"mode\":\"markers\",\"name\":\"Namibia\",\"orientation\":\"v\",\"showlegend\":true,\"x\":[0.0],\"xaxis\":\"x\",\"y\":[4614.881721],\"yaxis\":\"y\",\"type\":\"scatter\"},{\"hovertemplate\":\"<b>%{hovertext}</b><br><br>Country_Name=New Zealand<br>Y_Capita_Per_Medal=%{x}<br>GDP_Per_Capita=%{y}<extra></extra>\",\"hovertext\":[\"New Zealand\"],\"legendgroup\":\"New Zealand\",\"marker\":{\"color\":\"#FECB52\",\"symbol\":\"circle\",\"size\":10},\"mode\":\"markers\",\"name\":\"New Zealand\",\"orientation\":\"v\",\"showlegend\":true,\"x\":[3.818332237330562e-06],\"xaxis\":\"x\",\"y\":[40058.19616],\"yaxis\":\"y\",\"type\":\"scatter\"},{\"hovertemplate\":\"<b>%{hovertext}</b><br><br>Country_Name=North Macedonia<br>Y_Capita_Per_Medal=%{x}<br>GDP_Per_Capita=%{y}<extra></extra>\",\"hovertext\":[\"North Macedonia\"],\"legendgroup\":\"North Macedonia\",\"marker\":{\"color\":\"#636efa\",\"symbol\":\"circle\",\"size\":10},\"mode\":\"markers\",\"name\":\"North Macedonia\",\"orientation\":\"v\",\"showlegend\":true,\"x\":[0.0],\"xaxis\":\"x\",\"y\":[5149.589074],\"yaxis\":\"y\",\"type\":\"scatter\"},{\"hovertemplate\":\"<b>%{hovertext}</b><br><br>Country_Name=Norway<br>Y_Capita_Per_Medal=%{x}<br>GDP_Per_Capita=%{y}<extra></extra>\",\"hovertext\":[\"Norway\"],\"legendgroup\":\"Norway\",\"marker\":{\"color\":\"#EF553B\",\"symbol\":\"circle\",\"size\":10},\"mode\":\"markers\",\"name\":\"Norway\",\"orientation\":\"v\",\"showlegend\":true,\"x\":[7.641580821466118e-07],\"xaxis\":\"x\",\"y\":[70460.56053],\"yaxis\":\"y\",\"type\":\"scatter\"},{\"hovertemplate\":\"<b>%{hovertext}</b><br><br>Country_Name=Pakistan<br>Y_Capita_Per_Medal=%{x}<br>GDP_Per_Capita=%{y}<extra></extra>\",\"hovertext\":[\"Pakistan\"],\"legendgroup\":\"Pakistan\",\"marker\":{\"color\":\"#00cc96\",\"symbol\":\"circle\",\"size\":10},\"mode\":\"markers\",\"name\":\"Pakistan\",\"orientation\":\"v\",\"showlegend\":true,\"x\":[0.0],\"xaxis\":\"x\",\"y\":[1468.821421],\"yaxis\":\"y\",\"type\":\"scatter\"},{\"hovertemplate\":\"<b>%{hovertext}</b><br><br>Country_Name=Panama<br>Y_Capita_Per_Medal=%{x}<br>GDP_Per_Capita=%{y}<extra></extra>\",\"hovertext\":[\"Panama\"],\"legendgroup\":\"Panama\",\"marker\":{\"color\":\"#ab63fa\",\"symbol\":\"circle\",\"size\":10},\"mode\":\"markers\",\"name\":\"Panama\",\"orientation\":\"v\",\"showlegend\":true,\"x\":[0.0],\"xaxis\":\"x\",\"y\":[14382.23238],\"yaxis\":\"y\",\"type\":\"scatter\"},{\"hovertemplate\":\"<b>%{hovertext}</b><br><br>Country_Name=Peru<br>Y_Capita_Per_Medal=%{x}<br>GDP_Per_Capita=%{y}<extra></extra>\",\"hovertext\":[\"Peru\"],\"legendgroup\":\"Peru\",\"marker\":{\"color\":\"#FFA15A\",\"symbol\":\"circle\",\"size\":10},\"mode\":\"markers\",\"name\":\"Peru\",\"orientation\":\"v\",\"showlegend\":true,\"x\":[0.0],\"xaxis\":\"x\",\"y\":[6163.791026],\"yaxis\":\"y\",\"type\":\"scatter\"},{\"hovertemplate\":\"<b>%{hovertext}</b><br><br>Country_Name=Poland<br>Y_Capita_Per_Medal=%{x}<br>GDP_Per_Capita=%{y}<extra></extra>\",\"hovertext\":[\"Poland\"],\"legendgroup\":\"Poland\",\"marker\":{\"color\":\"#19d3f3\",\"symbol\":\"circle\",\"size\":10},\"mode\":\"markers\",\"name\":\"Poland\",\"orientation\":\"v\",\"showlegend\":true,\"x\":[2.897017328403804e-07],\"xaxis\":\"x\",\"y\":[12378.75944],\"yaxis\":\"y\",\"type\":\"scatter\"},{\"hovertemplate\":\"<b>%{hovertext}</b><br><br>Country_Name=Qatar<br>Y_Capita_Per_Medal=%{x}<br>GDP_Per_Capita=%{y}<extra></extra>\",\"hovertext\":[\"Qatar\"],\"legendgroup\":\"Qatar\",\"marker\":{\"color\":\"#FF6692\",\"symbol\":\"circle\",\"size\":10},\"mode\":\"markers\",\"name\":\"Qatar\",\"orientation\":\"v\",\"showlegend\":true,\"x\":[3.8533180536428114e-07],\"xaxis\":\"x\",\"y\":[58467.23557],\"yaxis\":\"y\",\"type\":\"scatter\"},{\"hovertemplate\":\"<b>%{hovertext}</b><br><br>Country_Name=Romania<br>Y_Capita_Per_Medal=%{x}<br>GDP_Per_Capita=%{y}<extra></extra>\",\"hovertext\":[\"Romania\"],\"legendgroup\":\"Romania\",\"marker\":{\"color\":\"#B6E880\",\"symbol\":\"circle\",\"size\":10},\"mode\":\"markers\",\"name\":\"Romania\",\"orientation\":\"v\",\"showlegend\":true,\"x\":[2.030223222535762e-07],\"xaxis\":\"x\",\"y\":[9404.341874],\"yaxis\":\"y\",\"type\":\"scatter\"},{\"hovertemplate\":\"<b>%{hovertext}</b><br><br>Country_Name=Russian Federation<br>Y_Capita_Per_Medal=%{x}<br>GDP_Per_Capita=%{y}<extra></extra>\",\"hovertext\":[\"Russian Federation\"],\"legendgroup\":\"Russian Federation\",\"marker\":{\"color\":\"#FF97FF\",\"symbol\":\"circle\",\"size\":10},\"mode\":\"markers\",\"name\":\"Russian Federation\",\"orientation\":\"v\",\"showlegend\":true,\"x\":[3.879663990892434e-07],\"xaxis\":\"x\",\"y\":[8704.898438],\"yaxis\":\"y\",\"type\":\"scatter\"},{\"hovertemplate\":\"<b>%{hovertext}</b><br><br>Country_Name=San Marino<br>Y_Capita_Per_Medal=%{x}<br>GDP_Per_Capita=%{y}<extra></extra>\",\"hovertext\":[\"San Marino\"],\"legendgroup\":\"San Marino\",\"marker\":{\"color\":\"#FECB52\",\"symbol\":\"circle\",\"size\":10},\"mode\":\"markers\",\"name\":\"San Marino\",\"orientation\":\"v\",\"showlegend\":true,\"x\":[0.0],\"xaxis\":\"x\",\"y\":[43399.4583],\"yaxis\":\"y\",\"type\":\"scatter\"},{\"hovertemplate\":\"<b>%{hovertext}</b><br><br>Country_Name=Senegal<br>Y_Capita_Per_Medal=%{x}<br>GDP_Per_Capita=%{y}<extra></extra>\",\"hovertext\":[\"Senegal\"],\"legendgroup\":\"Senegal\",\"marker\":{\"color\":\"#636efa\",\"symbol\":\"circle\",\"size\":10},\"mode\":\"markers\",\"name\":\"Senegal\",\"orientation\":\"v\",\"showlegend\":true,\"x\":[0.0],\"xaxis\":\"x\",\"y\":[1290.750004],\"yaxis\":\"y\",\"type\":\"scatter\"},{\"hovertemplate\":\"<b>%{hovertext}</b><br><br>Country_Name=Serbia<br>Y_Capita_Per_Medal=%{x}<br>GDP_Per_Capita=%{y}<extra></extra>\",\"hovertext\":[\"Serbia\"],\"legendgroup\":\"Serbia\",\"marker\":{\"color\":\"#EF553B\",\"symbol\":\"circle\",\"size\":10},\"mode\":\"markers\",\"name\":\"Serbia\",\"orientation\":\"v\",\"showlegend\":true,\"x\":[1.133413862388256e-06],\"xaxis\":\"x\",\"y\":[5765.200762],\"yaxis\":\"y\",\"type\":\"scatter\"},{\"hovertemplate\":\"<b>%{hovertext}</b><br><br>Country_Name=Singapore<br>Y_Capita_Per_Medal=%{x}<br>GDP_Per_Capita=%{y}<extra></extra>\",\"hovertext\":[\"Singapore\"],\"legendgroup\":\"Singapore\",\"marker\":{\"color\":\"#00cc96\",\"symbol\":\"circle\",\"size\":10},\"mode\":\"markers\",\"name\":\"Singapore\",\"orientation\":\"v\",\"showlegend\":true,\"x\":[1.78339491693214e-07],\"xaxis\":\"x\",\"y\":[56860.41324],\"yaxis\":\"y\",\"type\":\"scatter\"},{\"hovertemplate\":\"<b>%{hovertext}</b><br><br>Country_Name=Slovak Republic<br>Y_Capita_Per_Medal=%{x}<br>GDP_Per_Capita=%{y}<extra></extra>\",\"hovertext\":[\"Slovak Republic\"],\"legendgroup\":\"Slovak Republic\",\"marker\":{\"color\":\"#ab63fa\",\"symbol\":\"circle\",\"size\":10},\"mode\":\"markers\",\"name\":\"Slovak Republic\",\"orientation\":\"v\",\"showlegend\":true,\"x\":[7.365400075642658e-07],\"xaxis\":\"x\",\"y\":[16563.4405],\"yaxis\":\"y\",\"type\":\"scatter\"},{\"hovertemplate\":\"<b>%{hovertext}</b><br><br>Country_Name=Spain<br>Y_Capita_Per_Medal=%{x}<br>GDP_Per_Capita=%{y}<extra></extra>\",\"hovertext\":[\"Spain\"],\"legendgroup\":\"Spain\",\"marker\":{\"color\":\"#FFA15A\",\"symbol\":\"circle\",\"size\":10},\"mode\":\"markers\",\"name\":\"Spain\",\"orientation\":\"v\",\"showlegend\":true,\"x\":[3.6571674824803394e-07],\"xaxis\":\"x\",\"y\":[26537.15949],\"yaxis\":\"y\",\"type\":\"scatter\"},{\"hovertemplate\":\"<b>%{hovertext}</b><br><br>Country_Name=Suriname<br>Y_Capita_Per_Medal=%{x}<br>GDP_Per_Capita=%{y}<extra></extra>\",\"hovertext\":[\"Suriname\"],\"legendgroup\":\"Suriname\",\"marker\":{\"color\":\"#19d3f3\",\"symbol\":\"circle\",\"size\":10},\"mode\":\"markers\",\"name\":\"Suriname\",\"orientation\":\"v\",\"showlegend\":true,\"x\":[0.0],\"xaxis\":\"x\",\"y\":[5705.426967],\"yaxis\":\"y\",\"type\":\"scatter\"},{\"hovertemplate\":\"<b>%{hovertext}</b><br><br>Country_Name=Sweden<br>Y_Capita_Per_Medal=%{x}<br>GDP_Per_Capita=%{y}<extra></extra>\",\"hovertext\":[\"Sweden\"],\"legendgroup\":\"Sweden\",\"marker\":{\"color\":\"#FF6692\",\"symbol\":\"circle\",\"size\":10},\"mode\":\"markers\",\"name\":\"Sweden\",\"orientation\":\"v\",\"showlegend\":true,\"x\":[1.1085262294941544e-06],\"xaxis\":\"x\",\"y\":[51965.15715],\"yaxis\":\"y\",\"type\":\"scatter\"},{\"hovertemplate\":\"<b>%{hovertext}</b><br><br>Country_Name=Syrian Arab Republic<br>Y_Capita_Per_Medal=%{x}<br>GDP_Per_Capita=%{y}<extra></extra>\",\"hovertext\":[\"Syrian Arab Republic\"],\"legendgroup\":\"Syrian Arab Republic\",\"marker\":{\"color\":\"#B6E880\",\"symbol\":\"circle\",\"size\":10},\"mode\":\"markers\",\"name\":\"Syrian Arab Republic\",\"orientation\":\"v\",\"showlegend\":true,\"x\":[0.0],\"xaxis\":\"x\",\"y\":[664.3416723],\"yaxis\":\"y\",\"type\":\"scatter\"},{\"hovertemplate\":\"<b>%{hovertext}</b><br><br>Country_Name=Tajikistan<br>Y_Capita_Per_Medal=%{x}<br>GDP_Per_Capita=%{y}<extra></extra>\",\"hovertext\":[\"Tajikistan\"],\"legendgroup\":\"Tajikistan\",\"marker\":{\"color\":\"#FF97FF\",\"symbol\":\"circle\",\"size\":10},\"mode\":\"markers\",\"name\":\"Tajikistan\",\"orientation\":\"v\",\"showlegend\":true,\"x\":[1.1460900336239897e-07],\"xaxis\":\"x\",\"y\":[801.3912831],\"yaxis\":\"y\",\"type\":\"scatter\"},{\"hovertemplate\":\"<b>%{hovertext}</b><br><br>Country_Name=Thailand<br>Y_Capita_Per_Medal=%{x}<br>GDP_Per_Capita=%{y}<extra></extra>\",\"hovertext\":[\"Thailand\"],\"legendgroup\":\"Thailand\",\"marker\":{\"color\":\"#FECB52\",\"symbol\":\"circle\",\"size\":10},\"mode\":\"markers\",\"name\":\"Thailand\",\"orientation\":\"v\",\"showlegend\":true,\"x\":[8.49773656413312e-08],\"xaxis\":\"x\",\"y\":[5854.461088],\"yaxis\":\"y\",\"type\":\"scatter\"},{\"hovertemplate\":\"<b>%{hovertext}</b><br><br>Country_Name=Trinidad and Tobago<br>Y_Capita_Per_Medal=%{x}<br>GDP_Per_Capita=%{y}<extra></extra>\",\"hovertext\":[\"Trinidad and Tobago\"],\"legendgroup\":\"Trinidad and Tobago\",\"marker\":{\"color\":\"#636efa\",\"symbol\":\"circle\",\"size\":10},\"mode\":\"markers\",\"name\":\"Trinidad and Tobago\",\"orientation\":\"v\",\"showlegend\":true,\"x\":[6.805823062212028e-07],\"xaxis\":\"x\",\"y\":[15991.10879],\"yaxis\":\"y\",\"type\":\"scatter\"},{\"hovertemplate\":\"<b>%{hovertext}</b><br><br>Country_Name=Tunisia<br>Y_Capita_Per_Medal=%{x}<br>GDP_Per_Capita=%{y}<extra></extra>\",\"hovertext\":[\"Tunisia\"],\"legendgroup\":\"Tunisia\",\"marker\":{\"color\":\"#EF553B\",\"symbol\":\"circle\",\"size\":10},\"mode\":\"markers\",\"name\":\"Tunisia\",\"orientation\":\"v\",\"showlegend\":true,\"x\":[2.567247552065278e-07],\"xaxis\":\"x\",\"y\":[3796.16792],\"yaxis\":\"y\",\"type\":\"scatter\"},{\"hovertemplate\":\"<b>%{hovertext}</b><br><br>Country_Name=Turkiye<br>Y_Capita_Per_Medal=%{x}<br>GDP_Per_Capita=%{y}<extra></extra>\",\"hovertext\":[\"Turkiye\"],\"legendgroup\":\"Turkiye\",\"marker\":{\"color\":\"#00cc96\",\"symbol\":\"circle\",\"size\":10},\"mode\":\"markers\",\"name\":\"Turkiye\",\"orientation\":\"v\",\"showlegend\":true,\"x\":[9.874179014471525e-08],\"xaxis\":\"x\",\"y\":[10734.37997],\"yaxis\":\"y\",\"type\":\"scatter\"},{\"hovertemplate\":\"<b>%{hovertext}</b><br><br>Country_Name=Turkmenistan<br>Y_Capita_Per_Medal=%{x}<br>GDP_Per_Capita=%{y}<extra></extra>\",\"hovertext\":[\"Turkmenistan\"],\"legendgroup\":\"Turkmenistan\",\"marker\":{\"color\":\"#ab63fa\",\"symbol\":\"circle\",\"size\":10},\"mode\":\"markers\",\"name\":\"Turkmenistan\",\"orientation\":\"v\",\"showlegend\":true,\"x\":[0.0],\"xaxis\":\"x\",\"y\":[6163.253406],\"yaxis\":\"y\",\"type\":\"scatter\"},{\"hovertemplate\":\"<b>%{hovertext}</b><br><br>Country_Name=Uganda<br>Y_Capita_Per_Medal=%{x}<br>GDP_Per_Capita=%{y}<extra></extra>\",\"hovertext\":[\"Uganda\"],\"legendgroup\":\"Uganda\",\"marker\":{\"color\":\"#FFA15A\",\"symbol\":\"circle\",\"size\":10},\"mode\":\"markers\",\"name\":\"Uganda\",\"orientation\":\"v\",\"showlegend\":true,\"x\":[0.0],\"xaxis\":\"x\",\"y\":[753.6844086],\"yaxis\":\"y\",\"type\":\"scatter\"},{\"hovertemplate\":\"<b>%{hovertext}</b><br><br>Country_Name=Ukraine<br>Y_Capita_Per_Medal=%{x}<br>GDP_Per_Capita=%{y}<extra></extra>\",\"hovertext\":[\"Ukraine\"],\"legendgroup\":\"Ukraine\",\"marker\":{\"color\":\"#19d3f3\",\"symbol\":\"circle\",\"size\":10},\"mode\":\"markers\",\"name\":\"Ukraine\",\"orientation\":\"v\",\"showlegend\":true,\"x\":[2.4441906288264777e-07],\"xaxis\":\"x\",\"y\":[2187.730469],\"yaxis\":\"y\",\"type\":\"scatter\"},{\"hovertemplate\":\"<b>%{hovertext}</b><br><br>Country_Name=United Kingdom<br>Y_Capita_Per_Medal=%{x}<br>GDP_Per_Capita=%{y}<extra></extra>\",\"hovertext\":[\"United Kingdom\"],\"legendgroup\":\"United Kingdom\",\"marker\":{\"color\":\"#FF6692\",\"symbol\":\"circle\",\"size\":10},\"mode\":\"markers\",\"name\":\"United Kingdom\",\"orientation\":\"v\",\"showlegend\":true,\"x\":[1.0211610012273288e-06],\"xaxis\":\"x\",\"y\":[41146.07736],\"yaxis\":\"y\",\"type\":\"scatter\"},{\"hovertemplate\":\"<b>%{hovertext}</b><br><br>Country_Name=United States<br>Y_Capita_Per_Medal=%{x}<br>GDP_Per_Capita=%{y}<extra></extra>\",\"hovertext\":[\"United States\"],\"legendgroup\":\"United States\",\"marker\":{\"color\":\"#B6E880\",\"symbol\":\"circle\",\"size\":10},\"mode\":\"markers\",\"name\":\"United States\",\"orientation\":\"v\",\"showlegend\":true,\"x\":[3.745298006630137e-07],\"xaxis\":\"x\",\"y\":[57866.74493],\"yaxis\":\"y\",\"type\":\"scatter\"},{\"hovertemplate\":\"<b>%{hovertext}</b><br><br>Country_Name=Uzbekistan<br>Y_Capita_Per_Medal=%{x}<br>GDP_Per_Capita=%{y}<extra></extra>\",\"hovertext\":[\"Uzbekistan\"],\"legendgroup\":\"Uzbekistan\",\"marker\":{\"color\":\"#FF97FF\",\"symbol\":\"circle\",\"size\":10},\"mode\":\"markers\",\"name\":\"Uzbekistan\",\"orientation\":\"v\",\"showlegend\":true,\"x\":[4.081901789442946e-07],\"xaxis\":\"x\",\"y\":[2704.677188],\"yaxis\":\"y\",\"type\":\"scatter\"},{\"hovertemplate\":\"<b>%{hovertext}</b><br><br>Country_Name=Venezuela, RB<br>Y_Capita_Per_Medal=%{x}<br>GDP_Per_Capita=%{y}<extra></extra>\",\"hovertext\":[\"Venezuela, RB\"],\"legendgroup\":\"Venezuela, RB\",\"marker\":{\"color\":\"#FECB52\",\"symbol\":\"circle\",\"size\":10},\"mode\":\"markers\",\"name\":\"Venezuela, RB\",\"orientation\":\"v\",\"showlegend\":true,\"x\":[9.758806542199813e-08],\"xaxis\":\"x\",\"y\":[0.0],\"yaxis\":\"y\",\"type\":\"scatter\"}],                        {\"template\":{\"data\":{\"histogram2dcontour\":[{\"type\":\"histogram2dcontour\",\"colorbar\":{\"outlinewidth\":0,\"ticks\":\"\"},\"colorscale\":[[0.0,\"#0d0887\"],[0.1111111111111111,\"#46039f\"],[0.2222222222222222,\"#7201a8\"],[0.3333333333333333,\"#9c179e\"],[0.4444444444444444,\"#bd3786\"],[0.5555555555555556,\"#d8576b\"],[0.6666666666666666,\"#ed7953\"],[0.7777777777777778,\"#fb9f3a\"],[0.8888888888888888,\"#fdca26\"],[1.0,\"#f0f921\"]]}],\"choropleth\":[{\"type\":\"choropleth\",\"colorbar\":{\"outlinewidth\":0,\"ticks\":\"\"}}],\"histogram2d\":[{\"type\":\"histogram2d\",\"colorbar\":{\"outlinewidth\":0,\"ticks\":\"\"},\"colorscale\":[[0.0,\"#0d0887\"],[0.1111111111111111,\"#46039f\"],[0.2222222222222222,\"#7201a8\"],[0.3333333333333333,\"#9c179e\"],[0.4444444444444444,\"#bd3786\"],[0.5555555555555556,\"#d8576b\"],[0.6666666666666666,\"#ed7953\"],[0.7777777777777778,\"#fb9f3a\"],[0.8888888888888888,\"#fdca26\"],[1.0,\"#f0f921\"]]}],\"heatmap\":[{\"type\":\"heatmap\",\"colorbar\":{\"outlinewidth\":0,\"ticks\":\"\"},\"colorscale\":[[0.0,\"#0d0887\"],[0.1111111111111111,\"#46039f\"],[0.2222222222222222,\"#7201a8\"],[0.3333333333333333,\"#9c179e\"],[0.4444444444444444,\"#bd3786\"],[0.5555555555555556,\"#d8576b\"],[0.6666666666666666,\"#ed7953\"],[0.7777777777777778,\"#fb9f3a\"],[0.8888888888888888,\"#fdca26\"],[1.0,\"#f0f921\"]]}],\"heatmapgl\":[{\"type\":\"heatmapgl\",\"colorbar\":{\"outlinewidth\":0,\"ticks\":\"\"},\"colorscale\":[[0.0,\"#0d0887\"],[0.1111111111111111,\"#46039f\"],[0.2222222222222222,\"#7201a8\"],[0.3333333333333333,\"#9c179e\"],[0.4444444444444444,\"#bd3786\"],[0.5555555555555556,\"#d8576b\"],[0.6666666666666666,\"#ed7953\"],[0.7777777777777778,\"#fb9f3a\"],[0.8888888888888888,\"#fdca26\"],[1.0,\"#f0f921\"]]}],\"contourcarpet\":[{\"type\":\"contourcarpet\",\"colorbar\":{\"outlinewidth\":0,\"ticks\":\"\"}}],\"contour\":[{\"type\":\"contour\",\"colorbar\":{\"outlinewidth\":0,\"ticks\":\"\"},\"colorscale\":[[0.0,\"#0d0887\"],[0.1111111111111111,\"#46039f\"],[0.2222222222222222,\"#7201a8\"],[0.3333333333333333,\"#9c179e\"],[0.4444444444444444,\"#bd3786\"],[0.5555555555555556,\"#d8576b\"],[0.6666666666666666,\"#ed7953\"],[0.7777777777777778,\"#fb9f3a\"],[0.8888888888888888,\"#fdca26\"],[1.0,\"#f0f921\"]]}],\"surface\":[{\"type\":\"surface\",\"colorbar\":{\"outlinewidth\":0,\"ticks\":\"\"},\"colorscale\":[[0.0,\"#0d0887\"],[0.1111111111111111,\"#46039f\"],[0.2222222222222222,\"#7201a8\"],[0.3333333333333333,\"#9c179e\"],[0.4444444444444444,\"#bd3786\"],[0.5555555555555556,\"#d8576b\"],[0.6666666666666666,\"#ed7953\"],[0.7777777777777778,\"#fb9f3a\"],[0.8888888888888888,\"#fdca26\"],[1.0,\"#f0f921\"]]}],\"mesh3d\":[{\"type\":\"mesh3d\",\"colorbar\":{\"outlinewidth\":0,\"ticks\":\"\"}}],\"scatter\":[{\"fillpattern\":{\"fillmode\":\"overlay\",\"size\":10,\"solidity\":0.2},\"type\":\"scatter\"}],\"parcoords\":[{\"type\":\"parcoords\",\"line\":{\"colorbar\":{\"outlinewidth\":0,\"ticks\":\"\"}}}],\"scatterpolargl\":[{\"type\":\"scatterpolargl\",\"marker\":{\"colorbar\":{\"outlinewidth\":0,\"ticks\":\"\"}}}],\"bar\":[{\"error_x\":{\"color\":\"#2a3f5f\"},\"error_y\":{\"color\":\"#2a3f5f\"},\"marker\":{\"line\":{\"color\":\"#E5ECF6\",\"width\":0.5},\"pattern\":{\"fillmode\":\"overlay\",\"size\":10,\"solidity\":0.2}},\"type\":\"bar\"}],\"scattergeo\":[{\"type\":\"scattergeo\",\"marker\":{\"colorbar\":{\"outlinewidth\":0,\"ticks\":\"\"}}}],\"scatterpolar\":[{\"type\":\"scatterpolar\",\"marker\":{\"colorbar\":{\"outlinewidth\":0,\"ticks\":\"\"}}}],\"histogram\":[{\"marker\":{\"pattern\":{\"fillmode\":\"overlay\",\"size\":10,\"solidity\":0.2}},\"type\":\"histogram\"}],\"scattergl\":[{\"type\":\"scattergl\",\"marker\":{\"colorbar\":{\"outlinewidth\":0,\"ticks\":\"\"}}}],\"scatter3d\":[{\"type\":\"scatter3d\",\"line\":{\"colorbar\":{\"outlinewidth\":0,\"ticks\":\"\"}},\"marker\":{\"colorbar\":{\"outlinewidth\":0,\"ticks\":\"\"}}}],\"scattermapbox\":[{\"type\":\"scattermapbox\",\"marker\":{\"colorbar\":{\"outlinewidth\":0,\"ticks\":\"\"}}}],\"scatterternary\":[{\"type\":\"scatterternary\",\"marker\":{\"colorbar\":{\"outlinewidth\":0,\"ticks\":\"\"}}}],\"scattercarpet\":[{\"type\":\"scattercarpet\",\"marker\":{\"colorbar\":{\"outlinewidth\":0,\"ticks\":\"\"}}}],\"carpet\":[{\"aaxis\":{\"endlinecolor\":\"#2a3f5f\",\"gridcolor\":\"white\",\"linecolor\":\"white\",\"minorgridcolor\":\"white\",\"startlinecolor\":\"#2a3f5f\"},\"baxis\":{\"endlinecolor\":\"#2a3f5f\",\"gridcolor\":\"white\",\"linecolor\":\"white\",\"minorgridcolor\":\"white\",\"startlinecolor\":\"#2a3f5f\"},\"type\":\"carpet\"}],\"table\":[{\"cells\":{\"fill\":{\"color\":\"#EBF0F8\"},\"line\":{\"color\":\"white\"}},\"header\":{\"fill\":{\"color\":\"#C8D4E3\"},\"line\":{\"color\":\"white\"}},\"type\":\"table\"}],\"barpolar\":[{\"marker\":{\"line\":{\"color\":\"#E5ECF6\",\"width\":0.5},\"pattern\":{\"fillmode\":\"overlay\",\"size\":10,\"solidity\":0.2}},\"type\":\"barpolar\"}],\"pie\":[{\"automargin\":true,\"type\":\"pie\"}]},\"layout\":{\"autotypenumbers\":\"strict\",\"colorway\":[\"#636efa\",\"#EF553B\",\"#00cc96\",\"#ab63fa\",\"#FFA15A\",\"#19d3f3\",\"#FF6692\",\"#B6E880\",\"#FF97FF\",\"#FECB52\"],\"font\":{\"color\":\"#2a3f5f\"},\"hovermode\":\"closest\",\"hoverlabel\":{\"align\":\"left\"},\"paper_bgcolor\":\"white\",\"plot_bgcolor\":\"#E5ECF6\",\"polar\":{\"bgcolor\":\"#E5ECF6\",\"angularaxis\":{\"gridcolor\":\"white\",\"linecolor\":\"white\",\"ticks\":\"\"},\"radialaxis\":{\"gridcolor\":\"white\",\"linecolor\":\"white\",\"ticks\":\"\"}},\"ternary\":{\"bgcolor\":\"#E5ECF6\",\"aaxis\":{\"gridcolor\":\"white\",\"linecolor\":\"white\",\"ticks\":\"\"},\"baxis\":{\"gridcolor\":\"white\",\"linecolor\":\"white\",\"ticks\":\"\"},\"caxis\":{\"gridcolor\":\"white\",\"linecolor\":\"white\",\"ticks\":\"\"}},\"coloraxis\":{\"colorbar\":{\"outlinewidth\":0,\"ticks\":\"\"}},\"colorscale\":{\"sequential\":[[0.0,\"#0d0887\"],[0.1111111111111111,\"#46039f\"],[0.2222222222222222,\"#7201a8\"],[0.3333333333333333,\"#9c179e\"],[0.4444444444444444,\"#bd3786\"],[0.5555555555555556,\"#d8576b\"],[0.6666666666666666,\"#ed7953\"],[0.7777777777777778,\"#fb9f3a\"],[0.8888888888888888,\"#fdca26\"],[1.0,\"#f0f921\"]],\"sequentialminus\":[[0.0,\"#0d0887\"],[0.1111111111111111,\"#46039f\"],[0.2222222222222222,\"#7201a8\"],[0.3333333333333333,\"#9c179e\"],[0.4444444444444444,\"#bd3786\"],[0.5555555555555556,\"#d8576b\"],[0.6666666666666666,\"#ed7953\"],[0.7777777777777778,\"#fb9f3a\"],[0.8888888888888888,\"#fdca26\"],[1.0,\"#f0f921\"]],\"diverging\":[[0,\"#8e0152\"],[0.1,\"#c51b7d\"],[0.2,\"#de77ae\"],[0.3,\"#f1b6da\"],[0.4,\"#fde0ef\"],[0.5,\"#f7f7f7\"],[0.6,\"#e6f5d0\"],[0.7,\"#b8e186\"],[0.8,\"#7fbc41\"],[0.9,\"#4d9221\"],[1,\"#276419\"]]},\"xaxis\":{\"gridcolor\":\"white\",\"linecolor\":\"white\",\"ticks\":\"\",\"title\":{\"standoff\":15},\"zerolinecolor\":\"white\",\"automargin\":true,\"zerolinewidth\":2},\"yaxis\":{\"gridcolor\":\"white\",\"linecolor\":\"white\",\"ticks\":\"\",\"title\":{\"standoff\":15},\"zerolinecolor\":\"white\",\"automargin\":true,\"zerolinewidth\":2},\"scene\":{\"xaxis\":{\"backgroundcolor\":\"#E5ECF6\",\"gridcolor\":\"white\",\"linecolor\":\"white\",\"showbackground\":true,\"ticks\":\"\",\"zerolinecolor\":\"white\",\"gridwidth\":2},\"yaxis\":{\"backgroundcolor\":\"#E5ECF6\",\"gridcolor\":\"white\",\"linecolor\":\"white\",\"showbackground\":true,\"ticks\":\"\",\"zerolinecolor\":\"white\",\"gridwidth\":2},\"zaxis\":{\"backgroundcolor\":\"#E5ECF6\",\"gridcolor\":\"white\",\"linecolor\":\"white\",\"showbackground\":true,\"ticks\":\"\",\"zerolinecolor\":\"white\",\"gridwidth\":2}},\"shapedefaults\":{\"line\":{\"color\":\"#2a3f5f\"}},\"annotationdefaults\":{\"arrowcolor\":\"#2a3f5f\",\"arrowhead\":0,\"arrowwidth\":1},\"geo\":{\"bgcolor\":\"white\",\"landcolor\":\"#E5ECF6\",\"subunitcolor\":\"white\",\"showland\":true,\"showlakes\":true,\"lakecolor\":\"white\"},\"title\":{\"x\":0.05},\"mapbox\":{\"style\":\"light\"}}},\"xaxis\":{\"anchor\":\"y\",\"domain\":[0.0,1.0],\"title\":{\"text\":\"Medals Per Population\"}},\"yaxis\":{\"anchor\":\"x\",\"domain\":[0.0,1.0],\"title\":{\"text\":\"GDP per Capita\"}},\"legend\":{\"title\":{\"text\":\"Country\"},\"tracegroupgap\":0},\"margin\":{\"t\":50,\"l\":50,\"r\":50,\"b\":50},\"scattermode\":\"group\",\"scattergap\":0.5,\"title\":{\"text\":\"Performance by Population Size\",\"y\":0.95,\"x\":0.5,\"xanchor\":\"center\",\"yanchor\":\"top\"},\"font\":{\"family\":\"Arial\",\"size\":12},\"plot_bgcolor\":\"#F9F9F9\",\"hovermode\":\"closest\",\"paper_bgcolor\":\"#F9F9F9\",\"height\":500,\"width\":800},                        {\"responsive\": true}                    ).then(function(){\n",
       "                            \n",
       "var gd = document.getElementById('b4285b62-b500-4287-b14b-d85d9dc63c2d');\n",
       "var x = new MutationObserver(function (mutations, observer) {{\n",
       "        var display = window.getComputedStyle(gd).display;\n",
       "        if (!display || display === 'none') {{\n",
       "            console.log([gd, 'removed!']);\n",
       "            Plotly.purge(gd);\n",
       "            observer.disconnect();\n",
       "        }}\n",
       "}});\n",
       "\n",
       "// Listen for the removal of the full notebook cells\n",
       "var notebookContainer = gd.closest('#notebook-container');\n",
       "if (notebookContainer) {{\n",
       "    x.observe(notebookContainer, {childList: true});\n",
       "}}\n",
       "\n",
       "// Listen for the clearing of the current output cell\n",
       "var outputEl = gd.closest('.output');\n",
       "if (outputEl) {{\n",
       "    x.observe(outputEl, {childList: true});\n",
       "}}\n",
       "\n",
       "                        })                };                });            </script>        </div>"
      ]
     },
     "metadata": {},
     "output_type": "display_data"
    }
   ],
   "source": [
    "# Import necessary libraries\n",
    "import plotly.graph_objs as go\n",
    "import plotly.offline as pyo\n",
    "import plotly.subplots as sp\n",
    "import numpy as np\n",
    "df = pd.read_csv('olympic_data_country_medal_year.csv')\n",
    "# Create figure\n",
    "scatter_plot = go.Figure()\n",
    "\n",
    "# Set default year\n",
    "selected_year = 2016\n",
    "df_year = df[df['Year']==selected_year]\n",
    "# Create two subplots\n",
    "\n",
    "# Add first chart to subplot 1\n",
    "scatter_plot = px.scatter(df_year, y=\"GDP_Per_Capita\", x=\"Y_Capita_Per_Medal\", color=\"Country_Name\", hover_name=\"Country_Name\")\n",
    "scatter_plot.update_traces(marker_size=10, showlegend=True)\n",
    "scatter_plot.update_layout(scattermode=\"group\", scattergap=0.5)\n",
    "\n",
    "\n",
    "# Update layout\n",
    "scatter_plot.update_layout(\n",
    "    title={\n",
    "        'text': \"Performance by Population Size\",\n",
    "        'y':0.95,\n",
    "        'x':0.5,\n",
    "        'xanchor': 'center',\n",
    "        'yanchor': 'top'},\n",
    "    xaxis_title=\"Medals Per Population\",\n",
    "    yaxis_title=\"GDP per Capita\",\n",
    "    legend_title=\"Country\",\n",
    "    font=dict(family=\"Arial\", size=12),\n",
    "    plot_bgcolor=\"#F9F9F9\",\n",
    "    hovermode=\"closest\",\n",
    "    margin=dict(l=50, r=50, t=50, b=50),\n",
    "    paper_bgcolor=\"#F9F9F9\",\n",
    "    height=500,\n",
    "    width=800,\n",
    ")\n",
    "\n",
    "    \n",
    "scatter_plot.show()"
   ]
  },
  {
   "cell_type": "code",
   "execution_count": 16,
   "id": "112bdfd3",
   "metadata": {},
   "outputs": [
    {
     "name": "stderr",
     "output_type": "stream",
     "text": [
      "WARNING:param.main: PlotlyPlot was not imported on instantiation and may not render in a notebook. Restart the notebook kernel and ensure you load it as part of the extension using:\n",
      "\n",
      "pn.extension('plotly')\n",
      "\n"
     ]
    },
    {
     "data": {},
     "metadata": {},
     "output_type": "display_data"
    },
    {
     "data": {
      "application/vnd.holoviews_exec.v0+json": "",
      "text/html": [
       "<div id='1014'>\n",
       "  <div class=\"bk-root\" id=\"d1f86ec7-291b-45a4-a92d-702f372407de\" data-root-id=\"1014\"></div>\n",
       "</div>\n",
       "<script type=\"application/javascript\">(function(root) {\n",
       "  function embed_document(root) {\n",
       "    var docs_json = {\"324db7c3-75f5-4fc2-b6dd-7613b8d5fa91\":{\"defs\":[{\"extends\":null,\"module\":null,\"name\":\"ReactiveHTML1\",\"overrides\":[],\"properties\":[]},{\"extends\":null,\"module\":null,\"name\":\"FlexBox1\",\"overrides\":[],\"properties\":[{\"default\":\"flex-start\",\"kind\":null,\"name\":\"align_content\"},{\"default\":\"flex-start\",\"kind\":null,\"name\":\"align_items\"},{\"default\":\"row\",\"kind\":null,\"name\":\"flex_direction\"},{\"default\":\"wrap\",\"kind\":null,\"name\":\"flex_wrap\"},{\"default\":\"flex-start\",\"kind\":null,\"name\":\"justify_content\"}]},{\"extends\":null,\"module\":null,\"name\":\"GridStack1\",\"overrides\":[],\"properties\":[{\"default\":\"warn\",\"kind\":null,\"name\":\"mode\"},{\"default\":null,\"kind\":null,\"name\":\"ncols\"},{\"default\":null,\"kind\":null,\"name\":\"nrows\"},{\"default\":true,\"kind\":null,\"name\":\"allow_resize\"},{\"default\":true,\"kind\":null,\"name\":\"allow_drag\"},{\"default\":[],\"kind\":null,\"name\":\"state\"}]},{\"extends\":null,\"module\":null,\"name\":\"click1\",\"overrides\":[],\"properties\":[{\"default\":\"\",\"kind\":null,\"name\":\"terminal_output\"},{\"default\":\"\",\"kind\":null,\"name\":\"debug_name\"},{\"default\":0,\"kind\":null,\"name\":\"clears\"}]},{\"extends\":null,\"module\":null,\"name\":\"NotificationAreaBase1\",\"overrides\":[],\"properties\":[{\"default\":\"bottom-right\",\"kind\":null,\"name\":\"position\"},{\"default\":0,\"kind\":null,\"name\":\"_clear\"}]},{\"extends\":null,\"module\":null,\"name\":\"NotificationArea1\",\"overrides\":[],\"properties\":[{\"default\":[],\"kind\":null,\"name\":\"notifications\"},{\"default\":\"bottom-right\",\"kind\":null,\"name\":\"position\"},{\"default\":0,\"kind\":null,\"name\":\"_clear\"},{\"default\":[{\"background\":\"#ffc107\",\"icon\":{\"className\":\"fas fa-exclamation-triangle\",\"color\":\"white\",\"tagName\":\"i\"},\"type\":\"warning\"},{\"background\":\"#007bff\",\"icon\":{\"className\":\"fas fa-info-circle\",\"color\":\"white\",\"tagName\":\"i\"},\"type\":\"info\"}],\"kind\":null,\"name\":\"types\"}]},{\"extends\":null,\"module\":null,\"name\":\"Notification\",\"overrides\":[],\"properties\":[{\"default\":null,\"kind\":null,\"name\":\"background\"},{\"default\":3000,\"kind\":null,\"name\":\"duration\"},{\"default\":null,\"kind\":null,\"name\":\"icon\"},{\"default\":\"\",\"kind\":null,\"name\":\"message\"},{\"default\":null,\"kind\":null,\"name\":\"notification_type\"},{\"default\":false,\"kind\":null,\"name\":\"_destroyed\"}]},{\"extends\":null,\"module\":null,\"name\":\"TemplateActions1\",\"overrides\":[],\"properties\":[{\"default\":0,\"kind\":null,\"name\":\"open_modal\"},{\"default\":0,\"kind\":null,\"name\":\"close_modal\"}]},{\"extends\":null,\"module\":null,\"name\":\"MaterialTemplateActions1\",\"overrides\":[],\"properties\":[{\"default\":0,\"kind\":null,\"name\":\"open_modal\"},{\"default\":0,\"kind\":null,\"name\":\"close_modal\"}]}],\"roots\":{\"references\":[{\"attributes\":{\"children\":[{\"id\":\"1015\"},{\"id\":\"1018\"}],\"margin\":[0,0,0,0],\"name\":\"Column01141\"},\"id\":\"1014\",\"type\":\"Column\"},{\"attributes\":{},\"id\":\"1020\",\"type\":\"Selection\"},{\"attributes\":{},\"id\":\"1022\",\"type\":\"Selection\"},{\"attributes\":{\"client_comm_id\":\"da9c7697bd5d4fcbbce7482ada225797\",\"comm_id\":\"d7e604939b16466a80c96c1becc2b018\",\"plot_id\":\"1014\"},\"id\":\"1031\",\"type\":\"panel.models.comm_manager.CommManager\"},{\"attributes\":{},\"id\":\"1019\",\"type\":\"UnionRenderers\"},{\"attributes\":{\"data\":[{\"coloraxis\":\"coloraxis\",\"geo\":\"geo\",\"hovertemplate\":\"<b>%{hovertext}</b><br><br>Year=1960<br>Country_Code=%{location}<br>Population=%{customdata[0]}<br>GDP=%{z}<br>GDP_Per_Capita=%{customdata[2]}<br>Y_Total=%{customdata[3]}<br>A_Total=%{customdata[4]}<extra></extra>\",\"name\":\"\",\"type\":\"choropleth\"},{\"geo\":\"geo\",\"hovertemplate\":\"Year=1960<br>A_Total=%{customdata[4]}<br>Country_Code=%{location}<br>Population=%{customdata[0]}<br>GDP=%{customdata[1]}<br>GDP_Per_Capita=%{customdata[2]}<br>Y_Total=%{customdata[3]}<extra></extra>\",\"legendgroup\":\"\",\"marker\":{\"color\":\"#636efa\",\"sizemode\":\"area\",\"sizeref\":4.565,\"symbol\":\"circle\"},\"mode\":\"markers\",\"name\":\"\",\"showlegend\":false,\"type\":\"scattergeo\"}],\"data_sources\":[{\"id\":\"1016\"},{\"id\":\"1017\"}],\"frames\":[{\"data\":[{\"coloraxis\":\"coloraxis\",\"customdata\":[[8622466.0,537777811.1537417,62.36937451,0.0,0.0],[20349744.0,0.0,0.0,2.0,2.0],[1904148.0,0.0,0.0,0.0,0.0],[10276477.0,18605666932.112774,1810.510249,22.0,22.0],[7047539.0,6592693841.534399,935.4604269,2.0,2.0],[7047539.0,6592693841.534399,935.4604269,6.0,8.0],[3894500.0,0.0,0.0,0.0,0.0],[8198000.0,0.0,0.0,0.0,0.0],[9153489.0,11658722590.048252,1273.691659,4.0,4.0],[73092515.0,17030465543.012688,232.9987625,2.0,2.0],[85346.0,0.0,0.0,0.0,0.0],[2746628.0,195999990.011329,71.36022425,0.0,0.0],[5117608.0,614206070.7834736,120.0181942,0.0,0.0],[17909356.0,40461721694.68092,2259.250511,1.0,1.0],[17909356.0,40461721694.68092,2259.250511,4.0,5.0],[109186.0,0.0,0.0,0.0,0.0],[667070000.0,59716467625.0757,89.52054151,0.0,0.0],[15687688.0,4031152976.034043,256.9628473,0.0,0.0],[3708661.0,546203561.7163367,147.2778347,0.0,0.0],[7267395.0,0.0,0.0,0.0,0.0],[585725.0,0.0,0.0,0.0,0.0],[9602006.0,0.0,0.0,0.0,0.0],[85940.0,0.0,0.0,0.0,0.0],[3298021.0,672399699.942969,203.8797509,0.0,0.0],[4618158.0,2069465326.3037243,448.1148818,0.0,0.0],[27034499.0,0.0,0.0,0.0,0.0],[993568.0,0.0,0.0,0.0,0.0],[1211537.0,0.0,0.0,0.0,0.0],[21739710.0,0.0,0.0,1.0,1.0],[4429634.0,5224102195.527974,1179.353011,5.0,5.0],[4429634.0,5224102195.527974,1179.353011,8.0,13.0],[46649927.0,62225478007.09517,1333.881573,5.0,5.0],[46649927.0,62225478007.09517,1333.881573,3.0,8.0],[513340.0,141468978.38426602,275.5853399,0.0,0.0],[3645600.0,0.0,0.0,0.0,0.0],[6911510.0,1217086834.8730838,176.0956484,1.0,1.0],[571990.0,170215248.21852198,297.5843078,0.0,0.0],[3114671.0,1320796651.726668,424.0565542,0.0,0.0],[9983967.0,0.0,0.0,21.0,21.0],[175574.0,248434096.897406,1414.982269,0.0,0.0],[445954579.0,37029883874.36023,83.03510182,1.0,1.0],[7084678.0,1684121534.318556,237.7132079,1.0,1.0],[2828600.0,1939329775.49464,685.6147124,0.0,0.0],[2114020.0,2598500000.76696,1229.174748,0.0,0.0],[50199700.0,40385288341.87301,804.4926233,36.0,36.0],[50199700.0,40385288341.87301,804.4926233,1.0,37.0],[1642331.0,699050678.9491714,425.6454265,0.0,0.0],[93216000.0,44307342951.1296,475.3190756,18.0,18.0],[847936.0,0.0,0.0,0.0,0.0],[9319283.0,0.0,0.0,0.0,0.0],[7751435.0,791265458.510006,102.0798676,0.0,0.0],[11655666.0,0.0,0.0,0.0,0.0],[25012374.0,3958824422.86195,158.2746373,0.0,0.0],[2172300.0,0.0,0.0,0.0,0.0],[1798092.0,0.0,0.0,0.0,0.0],[16472.0,0.0,0.0,0.0,0.0],[2778550.0,0.0,0.0,0.0,0.0],[313970.0,703925706.06349,2242.015817,0.0,0.0],[36268055.0,13040000000.177883,359.5450597,1.0,1.0],[2074015.0,0.0,0.0,0.0,0.0],[480579.0,0.0,0.0,0.0,0.0],[11769774.0,2031451031.9556613,172.5989838,1.0,1.0],[6788375.0,0.0,0.0,0.0,0.0],[590181.0,0.0,0.0,0.0,0.0],[2371800.0,5485854791.0256,2312.949992,3.0,3.0],[1462368.0,0.0,0.0,0.0,0.0],[3581239.0,5163271598.06274,1441.75566,1.0,1.0],[3581239.0,5163271598.06274,1441.75566,6.0,7.0],[45954226.0,3749265014.87429,81.5869473,2.0,2.0],[1126989.0,537147099.9837558,476.6214222,0.0,0.0],[10172207.0,2571908062.35624,252.8367799,0.0,0.0],[29637450.0,0.0,0.0,21.0,21.0],[29637450.0,0.0,0.0,2.0,23.0],[36385.0,0.0,0.0,0.0,0.0],[18406905.0,0.0,0.0,10.0,10.0],[119897000.0,0.0,0.0,0.0,0.0],[15556.0,0.0,0.0,0.0,0.0],[3273177.0,1003692374.419082,306.6416434,0.0,0.0],[6608000.0,0.0,0.0,0.0,0.0],[1646400.0,704756304.672,428.05898,1.0,1.0],[4068095.0,0.0,0.0,0.0,0.0],[30455000.0,12072126074.2515,396.3922533,1.0,1.0],[268396.0,99649999.9957168,371.2797508,0.0,0.0],[7484656.0,15822585035.882288,2114.002973,6.0,6.0],[7484656.0,15822585035.882288,2114.002973,7.0,13.0],[4610712.0,857704413.2844864,186.0242872,0.0,0.0],[2131992.0,0.0,0.0,0.0,0.0],[26596584.0,2760747473.087453,103.8008292,0.0,0.0],[847063.0,535670127.7077136,632.3852272,0.0,0.0],[4195467.0,0.0,0.0,0.0,0.0],[27510980.0,13983572893.932936,508.2906132,9.0,9.0],[1602052.0,0.0,0.0,0.0,0.0],[7617746.0,423008385.72853154,55.52933712,0.0,0.0],[42767251.0,0.0,0.0,0.0,0.0],[52400000.0,73233967677.2,1397.594803,20.0,20.0],[180671000.0,543299999931.59503,3007.123445,71.0,71.0],[180671000.0,543299999931.59503,3007.123445,10.0,81.0],[8372311.0,0.0,0.0,0.0,0.0],[8156937.0,7779090909.128915,953.6779442,1.0,1.0]],\"geo\":\"geo\",\"hovertemplate\":\"<b>%{hovertext}</b><br><br>Year=1960<br>Country_Code=%{location}<br>Population=%{customdata[0]}<br>GDP=%{z}<br>GDP_Per_Capita=%{customdata[2]}<br>Y_Total=%{customdata[3]}<br>A_Total=%{customdata[4]}<extra></extra>\",\"hovertext\":[\"Afghanistan\",\"Argentina\",\"Armenia\",\"Australia\",\"Austria\",\"Austria\",\"Azerbaijan\",\"Belarus\",\"Belgium\",\"Brazil\",\"Brunei Darussalam\",\"Burundi\",\"Cameroon\",\"Canada\",\"Canada\",\"Channel Islands\",\"China\",\"Colombia\",\"Cote d'Ivoire\",\"Cuba\",\"Cyprus\",\"Czechia\",\"Djibouti\",\"Dominican Republic\",\"Ecuador\",\"Egypt, Arab Rep.\",\"Eritrea\",\"Estonia\",\"Ethiopia\",\"Finland\",\"Finland\",\"France\",\"France\",\"Gabon\",\"Georgia\",\"Ghana\",\"Guyana\",\"Hong Kong SAR, China\",\"Hungary\",\"Iceland\",\"India\",\"Iraq\",\"Ireland\",\"Israel\",\"Italy\",\"Italy\",\"Jamaica\",\"Japan\",\"Jordan\",\"Kazakhstan\",\"Kenya\",\"Korea, Dem. People's Rep.\",\"Korea, Rep.\",\"Kyrgyz Republic\",\"Lebanon\",\"Liechtenstein\",\"Lithuania\",\"Luxembourg\",\"Mexico\",\"Moldova\",\"Montenegro\",\"Morocco\",\"Mozambique\",\"Namibia\",\"New Zealand\",\"North Macedonia\",\"Norway\",\"Norway\",\"Pakistan\",\"Panama\",\"Peru\",\"Poland\",\"Poland\",\"Qatar\",\"Romania\",\"Russian Federation\",\"San Marino\",\"Senegal\",\"Serbia\",\"Singapore\",\"Slovak Republic\",\"Spain\",\"Suriname\",\"Sweden\",\"Sweden\",\"Syrian Arab Republic\",\"Tajikistan\",\"Thailand\",\"Trinidad and Tobago\",\"Tunisia\",\"Turkiye\",\"Turkmenistan\",\"Uganda\",\"Ukraine\",\"United Kingdom\",\"United States\",\"United States\",\"Uzbekistan\",\"Venezuela, RB\"],\"locations\":[\"AFG\",\"ARG\",\"ARM\",\"AUS\",\"AUT\",\"AUT\",\"AZE\",\"BLR\",\"BEL\",\"BRA\",\"BRN\",\"BDI\",\"CMR\",\"CAN\",\"CAN\",\"CHI\",\"CHN\",\"COL\",\"CIV\",\"CUB\",\"CYP\",\"CZE\",\"DJI\",\"DOM\",\"ECU\",\"EGY\",\"ERI\",\"EST\",\"ETH\",\"FIN\",\"FIN\",\"FRA\",\"FRA\",\"GAB\",\"GEO\",\"GHA\",\"GUY\",\"HKG\",\"HUN\",\"ISL\",\"IND\",\"IRQ\",\"IRL\",\"ISR\",\"ITA\",\"ITA\",\"JAM\",\"JPN\",\"JOR\",\"KAZ\",\"KEN\",\"PRK\",\"KOR\",\"KGZ\",\"LBN\",\"LIE\",\"LTU\",\"LUX\",\"MEX\",\"MDA\",\"MNE\",\"MAR\",\"MOZ\",\"NAM\",\"NZL\",\"MKD\",\"NOR\",\"NOR\",\"PAK\",\"PAN\",\"PER\",\"POL\",\"POL\",\"QAT\",\"ROU\",\"RUS\",\"SMR\",\"SEN\",\"SRB\",\"SGP\",\"SVK\",\"ESP\",\"SUR\",\"SWE\",\"SWE\",\"SYR\",\"TJK\",\"THA\",\"TTO\",\"TUN\",\"TUR\",\"TKM\",\"UGA\",\"UKR\",\"GBR\",\"USA\",\"USA\",\"UZB\",\"VEN\"],\"name\":\"\",\"type\":\"choropleth\",\"z\":[537777811.1537417,0.0,0.0,18605666932.112774,6592693841.534399,6592693841.534399,0.0,0.0,11658722590.048252,17030465543.012688,0.0,195999990.011329,614206070.7834736,40461721694.68092,40461721694.68092,0.0,59716467625.0757,4031152976.034043,546203561.7163367,0.0,0.0,0.0,0.0,672399699.942969,2069465326.3037243,0.0,0.0,0.0,0.0,5224102195.527974,5224102195.527974,62225478007.09517,62225478007.09517,141468978.38426602,0.0,1217086834.8730838,170215248.21852198,1320796651.726668,0.0,248434096.897406,37029883874.36023,1684121534.318556,1939329775.49464,2598500000.76696,40385288341.87301,40385288341.87301,699050678.9491714,44307342951.1296,0.0,0.0,791265458.510006,0.0,3958824422.86195,0.0,0.0,0.0,0.0,703925706.06349,13040000000.177883,0.0,0.0,2031451031.9556613,0.0,0.0,5485854791.0256,0.0,5163271598.06274,5163271598.06274,3749265014.87429,537147099.9837558,2571908062.35624,0.0,0.0,0.0,0.0,0.0,0.0,1003692374.419082,0.0,704756304.672,0.0,12072126074.2515,99649999.9957168,15822585035.882288,15822585035.882288,857704413.2844864,0.0,2760747473.087453,535670127.7077136,0.0,13983572893.932936,0.0,423008385.72853154,0.0,73233967677.2,543299999931.59503,543299999931.59503,0.0,7779090909.128915]},{\"customdata\":[[8622466.0,537777811.1537417,62.36937451,0.0,0.0],[20349744.0,0.0,0.0,2.0,2.0],[1904148.0,0.0,0.0,0.0,0.0],[10276477.0,18605666932.112774,1810.510249,22.0,22.0],[7047539.0,6592693841.534399,935.4604269,2.0,2.0],[7047539.0,6592693841.534399,935.4604269,6.0,8.0],[3894500.0,0.0,0.0,0.0,0.0],[8198000.0,0.0,0.0,0.0,0.0],[9153489.0,11658722590.048252,1273.691659,4.0,4.0],[73092515.0,17030465543.012688,232.9987625,2.0,2.0],[85346.0,0.0,0.0,0.0,0.0],[2746628.0,195999990.011329,71.36022425,0.0,0.0],[5117608.0,614206070.7834736,120.0181942,0.0,0.0],[17909356.0,40461721694.68092,2259.250511,1.0,1.0],[17909356.0,40461721694.68092,2259.250511,4.0,5.0],[109186.0,0.0,0.0,0.0,0.0],[667070000.0,59716467625.0757,89.52054151,0.0,0.0],[15687688.0,4031152976.034043,256.9628473,0.0,0.0],[3708661.0,546203561.7163367,147.2778347,0.0,0.0],[7267395.0,0.0,0.0,0.0,0.0],[585725.0,0.0,0.0,0.0,0.0],[9602006.0,0.0,0.0,0.0,0.0],[85940.0,0.0,0.0,0.0,0.0],[3298021.0,672399699.942969,203.8797509,0.0,0.0],[4618158.0,2069465326.3037243,448.1148818,0.0,0.0],[27034499.0,0.0,0.0,0.0,0.0],[993568.0,0.0,0.0,0.0,0.0],[1211537.0,0.0,0.0,0.0,0.0],[21739710.0,0.0,0.0,1.0,1.0],[4429634.0,5224102195.527974,1179.353011,5.0,5.0],[4429634.0,5224102195.527974,1179.353011,8.0,13.0],[46649927.0,62225478007.09517,1333.881573,5.0,5.0],[46649927.0,62225478007.09517,1333.881573,3.0,8.0],[513340.0,141468978.38426602,275.5853399,0.0,0.0],[3645600.0,0.0,0.0,0.0,0.0],[6911510.0,1217086834.8730838,176.0956484,1.0,1.0],[571990.0,170215248.21852198,297.5843078,0.0,0.0],[3114671.0,1320796651.726668,424.0565542,0.0,0.0],[9983967.0,0.0,0.0,21.0,21.0],[175574.0,248434096.897406,1414.982269,0.0,0.0],[445954579.0,37029883874.36023,83.03510182,1.0,1.0],[7084678.0,1684121534.318556,237.7132079,1.0,1.0],[2828600.0,1939329775.49464,685.6147124,0.0,0.0],[2114020.0,2598500000.76696,1229.174748,0.0,0.0],[50199700.0,40385288341.87301,804.4926233,36.0,36.0],[50199700.0,40385288341.87301,804.4926233,1.0,37.0],[1642331.0,699050678.9491714,425.6454265,0.0,0.0],[93216000.0,44307342951.1296,475.3190756,18.0,18.0],[847936.0,0.0,0.0,0.0,0.0],[9319283.0,0.0,0.0,0.0,0.0],[7751435.0,791265458.510006,102.0798676,0.0,0.0],[11655666.0,0.0,0.0,0.0,0.0],[25012374.0,3958824422.86195,158.2746373,0.0,0.0],[2172300.0,0.0,0.0,0.0,0.0],[1798092.0,0.0,0.0,0.0,0.0],[16472.0,0.0,0.0,0.0,0.0],[2778550.0,0.0,0.0,0.0,0.0],[313970.0,703925706.06349,2242.015817,0.0,0.0],[36268055.0,13040000000.177883,359.5450597,1.0,1.0],[2074015.0,0.0,0.0,0.0,0.0],[480579.0,0.0,0.0,0.0,0.0],[11769774.0,2031451031.9556613,172.5989838,1.0,1.0],[6788375.0,0.0,0.0,0.0,0.0],[590181.0,0.0,0.0,0.0,0.0],[2371800.0,5485854791.0256,2312.949992,3.0,3.0],[1462368.0,0.0,0.0,0.0,0.0],[3581239.0,5163271598.06274,1441.75566,1.0,1.0],[3581239.0,5163271598.06274,1441.75566,6.0,7.0],[45954226.0,3749265014.87429,81.5869473,2.0,2.0],[1126989.0,537147099.9837558,476.6214222,0.0,0.0],[10172207.0,2571908062.35624,252.8367799,0.0,0.0],[29637450.0,0.0,0.0,21.0,21.0],[29637450.0,0.0,0.0,2.0,23.0],[36385.0,0.0,0.0,0.0,0.0],[18406905.0,0.0,0.0,10.0,10.0],[119897000.0,0.0,0.0,0.0,0.0],[15556.0,0.0,0.0,0.0,0.0],[3273177.0,1003692374.419082,306.6416434,0.0,0.0],[6608000.0,0.0,0.0,0.0,0.0],[1646400.0,704756304.672,428.05898,1.0,1.0],[4068095.0,0.0,0.0,0.0,0.0],[30455000.0,12072126074.2515,396.3922533,1.0,1.0],[268396.0,99649999.9957168,371.2797508,0.0,0.0],[7484656.0,15822585035.882288,2114.002973,6.0,6.0],[7484656.0,15822585035.882288,2114.002973,7.0,13.0],[4610712.0,857704413.2844864,186.0242872,0.0,0.0],[2131992.0,0.0,0.0,0.0,0.0],[26596584.0,2760747473.087453,103.8008292,0.0,0.0],[847063.0,535670127.7077136,632.3852272,0.0,0.0],[4195467.0,0.0,0.0,0.0,0.0],[27510980.0,13983572893.932936,508.2906132,9.0,9.0],[1602052.0,0.0,0.0,0.0,0.0],[7617746.0,423008385.72853154,55.52933712,0.0,0.0],[42767251.0,0.0,0.0,0.0,0.0],[52400000.0,73233967677.2,1397.594803,20.0,20.0],[180671000.0,543299999931.59503,3007.123445,71.0,71.0],[180671000.0,543299999931.59503,3007.123445,10.0,81.0],[8372311.0,0.0,0.0,0.0,0.0],[8156937.0,7779090909.128915,953.6779442,1.0,1.0]],\"geo\":\"geo\",\"hovertemplate\":\"Year=1960<br>A_Total=%{customdata[4]}<br>Country_Code=%{location}<br>Population=%{customdata[0]}<br>GDP=%{customdata[1]}<br>GDP_Per_Capita=%{customdata[2]}<br>Y_Total=%{customdata[3]}<extra></extra>\",\"legendgroup\":\"\",\"locations\":[\"AFG\",\"ARG\",\"ARM\",\"AUS\",\"AUT\",\"AUT\",\"AZE\",\"BLR\",\"BEL\",\"BRA\",\"BRN\",\"BDI\",\"CMR\",\"CAN\",\"CAN\",\"CHI\",\"CHN\",\"COL\",\"CIV\",\"CUB\",\"CYP\",\"CZE\",\"DJI\",\"DOM\",\"ECU\",\"EGY\",\"ERI\",\"EST\",\"ETH\",\"FIN\",\"FIN\",\"FRA\",\"FRA\",\"GAB\",\"GEO\",\"GHA\",\"GUY\",\"HKG\",\"HUN\",\"ISL\",\"IND\",\"IRQ\",\"IRL\",\"ISR\",\"ITA\",\"ITA\",\"JAM\",\"JPN\",\"JOR\",\"KAZ\",\"KEN\",\"PRK\",\"KOR\",\"KGZ\",\"LBN\",\"LIE\",\"LTU\",\"LUX\",\"MEX\",\"MDA\",\"MNE\",\"MAR\",\"MOZ\",\"NAM\",\"NZL\",\"MKD\",\"NOR\",\"NOR\",\"PAK\",\"PAN\",\"PER\",\"POL\",\"POL\",\"QAT\",\"ROU\",\"RUS\",\"SMR\",\"SEN\",\"SRB\",\"SGP\",\"SVK\",\"ESP\",\"SUR\",\"SWE\",\"SWE\",\"SYR\",\"TJK\",\"THA\",\"TTO\",\"TUN\",\"TUR\",\"TKM\",\"UGA\",\"UKR\",\"GBR\",\"USA\",\"USA\",\"UZB\",\"VEN\"],\"marker\":{\"color\":\"#636efa\",\"size\":[0.0,2.0,0.0,22.0,2.0,8.0,0.0,0.0,4.0,2.0,0.0,0.0,0.0,1.0,5.0,0.0,0.0,0.0,0.0,0.0,0.0,0.0,0.0,0.0,0.0,0.0,0.0,0.0,1.0,5.0,13.0,5.0,8.0,0.0,0.0,1.0,0.0,0.0,21.0,0.0,1.0,1.0,0.0,0.0,36.0,37.0,0.0,18.0,0.0,0.0,0.0,0.0,0.0,0.0,0.0,0.0,0.0,0.0,1.0,0.0,0.0,1.0,0.0,0.0,3.0,0.0,1.0,7.0,2.0,0.0,0.0,21.0,23.0,0.0,10.0,0.0,0.0,0.0,0.0,1.0,0.0,1.0,0.0,6.0,13.0,0.0,0.0,0.0,0.0,0.0,9.0,0.0,0.0,0.0,20.0,71.0,81.0,0.0,1.0],\"sizemode\":\"area\",\"sizeref\":4.565,\"symbol\":\"circle\"},\"mode\":\"markers\",\"name\":\"\",\"showlegend\":false,\"type\":\"scattergeo\"}],\"name\":\"1960\"},{\"data\":[{\"coloraxis\":\"coloraxis\",\"customdata\":[[9355514.0,800000044.4422827,85.51107341,0.0,0.0],[21708487.0,25605249377.87973,1179.504098,1.0,3.0],[2171029.0,0.0,0.0,0.0,0.0],[11167000.0,23799977595.719,2131.277657,18.0,40.0],[7223801.0,9169983886.487984,1269.412583,12.0,20.0],[4439250.0,0.0,0.0,0.0,0.0],[8524224.0,0.0,0.0,0.0,0.0],[9378113.0,15960106684.957188,1701.846276,3.0,7.0],[82262794.0,20963733692.055317,254.838581,1.0,3.0],[102904.0,0.0,0.0,0.0,0.0],[3033221.0,260750008.00693324,85.96472463,0.0,0.0],[5556209.0,776650126.0667753,139.7805817,0.0,0.0],[19325000.0,49377522896.450005,2555.111146,4.0,9.0],[19325000.0,49377522896.450005,2555.111146,3.0,12.0],[113596.0,0.0,0.0,0.0,0.0],[698355000.0,59708343488.7618,85.49855516,0.0,0.0],[17739754.0,5973366666.883075,336.7220688,0.0,0.0],[4321368.0,921063266.3734128,213.1415946,0.0,0.0],[7902286.0,0.0,0.0,1.0,1.0],[612338.0,0.0,0.0,0.0,0.0],[9727804.0,0.0,0.0,0.0,0.0],[102945.0,0.0,0.0,0.0,0.0],[3752313.0,1025599900.07736,273.32472,0.0,0.0],[5183283.0,2244146868.151272,432.958584,0.0,0.0],[30026648.0,0.0,0.0,0.0,0.0],[1094042.0,0.0,0.0,0.0,0.0],[1277086.0,0.0,0.0,0.0,0.0],[24073696.0,0.0,0.0,1.0,2.0],[4548543.0,7766655084.662334,1707.503938,5.0,18.0],[4548543.0,7766655084.662334,1707.503938,10.0,28.0],[48733997.0,94007851070.0698,1928.999402,15.0,23.0],[48733997.0,94007851070.0698,1928.999402,7.0,30.0],[539830.0,215679855.285889,399.5329183,0.0,0.0],[3870300.0,0.0,0.0,0.0,0.0],[7640196.0,1731092436.965532,226.576967,1.0,2.0],[635957.0,194773376.85854796,306.2681547,0.0,0.0],[3504600.0,2206466461.31868,629.5915258,0.0,0.0],[10119835.0,0.0,0.0,22.0,43.0],[188983.0,434267936.876069,2297.920643,0.0,0.0],[489059309.0,56480289962.1666,115.4876084,1.0,2.0],[7997655.0,2340521142.3782954,292.6509261,0.0,1.0],[2866550.0,2766608945.9406853,965.1354227,1.0,1.0],[2475000.0,3405333333.6000004,1375.892256,0.0,0.0],[51675350.0,63175416995.089005,1222.54454,27.0,64.0],[51675350.0,63175416995.089005,1222.54454,4.0,68.0],[1725181.0,897931401.4046576,520.4853296,0.0,0.0],[96903000.0,81749006377.28549,843.6168785,29.0,47.0],[1029447.0,0.0,0.0,0.0,0.0],[10590934.0,0.0,0.0,0.0,0.0],[9047387.0,998759333.8896496,110.3920208,1.0,1.0],[12787523.0,0.0,0.0,1.0,1.0],[27984155.0,3459032882.8693194,123.6068369,3.0,3.0],[2495300.0,0.0,0.0,0.0,0.0],[2030440.0,0.0,0.0,0.0,0.0],[18058.0,0.0,0.0,0.0,0.0],[2935200.0,0.0,0.0,0.0,0.0],[327750.0,903158754.09675,2755.633117,0.0,0.0],[41333878.0,20079999999.0939,485.80005,1.0,2.0],[2264461.0,0.0,0.0,0.0,0.0],[521753.0,0.0,0.0,0.0,0.0],[13044254.0,2788281742.895567,213.7555542,0.0,1.0],[7363639.0,0.0,0.0,0.0,0.0],[642054.0,0.0,0.0,0.0,0.0],[2585400.0,7274144351.750401,2813.546976,5.0,8.0],[1529507.0,0.0,0.0,0.0,0.0],[3694339.0,7159202707.000146,1937.884614,15.0,22.0],[50552592.0,5204955899.409062,102.9612072,1.0,3.0],[1271461.0,776137499.9573933,610.4296553,0.0,0.0],[11442301.0,4356913869.897317,380.7725273,0.0,0.0],[31139450.0,0.0,0.0,23.0,46.0],[57531.0,0.0,0.0,0.0,0.0],[18919126.0,0.0,0.0,12.0,22.0],[125345000.0,0.0,0.0,0.0,0.0],[16926.0,0.0,0.0,0.0,0.0],[3664599.0,1188930567.625656,324.436744,0.0,0.0],[6765000.0,0.0,0.0,0.0,0.0],[1841600.0,894159153.26112,485.5338582,0.0,1.0],[4327341.0,0.0,0.0,0.0,0.0],[31609195.0,21343844642.431526,675.2416391,0.0,1.0],[310288.0,134399999.997384,433.1459805,0.0,0.0],[7661354.0,22532416746.549244,2941.048899,8.0,21.0],[7661354.0,22532416746.549244,2941.048899,7.0,28.0],[5202846.0,1339494266.935816,257.4541447,0.0,0.0],[2452671.0,0.0,0.0,0.0,0.0],[30013573.0,3889129943.2949896,129.5790389,0.0,0.0],[913399.0,711893367.5891833,779.3892566,3.0,3.0],[4389417.0,0.0,0.0,2.0,2.0],[30612821.0,11177777778.857014,365.1338692,6.0,15.0],[1836621.0,0.0,0.0,0.0,0.0],[8564755.0,589056603.8148122,68.77681893,0.0,0.0],[44941406.0,0.0,0.0,0.0,0.0],[54000000.0,94407558372.0,1748.288118,18.0,38.0],[54000000.0,94407558372.0,1748.288118,1.0,39.0],[191889000.0,685800000048.465,3573.941185,90.0,171.0],[191889000.0,685800000048.465,3573.941185,7.0,178.0],[9758147.0,0.0,0.0,0.0,0.0],[9371333.0,8099318181.545157,864.2653272,0.0,1.0]],\"geo\":\"geo\",\"hovertemplate\":\"<b>%{hovertext}</b><br><br>Year=1964<br>Country_Code=%{location}<br>Population=%{customdata[0]}<br>GDP=%{z}<br>GDP_Per_Capita=%{customdata[2]}<br>Y_Total=%{customdata[3]}<br>A_Total=%{customdata[4]}<extra></extra>\",\"hovertext\":[\"Afghanistan\",\"Argentina\",\"Armenia\",\"Australia\",\"Austria\",\"Azerbaijan\",\"Belarus\",\"Belgium\",\"Brazil\",\"Brunei Darussalam\",\"Burundi\",\"Cameroon\",\"Canada\",\"Canada\",\"Channel Islands\",\"China\",\"Colombia\",\"Cote d'Ivoire\",\"Cuba\",\"Cyprus\",\"Czechia\",\"Djibouti\",\"Dominican Republic\",\"Ecuador\",\"Egypt, Arab Rep.\",\"Eritrea\",\"Estonia\",\"Ethiopia\",\"Finland\",\"Finland\",\"France\",\"France\",\"Gabon\",\"Georgia\",\"Ghana\",\"Guyana\",\"Hong Kong SAR, China\",\"Hungary\",\"Iceland\",\"India\",\"Iraq\",\"Ireland\",\"Israel\",\"Italy\",\"Italy\",\"Jamaica\",\"Japan\",\"Jordan\",\"Kazakhstan\",\"Kenya\",\"Korea, Dem. People's Rep.\",\"Korea, Rep.\",\"Kyrgyz Republic\",\"Lebanon\",\"Liechtenstein\",\"Lithuania\",\"Luxembourg\",\"Mexico\",\"Moldova\",\"Montenegro\",\"Morocco\",\"Mozambique\",\"Namibia\",\"New Zealand\",\"North Macedonia\",\"Norway\",\"Pakistan\",\"Panama\",\"Peru\",\"Poland\",\"Qatar\",\"Romania\",\"Russian Federation\",\"San Marino\",\"Senegal\",\"Serbia\",\"Singapore\",\"Slovak Republic\",\"Spain\",\"Suriname\",\"Sweden\",\"Sweden\",\"Syrian Arab Republic\",\"Tajikistan\",\"Thailand\",\"Trinidad and Tobago\",\"Tunisia\",\"Turkiye\",\"Turkmenistan\",\"Uganda\",\"Ukraine\",\"United Kingdom\",\"United Kingdom\",\"United States\",\"United States\",\"Uzbekistan\",\"Venezuela, RB\"],\"locations\":[\"AFG\",\"ARG\",\"ARM\",\"AUS\",\"AUT\",\"AZE\",\"BLR\",\"BEL\",\"BRA\",\"BRN\",\"BDI\",\"CMR\",\"CAN\",\"CAN\",\"CHI\",\"CHN\",\"COL\",\"CIV\",\"CUB\",\"CYP\",\"CZE\",\"DJI\",\"DOM\",\"ECU\",\"EGY\",\"ERI\",\"EST\",\"ETH\",\"FIN\",\"FIN\",\"FRA\",\"FRA\",\"GAB\",\"GEO\",\"GHA\",\"GUY\",\"HKG\",\"HUN\",\"ISL\",\"IND\",\"IRQ\",\"IRL\",\"ISR\",\"ITA\",\"ITA\",\"JAM\",\"JPN\",\"JOR\",\"KAZ\",\"KEN\",\"PRK\",\"KOR\",\"KGZ\",\"LBN\",\"LIE\",\"LTU\",\"LUX\",\"MEX\",\"MDA\",\"MNE\",\"MAR\",\"MOZ\",\"NAM\",\"NZL\",\"MKD\",\"NOR\",\"PAK\",\"PAN\",\"PER\",\"POL\",\"QAT\",\"ROU\",\"RUS\",\"SMR\",\"SEN\",\"SRB\",\"SGP\",\"SVK\",\"ESP\",\"SUR\",\"SWE\",\"SWE\",\"SYR\",\"TJK\",\"THA\",\"TTO\",\"TUN\",\"TUR\",\"TKM\",\"UGA\",\"UKR\",\"GBR\",\"GBR\",\"USA\",\"USA\",\"UZB\",\"VEN\"],\"name\":\"\",\"type\":\"choropleth\",\"z\":[800000044.4422827,25605249377.87973,0.0,23799977595.719,9169983886.487984,0.0,0.0,15960106684.957188,20963733692.055317,0.0,260750008.00693324,776650126.0667753,49377522896.450005,49377522896.450005,0.0,59708343488.7618,5973366666.883075,921063266.3734128,0.0,0.0,0.0,0.0,1025599900.07736,2244146868.151272,0.0,0.0,0.0,0.0,7766655084.662334,7766655084.662334,94007851070.0698,94007851070.0698,215679855.285889,0.0,1731092436.965532,194773376.85854796,2206466461.31868,0.0,434267936.876069,56480289962.1666,2340521142.3782954,2766608945.9406853,3405333333.6000004,63175416995.089005,63175416995.089005,897931401.4046576,81749006377.28549,0.0,0.0,998759333.8896496,0.0,3459032882.8693194,0.0,0.0,0.0,0.0,903158754.09675,20079999999.0939,0.0,0.0,2788281742.895567,0.0,0.0,7274144351.750401,0.0,7159202707.000146,5204955899.409062,776137499.9573933,4356913869.897317,0.0,0.0,0.0,0.0,0.0,1188930567.625656,0.0,894159153.26112,0.0,21343844642.431526,134399999.997384,22532416746.549244,22532416746.549244,1339494266.935816,0.0,3889129943.2949896,711893367.5891833,0.0,11177777778.857014,0.0,589056603.8148122,0.0,94407558372.0,94407558372.0,685800000048.465,685800000048.465,0.0,8099318181.545157]},{\"customdata\":[[9355514.0,800000044.4422827,85.51107341,0.0,0.0],[21708487.0,25605249377.87973,1179.504098,1.0,3.0],[2171029.0,0.0,0.0,0.0,0.0],[11167000.0,23799977595.719,2131.277657,18.0,40.0],[7223801.0,9169983886.487984,1269.412583,12.0,20.0],[4439250.0,0.0,0.0,0.0,0.0],[8524224.0,0.0,0.0,0.0,0.0],[9378113.0,15960106684.957188,1701.846276,3.0,7.0],[82262794.0,20963733692.055317,254.838581,1.0,3.0],[102904.0,0.0,0.0,0.0,0.0],[3033221.0,260750008.00693324,85.96472463,0.0,0.0],[5556209.0,776650126.0667753,139.7805817,0.0,0.0],[19325000.0,49377522896.450005,2555.111146,4.0,9.0],[19325000.0,49377522896.450005,2555.111146,3.0,12.0],[113596.0,0.0,0.0,0.0,0.0],[698355000.0,59708343488.7618,85.49855516,0.0,0.0],[17739754.0,5973366666.883075,336.7220688,0.0,0.0],[4321368.0,921063266.3734128,213.1415946,0.0,0.0],[7902286.0,0.0,0.0,1.0,1.0],[612338.0,0.0,0.0,0.0,0.0],[9727804.0,0.0,0.0,0.0,0.0],[102945.0,0.0,0.0,0.0,0.0],[3752313.0,1025599900.07736,273.32472,0.0,0.0],[5183283.0,2244146868.151272,432.958584,0.0,0.0],[30026648.0,0.0,0.0,0.0,0.0],[1094042.0,0.0,0.0,0.0,0.0],[1277086.0,0.0,0.0,0.0,0.0],[24073696.0,0.0,0.0,1.0,2.0],[4548543.0,7766655084.662334,1707.503938,5.0,18.0],[4548543.0,7766655084.662334,1707.503938,10.0,28.0],[48733997.0,94007851070.0698,1928.999402,15.0,23.0],[48733997.0,94007851070.0698,1928.999402,7.0,30.0],[539830.0,215679855.285889,399.5329183,0.0,0.0],[3870300.0,0.0,0.0,0.0,0.0],[7640196.0,1731092436.965532,226.576967,1.0,2.0],[635957.0,194773376.85854796,306.2681547,0.0,0.0],[3504600.0,2206466461.31868,629.5915258,0.0,0.0],[10119835.0,0.0,0.0,22.0,43.0],[188983.0,434267936.876069,2297.920643,0.0,0.0],[489059309.0,56480289962.1666,115.4876084,1.0,2.0],[7997655.0,2340521142.3782954,292.6509261,0.0,1.0],[2866550.0,2766608945.9406853,965.1354227,1.0,1.0],[2475000.0,3405333333.6000004,1375.892256,0.0,0.0],[51675350.0,63175416995.089005,1222.54454,27.0,64.0],[51675350.0,63175416995.089005,1222.54454,4.0,68.0],[1725181.0,897931401.4046576,520.4853296,0.0,0.0],[96903000.0,81749006377.28549,843.6168785,29.0,47.0],[1029447.0,0.0,0.0,0.0,0.0],[10590934.0,0.0,0.0,0.0,0.0],[9047387.0,998759333.8896496,110.3920208,1.0,1.0],[12787523.0,0.0,0.0,1.0,1.0],[27984155.0,3459032882.8693194,123.6068369,3.0,3.0],[2495300.0,0.0,0.0,0.0,0.0],[2030440.0,0.0,0.0,0.0,0.0],[18058.0,0.0,0.0,0.0,0.0],[2935200.0,0.0,0.0,0.0,0.0],[327750.0,903158754.09675,2755.633117,0.0,0.0],[41333878.0,20079999999.0939,485.80005,1.0,2.0],[2264461.0,0.0,0.0,0.0,0.0],[521753.0,0.0,0.0,0.0,0.0],[13044254.0,2788281742.895567,213.7555542,0.0,1.0],[7363639.0,0.0,0.0,0.0,0.0],[642054.0,0.0,0.0,0.0,0.0],[2585400.0,7274144351.750401,2813.546976,5.0,8.0],[1529507.0,0.0,0.0,0.0,0.0],[3694339.0,7159202707.000146,1937.884614,15.0,22.0],[50552592.0,5204955899.409062,102.9612072,1.0,3.0],[1271461.0,776137499.9573933,610.4296553,0.0,0.0],[11442301.0,4356913869.897317,380.7725273,0.0,0.0],[31139450.0,0.0,0.0,23.0,46.0],[57531.0,0.0,0.0,0.0,0.0],[18919126.0,0.0,0.0,12.0,22.0],[125345000.0,0.0,0.0,0.0,0.0],[16926.0,0.0,0.0,0.0,0.0],[3664599.0,1188930567.625656,324.436744,0.0,0.0],[6765000.0,0.0,0.0,0.0,0.0],[1841600.0,894159153.26112,485.5338582,0.0,1.0],[4327341.0,0.0,0.0,0.0,0.0],[31609195.0,21343844642.431526,675.2416391,0.0,1.0],[310288.0,134399999.997384,433.1459805,0.0,0.0],[7661354.0,22532416746.549244,2941.048899,8.0,21.0],[7661354.0,22532416746.549244,2941.048899,7.0,28.0],[5202846.0,1339494266.935816,257.4541447,0.0,0.0],[2452671.0,0.0,0.0,0.0,0.0],[30013573.0,3889129943.2949896,129.5790389,0.0,0.0],[913399.0,711893367.5891833,779.3892566,3.0,3.0],[4389417.0,0.0,0.0,2.0,2.0],[30612821.0,11177777778.857014,365.1338692,6.0,15.0],[1836621.0,0.0,0.0,0.0,0.0],[8564755.0,589056603.8148122,68.77681893,0.0,0.0],[44941406.0,0.0,0.0,0.0,0.0],[54000000.0,94407558372.0,1748.288118,18.0,38.0],[54000000.0,94407558372.0,1748.288118,1.0,39.0],[191889000.0,685800000048.465,3573.941185,90.0,171.0],[191889000.0,685800000048.465,3573.941185,7.0,178.0],[9758147.0,0.0,0.0,0.0,0.0],[9371333.0,8099318181.545157,864.2653272,0.0,1.0]],\"geo\":\"geo\",\"hovertemplate\":\"Year=1964<br>A_Total=%{customdata[4]}<br>Country_Code=%{location}<br>Population=%{customdata[0]}<br>GDP=%{customdata[1]}<br>GDP_Per_Capita=%{customdata[2]}<br>Y_Total=%{customdata[3]}<extra></extra>\",\"legendgroup\":\"\",\"locations\":[\"AFG\",\"ARG\",\"ARM\",\"AUS\",\"AUT\",\"AZE\",\"BLR\",\"BEL\",\"BRA\",\"BRN\",\"BDI\",\"CMR\",\"CAN\",\"CAN\",\"CHI\",\"CHN\",\"COL\",\"CIV\",\"CUB\",\"CYP\",\"CZE\",\"DJI\",\"DOM\",\"ECU\",\"EGY\",\"ERI\",\"EST\",\"ETH\",\"FIN\",\"FIN\",\"FRA\",\"FRA\",\"GAB\",\"GEO\",\"GHA\",\"GUY\",\"HKG\",\"HUN\",\"ISL\",\"IND\",\"IRQ\",\"IRL\",\"ISR\",\"ITA\",\"ITA\",\"JAM\",\"JPN\",\"JOR\",\"KAZ\",\"KEN\",\"PRK\",\"KOR\",\"KGZ\",\"LBN\",\"LIE\",\"LTU\",\"LUX\",\"MEX\",\"MDA\",\"MNE\",\"MAR\",\"MOZ\",\"NAM\",\"NZL\",\"MKD\",\"NOR\",\"PAK\",\"PAN\",\"PER\",\"POL\",\"QAT\",\"ROU\",\"RUS\",\"SMR\",\"SEN\",\"SRB\",\"SGP\",\"SVK\",\"ESP\",\"SUR\",\"SWE\",\"SWE\",\"SYR\",\"TJK\",\"THA\",\"TTO\",\"TUN\",\"TUR\",\"TKM\",\"UGA\",\"UKR\",\"GBR\",\"GBR\",\"USA\",\"USA\",\"UZB\",\"VEN\"],\"marker\":{\"color\":\"#636efa\",\"size\":[0.0,3.0,0.0,40.0,20.0,0.0,0.0,7.0,3.0,0.0,0.0,0.0,9.0,12.0,0.0,0.0,0.0,0.0,1.0,0.0,0.0,0.0,0.0,0.0,0.0,0.0,0.0,2.0,18.0,28.0,23.0,30.0,0.0,0.0,2.0,0.0,0.0,43.0,0.0,2.0,1.0,1.0,0.0,64.0,68.0,0.0,47.0,0.0,0.0,1.0,1.0,3.0,0.0,0.0,0.0,0.0,0.0,2.0,0.0,0.0,1.0,0.0,0.0,8.0,0.0,22.0,3.0,0.0,0.0,46.0,0.0,22.0,0.0,0.0,0.0,0.0,1.0,0.0,1.0,0.0,21.0,28.0,0.0,0.0,0.0,3.0,2.0,15.0,0.0,0.0,0.0,38.0,39.0,171.0,178.0,0.0,1.0],\"sizemode\":\"area\",\"sizeref\":4.565,\"symbol\":\"circle\"},\"mode\":\"markers\",\"name\":\"\",\"showlegend\":false,\"type\":\"scattergeo\"}],\"name\":\"1964\"},{\"data\":[{\"coloraxis\":\"coloraxis\",\"customdata\":[[10247780.0,1373333366.729374,134.0127683,0.0,0.0],[23112971.0,26436857251.861588,1143.810428,2.0,5.0],[2416461.0,0.0,0.0,0.0,0.0],[12009000.0,32712509803.356,2723.999484,17.0,57.0],[7415403.0,12440625312.551785,1677.673528,4.0,24.0],[7415403.0,12440625312.551785,1677.673528,11.0,35.0],[4948500.0,0.0,0.0,0.0,0.0],[8874552.0,0.0,0.0,0.0,0.0],[9618756.0,21376353118.100315,2222.361511,2.0,9.0],[91659246.0,33930457429.557503,370.1804118,3.0,6.0],[122764.0,160819286.54434398,1309.987346,0.0,0.0],[3352397.0,183200000.00323495,54.64746568,0.0,0.0],[6127193.0,1046191192.4069402,170.7455914,1.0,1.0],[20744000.0,71829810520.768,3462.678872,5.0,17.0],[20744000.0,71829810520.768,3462.678872,3.0,20.0],[118707.0,0.0,0.0,0.0,0.0],[774510000.0,70846535058.2781,91.47271831,0.0,0.0],[19872503.0,5960212869.617565,299.9226051,0.0,0.0],[5050106.0,1281281245.8107088,253.7137331,0.0,0.0],[8550286.0,0.0,0.0,4.0,5.0],[632452.0,0.0,0.0,0.0,0.0],[9876346.0,0.0,0.0,0.0,0.0],[127668.0,0.0,0.0,0.0,0.0],[4230877.0,1079100000.0352187,255.0535031,0.0,0.0],[5825663.0,2582180794.3674016,443.2423905,0.0,0.0],[33204629.0,5932242989.352932,178.657108,0.0,0.0],[1209602.0,0.0,0.0,0.0,0.0],[1331214.0,0.0,0.0,0.0,0.0],[26778653.0,0.0,0.0,2.0,4.0],[4626469.0,8823033879.512568,1907.077272,4.0,32.0],[4626469.0,8823033879.512568,1907.077272,5.0,37.0],[50817020.0,129785441493.24786,2553.975843,15.0,45.0],[50817020.0,129785441493.24786,2553.975843,9.0,54.0],[573611.0,294468564.5488233,513.3593403,0.0,0.0],[4042300.0,0.0,0.0,0.0,0.0],[8418152.0,1666910166.3215911,198.0137881,0.0,2.0],[685887.0,229749999.97219712,334.9677133,0.0,0.0],[3802700.0,2716964388.49792,714.4829696,0.0,0.0],[10255815.0,0.0,0.0,32.0,75.0],[201488.0,474399471.680176,2354.480027,0.0,0.0],[533431909.0,53085455869.13175,99.51683612,1.0,3.0],[9156132.0,2896947633.3238764,316.3942627,0.0,1.0],[2915550.0,3278584478.0898004,1124.516636,0.0,1.0],[2803000.0,4618999999.022,1647.877274,0.0,0.0],[53235750.0,87942231689.12775,1651.939377,16.0,84.0],[53235750.0,87942231689.12775,1651.939377,4.0,88.0],[1812209.0,1083883355.283703,598.1006359,1.0,1.0],[101011000.0,146601072717.733,1451.337703,25.0,72.0],[1366644.0,561187342.4549088,410.6316952,0.0,0.0],[11777849.0,0.0,0.0,0.0,0.0],[10613877.0,1353295457.3562756,127.5024628,9.0,10.0],[14216305.0,0.0,0.0,0.0,1.0],[30838302.0,6119284293.975996,198.431298,2.0,5.0],[2818300.0,0.0,0.0,0.0,0.0],[2262291.0,0.0,0.0,0.0,0.0],[20011.0,0.0,0.0,0.0,0.0],[3078850.0,0.0,0.0,0.0,0.0],[335850.0,1066447130.87865,3175.367369,0.0,0.0],[47170337.0,29359999997.824368,622.4250634,9.0,11.0],[2400264.0,0.0,0.0,0.0,0.0],[517481.0,0.0,0.0,0.0,0.0],[14490077.0,3256630434.4916315,224.7490082,0.0,1.0],[8035529.0,0.0,0.0,0.0,0.0],[712427.0,0.0,0.0,0.0,0.0],[2748100.0,5180597621.3112,1885.156152,3.0,11.0],[1610537.0,0.0,0.0,0.0,0.0],[3816486.0,10159934138.57311,2662.117492,2.0,24.0],[3816486.0,10159934138.57311,2662.117492,14.0,38.0],[56124743.0,8041999161.0853,143.2879463,1.0,4.0],[1432255.0,1112791100.021667,776.9504034,0.0,0.0],[12843249.0,5736083835.226761,446.622489,0.0,0.0],[32294655.0,0.0,0.0,18.0,64.0],[93022.0,0.0,0.0,0.0,0.0],[19799831.0,0.0,0.0,15.0,37.0],[19799831.0,0.0,0.0,1.0,38.0],[128928000.0,0.0,0.0,0.0,0.0],[18291.0,0.0,0.0,0.0,0.0],[4117659.0,1309384830.2638197,317.9925366,0.0,0.0],[6915000.0,0.0,0.0,0.0,0.0],[2012000.0,1425715405.798,708.6060665,0.0,1.0],[4483915.0,0.0,0.0,0.0,0.0],[33113134.0,31475548481.617043,950.5457406,0.0,1.0],[355468.0,241349999.9992132,678.9640699,0.0,0.0],[7912273.0,31066819925.56927,3926.409001,4.0,32.0],[7912273.0,31066819925.56927,3926.409001,8.0,40.0],[5912715.0,1562303429.325513,264.2277582,0.0,0.0],[2806566.0,0.0,0.0,0.0,0.0],[33807357.0,6081009427.02609,179.87237,0.0,0.0],[967699.0,758899949.9675813,784.2314087,0.0,3.0],[4785003.0,1214666666.636022,253.848674,2.0,4.0],[33884075.0,17499999999.679672,516.4668063,2.0,17.0],[2078581.0,0.0,0.0,0.0,0.0],[9696370.0,1037815126.136117,107.0313041,2.0,2.0],[46635196.0,0.0,0.0,0.0,0.0],[55211700.0,107759910074.7732,1951.758596,13.0,52.0],[200706000.0,942499999913.34,4695.92339,107.0,285.0],[200706000.0,942499999913.34,4695.92339,7.0,292.0],[11261600.0,0.0,0.0,0.0,0.0],[10672654.0,10034444444.901417,940.2014199,1.0,2.0]],\"geo\":\"geo\",\"hovertemplate\":\"<b>%{hovertext}</b><br><br>Year=1968<br>Country_Code=%{location}<br>Population=%{customdata[0]}<br>GDP=%{z}<br>GDP_Per_Capita=%{customdata[2]}<br>Y_Total=%{customdata[3]}<br>A_Total=%{customdata[4]}<extra></extra>\",\"hovertext\":[\"Afghanistan\",\"Argentina\",\"Armenia\",\"Australia\",\"Austria\",\"Austria\",\"Azerbaijan\",\"Belarus\",\"Belgium\",\"Brazil\",\"Brunei Darussalam\",\"Burundi\",\"Cameroon\",\"Canada\",\"Canada\",\"Channel Islands\",\"China\",\"Colombia\",\"Cote d'Ivoire\",\"Cuba\",\"Cyprus\",\"Czechia\",\"Djibouti\",\"Dominican Republic\",\"Ecuador\",\"Egypt, Arab Rep.\",\"Eritrea\",\"Estonia\",\"Ethiopia\",\"Finland\",\"Finland\",\"France\",\"France\",\"Gabon\",\"Georgia\",\"Ghana\",\"Guyana\",\"Hong Kong SAR, China\",\"Hungary\",\"Iceland\",\"India\",\"Iraq\",\"Ireland\",\"Israel\",\"Italy\",\"Italy\",\"Jamaica\",\"Japan\",\"Jordan\",\"Kazakhstan\",\"Kenya\",\"Korea, Dem. People's Rep.\",\"Korea, Rep.\",\"Kyrgyz Republic\",\"Lebanon\",\"Liechtenstein\",\"Lithuania\",\"Luxembourg\",\"Mexico\",\"Moldova\",\"Montenegro\",\"Morocco\",\"Mozambique\",\"Namibia\",\"New Zealand\",\"North Macedonia\",\"Norway\",\"Norway\",\"Pakistan\",\"Panama\",\"Peru\",\"Poland\",\"Qatar\",\"Romania\",\"Romania\",\"Russian Federation\",\"San Marino\",\"Senegal\",\"Serbia\",\"Singapore\",\"Slovak Republic\",\"Spain\",\"Suriname\",\"Sweden\",\"Sweden\",\"Syrian Arab Republic\",\"Tajikistan\",\"Thailand\",\"Trinidad and Tobago\",\"Tunisia\",\"Turkiye\",\"Turkmenistan\",\"Uganda\",\"Ukraine\",\"United Kingdom\",\"United States\",\"United States\",\"Uzbekistan\",\"Venezuela, RB\"],\"locations\":[\"AFG\",\"ARG\",\"ARM\",\"AUS\",\"AUT\",\"AUT\",\"AZE\",\"BLR\",\"BEL\",\"BRA\",\"BRN\",\"BDI\",\"CMR\",\"CAN\",\"CAN\",\"CHI\",\"CHN\",\"COL\",\"CIV\",\"CUB\",\"CYP\",\"CZE\",\"DJI\",\"DOM\",\"ECU\",\"EGY\",\"ERI\",\"EST\",\"ETH\",\"FIN\",\"FIN\",\"FRA\",\"FRA\",\"GAB\",\"GEO\",\"GHA\",\"GUY\",\"HKG\",\"HUN\",\"ISL\",\"IND\",\"IRQ\",\"IRL\",\"ISR\",\"ITA\",\"ITA\",\"JAM\",\"JPN\",\"JOR\",\"KAZ\",\"KEN\",\"PRK\",\"KOR\",\"KGZ\",\"LBN\",\"LIE\",\"LTU\",\"LUX\",\"MEX\",\"MDA\",\"MNE\",\"MAR\",\"MOZ\",\"NAM\",\"NZL\",\"MKD\",\"NOR\",\"NOR\",\"PAK\",\"PAN\",\"PER\",\"POL\",\"QAT\",\"ROU\",\"ROU\",\"RUS\",\"SMR\",\"SEN\",\"SRB\",\"SGP\",\"SVK\",\"ESP\",\"SUR\",\"SWE\",\"SWE\",\"SYR\",\"TJK\",\"THA\",\"TTO\",\"TUN\",\"TUR\",\"TKM\",\"UGA\",\"UKR\",\"GBR\",\"USA\",\"USA\",\"UZB\",\"VEN\"],\"name\":\"\",\"type\":\"choropleth\",\"z\":[1373333366.729374,26436857251.861588,0.0,32712509803.356,12440625312.551785,12440625312.551785,0.0,0.0,21376353118.100315,33930457429.557503,160819286.54434398,183200000.00323495,1046191192.4069402,71829810520.768,71829810520.768,0.0,70846535058.2781,5960212869.617565,1281281245.8107088,0.0,0.0,0.0,0.0,1079100000.0352187,2582180794.3674016,5932242989.352932,0.0,0.0,0.0,8823033879.512568,8823033879.512568,129785441493.24786,129785441493.24786,294468564.5488233,0.0,1666910166.3215911,229749999.97219712,2716964388.49792,0.0,474399471.680176,53085455869.13175,2896947633.3238764,3278584478.0898004,4618999999.022,87942231689.12775,87942231689.12775,1083883355.283703,146601072717.733,561187342.4549088,0.0,1353295457.3562756,0.0,6119284293.975996,0.0,0.0,0.0,0.0,1066447130.87865,29359999997.824368,0.0,0.0,3256630434.4916315,0.0,0.0,5180597621.3112,0.0,10159934138.57311,10159934138.57311,8041999161.0853,1112791100.021667,5736083835.226761,0.0,0.0,0.0,0.0,0.0,0.0,1309384830.2638197,0.0,1425715405.798,0.0,31475548481.617043,241349999.9992132,31066819925.56927,31066819925.56927,1562303429.325513,0.0,6081009427.02609,758899949.9675813,1214666666.636022,17499999999.679672,0.0,1037815126.136117,0.0,107759910074.7732,942499999913.34,942499999913.34,0.0,10034444444.901417]},{\"customdata\":[[10247780.0,1373333366.729374,134.0127683,0.0,0.0],[23112971.0,26436857251.861588,1143.810428,2.0,5.0],[2416461.0,0.0,0.0,0.0,0.0],[12009000.0,32712509803.356,2723.999484,17.0,57.0],[7415403.0,12440625312.551785,1677.673528,4.0,24.0],[7415403.0,12440625312.551785,1677.673528,11.0,35.0],[4948500.0,0.0,0.0,0.0,0.0],[8874552.0,0.0,0.0,0.0,0.0],[9618756.0,21376353118.100315,2222.361511,2.0,9.0],[91659246.0,33930457429.557503,370.1804118,3.0,6.0],[122764.0,160819286.54434398,1309.987346,0.0,0.0],[3352397.0,183200000.00323495,54.64746568,0.0,0.0],[6127193.0,1046191192.4069402,170.7455914,1.0,1.0],[20744000.0,71829810520.768,3462.678872,5.0,17.0],[20744000.0,71829810520.768,3462.678872,3.0,20.0],[118707.0,0.0,0.0,0.0,0.0],[774510000.0,70846535058.2781,91.47271831,0.0,0.0],[19872503.0,5960212869.617565,299.9226051,0.0,0.0],[5050106.0,1281281245.8107088,253.7137331,0.0,0.0],[8550286.0,0.0,0.0,4.0,5.0],[632452.0,0.0,0.0,0.0,0.0],[9876346.0,0.0,0.0,0.0,0.0],[127668.0,0.0,0.0,0.0,0.0],[4230877.0,1079100000.0352187,255.0535031,0.0,0.0],[5825663.0,2582180794.3674016,443.2423905,0.0,0.0],[33204629.0,5932242989.352932,178.657108,0.0,0.0],[1209602.0,0.0,0.0,0.0,0.0],[1331214.0,0.0,0.0,0.0,0.0],[26778653.0,0.0,0.0,2.0,4.0],[4626469.0,8823033879.512568,1907.077272,4.0,32.0],[4626469.0,8823033879.512568,1907.077272,5.0,37.0],[50817020.0,129785441493.24786,2553.975843,15.0,45.0],[50817020.0,129785441493.24786,2553.975843,9.0,54.0],[573611.0,294468564.5488233,513.3593403,0.0,0.0],[4042300.0,0.0,0.0,0.0,0.0],[8418152.0,1666910166.3215911,198.0137881,0.0,2.0],[685887.0,229749999.97219712,334.9677133,0.0,0.0],[3802700.0,2716964388.49792,714.4829696,0.0,0.0],[10255815.0,0.0,0.0,32.0,75.0],[201488.0,474399471.680176,2354.480027,0.0,0.0],[533431909.0,53085455869.13175,99.51683612,1.0,3.0],[9156132.0,2896947633.3238764,316.3942627,0.0,1.0],[2915550.0,3278584478.0898004,1124.516636,0.0,1.0],[2803000.0,4618999999.022,1647.877274,0.0,0.0],[53235750.0,87942231689.12775,1651.939377,16.0,84.0],[53235750.0,87942231689.12775,1651.939377,4.0,88.0],[1812209.0,1083883355.283703,598.1006359,1.0,1.0],[101011000.0,146601072717.733,1451.337703,25.0,72.0],[1366644.0,561187342.4549088,410.6316952,0.0,0.0],[11777849.0,0.0,0.0,0.0,0.0],[10613877.0,1353295457.3562756,127.5024628,9.0,10.0],[14216305.0,0.0,0.0,0.0,1.0],[30838302.0,6119284293.975996,198.431298,2.0,5.0],[2818300.0,0.0,0.0,0.0,0.0],[2262291.0,0.0,0.0,0.0,0.0],[20011.0,0.0,0.0,0.0,0.0],[3078850.0,0.0,0.0,0.0,0.0],[335850.0,1066447130.87865,3175.367369,0.0,0.0],[47170337.0,29359999997.824368,622.4250634,9.0,11.0],[2400264.0,0.0,0.0,0.0,0.0],[517481.0,0.0,0.0,0.0,0.0],[14490077.0,3256630434.4916315,224.7490082,0.0,1.0],[8035529.0,0.0,0.0,0.0,0.0],[712427.0,0.0,0.0,0.0,0.0],[2748100.0,5180597621.3112,1885.156152,3.0,11.0],[1610537.0,0.0,0.0,0.0,0.0],[3816486.0,10159934138.57311,2662.117492,2.0,24.0],[3816486.0,10159934138.57311,2662.117492,14.0,38.0],[56124743.0,8041999161.0853,143.2879463,1.0,4.0],[1432255.0,1112791100.021667,776.9504034,0.0,0.0],[12843249.0,5736083835.226761,446.622489,0.0,0.0],[32294655.0,0.0,0.0,18.0,64.0],[93022.0,0.0,0.0,0.0,0.0],[19799831.0,0.0,0.0,15.0,37.0],[19799831.0,0.0,0.0,1.0,38.0],[128928000.0,0.0,0.0,0.0,0.0],[18291.0,0.0,0.0,0.0,0.0],[4117659.0,1309384830.2638197,317.9925366,0.0,0.0],[6915000.0,0.0,0.0,0.0,0.0],[2012000.0,1425715405.798,708.6060665,0.0,1.0],[4483915.0,0.0,0.0,0.0,0.0],[33113134.0,31475548481.617043,950.5457406,0.0,1.0],[355468.0,241349999.9992132,678.9640699,0.0,0.0],[7912273.0,31066819925.56927,3926.409001,4.0,32.0],[7912273.0,31066819925.56927,3926.409001,8.0,40.0],[5912715.0,1562303429.325513,264.2277582,0.0,0.0],[2806566.0,0.0,0.0,0.0,0.0],[33807357.0,6081009427.02609,179.87237,0.0,0.0],[967699.0,758899949.9675813,784.2314087,0.0,3.0],[4785003.0,1214666666.636022,253.848674,2.0,4.0],[33884075.0,17499999999.679672,516.4668063,2.0,17.0],[2078581.0,0.0,0.0,0.0,0.0],[9696370.0,1037815126.136117,107.0313041,2.0,2.0],[46635196.0,0.0,0.0,0.0,0.0],[55211700.0,107759910074.7732,1951.758596,13.0,52.0],[200706000.0,942499999913.34,4695.92339,107.0,285.0],[200706000.0,942499999913.34,4695.92339,7.0,292.0],[11261600.0,0.0,0.0,0.0,0.0],[10672654.0,10034444444.901417,940.2014199,1.0,2.0]],\"geo\":\"geo\",\"hovertemplate\":\"Year=1968<br>A_Total=%{customdata[4]}<br>Country_Code=%{location}<br>Population=%{customdata[0]}<br>GDP=%{customdata[1]}<br>GDP_Per_Capita=%{customdata[2]}<br>Y_Total=%{customdata[3]}<extra></extra>\",\"legendgroup\":\"\",\"locations\":[\"AFG\",\"ARG\",\"ARM\",\"AUS\",\"AUT\",\"AUT\",\"AZE\",\"BLR\",\"BEL\",\"BRA\",\"BRN\",\"BDI\",\"CMR\",\"CAN\",\"CAN\",\"CHI\",\"CHN\",\"COL\",\"CIV\",\"CUB\",\"CYP\",\"CZE\",\"DJI\",\"DOM\",\"ECU\",\"EGY\",\"ERI\",\"EST\",\"ETH\",\"FIN\",\"FIN\",\"FRA\",\"FRA\",\"GAB\",\"GEO\",\"GHA\",\"GUY\",\"HKG\",\"HUN\",\"ISL\",\"IND\",\"IRQ\",\"IRL\",\"ISR\",\"ITA\",\"ITA\",\"JAM\",\"JPN\",\"JOR\",\"KAZ\",\"KEN\",\"PRK\",\"KOR\",\"KGZ\",\"LBN\",\"LIE\",\"LTU\",\"LUX\",\"MEX\",\"MDA\",\"MNE\",\"MAR\",\"MOZ\",\"NAM\",\"NZL\",\"MKD\",\"NOR\",\"NOR\",\"PAK\",\"PAN\",\"PER\",\"POL\",\"QAT\",\"ROU\",\"ROU\",\"RUS\",\"SMR\",\"SEN\",\"SRB\",\"SGP\",\"SVK\",\"ESP\",\"SUR\",\"SWE\",\"SWE\",\"SYR\",\"TJK\",\"THA\",\"TTO\",\"TUN\",\"TUR\",\"TKM\",\"UGA\",\"UKR\",\"GBR\",\"USA\",\"USA\",\"UZB\",\"VEN\"],\"marker\":{\"color\":\"#636efa\",\"size\":[0.0,5.0,0.0,57.0,24.0,35.0,0.0,0.0,9.0,6.0,0.0,0.0,1.0,17.0,20.0,0.0,0.0,0.0,0.0,5.0,0.0,0.0,0.0,0.0,0.0,0.0,0.0,0.0,4.0,32.0,37.0,45.0,54.0,0.0,0.0,2.0,0.0,0.0,75.0,0.0,3.0,1.0,1.0,0.0,84.0,88.0,1.0,72.0,0.0,0.0,10.0,1.0,5.0,0.0,0.0,0.0,0.0,0.0,11.0,0.0,0.0,1.0,0.0,0.0,11.0,0.0,24.0,38.0,4.0,0.0,0.0,64.0,0.0,37.0,38.0,0.0,0.0,0.0,0.0,1.0,0.0,1.0,0.0,32.0,40.0,0.0,0.0,0.0,3.0,4.0,17.0,0.0,2.0,0.0,52.0,285.0,292.0,0.0,2.0],\"sizemode\":\"area\",\"sizeref\":4.565,\"symbol\":\"circle\"},\"mode\":\"markers\",\"name\":\"\",\"showlegend\":false,\"type\":\"scattergeo\"}],\"name\":\"1968\"},{\"data\":[{\"coloraxis\":\"coloraxis\",\"customdata\":[[11286753.0,1595555475.565492,141.3653223,0.0,0.0],[24612794.0,34733000528.63922,1411.176664,1.0,6.0],[2648048.0,0.0,0.0,0.0,0.0],[13177000.0,52042056069.811005,3949.461643,17.0,74.0],[7544201.0,22059612477.00068,2924.048879,3.0,38.0],[7544201.0,22059612477.00068,2924.048879,5.0,43.0],[5391450.0,0.0,0.0,0.0,0.0],[9188968.0,0.0,0.0,0.0,0.0],[9711115.0,37209418018.5685,3831.6319,2.0,11.0],[101194394.0,58434858371.32246,577.4515372,2.0,8.0],[143886.0,270818555.79042,1882.17447,0.0,0.0],[3579195.0,246804571.42875928,68.95532974,0.0,0.0],[6809468.0,1498252049.9855888,220.0248316,0.0,1.0],[22218463.0,113082820485.83464,5089.587902,5.0,25.0],[22218463.0,113082820485.83464,5089.587902,1.0,26.0],[123348.0,0.0,0.0,0.0,0.0],[862030000.0,113687586261.236,131.8835612,0.0,0.0],[21898055.0,8671358732.444626,395.9876223,3.0,3.0],[5979984.0,1849400599.7217312,309.2651418,0.0,0.0],[9169289.0,8135150891.481436,887.2171977,8.0,13.0],[647620.0,0.0,0.0,0.0,0.0],[9867632.0,0.0,0.0,0.0,0.0],[165234.0,0.0,0.0,0.0,0.0],[4724801.0,1987400000.009552,420.6314721,0.0,0.0],[6533630.0,3185987234.59295,487.628965,0.0,0.0],[36330768.0,9299638056.665953,255.971414,0.0,0.0],[1340838.0,0.0,0.0,0.0,0.0],[1392518.0,0.0,0.0,0.0,0.0],[29891328.0,0.0,0.0,2.0,6.0],[4639657.0,14743186120.164557,3177.645701,8.0,45.0],[4639657.0,14743186120.164557,3177.645701,5.0,50.0],[52637888.0,203494148221.5552,3865.9254,13.0,67.0],[52637888.0,203494148221.5552,3865.9254,3.0,70.0],[622289.0,430508357.7428384,691.8141856,0.0,0.0],[4205300.0,0.0,0.0,0.0,0.0],[9365952.0,2112292944.735725,225.5289099,1.0,3.0],[721994.0,285380952.4130292,395.2677618,0.0,0.0],[4123600.0,5710107418.8132,1384.738437,0.0,0.0],[10398489.0,0.0,0.0,35.0,110.0],[209137.0,839652164.02401,4014.84273,0.0,0.0],[582837973.0,71463193804.21297,122.6124534,1.0,4.0],[10507315.0,4113848002.1816,391.5222873,0.0,1.0],[3036850.0,6318060581.666949,2080.465147,0.0,1.0],[3148000.0,0.0,0.0,0.0,0.0],[54381345.0,145260039815.00732,2671.137314,18.0,106.0],[54381345.0,145260039815.00732,2671.137314,5.0,111.0],[1915299.0,1875048859.9339583,978.9849313,1.0,2.0],[107188000.0,318031297467.248,2967.041996,29.0,101.0],[107188000.0,318031297467.248,2967.041996,3.0,104.0],[1704787.0,788574629.0286936,462.5649005,0.0,0.0],[12611997.0,0.0,0.0,0.0,0.0],[12322903.0,2107279157.525205,171.0050917,9.0,19.0],[15768363.0,0.0,0.0,5.0,6.0],[33505406.0,10862327877.87238,324.1962768,1.0,6.0],[3088200.0,0.0,0.0,0.0,0.0],[2505965.0,0.0,0.0,1.0,1.0],[21873.0,124941925.018776,5712.153112,0.0,0.0],[3213622.0,0.0,0.0,0.0,0.0],[346600.0,1901697369.6648,5486.720628,0.0,0.0],[53543436.0,45199999999.24331,844.1744381,1.0,12.0],[2509550.0,0.0,0.0,0.0,0.0],[521785.0,0.0,0.0,0.0,0.0],[16081438.0,5049543558.338599,313.9982605,0.0,1.0],[8860585.0,0.0,0.0,0.0,0.0],[800610.0,0.0,0.0,0.0,0.0],[2903900.0,9567331065.5777,3294.648943,3.0,14.0],[1701498.0,0.0,0.0,0.0,0.0],[3933004.0,17358610850.93877,4413.575692,4.0,42.0],[3933004.0,17358610850.93877,4413.575692,12.0,54.0],[62509565.0,9415016359.876083,150.6172113,1.0,5.0],[1602646.0,1673411699.55884,1044.15554,0.0,0.0],[14292437.0,9189413409.115202,642.9563698,0.0,0.0],[33055650.0,0.0,0.0,21.0,85.0],[33055650.0,0.0,0.0,1.0,86.0],[148338.0,510259940.7717061,3439.846437,0.0,0.0],[20657957.0,0.0,0.0,16.0,54.0],[131909000.0,0.0,0.0,0.0,0.0],[18575.0,0.0,0.0,0.0,0.0],[4633452.0,1620857277.1971395,349.8163523,0.0,0.0],[7053000.0,0.0,0.0,0.0,0.0],[2152400.0,2721440980.3068004,1264.375107,0.0,1.0],[4596622.0,0.0,0.0,0.0,0.0],[34604469.0,59132415229.163,1708.808629,1.0,2.0],[34604469.0,59132415229.163,1708.808629,1.0,3.0],[397529.0,311949999.996096,784.722624,0.0,0.0],[8122300.0,48954145807.4277,6027.128499,16.0,56.0],[8122300.0,48954145807.4277,6027.128499,4.0,60.0],[6768544.0,2415706806.0812,356.9019875,0.0,0.0],[3180461.0,0.0,0.0,0.0,0.0],[37834384.0,8177884554.012701,216.1495362,0.0,0.0],[1013031.0,1083381044.163255,1069.445105,0.0,3.0],[5320148.0,2237476420.193026,420.5665745,1.0,5.0],[37188035.0,20359154929.63072,547.4651976,1.0,18.0],[2328374.0,0.0,0.0,0.0,0.0],[10885563.0,1491596638.7735088,137.0252176,2.0,4.0],[47974187.0,0.0,0.0,0.0,0.0],[56086065.0,169965034958.3174,3030.432514,18.0,70.0],[209896000.0,1279110000029.04,6094.01799,94.0,386.0],[209896000.0,1279110000029.04,6094.01799,8.0,394.0],[12733242.0,0.0,0.0,0.0,0.0],[12061621.0,13977727277.579063,1158.859765,0.0,2.0]],\"geo\":\"geo\",\"hovertemplate\":\"<b>%{hovertext}</b><br><br>Year=1972<br>Country_Code=%{location}<br>Population=%{customdata[0]}<br>GDP=%{z}<br>GDP_Per_Capita=%{customdata[2]}<br>Y_Total=%{customdata[3]}<br>A_Total=%{customdata[4]}<extra></extra>\",\"hovertext\":[\"Afghanistan\",\"Argentina\",\"Armenia\",\"Australia\",\"Austria\",\"Austria\",\"Azerbaijan\",\"Belarus\",\"Belgium\",\"Brazil\",\"Brunei Darussalam\",\"Burundi\",\"Cameroon\",\"Canada\",\"Canada\",\"Channel Islands\",\"China\",\"Colombia\",\"Cote d'Ivoire\",\"Cuba\",\"Cyprus\",\"Czechia\",\"Djibouti\",\"Dominican Republic\",\"Ecuador\",\"Egypt, Arab Rep.\",\"Eritrea\",\"Estonia\",\"Ethiopia\",\"Finland\",\"Finland\",\"France\",\"France\",\"Gabon\",\"Georgia\",\"Ghana\",\"Guyana\",\"Hong Kong SAR, China\",\"Hungary\",\"Iceland\",\"India\",\"Iraq\",\"Ireland\",\"Israel\",\"Italy\",\"Italy\",\"Jamaica\",\"Japan\",\"Japan\",\"Jordan\",\"Kazakhstan\",\"Kenya\",\"Korea, Dem. People's Rep.\",\"Korea, Rep.\",\"Kyrgyz Republic\",\"Lebanon\",\"Liechtenstein\",\"Lithuania\",\"Luxembourg\",\"Mexico\",\"Moldova\",\"Montenegro\",\"Morocco\",\"Mozambique\",\"Namibia\",\"New Zealand\",\"North Macedonia\",\"Norway\",\"Norway\",\"Pakistan\",\"Panama\",\"Peru\",\"Poland\",\"Poland\",\"Qatar\",\"Romania\",\"Russian Federation\",\"San Marino\",\"Senegal\",\"Serbia\",\"Singapore\",\"Slovak Republic\",\"Spain\",\"Spain\",\"Suriname\",\"Sweden\",\"Sweden\",\"Syrian Arab Republic\",\"Tajikistan\",\"Thailand\",\"Trinidad and Tobago\",\"Tunisia\",\"Turkiye\",\"Turkmenistan\",\"Uganda\",\"Ukraine\",\"United Kingdom\",\"United States\",\"United States\",\"Uzbekistan\",\"Venezuela, RB\"],\"locations\":[\"AFG\",\"ARG\",\"ARM\",\"AUS\",\"AUT\",\"AUT\",\"AZE\",\"BLR\",\"BEL\",\"BRA\",\"BRN\",\"BDI\",\"CMR\",\"CAN\",\"CAN\",\"CHI\",\"CHN\",\"COL\",\"CIV\",\"CUB\",\"CYP\",\"CZE\",\"DJI\",\"DOM\",\"ECU\",\"EGY\",\"ERI\",\"EST\",\"ETH\",\"FIN\",\"FIN\",\"FRA\",\"FRA\",\"GAB\",\"GEO\",\"GHA\",\"GUY\",\"HKG\",\"HUN\",\"ISL\",\"IND\",\"IRQ\",\"IRL\",\"ISR\",\"ITA\",\"ITA\",\"JAM\",\"JPN\",\"JPN\",\"JOR\",\"KAZ\",\"KEN\",\"PRK\",\"KOR\",\"KGZ\",\"LBN\",\"LIE\",\"LTU\",\"LUX\",\"MEX\",\"MDA\",\"MNE\",\"MAR\",\"MOZ\",\"NAM\",\"NZL\",\"MKD\",\"NOR\",\"NOR\",\"PAK\",\"PAN\",\"PER\",\"POL\",\"POL\",\"QAT\",\"ROU\",\"RUS\",\"SMR\",\"SEN\",\"SRB\",\"SGP\",\"SVK\",\"ESP\",\"ESP\",\"SUR\",\"SWE\",\"SWE\",\"SYR\",\"TJK\",\"THA\",\"TTO\",\"TUN\",\"TUR\",\"TKM\",\"UGA\",\"UKR\",\"GBR\",\"USA\",\"USA\",\"UZB\",\"VEN\"],\"name\":\"\",\"type\":\"choropleth\",\"z\":[1595555475.565492,34733000528.63922,0.0,52042056069.811005,22059612477.00068,22059612477.00068,0.0,0.0,37209418018.5685,58434858371.32246,270818555.79042,246804571.42875928,1498252049.9855888,113082820485.83464,113082820485.83464,0.0,113687586261.236,8671358732.444626,1849400599.7217312,8135150891.481436,0.0,0.0,0.0,1987400000.009552,3185987234.59295,9299638056.665953,0.0,0.0,0.0,14743186120.164557,14743186120.164557,203494148221.5552,203494148221.5552,430508357.7428384,0.0,2112292944.735725,285380952.4130292,5710107418.8132,0.0,839652164.02401,71463193804.21297,4113848002.1816,6318060581.666949,0.0,145260039815.00732,145260039815.00732,1875048859.9339583,318031297467.248,318031297467.248,788574629.0286936,0.0,2107279157.525205,0.0,10862327877.87238,0.0,0.0,124941925.018776,0.0,1901697369.6648,45199999999.24331,0.0,0.0,5049543558.338599,0.0,0.0,9567331065.5777,0.0,17358610850.93877,17358610850.93877,9415016359.876083,1673411699.55884,9189413409.115202,0.0,0.0,510259940.7717061,0.0,0.0,0.0,1620857277.1971395,0.0,2721440980.3068004,0.0,59132415229.163,59132415229.163,311949999.996096,48954145807.4277,48954145807.4277,2415706806.0812,0.0,8177884554.012701,1083381044.163255,2237476420.193026,20359154929.63072,0.0,1491596638.7735088,0.0,169965034958.3174,1279110000029.04,1279110000029.04,0.0,13977727277.579063]},{\"customdata\":[[11286753.0,1595555475.565492,141.3653223,0.0,0.0],[24612794.0,34733000528.63922,1411.176664,1.0,6.0],[2648048.0,0.0,0.0,0.0,0.0],[13177000.0,52042056069.811005,3949.461643,17.0,74.0],[7544201.0,22059612477.00068,2924.048879,3.0,38.0],[7544201.0,22059612477.00068,2924.048879,5.0,43.0],[5391450.0,0.0,0.0,0.0,0.0],[9188968.0,0.0,0.0,0.0,0.0],[9711115.0,37209418018.5685,3831.6319,2.0,11.0],[101194394.0,58434858371.32246,577.4515372,2.0,8.0],[143886.0,270818555.79042,1882.17447,0.0,0.0],[3579195.0,246804571.42875928,68.95532974,0.0,0.0],[6809468.0,1498252049.9855888,220.0248316,0.0,1.0],[22218463.0,113082820485.83464,5089.587902,5.0,25.0],[22218463.0,113082820485.83464,5089.587902,1.0,26.0],[123348.0,0.0,0.0,0.0,0.0],[862030000.0,113687586261.236,131.8835612,0.0,0.0],[21898055.0,8671358732.444626,395.9876223,3.0,3.0],[5979984.0,1849400599.7217312,309.2651418,0.0,0.0],[9169289.0,8135150891.481436,887.2171977,8.0,13.0],[647620.0,0.0,0.0,0.0,0.0],[9867632.0,0.0,0.0,0.0,0.0],[165234.0,0.0,0.0,0.0,0.0],[4724801.0,1987400000.009552,420.6314721,0.0,0.0],[6533630.0,3185987234.59295,487.628965,0.0,0.0],[36330768.0,9299638056.665953,255.971414,0.0,0.0],[1340838.0,0.0,0.0,0.0,0.0],[1392518.0,0.0,0.0,0.0,0.0],[29891328.0,0.0,0.0,2.0,6.0],[4639657.0,14743186120.164557,3177.645701,8.0,45.0],[4639657.0,14743186120.164557,3177.645701,5.0,50.0],[52637888.0,203494148221.5552,3865.9254,13.0,67.0],[52637888.0,203494148221.5552,3865.9254,3.0,70.0],[622289.0,430508357.7428384,691.8141856,0.0,0.0],[4205300.0,0.0,0.0,0.0,0.0],[9365952.0,2112292944.735725,225.5289099,1.0,3.0],[721994.0,285380952.4130292,395.2677618,0.0,0.0],[4123600.0,5710107418.8132,1384.738437,0.0,0.0],[10398489.0,0.0,0.0,35.0,110.0],[209137.0,839652164.02401,4014.84273,0.0,0.0],[582837973.0,71463193804.21297,122.6124534,1.0,4.0],[10507315.0,4113848002.1816,391.5222873,0.0,1.0],[3036850.0,6318060581.666949,2080.465147,0.0,1.0],[3148000.0,0.0,0.0,0.0,0.0],[54381345.0,145260039815.00732,2671.137314,18.0,106.0],[54381345.0,145260039815.00732,2671.137314,5.0,111.0],[1915299.0,1875048859.9339583,978.9849313,1.0,2.0],[107188000.0,318031297467.248,2967.041996,29.0,101.0],[107188000.0,318031297467.248,2967.041996,3.0,104.0],[1704787.0,788574629.0286936,462.5649005,0.0,0.0],[12611997.0,0.0,0.0,0.0,0.0],[12322903.0,2107279157.525205,171.0050917,9.0,19.0],[15768363.0,0.0,0.0,5.0,6.0],[33505406.0,10862327877.87238,324.1962768,1.0,6.0],[3088200.0,0.0,0.0,0.0,0.0],[2505965.0,0.0,0.0,1.0,1.0],[21873.0,124941925.018776,5712.153112,0.0,0.0],[3213622.0,0.0,0.0,0.0,0.0],[346600.0,1901697369.6648,5486.720628,0.0,0.0],[53543436.0,45199999999.24331,844.1744381,1.0,12.0],[2509550.0,0.0,0.0,0.0,0.0],[521785.0,0.0,0.0,0.0,0.0],[16081438.0,5049543558.338599,313.9982605,0.0,1.0],[8860585.0,0.0,0.0,0.0,0.0],[800610.0,0.0,0.0,0.0,0.0],[2903900.0,9567331065.5777,3294.648943,3.0,14.0],[1701498.0,0.0,0.0,0.0,0.0],[3933004.0,17358610850.93877,4413.575692,4.0,42.0],[3933004.0,17358610850.93877,4413.575692,12.0,54.0],[62509565.0,9415016359.876083,150.6172113,1.0,5.0],[1602646.0,1673411699.55884,1044.15554,0.0,0.0],[14292437.0,9189413409.115202,642.9563698,0.0,0.0],[33055650.0,0.0,0.0,21.0,85.0],[33055650.0,0.0,0.0,1.0,86.0],[148338.0,510259940.7717061,3439.846437,0.0,0.0],[20657957.0,0.0,0.0,16.0,54.0],[131909000.0,0.0,0.0,0.0,0.0],[18575.0,0.0,0.0,0.0,0.0],[4633452.0,1620857277.1971395,349.8163523,0.0,0.0],[7053000.0,0.0,0.0,0.0,0.0],[2152400.0,2721440980.3068004,1264.375107,0.0,1.0],[4596622.0,0.0,0.0,0.0,0.0],[34604469.0,59132415229.163,1708.808629,1.0,2.0],[34604469.0,59132415229.163,1708.808629,1.0,3.0],[397529.0,311949999.996096,784.722624,0.0,0.0],[8122300.0,48954145807.4277,6027.128499,16.0,56.0],[8122300.0,48954145807.4277,6027.128499,4.0,60.0],[6768544.0,2415706806.0812,356.9019875,0.0,0.0],[3180461.0,0.0,0.0,0.0,0.0],[37834384.0,8177884554.012701,216.1495362,0.0,0.0],[1013031.0,1083381044.163255,1069.445105,0.0,3.0],[5320148.0,2237476420.193026,420.5665745,1.0,5.0],[37188035.0,20359154929.63072,547.4651976,1.0,18.0],[2328374.0,0.0,0.0,0.0,0.0],[10885563.0,1491596638.7735088,137.0252176,2.0,4.0],[47974187.0,0.0,0.0,0.0,0.0],[56086065.0,169965034958.3174,3030.432514,18.0,70.0],[209896000.0,1279110000029.04,6094.01799,94.0,386.0],[209896000.0,1279110000029.04,6094.01799,8.0,394.0],[12733242.0,0.0,0.0,0.0,0.0],[12061621.0,13977727277.579063,1158.859765,0.0,2.0]],\"geo\":\"geo\",\"hovertemplate\":\"Year=1972<br>A_Total=%{customdata[4]}<br>Country_Code=%{location}<br>Population=%{customdata[0]}<br>GDP=%{customdata[1]}<br>GDP_Per_Capita=%{customdata[2]}<br>Y_Total=%{customdata[3]}<extra></extra>\",\"legendgroup\":\"\",\"locations\":[\"AFG\",\"ARG\",\"ARM\",\"AUS\",\"AUT\",\"AUT\",\"AZE\",\"BLR\",\"BEL\",\"BRA\",\"BRN\",\"BDI\",\"CMR\",\"CAN\",\"CAN\",\"CHI\",\"CHN\",\"COL\",\"CIV\",\"CUB\",\"CYP\",\"CZE\",\"DJI\",\"DOM\",\"ECU\",\"EGY\",\"ERI\",\"EST\",\"ETH\",\"FIN\",\"FIN\",\"FRA\",\"FRA\",\"GAB\",\"GEO\",\"GHA\",\"GUY\",\"HKG\",\"HUN\",\"ISL\",\"IND\",\"IRQ\",\"IRL\",\"ISR\",\"ITA\",\"ITA\",\"JAM\",\"JPN\",\"JPN\",\"JOR\",\"KAZ\",\"KEN\",\"PRK\",\"KOR\",\"KGZ\",\"LBN\",\"LIE\",\"LTU\",\"LUX\",\"MEX\",\"MDA\",\"MNE\",\"MAR\",\"MOZ\",\"NAM\",\"NZL\",\"MKD\",\"NOR\",\"NOR\",\"PAK\",\"PAN\",\"PER\",\"POL\",\"POL\",\"QAT\",\"ROU\",\"RUS\",\"SMR\",\"SEN\",\"SRB\",\"SGP\",\"SVK\",\"ESP\",\"ESP\",\"SUR\",\"SWE\",\"SWE\",\"SYR\",\"TJK\",\"THA\",\"TTO\",\"TUN\",\"TUR\",\"TKM\",\"UGA\",\"UKR\",\"GBR\",\"USA\",\"USA\",\"UZB\",\"VEN\"],\"marker\":{\"color\":\"#636efa\",\"size\":[0.0,6.0,0.0,74.0,38.0,43.0,0.0,0.0,11.0,8.0,0.0,0.0,1.0,25.0,26.0,0.0,0.0,3.0,0.0,13.0,0.0,0.0,0.0,0.0,0.0,0.0,0.0,0.0,6.0,45.0,50.0,67.0,70.0,0.0,0.0,3.0,0.0,0.0,110.0,0.0,4.0,1.0,1.0,0.0,106.0,111.0,2.0,101.0,104.0,0.0,0.0,19.0,6.0,6.0,0.0,1.0,0.0,0.0,0.0,12.0,0.0,0.0,1.0,0.0,0.0,14.0,0.0,42.0,54.0,5.0,0.0,0.0,85.0,86.0,0.0,54.0,0.0,0.0,0.0,0.0,1.0,0.0,2.0,3.0,0.0,56.0,60.0,0.0,0.0,0.0,3.0,5.0,18.0,0.0,4.0,0.0,70.0,386.0,394.0,0.0,2.0],\"sizemode\":\"area\",\"sizeref\":4.565,\"symbol\":\"circle\"},\"mode\":\"markers\",\"name\":\"\",\"showlegend\":false,\"type\":\"scattergeo\"}],\"name\":\"1972\"},{\"data\":[{\"coloraxis\":\"coloraxis\",\"customdata\":[[12425267.0,2555555566.481319,205.6740967,0.0,0.0],[26290257.0,51169499896.04349,1946.329391,0.0,6.0],[2896311.0,0.0,0.0,0.0,0.0],[14033000.0,105066179256.175,7487.078975,5.0,79.0],[7565525.0,42959976220.76545,5678.386658,1.0,44.0],[7565525.0,42959976220.76545,5678.386658,6.0,50.0],[5781000.0,0.0,0.0,0.0,0.0],[9411000.0,0.0,0.0,0.0,0.0],[9818227.0,71113882965.68442,7243.047341,6.0,17.0],[111286504.0,153168949194.7637,1376.347928,2.0,10.0],[165064.0,1423061356.6726,8621.270275,0.0,0.0],[3830889.0,448412753.7749865,117.0518785,0.0,0.0],[7598028.0,2898089928.999788,381.4265924,0.0,1.0],[23449808.0,206575564898.1853,8809.26466,11.0,37.0],[23449808.0,206575564898.1853,8809.26466,3.0,40.0],[127052.0,0.0,0.0,0.0,0.0],[930685000.0,153940455367.174,165.4055404,0.0,0.0],[23913002.0,15341403660.026642,641.5507204,0.0,3.0],[7142690.0,4662053707.533287,652.7027923,0.0,0.0],[9600862.0,13789579905.393234,1436.285607,13.0,26.0],[648868.0,751007363.695028,1157.411621,0.0,0.0],[10125939.0,0.0,0.0,0.0,0.0],[229304.0,0.0,0.0,0.0,0.0],[5235318.0,3951499999.8204126,754.7774557,0.0,0.0],[7304349.0,9091924303.63667,1244.727532,0.0,0.0],[39649050.0,13315988085.117794,335.8463339,0.0,0.0],[1489656.0,0.0,0.0,0.0,0.0],[1439576.0,0.0,0.0,0.0,0.0],[33062216.0,0.0,0.0,0.0,6.0],[4725664.0,31849513773.558437,6739.690713,6.0,56.0],[4725664.0,31849513773.558437,6739.690713,7.0,63.0],[53966558.0,372319038527.1725,6899.069578,9.0,79.0],[53966558.0,372319038527.1725,6899.069578,1.0,80.0],[678660.0,3009409970.96694,4434.341159,0.0,0.0],[4342400.0,0.0,0.0,0.0,0.0],[10509006.0,2765254237.7316265,263.1318545,0.0,3.0],[753553.0,454439999.9805723,603.0630891,0.0,0.0],[4518000.0,12876366007.98,2850.01461,0.0,0.0],[10598677.0,0.0,0.0,22.0,132.0],[220154.0,1669488389.9558918,7583.275298,0.0,0.0],[637451448.0,102717164478.66289,161.1372361,0.0,4.0],[11999342.0,17754825598.34343,1479.649934,0.0,1.0],[3238050.0,9453756014.86035,2919.583087,0.0,1.0],[3533000.0,0.0,0.0,0.0,0.0],[55718260.0,224717278412.00403,4033.099354,13.0,124.0],[55718260.0,224717278412.00403,4033.099354,4.0,128.0],[2029486.0,2966010228.972922,1461.458827,2.0,4.0],[112775000.0,586161859055.1749,5197.622337,25.0,129.0],[1945141.0,1708433734.9209185,878.3084285,0.0,0.0],[13346173.0,0.0,0.0,0.0,0.0],[14102268.0,3474542392.507554,246.3818155,0.0,19.0],[16987170.0,0.0,0.0,2.0,8.0],[35848523.0,29902479340.574783,834.134208,6.0,12.0],[3358700.0,0.0,0.0,0.0,0.0],[3070419.0,0.0,0.0,0.0,1.0],[23416.0,272493879.09544,11637.08059,2.0,2.0],[3328664.0,0.0,0.0,0.0,0.0],[360731.0,3423586206.938072,9490.690312,0.0,0.0],[60452543.0,89025974025.72166,1472.658876,2.0,14.0],[2618032.0,0.0,0.0,0.0,0.0],[552562.0,0.0,0.0,0.0,0.0],[17756516.0,9549632910.491838,537.8100586,0.0,1.0],[10019210.0,0.0,0.0,0.0,0.0],[901840.0,0.0,0.0,0.0,0.0],[3110500.0,13604832424.279,4373.840998,4.0,18.0],[1799332.0,0.0,0.0,0.0,0.0],[4026152.0,35942270684.9493,8927.201627,2.0,56.0],[4026152.0,35942270684.9493,8927.201627,7.0,63.0],[70230923.0,13168080810.16279,187.4969066,1.0,6.0],[1779037.0,2588106000.502919,1454.779187,0.0,0.0],[15826813.0,15947709387.25079,1007.638707,0.0,0.0],[34356300.0,0.0,0.0,26.0,112.0],[210990.0,3284301332.3211,15566.14689,0.0,0.0],[21551634.0,0.0,0.0,27.0,81.0],[135147000.0,0.0,0.0,0.0,0.0],[20160.0,0.0,0.0,0.0,0.0],[5181195.0,2869777812.510207,553.8833826,0.0,0.0],[7214000.0,0.0,0.0,0.0,0.0],[2293300.0,6327077973.454,2758.94038,0.0,1.0],[4789507.0,0.0,0.0,0.0,0.0],[36137812.0,118507184793.81586,3279.312671,2.0,5.0],[389231.0,505499999.987995,1298.714645,0.0,0.0],[8222286.0,89362071707.81023,10868.27577,5.0,65.0],[8222286.0,89362071707.81023,10868.27577,2.0,67.0],[7758673.0,6417632802.952701,827.1559844,0.0,0.0],[3590606.0,0.0,0.0,0.0,0.0],[41882128.0,16985211147.849386,405.5479499,1.0,1.0],[1067696.0,2500410583.880048,2341.875013,1.0,4.0],[5929998.0,4507929104.685677,760.1906619,0.0,5.0],[40500997.0,51130434777.94663,1262.448793,0.0,18.0],[2592280.0,0.0,0.0,0.0,0.0],[12045227.0,2447300000.244387,203.1759136,0.0,4.0],[49144535.0,0.0,0.0,0.0,0.0],[56211968.0,232614555277.6868,4138.167788,13.0,83.0],[56211968.0,232614555277.6868,4138.167788,1.0,84.0],[218035000.0,1873411999939.7952,8592.253537,94.0,488.0],[218035000.0,1873411999939.7952,8592.253537,10.0,498.0],[14307397.0,0.0,0.0,0.0,0.0],[13566112.0,31419534883.31526,2316.030922,1.0,3.0]],\"geo\":\"geo\",\"hovertemplate\":\"<b>%{hovertext}</b><br><br>Year=1976<br>Country_Code=%{location}<br>Population=%{customdata[0]}<br>GDP=%{z}<br>GDP_Per_Capita=%{customdata[2]}<br>Y_Total=%{customdata[3]}<br>A_Total=%{customdata[4]}<extra></extra>\",\"hovertext\":[\"Afghanistan\",\"Argentina\",\"Armenia\",\"Australia\",\"Austria\",\"Austria\",\"Azerbaijan\",\"Belarus\",\"Belgium\",\"Brazil\",\"Brunei Darussalam\",\"Burundi\",\"Cameroon\",\"Canada\",\"Canada\",\"Channel Islands\",\"China\",\"Colombia\",\"Cote d'Ivoire\",\"Cuba\",\"Cyprus\",\"Czechia\",\"Djibouti\",\"Dominican Republic\",\"Ecuador\",\"Egypt, Arab Rep.\",\"Eritrea\",\"Estonia\",\"Ethiopia\",\"Finland\",\"Finland\",\"France\",\"France\",\"Gabon\",\"Georgia\",\"Ghana\",\"Guyana\",\"Hong Kong SAR, China\",\"Hungary\",\"Iceland\",\"India\",\"Iraq\",\"Ireland\",\"Israel\",\"Italy\",\"Italy\",\"Jamaica\",\"Japan\",\"Jordan\",\"Kazakhstan\",\"Kenya\",\"Korea, Dem. People's Rep.\",\"Korea, Rep.\",\"Kyrgyz Republic\",\"Lebanon\",\"Liechtenstein\",\"Lithuania\",\"Luxembourg\",\"Mexico\",\"Moldova\",\"Montenegro\",\"Morocco\",\"Mozambique\",\"Namibia\",\"New Zealand\",\"North Macedonia\",\"Norway\",\"Norway\",\"Pakistan\",\"Panama\",\"Peru\",\"Poland\",\"Qatar\",\"Romania\",\"Russian Federation\",\"San Marino\",\"Senegal\",\"Serbia\",\"Singapore\",\"Slovak Republic\",\"Spain\",\"Suriname\",\"Sweden\",\"Sweden\",\"Syrian Arab Republic\",\"Tajikistan\",\"Thailand\",\"Trinidad and Tobago\",\"Tunisia\",\"Turkiye\",\"Turkmenistan\",\"Uganda\",\"Ukraine\",\"United Kingdom\",\"United Kingdom\",\"United States\",\"United States\",\"Uzbekistan\",\"Venezuela, RB\"],\"locations\":[\"AFG\",\"ARG\",\"ARM\",\"AUS\",\"AUT\",\"AUT\",\"AZE\",\"BLR\",\"BEL\",\"BRA\",\"BRN\",\"BDI\",\"CMR\",\"CAN\",\"CAN\",\"CHI\",\"CHN\",\"COL\",\"CIV\",\"CUB\",\"CYP\",\"CZE\",\"DJI\",\"DOM\",\"ECU\",\"EGY\",\"ERI\",\"EST\",\"ETH\",\"FIN\",\"FIN\",\"FRA\",\"FRA\",\"GAB\",\"GEO\",\"GHA\",\"GUY\",\"HKG\",\"HUN\",\"ISL\",\"IND\",\"IRQ\",\"IRL\",\"ISR\",\"ITA\",\"ITA\",\"JAM\",\"JPN\",\"JOR\",\"KAZ\",\"KEN\",\"PRK\",\"KOR\",\"KGZ\",\"LBN\",\"LIE\",\"LTU\",\"LUX\",\"MEX\",\"MDA\",\"MNE\",\"MAR\",\"MOZ\",\"NAM\",\"NZL\",\"MKD\",\"NOR\",\"NOR\",\"PAK\",\"PAN\",\"PER\",\"POL\",\"QAT\",\"ROU\",\"RUS\",\"SMR\",\"SEN\",\"SRB\",\"SGP\",\"SVK\",\"ESP\",\"SUR\",\"SWE\",\"SWE\",\"SYR\",\"TJK\",\"THA\",\"TTO\",\"TUN\",\"TUR\",\"TKM\",\"UGA\",\"UKR\",\"GBR\",\"GBR\",\"USA\",\"USA\",\"UZB\",\"VEN\"],\"name\":\"\",\"type\":\"choropleth\",\"z\":[2555555566.481319,51169499896.04349,0.0,105066179256.175,42959976220.76545,42959976220.76545,0.0,0.0,71113882965.68442,153168949194.7637,1423061356.6726,448412753.7749865,2898089928.999788,206575564898.1853,206575564898.1853,0.0,153940455367.174,15341403660.026642,4662053707.533287,13789579905.393234,751007363.695028,0.0,0.0,3951499999.8204126,9091924303.63667,13315988085.117794,0.0,0.0,0.0,31849513773.558437,31849513773.558437,372319038527.1725,372319038527.1725,3009409970.96694,0.0,2765254237.7316265,454439999.9805723,12876366007.98,0.0,1669488389.9558918,102717164478.66289,17754825598.34343,9453756014.86035,0.0,224717278412.00403,224717278412.00403,2966010228.972922,586161859055.1749,1708433734.9209185,0.0,3474542392.507554,0.0,29902479340.574783,0.0,0.0,272493879.09544,0.0,3423586206.938072,89025974025.72166,0.0,0.0,9549632910.491838,0.0,0.0,13604832424.279,0.0,35942270684.9493,35942270684.9493,13168080810.16279,2588106000.502919,15947709387.25079,0.0,3284301332.3211,0.0,0.0,0.0,2869777812.510207,0.0,6327077973.454,0.0,118507184793.81586,505499999.987995,89362071707.81023,89362071707.81023,6417632802.952701,0.0,16985211147.849386,2500410583.880048,4507929104.685677,51130434777.94663,0.0,2447300000.244387,0.0,232614555277.6868,232614555277.6868,1873411999939.7952,1873411999939.7952,0.0,31419534883.31526]},{\"customdata\":[[12425267.0,2555555566.481319,205.6740967,0.0,0.0],[26290257.0,51169499896.04349,1946.329391,0.0,6.0],[2896311.0,0.0,0.0,0.0,0.0],[14033000.0,105066179256.175,7487.078975,5.0,79.0],[7565525.0,42959976220.76545,5678.386658,1.0,44.0],[7565525.0,42959976220.76545,5678.386658,6.0,50.0],[5781000.0,0.0,0.0,0.0,0.0],[9411000.0,0.0,0.0,0.0,0.0],[9818227.0,71113882965.68442,7243.047341,6.0,17.0],[111286504.0,153168949194.7637,1376.347928,2.0,10.0],[165064.0,1423061356.6726,8621.270275,0.0,0.0],[3830889.0,448412753.7749865,117.0518785,0.0,0.0],[7598028.0,2898089928.999788,381.4265924,0.0,1.0],[23449808.0,206575564898.1853,8809.26466,11.0,37.0],[23449808.0,206575564898.1853,8809.26466,3.0,40.0],[127052.0,0.0,0.0,0.0,0.0],[930685000.0,153940455367.174,165.4055404,0.0,0.0],[23913002.0,15341403660.026642,641.5507204,0.0,3.0],[7142690.0,4662053707.533287,652.7027923,0.0,0.0],[9600862.0,13789579905.393234,1436.285607,13.0,26.0],[648868.0,751007363.695028,1157.411621,0.0,0.0],[10125939.0,0.0,0.0,0.0,0.0],[229304.0,0.0,0.0,0.0,0.0],[5235318.0,3951499999.8204126,754.7774557,0.0,0.0],[7304349.0,9091924303.63667,1244.727532,0.0,0.0],[39649050.0,13315988085.117794,335.8463339,0.0,0.0],[1489656.0,0.0,0.0,0.0,0.0],[1439576.0,0.0,0.0,0.0,0.0],[33062216.0,0.0,0.0,0.0,6.0],[4725664.0,31849513773.558437,6739.690713,6.0,56.0],[4725664.0,31849513773.558437,6739.690713,7.0,63.0],[53966558.0,372319038527.1725,6899.069578,9.0,79.0],[53966558.0,372319038527.1725,6899.069578,1.0,80.0],[678660.0,3009409970.96694,4434.341159,0.0,0.0],[4342400.0,0.0,0.0,0.0,0.0],[10509006.0,2765254237.7316265,263.1318545,0.0,3.0],[753553.0,454439999.9805723,603.0630891,0.0,0.0],[4518000.0,12876366007.98,2850.01461,0.0,0.0],[10598677.0,0.0,0.0,22.0,132.0],[220154.0,1669488389.9558918,7583.275298,0.0,0.0],[637451448.0,102717164478.66289,161.1372361,0.0,4.0],[11999342.0,17754825598.34343,1479.649934,0.0,1.0],[3238050.0,9453756014.86035,2919.583087,0.0,1.0],[3533000.0,0.0,0.0,0.0,0.0],[55718260.0,224717278412.00403,4033.099354,13.0,124.0],[55718260.0,224717278412.00403,4033.099354,4.0,128.0],[2029486.0,2966010228.972922,1461.458827,2.0,4.0],[112775000.0,586161859055.1749,5197.622337,25.0,129.0],[1945141.0,1708433734.9209185,878.3084285,0.0,0.0],[13346173.0,0.0,0.0,0.0,0.0],[14102268.0,3474542392.507554,246.3818155,0.0,19.0],[16987170.0,0.0,0.0,2.0,8.0],[35848523.0,29902479340.574783,834.134208,6.0,12.0],[3358700.0,0.0,0.0,0.0,0.0],[3070419.0,0.0,0.0,0.0,1.0],[23416.0,272493879.09544,11637.08059,2.0,2.0],[3328664.0,0.0,0.0,0.0,0.0],[360731.0,3423586206.938072,9490.690312,0.0,0.0],[60452543.0,89025974025.72166,1472.658876,2.0,14.0],[2618032.0,0.0,0.0,0.0,0.0],[552562.0,0.0,0.0,0.0,0.0],[17756516.0,9549632910.491838,537.8100586,0.0,1.0],[10019210.0,0.0,0.0,0.0,0.0],[901840.0,0.0,0.0,0.0,0.0],[3110500.0,13604832424.279,4373.840998,4.0,18.0],[1799332.0,0.0,0.0,0.0,0.0],[4026152.0,35942270684.9493,8927.201627,2.0,56.0],[4026152.0,35942270684.9493,8927.201627,7.0,63.0],[70230923.0,13168080810.16279,187.4969066,1.0,6.0],[1779037.0,2588106000.502919,1454.779187,0.0,0.0],[15826813.0,15947709387.25079,1007.638707,0.0,0.0],[34356300.0,0.0,0.0,26.0,112.0],[210990.0,3284301332.3211,15566.14689,0.0,0.0],[21551634.0,0.0,0.0,27.0,81.0],[135147000.0,0.0,0.0,0.0,0.0],[20160.0,0.0,0.0,0.0,0.0],[5181195.0,2869777812.510207,553.8833826,0.0,0.0],[7214000.0,0.0,0.0,0.0,0.0],[2293300.0,6327077973.454,2758.94038,0.0,1.0],[4789507.0,0.0,0.0,0.0,0.0],[36137812.0,118507184793.81586,3279.312671,2.0,5.0],[389231.0,505499999.987995,1298.714645,0.0,0.0],[8222286.0,89362071707.81023,10868.27577,5.0,65.0],[8222286.0,89362071707.81023,10868.27577,2.0,67.0],[7758673.0,6417632802.952701,827.1559844,0.0,0.0],[3590606.0,0.0,0.0,0.0,0.0],[41882128.0,16985211147.849386,405.5479499,1.0,1.0],[1067696.0,2500410583.880048,2341.875013,1.0,4.0],[5929998.0,4507929104.685677,760.1906619,0.0,5.0],[40500997.0,51130434777.94663,1262.448793,0.0,18.0],[2592280.0,0.0,0.0,0.0,0.0],[12045227.0,2447300000.244387,203.1759136,0.0,4.0],[49144535.0,0.0,0.0,0.0,0.0],[56211968.0,232614555277.6868,4138.167788,13.0,83.0],[56211968.0,232614555277.6868,4138.167788,1.0,84.0],[218035000.0,1873411999939.7952,8592.253537,94.0,488.0],[218035000.0,1873411999939.7952,8592.253537,10.0,498.0],[14307397.0,0.0,0.0,0.0,0.0],[13566112.0,31419534883.31526,2316.030922,1.0,3.0]],\"geo\":\"geo\",\"hovertemplate\":\"Year=1976<br>A_Total=%{customdata[4]}<br>Country_Code=%{location}<br>Population=%{customdata[0]}<br>GDP=%{customdata[1]}<br>GDP_Per_Capita=%{customdata[2]}<br>Y_Total=%{customdata[3]}<extra></extra>\",\"legendgroup\":\"\",\"locations\":[\"AFG\",\"ARG\",\"ARM\",\"AUS\",\"AUT\",\"AUT\",\"AZE\",\"BLR\",\"BEL\",\"BRA\",\"BRN\",\"BDI\",\"CMR\",\"CAN\",\"CAN\",\"CHI\",\"CHN\",\"COL\",\"CIV\",\"CUB\",\"CYP\",\"CZE\",\"DJI\",\"DOM\",\"ECU\",\"EGY\",\"ERI\",\"EST\",\"ETH\",\"FIN\",\"FIN\",\"FRA\",\"FRA\",\"GAB\",\"GEO\",\"GHA\",\"GUY\",\"HKG\",\"HUN\",\"ISL\",\"IND\",\"IRQ\",\"IRL\",\"ISR\",\"ITA\",\"ITA\",\"JAM\",\"JPN\",\"JOR\",\"KAZ\",\"KEN\",\"PRK\",\"KOR\",\"KGZ\",\"LBN\",\"LIE\",\"LTU\",\"LUX\",\"MEX\",\"MDA\",\"MNE\",\"MAR\",\"MOZ\",\"NAM\",\"NZL\",\"MKD\",\"NOR\",\"NOR\",\"PAK\",\"PAN\",\"PER\",\"POL\",\"QAT\",\"ROU\",\"RUS\",\"SMR\",\"SEN\",\"SRB\",\"SGP\",\"SVK\",\"ESP\",\"SUR\",\"SWE\",\"SWE\",\"SYR\",\"TJK\",\"THA\",\"TTO\",\"TUN\",\"TUR\",\"TKM\",\"UGA\",\"UKR\",\"GBR\",\"GBR\",\"USA\",\"USA\",\"UZB\",\"VEN\"],\"marker\":{\"color\":\"#636efa\",\"size\":[0.0,6.0,0.0,79.0,44.0,50.0,0.0,0.0,17.0,10.0,0.0,0.0,1.0,37.0,40.0,0.0,0.0,3.0,0.0,26.0,0.0,0.0,0.0,0.0,0.0,0.0,0.0,0.0,6.0,56.0,63.0,79.0,80.0,0.0,0.0,3.0,0.0,0.0,132.0,0.0,4.0,1.0,1.0,0.0,124.0,128.0,4.0,129.0,0.0,0.0,19.0,8.0,12.0,0.0,1.0,2.0,0.0,0.0,14.0,0.0,0.0,1.0,0.0,0.0,18.0,0.0,56.0,63.0,6.0,0.0,0.0,112.0,0.0,81.0,0.0,0.0,0.0,0.0,1.0,0.0,5.0,0.0,65.0,67.0,0.0,0.0,1.0,4.0,5.0,18.0,0.0,4.0,0.0,83.0,84.0,488.0,498.0,0.0,3.0],\"sizemode\":\"area\",\"sizeref\":4.565,\"symbol\":\"circle\"},\"mode\":\"markers\",\"name\":\"\",\"showlegend\":false,\"type\":\"scattergeo\"}],\"name\":\"1976\"},{\"data\":[{\"coloraxis\":\"coloraxis\",\"customdata\":[[12486631.0,3641723321.444121,291.649791,0.0,0.0],[28024803.0,76961923736.22565,2746.207484,0.0,6.0],[3135123.0,0.0,0.0,0.0,0.0],[14692000.0,149984401089.64,10208.57617,9.0,88.0],[7549433.0,82058912966.64017,10869.54649,4.0,54.0],[7549433.0,82058912966.64017,10869.54649,7.0,61.0],[6160500.0,0.0,0.0,0.0,0.0],[9643000.0,0.0,0.0,0.0,0.0],[9859242.0,126829314426.25195,12864.00257,1.0,18.0],[122288383.0,237393489885.34705,1941.259538,4.0,14.0],[187921.0,4928824958.7394495,26228.17545,0.0,0.0],[4312834.0,919726666.8099236,213.2534354,0.0,0.0],[8519891.0,6674567625.132343,783.4099785,0.0,1.0],[24515667.0,273853826490.718,11170.56397,2.0,42.0],[127984.0,0.0,0.0,0.0,0.0],[981235000.0,191149211587.917,194.8047222,0.0,0.0],[26176195.0,33400735637.70364,1275.996593,0.0,3.0],[8303810.0,10175615440.31774,1225.415254,0.0,0.0],[9809107.0,19912889864.03324,2030.041049,20.0,46.0],[679327.0,2874927453.875324,4232.022949,0.0,0.0],[10304193.0,0.0,0.0,0.0,0.0],[324121.0,0.0,0.0,0.0,0.0],[5755800.0,6761300001.197399,1174.693353,0.0,0.0],[8135845.0,17881514680.195198,2197.86816,0.0,0.0],[43748556.0,21669908178.094597,495.3285356,0.0,0.0],[1657982.0,0.0,0.0,0.0,0.0],[1477219.0,0.0,0.0,0.0,0.0],[34945469.0,0.0,0.0,4.0,10.0],[4779535.0,53645202405.8346,11223.93756,8.0,71.0],[4779535.0,53645202405.8346,11223.93756,9.0,80.0],[55052582.0,701288419611.269,12738.52005,14.0,94.0],[55052582.0,701288419611.269,12738.52005,1.0,95.0],[749078.0,4279637933.825144,5713.207348,0.0,0.0],[4467700.0,0.0,0.0,0.0,0.0],[11865246.0,4445228215.26086,374.6427352,0.0,3.0],[778176.0,603200000.0001024,775.1459824,1.0,1.0],[5063100.0,28861759207.2054,5700.412634,0.0,0.0],[10711122.0,0.0,0.0,32.0,164.0],[10711122.0,0.0,0.0,1.0,165.0],[228138.0,3381419251.00242,14821.81509,0.0,0.0],[696828385.0,186325345119.7364,267.3905787,1.0,5.0],[13653369.0,52569000004.92639,3850.258497,0.0,1.0],[3412800.0,21747855638.52,6372.437775,2.0,3.0],[3878000.0,0.0,0.0,0.0,0.0],[56433883.0,477256775919.196,8456.918974,15.0,143.0],[56433883.0,477256775919.196,8456.918974,2.0,145.0],[2135546.0,2679409452.7156463,1254.671851,3.0,7.0],[116807000.0,1105385973740.9849,9463.353855,1.0,130.0],[2216903.0,3910372609.241527,1763.889809,0.0,0.0],[14172710.0,0.0,0.0,0.0,0.0],[16187124.0,7265315332.40668,448.8329942,0.0,19.0],[17973650.0,0.0,0.0,5.0,13.0],[38123775.0,65398646761.4115,1715.42946,0.0,12.0],[3617400.0,0.0,0.0,0.0,0.0],[2963702.0,0.0,0.0,1.0,2.0],[25003.0,534701915.53108,21385.51036,4.0,6.0],[3413202.0,0.0,0.0,0.0,0.0],[364150.0,6019805490.835,16531.1149,0.0,0.0],[67705186.0,205139086929.32303,3029.887355,4.0,18.0],[2716068.0,0.0,0.0,0.0,0.0],[572608.0,0.0,0.0,0.0,0.0],[19678444.0,21600589818.5659,1097.677734,0.0,1.0],[11413587.0,0.0,0.0,0.0,0.0],[975994.0,2422096074.29358,2481.67107,0.0,0.0],[3112900.0,23244547385.4902,7467.168038,0.0,18.0],[1907023.0,0.0,0.0,0.0,0.0],[4085620.0,64439382906.7142,15772.24091,10.0,73.0],[80624057.0,23654444446.57292,293.3918898,0.0,6.0],[1956987.0,4614086400.625998,2357.750154,0.0,0.0],[17492406.0,18127754430.39472,1036.321386,0.0,0.0],[35574150.0,0.0,0.0,32.0,144.0],[277450.0,7829094612.5805,28218.03789,0.0,0.0],[22207282.0,0.0,0.0,25.0,106.0],[139010000.0,0.0,0.0,0.0,0.0],[21346.0,0.0,0.0,0.0,0.0],[5703869.0,4510107329.887759,790.7101881,0.0,0.0],[7362000.0,0.0,0.0,0.0,0.0],[2413945.0,11896256783.20051,4928.139118,0.0,1.0],[4979815.0,0.0,0.0,0.0,0.0],[37491165.0,232766822925.7021,6208.578019,6.0,11.0],[375112.0,795000000.105792,2119.367016,0.0,0.0],[8310531.0,142092068270.63715,17097.83265,12.0,79.0],[8310531.0,142092068270.63715,17097.83265,4.0,83.0],[8898954.0,13062420380.432892,1467.860198,0.0,0.0],[4045965.0,0.0,0.0,0.0,0.0],[45737753.0,32353440724.69655,707.3683905,0.0,1.0],[1127852.0,6235833332.954589,5528.946469,0.0,4.0],[6578156.0,8744134355.083452,1329.268317,0.0,5.0],[44089069.0,68823684201.06734,1561.014686,0.0,18.0],[2862903.0,0.0,0.0,0.0,0.0],[13284026.0,1244610000.0561423,93.69222855,1.0,5.0],[49973920.0,0.0,0.0,0.0,0.0],[56314216.0,564947710898.5293,10032.06208,21.0,105.0],[56314216.0,564947710898.5293,10032.06208,1.0,106.0],[227225000.0,2857307000859.75,12574.79151,12.0,510.0],[15947129.0,0.0,0.0,0.0,0.0],[15210443.0,59116511623.022514,3886.573956,1.0,4.0]],\"geo\":\"geo\",\"hovertemplate\":\"<b>%{hovertext}</b><br><br>Year=1980<br>Country_Code=%{location}<br>Population=%{customdata[0]}<br>GDP=%{z}<br>GDP_Per_Capita=%{customdata[2]}<br>Y_Total=%{customdata[3]}<br>A_Total=%{customdata[4]}<extra></extra>\",\"hovertext\":[\"Afghanistan\",\"Argentina\",\"Armenia\",\"Australia\",\"Austria\",\"Austria\",\"Azerbaijan\",\"Belarus\",\"Belgium\",\"Brazil\",\"Brunei Darussalam\",\"Burundi\",\"Cameroon\",\"Canada\",\"Channel Islands\",\"China\",\"Colombia\",\"Cote d'Ivoire\",\"Cuba\",\"Cyprus\",\"Czechia\",\"Djibouti\",\"Dominican Republic\",\"Ecuador\",\"Egypt, Arab Rep.\",\"Eritrea\",\"Estonia\",\"Ethiopia\",\"Finland\",\"Finland\",\"France\",\"France\",\"Gabon\",\"Georgia\",\"Ghana\",\"Guyana\",\"Hong Kong SAR, China\",\"Hungary\",\"Hungary\",\"Iceland\",\"India\",\"Iraq\",\"Ireland\",\"Israel\",\"Italy\",\"Italy\",\"Jamaica\",\"Japan\",\"Jordan\",\"Kazakhstan\",\"Kenya\",\"Korea, Dem. People's Rep.\",\"Korea, Rep.\",\"Kyrgyz Republic\",\"Lebanon\",\"Liechtenstein\",\"Lithuania\",\"Luxembourg\",\"Mexico\",\"Moldova\",\"Montenegro\",\"Morocco\",\"Mozambique\",\"Namibia\",\"New Zealand\",\"North Macedonia\",\"Norway\",\"Pakistan\",\"Panama\",\"Peru\",\"Poland\",\"Qatar\",\"Romania\",\"Russian Federation\",\"San Marino\",\"Senegal\",\"Serbia\",\"Singapore\",\"Slovak Republic\",\"Spain\",\"Suriname\",\"Sweden\",\"Sweden\",\"Syrian Arab Republic\",\"Tajikistan\",\"Thailand\",\"Trinidad and Tobago\",\"Tunisia\",\"Turkiye\",\"Turkmenistan\",\"Uganda\",\"Ukraine\",\"United Kingdom\",\"United Kingdom\",\"United States\",\"Uzbekistan\",\"Venezuela, RB\"],\"locations\":[\"AFG\",\"ARG\",\"ARM\",\"AUS\",\"AUT\",\"AUT\",\"AZE\",\"BLR\",\"BEL\",\"BRA\",\"BRN\",\"BDI\",\"CMR\",\"CAN\",\"CHI\",\"CHN\",\"COL\",\"CIV\",\"CUB\",\"CYP\",\"CZE\",\"DJI\",\"DOM\",\"ECU\",\"EGY\",\"ERI\",\"EST\",\"ETH\",\"FIN\",\"FIN\",\"FRA\",\"FRA\",\"GAB\",\"GEO\",\"GHA\",\"GUY\",\"HKG\",\"HUN\",\"HUN\",\"ISL\",\"IND\",\"IRQ\",\"IRL\",\"ISR\",\"ITA\",\"ITA\",\"JAM\",\"JPN\",\"JOR\",\"KAZ\",\"KEN\",\"PRK\",\"KOR\",\"KGZ\",\"LBN\",\"LIE\",\"LTU\",\"LUX\",\"MEX\",\"MDA\",\"MNE\",\"MAR\",\"MOZ\",\"NAM\",\"NZL\",\"MKD\",\"NOR\",\"PAK\",\"PAN\",\"PER\",\"POL\",\"QAT\",\"ROU\",\"RUS\",\"SMR\",\"SEN\",\"SRB\",\"SGP\",\"SVK\",\"ESP\",\"SUR\",\"SWE\",\"SWE\",\"SYR\",\"TJK\",\"THA\",\"TTO\",\"TUN\",\"TUR\",\"TKM\",\"UGA\",\"UKR\",\"GBR\",\"GBR\",\"USA\",\"UZB\",\"VEN\"],\"name\":\"\",\"type\":\"choropleth\",\"z\":[3641723321.444121,76961923736.22565,0.0,149984401089.64,82058912966.64017,82058912966.64017,0.0,0.0,126829314426.25195,237393489885.34705,4928824958.7394495,919726666.8099236,6674567625.132343,273853826490.718,0.0,191149211587.917,33400735637.70364,10175615440.31774,19912889864.03324,2874927453.875324,0.0,0.0,6761300001.197399,17881514680.195198,21669908178.094597,0.0,0.0,0.0,53645202405.8346,53645202405.8346,701288419611.269,701288419611.269,4279637933.825144,0.0,4445228215.26086,603200000.0001024,28861759207.2054,0.0,0.0,3381419251.00242,186325345119.7364,52569000004.92639,21747855638.52,0.0,477256775919.196,477256775919.196,2679409452.7156463,1105385973740.9849,3910372609.241527,0.0,7265315332.40668,0.0,65398646761.4115,0.0,0.0,534701915.53108,0.0,6019805490.835,205139086929.32303,0.0,0.0,21600589818.5659,0.0,2422096074.29358,23244547385.4902,0.0,64439382906.7142,23654444446.57292,4614086400.625998,18127754430.39472,0.0,7829094612.5805,0.0,0.0,0.0,4510107329.887759,0.0,11896256783.20051,0.0,232766822925.7021,795000000.105792,142092068270.63715,142092068270.63715,13062420380.432892,0.0,32353440724.69655,6235833332.954589,8744134355.083452,68823684201.06734,0.0,1244610000.0561423,0.0,564947710898.5293,564947710898.5293,2857307000859.75,0.0,59116511623.022514]},{\"customdata\":[[12486631.0,3641723321.444121,291.649791,0.0,0.0],[28024803.0,76961923736.22565,2746.207484,0.0,6.0],[3135123.0,0.0,0.0,0.0,0.0],[14692000.0,149984401089.64,10208.57617,9.0,88.0],[7549433.0,82058912966.64017,10869.54649,4.0,54.0],[7549433.0,82058912966.64017,10869.54649,7.0,61.0],[6160500.0,0.0,0.0,0.0,0.0],[9643000.0,0.0,0.0,0.0,0.0],[9859242.0,126829314426.25195,12864.00257,1.0,18.0],[122288383.0,237393489885.34705,1941.259538,4.0,14.0],[187921.0,4928824958.7394495,26228.17545,0.0,0.0],[4312834.0,919726666.8099236,213.2534354,0.0,0.0],[8519891.0,6674567625.132343,783.4099785,0.0,1.0],[24515667.0,273853826490.718,11170.56397,2.0,42.0],[127984.0,0.0,0.0,0.0,0.0],[981235000.0,191149211587.917,194.8047222,0.0,0.0],[26176195.0,33400735637.70364,1275.996593,0.0,3.0],[8303810.0,10175615440.31774,1225.415254,0.0,0.0],[9809107.0,19912889864.03324,2030.041049,20.0,46.0],[679327.0,2874927453.875324,4232.022949,0.0,0.0],[10304193.0,0.0,0.0,0.0,0.0],[324121.0,0.0,0.0,0.0,0.0],[5755800.0,6761300001.197399,1174.693353,0.0,0.0],[8135845.0,17881514680.195198,2197.86816,0.0,0.0],[43748556.0,21669908178.094597,495.3285356,0.0,0.0],[1657982.0,0.0,0.0,0.0,0.0],[1477219.0,0.0,0.0,0.0,0.0],[34945469.0,0.0,0.0,4.0,10.0],[4779535.0,53645202405.8346,11223.93756,8.0,71.0],[4779535.0,53645202405.8346,11223.93756,9.0,80.0],[55052582.0,701288419611.269,12738.52005,14.0,94.0],[55052582.0,701288419611.269,12738.52005,1.0,95.0],[749078.0,4279637933.825144,5713.207348,0.0,0.0],[4467700.0,0.0,0.0,0.0,0.0],[11865246.0,4445228215.26086,374.6427352,0.0,3.0],[778176.0,603200000.0001024,775.1459824,1.0,1.0],[5063100.0,28861759207.2054,5700.412634,0.0,0.0],[10711122.0,0.0,0.0,32.0,164.0],[10711122.0,0.0,0.0,1.0,165.0],[228138.0,3381419251.00242,14821.81509,0.0,0.0],[696828385.0,186325345119.7364,267.3905787,1.0,5.0],[13653369.0,52569000004.92639,3850.258497,0.0,1.0],[3412800.0,21747855638.52,6372.437775,2.0,3.0],[3878000.0,0.0,0.0,0.0,0.0],[56433883.0,477256775919.196,8456.918974,15.0,143.0],[56433883.0,477256775919.196,8456.918974,2.0,145.0],[2135546.0,2679409452.7156463,1254.671851,3.0,7.0],[116807000.0,1105385973740.9849,9463.353855,1.0,130.0],[2216903.0,3910372609.241527,1763.889809,0.0,0.0],[14172710.0,0.0,0.0,0.0,0.0],[16187124.0,7265315332.40668,448.8329942,0.0,19.0],[17973650.0,0.0,0.0,5.0,13.0],[38123775.0,65398646761.4115,1715.42946,0.0,12.0],[3617400.0,0.0,0.0,0.0,0.0],[2963702.0,0.0,0.0,1.0,2.0],[25003.0,534701915.53108,21385.51036,4.0,6.0],[3413202.0,0.0,0.0,0.0,0.0],[364150.0,6019805490.835,16531.1149,0.0,0.0],[67705186.0,205139086929.32303,3029.887355,4.0,18.0],[2716068.0,0.0,0.0,0.0,0.0],[572608.0,0.0,0.0,0.0,0.0],[19678444.0,21600589818.5659,1097.677734,0.0,1.0],[11413587.0,0.0,0.0,0.0,0.0],[975994.0,2422096074.29358,2481.67107,0.0,0.0],[3112900.0,23244547385.4902,7467.168038,0.0,18.0],[1907023.0,0.0,0.0,0.0,0.0],[4085620.0,64439382906.7142,15772.24091,10.0,73.0],[80624057.0,23654444446.57292,293.3918898,0.0,6.0],[1956987.0,4614086400.625998,2357.750154,0.0,0.0],[17492406.0,18127754430.39472,1036.321386,0.0,0.0],[35574150.0,0.0,0.0,32.0,144.0],[277450.0,7829094612.5805,28218.03789,0.0,0.0],[22207282.0,0.0,0.0,25.0,106.0],[139010000.0,0.0,0.0,0.0,0.0],[21346.0,0.0,0.0,0.0,0.0],[5703869.0,4510107329.887759,790.7101881,0.0,0.0],[7362000.0,0.0,0.0,0.0,0.0],[2413945.0,11896256783.20051,4928.139118,0.0,1.0],[4979815.0,0.0,0.0,0.0,0.0],[37491165.0,232766822925.7021,6208.578019,6.0,11.0],[375112.0,795000000.105792,2119.367016,0.0,0.0],[8310531.0,142092068270.63715,17097.83265,12.0,79.0],[8310531.0,142092068270.63715,17097.83265,4.0,83.0],[8898954.0,13062420380.432892,1467.860198,0.0,0.0],[4045965.0,0.0,0.0,0.0,0.0],[45737753.0,32353440724.69655,707.3683905,0.0,1.0],[1127852.0,6235833332.954589,5528.946469,0.0,4.0],[6578156.0,8744134355.083452,1329.268317,0.0,5.0],[44089069.0,68823684201.06734,1561.014686,0.0,18.0],[2862903.0,0.0,0.0,0.0,0.0],[13284026.0,1244610000.0561423,93.69222855,1.0,5.0],[49973920.0,0.0,0.0,0.0,0.0],[56314216.0,564947710898.5293,10032.06208,21.0,105.0],[56314216.0,564947710898.5293,10032.06208,1.0,106.0],[227225000.0,2857307000859.75,12574.79151,12.0,510.0],[15947129.0,0.0,0.0,0.0,0.0],[15210443.0,59116511623.022514,3886.573956,1.0,4.0]],\"geo\":\"geo\",\"hovertemplate\":\"Year=1980<br>A_Total=%{customdata[4]}<br>Country_Code=%{location}<br>Population=%{customdata[0]}<br>GDP=%{customdata[1]}<br>GDP_Per_Capita=%{customdata[2]}<br>Y_Total=%{customdata[3]}<extra></extra>\",\"legendgroup\":\"\",\"locations\":[\"AFG\",\"ARG\",\"ARM\",\"AUS\",\"AUT\",\"AUT\",\"AZE\",\"BLR\",\"BEL\",\"BRA\",\"BRN\",\"BDI\",\"CMR\",\"CAN\",\"CHI\",\"CHN\",\"COL\",\"CIV\",\"CUB\",\"CYP\",\"CZE\",\"DJI\",\"DOM\",\"ECU\",\"EGY\",\"ERI\",\"EST\",\"ETH\",\"FIN\",\"FIN\",\"FRA\",\"FRA\",\"GAB\",\"GEO\",\"GHA\",\"GUY\",\"HKG\",\"HUN\",\"HUN\",\"ISL\",\"IND\",\"IRQ\",\"IRL\",\"ISR\",\"ITA\",\"ITA\",\"JAM\",\"JPN\",\"JOR\",\"KAZ\",\"KEN\",\"PRK\",\"KOR\",\"KGZ\",\"LBN\",\"LIE\",\"LTU\",\"LUX\",\"MEX\",\"MDA\",\"MNE\",\"MAR\",\"MOZ\",\"NAM\",\"NZL\",\"MKD\",\"NOR\",\"PAK\",\"PAN\",\"PER\",\"POL\",\"QAT\",\"ROU\",\"RUS\",\"SMR\",\"SEN\",\"SRB\",\"SGP\",\"SVK\",\"ESP\",\"SUR\",\"SWE\",\"SWE\",\"SYR\",\"TJK\",\"THA\",\"TTO\",\"TUN\",\"TUR\",\"TKM\",\"UGA\",\"UKR\",\"GBR\",\"GBR\",\"USA\",\"UZB\",\"VEN\"],\"marker\":{\"color\":\"#636efa\",\"size\":[0.0,6.0,0.0,88.0,54.0,61.0,0.0,0.0,18.0,14.0,0.0,0.0,1.0,42.0,0.0,0.0,3.0,0.0,46.0,0.0,0.0,0.0,0.0,0.0,0.0,0.0,0.0,10.0,71.0,80.0,94.0,95.0,0.0,0.0,3.0,1.0,0.0,164.0,165.0,0.0,5.0,1.0,3.0,0.0,143.0,145.0,7.0,130.0,0.0,0.0,19.0,13.0,12.0,0.0,2.0,6.0,0.0,0.0,18.0,0.0,0.0,1.0,0.0,0.0,18.0,0.0,73.0,6.0,0.0,0.0,144.0,0.0,106.0,0.0,0.0,0.0,0.0,1.0,0.0,11.0,0.0,79.0,83.0,0.0,0.0,1.0,4.0,5.0,18.0,0.0,5.0,0.0,105.0,106.0,510.0,0.0,4.0],\"sizemode\":\"area\",\"sizeref\":4.565,\"symbol\":\"circle\"},\"mode\":\"markers\",\"name\":\"\",\"showlegend\":false,\"type\":\"scattergeo\"}],\"name\":\"1980\"},{\"data\":[{\"coloraxis\":\"coloraxis\",\"customdata\":[[10243686.0,0.0,0.0,0.0,0.0],[29832197.0,79092001989.16377,2651.229542,0.0,6.0],[3272102.0,0.0,0.0,0.0,0.0],[15579391.0,193519290019.0066,12421.4926,24.0,112.0],[7561434.0,67985344889.66736,8991.06504,3.0,64.0],[7561434.0,67985344889.66736,8991.06504,1.0,65.0],[6567850.0,0.0,0.0,0.0,0.0],[9910000.0,0.0,0.0,0.0,0.0],[9855372.0,83349530157.55972,8457.268803,4.0,22.0],[133888775.0,188339974126.99503,1406.6898,8.0,22.0],[214682.0,3782523089.27012,17619.19066,0.0,0.0],[4842268.0,987143931.29444,203.85983,0.0,0.0],[9508570.0,7311937457.867539,768.9839227,1.0,2.0],[25607053.0,355372558197.1652,13877.91708,44.0,86.0],[25607053.0,355372558197.1652,13877.91708,4.0,90.0],[132154.0,0.0,0.0,0.0,0.0],[1036825000.0,259946510908.425,250.713969,32.0,32.0],[28689032.0,38253120733.54815,1333.370911,1.0,4.0],[9621405.0,6841638714.100248,711.0852016,1.0,1.0],[10065539.0,24039383611.40772,2388.285775,0.0,46.0],[719678.0,3064924113.984056,4258.743652,0.0,0.0],[10330213.0,0.0,0.0,0.0,0.0],[382156.0,0.0,0.0,0.0,0.0],[6282104.0,11594000002.728392,1845.560023,1.0,1.0],[9022979.0,16912515180.638603,1874.382638,0.0,0.0],[48676443.0,33971188989.565823,697.8979337,1.0,1.0],[1849594.0,0.0,0.0,0.0,0.0],[1518617.0,0.0,0.0,0.0,0.0],[39202890.0,8096302367.838711,206.5230999,0.0,10.0],[4881803.0,52888800956.12087,10833.86629,12.0,92.0],[4881803.0,52888800956.12087,10833.86629,13.0,105.0],[56275701.0,530683779920.02325,9430.069648,28.0,123.0],[56275701.0,530683779920.02325,9430.069648,3.0,126.0],[833417.0,3561451562.173778,4273.312834,0.0,0.0],[4622200.0,0.0,0.0,0.0,0.0],[13342487.0,4412279843.599038,330.6939586,0.0,3.0],[776007.0,437631605.264169,563.953167,0.0,1.0],[5397900.0,33511383983.6661,6208.226159,0.0,0.0],[10668095.0,0.0,0.0,0.0,165.0],[239511.0,2864441387.33511,11959.54001,1.0,1.0],[762895156.0,212158234193.2387,278.0961873,0.0,5.0],[15377032.0,46938387089.21657,3052.499799,0.0,1.0],[3532423.0,20106648454.936275,5692.027386,1.0,4.0],[4159000.0,0.0,0.0,0.0,0.0],[56576718.0,437887689023.1579,7739.715284,32.0,177.0],[56576718.0,437887689023.1579,7739.715284,2.0,179.0],[2264095.0,2373566956.9503546,1048.351309,3.0,10.0],[120083000.0,1318381627544.23,10978.91981,32.0,162.0],[120083000.0,1318381627544.23,10978.91981,1.0,163.0],[2629939.0,4966710012.981483,1888.526697,0.0,0.0],[15147590.0,0.0,0.0,0.0,0.0],[18753176.0,6191437070.523599,330.1540534,3.0,22.0],[19045154.0,0.0,0.0,0.0,13.0],[40405956.0,97510235969.9373,2413.263925,19.0,31.0],[3916400.0,0.0,0.0,0.0,0.0],[3163558.0,0.0,0.0,0.0,2.0],[26420.0,502617355.2874,19024.12397,2.0,8.0],[3514205.0,0.0,0.0,0.0,0.0],[365998.0,4438435493.3216,12126.9392,0.0,0.0],[73489654.0,184261495832.9169,2507.312061,6.0,24.0],[2819728.0,0.0,0.0,0.0,0.0],[600884.0,0.0,0.0,0.0,0.0],[21817271.0,14727078716.887505,675.0192871,2.0,3.0],[12426223.0,0.0,0.0,0.0,0.0],[1061995.0,1951229617.16463,1837.324674,0.0,0.0],[3227100.0,21665975318.7501,6713.760131,11.0,29.0],[1988682.0,0.0,0.0,0.0,0.0],[4140099.0,62057955046.89123,14989.48577,3.0,76.0],[4140099.0,62057955046.89123,14989.48577,9.0,85.0],[94003867.0,31151825465.557343,331.3887658,1.0,7.0],[2147577.0,6183387099.552795,2879.238835,0.0,0.0],[19285646.0,17584444210.32153,911.7892245,1.0,1.0],[36904134.0,0.0,0.0,0.0,144.0],[348241.0,6704395824.46696,19252.17256,0.0,0.0],[22640547.0,0.0,0.0,53.0,159.0],[142745000.0,0.0,0.0,0.0,0.0],[22096.0,0.0,0.0,0.0,0.0],[6341801.0,3485165160.331181,549.5544815,0.0,0.0],[7489000.0,0.0,0.0,0.0,0.0],[2732221.0,19749361097.674065,7228.317584,0.0,1.0],[5127097.0,0.0,0.0,0.0,0.0],[38330364.0,172102910387.84378,4489.988939,5.0,16.0],[382617.0,863999999.833302,2258.132806,0.0,0.0],[8336605.0,109201362546.48216,13099.02083,19.0,102.0],[8336605.0,109201362546.48216,13099.02083,8.0,110.0],[10183138.0,19195414016.86828,1885.019531,1.0,1.0],[4529501.0,0.0,0.0,0.0,0.0],[49636724.0,41797592962.22028,842.0699352,1.0,2.0],[1184747.0,7757083333.160406,6547.459781,0.0,4.0],[7279157.0,8254891862.114652,1134.045036,0.0,5.0],[48106764.0,59989909467.43422,1247.016105,3.0,21.0],[3162165.0,0.0,0.0,0.0,0.0],[14617944.0,3615647476.4136143,247.3430926,0.0,5.0],[50754000.0,0.0,0.0,0.0,0.0],[56422072.0,461487097652.10175,8179.194441,37.0,143.0],[56422072.0,461487097652.10175,8179.194441,1.0,144.0],[235825000.0,4037612998821.0,17121.22548,174.0,684.0],[235825000.0,4037612998821.0,17121.22548,8.0,692.0],[17594364.0,0.0,0.0,0.0,0.0],[16953234.0,60010285713.78335,3539.754463,3.0,7.0]],\"geo\":\"geo\",\"hovertemplate\":\"<b>%{hovertext}</b><br><br>Year=1984<br>Country_Code=%{location}<br>Population=%{customdata[0]}<br>GDP=%{z}<br>GDP_Per_Capita=%{customdata[2]}<br>Y_Total=%{customdata[3]}<br>A_Total=%{customdata[4]}<extra></extra>\",\"hovertext\":[\"Afghanistan\",\"Argentina\",\"Armenia\",\"Australia\",\"Austria\",\"Austria\",\"Azerbaijan\",\"Belarus\",\"Belgium\",\"Brazil\",\"Brunei Darussalam\",\"Burundi\",\"Cameroon\",\"Canada\",\"Canada\",\"Channel Islands\",\"China\",\"Colombia\",\"Cote d'Ivoire\",\"Cuba\",\"Cyprus\",\"Czechia\",\"Djibouti\",\"Dominican Republic\",\"Ecuador\",\"Egypt, Arab Rep.\",\"Eritrea\",\"Estonia\",\"Ethiopia\",\"Finland\",\"Finland\",\"France\",\"France\",\"Gabon\",\"Georgia\",\"Ghana\",\"Guyana\",\"Hong Kong SAR, China\",\"Hungary\",\"Iceland\",\"India\",\"Iraq\",\"Ireland\",\"Israel\",\"Italy\",\"Italy\",\"Jamaica\",\"Japan\",\"Japan\",\"Jordan\",\"Kazakhstan\",\"Kenya\",\"Korea, Dem. People's Rep.\",\"Korea, Rep.\",\"Kyrgyz Republic\",\"Lebanon\",\"Liechtenstein\",\"Lithuania\",\"Luxembourg\",\"Mexico\",\"Moldova\",\"Montenegro\",\"Morocco\",\"Mozambique\",\"Namibia\",\"New Zealand\",\"North Macedonia\",\"Norway\",\"Norway\",\"Pakistan\",\"Panama\",\"Peru\",\"Poland\",\"Qatar\",\"Romania\",\"Russian Federation\",\"San Marino\",\"Senegal\",\"Serbia\",\"Singapore\",\"Slovak Republic\",\"Spain\",\"Suriname\",\"Sweden\",\"Sweden\",\"Syrian Arab Republic\",\"Tajikistan\",\"Thailand\",\"Trinidad and Tobago\",\"Tunisia\",\"Turkiye\",\"Turkmenistan\",\"Uganda\",\"Ukraine\",\"United Kingdom\",\"United Kingdom\",\"United States\",\"United States\",\"Uzbekistan\",\"Venezuela, RB\"],\"locations\":[\"AFG\",\"ARG\",\"ARM\",\"AUS\",\"AUT\",\"AUT\",\"AZE\",\"BLR\",\"BEL\",\"BRA\",\"BRN\",\"BDI\",\"CMR\",\"CAN\",\"CAN\",\"CHI\",\"CHN\",\"COL\",\"CIV\",\"CUB\",\"CYP\",\"CZE\",\"DJI\",\"DOM\",\"ECU\",\"EGY\",\"ERI\",\"EST\",\"ETH\",\"FIN\",\"FIN\",\"FRA\",\"FRA\",\"GAB\",\"GEO\",\"GHA\",\"GUY\",\"HKG\",\"HUN\",\"ISL\",\"IND\",\"IRQ\",\"IRL\",\"ISR\",\"ITA\",\"ITA\",\"JAM\",\"JPN\",\"JPN\",\"JOR\",\"KAZ\",\"KEN\",\"PRK\",\"KOR\",\"KGZ\",\"LBN\",\"LIE\",\"LTU\",\"LUX\",\"MEX\",\"MDA\",\"MNE\",\"MAR\",\"MOZ\",\"NAM\",\"NZL\",\"MKD\",\"NOR\",\"NOR\",\"PAK\",\"PAN\",\"PER\",\"POL\",\"QAT\",\"ROU\",\"RUS\",\"SMR\",\"SEN\",\"SRB\",\"SGP\",\"SVK\",\"ESP\",\"SUR\",\"SWE\",\"SWE\",\"SYR\",\"TJK\",\"THA\",\"TTO\",\"TUN\",\"TUR\",\"TKM\",\"UGA\",\"UKR\",\"GBR\",\"GBR\",\"USA\",\"USA\",\"UZB\",\"VEN\"],\"name\":\"\",\"type\":\"choropleth\",\"z\":[0.0,79092001989.16377,0.0,193519290019.0066,67985344889.66736,67985344889.66736,0.0,0.0,83349530157.55972,188339974126.99503,3782523089.27012,987143931.29444,7311937457.867539,355372558197.1652,355372558197.1652,0.0,259946510908.425,38253120733.54815,6841638714.100248,24039383611.40772,3064924113.984056,0.0,0.0,11594000002.728392,16912515180.638603,33971188989.565823,0.0,0.0,8096302367.838711,52888800956.12087,52888800956.12087,530683779920.02325,530683779920.02325,3561451562.173778,0.0,4412279843.599038,437631605.264169,33511383983.6661,0.0,2864441387.33511,212158234193.2387,46938387089.21657,20106648454.936275,0.0,437887689023.1579,437887689023.1579,2373566956.9503546,1318381627544.23,1318381627544.23,4966710012.981483,0.0,6191437070.523599,0.0,97510235969.9373,0.0,0.0,502617355.2874,0.0,4438435493.3216,184261495832.9169,0.0,0.0,14727078716.887505,0.0,1951229617.16463,21665975318.7501,0.0,62057955046.89123,62057955046.89123,31151825465.557343,6183387099.552795,17584444210.32153,0.0,6704395824.46696,0.0,0.0,0.0,3485165160.331181,0.0,19749361097.674065,0.0,172102910387.84378,863999999.833302,109201362546.48216,109201362546.48216,19195414016.86828,0.0,41797592962.22028,7757083333.160406,8254891862.114652,59989909467.43422,0.0,3615647476.4136143,0.0,461487097652.10175,461487097652.10175,4037612998821.0,4037612998821.0,0.0,60010285713.78335]},{\"customdata\":[[10243686.0,0.0,0.0,0.0,0.0],[29832197.0,79092001989.16377,2651.229542,0.0,6.0],[3272102.0,0.0,0.0,0.0,0.0],[15579391.0,193519290019.0066,12421.4926,24.0,112.0],[7561434.0,67985344889.66736,8991.06504,3.0,64.0],[7561434.0,67985344889.66736,8991.06504,1.0,65.0],[6567850.0,0.0,0.0,0.0,0.0],[9910000.0,0.0,0.0,0.0,0.0],[9855372.0,83349530157.55972,8457.268803,4.0,22.0],[133888775.0,188339974126.99503,1406.6898,8.0,22.0],[214682.0,3782523089.27012,17619.19066,0.0,0.0],[4842268.0,987143931.29444,203.85983,0.0,0.0],[9508570.0,7311937457.867539,768.9839227,1.0,2.0],[25607053.0,355372558197.1652,13877.91708,44.0,86.0],[25607053.0,355372558197.1652,13877.91708,4.0,90.0],[132154.0,0.0,0.0,0.0,0.0],[1036825000.0,259946510908.425,250.713969,32.0,32.0],[28689032.0,38253120733.54815,1333.370911,1.0,4.0],[9621405.0,6841638714.100248,711.0852016,1.0,1.0],[10065539.0,24039383611.40772,2388.285775,0.0,46.0],[719678.0,3064924113.984056,4258.743652,0.0,0.0],[10330213.0,0.0,0.0,0.0,0.0],[382156.0,0.0,0.0,0.0,0.0],[6282104.0,11594000002.728392,1845.560023,1.0,1.0],[9022979.0,16912515180.638603,1874.382638,0.0,0.0],[48676443.0,33971188989.565823,697.8979337,1.0,1.0],[1849594.0,0.0,0.0,0.0,0.0],[1518617.0,0.0,0.0,0.0,0.0],[39202890.0,8096302367.838711,206.5230999,0.0,10.0],[4881803.0,52888800956.12087,10833.86629,12.0,92.0],[4881803.0,52888800956.12087,10833.86629,13.0,105.0],[56275701.0,530683779920.02325,9430.069648,28.0,123.0],[56275701.0,530683779920.02325,9430.069648,3.0,126.0],[833417.0,3561451562.173778,4273.312834,0.0,0.0],[4622200.0,0.0,0.0,0.0,0.0],[13342487.0,4412279843.599038,330.6939586,0.0,3.0],[776007.0,437631605.264169,563.953167,0.0,1.0],[5397900.0,33511383983.6661,6208.226159,0.0,0.0],[10668095.0,0.0,0.0,0.0,165.0],[239511.0,2864441387.33511,11959.54001,1.0,1.0],[762895156.0,212158234193.2387,278.0961873,0.0,5.0],[15377032.0,46938387089.21657,3052.499799,0.0,1.0],[3532423.0,20106648454.936275,5692.027386,1.0,4.0],[4159000.0,0.0,0.0,0.0,0.0],[56576718.0,437887689023.1579,7739.715284,32.0,177.0],[56576718.0,437887689023.1579,7739.715284,2.0,179.0],[2264095.0,2373566956.9503546,1048.351309,3.0,10.0],[120083000.0,1318381627544.23,10978.91981,32.0,162.0],[120083000.0,1318381627544.23,10978.91981,1.0,163.0],[2629939.0,4966710012.981483,1888.526697,0.0,0.0],[15147590.0,0.0,0.0,0.0,0.0],[18753176.0,6191437070.523599,330.1540534,3.0,22.0],[19045154.0,0.0,0.0,0.0,13.0],[40405956.0,97510235969.9373,2413.263925,19.0,31.0],[3916400.0,0.0,0.0,0.0,0.0],[3163558.0,0.0,0.0,0.0,2.0],[26420.0,502617355.2874,19024.12397,2.0,8.0],[3514205.0,0.0,0.0,0.0,0.0],[365998.0,4438435493.3216,12126.9392,0.0,0.0],[73489654.0,184261495832.9169,2507.312061,6.0,24.0],[2819728.0,0.0,0.0,0.0,0.0],[600884.0,0.0,0.0,0.0,0.0],[21817271.0,14727078716.887505,675.0192871,2.0,3.0],[12426223.0,0.0,0.0,0.0,0.0],[1061995.0,1951229617.16463,1837.324674,0.0,0.0],[3227100.0,21665975318.7501,6713.760131,11.0,29.0],[1988682.0,0.0,0.0,0.0,0.0],[4140099.0,62057955046.89123,14989.48577,3.0,76.0],[4140099.0,62057955046.89123,14989.48577,9.0,85.0],[94003867.0,31151825465.557343,331.3887658,1.0,7.0],[2147577.0,6183387099.552795,2879.238835,0.0,0.0],[19285646.0,17584444210.32153,911.7892245,1.0,1.0],[36904134.0,0.0,0.0,0.0,144.0],[348241.0,6704395824.46696,19252.17256,0.0,0.0],[22640547.0,0.0,0.0,53.0,159.0],[142745000.0,0.0,0.0,0.0,0.0],[22096.0,0.0,0.0,0.0,0.0],[6341801.0,3485165160.331181,549.5544815,0.0,0.0],[7489000.0,0.0,0.0,0.0,0.0],[2732221.0,19749361097.674065,7228.317584,0.0,1.0],[5127097.0,0.0,0.0,0.0,0.0],[38330364.0,172102910387.84378,4489.988939,5.0,16.0],[382617.0,863999999.833302,2258.132806,0.0,0.0],[8336605.0,109201362546.48216,13099.02083,19.0,102.0],[8336605.0,109201362546.48216,13099.02083,8.0,110.0],[10183138.0,19195414016.86828,1885.019531,1.0,1.0],[4529501.0,0.0,0.0,0.0,0.0],[49636724.0,41797592962.22028,842.0699352,1.0,2.0],[1184747.0,7757083333.160406,6547.459781,0.0,4.0],[7279157.0,8254891862.114652,1134.045036,0.0,5.0],[48106764.0,59989909467.43422,1247.016105,3.0,21.0],[3162165.0,0.0,0.0,0.0,0.0],[14617944.0,3615647476.4136143,247.3430926,0.0,5.0],[50754000.0,0.0,0.0,0.0,0.0],[56422072.0,461487097652.10175,8179.194441,37.0,143.0],[56422072.0,461487097652.10175,8179.194441,1.0,144.0],[235825000.0,4037612998821.0,17121.22548,174.0,684.0],[235825000.0,4037612998821.0,17121.22548,8.0,692.0],[17594364.0,0.0,0.0,0.0,0.0],[16953234.0,60010285713.78335,3539.754463,3.0,7.0]],\"geo\":\"geo\",\"hovertemplate\":\"Year=1984<br>A_Total=%{customdata[4]}<br>Country_Code=%{location}<br>Population=%{customdata[0]}<br>GDP=%{customdata[1]}<br>GDP_Per_Capita=%{customdata[2]}<br>Y_Total=%{customdata[3]}<extra></extra>\",\"legendgroup\":\"\",\"locations\":[\"AFG\",\"ARG\",\"ARM\",\"AUS\",\"AUT\",\"AUT\",\"AZE\",\"BLR\",\"BEL\",\"BRA\",\"BRN\",\"BDI\",\"CMR\",\"CAN\",\"CAN\",\"CHI\",\"CHN\",\"COL\",\"CIV\",\"CUB\",\"CYP\",\"CZE\",\"DJI\",\"DOM\",\"ECU\",\"EGY\",\"ERI\",\"EST\",\"ETH\",\"FIN\",\"FIN\",\"FRA\",\"FRA\",\"GAB\",\"GEO\",\"GHA\",\"GUY\",\"HKG\",\"HUN\",\"ISL\",\"IND\",\"IRQ\",\"IRL\",\"ISR\",\"ITA\",\"ITA\",\"JAM\",\"JPN\",\"JPN\",\"JOR\",\"KAZ\",\"KEN\",\"PRK\",\"KOR\",\"KGZ\",\"LBN\",\"LIE\",\"LTU\",\"LUX\",\"MEX\",\"MDA\",\"MNE\",\"MAR\",\"MOZ\",\"NAM\",\"NZL\",\"MKD\",\"NOR\",\"NOR\",\"PAK\",\"PAN\",\"PER\",\"POL\",\"QAT\",\"ROU\",\"RUS\",\"SMR\",\"SEN\",\"SRB\",\"SGP\",\"SVK\",\"ESP\",\"SUR\",\"SWE\",\"SWE\",\"SYR\",\"TJK\",\"THA\",\"TTO\",\"TUN\",\"TUR\",\"TKM\",\"UGA\",\"UKR\",\"GBR\",\"GBR\",\"USA\",\"USA\",\"UZB\",\"VEN\"],\"marker\":{\"color\":\"#636efa\",\"size\":[0.0,6.0,0.0,112.0,64.0,65.0,0.0,0.0,22.0,22.0,0.0,0.0,2.0,86.0,90.0,0.0,32.0,4.0,1.0,46.0,0.0,0.0,0.0,1.0,0.0,1.0,0.0,0.0,10.0,92.0,105.0,123.0,126.0,0.0,0.0,3.0,1.0,0.0,165.0,1.0,5.0,1.0,4.0,0.0,177.0,179.0,10.0,162.0,163.0,0.0,0.0,22.0,13.0,31.0,0.0,2.0,8.0,0.0,0.0,24.0,0.0,0.0,3.0,0.0,0.0,29.0,0.0,76.0,85.0,7.0,0.0,1.0,144.0,0.0,159.0,0.0,0.0,0.0,0.0,1.0,0.0,16.0,0.0,102.0,110.0,1.0,0.0,2.0,4.0,5.0,21.0,0.0,5.0,0.0,143.0,144.0,684.0,692.0,0.0,7.0],\"sizemode\":\"area\",\"sizeref\":4.565,\"symbol\":\"circle\"},\"mode\":\"markers\",\"name\":\"\",\"showlegend\":false,\"type\":\"scattergeo\"}],\"name\":\"1984\"},{\"data\":[{\"coloraxis\":\"coloraxis\",\"customdata\":[[10383460.0,0.0,0.0,0.0,0.0],[31690792.0,126206817195.3464,3982.444402,2.0,8.0],[3366838.0,0.0,0.0,0.0,0.0],[16532164.0,236153958031.51285,14284.51581,14.0,126.0],[7585317.0,133339397082.104,17578.61894,1.0,66.0],[7585317.0,133339397082.104,17578.61894,10.0,76.0],[6974600.0,0.0,0.0,0.0,0.0],[10140000.0,0.0,0.0,0.0,0.0],[9901664.0,162299103697.13315,16391.09383,2.0,24.0],[145253973.0,258816125651.42136,1781.817876,6.0,28.0],[245729.0,2690717550.70184,10949.93896,0.0,0.0],[5271840.0,1082403219.682512,205.3179193,0.0,0.0],[10759573.0,12236058137.85654,1137.225254,0.0,2.0],[26791747.0,507354351115.2827,18936.9641,10.0,100.0],[26791747.0,507354351115.2827,18936.9641,5.0,105.0],[137765.0,0.0,0.0,1.0,1.0],[1101630000.0,312353631163.176,283.5376952,28.0,60.0],[31256727.0,39212550046.20994,1254.531546,1.0,5.0],[11043193.0,10255170459.619505,928.641785,0.0,1.0],[10425433.0,27458999475.819004,2633.847388,0.0,46.0],[766412.0,5859702489.889795,7645.629883,0.0,0.0],[10355276.0,0.0,0.0,0.0,0.0],[482337.0,395794538.6208651,820.5767723,1.0,1.0],[6834207.0,5374314928.2020445,786.3845693,0.0,1.0],[9969788.0,13051886556.27571,1309.143841,0.0,0.0],[54298446.0,34980124927.44109,644.2196325,0.0,1.0],[2051546.0,0.0,0.0,0.0,0.0],[1561900.0,0.0,0.0,0.0,0.0],[44511537.0,10908935747.368416,245.0810842,0.0,10.0],[4946481.0,109058990749.30692,22047.79332,4.0,109.0],[4946481.0,109058990749.30692,22047.79332,7.0,116.0],[57472651.0,1018847043031.3104,17727.51083,16.0,142.0],[57472651.0,1018847043031.3104,17727.51083,2.0,144.0],[930464.0,3834503378.766305,4121.065811,0.0,0.0],[4790700.0,0.0,0.0,0.0,0.0],[14671677.0,5197840978.444301,354.2772226,0.0,3.0],[758450.0,413799989.986845,545.5863801,0.0,1.0],[5627600.0,59707404563.664,10609.74564,0.0,0.0],[10596487.0,0.0,0.0,23.0,188.0],[249740.0,6106635816.9368,24451.97332,0.0,1.0],[833729681.0,296588994850.60297,355.7375989,0.0,5.0],[16987346.0,62684516137.11112,3690.071194,0.0,1.0],[3524949.0,37772896227.61572,10715.87028,0.0,4.0],[4442000.0,0.0,0.0,0.0,0.0],[56629288.0,891608956954.9829,15744.66126,14.0,193.0],[56629288.0,891608956954.9829,15744.66126,5.0,198.0],[2354805.0,3828310735.71735,1625.74427,2.0,12.0],[122578000.0,3071683012754.54,25059.00743,14.0,177.0],[122578000.0,3071683012754.54,25059.00743,1.0,178.0],[3157177.0,6277317658.604143,1988.269159,0.0,0.0],[16430590.0,0.0,0.0,0.0,0.0],[21626122.0,8355380879.849329,386.3559486,9.0,31.0],[20197464.0,0.0,0.0,0.0,13.0],[42031247.0,199590823965.3612,4748.629608,33.0,64.0],[4218400.0,0.0,0.0,0.0,0.0],[3457148.0,3313540067.89154,958.4605773,0.0,2.0],[27944.0,1161757670.9547198,41574.49438,1.0,9.0],[3655049.0,0.0,0.0,0.0,0.0],[373450.0,9418167855.866,25219.35428,0.0,0.0],[78892015.0,181611549955.56924,2302.027017,2.0,26.0],[2931424.0,0.0,0.0,0.0,0.0],[607413.0,0.0,0.0,0.0,0.0],[23720590.0,25525555470.29607,1076.092773,3.0,6.0],[12956772.0,0.0,0.0,0.0,0.0],[1207949.0,2495059627.090335,2065.533915,0.0,0.0],[3283400.0,45176811595.542,13759.15563,13.0,42.0],[2031932.0,0.0,0.0,0.0,0.0],[4209488.0,101900260860.58736,24207.28147,5.0,90.0],[4209488.0,101900260860.58736,24207.28147,5.0,95.0],[107967838.0,38472742810.002304,356.3352154,1.0,8.0],[2347821.0,5902783401.129993,2514.153933,0.0,0.0],[21143799.0,15439408448.252115,730.2097626,1.0,2.0],[37824487.0,0.0,0.0,16.0,160.0],[412142.0,6038187032.56208,14650.74424,0.0,0.0],[23057662.0,40809523806.20132,1769.889931,24.0,183.0],[146857000.0,554713452088.6641,3777.235352,0.0,0.0],[22542.0,0.0,0.0,0.0,0.0],[7113636.0,6418419798.145028,902.2699219,1.0,1.0],[7572000.0,0.0,0.0,0.0,0.0],[2846108.0,25371462488.84841,8914.441226,0.0,1.0],[5250596.0,0.0,0.0,0.0,0.0],[38766939.0,376160409937.19183,9703.123838,4.0,20.0],[402139.0,1161000000.018021,2887.061439,1.0,1.0],[8436489.0,206986674530.798,24534.69382,11.0,121.0],[8436489.0,206986674530.798,24534.69382,6.0,127.0],[11657772.0,16574342982.993431,1421.741906,0.0,1.0],[5100020.0,0.0,0.0,0.0,0.0],[53410965.0,61667199816.29907,1154.579398,1.0,3.0],[1244633.0,4496852073.990796,3612.994412,0.0,4.0],[8068788.0,10096292844.394848,1251.277496,0.0,5.0],[52275890.0,90852814021.3252,1737.94868,2.0,23.0],[3525110.0,3010033444.818121,853.8835511,0.0,0.0],[16489323.0,6508931651.222725,394.7361363,0.0,5.0],[51521000.0,74703519199.004,1449.962524,0.0,0.0],[56928327.0,910122732262.202,15987.16808,24.0,168.0],[244499000.0,5236437999873.07,21417.01193,94.0,786.0],[244499000.0,5236437999873.07,21417.01193,6.0,792.0],[19600028.0,0.0,0.0,0.0,0.0],[18800770.0,60226413785.11265,3203.401445,0.0,7.0]],\"geo\":\"geo\",\"hovertemplate\":\"<b>%{hovertext}</b><br><br>Year=1988<br>Country_Code=%{location}<br>Population=%{customdata[0]}<br>GDP=%{z}<br>GDP_Per_Capita=%{customdata[2]}<br>Y_Total=%{customdata[3]}<br>A_Total=%{customdata[4]}<extra></extra>\",\"hovertext\":[\"Afghanistan\",\"Argentina\",\"Armenia\",\"Australia\",\"Austria\",\"Austria\",\"Azerbaijan\",\"Belarus\",\"Belgium\",\"Brazil\",\"Brunei Darussalam\",\"Burundi\",\"Cameroon\",\"Canada\",\"Canada\",\"Channel Islands\",\"China\",\"Colombia\",\"Cote d'Ivoire\",\"Cuba\",\"Cyprus\",\"Czechia\",\"Djibouti\",\"Dominican Republic\",\"Ecuador\",\"Egypt, Arab Rep.\",\"Eritrea\",\"Estonia\",\"Ethiopia\",\"Finland\",\"Finland\",\"France\",\"France\",\"Gabon\",\"Georgia\",\"Ghana\",\"Guyana\",\"Hong Kong SAR, China\",\"Hungary\",\"Iceland\",\"India\",\"Iraq\",\"Ireland\",\"Israel\",\"Italy\",\"Italy\",\"Jamaica\",\"Japan\",\"Japan\",\"Jordan\",\"Kazakhstan\",\"Kenya\",\"Korea, Dem. People's Rep.\",\"Korea, Rep.\",\"Kyrgyz Republic\",\"Lebanon\",\"Liechtenstein\",\"Lithuania\",\"Luxembourg\",\"Mexico\",\"Moldova\",\"Montenegro\",\"Morocco\",\"Mozambique\",\"Namibia\",\"New Zealand\",\"North Macedonia\",\"Norway\",\"Norway\",\"Pakistan\",\"Panama\",\"Peru\",\"Poland\",\"Qatar\",\"Romania\",\"Russian Federation\",\"San Marino\",\"Senegal\",\"Serbia\",\"Singapore\",\"Slovak Republic\",\"Spain\",\"Suriname\",\"Sweden\",\"Sweden\",\"Syrian Arab Republic\",\"Tajikistan\",\"Thailand\",\"Trinidad and Tobago\",\"Tunisia\",\"Turkiye\",\"Turkmenistan\",\"Uganda\",\"Ukraine\",\"United Kingdom\",\"United States\",\"United States\",\"Uzbekistan\",\"Venezuela, RB\"],\"locations\":[\"AFG\",\"ARG\",\"ARM\",\"AUS\",\"AUT\",\"AUT\",\"AZE\",\"BLR\",\"BEL\",\"BRA\",\"BRN\",\"BDI\",\"CMR\",\"CAN\",\"CAN\",\"CHI\",\"CHN\",\"COL\",\"CIV\",\"CUB\",\"CYP\",\"CZE\",\"DJI\",\"DOM\",\"ECU\",\"EGY\",\"ERI\",\"EST\",\"ETH\",\"FIN\",\"FIN\",\"FRA\",\"FRA\",\"GAB\",\"GEO\",\"GHA\",\"GUY\",\"HKG\",\"HUN\",\"ISL\",\"IND\",\"IRQ\",\"IRL\",\"ISR\",\"ITA\",\"ITA\",\"JAM\",\"JPN\",\"JPN\",\"JOR\",\"KAZ\",\"KEN\",\"PRK\",\"KOR\",\"KGZ\",\"LBN\",\"LIE\",\"LTU\",\"LUX\",\"MEX\",\"MDA\",\"MNE\",\"MAR\",\"MOZ\",\"NAM\",\"NZL\",\"MKD\",\"NOR\",\"NOR\",\"PAK\",\"PAN\",\"PER\",\"POL\",\"QAT\",\"ROU\",\"RUS\",\"SMR\",\"SEN\",\"SRB\",\"SGP\",\"SVK\",\"ESP\",\"SUR\",\"SWE\",\"SWE\",\"SYR\",\"TJK\",\"THA\",\"TTO\",\"TUN\",\"TUR\",\"TKM\",\"UGA\",\"UKR\",\"GBR\",\"USA\",\"USA\",\"UZB\",\"VEN\"],\"name\":\"\",\"type\":\"choropleth\",\"z\":[0.0,126206817195.3464,0.0,236153958031.51285,133339397082.104,133339397082.104,0.0,0.0,162299103697.13315,258816125651.42136,2690717550.70184,1082403219.682512,12236058137.85654,507354351115.2827,507354351115.2827,0.0,312353631163.176,39212550046.20994,10255170459.619505,27458999475.819004,5859702489.889795,0.0,395794538.6208651,5374314928.2020445,13051886556.27571,34980124927.44109,0.0,0.0,10908935747.368416,109058990749.30692,109058990749.30692,1018847043031.3104,1018847043031.3104,3834503378.766305,0.0,5197840978.444301,413799989.986845,59707404563.664,0.0,6106635816.9368,296588994850.60297,62684516137.11112,37772896227.61572,0.0,891608956954.9829,891608956954.9829,3828310735.71735,3071683012754.54,3071683012754.54,6277317658.604143,0.0,8355380879.849329,0.0,199590823965.3612,0.0,3313540067.89154,1161757670.9547198,0.0,9418167855.866,181611549955.56924,0.0,0.0,25525555470.29607,0.0,2495059627.090335,45176811595.542,0.0,101900260860.58736,101900260860.58736,38472742810.002304,5902783401.129993,15439408448.252115,0.0,6038187032.56208,40809523806.20132,554713452088.6641,0.0,6418419798.145028,0.0,25371462488.84841,0.0,376160409937.19183,1161000000.018021,206986674530.798,206986674530.798,16574342982.993431,0.0,61667199816.29907,4496852073.990796,10096292844.394848,90852814021.3252,3010033444.818121,6508931651.222725,74703519199.004,910122732262.202,5236437999873.07,5236437999873.07,0.0,60226413785.11265]},{\"customdata\":[[10383460.0,0.0,0.0,0.0,0.0],[31690792.0,126206817195.3464,3982.444402,2.0,8.0],[3366838.0,0.0,0.0,0.0,0.0],[16532164.0,236153958031.51285,14284.51581,14.0,126.0],[7585317.0,133339397082.104,17578.61894,1.0,66.0],[7585317.0,133339397082.104,17578.61894,10.0,76.0],[6974600.0,0.0,0.0,0.0,0.0],[10140000.0,0.0,0.0,0.0,0.0],[9901664.0,162299103697.13315,16391.09383,2.0,24.0],[145253973.0,258816125651.42136,1781.817876,6.0,28.0],[245729.0,2690717550.70184,10949.93896,0.0,0.0],[5271840.0,1082403219.682512,205.3179193,0.0,0.0],[10759573.0,12236058137.85654,1137.225254,0.0,2.0],[26791747.0,507354351115.2827,18936.9641,10.0,100.0],[26791747.0,507354351115.2827,18936.9641,5.0,105.0],[137765.0,0.0,0.0,1.0,1.0],[1101630000.0,312353631163.176,283.5376952,28.0,60.0],[31256727.0,39212550046.20994,1254.531546,1.0,5.0],[11043193.0,10255170459.619505,928.641785,0.0,1.0],[10425433.0,27458999475.819004,2633.847388,0.0,46.0],[766412.0,5859702489.889795,7645.629883,0.0,0.0],[10355276.0,0.0,0.0,0.0,0.0],[482337.0,395794538.6208651,820.5767723,1.0,1.0],[6834207.0,5374314928.2020445,786.3845693,0.0,1.0],[9969788.0,13051886556.27571,1309.143841,0.0,0.0],[54298446.0,34980124927.44109,644.2196325,0.0,1.0],[2051546.0,0.0,0.0,0.0,0.0],[1561900.0,0.0,0.0,0.0,0.0],[44511537.0,10908935747.368416,245.0810842,0.0,10.0],[4946481.0,109058990749.30692,22047.79332,4.0,109.0],[4946481.0,109058990749.30692,22047.79332,7.0,116.0],[57472651.0,1018847043031.3104,17727.51083,16.0,142.0],[57472651.0,1018847043031.3104,17727.51083,2.0,144.0],[930464.0,3834503378.766305,4121.065811,0.0,0.0],[4790700.0,0.0,0.0,0.0,0.0],[14671677.0,5197840978.444301,354.2772226,0.0,3.0],[758450.0,413799989.986845,545.5863801,0.0,1.0],[5627600.0,59707404563.664,10609.74564,0.0,0.0],[10596487.0,0.0,0.0,23.0,188.0],[249740.0,6106635816.9368,24451.97332,0.0,1.0],[833729681.0,296588994850.60297,355.7375989,0.0,5.0],[16987346.0,62684516137.11112,3690.071194,0.0,1.0],[3524949.0,37772896227.61572,10715.87028,0.0,4.0],[4442000.0,0.0,0.0,0.0,0.0],[56629288.0,891608956954.9829,15744.66126,14.0,193.0],[56629288.0,891608956954.9829,15744.66126,5.0,198.0],[2354805.0,3828310735.71735,1625.74427,2.0,12.0],[122578000.0,3071683012754.54,25059.00743,14.0,177.0],[122578000.0,3071683012754.54,25059.00743,1.0,178.0],[3157177.0,6277317658.604143,1988.269159,0.0,0.0],[16430590.0,0.0,0.0,0.0,0.0],[21626122.0,8355380879.849329,386.3559486,9.0,31.0],[20197464.0,0.0,0.0,0.0,13.0],[42031247.0,199590823965.3612,4748.629608,33.0,64.0],[4218400.0,0.0,0.0,0.0,0.0],[3457148.0,3313540067.89154,958.4605773,0.0,2.0],[27944.0,1161757670.9547198,41574.49438,1.0,9.0],[3655049.0,0.0,0.0,0.0,0.0],[373450.0,9418167855.866,25219.35428,0.0,0.0],[78892015.0,181611549955.56924,2302.027017,2.0,26.0],[2931424.0,0.0,0.0,0.0,0.0],[607413.0,0.0,0.0,0.0,0.0],[23720590.0,25525555470.29607,1076.092773,3.0,6.0],[12956772.0,0.0,0.0,0.0,0.0],[1207949.0,2495059627.090335,2065.533915,0.0,0.0],[3283400.0,45176811595.542,13759.15563,13.0,42.0],[2031932.0,0.0,0.0,0.0,0.0],[4209488.0,101900260860.58736,24207.28147,5.0,90.0],[4209488.0,101900260860.58736,24207.28147,5.0,95.0],[107967838.0,38472742810.002304,356.3352154,1.0,8.0],[2347821.0,5902783401.129993,2514.153933,0.0,0.0],[21143799.0,15439408448.252115,730.2097626,1.0,2.0],[37824487.0,0.0,0.0,16.0,160.0],[412142.0,6038187032.56208,14650.74424,0.0,0.0],[23057662.0,40809523806.20132,1769.889931,24.0,183.0],[146857000.0,554713452088.6641,3777.235352,0.0,0.0],[22542.0,0.0,0.0,0.0,0.0],[7113636.0,6418419798.145028,902.2699219,1.0,1.0],[7572000.0,0.0,0.0,0.0,0.0],[2846108.0,25371462488.84841,8914.441226,0.0,1.0],[5250596.0,0.0,0.0,0.0,0.0],[38766939.0,376160409937.19183,9703.123838,4.0,20.0],[402139.0,1161000000.018021,2887.061439,1.0,1.0],[8436489.0,206986674530.798,24534.69382,11.0,121.0],[8436489.0,206986674530.798,24534.69382,6.0,127.0],[11657772.0,16574342982.993431,1421.741906,0.0,1.0],[5100020.0,0.0,0.0,0.0,0.0],[53410965.0,61667199816.29907,1154.579398,1.0,3.0],[1244633.0,4496852073.990796,3612.994412,0.0,4.0],[8068788.0,10096292844.394848,1251.277496,0.0,5.0],[52275890.0,90852814021.3252,1737.94868,2.0,23.0],[3525110.0,3010033444.818121,853.8835511,0.0,0.0],[16489323.0,6508931651.222725,394.7361363,0.0,5.0],[51521000.0,74703519199.004,1449.962524,0.0,0.0],[56928327.0,910122732262.202,15987.16808,24.0,168.0],[244499000.0,5236437999873.07,21417.01193,94.0,786.0],[244499000.0,5236437999873.07,21417.01193,6.0,792.0],[19600028.0,0.0,0.0,0.0,0.0],[18800770.0,60226413785.11265,3203.401445,0.0,7.0]],\"geo\":\"geo\",\"hovertemplate\":\"Year=1988<br>A_Total=%{customdata[4]}<br>Country_Code=%{location}<br>Population=%{customdata[0]}<br>GDP=%{customdata[1]}<br>GDP_Per_Capita=%{customdata[2]}<br>Y_Total=%{customdata[3]}<extra></extra>\",\"legendgroup\":\"\",\"locations\":[\"AFG\",\"ARG\",\"ARM\",\"AUS\",\"AUT\",\"AUT\",\"AZE\",\"BLR\",\"BEL\",\"BRA\",\"BRN\",\"BDI\",\"CMR\",\"CAN\",\"CAN\",\"CHI\",\"CHN\",\"COL\",\"CIV\",\"CUB\",\"CYP\",\"CZE\",\"DJI\",\"DOM\",\"ECU\",\"EGY\",\"ERI\",\"EST\",\"ETH\",\"FIN\",\"FIN\",\"FRA\",\"FRA\",\"GAB\",\"GEO\",\"GHA\",\"GUY\",\"HKG\",\"HUN\",\"ISL\",\"IND\",\"IRQ\",\"IRL\",\"ISR\",\"ITA\",\"ITA\",\"JAM\",\"JPN\",\"JPN\",\"JOR\",\"KAZ\",\"KEN\",\"PRK\",\"KOR\",\"KGZ\",\"LBN\",\"LIE\",\"LTU\",\"LUX\",\"MEX\",\"MDA\",\"MNE\",\"MAR\",\"MOZ\",\"NAM\",\"NZL\",\"MKD\",\"NOR\",\"NOR\",\"PAK\",\"PAN\",\"PER\",\"POL\",\"QAT\",\"ROU\",\"RUS\",\"SMR\",\"SEN\",\"SRB\",\"SGP\",\"SVK\",\"ESP\",\"SUR\",\"SWE\",\"SWE\",\"SYR\",\"TJK\",\"THA\",\"TTO\",\"TUN\",\"TUR\",\"TKM\",\"UGA\",\"UKR\",\"GBR\",\"USA\",\"USA\",\"UZB\",\"VEN\"],\"marker\":{\"color\":\"#636efa\",\"size\":[0.0,8.0,0.0,126.0,66.0,76.0,0.0,0.0,24.0,28.0,0.0,0.0,2.0,100.0,105.0,1.0,60.0,5.0,1.0,46.0,0.0,0.0,1.0,1.0,0.0,1.0,0.0,0.0,10.0,109.0,116.0,142.0,144.0,0.0,0.0,3.0,1.0,0.0,188.0,1.0,5.0,1.0,4.0,0.0,193.0,198.0,12.0,177.0,178.0,0.0,0.0,31.0,13.0,64.0,0.0,2.0,9.0,0.0,0.0,26.0,0.0,0.0,6.0,0.0,0.0,42.0,0.0,90.0,95.0,8.0,0.0,2.0,160.0,0.0,183.0,0.0,0.0,1.0,0.0,1.0,0.0,20.0,1.0,121.0,127.0,1.0,0.0,3.0,4.0,5.0,23.0,0.0,5.0,0.0,168.0,786.0,792.0,0.0,7.0],\"sizemode\":\"area\",\"sizeref\":4.565,\"symbol\":\"circle\"},\"mode\":\"markers\",\"name\":\"\",\"showlegend\":false,\"type\":\"scattergeo\"}],\"name\":\"1988\"},{\"data\":[{\"coloraxis\":\"coloraxis\",\"customdata\":[[12057433.0,0.0,0.0,0.0,0.0],[33568285.0,228788617209.93265,6815.61829,1.0,9.0],[3574555.0,1272835453.460393,356.0822126,0.0,0.0],[17478635.0,325531800280.71576,18624.55508,27.0,153.0],[7840709.0,195078126737.1611,24880.16412,2.0,78.0],[7840709.0,195078126737.1611,24880.16412,21.0,99.0],[7382050.0,446305555.558239,60.45821358,0.0,0.0],[10216470.0,17037037036.68879,1667.605057,0.0,0.0],[10045158.0,234781652436.47888,23372.61917,3.0,27.0],[155900790.0,328187960948.3209,2105.107748,3.0,31.0],[277416.0,4183548188.48136,15080.41421,0.0,0.0],[5743085.0,1083037670.331578,188.5811668,0.0,0.0],[12128604.0,12071775381.082165,995.3144963,0.0,2.0],[28371264.0,592387689250.3892,20879.84833,18.0,123.0],[28371264.0,592387689250.3892,20879.84833,7.0,130.0],[142011.0,0.0,0.0,0.0,1.0],[1164970000.0,426915712708.731,366.4606923,54.0,114.0],[1164970000.0,426915712708.731,366.4606923,3.0,117.0],[33939039.0,58418985457.89552,1721.29168,1.0,6.0],[12838314.0,11152971316.26048,868.7255442,0.0,1.0],[10783748.0,22085858246.428574,2048.068839,31.0,77.0],[810431.0,9166033179.84837,11310.07227,0.0,0.0],[10319123.0,34805013234.61789,3372.86543,0.0,0.0],[623197.0,478058304.8941723,767.1062359,0.0,1.0],[7427340.0,11605382500.56498,1562.522047,0.0,1.0],[10914222.0,18094238114.71584,1657.85872,0.0,0.0],[59989142.0,41855986520.652245,697.7260405,0.0,1.0],[1921153.0,477101651.5777382,248.3413094,0.0,0.0],[1533091.0,0.0,0.0,2.0,2.0],[52011554.0,10492993079.62904,201.7435026,3.0,13.0],[5041992.0,112532519244.84431,22319.05946,5.0,121.0],[5041992.0,112532519244.84431,22319.05946,7.0,128.0],[58849943.0,1401465923313.54,23814.22737,29.0,173.0],[58849943.0,1401465923313.54,23814.22737,9.0,182.0],[1037446.0,5592390848.274922,5390.536807,0.0,0.0],[4873500.0,3690328963.61475,757.2235485,0.0,0.0],[16241548.0,6413901601.84574,394.9070373,1.0,4.0],[744998.0,373573141.46889096,501.4418045,0.0,1.0],[5800500.0,104272278618.69,17976.42938,0.0,0.0],[10369341.0,38730585918.66462,3735.10582,30.0,218.0],[261057.0,7080981738.588779,27124.27454,0.0,1.0],[907574049.0,288208430402.6747,317.5591355,0.0,5.0],[18385673.0,553671957.5856882,30.11431551,0.0,1.0],[3558430.0,55918538125.9425,15714.38475,2.0,6.0],[5123000.0,0.0,0.0,2.0,2.0],[56797087.0,1320161645062.694,23243.47453,19.0,217.0],[56797087.0,1320161645062.694,23243.47453,14.0,231.0],[2434574.0,3535460090.092138,1452.188387,4.0,16.0],[124425000.0,3908809463832.0,31414.98464,22.0,200.0],[124425000.0,3908809463832.0,31414.98464,7.0,207.0],[3866887.0,5310973815.628376,1373.449448,0.0,0.0],[16439095.0,24917355371.378605,1515.737659,0.0,0.0],[24655723.0,8209129171.298762,332.9502514,8.0,39.0],[21439991.0,0.0,0.0,9.0,22.0],[21439991.0,0.0,0.0,1.0,23.0],[43747962.0,355525267408.2452,8126.67039,29.0,93.0],[43747962.0,355525267408.2452,8126.67039,4.0,97.0],[4515400.0,2316562500.18298,513.0359437,0.0,0.0],[3745407.0,5843579162.334156,1560.198708,0.0,2.0],[29581.0,1631197909.3216,55143.4336,0.0,9.0],[3700114.0,0.0,0.0,2.0,2.0],[392175.0,15518702636.21475,39570.86157,2.0,2.0],[84993164.0,363157598260.14325,4272.785965,1.0,27.0],[2975621.0,0.0,0.0,0.0,0.0],[608516.0,0.0,0.0,0.0,0.0],[25400676.0,33461071397.450256,1317.329956,3.0,9.0],[13816881.0,2639953231.0320897,191.0672337,0.0,0.0],[1461687.0,3429538534.842483,2346.287909,2.0,2.0],[3531700.0,41649829853.908005,11793.13924,10.0,52.0],[3531700.0,41649829853.908005,11793.13924,1.0,53.0],[2018023.0,2436849341.650654,1207.542898,0.0,0.0],[4286401.0,130838040085.16904,30523.98506,7.0,102.0],[4286401.0,130838040085.16904,30523.98506,20.0,122.0],[122375179.0,48884606851.14373,399.4650488,1.0,9.0],[2554382.0,8042337701.130841,3148.447531,0.0,0.0],[23047248.0,35966302293.22099,1560.546504,1.0,3.0],[38363667.0,94337050705.45187,2459.020685,19.0,179.0],[471293.0,7646153985.243441,16223.78008,1.0,1.0],[22794284.0,25121666672.764942,1102.103785,18.0,201.0],[148538197.0,460290570967.0306,3098.802734,0.0,0.0],[23808.0,0.0,0.0,0.0,0.0],[7974514.0,7769817869.1997795,974.3312093,0.0,1.0],[7646424.0,0.0,0.0,0.0,0.0],[3230698.0,52130263957.2277,16135.91365,0.0,1.0],[5305016.0,15495514294.990671,2920.917542,0.0,0.0],[39157685.0,630916018389.8502,16112.18892,22.0,42.0],[39157685.0,630916018389.8502,16112.18892,1.0,43.0],[419521.0,404600000.0049265,964.4332465,1.0,2.0],[8668067.0,284321115622.7602,32800.98269,12.0,139.0],[8668067.0,284321115622.7602,32800.98269,4.0,143.0],[13156406.0,33107349664.99777,2516.443295,0.0,1.0],[5656208.0,2156666666.728065,381.2919657,0.0,0.0],[56939020.0,111452869402.71062,1957.407581,1.0,4.0],[1285502.0,5439552941.05412,4231.46206,0.0,4.0],[8802540.0,15497286296.04162,1760.547103,0.0,5.0],[56302037.0,158459130432.4716,2814.447556,6.0,29.0],[3926369.0,3200539816.1096206,815.1398445,0.0,0.0],[18801966.0,2857457860.09042,151.9765465,0.0,5.0],[52150400.0,73945905950.2688,1417.935547,0.0,0.0],[57580402.0,1179659529930.8577,20487.17079,20.0,188.0],[256514000.0,6520327000940.92,25418.99078,108.0,900.0],[256514000.0,6520327000940.92,25418.99078,11.0,911.0],[21449000.0,12941297376.1697,603.3520153,0.0,0.0],[20700461.0,60401798249.68738,2917.896285,0.0,7.0]],\"geo\":\"geo\",\"hovertemplate\":\"<b>%{hovertext}</b><br><br>Year=1992<br>Country_Code=%{location}<br>Population=%{customdata[0]}<br>GDP=%{z}<br>GDP_Per_Capita=%{customdata[2]}<br>Y_Total=%{customdata[3]}<br>A_Total=%{customdata[4]}<extra></extra>\",\"hovertext\":[\"Afghanistan\",\"Argentina\",\"Armenia\",\"Australia\",\"Austria\",\"Austria\",\"Azerbaijan\",\"Belarus\",\"Belgium\",\"Brazil\",\"Brunei Darussalam\",\"Burundi\",\"Cameroon\",\"Canada\",\"Canada\",\"Channel Islands\",\"China\",\"China\",\"Colombia\",\"Cote d'Ivoire\",\"Cuba\",\"Cyprus\",\"Czechia\",\"Djibouti\",\"Dominican Republic\",\"Ecuador\",\"Egypt, Arab Rep.\",\"Eritrea\",\"Estonia\",\"Ethiopia\",\"Finland\",\"Finland\",\"France\",\"France\",\"Gabon\",\"Georgia\",\"Ghana\",\"Guyana\",\"Hong Kong SAR, China\",\"Hungary\",\"Iceland\",\"India\",\"Iraq\",\"Ireland\",\"Israel\",\"Italy\",\"Italy\",\"Jamaica\",\"Japan\",\"Japan\",\"Jordan\",\"Kazakhstan\",\"Kenya\",\"Korea, Dem. People's Rep.\",\"Korea, Dem. People's Rep.\",\"Korea, Rep.\",\"Korea, Rep.\",\"Kyrgyz Republic\",\"Lebanon\",\"Liechtenstein\",\"Lithuania\",\"Luxembourg\",\"Mexico\",\"Moldova\",\"Montenegro\",\"Morocco\",\"Mozambique\",\"Namibia\",\"New Zealand\",\"New Zealand\",\"North Macedonia\",\"Norway\",\"Norway\",\"Pakistan\",\"Panama\",\"Peru\",\"Poland\",\"Qatar\",\"Romania\",\"Russian Federation\",\"San Marino\",\"Senegal\",\"Serbia\",\"Singapore\",\"Slovak Republic\",\"Spain\",\"Spain\",\"Suriname\",\"Sweden\",\"Sweden\",\"Syrian Arab Republic\",\"Tajikistan\",\"Thailand\",\"Trinidad and Tobago\",\"Tunisia\",\"Turkiye\",\"Turkmenistan\",\"Uganda\",\"Ukraine\",\"United Kingdom\",\"United States\",\"United States\",\"Uzbekistan\",\"Venezuela, RB\"],\"locations\":[\"AFG\",\"ARG\",\"ARM\",\"AUS\",\"AUT\",\"AUT\",\"AZE\",\"BLR\",\"BEL\",\"BRA\",\"BRN\",\"BDI\",\"CMR\",\"CAN\",\"CAN\",\"CHI\",\"CHN\",\"CHN\",\"COL\",\"CIV\",\"CUB\",\"CYP\",\"CZE\",\"DJI\",\"DOM\",\"ECU\",\"EGY\",\"ERI\",\"EST\",\"ETH\",\"FIN\",\"FIN\",\"FRA\",\"FRA\",\"GAB\",\"GEO\",\"GHA\",\"GUY\",\"HKG\",\"HUN\",\"ISL\",\"IND\",\"IRQ\",\"IRL\",\"ISR\",\"ITA\",\"ITA\",\"JAM\",\"JPN\",\"JPN\",\"JOR\",\"KAZ\",\"KEN\",\"PRK\",\"PRK\",\"KOR\",\"KOR\",\"KGZ\",\"LBN\",\"LIE\",\"LTU\",\"LUX\",\"MEX\",\"MDA\",\"MNE\",\"MAR\",\"MOZ\",\"NAM\",\"NZL\",\"NZL\",\"MKD\",\"NOR\",\"NOR\",\"PAK\",\"PAN\",\"PER\",\"POL\",\"QAT\",\"ROU\",\"RUS\",\"SMR\",\"SEN\",\"SRB\",\"SGP\",\"SVK\",\"ESP\",\"ESP\",\"SUR\",\"SWE\",\"SWE\",\"SYR\",\"TJK\",\"THA\",\"TTO\",\"TUN\",\"TUR\",\"TKM\",\"UGA\",\"UKR\",\"GBR\",\"USA\",\"USA\",\"UZB\",\"VEN\"],\"name\":\"\",\"type\":\"choropleth\",\"z\":[0.0,228788617209.93265,1272835453.460393,325531800280.71576,195078126737.1611,195078126737.1611,446305555.558239,17037037036.68879,234781652436.47888,328187960948.3209,4183548188.48136,1083037670.331578,12071775381.082165,592387689250.3892,592387689250.3892,0.0,426915712708.731,426915712708.731,58418985457.89552,11152971316.26048,22085858246.428574,9166033179.84837,34805013234.61789,478058304.8941723,11605382500.56498,18094238114.71584,41855986520.652245,477101651.5777382,0.0,10492993079.62904,112532519244.84431,112532519244.84431,1401465923313.54,1401465923313.54,5592390848.274922,3690328963.61475,6413901601.84574,373573141.46889096,104272278618.69,38730585918.66462,7080981738.588779,288208430402.6747,553671957.5856882,55918538125.9425,0.0,1320161645062.694,1320161645062.694,3535460090.092138,3908809463832.0,3908809463832.0,5310973815.628376,24917355371.378605,8209129171.298762,0.0,0.0,355525267408.2452,355525267408.2452,2316562500.18298,5843579162.334156,1631197909.3216,0.0,15518702636.21475,363157598260.14325,0.0,0.0,33461071397.450256,2639953231.0320897,3429538534.842483,41649829853.908005,41649829853.908005,2436849341.650654,130838040085.16904,130838040085.16904,48884606851.14373,8042337701.130841,35966302293.22099,94337050705.45187,7646153985.243441,25121666672.764942,460290570967.0306,0.0,7769817869.1997795,0.0,52130263957.2277,15495514294.990671,630916018389.8502,630916018389.8502,404600000.0049265,284321115622.7602,284321115622.7602,33107349664.99777,2156666666.728065,111452869402.71062,5439552941.05412,15497286296.04162,158459130432.4716,3200539816.1096206,2857457860.09042,73945905950.2688,1179659529930.8577,6520327000940.92,6520327000940.92,12941297376.1697,60401798249.68738]},{\"customdata\":[[12057433.0,0.0,0.0,0.0,0.0],[33568285.0,228788617209.93265,6815.61829,1.0,9.0],[3574555.0,1272835453.460393,356.0822126,0.0,0.0],[17478635.0,325531800280.71576,18624.55508,27.0,153.0],[7840709.0,195078126737.1611,24880.16412,2.0,78.0],[7840709.0,195078126737.1611,24880.16412,21.0,99.0],[7382050.0,446305555.558239,60.45821358,0.0,0.0],[10216470.0,17037037036.68879,1667.605057,0.0,0.0],[10045158.0,234781652436.47888,23372.61917,3.0,27.0],[155900790.0,328187960948.3209,2105.107748,3.0,31.0],[277416.0,4183548188.48136,15080.41421,0.0,0.0],[5743085.0,1083037670.331578,188.5811668,0.0,0.0],[12128604.0,12071775381.082165,995.3144963,0.0,2.0],[28371264.0,592387689250.3892,20879.84833,18.0,123.0],[28371264.0,592387689250.3892,20879.84833,7.0,130.0],[142011.0,0.0,0.0,0.0,1.0],[1164970000.0,426915712708.731,366.4606923,54.0,114.0],[1164970000.0,426915712708.731,366.4606923,3.0,117.0],[33939039.0,58418985457.89552,1721.29168,1.0,6.0],[12838314.0,11152971316.26048,868.7255442,0.0,1.0],[10783748.0,22085858246.428574,2048.068839,31.0,77.0],[810431.0,9166033179.84837,11310.07227,0.0,0.0],[10319123.0,34805013234.61789,3372.86543,0.0,0.0],[623197.0,478058304.8941723,767.1062359,0.0,1.0],[7427340.0,11605382500.56498,1562.522047,0.0,1.0],[10914222.0,18094238114.71584,1657.85872,0.0,0.0],[59989142.0,41855986520.652245,697.7260405,0.0,1.0],[1921153.0,477101651.5777382,248.3413094,0.0,0.0],[1533091.0,0.0,0.0,2.0,2.0],[52011554.0,10492993079.62904,201.7435026,3.0,13.0],[5041992.0,112532519244.84431,22319.05946,5.0,121.0],[5041992.0,112532519244.84431,22319.05946,7.0,128.0],[58849943.0,1401465923313.54,23814.22737,29.0,173.0],[58849943.0,1401465923313.54,23814.22737,9.0,182.0],[1037446.0,5592390848.274922,5390.536807,0.0,0.0],[4873500.0,3690328963.61475,757.2235485,0.0,0.0],[16241548.0,6413901601.84574,394.9070373,1.0,4.0],[744998.0,373573141.46889096,501.4418045,0.0,1.0],[5800500.0,104272278618.69,17976.42938,0.0,0.0],[10369341.0,38730585918.66462,3735.10582,30.0,218.0],[261057.0,7080981738.588779,27124.27454,0.0,1.0],[907574049.0,288208430402.6747,317.5591355,0.0,5.0],[18385673.0,553671957.5856882,30.11431551,0.0,1.0],[3558430.0,55918538125.9425,15714.38475,2.0,6.0],[5123000.0,0.0,0.0,2.0,2.0],[56797087.0,1320161645062.694,23243.47453,19.0,217.0],[56797087.0,1320161645062.694,23243.47453,14.0,231.0],[2434574.0,3535460090.092138,1452.188387,4.0,16.0],[124425000.0,3908809463832.0,31414.98464,22.0,200.0],[124425000.0,3908809463832.0,31414.98464,7.0,207.0],[3866887.0,5310973815.628376,1373.449448,0.0,0.0],[16439095.0,24917355371.378605,1515.737659,0.0,0.0],[24655723.0,8209129171.298762,332.9502514,8.0,39.0],[21439991.0,0.0,0.0,9.0,22.0],[21439991.0,0.0,0.0,1.0,23.0],[43747962.0,355525267408.2452,8126.67039,29.0,93.0],[43747962.0,355525267408.2452,8126.67039,4.0,97.0],[4515400.0,2316562500.18298,513.0359437,0.0,0.0],[3745407.0,5843579162.334156,1560.198708,0.0,2.0],[29581.0,1631197909.3216,55143.4336,0.0,9.0],[3700114.0,0.0,0.0,2.0,2.0],[392175.0,15518702636.21475,39570.86157,2.0,2.0],[84993164.0,363157598260.14325,4272.785965,1.0,27.0],[2975621.0,0.0,0.0,0.0,0.0],[608516.0,0.0,0.0,0.0,0.0],[25400676.0,33461071397.450256,1317.329956,3.0,9.0],[13816881.0,2639953231.0320897,191.0672337,0.0,0.0],[1461687.0,3429538534.842483,2346.287909,2.0,2.0],[3531700.0,41649829853.908005,11793.13924,10.0,52.0],[3531700.0,41649829853.908005,11793.13924,1.0,53.0],[2018023.0,2436849341.650654,1207.542898,0.0,0.0],[4286401.0,130838040085.16904,30523.98506,7.0,102.0],[4286401.0,130838040085.16904,30523.98506,20.0,122.0],[122375179.0,48884606851.14373,399.4650488,1.0,9.0],[2554382.0,8042337701.130841,3148.447531,0.0,0.0],[23047248.0,35966302293.22099,1560.546504,1.0,3.0],[38363667.0,94337050705.45187,2459.020685,19.0,179.0],[471293.0,7646153985.243441,16223.78008,1.0,1.0],[22794284.0,25121666672.764942,1102.103785,18.0,201.0],[148538197.0,460290570967.0306,3098.802734,0.0,0.0],[23808.0,0.0,0.0,0.0,0.0],[7974514.0,7769817869.1997795,974.3312093,0.0,1.0],[7646424.0,0.0,0.0,0.0,0.0],[3230698.0,52130263957.2277,16135.91365,0.0,1.0],[5305016.0,15495514294.990671,2920.917542,0.0,0.0],[39157685.0,630916018389.8502,16112.18892,22.0,42.0],[39157685.0,630916018389.8502,16112.18892,1.0,43.0],[419521.0,404600000.0049265,964.4332465,1.0,2.0],[8668067.0,284321115622.7602,32800.98269,12.0,139.0],[8668067.0,284321115622.7602,32800.98269,4.0,143.0],[13156406.0,33107349664.99777,2516.443295,0.0,1.0],[5656208.0,2156666666.728065,381.2919657,0.0,0.0],[56939020.0,111452869402.71062,1957.407581,1.0,4.0],[1285502.0,5439552941.05412,4231.46206,0.0,4.0],[8802540.0,15497286296.04162,1760.547103,0.0,5.0],[56302037.0,158459130432.4716,2814.447556,6.0,29.0],[3926369.0,3200539816.1096206,815.1398445,0.0,0.0],[18801966.0,2857457860.09042,151.9765465,0.0,5.0],[52150400.0,73945905950.2688,1417.935547,0.0,0.0],[57580402.0,1179659529930.8577,20487.17079,20.0,188.0],[256514000.0,6520327000940.92,25418.99078,108.0,900.0],[256514000.0,6520327000940.92,25418.99078,11.0,911.0],[21449000.0,12941297376.1697,603.3520153,0.0,0.0],[20700461.0,60401798249.68738,2917.896285,0.0,7.0]],\"geo\":\"geo\",\"hovertemplate\":\"Year=1992<br>A_Total=%{customdata[4]}<br>Country_Code=%{location}<br>Population=%{customdata[0]}<br>GDP=%{customdata[1]}<br>GDP_Per_Capita=%{customdata[2]}<br>Y_Total=%{customdata[3]}<extra></extra>\",\"legendgroup\":\"\",\"locations\":[\"AFG\",\"ARG\",\"ARM\",\"AUS\",\"AUT\",\"AUT\",\"AZE\",\"BLR\",\"BEL\",\"BRA\",\"BRN\",\"BDI\",\"CMR\",\"CAN\",\"CAN\",\"CHI\",\"CHN\",\"CHN\",\"COL\",\"CIV\",\"CUB\",\"CYP\",\"CZE\",\"DJI\",\"DOM\",\"ECU\",\"EGY\",\"ERI\",\"EST\",\"ETH\",\"FIN\",\"FIN\",\"FRA\",\"FRA\",\"GAB\",\"GEO\",\"GHA\",\"GUY\",\"HKG\",\"HUN\",\"ISL\",\"IND\",\"IRQ\",\"IRL\",\"ISR\",\"ITA\",\"ITA\",\"JAM\",\"JPN\",\"JPN\",\"JOR\",\"KAZ\",\"KEN\",\"PRK\",\"PRK\",\"KOR\",\"KOR\",\"KGZ\",\"LBN\",\"LIE\",\"LTU\",\"LUX\",\"MEX\",\"MDA\",\"MNE\",\"MAR\",\"MOZ\",\"NAM\",\"NZL\",\"NZL\",\"MKD\",\"NOR\",\"NOR\",\"PAK\",\"PAN\",\"PER\",\"POL\",\"QAT\",\"ROU\",\"RUS\",\"SMR\",\"SEN\",\"SRB\",\"SGP\",\"SVK\",\"ESP\",\"ESP\",\"SUR\",\"SWE\",\"SWE\",\"SYR\",\"TJK\",\"THA\",\"TTO\",\"TUN\",\"TUR\",\"TKM\",\"UGA\",\"UKR\",\"GBR\",\"USA\",\"USA\",\"UZB\",\"VEN\"],\"marker\":{\"color\":\"#636efa\",\"size\":[0.0,9.0,0.0,153.0,78.0,99.0,0.0,0.0,27.0,31.0,0.0,0.0,2.0,123.0,130.0,1.0,114.0,117.0,6.0,1.0,77.0,0.0,0.0,1.0,1.0,0.0,1.0,0.0,2.0,13.0,121.0,128.0,173.0,182.0,0.0,0.0,4.0,1.0,0.0,218.0,1.0,5.0,1.0,6.0,2.0,217.0,231.0,16.0,200.0,207.0,0.0,0.0,39.0,22.0,23.0,93.0,97.0,0.0,2.0,9.0,2.0,2.0,27.0,0.0,0.0,9.0,0.0,2.0,52.0,53.0,0.0,102.0,122.0,9.0,0.0,3.0,179.0,1.0,201.0,0.0,0.0,1.0,0.0,1.0,0.0,42.0,43.0,2.0,139.0,143.0,1.0,0.0,4.0,4.0,5.0,29.0,0.0,5.0,0.0,188.0,900.0,911.0,0.0,7.0],\"sizemode\":\"area\",\"sizeref\":4.565,\"symbol\":\"circle\"},\"mode\":\"markers\",\"name\":\"\",\"showlegend\":false,\"type\":\"scattergeo\"}],\"name\":\"1992\"},{\"data\":[{\"coloraxis\":\"coloraxis\",\"customdata\":[[15455555.0,0.0,0.0,0.0,0.0],[34488696.0,257440000004.0729,7464.474737,0.0,9.0],[3373713.0,1315158636.7937746,389.8252865,0.0,0.0],[17805468.0,322809408511.657,18129.79072,1.0,154.0],[7936118.0,203535242748.43787,25646.70066,9.0,108.0],[7596550.0,1193312102.256105,157.0860591,0.0,0.0],[10226955.0,14932024165.5525,1460.0655,2.0,2.0],[10115603.0,244884129459.3884,24208.55479,0.0,27.0],[160980472.0,525369851291.1176,3263.562622,0.0,31.0],[291935.0,4087337960.83095,14000.84937,0.0,0.0],[5586408.0,925030590.2955576,165.5859347,0.0,0.0],[12848862.0,8902446187.991966,692.8587285,0.0,2.0],[29000663.0,578139279497.908,19935.38146,13.0,143.0],[142466.0,0.0,0.0,0.0,1.0],[1191835000.0,564324669984.4144,473.4922787,3.0,120.0],[35295461.0,81703500841.29123,2314.844417,0.0,6.0],[13802285.0,8313557449.68071,602.3319653,0.0,1.0],[10887207.0,28448326751.636078,2613.005039,0.0,77.0],[844444.0,9810490624.13672,11617.69238,0.0,0.0],[10333587.0,47850203858.82538,4630.551217,0.0,0.0],[623477.0,491689220.7396641,788.6244733,0.0,1.0],[7723934.0,14644711383.53564,1896.017157,0.0,1.0],[11347652.0,22708673338.33267,2001.178159,0.0,0.0],[62775847.0,51897983390.66763,826.7189671,0.0,1.0],[2042500.0,531688311.68325,260.3125149,0.0,0.0],[1462514.0,0.0,0.0,0.0,2.0],[55620211.0,6927950562.521565,124.5581496,0.0,13.0],[5088333.0,103299943105.83896,20301.33309,6.0,134.0],[59327585.0,1393982750726.453,23496.36768,5.0,187.0],[1093611.0,4190819313.727974,3832.093234,0.0,0.0],[4836076.0,2514070771.859371,519.8575812,0.0,0.0],[17040854.0,5444560669.63973,319.5004587,0.0,4.0],[749546.0,540874934.186167,721.6033895,0.0,1.0],[6035400.0,135812069762.796,22502.57974,0.0,0.0],[10343355.0,43166678734.655525,4173.373024,0.0,218.0],[266021.0,6389460343.6594,24018.6314,0.0,1.0],[945261958.0,327275583514.94165,346.2273931,0.0,5.0],[20248073.0,3991349283.733942,197.1224266,0.0,1.0],[3590386.0,57097656082.05648,15902.92968,0.0,6.0],[5399000.0,0.0,0.0,0.0,2.0],[56843400.0,1099216688301.06,19337.6309,20.0,251.0],[2484182.0,5452564384.68062,2194.91341,0.0,16.0],[125178000.0,4998797548180.68,39933.51506,5.0,212.0],[4278166.0,6236295977.415913,1457.703132,0.0,0.0],[16145766.0,21250792886.86481,1316.183629,3.0,3.0],[26133744.0,7148145375.406962,273.5216728,0.0,39.0],[22105225.0,0.0,0.0,0.0,23.0],[44641540.0,463617400046.5018,10385.33617,6.0,103.0],[4515100.0,1681006992.931,372.30781,0.0,0.0],[3888144.0,9599127051.865105,2468.819841,0.0,2.0],[30447.0,1948118227.73118,63983.91394,0.0,9.0],[3657144.0,0.0,0.0,0.0,2.0],[402925.0,17701798889.662,43933.23544,0.0,2.0],[88314424.0,527813238108.3189,5976.523587,0.0,27.0],[2967585.0,0.0,0.0,0.0,0.0],[611389.0,0.0,0.0,0.0,0.0],[26201551.0,35333815034.686714,1348.539063,0.0,9.0],[14912873.0,2796549978.6318936,187.5259032,0.0,0.0],[1558449.0,3666501464.344011,2352.660539,0.0,2.0],[3620000.0,55314732263.6,15280.31278,0.0,53.0],[1982458.0,3559607241.606238,1795.552411,0.0,0.0],[4336613.0,127131461132.85085,29315.84191,26.0,148.0],[129245139.0,52293456910.69061,404.6067598,0.0,9.0],[2661385.0,9365289799.78177,3518.953402,0.0,0.0],[23983258.0,44882079769.31112,1871.392109,0.0,3.0],[38542652.0,110803391522.66478,2874.825311,0.0,179.0],[500683.0,7374450768.11966,14728.78202,0.0,1.0],[22730211.0,30074440482.262577,1323.104325,0.0,201.0],[148407912.0,395077296760.4796,2662.104004,23.0,23.0],[24535.0,0.0,0.0,0.0,0.0],[8416997.0,5034588159.410256,598.1454145,0.0,1.0],[7734639.0,0.0,0.0,0.0,0.0],[3419048.0,73690847192.5832,21553.0309,0.0,1.0],[5346331.0,20162936292.5358,3771.359516,0.0,0.0],[39549108.0,530562634413.996,13415.287,0.0,43.0],[426548.0,605492537.418024,1419.517938,0.0,2.0],[8780745.0,229033566636.92053,26083.61439,3.0,146.0],[13922626.0,45086948781.09652,3238.39402,0.0,1.0],[5803993.0,1518796992.355426,261.6813963,0.0,0.0],[58610010.0,146683499023.56873,2502.703873,0.0,4.0],[1301393.0,4947205859.480364,3801.469548,0.0,4.0],[9143141.0,15632463426.927303,1709.747605,0.0,5.0],[58310245.0,130690172281.4237,2241.290056,0.0,29.0],[4133037.0,2561118608.3674555,619.6698961,0.0,0.0],[20125021.0,3990430446.3355775,198.2820513,0.0,5.0],[51921400.0,52543385661.518,1011.97937,2.0,2.0],[57865745.0,1140489746038.8845,19709.2381,2.0,190.0],[263126000.0,7287236000990.92,27694.85342,13.0,924.0],[22377000.0,12899156991.6585,576.4471105,1.0,1.0],[21640833.0,58418666666.48841,2699.464788,0.0,7.0]],\"geo\":\"geo\",\"hovertemplate\":\"<b>%{hovertext}</b><br><br>Year=1994<br>Country_Code=%{location}<br>Population=%{customdata[0]}<br>GDP=%{z}<br>GDP_Per_Capita=%{customdata[2]}<br>Y_Total=%{customdata[3]}<br>A_Total=%{customdata[4]}<extra></extra>\",\"hovertext\":[\"Afghanistan\",\"Argentina\",\"Armenia\",\"Australia\",\"Austria\",\"Azerbaijan\",\"Belarus\",\"Belgium\",\"Brazil\",\"Brunei Darussalam\",\"Burundi\",\"Cameroon\",\"Canada\",\"Channel Islands\",\"China\",\"Colombia\",\"Cote d'Ivoire\",\"Cuba\",\"Cyprus\",\"Czechia\",\"Djibouti\",\"Dominican Republic\",\"Ecuador\",\"Egypt, Arab Rep.\",\"Eritrea\",\"Estonia\",\"Ethiopia\",\"Finland\",\"France\",\"Gabon\",\"Georgia\",\"Ghana\",\"Guyana\",\"Hong Kong SAR, China\",\"Hungary\",\"Iceland\",\"India\",\"Iraq\",\"Ireland\",\"Israel\",\"Italy\",\"Jamaica\",\"Japan\",\"Jordan\",\"Kazakhstan\",\"Kenya\",\"Korea, Dem. People's Rep.\",\"Korea, Rep.\",\"Kyrgyz Republic\",\"Lebanon\",\"Liechtenstein\",\"Lithuania\",\"Luxembourg\",\"Mexico\",\"Moldova\",\"Montenegro\",\"Morocco\",\"Mozambique\",\"Namibia\",\"New Zealand\",\"North Macedonia\",\"Norway\",\"Pakistan\",\"Panama\",\"Peru\",\"Poland\",\"Qatar\",\"Romania\",\"Russian Federation\",\"San Marino\",\"Senegal\",\"Serbia\",\"Singapore\",\"Slovak Republic\",\"Spain\",\"Suriname\",\"Sweden\",\"Syrian Arab Republic\",\"Tajikistan\",\"Thailand\",\"Trinidad and Tobago\",\"Tunisia\",\"Turkiye\",\"Turkmenistan\",\"Uganda\",\"Ukraine\",\"United Kingdom\",\"United States\",\"Uzbekistan\",\"Venezuela, RB\"],\"locations\":[\"AFG\",\"ARG\",\"ARM\",\"AUS\",\"AUT\",\"AZE\",\"BLR\",\"BEL\",\"BRA\",\"BRN\",\"BDI\",\"CMR\",\"CAN\",\"CHI\",\"CHN\",\"COL\",\"CIV\",\"CUB\",\"CYP\",\"CZE\",\"DJI\",\"DOM\",\"ECU\",\"EGY\",\"ERI\",\"EST\",\"ETH\",\"FIN\",\"FRA\",\"GAB\",\"GEO\",\"GHA\",\"GUY\",\"HKG\",\"HUN\",\"ISL\",\"IND\",\"IRQ\",\"IRL\",\"ISR\",\"ITA\",\"JAM\",\"JPN\",\"JOR\",\"KAZ\",\"KEN\",\"PRK\",\"KOR\",\"KGZ\",\"LBN\",\"LIE\",\"LTU\",\"LUX\",\"MEX\",\"MDA\",\"MNE\",\"MAR\",\"MOZ\",\"NAM\",\"NZL\",\"MKD\",\"NOR\",\"PAK\",\"PAN\",\"PER\",\"POL\",\"QAT\",\"ROU\",\"RUS\",\"SMR\",\"SEN\",\"SRB\",\"SGP\",\"SVK\",\"ESP\",\"SUR\",\"SWE\",\"SYR\",\"TJK\",\"THA\",\"TTO\",\"TUN\",\"TUR\",\"TKM\",\"UGA\",\"UKR\",\"GBR\",\"USA\",\"UZB\",\"VEN\"],\"name\":\"\",\"type\":\"choropleth\",\"z\":[0.0,257440000004.0729,1315158636.7937746,322809408511.657,203535242748.43787,1193312102.256105,14932024165.5525,244884129459.3884,525369851291.1176,4087337960.83095,925030590.2955576,8902446187.991966,578139279497.908,0.0,564324669984.4144,81703500841.29123,8313557449.68071,28448326751.636078,9810490624.13672,47850203858.82538,491689220.7396641,14644711383.53564,22708673338.33267,51897983390.66763,531688311.68325,0.0,6927950562.521565,103299943105.83896,1393982750726.453,4190819313.727974,2514070771.859371,5444560669.63973,540874934.186167,135812069762.796,43166678734.655525,6389460343.6594,327275583514.94165,3991349283.733942,57097656082.05648,0.0,1099216688301.06,5452564384.68062,4998797548180.68,6236295977.415913,21250792886.86481,7148145375.406962,0.0,463617400046.5018,1681006992.931,9599127051.865105,1948118227.73118,0.0,17701798889.662,527813238108.3189,0.0,0.0,35333815034.686714,2796549978.6318936,3666501464.344011,55314732263.6,3559607241.606238,127131461132.85085,52293456910.69061,9365289799.78177,44882079769.31112,110803391522.66478,7374450768.11966,30074440482.262577,395077296760.4796,0.0,5034588159.410256,0.0,73690847192.5832,20162936292.5358,530562634413.996,605492537.418024,229033566636.92053,45086948781.09652,1518796992.355426,146683499023.56873,4947205859.480364,15632463426.927303,130690172281.4237,2561118608.3674555,3990430446.3355775,52543385661.518,1140489746038.8845,7287236000990.92,12899156991.6585,58418666666.48841]},{\"customdata\":[[15455555.0,0.0,0.0,0.0,0.0],[34488696.0,257440000004.0729,7464.474737,0.0,9.0],[3373713.0,1315158636.7937746,389.8252865,0.0,0.0],[17805468.0,322809408511.657,18129.79072,1.0,154.0],[7936118.0,203535242748.43787,25646.70066,9.0,108.0],[7596550.0,1193312102.256105,157.0860591,0.0,0.0],[10226955.0,14932024165.5525,1460.0655,2.0,2.0],[10115603.0,244884129459.3884,24208.55479,0.0,27.0],[160980472.0,525369851291.1176,3263.562622,0.0,31.0],[291935.0,4087337960.83095,14000.84937,0.0,0.0],[5586408.0,925030590.2955576,165.5859347,0.0,0.0],[12848862.0,8902446187.991966,692.8587285,0.0,2.0],[29000663.0,578139279497.908,19935.38146,13.0,143.0],[142466.0,0.0,0.0,0.0,1.0],[1191835000.0,564324669984.4144,473.4922787,3.0,120.0],[35295461.0,81703500841.29123,2314.844417,0.0,6.0],[13802285.0,8313557449.68071,602.3319653,0.0,1.0],[10887207.0,28448326751.636078,2613.005039,0.0,77.0],[844444.0,9810490624.13672,11617.69238,0.0,0.0],[10333587.0,47850203858.82538,4630.551217,0.0,0.0],[623477.0,491689220.7396641,788.6244733,0.0,1.0],[7723934.0,14644711383.53564,1896.017157,0.0,1.0],[11347652.0,22708673338.33267,2001.178159,0.0,0.0],[62775847.0,51897983390.66763,826.7189671,0.0,1.0],[2042500.0,531688311.68325,260.3125149,0.0,0.0],[1462514.0,0.0,0.0,0.0,2.0],[55620211.0,6927950562.521565,124.5581496,0.0,13.0],[5088333.0,103299943105.83896,20301.33309,6.0,134.0],[59327585.0,1393982750726.453,23496.36768,5.0,187.0],[1093611.0,4190819313.727974,3832.093234,0.0,0.0],[4836076.0,2514070771.859371,519.8575812,0.0,0.0],[17040854.0,5444560669.63973,319.5004587,0.0,4.0],[749546.0,540874934.186167,721.6033895,0.0,1.0],[6035400.0,135812069762.796,22502.57974,0.0,0.0],[10343355.0,43166678734.655525,4173.373024,0.0,218.0],[266021.0,6389460343.6594,24018.6314,0.0,1.0],[945261958.0,327275583514.94165,346.2273931,0.0,5.0],[20248073.0,3991349283.733942,197.1224266,0.0,1.0],[3590386.0,57097656082.05648,15902.92968,0.0,6.0],[5399000.0,0.0,0.0,0.0,2.0],[56843400.0,1099216688301.06,19337.6309,20.0,251.0],[2484182.0,5452564384.68062,2194.91341,0.0,16.0],[125178000.0,4998797548180.68,39933.51506,5.0,212.0],[4278166.0,6236295977.415913,1457.703132,0.0,0.0],[16145766.0,21250792886.86481,1316.183629,3.0,3.0],[26133744.0,7148145375.406962,273.5216728,0.0,39.0],[22105225.0,0.0,0.0,0.0,23.0],[44641540.0,463617400046.5018,10385.33617,6.0,103.0],[4515100.0,1681006992.931,372.30781,0.0,0.0],[3888144.0,9599127051.865105,2468.819841,0.0,2.0],[30447.0,1948118227.73118,63983.91394,0.0,9.0],[3657144.0,0.0,0.0,0.0,2.0],[402925.0,17701798889.662,43933.23544,0.0,2.0],[88314424.0,527813238108.3189,5976.523587,0.0,27.0],[2967585.0,0.0,0.0,0.0,0.0],[611389.0,0.0,0.0,0.0,0.0],[26201551.0,35333815034.686714,1348.539063,0.0,9.0],[14912873.0,2796549978.6318936,187.5259032,0.0,0.0],[1558449.0,3666501464.344011,2352.660539,0.0,2.0],[3620000.0,55314732263.6,15280.31278,0.0,53.0],[1982458.0,3559607241.606238,1795.552411,0.0,0.0],[4336613.0,127131461132.85085,29315.84191,26.0,148.0],[129245139.0,52293456910.69061,404.6067598,0.0,9.0],[2661385.0,9365289799.78177,3518.953402,0.0,0.0],[23983258.0,44882079769.31112,1871.392109,0.0,3.0],[38542652.0,110803391522.66478,2874.825311,0.0,179.0],[500683.0,7374450768.11966,14728.78202,0.0,1.0],[22730211.0,30074440482.262577,1323.104325,0.0,201.0],[148407912.0,395077296760.4796,2662.104004,23.0,23.0],[24535.0,0.0,0.0,0.0,0.0],[8416997.0,5034588159.410256,598.1454145,0.0,1.0],[7734639.0,0.0,0.0,0.0,0.0],[3419048.0,73690847192.5832,21553.0309,0.0,1.0],[5346331.0,20162936292.5358,3771.359516,0.0,0.0],[39549108.0,530562634413.996,13415.287,0.0,43.0],[426548.0,605492537.418024,1419.517938,0.0,2.0],[8780745.0,229033566636.92053,26083.61439,3.0,146.0],[13922626.0,45086948781.09652,3238.39402,0.0,1.0],[5803993.0,1518796992.355426,261.6813963,0.0,0.0],[58610010.0,146683499023.56873,2502.703873,0.0,4.0],[1301393.0,4947205859.480364,3801.469548,0.0,4.0],[9143141.0,15632463426.927303,1709.747605,0.0,5.0],[58310245.0,130690172281.4237,2241.290056,0.0,29.0],[4133037.0,2561118608.3674555,619.6698961,0.0,0.0],[20125021.0,3990430446.3355775,198.2820513,0.0,5.0],[51921400.0,52543385661.518,1011.97937,2.0,2.0],[57865745.0,1140489746038.8845,19709.2381,2.0,190.0],[263126000.0,7287236000990.92,27694.85342,13.0,924.0],[22377000.0,12899156991.6585,576.4471105,1.0,1.0],[21640833.0,58418666666.48841,2699.464788,0.0,7.0]],\"geo\":\"geo\",\"hovertemplate\":\"Year=1994<br>A_Total=%{customdata[4]}<br>Country_Code=%{location}<br>Population=%{customdata[0]}<br>GDP=%{customdata[1]}<br>GDP_Per_Capita=%{customdata[2]}<br>Y_Total=%{customdata[3]}<extra></extra>\",\"legendgroup\":\"\",\"locations\":[\"AFG\",\"ARG\",\"ARM\",\"AUS\",\"AUT\",\"AZE\",\"BLR\",\"BEL\",\"BRA\",\"BRN\",\"BDI\",\"CMR\",\"CAN\",\"CHI\",\"CHN\",\"COL\",\"CIV\",\"CUB\",\"CYP\",\"CZE\",\"DJI\",\"DOM\",\"ECU\",\"EGY\",\"ERI\",\"EST\",\"ETH\",\"FIN\",\"FRA\",\"GAB\",\"GEO\",\"GHA\",\"GUY\",\"HKG\",\"HUN\",\"ISL\",\"IND\",\"IRQ\",\"IRL\",\"ISR\",\"ITA\",\"JAM\",\"JPN\",\"JOR\",\"KAZ\",\"KEN\",\"PRK\",\"KOR\",\"KGZ\",\"LBN\",\"LIE\",\"LTU\",\"LUX\",\"MEX\",\"MDA\",\"MNE\",\"MAR\",\"MOZ\",\"NAM\",\"NZL\",\"MKD\",\"NOR\",\"PAK\",\"PAN\",\"PER\",\"POL\",\"QAT\",\"ROU\",\"RUS\",\"SMR\",\"SEN\",\"SRB\",\"SGP\",\"SVK\",\"ESP\",\"SUR\",\"SWE\",\"SYR\",\"TJK\",\"THA\",\"TTO\",\"TUN\",\"TUR\",\"TKM\",\"UGA\",\"UKR\",\"GBR\",\"USA\",\"UZB\",\"VEN\"],\"marker\":{\"color\":\"#636efa\",\"size\":[0.0,9.0,0.0,154.0,108.0,0.0,2.0,27.0,31.0,0.0,0.0,2.0,143.0,1.0,120.0,6.0,1.0,77.0,0.0,0.0,1.0,1.0,0.0,1.0,0.0,2.0,13.0,134.0,187.0,0.0,0.0,4.0,1.0,0.0,218.0,1.0,5.0,1.0,6.0,2.0,251.0,16.0,212.0,0.0,3.0,39.0,23.0,103.0,0.0,2.0,9.0,2.0,2.0,27.0,0.0,0.0,9.0,0.0,2.0,53.0,0.0,148.0,9.0,0.0,3.0,179.0,1.0,201.0,23.0,0.0,1.0,0.0,1.0,0.0,43.0,2.0,146.0,1.0,0.0,4.0,4.0,5.0,29.0,0.0,5.0,2.0,190.0,924.0,1.0,7.0],\"sizemode\":\"area\",\"sizeref\":4.565,\"symbol\":\"circle\"},\"mode\":\"markers\",\"name\":\"\",\"showlegend\":false,\"type\":\"scattergeo\"}],\"name\":\"1994\"},{\"data\":[{\"coloraxis\":\"coloraxis\",\"customdata\":[[17106595.0,0.0,0.0,0.0,0.0],[35389362.0,272149750016.0021,7690.157003,3.0,12.0],[3298898.0,1596968946.311618,484.091641,2.0,2.0],[18224767.0,401311077365.16327,22020.09372,41.0,195.0],[7959017.0,237250948766.73508,29809.07677,3.0,111.0],[7763000.0,3176333836.9833,409.1631891,1.0,1.0],[10159569.0,14756846156.237743,1452.507105,15.0,17.0],[10156637.0,279201433254.7297,27489.55518,6.0,33.0],[166037122.0,850426432934.5187,5121.905407,15.0,46.0],[306196.0,5115602836.04744,16706.95514,0.0,0.0],[5930507.0,869033856.0695275,146.5361825,1.0,1.0],[13575324.0,11093539496.66954,817.1841421,0.0,2.0],[29610218.0,628546387925.0615,21227.34753,22.0,165.0],[142898.0,0.0,0.0,0.0,1.0],[1217550000.0,863746717522.005,709.4137551,50.0,170.0],[36632573.0,97160109269.83266,2652.287331,0.0,6.0],[14810946.0,18071153886.91413,1220.121516,0.0,1.0],[10963031.0,25017368695.89205,2281.97555,25.0,102.0],[880058.0,13323397447.94048,15139.22656,0.0,0.0],[10315241.0,67387788636.05525,6532.837055,11.0,11.0],[644649.0,494004647.755353,766.315697,0.0,1.0],[8012314.0,18241691858.749157,2276.707061,0.0,1.0],[11775221.0,25226393202.404663,2142.328641,1.0,1.0],[65565195.0,67629716974.24522,1031.488078,0.0,1.0],[2264073.0,693535954.0896486,306.3222582,0.0,0.0],[1415594.0,4786018987.553388,3380.926302,0.0,2.0],[59347649.0,8547939731.938907,144.0316487,3.0,16.0],[5124573.0,132129174227.89076,25783.45049,4.0,138.0],[59756533.0,1605675086663.473,26870.28524,37.0,224.0],[1150601.0,5694040336.950362,4948.753162,0.0,0.0],[4491699.0,3095047603.8769383,689.0594414,2.0,2.0],[17844010.0,6934984709.716888,388.6449688,0.0,4.0],[753571.0,705406001.4020747,936.0843257,0.0,1.0],[6435500.0,159717233606.525,24818.15455,1.0,1.0],[10311238.0,46658755150.33952,4525.039103,21.0,239.0],[268916.0,7426082271.39948,27614.87703,0.0,1.0],[983281218.0,392897054326.8792,399.5775035,1.0,6.0],[21639332.0,10433698621.206776,482.1636186,0.0,1.0],[3637510.0,75790786279.1021,20835.89771,4.0,10.0],[5692000.0,114505860804.04,20116.98187,1.0,3.0],[56860281.0,1312426528035.715,23081.60468,35.0,286.0],[2532894.0,7393883553.722485,2919.144486,6.0,22.0],[125757000.0,4923391533749.91,39150.03963,14.0,226.0],[4608676.0,6927503525.257692,1503.143967,0.0,0.0],[15578227.0,21035368246.64709,1350.30567,11.0,14.0],[27615736.0,12045858435.78638,436.1954516,8.0,47.0],[22614347.0,0.0,0.0,5.0,28.0],[45524681.0,610169557011.9308,13403.04959,27.0,130.0],[4628400.0,1827570586.3506,394.8601215,0.0,0.0],[4034243.0,13690217332.891958,3393.503399,0.0,2.0],[31337.0,2504033252.36833,79906.60409,0.0,9.0],[3601613.0,8382519637.624342,2327.434857,1.0,3.0],[414225.0,20895314656.482,50444.35912,0.0,2.0],[91586555.0,410975595318.43134,4487.291779,1.0,28.0],[2947293.0,1695122173.7980444,575.1454551,2.0,2.0],[611003.0,0.0,0.0,0.0,0.0],[26999093.0,42812958121.42571,1585.718384,2.0,11.0],[16079553.0,3856799844.8842783,239.8574043,1.0,1.0],[1650066.0,3989208661.71399,2417.605515,2.0,4.0],[3732000.0,70140835301.28,18794.43604,6.0,59.0],[1994226.0,4642018352.842806,2327.729331,0.0,0.0],[4381336.0,163520109153.5312,37321.9742,7.0,155.0],[137234810.0,63320122807.30064,461.399865,0.0,9.0],[2771606.0,9870494001.135548,3561.290458,0.0,0.0],[24907304.0,55252414122.34009,2218.321747,0.0,3.0],[38624370.0,160193242072.85934,4147.465501,17.0,196.0],[529265.0,9059340384.8684,17116.83256,0.0,1.0],[22619004.0,36937074288.67857,1633.010644,20.0,221.0],[148160129.0,391724891190.70667,2643.929199,63.0,86.0],[25235.0,0.0,0.0,0.0,0.0],[8843423.0,6559712550.815169,741.7617082,0.0,1.0],[7617794.0,21818007448.83224,2864.084727,0.0,0.0],[3670704.0,96295886537.7456,26233.6289,0.0,1.0],[5373361.0,27925036757.21718,5196.94038,3.0,3.0],[39889852.0,642588992571.5088,16109.0844,17.0,60.0],[443834.0,861411471.165704,1940.841556,0.0,2.0],[8840998.0,291743811504.62366,32998.96816,8.0,154.0],[14708879.0,61546280618.33276,4184.29444,1.0,2.0],[6035600.0,1043654822.57152,172.9164992,0.0,0.0],[60211096.0,183035114640.5496,3039.8901,2.0,6.0],[1313434.0,5759537725.9358,4385.0987,2.0,6.0],[9430550.0,19587322786.77795,2077.007469,1.0,6.0],[60293786.0,181475555311.01877,3009.855034,6.0,35.0],[4301093.0,2378759975.4298296,553.0594143,0.0,0.0],[21249572.0,6044585326.863102,284.4568035,1.0,6.0],[51057800.0,44558077242.1229,872.6987305,23.0,25.0],[58166950.0,1421619344902.9731,24440.32814,15.0,205.0],[269394000.0,8073122000491.68,29967.71272,101.0,1025.0],[23225000.0,13948892214.905,600.5981578,2.0,3.0],[22572110.0,70543211126.89268,3125.237788,0.0,7.0]],\"geo\":\"geo\",\"hovertemplate\":\"<b>%{hovertext}</b><br><br>Year=1996<br>Country_Code=%{location}<br>Population=%{customdata[0]}<br>GDP=%{z}<br>GDP_Per_Capita=%{customdata[2]}<br>Y_Total=%{customdata[3]}<br>A_Total=%{customdata[4]}<extra></extra>\",\"hovertext\":[\"Afghanistan\",\"Argentina\",\"Armenia\",\"Australia\",\"Austria\",\"Azerbaijan\",\"Belarus\",\"Belgium\",\"Brazil\",\"Brunei Darussalam\",\"Burundi\",\"Cameroon\",\"Canada\",\"Channel Islands\",\"China\",\"Colombia\",\"Cote d'Ivoire\",\"Cuba\",\"Cyprus\",\"Czechia\",\"Djibouti\",\"Dominican Republic\",\"Ecuador\",\"Egypt, Arab Rep.\",\"Eritrea\",\"Estonia\",\"Ethiopia\",\"Finland\",\"France\",\"Gabon\",\"Georgia\",\"Ghana\",\"Guyana\",\"Hong Kong SAR, China\",\"Hungary\",\"Iceland\",\"India\",\"Iraq\",\"Ireland\",\"Israel\",\"Italy\",\"Jamaica\",\"Japan\",\"Jordan\",\"Kazakhstan\",\"Kenya\",\"Korea, Dem. People's Rep.\",\"Korea, Rep.\",\"Kyrgyz Republic\",\"Lebanon\",\"Liechtenstein\",\"Lithuania\",\"Luxembourg\",\"Mexico\",\"Moldova\",\"Montenegro\",\"Morocco\",\"Mozambique\",\"Namibia\",\"New Zealand\",\"North Macedonia\",\"Norway\",\"Pakistan\",\"Panama\",\"Peru\",\"Poland\",\"Qatar\",\"Romania\",\"Russian Federation\",\"San Marino\",\"Senegal\",\"Serbia\",\"Singapore\",\"Slovak Republic\",\"Spain\",\"Suriname\",\"Sweden\",\"Syrian Arab Republic\",\"Tajikistan\",\"Thailand\",\"Trinidad and Tobago\",\"Tunisia\",\"Turkiye\",\"Turkmenistan\",\"Uganda\",\"Ukraine\",\"United Kingdom\",\"United States\",\"Uzbekistan\",\"Venezuela, RB\"],\"locations\":[\"AFG\",\"ARG\",\"ARM\",\"AUS\",\"AUT\",\"AZE\",\"BLR\",\"BEL\",\"BRA\",\"BRN\",\"BDI\",\"CMR\",\"CAN\",\"CHI\",\"CHN\",\"COL\",\"CIV\",\"CUB\",\"CYP\",\"CZE\",\"DJI\",\"DOM\",\"ECU\",\"EGY\",\"ERI\",\"EST\",\"ETH\",\"FIN\",\"FRA\",\"GAB\",\"GEO\",\"GHA\",\"GUY\",\"HKG\",\"HUN\",\"ISL\",\"IND\",\"IRQ\",\"IRL\",\"ISR\",\"ITA\",\"JAM\",\"JPN\",\"JOR\",\"KAZ\",\"KEN\",\"PRK\",\"KOR\",\"KGZ\",\"LBN\",\"LIE\",\"LTU\",\"LUX\",\"MEX\",\"MDA\",\"MNE\",\"MAR\",\"MOZ\",\"NAM\",\"NZL\",\"MKD\",\"NOR\",\"PAK\",\"PAN\",\"PER\",\"POL\",\"QAT\",\"ROU\",\"RUS\",\"SMR\",\"SEN\",\"SRB\",\"SGP\",\"SVK\",\"ESP\",\"SUR\",\"SWE\",\"SYR\",\"TJK\",\"THA\",\"TTO\",\"TUN\",\"TUR\",\"TKM\",\"UGA\",\"UKR\",\"GBR\",\"USA\",\"UZB\",\"VEN\"],\"name\":\"\",\"type\":\"choropleth\",\"z\":[0.0,272149750016.0021,1596968946.311618,401311077365.16327,237250948766.73508,3176333836.9833,14756846156.237743,279201433254.7297,850426432934.5187,5115602836.04744,869033856.0695275,11093539496.66954,628546387925.0615,0.0,863746717522.005,97160109269.83266,18071153886.91413,25017368695.89205,13323397447.94048,67387788636.05525,494004647.755353,18241691858.749157,25226393202.404663,67629716974.24522,693535954.0896486,4786018987.553388,8547939731.938907,132129174227.89076,1605675086663.473,5694040336.950362,3095047603.8769383,6934984709.716888,705406001.4020747,159717233606.525,46658755150.33952,7426082271.39948,392897054326.8792,10433698621.206776,75790786279.1021,114505860804.04,1312426528035.715,7393883553.722485,4923391533749.91,6927503525.257692,21035368246.64709,12045858435.78638,0.0,610169557011.9308,1827570586.3506,13690217332.891958,2504033252.36833,8382519637.624342,20895314656.482,410975595318.43134,1695122173.7980444,0.0,42812958121.42571,3856799844.8842783,3989208661.71399,70140835301.28,4642018352.842806,163520109153.5312,63320122807.30064,9870494001.135548,55252414122.34009,160193242072.85934,9059340384.8684,36937074288.67857,391724891190.70667,0.0,6559712550.815169,21818007448.83224,96295886537.7456,27925036757.21718,642588992571.5088,861411471.165704,291743811504.62366,61546280618.33276,1043654822.57152,183035114640.5496,5759537725.9358,19587322786.77795,181475555311.01877,2378759975.4298296,6044585326.863102,44558077242.1229,1421619344902.9731,8073122000491.68,13948892214.905,70543211126.89268]},{\"customdata\":[[17106595.0,0.0,0.0,0.0,0.0],[35389362.0,272149750016.0021,7690.157003,3.0,12.0],[3298898.0,1596968946.311618,484.091641,2.0,2.0],[18224767.0,401311077365.16327,22020.09372,41.0,195.0],[7959017.0,237250948766.73508,29809.07677,3.0,111.0],[7763000.0,3176333836.9833,409.1631891,1.0,1.0],[10159569.0,14756846156.237743,1452.507105,15.0,17.0],[10156637.0,279201433254.7297,27489.55518,6.0,33.0],[166037122.0,850426432934.5187,5121.905407,15.0,46.0],[306196.0,5115602836.04744,16706.95514,0.0,0.0],[5930507.0,869033856.0695275,146.5361825,1.0,1.0],[13575324.0,11093539496.66954,817.1841421,0.0,2.0],[29610218.0,628546387925.0615,21227.34753,22.0,165.0],[142898.0,0.0,0.0,0.0,1.0],[1217550000.0,863746717522.005,709.4137551,50.0,170.0],[36632573.0,97160109269.83266,2652.287331,0.0,6.0],[14810946.0,18071153886.91413,1220.121516,0.0,1.0],[10963031.0,25017368695.89205,2281.97555,25.0,102.0],[880058.0,13323397447.94048,15139.22656,0.0,0.0],[10315241.0,67387788636.05525,6532.837055,11.0,11.0],[644649.0,494004647.755353,766.315697,0.0,1.0],[8012314.0,18241691858.749157,2276.707061,0.0,1.0],[11775221.0,25226393202.404663,2142.328641,1.0,1.0],[65565195.0,67629716974.24522,1031.488078,0.0,1.0],[2264073.0,693535954.0896486,306.3222582,0.0,0.0],[1415594.0,4786018987.553388,3380.926302,0.0,2.0],[59347649.0,8547939731.938907,144.0316487,3.0,16.0],[5124573.0,132129174227.89076,25783.45049,4.0,138.0],[59756533.0,1605675086663.473,26870.28524,37.0,224.0],[1150601.0,5694040336.950362,4948.753162,0.0,0.0],[4491699.0,3095047603.8769383,689.0594414,2.0,2.0],[17844010.0,6934984709.716888,388.6449688,0.0,4.0],[753571.0,705406001.4020747,936.0843257,0.0,1.0],[6435500.0,159717233606.525,24818.15455,1.0,1.0],[10311238.0,46658755150.33952,4525.039103,21.0,239.0],[268916.0,7426082271.39948,27614.87703,0.0,1.0],[983281218.0,392897054326.8792,399.5775035,1.0,6.0],[21639332.0,10433698621.206776,482.1636186,0.0,1.0],[3637510.0,75790786279.1021,20835.89771,4.0,10.0],[5692000.0,114505860804.04,20116.98187,1.0,3.0],[56860281.0,1312426528035.715,23081.60468,35.0,286.0],[2532894.0,7393883553.722485,2919.144486,6.0,22.0],[125757000.0,4923391533749.91,39150.03963,14.0,226.0],[4608676.0,6927503525.257692,1503.143967,0.0,0.0],[15578227.0,21035368246.64709,1350.30567,11.0,14.0],[27615736.0,12045858435.78638,436.1954516,8.0,47.0],[22614347.0,0.0,0.0,5.0,28.0],[45524681.0,610169557011.9308,13403.04959,27.0,130.0],[4628400.0,1827570586.3506,394.8601215,0.0,0.0],[4034243.0,13690217332.891958,3393.503399,0.0,2.0],[31337.0,2504033252.36833,79906.60409,0.0,9.0],[3601613.0,8382519637.624342,2327.434857,1.0,3.0],[414225.0,20895314656.482,50444.35912,0.0,2.0],[91586555.0,410975595318.43134,4487.291779,1.0,28.0],[2947293.0,1695122173.7980444,575.1454551,2.0,2.0],[611003.0,0.0,0.0,0.0,0.0],[26999093.0,42812958121.42571,1585.718384,2.0,11.0],[16079553.0,3856799844.8842783,239.8574043,1.0,1.0],[1650066.0,3989208661.71399,2417.605515,2.0,4.0],[3732000.0,70140835301.28,18794.43604,6.0,59.0],[1994226.0,4642018352.842806,2327.729331,0.0,0.0],[4381336.0,163520109153.5312,37321.9742,7.0,155.0],[137234810.0,63320122807.30064,461.399865,0.0,9.0],[2771606.0,9870494001.135548,3561.290458,0.0,0.0],[24907304.0,55252414122.34009,2218.321747,0.0,3.0],[38624370.0,160193242072.85934,4147.465501,17.0,196.0],[529265.0,9059340384.8684,17116.83256,0.0,1.0],[22619004.0,36937074288.67857,1633.010644,20.0,221.0],[148160129.0,391724891190.70667,2643.929199,63.0,86.0],[25235.0,0.0,0.0,0.0,0.0],[8843423.0,6559712550.815169,741.7617082,0.0,1.0],[7617794.0,21818007448.83224,2864.084727,0.0,0.0],[3670704.0,96295886537.7456,26233.6289,0.0,1.0],[5373361.0,27925036757.21718,5196.94038,3.0,3.0],[39889852.0,642588992571.5088,16109.0844,17.0,60.0],[443834.0,861411471.165704,1940.841556,0.0,2.0],[8840998.0,291743811504.62366,32998.96816,8.0,154.0],[14708879.0,61546280618.33276,4184.29444,1.0,2.0],[6035600.0,1043654822.57152,172.9164992,0.0,0.0],[60211096.0,183035114640.5496,3039.8901,2.0,6.0],[1313434.0,5759537725.9358,4385.0987,2.0,6.0],[9430550.0,19587322786.77795,2077.007469,1.0,6.0],[60293786.0,181475555311.01877,3009.855034,6.0,35.0],[4301093.0,2378759975.4298296,553.0594143,0.0,0.0],[21249572.0,6044585326.863102,284.4568035,1.0,6.0],[51057800.0,44558077242.1229,872.6987305,23.0,25.0],[58166950.0,1421619344902.9731,24440.32814,15.0,205.0],[269394000.0,8073122000491.68,29967.71272,101.0,1025.0],[23225000.0,13948892214.905,600.5981578,2.0,3.0],[22572110.0,70543211126.89268,3125.237788,0.0,7.0]],\"geo\":\"geo\",\"hovertemplate\":\"Year=1996<br>A_Total=%{customdata[4]}<br>Country_Code=%{location}<br>Population=%{customdata[0]}<br>GDP=%{customdata[1]}<br>GDP_Per_Capita=%{customdata[2]}<br>Y_Total=%{customdata[3]}<extra></extra>\",\"legendgroup\":\"\",\"locations\":[\"AFG\",\"ARG\",\"ARM\",\"AUS\",\"AUT\",\"AZE\",\"BLR\",\"BEL\",\"BRA\",\"BRN\",\"BDI\",\"CMR\",\"CAN\",\"CHI\",\"CHN\",\"COL\",\"CIV\",\"CUB\",\"CYP\",\"CZE\",\"DJI\",\"DOM\",\"ECU\",\"EGY\",\"ERI\",\"EST\",\"ETH\",\"FIN\",\"FRA\",\"GAB\",\"GEO\",\"GHA\",\"GUY\",\"HKG\",\"HUN\",\"ISL\",\"IND\",\"IRQ\",\"IRL\",\"ISR\",\"ITA\",\"JAM\",\"JPN\",\"JOR\",\"KAZ\",\"KEN\",\"PRK\",\"KOR\",\"KGZ\",\"LBN\",\"LIE\",\"LTU\",\"LUX\",\"MEX\",\"MDA\",\"MNE\",\"MAR\",\"MOZ\",\"NAM\",\"NZL\",\"MKD\",\"NOR\",\"PAK\",\"PAN\",\"PER\",\"POL\",\"QAT\",\"ROU\",\"RUS\",\"SMR\",\"SEN\",\"SRB\",\"SGP\",\"SVK\",\"ESP\",\"SUR\",\"SWE\",\"SYR\",\"TJK\",\"THA\",\"TTO\",\"TUN\",\"TUR\",\"TKM\",\"UGA\",\"UKR\",\"GBR\",\"USA\",\"UZB\",\"VEN\"],\"marker\":{\"color\":\"#636efa\",\"size\":[0.0,12.0,2.0,195.0,111.0,1.0,17.0,33.0,46.0,0.0,1.0,2.0,165.0,1.0,170.0,6.0,1.0,102.0,0.0,11.0,1.0,1.0,1.0,1.0,0.0,2.0,16.0,138.0,224.0,0.0,2.0,4.0,1.0,1.0,239.0,1.0,6.0,1.0,10.0,3.0,286.0,22.0,226.0,0.0,14.0,47.0,28.0,130.0,0.0,2.0,9.0,3.0,2.0,28.0,2.0,0.0,11.0,1.0,4.0,59.0,0.0,155.0,9.0,0.0,3.0,196.0,1.0,221.0,86.0,0.0,1.0,0.0,1.0,3.0,60.0,2.0,154.0,2.0,0.0,6.0,6.0,6.0,35.0,0.0,6.0,25.0,205.0,1025.0,3.0,7.0],\"sizemode\":\"area\",\"sizeref\":4.565,\"symbol\":\"circle\"},\"mode\":\"markers\",\"name\":\"\",\"showlegend\":false,\"type\":\"scattergeo\"}],\"name\":\"1996\"},{\"data\":[{\"coloraxis\":\"coloraxis\",\"customdata\":[[18493132.0,0.0,0.0,0.0,0.0],[36233195.0,298948249994.8109,8250.673174,0.0,12.0],[3240550.0,1893726437.3990152,584.3842673,0.0,2.0],[18607584.0,399660856049.0535,21478.38516,1.0,196.0],[7976789.0,218259904396.8218,27361.87511,17.0,128.0],[7913000.0,4446368570.9127,561.9068079,0.0,1.0],[10071963.0,15222012663.715307,1511.325316,2.0,19.0],[10203008.0,258528339595.41632,25338.44329,1.0,34.0],[171039804.0,863711007239.6007,5049.766119,0.0,46.0],[320152.0,4051147227.72704,12653.82452,0.0,0.0],[6035340.0,893770805.8206899,148.0895535,0.0,1.0],[14314599.0,11298144511.44984,789.2742585,0.0,2.0],[30155173.0,634000000039.0671,21024.58507,15.0,180.0],[144211.0,5945445051.52786,41227.40326,0.0,1.0],[1241935000.0,1029043097559.4454,828.5804793,8.0,178.0],[37944414.0,98443739929.60754,2594.419825,0.0,6.0],[15858990.0,19619653930.36236,1237.131364,0.0,1.0],[11033758.0,25736331199.38949,2332.508217,0.0,102.0],[914660.0,13804804384.6522,15092.82617,0.0,0.0],[10294373.0,66807429713.43588,6489.703619,3.0,14.0],[694920.0,514267869.288252,740.0389531,0.0,1.0],[8282126.0,21672231759.79366,2616.74741,0.0,1.0],[12199693.0,27981896949.260803,2293.655828,0.0,1.0],[68446011.0,84828807537.54118,1239.353562,0.0,1.0],[2322753.0,745526154.8836782,320.9666094,0.0,0.0],[1386156.0,5674080542.348412,4093.392477,0.0,2.0],[63136493.0,7818224904.380294,123.8305223,0.0,16.0],[5153498.0,134038718298.176,26009.26949,12.0,150.0],[60192790.0,1503108739245.927,24971.57449,8.0,232.0],[1209832.0,4483417120.307424,3705.817932,0.0,0.0],[4243607.0,3613541516.899227,851.5259582,0.0,2.0],[18714708.0,7480968858.039511,399.7374075,0.0,4.0],[756697.0,717530683.1358218,948.2404227,0.0,1.0],[6543700.0,168886163205.51498,25808.97095,0.0,1.0],[10266570.0,48706787303.21448,4744.212264,0.0,239.0],[274047.0,8503693098.9192,31030.0536,0.0,1.0],[1021434576.0,421351477464.2523,412.509511,0.0,6.0],[23053488.0,20617405043.49592,894.3290943,0.0,1.0],[3712696.0,90199410125.15993,24294.85477,0.0,10.0],[5971000.0,120056692208.25,20106.63075,0.0,3.0],[56906744.0,1270052525887.9512,22318.1373,10.0,296.0],[2576567.0,8787195622.299921,3410.42776,0.0,22.0],[126400000.0,4098362709104.0,32423.75561,10.0,236.0],[4844403.0,7912270804.603446,1633.280882,0.0,0.0],[15071640.0,22135254833.00724,1468.669291,2.0,16.0],[29137373.0,14093998842.644947,483.7086323,0.0,47.0],[23023636.0,0.0,0.0,0.0,28.0],[46286503.0,383330931061.9429,8281.699982,6.0,136.0],[4769000.0,1645963749.6004,345.1381316,0.0,0.0],[4178784.0,17247179004.534336,4127.320054,0.0,2.0],[32190.0,2479721340.789,77033.9031,0.0,9.0],[3549331.0,11239547692.239424,3166.666533,0.0,3.0],[424700.0,20150053344.676,47445.38108,0.0,2.0],[94767284.0,526502129421.0598,5555.737246,0.0,28.0],[2935227.0,1698717504.766465,578.7346276,0.0,2.0],[607662.0,0.0,0.0,0.0,0.0],[27791825.0,41441495566.17208,1491.139771,0.0,11.0],[16923195.0,5263877520.791271,311.0451378,0.0,1.0],[1735953.0,3873098655.435201,2231.108017,0.0,4.0],[3815000.0,56227169849.55,14738.44557,0.0,59.0],[2007523.0,3765747305.038572,1875.817764,0.0,0.0],[4431464.0,154163364294.3204,34788.35985,25.0,180.0],[145476106.0,62191955815.06072,427.5063275,0.0,9.0],[2885177.0,11575486399.612206,4012.054165,0.0,0.0],[25818226.0,55501467876.97424,2149.701063,0.0,3.0],[38663481.0,174685791551.8947,4518.108226,0.0,196.0],[580997.0,10255495027.343262,17651.54558,0.0,1.0],[22507344.0,41694118972.41729,1852.467309,0.0,221.0],[147670784.0,270955482900.38376,1834.861816,18.0,104.0],[25997.0,0.0,0.0,0.0,0.0],[9261526.0,6505607633.149738,702.433663,0.0,1.0],[7567745.0,19457979420.23895,2571.17271,0.0,0.0],[3927213.0,85728310230.3623,21829.29987,0.0,1.0],[5390516.0,29856000672.445946,5538.616465,0.0,3.0],[40223509.0,619214834500.4731,15394.35146,0.0,60.0],[461749.0,1110849999.846254,2405.744246,0.0,2.0],[8850974.0,270809066737.4928,30596.5272,3.0,157.0],[15500542.0,70418173715.92575,4542.949125,0.0,2.0],[6156805.0,1320242080.7507725,214.4362345,0.0,0.0],[61745217.0,113675561074.0608,1841.042377,0.0,6.0],[1322572.0,6043694329.843664,4569.652412,0.0,6.0],[9677148.0,21803372271.13703,2253.078311,0.0,6.0],[62242204.0,275967393939.74744,4433.766419,0.0,35.0],[4431517.0,2605688065.042524,587.9900867,0.0,0.0],[22537658.0,6584815847.576795,292.1694813,0.0,6.0],[50144500.0,41883242596.1187,835.2509766,1.0,26.0],[58487141.0,1655061278741.1062,28297.866,1.0,206.0],[275854000.0,9062818201365.3,32853.67695,13.0,1038.0],[24051000.0,14988971209.9728,623.2161328,0.0,3.0],[23503819.0,91331203424.52658,3885.802704,0.0,7.0]],\"geo\":\"geo\",\"hovertemplate\":\"<b>%{hovertext}</b><br><br>Year=1998<br>Country_Code=%{location}<br>Population=%{customdata[0]}<br>GDP=%{z}<br>GDP_Per_Capita=%{customdata[2]}<br>Y_Total=%{customdata[3]}<br>A_Total=%{customdata[4]}<extra></extra>\",\"hovertext\":[\"Afghanistan\",\"Argentina\",\"Armenia\",\"Australia\",\"Austria\",\"Azerbaijan\",\"Belarus\",\"Belgium\",\"Brazil\",\"Brunei Darussalam\",\"Burundi\",\"Cameroon\",\"Canada\",\"Channel Islands\",\"China\",\"Colombia\",\"Cote d'Ivoire\",\"Cuba\",\"Cyprus\",\"Czechia\",\"Djibouti\",\"Dominican Republic\",\"Ecuador\",\"Egypt, Arab Rep.\",\"Eritrea\",\"Estonia\",\"Ethiopia\",\"Finland\",\"France\",\"Gabon\",\"Georgia\",\"Ghana\",\"Guyana\",\"Hong Kong SAR, China\",\"Hungary\",\"Iceland\",\"India\",\"Iraq\",\"Ireland\",\"Israel\",\"Italy\",\"Jamaica\",\"Japan\",\"Jordan\",\"Kazakhstan\",\"Kenya\",\"Korea, Dem. People's Rep.\",\"Korea, Rep.\",\"Kyrgyz Republic\",\"Lebanon\",\"Liechtenstein\",\"Lithuania\",\"Luxembourg\",\"Mexico\",\"Moldova\",\"Montenegro\",\"Morocco\",\"Mozambique\",\"Namibia\",\"New Zealand\",\"North Macedonia\",\"Norway\",\"Pakistan\",\"Panama\",\"Peru\",\"Poland\",\"Qatar\",\"Romania\",\"Russian Federation\",\"San Marino\",\"Senegal\",\"Serbia\",\"Singapore\",\"Slovak Republic\",\"Spain\",\"Suriname\",\"Sweden\",\"Syrian Arab Republic\",\"Tajikistan\",\"Thailand\",\"Trinidad and Tobago\",\"Tunisia\",\"Turkiye\",\"Turkmenistan\",\"Uganda\",\"Ukraine\",\"United Kingdom\",\"United States\",\"Uzbekistan\",\"Venezuela, RB\"],\"locations\":[\"AFG\",\"ARG\",\"ARM\",\"AUS\",\"AUT\",\"AZE\",\"BLR\",\"BEL\",\"BRA\",\"BRN\",\"BDI\",\"CMR\",\"CAN\",\"CHI\",\"CHN\",\"COL\",\"CIV\",\"CUB\",\"CYP\",\"CZE\",\"DJI\",\"DOM\",\"ECU\",\"EGY\",\"ERI\",\"EST\",\"ETH\",\"FIN\",\"FRA\",\"GAB\",\"GEO\",\"GHA\",\"GUY\",\"HKG\",\"HUN\",\"ISL\",\"IND\",\"IRQ\",\"IRL\",\"ISR\",\"ITA\",\"JAM\",\"JPN\",\"JOR\",\"KAZ\",\"KEN\",\"PRK\",\"KOR\",\"KGZ\",\"LBN\",\"LIE\",\"LTU\",\"LUX\",\"MEX\",\"MDA\",\"MNE\",\"MAR\",\"MOZ\",\"NAM\",\"NZL\",\"MKD\",\"NOR\",\"PAK\",\"PAN\",\"PER\",\"POL\",\"QAT\",\"ROU\",\"RUS\",\"SMR\",\"SEN\",\"SRB\",\"SGP\",\"SVK\",\"ESP\",\"SUR\",\"SWE\",\"SYR\",\"TJK\",\"THA\",\"TTO\",\"TUN\",\"TUR\",\"TKM\",\"UGA\",\"UKR\",\"GBR\",\"USA\",\"UZB\",\"VEN\"],\"name\":\"\",\"type\":\"choropleth\",\"z\":[0.0,298948249994.8109,1893726437.3990152,399660856049.0535,218259904396.8218,4446368570.9127,15222012663.715307,258528339595.41632,863711007239.6007,4051147227.72704,893770805.8206899,11298144511.44984,634000000039.0671,5945445051.52786,1029043097559.4454,98443739929.60754,19619653930.36236,25736331199.38949,13804804384.6522,66807429713.43588,514267869.288252,21672231759.79366,27981896949.260803,84828807537.54118,745526154.8836782,5674080542.348412,7818224904.380294,134038718298.176,1503108739245.927,4483417120.307424,3613541516.899227,7480968858.039511,717530683.1358218,168886163205.51498,48706787303.21448,8503693098.9192,421351477464.2523,20617405043.49592,90199410125.15993,120056692208.25,1270052525887.9512,8787195622.299921,4098362709104.0,7912270804.603446,22135254833.00724,14093998842.644947,0.0,383330931061.9429,1645963749.6004,17247179004.534336,2479721340.789,11239547692.239424,20150053344.676,526502129421.0598,1698717504.766465,0.0,41441495566.17208,5263877520.791271,3873098655.435201,56227169849.55,3765747305.038572,154163364294.3204,62191955815.06072,11575486399.612206,55501467876.97424,174685791551.8947,10255495027.343262,41694118972.41729,270955482900.38376,0.0,6505607633.149738,19457979420.23895,85728310230.3623,29856000672.445946,619214834500.4731,1110849999.846254,270809066737.4928,70418173715.92575,1320242080.7507725,113675561074.0608,6043694329.843664,21803372271.13703,275967393939.74744,2605688065.042524,6584815847.576795,41883242596.1187,1655061278741.1062,9062818201365.3,14988971209.9728,91331203424.52658]},{\"customdata\":[[18493132.0,0.0,0.0,0.0,0.0],[36233195.0,298948249994.8109,8250.673174,0.0,12.0],[3240550.0,1893726437.3990152,584.3842673,0.0,2.0],[18607584.0,399660856049.0535,21478.38516,1.0,196.0],[7976789.0,218259904396.8218,27361.87511,17.0,128.0],[7913000.0,4446368570.9127,561.9068079,0.0,1.0],[10071963.0,15222012663.715307,1511.325316,2.0,19.0],[10203008.0,258528339595.41632,25338.44329,1.0,34.0],[171039804.0,863711007239.6007,5049.766119,0.0,46.0],[320152.0,4051147227.72704,12653.82452,0.0,0.0],[6035340.0,893770805.8206899,148.0895535,0.0,1.0],[14314599.0,11298144511.44984,789.2742585,0.0,2.0],[30155173.0,634000000039.0671,21024.58507,15.0,180.0],[144211.0,5945445051.52786,41227.40326,0.0,1.0],[1241935000.0,1029043097559.4454,828.5804793,8.0,178.0],[37944414.0,98443739929.60754,2594.419825,0.0,6.0],[15858990.0,19619653930.36236,1237.131364,0.0,1.0],[11033758.0,25736331199.38949,2332.508217,0.0,102.0],[914660.0,13804804384.6522,15092.82617,0.0,0.0],[10294373.0,66807429713.43588,6489.703619,3.0,14.0],[694920.0,514267869.288252,740.0389531,0.0,1.0],[8282126.0,21672231759.79366,2616.74741,0.0,1.0],[12199693.0,27981896949.260803,2293.655828,0.0,1.0],[68446011.0,84828807537.54118,1239.353562,0.0,1.0],[2322753.0,745526154.8836782,320.9666094,0.0,0.0],[1386156.0,5674080542.348412,4093.392477,0.0,2.0],[63136493.0,7818224904.380294,123.8305223,0.0,16.0],[5153498.0,134038718298.176,26009.26949,12.0,150.0],[60192790.0,1503108739245.927,24971.57449,8.0,232.0],[1209832.0,4483417120.307424,3705.817932,0.0,0.0],[4243607.0,3613541516.899227,851.5259582,0.0,2.0],[18714708.0,7480968858.039511,399.7374075,0.0,4.0],[756697.0,717530683.1358218,948.2404227,0.0,1.0],[6543700.0,168886163205.51498,25808.97095,0.0,1.0],[10266570.0,48706787303.21448,4744.212264,0.0,239.0],[274047.0,8503693098.9192,31030.0536,0.0,1.0],[1021434576.0,421351477464.2523,412.509511,0.0,6.0],[23053488.0,20617405043.49592,894.3290943,0.0,1.0],[3712696.0,90199410125.15993,24294.85477,0.0,10.0],[5971000.0,120056692208.25,20106.63075,0.0,3.0],[56906744.0,1270052525887.9512,22318.1373,10.0,296.0],[2576567.0,8787195622.299921,3410.42776,0.0,22.0],[126400000.0,4098362709104.0,32423.75561,10.0,236.0],[4844403.0,7912270804.603446,1633.280882,0.0,0.0],[15071640.0,22135254833.00724,1468.669291,2.0,16.0],[29137373.0,14093998842.644947,483.7086323,0.0,47.0],[23023636.0,0.0,0.0,0.0,28.0],[46286503.0,383330931061.9429,8281.699982,6.0,136.0],[4769000.0,1645963749.6004,345.1381316,0.0,0.0],[4178784.0,17247179004.534336,4127.320054,0.0,2.0],[32190.0,2479721340.789,77033.9031,0.0,9.0],[3549331.0,11239547692.239424,3166.666533,0.0,3.0],[424700.0,20150053344.676,47445.38108,0.0,2.0],[94767284.0,526502129421.0598,5555.737246,0.0,28.0],[2935227.0,1698717504.766465,578.7346276,0.0,2.0],[607662.0,0.0,0.0,0.0,0.0],[27791825.0,41441495566.17208,1491.139771,0.0,11.0],[16923195.0,5263877520.791271,311.0451378,0.0,1.0],[1735953.0,3873098655.435201,2231.108017,0.0,4.0],[3815000.0,56227169849.55,14738.44557,0.0,59.0],[2007523.0,3765747305.038572,1875.817764,0.0,0.0],[4431464.0,154163364294.3204,34788.35985,25.0,180.0],[145476106.0,62191955815.06072,427.5063275,0.0,9.0],[2885177.0,11575486399.612206,4012.054165,0.0,0.0],[25818226.0,55501467876.97424,2149.701063,0.0,3.0],[38663481.0,174685791551.8947,4518.108226,0.0,196.0],[580997.0,10255495027.343262,17651.54558,0.0,1.0],[22507344.0,41694118972.41729,1852.467309,0.0,221.0],[147670784.0,270955482900.38376,1834.861816,18.0,104.0],[25997.0,0.0,0.0,0.0,0.0],[9261526.0,6505607633.149738,702.433663,0.0,1.0],[7567745.0,19457979420.23895,2571.17271,0.0,0.0],[3927213.0,85728310230.3623,21829.29987,0.0,1.0],[5390516.0,29856000672.445946,5538.616465,0.0,3.0],[40223509.0,619214834500.4731,15394.35146,0.0,60.0],[461749.0,1110849999.846254,2405.744246,0.0,2.0],[8850974.0,270809066737.4928,30596.5272,3.0,157.0],[15500542.0,70418173715.92575,4542.949125,0.0,2.0],[6156805.0,1320242080.7507725,214.4362345,0.0,0.0],[61745217.0,113675561074.0608,1841.042377,0.0,6.0],[1322572.0,6043694329.843664,4569.652412,0.0,6.0],[9677148.0,21803372271.13703,2253.078311,0.0,6.0],[62242204.0,275967393939.74744,4433.766419,0.0,35.0],[4431517.0,2605688065.042524,587.9900867,0.0,0.0],[22537658.0,6584815847.576795,292.1694813,0.0,6.0],[50144500.0,41883242596.1187,835.2509766,1.0,26.0],[58487141.0,1655061278741.1062,28297.866,1.0,206.0],[275854000.0,9062818201365.3,32853.67695,13.0,1038.0],[24051000.0,14988971209.9728,623.2161328,0.0,3.0],[23503819.0,91331203424.52658,3885.802704,0.0,7.0]],\"geo\":\"geo\",\"hovertemplate\":\"Year=1998<br>A_Total=%{customdata[4]}<br>Country_Code=%{location}<br>Population=%{customdata[0]}<br>GDP=%{customdata[1]}<br>GDP_Per_Capita=%{customdata[2]}<br>Y_Total=%{customdata[3]}<extra></extra>\",\"legendgroup\":\"\",\"locations\":[\"AFG\",\"ARG\",\"ARM\",\"AUS\",\"AUT\",\"AZE\",\"BLR\",\"BEL\",\"BRA\",\"BRN\",\"BDI\",\"CMR\",\"CAN\",\"CHI\",\"CHN\",\"COL\",\"CIV\",\"CUB\",\"CYP\",\"CZE\",\"DJI\",\"DOM\",\"ECU\",\"EGY\",\"ERI\",\"EST\",\"ETH\",\"FIN\",\"FRA\",\"GAB\",\"GEO\",\"GHA\",\"GUY\",\"HKG\",\"HUN\",\"ISL\",\"IND\",\"IRQ\",\"IRL\",\"ISR\",\"ITA\",\"JAM\",\"JPN\",\"JOR\",\"KAZ\",\"KEN\",\"PRK\",\"KOR\",\"KGZ\",\"LBN\",\"LIE\",\"LTU\",\"LUX\",\"MEX\",\"MDA\",\"MNE\",\"MAR\",\"MOZ\",\"NAM\",\"NZL\",\"MKD\",\"NOR\",\"PAK\",\"PAN\",\"PER\",\"POL\",\"QAT\",\"ROU\",\"RUS\",\"SMR\",\"SEN\",\"SRB\",\"SGP\",\"SVK\",\"ESP\",\"SUR\",\"SWE\",\"SYR\",\"TJK\",\"THA\",\"TTO\",\"TUN\",\"TUR\",\"TKM\",\"UGA\",\"UKR\",\"GBR\",\"USA\",\"UZB\",\"VEN\"],\"marker\":{\"color\":\"#636efa\",\"size\":[0.0,12.0,2.0,196.0,128.0,1.0,19.0,34.0,46.0,0.0,1.0,2.0,180.0,1.0,178.0,6.0,1.0,102.0,0.0,14.0,1.0,1.0,1.0,1.0,0.0,2.0,16.0,150.0,232.0,0.0,2.0,4.0,1.0,1.0,239.0,1.0,6.0,1.0,10.0,3.0,296.0,22.0,236.0,0.0,16.0,47.0,28.0,136.0,0.0,2.0,9.0,3.0,2.0,28.0,2.0,0.0,11.0,1.0,4.0,59.0,0.0,180.0,9.0,0.0,3.0,196.0,1.0,221.0,104.0,0.0,1.0,0.0,1.0,3.0,60.0,2.0,157.0,2.0,0.0,6.0,6.0,6.0,35.0,0.0,6.0,26.0,206.0,1038.0,3.0,7.0],\"sizemode\":\"area\",\"sizeref\":4.565,\"symbol\":\"circle\"},\"mode\":\"markers\",\"name\":\"\",\"showlegend\":false,\"type\":\"scattergeo\"}],\"name\":\"1998\"},{\"data\":[{\"coloraxis\":\"coloraxis\",\"customdata\":[[19542982.0,0.0,0.0,0.0,0.0],[37070774.0,284203749991.18353,7666.517834,4.0,16.0],[3168523.0,1911563668.7007797,603.2980252,1.0,3.0],[19028802.0,415851284349.65936,21853.78167,58.0,254.0],[8011566.0,197289625457.92752,24625.60072,3.0,131.0],[8048600.0,5272798390.93672,655.1199452,3.0,4.0],[9979610.0,12736856826.98674,1276.288034,17.0,36.0],[10251250.0,236792460335.6375,23098.88651,5.0,39.0],[175873720.0,655448188173.8824,3726.81142,12.0,58.0],[333926.0,6001153306.23308,17971.50658,0.0,0.0],[6307659.0,870486065.7231349,138.0046172,0.0,1.0],[15091594.0,10566578953.386478,700.1632136,1.0,3.0],[30685730.0,744773416042.6038,24271.00206,14.0,194.0],[145306.0,6439403013.54854,44316.15359,1.0,2.0],[1262645000.0,1211346869555.122,959.3724836,58.0,236.0],[39215135.0,99886577314.89629,2547.143528,1.0,7.0],[16799670.0,16577533354.604103,986.7773209,0.0,1.0],[11105791.0,30565400003.407352,2752.203783,29.0,131.0],[948237.0,13643563620.07542,14388.34766,0.0,0.0],[10255063.0,61828166498.62116,6029.038193,8.0,22.0],[742033.0,551230861.8904076,742.8656972,0.0,1.0],[8540791.0,24305717544.961098,2845.839167,0.0,1.0],[12626507.0,18327764880.168694,1451.530885,0.0,1.0],[71371371.0,99838543975.2983,1398.859831,0.0,1.0],[2392880.0,706370815.5011201,295.196924,0.0,0.0],[1396985.0,5686579747.39264,4070.609024,3.0,5.0],[67031867.0,8242392103.906964,122.9622935,8.0,24.0],[5176209.0,126019543404.5174,24345.91482,4.0,154.0],[60921384.0,1365639660919.1812,22416.42542,38.0,270.0],[1272935.0,5080483463.79957,3991.157022,0.0,0.0],[4077131.0,3057475335.213085,749.908535,6.0,8.0],[19665502.0,4983024407.395356,253.3891282,0.0,4.0],[759051.0,712667896.740198,938.893298,0.0,1.0],[6665000.0,171668164093.69998,25756.66378,0.0,1.0],[10210971.0,47218405895.45896,4624.281657,17.0,256.0],[281205.0,9025660361.3733,32096.37226,1.0,2.0],[1059633675.0,468394937243.61945,442.0347789,1.0,7.0],[24628858.0,48364250953.08786,1963.722839,0.0,1.0],[3805174.0,100207610448.74454,26334.56721,1.0,11.0],[6289000.0,136035771719.29,21630.74761,1.0,4.0],[56942108.0,1146676894109.0916,20137.59122,34.0,330.0],[2612205.0,9005064473.65068,3447.303896,9.0,31.0],[126843000.0,4968359075937.51,39169.35957,18.0,254.0],[5056174.0,8460789844.31375,1673.358125,0.0,0.0],[14883626.0,18291994913.881622,1229.001247,7.0,23.0],[30851606.0,12705357103.776194,411.8215792,7.0,54.0],[23367059.0,0.0,0.0,4.0,32.0],[47008111.0,576178114264.8463,12256.99357,28.0,164.0],[4898400.0,1369688498.2591202,279.6195693,1.0,1.0],[4320642.0,17260364842.93445,3994.861144,0.0,2.0],[33026.0,2483953102.86242,75212.04817,0.0,9.0],[3499536.0,11524776867.789743,3293.229979,5.0,8.0],[436300.0,21230182991.344,48659.59888,0.0,2.0],[97873442.0,707906744605.6906,7232.878809,6.0,34.0],[2924668.0,1288429391.856912,440.538684,2.0,4.0],[604950.0,984297589.33335,1627.072633,0.0,0.0],[28554415.0,38492773572.63908,1348.049805,5.0,16.0],[17768505.0,5656473652.325692,318.3426885,1.0,2.0],[1819141.0,3922247989.087104,2156.098944,0.0,4.0],[3857700.0,52623281962.944,13641.10272,4.0,63.0],[2026350.0,3772857144.01275,1861.898065,1.0,1.0],[4490967.0,171247131261.30988,38131.46061,10.0,190.0],[154369924.0,82017743423.6633,531.3064961,0.0,9.0],[3001731.0,12304115000.320742,4099.00654,0.0,0.0],[26654439.0,51744749140.75614,1941.31826,0.0,3.0],[38258629.0,172219461109.89413,4501.454067,14.0,210.0],[645937.0,17759890108.58621,27494.77133,1.0,2.0],[22442971.0,37253259027.19844,1659.90764,26.0,247.0],[146596869.0,259710150544.4228,1771.594116,89.0,193.0],[26823.0,1005159388.16454,37473.78698,0.0,0.0],[9704287.0,6013184809.647704,619.6421035,0.0,1.0],[7516346.0,6875845986.627485,914.7857199,0.0,0.0],[4027887.0,96074477963.8856,23852.32703,0.0,1.0],[5388720.0,29242558795.510323,5426.624281,5.0,8.0],[40567864.0,598363313297.0709,14749.68742,11.0,71.0],[478998.0,947671969.775778,1978.446611,0.0,2.0],[8872109.0,262835454323.72104,29624.91267,12.0,169.0],[16307654.0,80590022270.87744,4941.852597,0.0,2.0],[6272998.0,860521119.1988885,137.1786057,0.0,0.0],[63066603.0,126392233719.44102,2004.107209,3.0,9.0],[1332203.0,8154338233.096912,6120.942704,2.0,8.0],[9893316.0,21473261834.876312,2170.481751,0.0,6.0],[64113547.0,274302959024.73212,4278.39313,5.0,40.0],[4569132.0,2904662604.903357,635.7143118,0.0,0.0],[24020697.0,6193246836.149173,257.8296057,0.0,6.0],[49176500.0,32375281540.8892,658.3486328,23.0,49.0],[58892514.0,1666126494029.865,28290.9725,28.0,234.0],[282162411.0,10250947996235.283,36329.95607,93.0,1131.0],[24650400.0,13760513969.88096,558.2268024,4.0,7.0],[24427729.0,117140723536.59398,4795.399668,0.0,7.0]],\"geo\":\"geo\",\"hovertemplate\":\"<b>%{hovertext}</b><br><br>Year=2000<br>Country_Code=%{location}<br>Population=%{customdata[0]}<br>GDP=%{z}<br>GDP_Per_Capita=%{customdata[2]}<br>Y_Total=%{customdata[3]}<br>A_Total=%{customdata[4]}<extra></extra>\",\"hovertext\":[\"Afghanistan\",\"Argentina\",\"Armenia\",\"Australia\",\"Austria\",\"Azerbaijan\",\"Belarus\",\"Belgium\",\"Brazil\",\"Brunei Darussalam\",\"Burundi\",\"Cameroon\",\"Canada\",\"Channel Islands\",\"China\",\"Colombia\",\"Cote d'Ivoire\",\"Cuba\",\"Cyprus\",\"Czechia\",\"Djibouti\",\"Dominican Republic\",\"Ecuador\",\"Egypt, Arab Rep.\",\"Eritrea\",\"Estonia\",\"Ethiopia\",\"Finland\",\"France\",\"Gabon\",\"Georgia\",\"Ghana\",\"Guyana\",\"Hong Kong SAR, China\",\"Hungary\",\"Iceland\",\"India\",\"Iraq\",\"Ireland\",\"Israel\",\"Italy\",\"Jamaica\",\"Japan\",\"Jordan\",\"Kazakhstan\",\"Kenya\",\"Korea, Dem. People's Rep.\",\"Korea, Rep.\",\"Kyrgyz Republic\",\"Lebanon\",\"Liechtenstein\",\"Lithuania\",\"Luxembourg\",\"Mexico\",\"Moldova\",\"Montenegro\",\"Morocco\",\"Mozambique\",\"Namibia\",\"New Zealand\",\"North Macedonia\",\"Norway\",\"Pakistan\",\"Panama\",\"Peru\",\"Poland\",\"Qatar\",\"Romania\",\"Russian Federation\",\"San Marino\",\"Senegal\",\"Serbia\",\"Singapore\",\"Slovak Republic\",\"Spain\",\"Suriname\",\"Sweden\",\"Syrian Arab Republic\",\"Tajikistan\",\"Thailand\",\"Trinidad and Tobago\",\"Tunisia\",\"Turkiye\",\"Turkmenistan\",\"Uganda\",\"Ukraine\",\"United Kingdom\",\"United States\",\"Uzbekistan\",\"Venezuela, RB\"],\"locations\":[\"AFG\",\"ARG\",\"ARM\",\"AUS\",\"AUT\",\"AZE\",\"BLR\",\"BEL\",\"BRA\",\"BRN\",\"BDI\",\"CMR\",\"CAN\",\"CHI\",\"CHN\",\"COL\",\"CIV\",\"CUB\",\"CYP\",\"CZE\",\"DJI\",\"DOM\",\"ECU\",\"EGY\",\"ERI\",\"EST\",\"ETH\",\"FIN\",\"FRA\",\"GAB\",\"GEO\",\"GHA\",\"GUY\",\"HKG\",\"HUN\",\"ISL\",\"IND\",\"IRQ\",\"IRL\",\"ISR\",\"ITA\",\"JAM\",\"JPN\",\"JOR\",\"KAZ\",\"KEN\",\"PRK\",\"KOR\",\"KGZ\",\"LBN\",\"LIE\",\"LTU\",\"LUX\",\"MEX\",\"MDA\",\"MNE\",\"MAR\",\"MOZ\",\"NAM\",\"NZL\",\"MKD\",\"NOR\",\"PAK\",\"PAN\",\"PER\",\"POL\",\"QAT\",\"ROU\",\"RUS\",\"SMR\",\"SEN\",\"SRB\",\"SGP\",\"SVK\",\"ESP\",\"SUR\",\"SWE\",\"SYR\",\"TJK\",\"THA\",\"TTO\",\"TUN\",\"TUR\",\"TKM\",\"UGA\",\"UKR\",\"GBR\",\"USA\",\"UZB\",\"VEN\"],\"name\":\"\",\"type\":\"choropleth\",\"z\":[0.0,284203749991.18353,1911563668.7007797,415851284349.65936,197289625457.92752,5272798390.93672,12736856826.98674,236792460335.6375,655448188173.8824,6001153306.23308,870486065.7231349,10566578953.386478,744773416042.6038,6439403013.54854,1211346869555.122,99886577314.89629,16577533354.604103,30565400003.407352,13643563620.07542,61828166498.62116,551230861.8904076,24305717544.961098,18327764880.168694,99838543975.2983,706370815.5011201,5686579747.39264,8242392103.906964,126019543404.5174,1365639660919.1812,5080483463.79957,3057475335.213085,4983024407.395356,712667896.740198,171668164093.69998,47218405895.45896,9025660361.3733,468394937243.61945,48364250953.08786,100207610448.74454,136035771719.29,1146676894109.0916,9005064473.65068,4968359075937.51,8460789844.31375,18291994913.881622,12705357103.776194,0.0,576178114264.8463,1369688498.2591202,17260364842.93445,2483953102.86242,11524776867.789743,21230182991.344,707906744605.6906,1288429391.856912,984297589.33335,38492773572.63908,5656473652.325692,3922247989.087104,52623281962.944,3772857144.01275,171247131261.30988,82017743423.6633,12304115000.320742,51744749140.75614,172219461109.89413,17759890108.58621,37253259027.19844,259710150544.4228,1005159388.16454,6013184809.647704,6875845986.627485,96074477963.8856,29242558795.510323,598363313297.0709,947671969.775778,262835454323.72104,80590022270.87744,860521119.1988885,126392233719.44102,8154338233.096912,21473261834.876312,274302959024.73212,2904662604.903357,6193246836.149173,32375281540.8892,1666126494029.865,10250947996235.283,13760513969.88096,117140723536.59398]},{\"customdata\":[[19542982.0,0.0,0.0,0.0,0.0],[37070774.0,284203749991.18353,7666.517834,4.0,16.0],[3168523.0,1911563668.7007797,603.2980252,1.0,3.0],[19028802.0,415851284349.65936,21853.78167,58.0,254.0],[8011566.0,197289625457.92752,24625.60072,3.0,131.0],[8048600.0,5272798390.93672,655.1199452,3.0,4.0],[9979610.0,12736856826.98674,1276.288034,17.0,36.0],[10251250.0,236792460335.6375,23098.88651,5.0,39.0],[175873720.0,655448188173.8824,3726.81142,12.0,58.0],[333926.0,6001153306.23308,17971.50658,0.0,0.0],[6307659.0,870486065.7231349,138.0046172,0.0,1.0],[15091594.0,10566578953.386478,700.1632136,1.0,3.0],[30685730.0,744773416042.6038,24271.00206,14.0,194.0],[145306.0,6439403013.54854,44316.15359,1.0,2.0],[1262645000.0,1211346869555.122,959.3724836,58.0,236.0],[39215135.0,99886577314.89629,2547.143528,1.0,7.0],[16799670.0,16577533354.604103,986.7773209,0.0,1.0],[11105791.0,30565400003.407352,2752.203783,29.0,131.0],[948237.0,13643563620.07542,14388.34766,0.0,0.0],[10255063.0,61828166498.62116,6029.038193,8.0,22.0],[742033.0,551230861.8904076,742.8656972,0.0,1.0],[8540791.0,24305717544.961098,2845.839167,0.0,1.0],[12626507.0,18327764880.168694,1451.530885,0.0,1.0],[71371371.0,99838543975.2983,1398.859831,0.0,1.0],[2392880.0,706370815.5011201,295.196924,0.0,0.0],[1396985.0,5686579747.39264,4070.609024,3.0,5.0],[67031867.0,8242392103.906964,122.9622935,8.0,24.0],[5176209.0,126019543404.5174,24345.91482,4.0,154.0],[60921384.0,1365639660919.1812,22416.42542,38.0,270.0],[1272935.0,5080483463.79957,3991.157022,0.0,0.0],[4077131.0,3057475335.213085,749.908535,6.0,8.0],[19665502.0,4983024407.395356,253.3891282,0.0,4.0],[759051.0,712667896.740198,938.893298,0.0,1.0],[6665000.0,171668164093.69998,25756.66378,0.0,1.0],[10210971.0,47218405895.45896,4624.281657,17.0,256.0],[281205.0,9025660361.3733,32096.37226,1.0,2.0],[1059633675.0,468394937243.61945,442.0347789,1.0,7.0],[24628858.0,48364250953.08786,1963.722839,0.0,1.0],[3805174.0,100207610448.74454,26334.56721,1.0,11.0],[6289000.0,136035771719.29,21630.74761,1.0,4.0],[56942108.0,1146676894109.0916,20137.59122,34.0,330.0],[2612205.0,9005064473.65068,3447.303896,9.0,31.0],[126843000.0,4968359075937.51,39169.35957,18.0,254.0],[5056174.0,8460789844.31375,1673.358125,0.0,0.0],[14883626.0,18291994913.881622,1229.001247,7.0,23.0],[30851606.0,12705357103.776194,411.8215792,7.0,54.0],[23367059.0,0.0,0.0,4.0,32.0],[47008111.0,576178114264.8463,12256.99357,28.0,164.0],[4898400.0,1369688498.2591202,279.6195693,1.0,1.0],[4320642.0,17260364842.93445,3994.861144,0.0,2.0],[33026.0,2483953102.86242,75212.04817,0.0,9.0],[3499536.0,11524776867.789743,3293.229979,5.0,8.0],[436300.0,21230182991.344,48659.59888,0.0,2.0],[97873442.0,707906744605.6906,7232.878809,6.0,34.0],[2924668.0,1288429391.856912,440.538684,2.0,4.0],[604950.0,984297589.33335,1627.072633,0.0,0.0],[28554415.0,38492773572.63908,1348.049805,5.0,16.0],[17768505.0,5656473652.325692,318.3426885,1.0,2.0],[1819141.0,3922247989.087104,2156.098944,0.0,4.0],[3857700.0,52623281962.944,13641.10272,4.0,63.0],[2026350.0,3772857144.01275,1861.898065,1.0,1.0],[4490967.0,171247131261.30988,38131.46061,10.0,190.0],[154369924.0,82017743423.6633,531.3064961,0.0,9.0],[3001731.0,12304115000.320742,4099.00654,0.0,0.0],[26654439.0,51744749140.75614,1941.31826,0.0,3.0],[38258629.0,172219461109.89413,4501.454067,14.0,210.0],[645937.0,17759890108.58621,27494.77133,1.0,2.0],[22442971.0,37253259027.19844,1659.90764,26.0,247.0],[146596869.0,259710150544.4228,1771.594116,89.0,193.0],[26823.0,1005159388.16454,37473.78698,0.0,0.0],[9704287.0,6013184809.647704,619.6421035,0.0,1.0],[7516346.0,6875845986.627485,914.7857199,0.0,0.0],[4027887.0,96074477963.8856,23852.32703,0.0,1.0],[5388720.0,29242558795.510323,5426.624281,5.0,8.0],[40567864.0,598363313297.0709,14749.68742,11.0,71.0],[478998.0,947671969.775778,1978.446611,0.0,2.0],[8872109.0,262835454323.72104,29624.91267,12.0,169.0],[16307654.0,80590022270.87744,4941.852597,0.0,2.0],[6272998.0,860521119.1988885,137.1786057,0.0,0.0],[63066603.0,126392233719.44102,2004.107209,3.0,9.0],[1332203.0,8154338233.096912,6120.942704,2.0,8.0],[9893316.0,21473261834.876312,2170.481751,0.0,6.0],[64113547.0,274302959024.73212,4278.39313,5.0,40.0],[4569132.0,2904662604.903357,635.7143118,0.0,0.0],[24020697.0,6193246836.149173,257.8296057,0.0,6.0],[49176500.0,32375281540.8892,658.3486328,23.0,49.0],[58892514.0,1666126494029.865,28290.9725,28.0,234.0],[282162411.0,10250947996235.283,36329.95607,93.0,1131.0],[24650400.0,13760513969.88096,558.2268024,4.0,7.0],[24427729.0,117140723536.59398,4795.399668,0.0,7.0]],\"geo\":\"geo\",\"hovertemplate\":\"Year=2000<br>A_Total=%{customdata[4]}<br>Country_Code=%{location}<br>Population=%{customdata[0]}<br>GDP=%{customdata[1]}<br>GDP_Per_Capita=%{customdata[2]}<br>Y_Total=%{customdata[3]}<extra></extra>\",\"legendgroup\":\"\",\"locations\":[\"AFG\",\"ARG\",\"ARM\",\"AUS\",\"AUT\",\"AZE\",\"BLR\",\"BEL\",\"BRA\",\"BRN\",\"BDI\",\"CMR\",\"CAN\",\"CHI\",\"CHN\",\"COL\",\"CIV\",\"CUB\",\"CYP\",\"CZE\",\"DJI\",\"DOM\",\"ECU\",\"EGY\",\"ERI\",\"EST\",\"ETH\",\"FIN\",\"FRA\",\"GAB\",\"GEO\",\"GHA\",\"GUY\",\"HKG\",\"HUN\",\"ISL\",\"IND\",\"IRQ\",\"IRL\",\"ISR\",\"ITA\",\"JAM\",\"JPN\",\"JOR\",\"KAZ\",\"KEN\",\"PRK\",\"KOR\",\"KGZ\",\"LBN\",\"LIE\",\"LTU\",\"LUX\",\"MEX\",\"MDA\",\"MNE\",\"MAR\",\"MOZ\",\"NAM\",\"NZL\",\"MKD\",\"NOR\",\"PAK\",\"PAN\",\"PER\",\"POL\",\"QAT\",\"ROU\",\"RUS\",\"SMR\",\"SEN\",\"SRB\",\"SGP\",\"SVK\",\"ESP\",\"SUR\",\"SWE\",\"SYR\",\"TJK\",\"THA\",\"TTO\",\"TUN\",\"TUR\",\"TKM\",\"UGA\",\"UKR\",\"GBR\",\"USA\",\"UZB\",\"VEN\"],\"marker\":{\"color\":\"#636efa\",\"size\":[0.0,16.0,3.0,254.0,131.0,4.0,36.0,39.0,58.0,0.0,1.0,3.0,194.0,2.0,236.0,7.0,1.0,131.0,0.0,22.0,1.0,1.0,1.0,1.0,0.0,5.0,24.0,154.0,270.0,0.0,8.0,4.0,1.0,1.0,256.0,2.0,7.0,1.0,11.0,4.0,330.0,31.0,254.0,0.0,23.0,54.0,32.0,164.0,1.0,2.0,9.0,8.0,2.0,34.0,4.0,0.0,16.0,2.0,4.0,63.0,1.0,190.0,9.0,0.0,3.0,210.0,2.0,247.0,193.0,0.0,1.0,0.0,1.0,8.0,71.0,2.0,169.0,2.0,0.0,9.0,8.0,6.0,40.0,0.0,6.0,49.0,234.0,1131.0,7.0,7.0],\"sizemode\":\"area\",\"sizeref\":4.565,\"symbol\":\"circle\"},\"mode\":\"markers\",\"name\":\"\",\"showlegend\":false,\"type\":\"scattergeo\"}],\"name\":\"2000\"},{\"data\":[{\"coloraxis\":\"coloraxis\",\"customdata\":[[21000256.0,3854235263.5904512,183.5327752,0.0,0.0],[37885028.0,97724004239.25052,2579.488769,0.0,16.0],[3105037.0,2376335048.457075,765.3161777,0.0,3.0],[19495210.0,395580786979.7455,20291.17855,2.0,256.0],[8081957.0,214394866666.8771,26527.59309,16.0,147.0],[8171950.0,6235856819.704101,763.080638,0.0,4.0],[9865548.0,14594249025.686483,1479.314583,1.0,37.0],[10332785.0,258383599405.049,25006.1914,0.0,39.0],[180476685.0,509788814907.0432,2824.679625,0.0,58.0],[347463.0,5843329106.93208,16817.12616,0.0,0.0],[6648938.0,825394490.4463736,124.1392972,0.0,1.0],[15914033.0,12417251816.33966,780.2705836,0.0,3.0],[31360079.0,760649334040.5479,24255.33858,17.0,211.0],[147167.0,6663436030.85449,45278.05847,0.0,2.0],[1280400000.0,1470550014516.0,1148.50829,8.0,244.0],[40454050.0,97963003802.32275,2421.587055,0.0,7.0],[17683897.0,18054384014.61541,1020.95053,0.0,1.0],[11170051.0,33590500003.426773,3007.193074,0.0,131.0],[982194.0,15806659056.55896,16093.21484,0.0,0.0],[10196916.0,82196001051.51994,8060.868703,3.0,25.0],[789129.0,591122039.5730925,749.0816325,0.0,1.0],[8795101.0,27137508656.83833,3085.525528,0.0,1.0],[13070609.0,28548945002.5096,2184.209244,0.0,1.0],[74393759.0,85146067384.50409,1144.532398,0.0,1.0],[2547424.0,729321366.6832192,286.2975958,0.0,0.0],[1379350.0,7367975888.04445,5341.628947,3.0,8.0],[71073215.0,7850809496.641161,110.4608747,0.0,24.0],[5200598.0,140404460204.28802,26997.75299,7.0,161.0],[61816234.0,1501409383011.5046,24288.27002,11.0,281.0],[1341696.0,5335451307.568896,3976.646951,0.0,0.0],[3978515.0,3395728013.792256,853.5164537,0.0,8.0],[20758326.0,6166330135.459651,297.0533431,0.0,4.0],[760323.0,726131434.7379915,955.0302105,0.0,1.0],[6744100.0,166349228749.0,24665.89,0.0,1.0],[10158608.0,67608919147.89147,6655.333009,0.0,256.0],[287523.0,9318395055.09645,32409.21615,0.0,2.0],[1098313039.0,514937948864.3906,468.8444283,0.0,7.0],[26255343.0,32928454669.056435,1254.162045,0.0,1.0],[3931947.0,128596035301.88832,32705.43456,0.0,11.0],[6570000.0,125060622833.7,19035.10241,0.0,4.0],[57059007.0,1276769338510.1853,22376.2979,13.0,343.0],[2638244.0,9719017924.808052,3683.896533,0.0,31.0],[127445000.0,4182846045449.8,32820.79364,2.0,256.0],[5275532.0,9582510578.829275,1816.406493,0.0,0.0],[14858948.0,24636593216.71418,1658.030785,0.0,23.0],[32779823.0,13147743910.132631,401.092584,0.0,54.0],[23638411.0,0.0,0.0,0.0,32.0],[47644736.0,627246081604.9446,13165.06574,4.0,168.0],[4990700.0,1605643104.59124,321.7270332,0.0,1.0],[4446666.0,19152238805.992783,4307.100827,0.0,2.0],[33693.0,2688630822.59904,79797.90528,0.0,9.0],[3443067.0,14259781159.697033,4141.592702,0.0,8.0],[446175.0,23649833331.756,53005.73392,0.0,2.0],[100917081.0,772106378968.2568,7650.89885,0.0,34.0],[2911385.0,1661818168.456687,570.7998662,0.0,4.0],[609828.0,1284685050.248304,2106.635068,0.0,0.0],[29301817.0,41812448117.81384,1426.95752,0.0,16.0],[18694946.0,5677003239.214389,303.6651317,0.0,2.0],[1888525.0,3349184759.9735503,1773.439462,0.0,4.0],[3948500.0,66627729304.265,16874.18749,0.0,63.0],[2020157.0,4018365246.714625,1989.135125,0.0,1.0],[4538159.0,195524186499.98276,43084.47247,25.0,215.0],[163262807.0,79904985388.12685,489.4255272,0.0,9.0],[3120990.0,12994310398.819408,4163.521959,0.0,0.0],[27334503.0,54777553525.507744,2003.971081,0.0,3.0],[38230364.0,199072058835.22723,5207.171421,2.0,212.0],[713186.0,19363736264.545,27151.0325,0.0,2.0],[21730496.0,46066101946.09581,2119.882673,0.0,247.0],[145306497.0,345470489116.72784,2377.529541,13.0,206.0],[27969.0,1168269230.81478,41770.14662,0.0,0.0],[10180950.0,7006402592.264985,688.1875063,0.0,1.0],[7496522.0,17120906918.72957,2283.846685,0.0,0.0],[4175950.0,92537752694.917,22159.68886,0.0,1.0],[5376912.0,35297794387.10236,6564.696314,0.0,8.0],[41431558.0,708756677227.0917,17106.68658,0.0,71.0],[495666.0,1093574468.20806,2206.27291,0.0,2.0],[8924958.0,266849061840.0495,29899.19525,7.0,176.0],[17164021.0,90558485531.29095,5276.064713,0.0,2.0],[6541755.0,1221120798.755385,186.665627,0.0,0.0],[64222580.0,134300851280.15608,2091.178076,0.0,9.0],[1345964.0,9008273720.87322,6692.804355,0.0,8.0],[10094561.0,23142153763.502995,2292.536918,0.0,6.0],[65988663.0,240253216265.708,3640.825641,0.0,40.0],[4698968.0,4461978498.932111,949.5656278,0.0,0.0],[25545090.0,6178563590.162718,241.8689302,0.0,6.0],[48202470.0,43956369021.458015,911.9111328,0.0,49.0],[59370479.0,1785843824731.959,30079.66004,1.0,235.0],[287625193.0,10929112955775.115,37997.75966,31.0,1162.0],[25271850.0,9687788513.0358,383.343068,0.0,7.0],[25330929.0,92893587743.00024,3667.200194,0.0,7.0]],\"geo\":\"geo\",\"hovertemplate\":\"<b>%{hovertext}</b><br><br>Year=2002<br>Country_Code=%{location}<br>Population=%{customdata[0]}<br>GDP=%{z}<br>GDP_Per_Capita=%{customdata[2]}<br>Y_Total=%{customdata[3]}<br>A_Total=%{customdata[4]}<extra></extra>\",\"hovertext\":[\"Afghanistan\",\"Argentina\",\"Armenia\",\"Australia\",\"Austria\",\"Azerbaijan\",\"Belarus\",\"Belgium\",\"Brazil\",\"Brunei Darussalam\",\"Burundi\",\"Cameroon\",\"Canada\",\"Channel Islands\",\"China\",\"Colombia\",\"Cote d'Ivoire\",\"Cuba\",\"Cyprus\",\"Czechia\",\"Djibouti\",\"Dominican Republic\",\"Ecuador\",\"Egypt, Arab Rep.\",\"Eritrea\",\"Estonia\",\"Ethiopia\",\"Finland\",\"France\",\"Gabon\",\"Georgia\",\"Ghana\",\"Guyana\",\"Hong Kong SAR, China\",\"Hungary\",\"Iceland\",\"India\",\"Iraq\",\"Ireland\",\"Israel\",\"Italy\",\"Jamaica\",\"Japan\",\"Jordan\",\"Kazakhstan\",\"Kenya\",\"Korea, Dem. People's Rep.\",\"Korea, Rep.\",\"Kyrgyz Republic\",\"Lebanon\",\"Liechtenstein\",\"Lithuania\",\"Luxembourg\",\"Mexico\",\"Moldova\",\"Montenegro\",\"Morocco\",\"Mozambique\",\"Namibia\",\"New Zealand\",\"North Macedonia\",\"Norway\",\"Pakistan\",\"Panama\",\"Peru\",\"Poland\",\"Qatar\",\"Romania\",\"Russian Federation\",\"San Marino\",\"Senegal\",\"Serbia\",\"Singapore\",\"Slovak Republic\",\"Spain\",\"Suriname\",\"Sweden\",\"Syrian Arab Republic\",\"Tajikistan\",\"Thailand\",\"Trinidad and Tobago\",\"Tunisia\",\"Turkiye\",\"Turkmenistan\",\"Uganda\",\"Ukraine\",\"United Kingdom\",\"United States\",\"Uzbekistan\",\"Venezuela, RB\"],\"locations\":[\"AFG\",\"ARG\",\"ARM\",\"AUS\",\"AUT\",\"AZE\",\"BLR\",\"BEL\",\"BRA\",\"BRN\",\"BDI\",\"CMR\",\"CAN\",\"CHI\",\"CHN\",\"COL\",\"CIV\",\"CUB\",\"CYP\",\"CZE\",\"DJI\",\"DOM\",\"ECU\",\"EGY\",\"ERI\",\"EST\",\"ETH\",\"FIN\",\"FRA\",\"GAB\",\"GEO\",\"GHA\",\"GUY\",\"HKG\",\"HUN\",\"ISL\",\"IND\",\"IRQ\",\"IRL\",\"ISR\",\"ITA\",\"JAM\",\"JPN\",\"JOR\",\"KAZ\",\"KEN\",\"PRK\",\"KOR\",\"KGZ\",\"LBN\",\"LIE\",\"LTU\",\"LUX\",\"MEX\",\"MDA\",\"MNE\",\"MAR\",\"MOZ\",\"NAM\",\"NZL\",\"MKD\",\"NOR\",\"PAK\",\"PAN\",\"PER\",\"POL\",\"QAT\",\"ROU\",\"RUS\",\"SMR\",\"SEN\",\"SRB\",\"SGP\",\"SVK\",\"ESP\",\"SUR\",\"SWE\",\"SYR\",\"TJK\",\"THA\",\"TTO\",\"TUN\",\"TUR\",\"TKM\",\"UGA\",\"UKR\",\"GBR\",\"USA\",\"UZB\",\"VEN\"],\"name\":\"\",\"type\":\"choropleth\",\"z\":[3854235263.5904512,97724004239.25052,2376335048.457075,395580786979.7455,214394866666.8771,6235856819.704101,14594249025.686483,258383599405.049,509788814907.0432,5843329106.93208,825394490.4463736,12417251816.33966,760649334040.5479,6663436030.85449,1470550014516.0,97963003802.32275,18054384014.61541,33590500003.426773,15806659056.55896,82196001051.51994,591122039.5730925,27137508656.83833,28548945002.5096,85146067384.50409,729321366.6832192,7367975888.04445,7850809496.641161,140404460204.28802,1501409383011.5046,5335451307.568896,3395728013.792256,6166330135.459651,726131434.7379915,166349228749.0,67608919147.89147,9318395055.09645,514937948864.3906,32928454669.056435,128596035301.88832,125060622833.7,1276769338510.1853,9719017924.808052,4182846045449.8,9582510578.829275,24636593216.71418,13147743910.132631,0.0,627246081604.9446,1605643104.59124,19152238805.992783,2688630822.59904,14259781159.697033,23649833331.756,772106378968.2568,1661818168.456687,1284685050.248304,41812448117.81384,5677003239.214389,3349184759.9735503,66627729304.265,4018365246.714625,195524186499.98276,79904985388.12685,12994310398.819408,54777553525.507744,199072058835.22723,19363736264.545,46066101946.09581,345470489116.72784,1168269230.81478,7006402592.264985,17120906918.72957,92537752694.917,35297794387.10236,708756677227.0917,1093574468.20806,266849061840.0495,90558485531.29095,1221120798.755385,134300851280.15608,9008273720.87322,23142153763.502995,240253216265.708,4461978498.932111,6178563590.162718,43956369021.458015,1785843824731.959,10929112955775.115,9687788513.0358,92893587743.00024]},{\"customdata\":[[21000256.0,3854235263.5904512,183.5327752,0.0,0.0],[37885028.0,97724004239.25052,2579.488769,0.0,16.0],[3105037.0,2376335048.457075,765.3161777,0.0,3.0],[19495210.0,395580786979.7455,20291.17855,2.0,256.0],[8081957.0,214394866666.8771,26527.59309,16.0,147.0],[8171950.0,6235856819.704101,763.080638,0.0,4.0],[9865548.0,14594249025.686483,1479.314583,1.0,37.0],[10332785.0,258383599405.049,25006.1914,0.0,39.0],[180476685.0,509788814907.0432,2824.679625,0.0,58.0],[347463.0,5843329106.93208,16817.12616,0.0,0.0],[6648938.0,825394490.4463736,124.1392972,0.0,1.0],[15914033.0,12417251816.33966,780.2705836,0.0,3.0],[31360079.0,760649334040.5479,24255.33858,17.0,211.0],[147167.0,6663436030.85449,45278.05847,0.0,2.0],[1280400000.0,1470550014516.0,1148.50829,8.0,244.0],[40454050.0,97963003802.32275,2421.587055,0.0,7.0],[17683897.0,18054384014.61541,1020.95053,0.0,1.0],[11170051.0,33590500003.426773,3007.193074,0.0,131.0],[982194.0,15806659056.55896,16093.21484,0.0,0.0],[10196916.0,82196001051.51994,8060.868703,3.0,25.0],[789129.0,591122039.5730925,749.0816325,0.0,1.0],[8795101.0,27137508656.83833,3085.525528,0.0,1.0],[13070609.0,28548945002.5096,2184.209244,0.0,1.0],[74393759.0,85146067384.50409,1144.532398,0.0,1.0],[2547424.0,729321366.6832192,286.2975958,0.0,0.0],[1379350.0,7367975888.04445,5341.628947,3.0,8.0],[71073215.0,7850809496.641161,110.4608747,0.0,24.0],[5200598.0,140404460204.28802,26997.75299,7.0,161.0],[61816234.0,1501409383011.5046,24288.27002,11.0,281.0],[1341696.0,5335451307.568896,3976.646951,0.0,0.0],[3978515.0,3395728013.792256,853.5164537,0.0,8.0],[20758326.0,6166330135.459651,297.0533431,0.0,4.0],[760323.0,726131434.7379915,955.0302105,0.0,1.0],[6744100.0,166349228749.0,24665.89,0.0,1.0],[10158608.0,67608919147.89147,6655.333009,0.0,256.0],[287523.0,9318395055.09645,32409.21615,0.0,2.0],[1098313039.0,514937948864.3906,468.8444283,0.0,7.0],[26255343.0,32928454669.056435,1254.162045,0.0,1.0],[3931947.0,128596035301.88832,32705.43456,0.0,11.0],[6570000.0,125060622833.7,19035.10241,0.0,4.0],[57059007.0,1276769338510.1853,22376.2979,13.0,343.0],[2638244.0,9719017924.808052,3683.896533,0.0,31.0],[127445000.0,4182846045449.8,32820.79364,2.0,256.0],[5275532.0,9582510578.829275,1816.406493,0.0,0.0],[14858948.0,24636593216.71418,1658.030785,0.0,23.0],[32779823.0,13147743910.132631,401.092584,0.0,54.0],[23638411.0,0.0,0.0,0.0,32.0],[47644736.0,627246081604.9446,13165.06574,4.0,168.0],[4990700.0,1605643104.59124,321.7270332,0.0,1.0],[4446666.0,19152238805.992783,4307.100827,0.0,2.0],[33693.0,2688630822.59904,79797.90528,0.0,9.0],[3443067.0,14259781159.697033,4141.592702,0.0,8.0],[446175.0,23649833331.756,53005.73392,0.0,2.0],[100917081.0,772106378968.2568,7650.89885,0.0,34.0],[2911385.0,1661818168.456687,570.7998662,0.0,4.0],[609828.0,1284685050.248304,2106.635068,0.0,0.0],[29301817.0,41812448117.81384,1426.95752,0.0,16.0],[18694946.0,5677003239.214389,303.6651317,0.0,2.0],[1888525.0,3349184759.9735503,1773.439462,0.0,4.0],[3948500.0,66627729304.265,16874.18749,0.0,63.0],[2020157.0,4018365246.714625,1989.135125,0.0,1.0],[4538159.0,195524186499.98276,43084.47247,25.0,215.0],[163262807.0,79904985388.12685,489.4255272,0.0,9.0],[3120990.0,12994310398.819408,4163.521959,0.0,0.0],[27334503.0,54777553525.507744,2003.971081,0.0,3.0],[38230364.0,199072058835.22723,5207.171421,2.0,212.0],[713186.0,19363736264.545,27151.0325,0.0,2.0],[21730496.0,46066101946.09581,2119.882673,0.0,247.0],[145306497.0,345470489116.72784,2377.529541,13.0,206.0],[27969.0,1168269230.81478,41770.14662,0.0,0.0],[10180950.0,7006402592.264985,688.1875063,0.0,1.0],[7496522.0,17120906918.72957,2283.846685,0.0,0.0],[4175950.0,92537752694.917,22159.68886,0.0,1.0],[5376912.0,35297794387.10236,6564.696314,0.0,8.0],[41431558.0,708756677227.0917,17106.68658,0.0,71.0],[495666.0,1093574468.20806,2206.27291,0.0,2.0],[8924958.0,266849061840.0495,29899.19525,7.0,176.0],[17164021.0,90558485531.29095,5276.064713,0.0,2.0],[6541755.0,1221120798.755385,186.665627,0.0,0.0],[64222580.0,134300851280.15608,2091.178076,0.0,9.0],[1345964.0,9008273720.87322,6692.804355,0.0,8.0],[10094561.0,23142153763.502995,2292.536918,0.0,6.0],[65988663.0,240253216265.708,3640.825641,0.0,40.0],[4698968.0,4461978498.932111,949.5656278,0.0,0.0],[25545090.0,6178563590.162718,241.8689302,0.0,6.0],[48202470.0,43956369021.458015,911.9111328,0.0,49.0],[59370479.0,1785843824731.959,30079.66004,1.0,235.0],[287625193.0,10929112955775.115,37997.75966,31.0,1162.0],[25271850.0,9687788513.0358,383.343068,0.0,7.0],[25330929.0,92893587743.00024,3667.200194,0.0,7.0]],\"geo\":\"geo\",\"hovertemplate\":\"Year=2002<br>A_Total=%{customdata[4]}<br>Country_Code=%{location}<br>Population=%{customdata[0]}<br>GDP=%{customdata[1]}<br>GDP_Per_Capita=%{customdata[2]}<br>Y_Total=%{customdata[3]}<extra></extra>\",\"legendgroup\":\"\",\"locations\":[\"AFG\",\"ARG\",\"ARM\",\"AUS\",\"AUT\",\"AZE\",\"BLR\",\"BEL\",\"BRA\",\"BRN\",\"BDI\",\"CMR\",\"CAN\",\"CHI\",\"CHN\",\"COL\",\"CIV\",\"CUB\",\"CYP\",\"CZE\",\"DJI\",\"DOM\",\"ECU\",\"EGY\",\"ERI\",\"EST\",\"ETH\",\"FIN\",\"FRA\",\"GAB\",\"GEO\",\"GHA\",\"GUY\",\"HKG\",\"HUN\",\"ISL\",\"IND\",\"IRQ\",\"IRL\",\"ISR\",\"ITA\",\"JAM\",\"JPN\",\"JOR\",\"KAZ\",\"KEN\",\"PRK\",\"KOR\",\"KGZ\",\"LBN\",\"LIE\",\"LTU\",\"LUX\",\"MEX\",\"MDA\",\"MNE\",\"MAR\",\"MOZ\",\"NAM\",\"NZL\",\"MKD\",\"NOR\",\"PAK\",\"PAN\",\"PER\",\"POL\",\"QAT\",\"ROU\",\"RUS\",\"SMR\",\"SEN\",\"SRB\",\"SGP\",\"SVK\",\"ESP\",\"SUR\",\"SWE\",\"SYR\",\"TJK\",\"THA\",\"TTO\",\"TUN\",\"TUR\",\"TKM\",\"UGA\",\"UKR\",\"GBR\",\"USA\",\"UZB\",\"VEN\"],\"marker\":{\"color\":\"#636efa\",\"size\":[0.0,16.0,3.0,256.0,147.0,4.0,37.0,39.0,58.0,0.0,1.0,3.0,211.0,2.0,244.0,7.0,1.0,131.0,0.0,25.0,1.0,1.0,1.0,1.0,0.0,8.0,24.0,161.0,281.0,0.0,8.0,4.0,1.0,1.0,256.0,2.0,7.0,1.0,11.0,4.0,343.0,31.0,256.0,0.0,23.0,54.0,32.0,168.0,1.0,2.0,9.0,8.0,2.0,34.0,4.0,0.0,16.0,2.0,4.0,63.0,1.0,215.0,9.0,0.0,3.0,212.0,2.0,247.0,206.0,0.0,1.0,0.0,1.0,8.0,71.0,2.0,176.0,2.0,0.0,9.0,8.0,6.0,40.0,0.0,6.0,49.0,235.0,1162.0,7.0,7.0],\"sizemode\":\"area\",\"sizeref\":4.565,\"symbol\":\"circle\"},\"mode\":\"markers\",\"name\":\"\",\"showlegend\":false,\"type\":\"scattergeo\"}],\"name\":\"2002\"},{\"data\":[{\"coloraxis\":\"coloraxis\",\"customdata\":[[23553551.0,5220823685.062514,221.6576042,0.0,0.0],[38668796.0,164657930467.91574,4258.160261,6.0,22.0],[3065745.0,3576615240.72198,1166.638204,0.0,3.0],[19932722.0,614326362277.9797,30819.99349,50.0,306.0],[8171966.0,301457562009.78064,36889.23351,7.0,154.0],[8306500.0,8680370406.6635,1045.009379,5.0,9.0],[9730146.0,23144351851.779755,2378.623286,13.0,50.0],[10421137.0,369214712408.4572,35429.40779,3.0,42.0],[184722043.0,669293772116.7759,3623.247996,10.0,68.0],[360461.0,7872333214.91401,21839.62541,0.0,0.0],[7120496.0,915257323.25756,128.5384225,0.0,1.0],[16809407.0,18826215284.60851,1119.98093,1.0,4.0],[31940655.0,1026690238346.7236,32143.68141,12.0,223.0],[149538.0,8553956571.304139,57202.56103,3.0,5.0],[1296075000.0,1955347005115.35,1508.668098,63.0,307.0],[41648268.0,117081522332.43742,2811.197871,2.0,9.0],[18544903.0,23510577115.8496,1267.764901,0.0,1.0],[11225294.0,38202999998.746925,3403.296163,27.0,158.0],[1018684.0,24237162422.44556,23792.62109,0.0,0.0],[10197101.0,119814434309.13869,11749.85266,9.0,34.0],[818373.0,666072101.7977628,813.8979436,0.0,1.0],[9043127.0,22322395368.52347,2468.437673,1.0,2.0],[13534593.0,36591661005.756905,2703.565671,0.0,1.0],[77522427.0,78782467535.85646,1016.253884,5.0,6.0],[2763140.0,1109054005.561128,401.3745252,1.0,1.0],[1362550.0,12145911801.590351,8914.103557,3.0,11.0],[75301026.0,10131187258.980944,134.5424863,7.0,31.0],[5228172.0,197479443973.7149,37772.17811,2.0,163.0],[62716306.0,2119633181518.7463,33797.16244,33.0,314.0],[1417110.0,7770219479.15877,5483.144907,0.0,0.0],[3927340.0,5125365193.66724,1305.047486,4.0,12.0],[21906444.0,8881368539.125002,405.4226482,0.0,4.0],[760424.0,787814378.947848,1036.019877,0.0,1.0],[6783500.0,169099768859.895,24928.10037,1.0,2.0],[10107146.0,104120820211.42494,10301.70339,17.0,273.0],[292074.0,13825302534.6681,47334.93065,0.0,2.0],[1136264583.0,709148514836.5917,624.1050944,1.0,8.0],[27858948.0,36627901763.52793,1314.762559,0.0,1.0],[4070262.0,194372115043.40784,47754.20232,0.0,11.0],[6809000.0,139973148391.67,20557.07863,2.0,6.0],[57685327.0,1806542968295.8083,31317.20079,32.0,375.0],[2664024.0,10174664854.205544,3819.284231,5.0,36.0],[127761000.0,4893116005499.37,38298.98017,37.0,293.0],[5532423.0,11411706626.43531,2062.69597,0.0,0.0],[15012984.0,43151647006.66327,2874.288483,8.0,31.0],[34791836.0,16095337094.726208,462.6182158,7.0,61.0],[23948930.0,0.0,0.0,5.0,37.0],[48082519.0,793175007653.7068,16496.12009,30.0,198.0],[5104700.0,2211534585.05002,433.2349766,0.0,1.0],[4574797.0,21159827993.26286,4625.304247,0.0,2.0],[34300.0,3454362686.32,100710.2824,0.0,9.0],[3377075.0,22627507451.9234,6700.327192,3.0,11.0],[458095.0,35064843794.34355,76544.91709,0.0,2.0],[103945813.0,782240601951.3652,7525.465234,4.0,38.0],[2896023.0,2598249555.756578,897.1784947,0.0,4.0],[613353.0,2073234417.460713,3380.165121,0.0,0.0],[30033125.0,58987462492.58375,1964.080078,3.0,19.0],[19694411.0,7631120533.959712,387.4764538,0.0,2.0],[1939406.0,6609198833.548136,3407.846956,0.0,4.0],[4087500.0,103905210072.0,25420.23488,5.0,68.0],[2032544.0,5682788267.549984,2795.899261,0.0,1.0],[4591910.0,264511630658.5982,57603.83602,6.0,221.0],[170648620.0,107759683866.80428,631.4711708,0.0,9.0],[3243311.0,15013381699.905275,4629.029316,0.0,0.0],[27893911.0,66768703494.65316,2393.665897,0.0,3.0],[38182222.0,255110181541.7008,6681.386472,10.0,222.0],[777943.0,31734065933.901207,40792.27647,0.0,2.0],[21451748.0,74972669052.66571,3494.944517,19.0,266.0],[144067316.0,591016678209.2418,4102.364746,90.0,296.0],[29093.0,1723749999.95424,59249.64768,0.0,0.0],[10698691.0,10076817277.850874,941.8738496,0.0,1.0],[7463157.0,26141968161.871067,3502.802924,0.0,0.0],[4166664.0,115035498752.23367,27608.53737,0.0,1.0],[5372280.0,57437444471.634,10691.44655,6.0,14.0],[42921895.0,1069055675248.6108,24907.00085,20.0,91.0],[510572.0,1484092538.639016,2906.725278,0.0,2.0],[8993531.0,385118044856.4573,42821.67314,7.0,183.0],[18084007.0,112863340754.89565,6241.058232,1.0,3.0],[6801204.0,2076182460.6674795,305.2668999,0.0,0.0],[65311166.0,172895749640.3655,2647.26172,8.0,17.0],[1361172.0,13280275122.994812,9756.500371,1.0,9.0],[10292225.0,31183059017.574703,3029.768492,0.0,6.0],[67785075.0,408876042627.7896,6031.947927,10.0,50.0],[4819792.0,6838351090.416673,1418.806266,0.0,0.0],[27146084.0,7939487474.787084,292.4726629,0.0,6.0],[47451626.0,67220151809.71376,1416.60376,22.0,71.0],[59987905.0,2422958623245.386,40390.78583,30.0,265.0],[292805298.0,12217193198362.377,41724.63163,101.0,1263.0],[25864350.0,12030023546.742014,465.1198869,5.0,12.0],[26226927.0,112453382341.74728,4287.707147,2.0,9.0]],\"geo\":\"geo\",\"hovertemplate\":\"<b>%{hovertext}</b><br><br>Year=2004<br>Country_Code=%{location}<br>Population=%{customdata[0]}<br>GDP=%{z}<br>GDP_Per_Capita=%{customdata[2]}<br>Y_Total=%{customdata[3]}<br>A_Total=%{customdata[4]}<extra></extra>\",\"hovertext\":[\"Afghanistan\",\"Argentina\",\"Armenia\",\"Australia\",\"Austria\",\"Azerbaijan\",\"Belarus\",\"Belgium\",\"Brazil\",\"Brunei Darussalam\",\"Burundi\",\"Cameroon\",\"Canada\",\"Channel Islands\",\"China\",\"Colombia\",\"Cote d'Ivoire\",\"Cuba\",\"Cyprus\",\"Czechia\",\"Djibouti\",\"Dominican Republic\",\"Ecuador\",\"Egypt, Arab Rep.\",\"Eritrea\",\"Estonia\",\"Ethiopia\",\"Finland\",\"France\",\"Gabon\",\"Georgia\",\"Ghana\",\"Guyana\",\"Hong Kong SAR, China\",\"Hungary\",\"Iceland\",\"India\",\"Iraq\",\"Ireland\",\"Israel\",\"Italy\",\"Jamaica\",\"Japan\",\"Jordan\",\"Kazakhstan\",\"Kenya\",\"Korea, Dem. People's Rep.\",\"Korea, Rep.\",\"Kyrgyz Republic\",\"Lebanon\",\"Liechtenstein\",\"Lithuania\",\"Luxembourg\",\"Mexico\",\"Moldova\",\"Montenegro\",\"Morocco\",\"Mozambique\",\"Namibia\",\"New Zealand\",\"North Macedonia\",\"Norway\",\"Pakistan\",\"Panama\",\"Peru\",\"Poland\",\"Qatar\",\"Romania\",\"Russian Federation\",\"San Marino\",\"Senegal\",\"Serbia\",\"Singapore\",\"Slovak Republic\",\"Spain\",\"Suriname\",\"Sweden\",\"Syrian Arab Republic\",\"Tajikistan\",\"Thailand\",\"Trinidad and Tobago\",\"Tunisia\",\"Turkiye\",\"Turkmenistan\",\"Uganda\",\"Ukraine\",\"United Kingdom\",\"United States\",\"Uzbekistan\",\"Venezuela, RB\"],\"locations\":[\"AFG\",\"ARG\",\"ARM\",\"AUS\",\"AUT\",\"AZE\",\"BLR\",\"BEL\",\"BRA\",\"BRN\",\"BDI\",\"CMR\",\"CAN\",\"CHI\",\"CHN\",\"COL\",\"CIV\",\"CUB\",\"CYP\",\"CZE\",\"DJI\",\"DOM\",\"ECU\",\"EGY\",\"ERI\",\"EST\",\"ETH\",\"FIN\",\"FRA\",\"GAB\",\"GEO\",\"GHA\",\"GUY\",\"HKG\",\"HUN\",\"ISL\",\"IND\",\"IRQ\",\"IRL\",\"ISR\",\"ITA\",\"JAM\",\"JPN\",\"JOR\",\"KAZ\",\"KEN\",\"PRK\",\"KOR\",\"KGZ\",\"LBN\",\"LIE\",\"LTU\",\"LUX\",\"MEX\",\"MDA\",\"MNE\",\"MAR\",\"MOZ\",\"NAM\",\"NZL\",\"MKD\",\"NOR\",\"PAK\",\"PAN\",\"PER\",\"POL\",\"QAT\",\"ROU\",\"RUS\",\"SMR\",\"SEN\",\"SRB\",\"SGP\",\"SVK\",\"ESP\",\"SUR\",\"SWE\",\"SYR\",\"TJK\",\"THA\",\"TTO\",\"TUN\",\"TUR\",\"TKM\",\"UGA\",\"UKR\",\"GBR\",\"USA\",\"UZB\",\"VEN\"],\"name\":\"\",\"type\":\"choropleth\",\"z\":[5220823685.062514,164657930467.91574,3576615240.72198,614326362277.9797,301457562009.78064,8680370406.6635,23144351851.779755,369214712408.4572,669293772116.7759,7872333214.91401,915257323.25756,18826215284.60851,1026690238346.7236,8553956571.304139,1955347005115.35,117081522332.43742,23510577115.8496,38202999998.746925,24237162422.44556,119814434309.13869,666072101.7977628,22322395368.52347,36591661005.756905,78782467535.85646,1109054005.561128,12145911801.590351,10131187258.980944,197479443973.7149,2119633181518.7463,7770219479.15877,5125365193.66724,8881368539.125002,787814378.947848,169099768859.895,104120820211.42494,13825302534.6681,709148514836.5917,36627901763.52793,194372115043.40784,139973148391.67,1806542968295.8083,10174664854.205544,4893116005499.37,11411706626.43531,43151647006.66327,16095337094.726208,0.0,793175007653.7068,2211534585.05002,21159827993.26286,3454362686.32,22627507451.9234,35064843794.34355,782240601951.3652,2598249555.756578,2073234417.460713,58987462492.58375,7631120533.959712,6609198833.548136,103905210072.0,5682788267.549984,264511630658.5982,107759683866.80428,15013381699.905275,66768703494.65316,255110181541.7008,31734065933.901207,74972669052.66571,591016678209.2418,1723749999.95424,10076817277.850874,26141968161.871067,115035498752.23367,57437444471.634,1069055675248.6108,1484092538.639016,385118044856.4573,112863340754.89565,2076182460.6674795,172895749640.3655,13280275122.994812,31183059017.574703,408876042627.7896,6838351090.416673,7939487474.787084,67220151809.71376,2422958623245.386,12217193198362.377,12030023546.742014,112453382341.74728]},{\"customdata\":[[23553551.0,5220823685.062514,221.6576042,0.0,0.0],[38668796.0,164657930467.91574,4258.160261,6.0,22.0],[3065745.0,3576615240.72198,1166.638204,0.0,3.0],[19932722.0,614326362277.9797,30819.99349,50.0,306.0],[8171966.0,301457562009.78064,36889.23351,7.0,154.0],[8306500.0,8680370406.6635,1045.009379,5.0,9.0],[9730146.0,23144351851.779755,2378.623286,13.0,50.0],[10421137.0,369214712408.4572,35429.40779,3.0,42.0],[184722043.0,669293772116.7759,3623.247996,10.0,68.0],[360461.0,7872333214.91401,21839.62541,0.0,0.0],[7120496.0,915257323.25756,128.5384225,0.0,1.0],[16809407.0,18826215284.60851,1119.98093,1.0,4.0],[31940655.0,1026690238346.7236,32143.68141,12.0,223.0],[149538.0,8553956571.304139,57202.56103,3.0,5.0],[1296075000.0,1955347005115.35,1508.668098,63.0,307.0],[41648268.0,117081522332.43742,2811.197871,2.0,9.0],[18544903.0,23510577115.8496,1267.764901,0.0,1.0],[11225294.0,38202999998.746925,3403.296163,27.0,158.0],[1018684.0,24237162422.44556,23792.62109,0.0,0.0],[10197101.0,119814434309.13869,11749.85266,9.0,34.0],[818373.0,666072101.7977628,813.8979436,0.0,1.0],[9043127.0,22322395368.52347,2468.437673,1.0,2.0],[13534593.0,36591661005.756905,2703.565671,0.0,1.0],[77522427.0,78782467535.85646,1016.253884,5.0,6.0],[2763140.0,1109054005.561128,401.3745252,1.0,1.0],[1362550.0,12145911801.590351,8914.103557,3.0,11.0],[75301026.0,10131187258.980944,134.5424863,7.0,31.0],[5228172.0,197479443973.7149,37772.17811,2.0,163.0],[62716306.0,2119633181518.7463,33797.16244,33.0,314.0],[1417110.0,7770219479.15877,5483.144907,0.0,0.0],[3927340.0,5125365193.66724,1305.047486,4.0,12.0],[21906444.0,8881368539.125002,405.4226482,0.0,4.0],[760424.0,787814378.947848,1036.019877,0.0,1.0],[6783500.0,169099768859.895,24928.10037,1.0,2.0],[10107146.0,104120820211.42494,10301.70339,17.0,273.0],[292074.0,13825302534.6681,47334.93065,0.0,2.0],[1136264583.0,709148514836.5917,624.1050944,1.0,8.0],[27858948.0,36627901763.52793,1314.762559,0.0,1.0],[4070262.0,194372115043.40784,47754.20232,0.0,11.0],[6809000.0,139973148391.67,20557.07863,2.0,6.0],[57685327.0,1806542968295.8083,31317.20079,32.0,375.0],[2664024.0,10174664854.205544,3819.284231,5.0,36.0],[127761000.0,4893116005499.37,38298.98017,37.0,293.0],[5532423.0,11411706626.43531,2062.69597,0.0,0.0],[15012984.0,43151647006.66327,2874.288483,8.0,31.0],[34791836.0,16095337094.726208,462.6182158,7.0,61.0],[23948930.0,0.0,0.0,5.0,37.0],[48082519.0,793175007653.7068,16496.12009,30.0,198.0],[5104700.0,2211534585.05002,433.2349766,0.0,1.0],[4574797.0,21159827993.26286,4625.304247,0.0,2.0],[34300.0,3454362686.32,100710.2824,0.0,9.0],[3377075.0,22627507451.9234,6700.327192,3.0,11.0],[458095.0,35064843794.34355,76544.91709,0.0,2.0],[103945813.0,782240601951.3652,7525.465234,4.0,38.0],[2896023.0,2598249555.756578,897.1784947,0.0,4.0],[613353.0,2073234417.460713,3380.165121,0.0,0.0],[30033125.0,58987462492.58375,1964.080078,3.0,19.0],[19694411.0,7631120533.959712,387.4764538,0.0,2.0],[1939406.0,6609198833.548136,3407.846956,0.0,4.0],[4087500.0,103905210072.0,25420.23488,5.0,68.0],[2032544.0,5682788267.549984,2795.899261,0.0,1.0],[4591910.0,264511630658.5982,57603.83602,6.0,221.0],[170648620.0,107759683866.80428,631.4711708,0.0,9.0],[3243311.0,15013381699.905275,4629.029316,0.0,0.0],[27893911.0,66768703494.65316,2393.665897,0.0,3.0],[38182222.0,255110181541.7008,6681.386472,10.0,222.0],[777943.0,31734065933.901207,40792.27647,0.0,2.0],[21451748.0,74972669052.66571,3494.944517,19.0,266.0],[144067316.0,591016678209.2418,4102.364746,90.0,296.0],[29093.0,1723749999.95424,59249.64768,0.0,0.0],[10698691.0,10076817277.850874,941.8738496,0.0,1.0],[7463157.0,26141968161.871067,3502.802924,0.0,0.0],[4166664.0,115035498752.23367,27608.53737,0.0,1.0],[5372280.0,57437444471.634,10691.44655,6.0,14.0],[42921895.0,1069055675248.6108,24907.00085,20.0,91.0],[510572.0,1484092538.639016,2906.725278,0.0,2.0],[8993531.0,385118044856.4573,42821.67314,7.0,183.0],[18084007.0,112863340754.89565,6241.058232,1.0,3.0],[6801204.0,2076182460.6674795,305.2668999,0.0,0.0],[65311166.0,172895749640.3655,2647.26172,8.0,17.0],[1361172.0,13280275122.994812,9756.500371,1.0,9.0],[10292225.0,31183059017.574703,3029.768492,0.0,6.0],[67785075.0,408876042627.7896,6031.947927,10.0,50.0],[4819792.0,6838351090.416673,1418.806266,0.0,0.0],[27146084.0,7939487474.787084,292.4726629,0.0,6.0],[47451626.0,67220151809.71376,1416.60376,22.0,71.0],[59987905.0,2422958623245.386,40390.78583,30.0,265.0],[292805298.0,12217193198362.377,41724.63163,101.0,1263.0],[25864350.0,12030023546.742014,465.1198869,5.0,12.0],[26226927.0,112453382341.74728,4287.707147,2.0,9.0]],\"geo\":\"geo\",\"hovertemplate\":\"Year=2004<br>A_Total=%{customdata[4]}<br>Country_Code=%{location}<br>Population=%{customdata[0]}<br>GDP=%{customdata[1]}<br>GDP_Per_Capita=%{customdata[2]}<br>Y_Total=%{customdata[3]}<extra></extra>\",\"legendgroup\":\"\",\"locations\":[\"AFG\",\"ARG\",\"ARM\",\"AUS\",\"AUT\",\"AZE\",\"BLR\",\"BEL\",\"BRA\",\"BRN\",\"BDI\",\"CMR\",\"CAN\",\"CHI\",\"CHN\",\"COL\",\"CIV\",\"CUB\",\"CYP\",\"CZE\",\"DJI\",\"DOM\",\"ECU\",\"EGY\",\"ERI\",\"EST\",\"ETH\",\"FIN\",\"FRA\",\"GAB\",\"GEO\",\"GHA\",\"GUY\",\"HKG\",\"HUN\",\"ISL\",\"IND\",\"IRQ\",\"IRL\",\"ISR\",\"ITA\",\"JAM\",\"JPN\",\"JOR\",\"KAZ\",\"KEN\",\"PRK\",\"KOR\",\"KGZ\",\"LBN\",\"LIE\",\"LTU\",\"LUX\",\"MEX\",\"MDA\",\"MNE\",\"MAR\",\"MOZ\",\"NAM\",\"NZL\",\"MKD\",\"NOR\",\"PAK\",\"PAN\",\"PER\",\"POL\",\"QAT\",\"ROU\",\"RUS\",\"SMR\",\"SEN\",\"SRB\",\"SGP\",\"SVK\",\"ESP\",\"SUR\",\"SWE\",\"SYR\",\"TJK\",\"THA\",\"TTO\",\"TUN\",\"TUR\",\"TKM\",\"UGA\",\"UKR\",\"GBR\",\"USA\",\"UZB\",\"VEN\"],\"marker\":{\"color\":\"#636efa\",\"size\":[0.0,22.0,3.0,306.0,154.0,9.0,50.0,42.0,68.0,0.0,1.0,4.0,223.0,5.0,307.0,9.0,1.0,158.0,0.0,34.0,1.0,2.0,1.0,6.0,1.0,11.0,31.0,163.0,314.0,0.0,12.0,4.0,1.0,2.0,273.0,2.0,8.0,1.0,11.0,6.0,375.0,36.0,293.0,0.0,31.0,61.0,37.0,198.0,1.0,2.0,9.0,11.0,2.0,38.0,4.0,0.0,19.0,2.0,4.0,68.0,1.0,221.0,9.0,0.0,3.0,222.0,2.0,266.0,296.0,0.0,1.0,0.0,1.0,14.0,91.0,2.0,183.0,3.0,0.0,17.0,9.0,6.0,50.0,0.0,6.0,71.0,265.0,1263.0,12.0,9.0],\"sizemode\":\"area\",\"sizeref\":4.565,\"symbol\":\"circle\"},\"mode\":\"markers\",\"name\":\"\",\"showlegend\":false,\"type\":\"scattergeo\"}],\"name\":\"2004\"},{\"data\":[{\"coloraxis\":\"coloraxis\",\"customdata\":[[25442944.0,6971379033.992256,274.0004865,0.0,0.0],[39476851.0,232557260829.2317,5890.978002,0.0,22.0],[3026486.0,6384451604.754266,2109.526231,0.0,3.0],[20450966.0,747906558882.3774,36570.72037,2.0,308.0],[8268641.0,336280064343.8613,40669.32696,23.0,177.0],[8484550.0,20982986347.39645,2473.081819,0.0,9.0],[9604924.0,36954312356.02657,3847.434124,1.0,51.0],[10547958.0,408259840911.9144,38705.1068,0.0,42.0],[188820682.0,1107640289693.3047,5866.096224,0.0,68.0],[372808.0,11470703001.6228,30768.39285,0.0,0.0],[7658190.0,1273375020.025944,166.2762376,0.0,1.0],[17751333.0,20910513982.726444,1177.968662,0.0,4.0],[32571174.0,1319264809743.397,40504.06073,21.0,244.0],[151985.0,9676410337.3214,63666.87724,0.0,5.0],[1311020000.0,2752131773873.7,2099.229435,11.0,318.0],[42772910.0,161618580760.7806,3778.52666,0.0,9.0],[19394057.0,25281414475.632656,1303.565029,0.0,1.0],[11260630.0,48835925925.9979,4336.87333,0.0,158.0],[1055438.0,28211144496.10836,26729.32422,0.0,0.0],[10238905.0,156264095653.23895,15261.79759,4.0,38.0],[846947.0,768873684.0475786,907.8179438,0.0,1.0],[9284168.0,37879869899.07253,4080.050027,0.0,2.0],[14009061.0,46802044001.42208,3340.840903,0.0,1.0],[80629670.0,107426086956.29472,1332.33941,0.0,6.0],[2880093.0,1211161879.796801,420.5287398,0.0,1.0],[1346810.0,17022870408.2767,12639.40007,3.0,14.0],[79691050.0,15280861838.182123,191.7512925,0.0,31.0],[5266268.0,217089269789.336,41222.602,9.0,172.0],[63628261.0,2320536221309.072,36470.21284,9.0,323.0],[1502534.0,10327598801.226608,6873.454312,0.0,0.0],[3880347.0,7745394292.343763,1996.057129,0.0,12.0],[23098586.0,20440893016.353844,884.9413127,0.0,4.0],[758367.0,2379818382.6684422,3138.082726,0.0,1.0],[6857100.0,193536265087.926,28224.21506,0.0,2.0],[10071370.0,115715618659.2919,11489.56087,0.0,273.0],[303782.0,17465318552.3335,57492.93425,0.0,2.0],[1172373788.0,940259888736.5948,802.013742,0.0,8.0],[28905607.0,65140147204.3626,2253.547113,0.0,1.0],[4273591.0,232180617162.43927,54329.16186,0.0,11.0],[7053700.0,158670456910.233,22494.64209,0.0,6.0],[58143979.0,1949551719306.1416,33529.7266,11.0,386.0],[2689660.0,11930171467.5726,4435.56861,0.0,36.0],[127854000.0,4601663122284.0,35991.546,1.0,294.0],[6075548.0,15056981663.785313,2478.291944,0.0,0.0],[15308085.0,81003884552.84093,5291.575305,0.0,31.0],[36925253.0,25825524820.98468,699.4000778,0.0,61.0],[24235761.0,0.0,0.0,0.0,37.0],[48438292.0,1053216909818.5154,21743.47745,11.0,209.0],[5218400.0,2834168889.40416,543.1107024,0.0,1.0],[4719864.0,22022709849.779064,4665.962801,0.0,2.0],[34889.0,4000239272.1305,114656.1745,0.0,9.0],[3269909.0,30183575103.44373,9230.707981,0.0,11.0],[472637.0,42910146297.19213,90788.80049,0.0,2.0],[106886790.0,975387131672.737,9125.422624,0.0,38.0],[2880967.0,3408244550.616977,1183.021031,0.0,4.0],[615025.0,2721903148.866825,4425.678873,0.0,0.0],[30833022.0,67862435072.56541,2200.966064,0.0,19.0],[20735982.0,9176889071.255545,442.558692,0.0,2.0],[1986558.0,8001779550.747948,4027.961706,0.0,4.0],[4184600.0,111538810704.72,26654.5932,0.0,68.0],[2040228.0,6861222331.559531,3362.968419,0.0,1.0],[4660677.0,345581369985.4942,74148.32008,19.0,240.0],[178069984.0,137264061113.46455,770.8433394,0.0,9.0],[3368573.0,18141666298.73524,5385.564243,0.0,0.0],[28381078.0,88643193051.55139,3123.320159,0.0,3.0],[38141267.0,344622003076.44165,9035.410467,2.0,224.0],[1015060.0,60882142859.8226,59978.86121,0.0,2.0],[21193760.0,122022997517.08304,5757.496429,0.0,266.0],[143049637.0,989930519414.6558,6920.188965,22.0,318.0],[29959.0,1908167105.81243,63692.61677,0.0,0.0],[11263387.0,11697918806.473955,1038.579142,0.0,1.0],[7411569.0,32482070363.900757,4382.617279,0.0,0.0],[4401365.0,148630373199.4284,33769.15416,0.0,1.0],[5373054.0,70767338919.92892,13170.78498,1.0,15.0],[44397319.0,1260398977832.3271,28389.07858,0.0,91.0],[522023.0,2626380435.374696,5031.158465,0.0,2.0],[9080505.0,423093437381.8908,46593.60216,14.0,197.0],[19432009.0,153799910904.35144,7914.771494,0.0,3.0],[7057417.0,2830220713.1328225,401.0278425,0.0,0.0],[66319525.0,221758196492.70575,3343.784451,0.0,17.0],[1376919.0,18369361089.57213,13340.91627,0.0,9.0],[10483558.0,34377310294.25434,3279.164411,0.0,6.0],[69601333.0,557057829052.0883,8003.551154,0.0,50.0],[4954029.0,10276674362.92028,2074.407389,0.0,0.0],[28773227.0,9977647644.793648,346.768461,0.0,6.0],[46787786.0,111884754398.96936,2391.323975,2.0,73.0],[60846820.0,2709911683511.2905,44536.61972,0.0,265.0],[298379912.0,13815586947998.322,46302.00088,25.0,1288.0],[26488250.0,17330833853.361725,654.2838373,0.0,12.0],[27102081.0,183477522115.56952,6769.868414,0.0,9.0]],\"geo\":\"geo\",\"hovertemplate\":\"<b>%{hovertext}</b><br><br>Year=2006<br>Country_Code=%{location}<br>Population=%{customdata[0]}<br>GDP=%{z}<br>GDP_Per_Capita=%{customdata[2]}<br>Y_Total=%{customdata[3]}<br>A_Total=%{customdata[4]}<extra></extra>\",\"hovertext\":[\"Afghanistan\",\"Argentina\",\"Armenia\",\"Australia\",\"Austria\",\"Azerbaijan\",\"Belarus\",\"Belgium\",\"Brazil\",\"Brunei Darussalam\",\"Burundi\",\"Cameroon\",\"Canada\",\"Channel Islands\",\"China\",\"Colombia\",\"Cote d'Ivoire\",\"Cuba\",\"Cyprus\",\"Czechia\",\"Djibouti\",\"Dominican Republic\",\"Ecuador\",\"Egypt, Arab Rep.\",\"Eritrea\",\"Estonia\",\"Ethiopia\",\"Finland\",\"France\",\"Gabon\",\"Georgia\",\"Ghana\",\"Guyana\",\"Hong Kong SAR, China\",\"Hungary\",\"Iceland\",\"India\",\"Iraq\",\"Ireland\",\"Israel\",\"Italy\",\"Jamaica\",\"Japan\",\"Jordan\",\"Kazakhstan\",\"Kenya\",\"Korea, Dem. People's Rep.\",\"Korea, Rep.\",\"Kyrgyz Republic\",\"Lebanon\",\"Liechtenstein\",\"Lithuania\",\"Luxembourg\",\"Mexico\",\"Moldova\",\"Montenegro\",\"Morocco\",\"Mozambique\",\"Namibia\",\"New Zealand\",\"North Macedonia\",\"Norway\",\"Pakistan\",\"Panama\",\"Peru\",\"Poland\",\"Qatar\",\"Romania\",\"Russian Federation\",\"San Marino\",\"Senegal\",\"Serbia\",\"Singapore\",\"Slovak Republic\",\"Spain\",\"Suriname\",\"Sweden\",\"Syrian Arab Republic\",\"Tajikistan\",\"Thailand\",\"Trinidad and Tobago\",\"Tunisia\",\"Turkiye\",\"Turkmenistan\",\"Uganda\",\"Ukraine\",\"United Kingdom\",\"United States\",\"Uzbekistan\",\"Venezuela, RB\"],\"locations\":[\"AFG\",\"ARG\",\"ARM\",\"AUS\",\"AUT\",\"AZE\",\"BLR\",\"BEL\",\"BRA\",\"BRN\",\"BDI\",\"CMR\",\"CAN\",\"CHI\",\"CHN\",\"COL\",\"CIV\",\"CUB\",\"CYP\",\"CZE\",\"DJI\",\"DOM\",\"ECU\",\"EGY\",\"ERI\",\"EST\",\"ETH\",\"FIN\",\"FRA\",\"GAB\",\"GEO\",\"GHA\",\"GUY\",\"HKG\",\"HUN\",\"ISL\",\"IND\",\"IRQ\",\"IRL\",\"ISR\",\"ITA\",\"JAM\",\"JPN\",\"JOR\",\"KAZ\",\"KEN\",\"PRK\",\"KOR\",\"KGZ\",\"LBN\",\"LIE\",\"LTU\",\"LUX\",\"MEX\",\"MDA\",\"MNE\",\"MAR\",\"MOZ\",\"NAM\",\"NZL\",\"MKD\",\"NOR\",\"PAK\",\"PAN\",\"PER\",\"POL\",\"QAT\",\"ROU\",\"RUS\",\"SMR\",\"SEN\",\"SRB\",\"SGP\",\"SVK\",\"ESP\",\"SUR\",\"SWE\",\"SYR\",\"TJK\",\"THA\",\"TTO\",\"TUN\",\"TUR\",\"TKM\",\"UGA\",\"UKR\",\"GBR\",\"USA\",\"UZB\",\"VEN\"],\"name\":\"\",\"type\":\"choropleth\",\"z\":[6971379033.992256,232557260829.2317,6384451604.754266,747906558882.3774,336280064343.8613,20982986347.39645,36954312356.02657,408259840911.9144,1107640289693.3047,11470703001.6228,1273375020.025944,20910513982.726444,1319264809743.397,9676410337.3214,2752131773873.7,161618580760.7806,25281414475.632656,48835925925.9979,28211144496.10836,156264095653.23895,768873684.0475786,37879869899.07253,46802044001.42208,107426086956.29472,1211161879.796801,17022870408.2767,15280861838.182123,217089269789.336,2320536221309.072,10327598801.226608,7745394292.343763,20440893016.353844,2379818382.6684422,193536265087.926,115715618659.2919,17465318552.3335,940259888736.5948,65140147204.3626,232180617162.43927,158670456910.233,1949551719306.1416,11930171467.5726,4601663122284.0,15056981663.785313,81003884552.84093,25825524820.98468,0.0,1053216909818.5154,2834168889.40416,22022709849.779064,4000239272.1305,30183575103.44373,42910146297.19213,975387131672.737,3408244550.616977,2721903148.866825,67862435072.56541,9176889071.255545,8001779550.747948,111538810704.72,6861222331.559531,345581369985.4942,137264061113.46455,18141666298.73524,88643193051.55139,344622003076.44165,60882142859.8226,122022997517.08304,989930519414.6558,1908167105.81243,11697918806.473955,32482070363.900757,148630373199.4284,70767338919.92892,1260398977832.3271,2626380435.374696,423093437381.8908,153799910904.35144,2830220713.1328225,221758196492.70575,18369361089.57213,34377310294.25434,557057829052.0883,10276674362.92028,9977647644.793648,111884754398.96936,2709911683511.2905,13815586947998.322,17330833853.361725,183477522115.56952]},{\"customdata\":[[25442944.0,6971379033.992256,274.0004865,0.0,0.0],[39476851.0,232557260829.2317,5890.978002,0.0,22.0],[3026486.0,6384451604.754266,2109.526231,0.0,3.0],[20450966.0,747906558882.3774,36570.72037,2.0,308.0],[8268641.0,336280064343.8613,40669.32696,23.0,177.0],[8484550.0,20982986347.39645,2473.081819,0.0,9.0],[9604924.0,36954312356.02657,3847.434124,1.0,51.0],[10547958.0,408259840911.9144,38705.1068,0.0,42.0],[188820682.0,1107640289693.3047,5866.096224,0.0,68.0],[372808.0,11470703001.6228,30768.39285,0.0,0.0],[7658190.0,1273375020.025944,166.2762376,0.0,1.0],[17751333.0,20910513982.726444,1177.968662,0.0,4.0],[32571174.0,1319264809743.397,40504.06073,21.0,244.0],[151985.0,9676410337.3214,63666.87724,0.0,5.0],[1311020000.0,2752131773873.7,2099.229435,11.0,318.0],[42772910.0,161618580760.7806,3778.52666,0.0,9.0],[19394057.0,25281414475.632656,1303.565029,0.0,1.0],[11260630.0,48835925925.9979,4336.87333,0.0,158.0],[1055438.0,28211144496.10836,26729.32422,0.0,0.0],[10238905.0,156264095653.23895,15261.79759,4.0,38.0],[846947.0,768873684.0475786,907.8179438,0.0,1.0],[9284168.0,37879869899.07253,4080.050027,0.0,2.0],[14009061.0,46802044001.42208,3340.840903,0.0,1.0],[80629670.0,107426086956.29472,1332.33941,0.0,6.0],[2880093.0,1211161879.796801,420.5287398,0.0,1.0],[1346810.0,17022870408.2767,12639.40007,3.0,14.0],[79691050.0,15280861838.182123,191.7512925,0.0,31.0],[5266268.0,217089269789.336,41222.602,9.0,172.0],[63628261.0,2320536221309.072,36470.21284,9.0,323.0],[1502534.0,10327598801.226608,6873.454312,0.0,0.0],[3880347.0,7745394292.343763,1996.057129,0.0,12.0],[23098586.0,20440893016.353844,884.9413127,0.0,4.0],[758367.0,2379818382.6684422,3138.082726,0.0,1.0],[6857100.0,193536265087.926,28224.21506,0.0,2.0],[10071370.0,115715618659.2919,11489.56087,0.0,273.0],[303782.0,17465318552.3335,57492.93425,0.0,2.0],[1172373788.0,940259888736.5948,802.013742,0.0,8.0],[28905607.0,65140147204.3626,2253.547113,0.0,1.0],[4273591.0,232180617162.43927,54329.16186,0.0,11.0],[7053700.0,158670456910.233,22494.64209,0.0,6.0],[58143979.0,1949551719306.1416,33529.7266,11.0,386.0],[2689660.0,11930171467.5726,4435.56861,0.0,36.0],[127854000.0,4601663122284.0,35991.546,1.0,294.0],[6075548.0,15056981663.785313,2478.291944,0.0,0.0],[15308085.0,81003884552.84093,5291.575305,0.0,31.0],[36925253.0,25825524820.98468,699.4000778,0.0,61.0],[24235761.0,0.0,0.0,0.0,37.0],[48438292.0,1053216909818.5154,21743.47745,11.0,209.0],[5218400.0,2834168889.40416,543.1107024,0.0,1.0],[4719864.0,22022709849.779064,4665.962801,0.0,2.0],[34889.0,4000239272.1305,114656.1745,0.0,9.0],[3269909.0,30183575103.44373,9230.707981,0.0,11.0],[472637.0,42910146297.19213,90788.80049,0.0,2.0],[106886790.0,975387131672.737,9125.422624,0.0,38.0],[2880967.0,3408244550.616977,1183.021031,0.0,4.0],[615025.0,2721903148.866825,4425.678873,0.0,0.0],[30833022.0,67862435072.56541,2200.966064,0.0,19.0],[20735982.0,9176889071.255545,442.558692,0.0,2.0],[1986558.0,8001779550.747948,4027.961706,0.0,4.0],[4184600.0,111538810704.72,26654.5932,0.0,68.0],[2040228.0,6861222331.559531,3362.968419,0.0,1.0],[4660677.0,345581369985.4942,74148.32008,19.0,240.0],[178069984.0,137264061113.46455,770.8433394,0.0,9.0],[3368573.0,18141666298.73524,5385.564243,0.0,0.0],[28381078.0,88643193051.55139,3123.320159,0.0,3.0],[38141267.0,344622003076.44165,9035.410467,2.0,224.0],[1015060.0,60882142859.8226,59978.86121,0.0,2.0],[21193760.0,122022997517.08304,5757.496429,0.0,266.0],[143049637.0,989930519414.6558,6920.188965,22.0,318.0],[29959.0,1908167105.81243,63692.61677,0.0,0.0],[11263387.0,11697918806.473955,1038.579142,0.0,1.0],[7411569.0,32482070363.900757,4382.617279,0.0,0.0],[4401365.0,148630373199.4284,33769.15416,0.0,1.0],[5373054.0,70767338919.92892,13170.78498,1.0,15.0],[44397319.0,1260398977832.3271,28389.07858,0.0,91.0],[522023.0,2626380435.374696,5031.158465,0.0,2.0],[9080505.0,423093437381.8908,46593.60216,14.0,197.0],[19432009.0,153799910904.35144,7914.771494,0.0,3.0],[7057417.0,2830220713.1328225,401.0278425,0.0,0.0],[66319525.0,221758196492.70575,3343.784451,0.0,17.0],[1376919.0,18369361089.57213,13340.91627,0.0,9.0],[10483558.0,34377310294.25434,3279.164411,0.0,6.0],[69601333.0,557057829052.0883,8003.551154,0.0,50.0],[4954029.0,10276674362.92028,2074.407389,0.0,0.0],[28773227.0,9977647644.793648,346.768461,0.0,6.0],[46787786.0,111884754398.96936,2391.323975,2.0,73.0],[60846820.0,2709911683511.2905,44536.61972,0.0,265.0],[298379912.0,13815586947998.322,46302.00088,25.0,1288.0],[26488250.0,17330833853.361725,654.2838373,0.0,12.0],[27102081.0,183477522115.56952,6769.868414,0.0,9.0]],\"geo\":\"geo\",\"hovertemplate\":\"Year=2006<br>A_Total=%{customdata[4]}<br>Country_Code=%{location}<br>Population=%{customdata[0]}<br>GDP=%{customdata[1]}<br>GDP_Per_Capita=%{customdata[2]}<br>Y_Total=%{customdata[3]}<extra></extra>\",\"legendgroup\":\"\",\"locations\":[\"AFG\",\"ARG\",\"ARM\",\"AUS\",\"AUT\",\"AZE\",\"BLR\",\"BEL\",\"BRA\",\"BRN\",\"BDI\",\"CMR\",\"CAN\",\"CHI\",\"CHN\",\"COL\",\"CIV\",\"CUB\",\"CYP\",\"CZE\",\"DJI\",\"DOM\",\"ECU\",\"EGY\",\"ERI\",\"EST\",\"ETH\",\"FIN\",\"FRA\",\"GAB\",\"GEO\",\"GHA\",\"GUY\",\"HKG\",\"HUN\",\"ISL\",\"IND\",\"IRQ\",\"IRL\",\"ISR\",\"ITA\",\"JAM\",\"JPN\",\"JOR\",\"KAZ\",\"KEN\",\"PRK\",\"KOR\",\"KGZ\",\"LBN\",\"LIE\",\"LTU\",\"LUX\",\"MEX\",\"MDA\",\"MNE\",\"MAR\",\"MOZ\",\"NAM\",\"NZL\",\"MKD\",\"NOR\",\"PAK\",\"PAN\",\"PER\",\"POL\",\"QAT\",\"ROU\",\"RUS\",\"SMR\",\"SEN\",\"SRB\",\"SGP\",\"SVK\",\"ESP\",\"SUR\",\"SWE\",\"SYR\",\"TJK\",\"THA\",\"TTO\",\"TUN\",\"TUR\",\"TKM\",\"UGA\",\"UKR\",\"GBR\",\"USA\",\"UZB\",\"VEN\"],\"marker\":{\"color\":\"#636efa\",\"size\":[0.0,22.0,3.0,308.0,177.0,9.0,51.0,42.0,68.0,0.0,1.0,4.0,244.0,5.0,318.0,9.0,1.0,158.0,0.0,38.0,1.0,2.0,1.0,6.0,1.0,14.0,31.0,172.0,323.0,0.0,12.0,4.0,1.0,2.0,273.0,2.0,8.0,1.0,11.0,6.0,386.0,36.0,294.0,0.0,31.0,61.0,37.0,209.0,1.0,2.0,9.0,11.0,2.0,38.0,4.0,0.0,19.0,2.0,4.0,68.0,1.0,240.0,9.0,0.0,3.0,224.0,2.0,266.0,318.0,0.0,1.0,0.0,1.0,15.0,91.0,2.0,197.0,3.0,0.0,17.0,9.0,6.0,50.0,0.0,6.0,73.0,265.0,1288.0,12.0,9.0],\"sizemode\":\"area\",\"sizeref\":4.565,\"symbol\":\"circle\"},\"mode\":\"markers\",\"name\":\"\",\"showlegend\":false,\"type\":\"scattergeo\"}],\"name\":\"2006\"},{\"data\":[{\"coloraxis\":\"coloraxis\",\"customdata\":[[26427199.0,10249767311.211786,387.8491743,1.0,1.0],[40273769.0,361558037113.0914,8977.506851,6.0,28.0],[2983421.0,11662040713.53426,3908.94906,5.0,8.0],[21249199.0,1055642793238.8954,49679.18053,46.0,354.0],[8321496.0,432051935681.0357,51919.98358,3.0,180.0],[8763400.0,48852482958.4468,5574.603802,6.0,15.0],[9527985.0,60763483145.95002,6377.369732,14.0,65.0],[10709973.0,517328087959.8551,48303.39796,2.0,44.0],[192672317.0,1695824565888.2844,8801.599484,17.0,85.0],[384568.0,14393099067.09072,37426.66854,0.0,0.0],[8278109.0,1611835902.207571,194.7106401,0.0,1.0],[18777081.0,27715144586.80141,1476.009215,1.0,5.0],[33247118.0,1552989690857.9185,46710.50558,20.0,264.0],[154475.0,0.0,0.0,1.0,6.0],[1324655000.0,4594307032562.311,3468.304602,100.0,418.0],[43815313.0,242186949782.5303,5527.449953,3.0,12.0],[20244449.0,34078243427.89379,1683.337661,0.0,1.0],[11276609.0,56302129624.46085,4992.824494,30.0,188.0],[1092390.0,38667725673.4392,35397.36328,0.0,0.0],[10384603.0,236816485789.46103,22804.57768,7.0,45.0],[882886.0,999105339.585236,1131.635726,0.0,1.0],[9522948.0,48122547173.893,5053.324577,2.0,4.0],[14496797.0,61762635000.51166,4260.433184,1.0,2.0],[83844783.0,162818181843.89087,1941.899973,2.0,8.0],[3005779.0,1380188800.0892034,459.1784027,0.0,1.0],[1337090.0,24341678630.7432,18204.96648,2.0,16.0],[84357105.0,27066912634.23732,320.8610897,7.0,38.0],[5313399.0,285716311142.0218,53772.79424,4.0,176.0],[64379696.0,2930303780612.628,45515.96175,43.0,366.0],[1599978.0,15571349775.796583,9732.227428,0.0,0.0],[3848449.0,12795076468.80167,3324.735879,7.0,19.0],[24326087.0,28678701883.69252,1178.927868,0.0,4.0],[754150.0,3025187923.8491,4011.387554,0.0,1.0],[6957800.0,219279678421.106,31515.66277,0.0,2.0],[10038188.0,158325614541.09503,15772.33008,10.0,283.0],[317414.0,18074622988.0163,56943.37045,1.0,3.0],[1206734806.0,1198895582168.0557,993.5037725,3.0,11.0],[29218381.0,131614433708.0758,4504.508094,0.0,1.0],[4489544.0,275447471437.80865,61353.10656,3.0,14.0],[7308800.0,220531065188.992,30173.36159,1.0,7.0],[58826731.0,2408655348749.899,40944.91242,27.0,413.0],[2711373.0,13709402086.520386,5056.258245,11.0,47.0],[128063000.0,5106679115310.11,39876.30397,25.0,319.0],[6632873.0,22657662395.51876,3415.965057,0.0,0.0],[15776938.0,133441612241.59444,8458.017154,9.0,40.0],[39186895.0,35895153329.64975,915.9989157,16.0,77.0],[24469047.0,0.0,0.0,6.0,43.0],[49054708.0,1047339010233.9298,21350.42798,32.0,241.0],[5318700.0,5139957784.98864,966.3936272,3.0,4.0],[4887613.0,29118916104.9082,5957.696754,0.0,2.0],[35401.0,5081432925.5282,143539.2482,0.0,9.0],[3198231.0,47797551580.92615,14944.99665,5.0,16.0],[488650.0,58844277684.835,120422.1379,0.0,2.0],[109684489.0,1109989063457.5466,10119.83621,4.0,42.0],[2868833.0,6054849885.45767,2110.56199,1.0,5.0],[616969.0,4545674527.54382,7367.751909,0.0,0.0],[31634992.0,91400481544.57742,2889.220947,2.0,21.0],[21845571.0,12556195188.52622,574.7707482,0.0,2.0],[2038552.0,8607475307.75936,4222.34768,0.0,4.0],[4259800.0,133131369913.088,31252.96256,9.0,77.0],[2046898.0,9909548409.945211,4841.251694,0.0,1.0],[4768212.0,462250000016.7493,96944.09561,9.0,249.0],[185931955.0,170077814105.6106,914.7314893,0.0,9.0],[3495276.0,25155888599.64694,7197.110786,1.0,1.0],[28806185.0,120550599801.39868,4184.885982,0.0,3.0],[38125759.0,533609081826.8388,13996.02515,11.0,235.0],[1444277.0,115270054949.13396,79811.59774,0.0,2.0],[20537875.0,214313628880.7425,10435.04398,9.0,275.0],[142742366.0,1660846319995.0403,11635.27246,60.0,378.0],[30700.0,2393437820.493,77962.14399,0.0,0.0],[11872929.0,16853991179.978586,1419.531034,0.0,1.0],[7350222.0,52194221467.26131,7101.040141,3.0,3.0],[4839396.0,193611986706.96692,40007.46926,1.0,2.0],[5379233.0,100879902977.55104,18753.58494,6.0,21.0],[45954106.0,1631863493493.9763,35510.72223,19.0,110.0],[533938.0,3532969034.746188,6616.815126,0.0,2.0],[9219637.0,517706149198.3006,56152.55234,5.0,202.0],[21474059.0,218089977792.0265,10155.97367,0.0,3.0],[7324627.0,5161337336.420489,704.6553137,2.0,2.0],[67328239.0,291382991156.4264,4327.7976,6.0,23.0],[1392803.0,27871587343.90081,20011.14827,2.0,11.0],[10680380.0,44860969077.6116,4200.31582,1.0,7.0],[71320726.0,770462155923.9229,10802.78061,5.0,55.0],[5100083.0,19271523178.388737,3778.668539,0.0,0.0],[30509862.0,14440404021.407488,473.3028298,0.0,6.0],[46258189.0,188111139115.36005,4066.547852,22.0,95.0],[61806995.0,2931501838216.698,47429.93634,51.0,316.0],[304093966.0,14769857910860.557,48570.04598,112.0,1400.0],[27302800.0,29549438883.370003,1082.286025,4.0,16.0],[27933833.0,315953388500.8256,11310.77817,1.0,10.0]],\"geo\":\"geo\",\"hovertemplate\":\"<b>%{hovertext}</b><br><br>Year=2008<br>Country_Code=%{location}<br>Population=%{customdata[0]}<br>GDP=%{z}<br>GDP_Per_Capita=%{customdata[2]}<br>Y_Total=%{customdata[3]}<br>A_Total=%{customdata[4]}<extra></extra>\",\"hovertext\":[\"Afghanistan\",\"Argentina\",\"Armenia\",\"Australia\",\"Austria\",\"Azerbaijan\",\"Belarus\",\"Belgium\",\"Brazil\",\"Brunei Darussalam\",\"Burundi\",\"Cameroon\",\"Canada\",\"Channel Islands\",\"China\",\"Colombia\",\"Cote d'Ivoire\",\"Cuba\",\"Cyprus\",\"Czechia\",\"Djibouti\",\"Dominican Republic\",\"Ecuador\",\"Egypt, Arab Rep.\",\"Eritrea\",\"Estonia\",\"Ethiopia\",\"Finland\",\"France\",\"Gabon\",\"Georgia\",\"Ghana\",\"Guyana\",\"Hong Kong SAR, China\",\"Hungary\",\"Iceland\",\"India\",\"Iraq\",\"Ireland\",\"Israel\",\"Italy\",\"Jamaica\",\"Japan\",\"Jordan\",\"Kazakhstan\",\"Kenya\",\"Korea, Dem. People's Rep.\",\"Korea, Rep.\",\"Kyrgyz Republic\",\"Lebanon\",\"Liechtenstein\",\"Lithuania\",\"Luxembourg\",\"Mexico\",\"Moldova\",\"Montenegro\",\"Morocco\",\"Mozambique\",\"Namibia\",\"New Zealand\",\"North Macedonia\",\"Norway\",\"Pakistan\",\"Panama\",\"Peru\",\"Poland\",\"Qatar\",\"Romania\",\"Russian Federation\",\"San Marino\",\"Senegal\",\"Serbia\",\"Singapore\",\"Slovak Republic\",\"Spain\",\"Suriname\",\"Sweden\",\"Syrian Arab Republic\",\"Tajikistan\",\"Thailand\",\"Trinidad and Tobago\",\"Tunisia\",\"Turkiye\",\"Turkmenistan\",\"Uganda\",\"Ukraine\",\"United Kingdom\",\"United States\",\"Uzbekistan\",\"Venezuela, RB\"],\"locations\":[\"AFG\",\"ARG\",\"ARM\",\"AUS\",\"AUT\",\"AZE\",\"BLR\",\"BEL\",\"BRA\",\"BRN\",\"BDI\",\"CMR\",\"CAN\",\"CHI\",\"CHN\",\"COL\",\"CIV\",\"CUB\",\"CYP\",\"CZE\",\"DJI\",\"DOM\",\"ECU\",\"EGY\",\"ERI\",\"EST\",\"ETH\",\"FIN\",\"FRA\",\"GAB\",\"GEO\",\"GHA\",\"GUY\",\"HKG\",\"HUN\",\"ISL\",\"IND\",\"IRQ\",\"IRL\",\"ISR\",\"ITA\",\"JAM\",\"JPN\",\"JOR\",\"KAZ\",\"KEN\",\"PRK\",\"KOR\",\"KGZ\",\"LBN\",\"LIE\",\"LTU\",\"LUX\",\"MEX\",\"MDA\",\"MNE\",\"MAR\",\"MOZ\",\"NAM\",\"NZL\",\"MKD\",\"NOR\",\"PAK\",\"PAN\",\"PER\",\"POL\",\"QAT\",\"ROU\",\"RUS\",\"SMR\",\"SEN\",\"SRB\",\"SGP\",\"SVK\",\"ESP\",\"SUR\",\"SWE\",\"SYR\",\"TJK\",\"THA\",\"TTO\",\"TUN\",\"TUR\",\"TKM\",\"UGA\",\"UKR\",\"GBR\",\"USA\",\"UZB\",\"VEN\"],\"name\":\"\",\"type\":\"choropleth\",\"z\":[10249767311.211786,361558037113.0914,11662040713.53426,1055642793238.8954,432051935681.0357,48852482958.4468,60763483145.95002,517328087959.8551,1695824565888.2844,14393099067.09072,1611835902.207571,27715144586.80141,1552989690857.9185,0.0,4594307032562.311,242186949782.5303,34078243427.89379,56302129624.46085,38667725673.4392,236816485789.46103,999105339.585236,48122547173.893,61762635000.51166,162818181843.89087,1380188800.0892034,24341678630.7432,27066912634.23732,285716311142.0218,2930303780612.628,15571349775.796583,12795076468.80167,28678701883.69252,3025187923.8491,219279678421.106,158325614541.09503,18074622988.0163,1198895582168.0557,131614433708.0758,275447471437.80865,220531065188.992,2408655348749.899,13709402086.520386,5106679115310.11,22657662395.51876,133441612241.59444,35895153329.64975,0.0,1047339010233.9298,5139957784.98864,29118916104.9082,5081432925.5282,47797551580.92615,58844277684.835,1109989063457.5466,6054849885.45767,4545674527.54382,91400481544.57742,12556195188.52622,8607475307.75936,133131369913.088,9909548409.945211,462250000016.7493,170077814105.6106,25155888599.64694,120550599801.39868,533609081826.8388,115270054949.13396,214313628880.7425,1660846319995.0403,2393437820.493,16853991179.978586,52194221467.26131,193611986706.96692,100879902977.55104,1631863493493.9763,3532969034.746188,517706149198.3006,218089977792.0265,5161337336.420489,291382991156.4264,27871587343.90081,44860969077.6116,770462155923.9229,19271523178.388737,14440404021.407488,188111139115.36005,2931501838216.698,14769857910860.557,29549438883.370003,315953388500.8256]},{\"customdata\":[[26427199.0,10249767311.211786,387.8491743,1.0,1.0],[40273769.0,361558037113.0914,8977.506851,6.0,28.0],[2983421.0,11662040713.53426,3908.94906,5.0,8.0],[21249199.0,1055642793238.8954,49679.18053,46.0,354.0],[8321496.0,432051935681.0357,51919.98358,3.0,180.0],[8763400.0,48852482958.4468,5574.603802,6.0,15.0],[9527985.0,60763483145.95002,6377.369732,14.0,65.0],[10709973.0,517328087959.8551,48303.39796,2.0,44.0],[192672317.0,1695824565888.2844,8801.599484,17.0,85.0],[384568.0,14393099067.09072,37426.66854,0.0,0.0],[8278109.0,1611835902.207571,194.7106401,0.0,1.0],[18777081.0,27715144586.80141,1476.009215,1.0,5.0],[33247118.0,1552989690857.9185,46710.50558,20.0,264.0],[154475.0,0.0,0.0,1.0,6.0],[1324655000.0,4594307032562.311,3468.304602,100.0,418.0],[43815313.0,242186949782.5303,5527.449953,3.0,12.0],[20244449.0,34078243427.89379,1683.337661,0.0,1.0],[11276609.0,56302129624.46085,4992.824494,30.0,188.0],[1092390.0,38667725673.4392,35397.36328,0.0,0.0],[10384603.0,236816485789.46103,22804.57768,7.0,45.0],[882886.0,999105339.585236,1131.635726,0.0,1.0],[9522948.0,48122547173.893,5053.324577,2.0,4.0],[14496797.0,61762635000.51166,4260.433184,1.0,2.0],[83844783.0,162818181843.89087,1941.899973,2.0,8.0],[3005779.0,1380188800.0892034,459.1784027,0.0,1.0],[1337090.0,24341678630.7432,18204.96648,2.0,16.0],[84357105.0,27066912634.23732,320.8610897,7.0,38.0],[5313399.0,285716311142.0218,53772.79424,4.0,176.0],[64379696.0,2930303780612.628,45515.96175,43.0,366.0],[1599978.0,15571349775.796583,9732.227428,0.0,0.0],[3848449.0,12795076468.80167,3324.735879,7.0,19.0],[24326087.0,28678701883.69252,1178.927868,0.0,4.0],[754150.0,3025187923.8491,4011.387554,0.0,1.0],[6957800.0,219279678421.106,31515.66277,0.0,2.0],[10038188.0,158325614541.09503,15772.33008,10.0,283.0],[317414.0,18074622988.0163,56943.37045,1.0,3.0],[1206734806.0,1198895582168.0557,993.5037725,3.0,11.0],[29218381.0,131614433708.0758,4504.508094,0.0,1.0],[4489544.0,275447471437.80865,61353.10656,3.0,14.0],[7308800.0,220531065188.992,30173.36159,1.0,7.0],[58826731.0,2408655348749.899,40944.91242,27.0,413.0],[2711373.0,13709402086.520386,5056.258245,11.0,47.0],[128063000.0,5106679115310.11,39876.30397,25.0,319.0],[6632873.0,22657662395.51876,3415.965057,0.0,0.0],[15776938.0,133441612241.59444,8458.017154,9.0,40.0],[39186895.0,35895153329.64975,915.9989157,16.0,77.0],[24469047.0,0.0,0.0,6.0,43.0],[49054708.0,1047339010233.9298,21350.42798,32.0,241.0],[5318700.0,5139957784.98864,966.3936272,3.0,4.0],[4887613.0,29118916104.9082,5957.696754,0.0,2.0],[35401.0,5081432925.5282,143539.2482,0.0,9.0],[3198231.0,47797551580.92615,14944.99665,5.0,16.0],[488650.0,58844277684.835,120422.1379,0.0,2.0],[109684489.0,1109989063457.5466,10119.83621,4.0,42.0],[2868833.0,6054849885.45767,2110.56199,1.0,5.0],[616969.0,4545674527.54382,7367.751909,0.0,0.0],[31634992.0,91400481544.57742,2889.220947,2.0,21.0],[21845571.0,12556195188.52622,574.7707482,0.0,2.0],[2038552.0,8607475307.75936,4222.34768,0.0,4.0],[4259800.0,133131369913.088,31252.96256,9.0,77.0],[2046898.0,9909548409.945211,4841.251694,0.0,1.0],[4768212.0,462250000016.7493,96944.09561,9.0,249.0],[185931955.0,170077814105.6106,914.7314893,0.0,9.0],[3495276.0,25155888599.64694,7197.110786,1.0,1.0],[28806185.0,120550599801.39868,4184.885982,0.0,3.0],[38125759.0,533609081826.8388,13996.02515,11.0,235.0],[1444277.0,115270054949.13396,79811.59774,0.0,2.0],[20537875.0,214313628880.7425,10435.04398,9.0,275.0],[142742366.0,1660846319995.0403,11635.27246,60.0,378.0],[30700.0,2393437820.493,77962.14399,0.0,0.0],[11872929.0,16853991179.978586,1419.531034,0.0,1.0],[7350222.0,52194221467.26131,7101.040141,3.0,3.0],[4839396.0,193611986706.96692,40007.46926,1.0,2.0],[5379233.0,100879902977.55104,18753.58494,6.0,21.0],[45954106.0,1631863493493.9763,35510.72223,19.0,110.0],[533938.0,3532969034.746188,6616.815126,0.0,2.0],[9219637.0,517706149198.3006,56152.55234,5.0,202.0],[21474059.0,218089977792.0265,10155.97367,0.0,3.0],[7324627.0,5161337336.420489,704.6553137,2.0,2.0],[67328239.0,291382991156.4264,4327.7976,6.0,23.0],[1392803.0,27871587343.90081,20011.14827,2.0,11.0],[10680380.0,44860969077.6116,4200.31582,1.0,7.0],[71320726.0,770462155923.9229,10802.78061,5.0,55.0],[5100083.0,19271523178.388737,3778.668539,0.0,0.0],[30509862.0,14440404021.407488,473.3028298,0.0,6.0],[46258189.0,188111139115.36005,4066.547852,22.0,95.0],[61806995.0,2931501838216.698,47429.93634,51.0,316.0],[304093966.0,14769857910860.557,48570.04598,112.0,1400.0],[27302800.0,29549438883.370003,1082.286025,4.0,16.0],[27933833.0,315953388500.8256,11310.77817,1.0,10.0]],\"geo\":\"geo\",\"hovertemplate\":\"Year=2008<br>A_Total=%{customdata[4]}<br>Country_Code=%{location}<br>Population=%{customdata[0]}<br>GDP=%{customdata[1]}<br>GDP_Per_Capita=%{customdata[2]}<br>Y_Total=%{customdata[3]}<extra></extra>\",\"legendgroup\":\"\",\"locations\":[\"AFG\",\"ARG\",\"ARM\",\"AUS\",\"AUT\",\"AZE\",\"BLR\",\"BEL\",\"BRA\",\"BRN\",\"BDI\",\"CMR\",\"CAN\",\"CHI\",\"CHN\",\"COL\",\"CIV\",\"CUB\",\"CYP\",\"CZE\",\"DJI\",\"DOM\",\"ECU\",\"EGY\",\"ERI\",\"EST\",\"ETH\",\"FIN\",\"FRA\",\"GAB\",\"GEO\",\"GHA\",\"GUY\",\"HKG\",\"HUN\",\"ISL\",\"IND\",\"IRQ\",\"IRL\",\"ISR\",\"ITA\",\"JAM\",\"JPN\",\"JOR\",\"KAZ\",\"KEN\",\"PRK\",\"KOR\",\"KGZ\",\"LBN\",\"LIE\",\"LTU\",\"LUX\",\"MEX\",\"MDA\",\"MNE\",\"MAR\",\"MOZ\",\"NAM\",\"NZL\",\"MKD\",\"NOR\",\"PAK\",\"PAN\",\"PER\",\"POL\",\"QAT\",\"ROU\",\"RUS\",\"SMR\",\"SEN\",\"SRB\",\"SGP\",\"SVK\",\"ESP\",\"SUR\",\"SWE\",\"SYR\",\"TJK\",\"THA\",\"TTO\",\"TUN\",\"TUR\",\"TKM\",\"UGA\",\"UKR\",\"GBR\",\"USA\",\"UZB\",\"VEN\"],\"marker\":{\"color\":\"#636efa\",\"size\":[1.0,28.0,8.0,354.0,180.0,15.0,65.0,44.0,85.0,0.0,1.0,5.0,264.0,6.0,418.0,12.0,1.0,188.0,0.0,45.0,1.0,4.0,2.0,8.0,1.0,16.0,38.0,176.0,366.0,0.0,19.0,4.0,1.0,2.0,283.0,3.0,11.0,1.0,14.0,7.0,413.0,47.0,319.0,0.0,40.0,77.0,43.0,241.0,4.0,2.0,9.0,16.0,2.0,42.0,5.0,0.0,21.0,2.0,4.0,77.0,1.0,249.0,9.0,1.0,3.0,235.0,2.0,275.0,378.0,0.0,1.0,3.0,2.0,21.0,110.0,2.0,202.0,3.0,2.0,23.0,11.0,7.0,55.0,0.0,6.0,95.0,316.0,1400.0,16.0,10.0],\"sizemode\":\"area\",\"sizeref\":4.565,\"symbol\":\"circle\"},\"mode\":\"markers\",\"name\":\"\",\"showlegend\":false,\"type\":\"scattergeo\"}],\"name\":\"2008\"},{\"data\":[{\"coloraxis\":\"coloraxis\",\"customdata\":[[28189672.0,15633856786.412334,554.5952002,0.0,1.0],[40788453.0,423627422012.7268,10385.96443,0.0,28.0],[2946293.0,9260284936.648186,3143.029202,0.0,8.0],[22031750.0,1148610059005.9875,52134.30885,3.0,357.0],[8363404.0,392275107296.8524,46903.76159,16.0,196.0],[9054332.0,52909294788.682976,5843.533768,0.0,15.0],[9483836.0,57222490766.1328,6033.686239,3.0,68.0],[10895586.0,481420882861.8111,44184.94635,0.0,44.0],[196353492.0,2208871645559.174,11249.46454,0.0,85.0],[396053.0,13707370737.122791,34609.94043,0.0,0.0],[9126605.0,2032135246.695666,222.6605892,0.0,1.0],[19878036.0,27507499718.697323,1383.813759,0.0,5.0],[34004889.0,1617343367645.8892,47562.08343,26.0,290.0],[156933.0,0.0,0.0,0.0,6.0],[1337705000.0,6087163874837.14,4550.453108,11.0,429.0],[44816108.0,286563099736.7401,6394.198705,0.0,12.0],[21120042.0,34936305287.308945,1654.177832,0.0,1.0],[11290417.0,59562962962.38461,5275.532601,0.0,188.0],[1129686.0,35139333142.08984,31105.39844,0.0,0.0],[10474410.0,209069940992.3409,19960.06849,6.0,51.0],[919199.0,1128611700.256747,1227.820853,0.0,1.0],[9775755.0,53860175554.63694,5509.566837,0.0,4.0],[14989585.0,69555366994.32724,4640.246344,0.0,2.0],[87252413.0,218983666046.4181,2509.772034,0.0,8.0],[3147727.0,1589515447.2279654,504.9724602,0.0,1.0],[1331475.0,19523477322.09975,14663.04461,1.0,17.0],[89237791.0,29933790336.935883,335.4384953,0.0,38.0],[5363352.0,249424310821.0594,46505.30318,5.0,181.0],[65030575.0,2645187882030.954,40676.06479,11.0,377.0],[1711105.0,14372591916.486814,8399.596703,0.0,0.0],[3786695.0,12243505580.878386,3233.295943,0.0,19.0],[25574719.0,32197272792.51637,1258.94923,0.0,4.0],[747932.0,3432913072.8876123,4589.873241,0.0,1.0],[7024200.0,228637697567.166,32549.99823,0.0,2.0],[10000023.0,132175350002.6058,13217.5046,0.0,283.0],[318041.0,13751161918.09095,43237.07295,0.0,3.0],[1240613620.0,1675615335512.6658,1350.634322,0.0,11.0],[31264875.0,138516722652.84973,4430.426242,0.0,1.0],[4560155.0,221913560864.4682,48663.60044,0.0,14.0],[7623600.0,238364092317.552,31266.60532,0.0,7.0],[59277417.0,2136099955528.9648,36035.645,5.0,418.0],[2733896.0,13220556883.753649,4835.793638,0.0,47.0],[128070000.0,5759071768376.1,44968.15623,5.0,324.0],[6931258.0,27133804245.772373,3914.701234,0.0,0.0],[16321872.0,148047348242.9696,9070.488253,1.0,41.0],[41517895.0,45405587550.7071,1093.638961,0.0,77.0],[24686435.0,0.0,0.0,0.0,43.0],[49554112.0,1144066965133.8318,23087.22564,14.0,255.0],[5447900.0,4794357794.96729,880.0377751,0.0,4.0],[4995800.0,38443907044.257,7695.245415,0.0,2.0],[35926.0,5082366477.751201,141467.6412,0.0,9.0],[3097282.0,37128694023.14162,11987.50841,0.0,16.0],[506953.0,56213985998.2042,110885.9914,0.0,2.0],[112532401.0,1057801295607.39,9399.970908,0.0,42.0],[2862354.0,6974982392.431087,2436.799359,0.0,5.0],[619428.0,4143033276.0672,6688.4824,0.0,0.0],[32464865.0,92044962246.04564,2835.217773,0.0,21.0],[23073723.0,11104648674.03414,481.26818,0.0,2.0],[2099271.0,11431334447.85132,5445.38292,0.0,4.0],[4350700.0,146517541163.884,33676.77412,0.0,77.0],[2055004.0,9407168702.28002,4577.688755,0.0,1.0],[4889252.0,428757038487.3277,87693.79007,23.0,272.0],[194454498.0,177165635076.18073,911.0904448,0.0,9.0],[3623617.0,29440287598.73642,8124.558307,0.0,1.0],[29229572.0,147528937020.90662,5047.249307,0.0,3.0],[38042794.0,475696614102.63086,12504.25019,6.0,241.0],[1713504.0,125122306341.864,73021.30975,0.0,2.0],[20246871.0,170029359008.3477,8397.809173,0.0,275.0],[142849468.0,1524917512358.58,10674.99609,15.0,393.0],[31608.0,1881214370.84592,59517.03274,0.0,0.0],[12530121.0,16121314675.229029,1286.604868,0.0,1.0],[7291436.0,41819468694.75265,5735.422857,0.0,3.0],[5076732.0,239809387582.36835,47236.96023,0.0,2.0],[5391428.0,91162836339.28688,16908.84796,3.0,24.0],[46576897.0,1422108199868.7776,30532.48051,0.0,110.0],[546080.0,4368398047.788321,7999.556929,0.0,2.0],[9378126.0,495812558851.2005,52869.04429,11.0,213.0],[22337563.0,252518218316.5056,11304.64493,0.0,3.0],[7621779.0,5642178579.563479,740.2705562,0.0,2.0],[68270489.0,341104820153.5613,4996.372886,0.0,23.0],[1410296.0,22157948402.47816,15711.55871,0.0,11.0],[10895063.0,46206091943.20033,4241.01191,0.0,7.0],[73195345.0,776992599639.8807,10615.32806,0.0,55.0],[5267970.0,22583157893.92485,4286.880505,0.0,0.0],[32341728.0,26673441666.16428,824.7376784,0.0,6.0],[45870741.0,141209862097.41962,3078.429932,0.0,95.0],[62766365.0,2491397494460.1826,39693.19387,1.0,317.0],[309327143.0,15048964444515.477,48650.64313,37.0,1437.0],[28562400.0,49765676389.5744,1742.349256,0.0,16.0],[28715022.0,393192354607.6793,13692.91497,0.0,10.0]],\"geo\":\"geo\",\"hovertemplate\":\"<b>%{hovertext}</b><br><br>Year=2010<br>Country_Code=%{location}<br>Population=%{customdata[0]}<br>GDP=%{z}<br>GDP_Per_Capita=%{customdata[2]}<br>Y_Total=%{customdata[3]}<br>A_Total=%{customdata[4]}<extra></extra>\",\"hovertext\":[\"Afghanistan\",\"Argentina\",\"Armenia\",\"Australia\",\"Austria\",\"Azerbaijan\",\"Belarus\",\"Belgium\",\"Brazil\",\"Brunei Darussalam\",\"Burundi\",\"Cameroon\",\"Canada\",\"Channel Islands\",\"China\",\"Colombia\",\"Cote d'Ivoire\",\"Cuba\",\"Cyprus\",\"Czechia\",\"Djibouti\",\"Dominican Republic\",\"Ecuador\",\"Egypt, Arab Rep.\",\"Eritrea\",\"Estonia\",\"Ethiopia\",\"Finland\",\"France\",\"Gabon\",\"Georgia\",\"Ghana\",\"Guyana\",\"Hong Kong SAR, China\",\"Hungary\",\"Iceland\",\"India\",\"Iraq\",\"Ireland\",\"Israel\",\"Italy\",\"Jamaica\",\"Japan\",\"Jordan\",\"Kazakhstan\",\"Kenya\",\"Korea, Dem. People's Rep.\",\"Korea, Rep.\",\"Kyrgyz Republic\",\"Lebanon\",\"Liechtenstein\",\"Lithuania\",\"Luxembourg\",\"Mexico\",\"Moldova\",\"Montenegro\",\"Morocco\",\"Mozambique\",\"Namibia\",\"New Zealand\",\"North Macedonia\",\"Norway\",\"Pakistan\",\"Panama\",\"Peru\",\"Poland\",\"Qatar\",\"Romania\",\"Russian Federation\",\"San Marino\",\"Senegal\",\"Serbia\",\"Singapore\",\"Slovak Republic\",\"Spain\",\"Suriname\",\"Sweden\",\"Syrian Arab Republic\",\"Tajikistan\",\"Thailand\",\"Trinidad and Tobago\",\"Tunisia\",\"Turkiye\",\"Turkmenistan\",\"Uganda\",\"Ukraine\",\"United Kingdom\",\"United States\",\"Uzbekistan\",\"Venezuela, RB\"],\"locations\":[\"AFG\",\"ARG\",\"ARM\",\"AUS\",\"AUT\",\"AZE\",\"BLR\",\"BEL\",\"BRA\",\"BRN\",\"BDI\",\"CMR\",\"CAN\",\"CHI\",\"CHN\",\"COL\",\"CIV\",\"CUB\",\"CYP\",\"CZE\",\"DJI\",\"DOM\",\"ECU\",\"EGY\",\"ERI\",\"EST\",\"ETH\",\"FIN\",\"FRA\",\"GAB\",\"GEO\",\"GHA\",\"GUY\",\"HKG\",\"HUN\",\"ISL\",\"IND\",\"IRQ\",\"IRL\",\"ISR\",\"ITA\",\"JAM\",\"JPN\",\"JOR\",\"KAZ\",\"KEN\",\"PRK\",\"KOR\",\"KGZ\",\"LBN\",\"LIE\",\"LTU\",\"LUX\",\"MEX\",\"MDA\",\"MNE\",\"MAR\",\"MOZ\",\"NAM\",\"NZL\",\"MKD\",\"NOR\",\"PAK\",\"PAN\",\"PER\",\"POL\",\"QAT\",\"ROU\",\"RUS\",\"SMR\",\"SEN\",\"SRB\",\"SGP\",\"SVK\",\"ESP\",\"SUR\",\"SWE\",\"SYR\",\"TJK\",\"THA\",\"TTO\",\"TUN\",\"TUR\",\"TKM\",\"UGA\",\"UKR\",\"GBR\",\"USA\",\"UZB\",\"VEN\"],\"name\":\"\",\"type\":\"choropleth\",\"z\":[15633856786.412334,423627422012.7268,9260284936.648186,1148610059005.9875,392275107296.8524,52909294788.682976,57222490766.1328,481420882861.8111,2208871645559.174,13707370737.122791,2032135246.695666,27507499718.697323,1617343367645.8892,0.0,6087163874837.14,286563099736.7401,34936305287.308945,59562962962.38461,35139333142.08984,209069940992.3409,1128611700.256747,53860175554.63694,69555366994.32724,218983666046.4181,1589515447.2279654,19523477322.09975,29933790336.935883,249424310821.0594,2645187882030.954,14372591916.486814,12243505580.878386,32197272792.51637,3432913072.8876123,228637697567.166,132175350002.6058,13751161918.09095,1675615335512.6658,138516722652.84973,221913560864.4682,238364092317.552,2136099955528.9648,13220556883.753649,5759071768376.1,27133804245.772373,148047348242.9696,45405587550.7071,0.0,1144066965133.8318,4794357794.96729,38443907044.257,5082366477.751201,37128694023.14162,56213985998.2042,1057801295607.39,6974982392.431087,4143033276.0672,92044962246.04564,11104648674.03414,11431334447.85132,146517541163.884,9407168702.28002,428757038487.3277,177165635076.18073,29440287598.73642,147528937020.90662,475696614102.63086,125122306341.864,170029359008.3477,1524917512358.58,1881214370.84592,16121314675.229029,41819468694.75265,239809387582.36835,91162836339.28688,1422108199868.7776,4368398047.788321,495812558851.2005,252518218316.5056,5642178579.563479,341104820153.5613,22157948402.47816,46206091943.20033,776992599639.8807,22583157893.92485,26673441666.16428,141209862097.41962,2491397494460.1826,15048964444515.477,49765676389.5744,393192354607.6793]},{\"customdata\":[[28189672.0,15633856786.412334,554.5952002,0.0,1.0],[40788453.0,423627422012.7268,10385.96443,0.0,28.0],[2946293.0,9260284936.648186,3143.029202,0.0,8.0],[22031750.0,1148610059005.9875,52134.30885,3.0,357.0],[8363404.0,392275107296.8524,46903.76159,16.0,196.0],[9054332.0,52909294788.682976,5843.533768,0.0,15.0],[9483836.0,57222490766.1328,6033.686239,3.0,68.0],[10895586.0,481420882861.8111,44184.94635,0.0,44.0],[196353492.0,2208871645559.174,11249.46454,0.0,85.0],[396053.0,13707370737.122791,34609.94043,0.0,0.0],[9126605.0,2032135246.695666,222.6605892,0.0,1.0],[19878036.0,27507499718.697323,1383.813759,0.0,5.0],[34004889.0,1617343367645.8892,47562.08343,26.0,290.0],[156933.0,0.0,0.0,0.0,6.0],[1337705000.0,6087163874837.14,4550.453108,11.0,429.0],[44816108.0,286563099736.7401,6394.198705,0.0,12.0],[21120042.0,34936305287.308945,1654.177832,0.0,1.0],[11290417.0,59562962962.38461,5275.532601,0.0,188.0],[1129686.0,35139333142.08984,31105.39844,0.0,0.0],[10474410.0,209069940992.3409,19960.06849,6.0,51.0],[919199.0,1128611700.256747,1227.820853,0.0,1.0],[9775755.0,53860175554.63694,5509.566837,0.0,4.0],[14989585.0,69555366994.32724,4640.246344,0.0,2.0],[87252413.0,218983666046.4181,2509.772034,0.0,8.0],[3147727.0,1589515447.2279654,504.9724602,0.0,1.0],[1331475.0,19523477322.09975,14663.04461,1.0,17.0],[89237791.0,29933790336.935883,335.4384953,0.0,38.0],[5363352.0,249424310821.0594,46505.30318,5.0,181.0],[65030575.0,2645187882030.954,40676.06479,11.0,377.0],[1711105.0,14372591916.486814,8399.596703,0.0,0.0],[3786695.0,12243505580.878386,3233.295943,0.0,19.0],[25574719.0,32197272792.51637,1258.94923,0.0,4.0],[747932.0,3432913072.8876123,4589.873241,0.0,1.0],[7024200.0,228637697567.166,32549.99823,0.0,2.0],[10000023.0,132175350002.6058,13217.5046,0.0,283.0],[318041.0,13751161918.09095,43237.07295,0.0,3.0],[1240613620.0,1675615335512.6658,1350.634322,0.0,11.0],[31264875.0,138516722652.84973,4430.426242,0.0,1.0],[4560155.0,221913560864.4682,48663.60044,0.0,14.0],[7623600.0,238364092317.552,31266.60532,0.0,7.0],[59277417.0,2136099955528.9648,36035.645,5.0,418.0],[2733896.0,13220556883.753649,4835.793638,0.0,47.0],[128070000.0,5759071768376.1,44968.15623,5.0,324.0],[6931258.0,27133804245.772373,3914.701234,0.0,0.0],[16321872.0,148047348242.9696,9070.488253,1.0,41.0],[41517895.0,45405587550.7071,1093.638961,0.0,77.0],[24686435.0,0.0,0.0,0.0,43.0],[49554112.0,1144066965133.8318,23087.22564,14.0,255.0],[5447900.0,4794357794.96729,880.0377751,0.0,4.0],[4995800.0,38443907044.257,7695.245415,0.0,2.0],[35926.0,5082366477.751201,141467.6412,0.0,9.0],[3097282.0,37128694023.14162,11987.50841,0.0,16.0],[506953.0,56213985998.2042,110885.9914,0.0,2.0],[112532401.0,1057801295607.39,9399.970908,0.0,42.0],[2862354.0,6974982392.431087,2436.799359,0.0,5.0],[619428.0,4143033276.0672,6688.4824,0.0,0.0],[32464865.0,92044962246.04564,2835.217773,0.0,21.0],[23073723.0,11104648674.03414,481.26818,0.0,2.0],[2099271.0,11431334447.85132,5445.38292,0.0,4.0],[4350700.0,146517541163.884,33676.77412,0.0,77.0],[2055004.0,9407168702.28002,4577.688755,0.0,1.0],[4889252.0,428757038487.3277,87693.79007,23.0,272.0],[194454498.0,177165635076.18073,911.0904448,0.0,9.0],[3623617.0,29440287598.73642,8124.558307,0.0,1.0],[29229572.0,147528937020.90662,5047.249307,0.0,3.0],[38042794.0,475696614102.63086,12504.25019,6.0,241.0],[1713504.0,125122306341.864,73021.30975,0.0,2.0],[20246871.0,170029359008.3477,8397.809173,0.0,275.0],[142849468.0,1524917512358.58,10674.99609,15.0,393.0],[31608.0,1881214370.84592,59517.03274,0.0,0.0],[12530121.0,16121314675.229029,1286.604868,0.0,1.0],[7291436.0,41819468694.75265,5735.422857,0.0,3.0],[5076732.0,239809387582.36835,47236.96023,0.0,2.0],[5391428.0,91162836339.28688,16908.84796,3.0,24.0],[46576897.0,1422108199868.7776,30532.48051,0.0,110.0],[546080.0,4368398047.788321,7999.556929,0.0,2.0],[9378126.0,495812558851.2005,52869.04429,11.0,213.0],[22337563.0,252518218316.5056,11304.64493,0.0,3.0],[7621779.0,5642178579.563479,740.2705562,0.0,2.0],[68270489.0,341104820153.5613,4996.372886,0.0,23.0],[1410296.0,22157948402.47816,15711.55871,0.0,11.0],[10895063.0,46206091943.20033,4241.01191,0.0,7.0],[73195345.0,776992599639.8807,10615.32806,0.0,55.0],[5267970.0,22583157893.92485,4286.880505,0.0,0.0],[32341728.0,26673441666.16428,824.7376784,0.0,6.0],[45870741.0,141209862097.41962,3078.429932,0.0,95.0],[62766365.0,2491397494460.1826,39693.19387,1.0,317.0],[309327143.0,15048964444515.477,48650.64313,37.0,1437.0],[28562400.0,49765676389.5744,1742.349256,0.0,16.0],[28715022.0,393192354607.6793,13692.91497,0.0,10.0]],\"geo\":\"geo\",\"hovertemplate\":\"Year=2010<br>A_Total=%{customdata[4]}<br>Country_Code=%{location}<br>Population=%{customdata[0]}<br>GDP=%{customdata[1]}<br>GDP_Per_Capita=%{customdata[2]}<br>Y_Total=%{customdata[3]}<extra></extra>\",\"legendgroup\":\"\",\"locations\":[\"AFG\",\"ARG\",\"ARM\",\"AUS\",\"AUT\",\"AZE\",\"BLR\",\"BEL\",\"BRA\",\"BRN\",\"BDI\",\"CMR\",\"CAN\",\"CHI\",\"CHN\",\"COL\",\"CIV\",\"CUB\",\"CYP\",\"CZE\",\"DJI\",\"DOM\",\"ECU\",\"EGY\",\"ERI\",\"EST\",\"ETH\",\"FIN\",\"FRA\",\"GAB\",\"GEO\",\"GHA\",\"GUY\",\"HKG\",\"HUN\",\"ISL\",\"IND\",\"IRQ\",\"IRL\",\"ISR\",\"ITA\",\"JAM\",\"JPN\",\"JOR\",\"KAZ\",\"KEN\",\"PRK\",\"KOR\",\"KGZ\",\"LBN\",\"LIE\",\"LTU\",\"LUX\",\"MEX\",\"MDA\",\"MNE\",\"MAR\",\"MOZ\",\"NAM\",\"NZL\",\"MKD\",\"NOR\",\"PAK\",\"PAN\",\"PER\",\"POL\",\"QAT\",\"ROU\",\"RUS\",\"SMR\",\"SEN\",\"SRB\",\"SGP\",\"SVK\",\"ESP\",\"SUR\",\"SWE\",\"SYR\",\"TJK\",\"THA\",\"TTO\",\"TUN\",\"TUR\",\"TKM\",\"UGA\",\"UKR\",\"GBR\",\"USA\",\"UZB\",\"VEN\"],\"marker\":{\"color\":\"#636efa\",\"size\":[1.0,28.0,8.0,357.0,196.0,15.0,68.0,44.0,85.0,0.0,1.0,5.0,290.0,6.0,429.0,12.0,1.0,188.0,0.0,51.0,1.0,4.0,2.0,8.0,1.0,17.0,38.0,181.0,377.0,0.0,19.0,4.0,1.0,2.0,283.0,3.0,11.0,1.0,14.0,7.0,418.0,47.0,324.0,0.0,41.0,77.0,43.0,255.0,4.0,2.0,9.0,16.0,2.0,42.0,5.0,0.0,21.0,2.0,4.0,77.0,1.0,272.0,9.0,1.0,3.0,241.0,2.0,275.0,393.0,0.0,1.0,3.0,2.0,24.0,110.0,2.0,213.0,3.0,2.0,23.0,11.0,7.0,55.0,0.0,6.0,95.0,317.0,1437.0,16.0,10.0],\"sizemode\":\"area\",\"sizeref\":4.565,\"symbol\":\"circle\"},\"mode\":\"markers\",\"name\":\"\",\"showlegend\":false,\"type\":\"scattergeo\"}],\"name\":\"2010\"},{\"data\":[{\"coloraxis\":\"coloraxis\",\"customdata\":[[30466479.0,20203572959.16909,663.1410528,1.0,2.0],[41733271.0,545982375885.9234,13082.66433,4.0,32.0],[2914421.0,10619320047.354042,3643.715183,2.0,10.0],[22733465.0,1546892142795.4512,68044.71482,35.0,392.0],[8429991.0,409401816091.944,48564.91734,0.0,196.0],[9295784.0,69683935848.16403,7496.294648,9.0,24.0],[9446836.0,65685102555.47254,6953.132515,10.0,78.0],[11106932.0,496152879874.6338,44670.56068,3.0,47.0],[199977707.0,2465188675112.31,12327.31744,17.0,102.0],[406634.0,19047940302.36484,46842.96026,1.0,1.0],[9795479.0,2333341375.022763,238.2059494,0.0,1.0],[21032684.0,30155064571.35994,1433.724035,1.0,6.0],[34714222.0,1828366481409.4111,52669.08996,18.0,308.0],[158621.0,0.0,0.0,0.0,6.0],[1354190000.0,8532229986644.42,6300.615118,91.0,520.0],[45782417.0,370921317952.67535,8101.829092,9.0,21.0],[22010712.0,36302305578.228165,1649.301739,0.0,1.0],[11309290.0,73140999997.42105,6467.337914,15.0,203.0],[1156556.0,33532432451.54316,28993.34961,1.0,1.0],[10510785.0,208857719296.04987,19870.80121,11.0,62.0],[954297.0,1353632941.406826,1418.460858,0.0,1.0],[10030882.0,60681537196.305565,6049.471741,2.0,6.0],[15483883.0,87924544004.64465,5678.455721,0.0,2.0],[91240376.0,279116666685.6409,3059.135428,4.0,12.0],[3252596.0,0.0,0.0,0.0,1.0],[1322696.0,23019150077.16968,17403.20533,2.0,19.0],[94451280.0,43310721414.73863,458.5509208,8.0,46.0],[5413971.0,258290060236.14288,47708.06128,3.0,184.0],[65662240.0,2683671716666.886,40870.85236,35.0,412.0],[1836705.0,17170465293.67026,9348.515572,1.0,1.0],[3728874.0,16488403075.31951,4421.818242,6.0,25.0],[26858762.0,41270954736.572174,1536.591848,0.0,4.0],[743966.0,4063089192.155122,5461.390967,0.0,1.0],[7150100.0,262629441492.67,36730.8767,1.0,3.0],[9920362.0,128814279285.23834,12984.83657,18.0,301.0],[320716.0,14751508133.88208,45995.54788,0.0,3.0],[1274487215.0,1827637859428.3384,1434.018198,6.0,17.0],[33864447.0,218002481729.53897,6437.503076,0.0,1.0],[4599533.0,225628699634.3002,49054.69743,6.0,20.0],[7910500.0,262282344125.36,33156.22832,0.0,7.0],[59539717.0,2086957656835.2805,35051.52127,28.0,446.0],[2759817.0,14807086889.340382,5365.242293,12.0,59.0],[127629000.0,6272362996000.47,49145.28043,38.0,362.0],[7211863.0,31634561671.72321,4386.461816,0.0,0.0],[16792090.0,207998568944.7743,12386.69927,11.0,52.0],[43725806.0,56396706005.29253,1289.780822,13.0,90.0],[24887770.0,0.0,0.0,7.0,50.0],[50199853.0,1278427634490.2036,25466.76052,30.0,285.0],[5607200.0,6605139934.092,1177.974735,0.0,4.0],[5178337.0,44016799516.06373,8500.180563,0.0,2.0],[36505.0,5456009384.6265,149459.2353,0.0,9.0],[2987773.0,42927454276.92166,14367.70942,5.0,21.0],[530946.0,59776383542.7798,112584.6763,0.0,2.0],[115755909.0,1201089987427.272,10376.05767,8.0,50.0],[2860324.0,8709138765.026873,3044.808478,0.0,5.0],[620601.0,4087725812.46868,6586.721279,1.0,1.0],[33352169.0,96969737711.006,2907.449219,1.0,22.0],[24487611.0,16350804544.180346,667.7174243,0.0,2.0],[2167470.0,13042007432.34543,6017.157069,0.0,4.0],[4408100.0,176206659728.156,39973.38076,13.0,90.0],[2061044.0,9745251126.220247,4728.308142,0.0,1.0],[5018573.0,509506317387.5087,101524.1419,4.0,276.0],[202205861.0,224383620882.293,1109.679115,0.0,9.0],[3754862.0,40429700004.44116,10767.29318,0.0,1.0],[29749589.0,192648999075.5252,6475.68607,0.0,3.0],[38063164.0,495236910785.006,13010.92339,11.0,252.0],[1905660.0,186833502366.2784,98041.36224,2.0,4.0],[20058035.0,179132893150.44293,8930.729912,7.0,282.0],[143201721.0,2208295839325.875,15420.875,66.0,459.0],[33132.0,1604779647.90396,48435.94253,0.0,0.0],[13231833.0,17660871731.235493,1334.726015,0.0,1.0],[7199077.0,43309252924.15456,6015.945228,4.0,7.0],[5312437.0,295087220939.972,55546.48854,2.0,4.0],[5407579.0,94623731084.20808,17498.3539,4.0,28.0],[46773055.0,1324750738616.1323,28322.94659,20.0,130.0],[558111.0,4979999999.924645,8922.956186,0.0,2.0],[9519374.0,552483727290.2537,58037.82132,8.0,221.0],[22605577.0,43190317729.041504,1910.604526,0.0,3.0],[7956382.0,7633049792.42771,959.361905,1.0,3.0],[69157023.0,397558222952.3555,5748.631241,4.0,27.0],[1430377.0,27121712418.76343,18961.23359,4.0,15.0],[11174383.0,47311159484.45154,4233.894568,3.0,10.0],[75277439.0,880556375545.2139,11697.48051,3.0,58.0],[5458682.0,35164210527.71748,6441.886618,0.0,0.0],[34273295.0,27305915759.639824,796.711135,1.0,7.0],[45593342.0,182592418612.8185,4004.804443,19.0,114.0],[63700215.0,2706340967060.005,42485.58607,65.0,382.0],[313877662.0,16253972228780.984,51784.41857,104.0,1541.0],[29774500.0,67517349201.487495,2267.623275,3.0,19.0],[29470426.0,381286237929.15765,12937.9276,1.0,11.0]],\"geo\":\"geo\",\"hovertemplate\":\"<b>%{hovertext}</b><br><br>Year=2012<br>Country_Code=%{location}<br>Population=%{customdata[0]}<br>GDP=%{z}<br>GDP_Per_Capita=%{customdata[2]}<br>Y_Total=%{customdata[3]}<br>A_Total=%{customdata[4]}<extra></extra>\",\"hovertext\":[\"Afghanistan\",\"Argentina\",\"Armenia\",\"Australia\",\"Austria\",\"Azerbaijan\",\"Belarus\",\"Belgium\",\"Brazil\",\"Brunei Darussalam\",\"Burundi\",\"Cameroon\",\"Canada\",\"Channel Islands\",\"China\",\"Colombia\",\"Cote d'Ivoire\",\"Cuba\",\"Cyprus\",\"Czechia\",\"Djibouti\",\"Dominican Republic\",\"Ecuador\",\"Egypt, Arab Rep.\",\"Eritrea\",\"Estonia\",\"Ethiopia\",\"Finland\",\"France\",\"Gabon\",\"Georgia\",\"Ghana\",\"Guyana\",\"Hong Kong SAR, China\",\"Hungary\",\"Iceland\",\"India\",\"Iraq\",\"Ireland\",\"Israel\",\"Italy\",\"Jamaica\",\"Japan\",\"Jordan\",\"Kazakhstan\",\"Kenya\",\"Korea, Dem. People's Rep.\",\"Korea, Rep.\",\"Kyrgyz Republic\",\"Lebanon\",\"Liechtenstein\",\"Lithuania\",\"Luxembourg\",\"Mexico\",\"Moldova\",\"Montenegro\",\"Morocco\",\"Mozambique\",\"Namibia\",\"New Zealand\",\"North Macedonia\",\"Norway\",\"Pakistan\",\"Panama\",\"Peru\",\"Poland\",\"Qatar\",\"Romania\",\"Russian Federation\",\"San Marino\",\"Senegal\",\"Serbia\",\"Singapore\",\"Slovak Republic\",\"Spain\",\"Suriname\",\"Sweden\",\"Syrian Arab Republic\",\"Tajikistan\",\"Thailand\",\"Trinidad and Tobago\",\"Tunisia\",\"Turkiye\",\"Turkmenistan\",\"Uganda\",\"Ukraine\",\"United Kingdom\",\"United States\",\"Uzbekistan\",\"Venezuela, RB\"],\"locations\":[\"AFG\",\"ARG\",\"ARM\",\"AUS\",\"AUT\",\"AZE\",\"BLR\",\"BEL\",\"BRA\",\"BRN\",\"BDI\",\"CMR\",\"CAN\",\"CHI\",\"CHN\",\"COL\",\"CIV\",\"CUB\",\"CYP\",\"CZE\",\"DJI\",\"DOM\",\"ECU\",\"EGY\",\"ERI\",\"EST\",\"ETH\",\"FIN\",\"FRA\",\"GAB\",\"GEO\",\"GHA\",\"GUY\",\"HKG\",\"HUN\",\"ISL\",\"IND\",\"IRQ\",\"IRL\",\"ISR\",\"ITA\",\"JAM\",\"JPN\",\"JOR\",\"KAZ\",\"KEN\",\"PRK\",\"KOR\",\"KGZ\",\"LBN\",\"LIE\",\"LTU\",\"LUX\",\"MEX\",\"MDA\",\"MNE\",\"MAR\",\"MOZ\",\"NAM\",\"NZL\",\"MKD\",\"NOR\",\"PAK\",\"PAN\",\"PER\",\"POL\",\"QAT\",\"ROU\",\"RUS\",\"SMR\",\"SEN\",\"SRB\",\"SGP\",\"SVK\",\"ESP\",\"SUR\",\"SWE\",\"SYR\",\"TJK\",\"THA\",\"TTO\",\"TUN\",\"TUR\",\"TKM\",\"UGA\",\"UKR\",\"GBR\",\"USA\",\"UZB\",\"VEN\"],\"name\":\"\",\"type\":\"choropleth\",\"z\":[20203572959.16909,545982375885.9234,10619320047.354042,1546892142795.4512,409401816091.944,69683935848.16403,65685102555.47254,496152879874.6338,2465188675112.31,19047940302.36484,2333341375.022763,30155064571.35994,1828366481409.4111,0.0,8532229986644.42,370921317952.67535,36302305578.228165,73140999997.42105,33532432451.54316,208857719296.04987,1353632941.406826,60681537196.305565,87924544004.64465,279116666685.6409,0.0,23019150077.16968,43310721414.73863,258290060236.14288,2683671716666.886,17170465293.67026,16488403075.31951,41270954736.572174,4063089192.155122,262629441492.67,128814279285.23834,14751508133.88208,1827637859428.3384,218002481729.53897,225628699634.3002,262282344125.36,2086957656835.2805,14807086889.340382,6272362996000.47,31634561671.72321,207998568944.7743,56396706005.29253,0.0,1278427634490.2036,6605139934.092,44016799516.06373,5456009384.6265,42927454276.92166,59776383542.7798,1201089987427.272,8709138765.026873,4087725812.46868,96969737711.006,16350804544.180346,13042007432.34543,176206659728.156,9745251126.220247,509506317387.5087,224383620882.293,40429700004.44116,192648999075.5252,495236910785.006,186833502366.2784,179132893150.44293,2208295839325.875,1604779647.90396,17660871731.235493,43309252924.15456,295087220939.972,94623731084.20808,1324750738616.1323,4979999999.924645,552483727290.2537,43190317729.041504,7633049792.42771,397558222952.3555,27121712418.76343,47311159484.45154,880556375545.2139,35164210527.71748,27305915759.639824,182592418612.8185,2706340967060.005,16253972228780.984,67517349201.487495,381286237929.15765]},{\"customdata\":[[30466479.0,20203572959.16909,663.1410528,1.0,2.0],[41733271.0,545982375885.9234,13082.66433,4.0,32.0],[2914421.0,10619320047.354042,3643.715183,2.0,10.0],[22733465.0,1546892142795.4512,68044.71482,35.0,392.0],[8429991.0,409401816091.944,48564.91734,0.0,196.0],[9295784.0,69683935848.16403,7496.294648,9.0,24.0],[9446836.0,65685102555.47254,6953.132515,10.0,78.0],[11106932.0,496152879874.6338,44670.56068,3.0,47.0],[199977707.0,2465188675112.31,12327.31744,17.0,102.0],[406634.0,19047940302.36484,46842.96026,1.0,1.0],[9795479.0,2333341375.022763,238.2059494,0.0,1.0],[21032684.0,30155064571.35994,1433.724035,1.0,6.0],[34714222.0,1828366481409.4111,52669.08996,18.0,308.0],[158621.0,0.0,0.0,0.0,6.0],[1354190000.0,8532229986644.42,6300.615118,91.0,520.0],[45782417.0,370921317952.67535,8101.829092,9.0,21.0],[22010712.0,36302305578.228165,1649.301739,0.0,1.0],[11309290.0,73140999997.42105,6467.337914,15.0,203.0],[1156556.0,33532432451.54316,28993.34961,1.0,1.0],[10510785.0,208857719296.04987,19870.80121,11.0,62.0],[954297.0,1353632941.406826,1418.460858,0.0,1.0],[10030882.0,60681537196.305565,6049.471741,2.0,6.0],[15483883.0,87924544004.64465,5678.455721,0.0,2.0],[91240376.0,279116666685.6409,3059.135428,4.0,12.0],[3252596.0,0.0,0.0,0.0,1.0],[1322696.0,23019150077.16968,17403.20533,2.0,19.0],[94451280.0,43310721414.73863,458.5509208,8.0,46.0],[5413971.0,258290060236.14288,47708.06128,3.0,184.0],[65662240.0,2683671716666.886,40870.85236,35.0,412.0],[1836705.0,17170465293.67026,9348.515572,1.0,1.0],[3728874.0,16488403075.31951,4421.818242,6.0,25.0],[26858762.0,41270954736.572174,1536.591848,0.0,4.0],[743966.0,4063089192.155122,5461.390967,0.0,1.0],[7150100.0,262629441492.67,36730.8767,1.0,3.0],[9920362.0,128814279285.23834,12984.83657,18.0,301.0],[320716.0,14751508133.88208,45995.54788,0.0,3.0],[1274487215.0,1827637859428.3384,1434.018198,6.0,17.0],[33864447.0,218002481729.53897,6437.503076,0.0,1.0],[4599533.0,225628699634.3002,49054.69743,6.0,20.0],[7910500.0,262282344125.36,33156.22832,0.0,7.0],[59539717.0,2086957656835.2805,35051.52127,28.0,446.0],[2759817.0,14807086889.340382,5365.242293,12.0,59.0],[127629000.0,6272362996000.47,49145.28043,38.0,362.0],[7211863.0,31634561671.72321,4386.461816,0.0,0.0],[16792090.0,207998568944.7743,12386.69927,11.0,52.0],[43725806.0,56396706005.29253,1289.780822,13.0,90.0],[24887770.0,0.0,0.0,7.0,50.0],[50199853.0,1278427634490.2036,25466.76052,30.0,285.0],[5607200.0,6605139934.092,1177.974735,0.0,4.0],[5178337.0,44016799516.06373,8500.180563,0.0,2.0],[36505.0,5456009384.6265,149459.2353,0.0,9.0],[2987773.0,42927454276.92166,14367.70942,5.0,21.0],[530946.0,59776383542.7798,112584.6763,0.0,2.0],[115755909.0,1201089987427.272,10376.05767,8.0,50.0],[2860324.0,8709138765.026873,3044.808478,0.0,5.0],[620601.0,4087725812.46868,6586.721279,1.0,1.0],[33352169.0,96969737711.006,2907.449219,1.0,22.0],[24487611.0,16350804544.180346,667.7174243,0.0,2.0],[2167470.0,13042007432.34543,6017.157069,0.0,4.0],[4408100.0,176206659728.156,39973.38076,13.0,90.0],[2061044.0,9745251126.220247,4728.308142,0.0,1.0],[5018573.0,509506317387.5087,101524.1419,4.0,276.0],[202205861.0,224383620882.293,1109.679115,0.0,9.0],[3754862.0,40429700004.44116,10767.29318,0.0,1.0],[29749589.0,192648999075.5252,6475.68607,0.0,3.0],[38063164.0,495236910785.006,13010.92339,11.0,252.0],[1905660.0,186833502366.2784,98041.36224,2.0,4.0],[20058035.0,179132893150.44293,8930.729912,7.0,282.0],[143201721.0,2208295839325.875,15420.875,66.0,459.0],[33132.0,1604779647.90396,48435.94253,0.0,0.0],[13231833.0,17660871731.235493,1334.726015,0.0,1.0],[7199077.0,43309252924.15456,6015.945228,4.0,7.0],[5312437.0,295087220939.972,55546.48854,2.0,4.0],[5407579.0,94623731084.20808,17498.3539,4.0,28.0],[46773055.0,1324750738616.1323,28322.94659,20.0,130.0],[558111.0,4979999999.924645,8922.956186,0.0,2.0],[9519374.0,552483727290.2537,58037.82132,8.0,221.0],[22605577.0,43190317729.041504,1910.604526,0.0,3.0],[7956382.0,7633049792.42771,959.361905,1.0,3.0],[69157023.0,397558222952.3555,5748.631241,4.0,27.0],[1430377.0,27121712418.76343,18961.23359,4.0,15.0],[11174383.0,47311159484.45154,4233.894568,3.0,10.0],[75277439.0,880556375545.2139,11697.48051,3.0,58.0],[5458682.0,35164210527.71748,6441.886618,0.0,0.0],[34273295.0,27305915759.639824,796.711135,1.0,7.0],[45593342.0,182592418612.8185,4004.804443,19.0,114.0],[63700215.0,2706340967060.005,42485.58607,65.0,382.0],[313877662.0,16253972228780.984,51784.41857,104.0,1541.0],[29774500.0,67517349201.487495,2267.623275,3.0,19.0],[29470426.0,381286237929.15765,12937.9276,1.0,11.0]],\"geo\":\"geo\",\"hovertemplate\":\"Year=2012<br>A_Total=%{customdata[4]}<br>Country_Code=%{location}<br>Population=%{customdata[0]}<br>GDP=%{customdata[1]}<br>GDP_Per_Capita=%{customdata[2]}<br>Y_Total=%{customdata[3]}<extra></extra>\",\"legendgroup\":\"\",\"locations\":[\"AFG\",\"ARG\",\"ARM\",\"AUS\",\"AUT\",\"AZE\",\"BLR\",\"BEL\",\"BRA\",\"BRN\",\"BDI\",\"CMR\",\"CAN\",\"CHI\",\"CHN\",\"COL\",\"CIV\",\"CUB\",\"CYP\",\"CZE\",\"DJI\",\"DOM\",\"ECU\",\"EGY\",\"ERI\",\"EST\",\"ETH\",\"FIN\",\"FRA\",\"GAB\",\"GEO\",\"GHA\",\"GUY\",\"HKG\",\"HUN\",\"ISL\",\"IND\",\"IRQ\",\"IRL\",\"ISR\",\"ITA\",\"JAM\",\"JPN\",\"JOR\",\"KAZ\",\"KEN\",\"PRK\",\"KOR\",\"KGZ\",\"LBN\",\"LIE\",\"LTU\",\"LUX\",\"MEX\",\"MDA\",\"MNE\",\"MAR\",\"MOZ\",\"NAM\",\"NZL\",\"MKD\",\"NOR\",\"PAK\",\"PAN\",\"PER\",\"POL\",\"QAT\",\"ROU\",\"RUS\",\"SMR\",\"SEN\",\"SRB\",\"SGP\",\"SVK\",\"ESP\",\"SUR\",\"SWE\",\"SYR\",\"TJK\",\"THA\",\"TTO\",\"TUN\",\"TUR\",\"TKM\",\"UGA\",\"UKR\",\"GBR\",\"USA\",\"UZB\",\"VEN\"],\"marker\":{\"color\":\"#636efa\",\"size\":[2.0,32.0,10.0,392.0,196.0,24.0,78.0,47.0,102.0,1.0,1.0,6.0,308.0,6.0,520.0,21.0,1.0,203.0,1.0,62.0,1.0,6.0,2.0,12.0,1.0,19.0,46.0,184.0,412.0,1.0,25.0,4.0,1.0,3.0,301.0,3.0,17.0,1.0,20.0,7.0,446.0,59.0,362.0,0.0,52.0,90.0,50.0,285.0,4.0,2.0,9.0,21.0,2.0,50.0,5.0,1.0,22.0,2.0,4.0,90.0,1.0,276.0,9.0,1.0,3.0,252.0,4.0,282.0,459.0,0.0,1.0,7.0,4.0,28.0,130.0,2.0,221.0,3.0,3.0,27.0,15.0,10.0,58.0,0.0,7.0,114.0,382.0,1541.0,19.0,11.0],\"sizemode\":\"area\",\"sizeref\":4.565,\"symbol\":\"circle\"},\"mode\":\"markers\",\"name\":\"\",\"showlegend\":false,\"type\":\"scattergeo\"}],\"name\":\"2012\"},{\"data\":[{\"coloraxis\":\"coloraxis\",\"customdata\":[[32716210.0,20550582747.22122,628.1468039,0.0,2.0],[42669500.0,526319673928.375,12334.79825,0.0,32.0],[2889930.0,11609512939.03344,4017.229808,0.0,10.0],[23475686.0,1467545212589.597,62513.41122,3.0,395.0],[8546356.0,442584815245.0925,51786.37717,17.0,213.0],[9535079.0,75244294270.3836,7891.313147,0.0,24.0],[9448515.0,78813839988.02669,8341.399679,6.0,84.0],[11209057.0,535390200107.6661,47764.07151,0.0,47.0],[203459650.0,2455993624501.2266,12071.15821,0.0,102.0],[416656.0,17098342542.0584,41037.07265,0.0,1.0],[10494913.0,2705783271.976485,257.8185519,0.0,1.0],[22299585.0,36386546911.85514,1631.714084,0.0,6.0],[35437435.0,1805749878325.109,50955.99832,25.0,333.0],[160912.0,0.0,0.0,0.0,6.0],[1371860000.0,10475682920247.86,7636.116601,9.0,529.0],[46677947.0,381112110467.74176,8164.714495,0.0,21.0],[22995555.0,48843008590.06024,2124.019559,0.0,1.0],[11332026.0,80655999999.81966,7117.52691,0.0,203.0],[1176995.0,32067658648.88385,27245.36523,0.0,1.0],[10525347.0,209358834201.9588,19890.91991,9.0,71.0],[989087.0,2214679081.046806,2239.114538,0.0,1.0],[10282115.0,67179914026.2089,6533.66686,0.0,6.0],[15957994.0,101726331005.79909,6374.631486,0.0,2.0],[95592324.0,305595408915.63947,3196.861381,0.0,12.0],[3323425.0,0.0,0.0,0.0,1.0],[1314545.0,26634083964.58785,20261.06673,0.0,19.0],[99746766.0,55612228237.46408,557.5341484,0.0,46.0],[5461512.0,274862826770.71848,50327.24029,5.0,189.0],[66312067.0,2855964488313.4043,43068.54872,15.0,427.0],[1966855.0,18203968001.85244,9255.368597,0.0,1.0],[3719414.0,17627003452.99393,4739.188338,0.0,25.0],[28196358.0,54782847759.6258,1942.9051,0.0,4.0],[751115.0,4127659492.209655,5495.376197,0.0,1.0],[7229500.0,291459356956.02,40315.28556,0.0,3.0],[9866468.0,141033843284.66055,14294.25842,0.0,301.0],[327386.0,17867662176.366657,54576.74481,0.0,3.0],[1307246509.0,2039127445668.468,1559.864518,0.0,17.0],[36746488.0,228415656169.8021,6215.986033,0.0,1.0],[4657740.0,259170903629.48825,55643.05943,0.0,20.0],[8215700.0,314330062013.27,38259.6811,0.0,7.0],[60789140.0,2162009616169.8132,35565.72138,8.0,454.0],[2784543.0,13899228824.972816,4991.565519,0.0,59.0],[127276000.0,4896994405839.0,38475.39525,8.0,370.0],[8658026.0,36847643589.232056,4255.89431,0.0,0.0],[17288285.0,221415572878.01663,12807.26069,1.0,53.0],[45831863.0,68285768576.43379,1489.919111,0.0,90.0],[25126131.0,0.0,0.0,0.0,50.0],[50746659.0,1484318219584.19,29249.57522,8.0,293.0],[5835500.0,7468096568.6965,1279.769783,0.0,4.0],[6274342.0,48095213747.46267,7665.379692,0.0,2.0],[37096.0,6657170922.4184,179457.9179,0.0,9.0],[2932367.0,48533659586.0794,16551.0182,0.0,21.0],[556319.0,68804811873.5699,123678.7021,0.0,2.0],[118755887.0,1315351183393.7532,11076.09245,0.0,50.0],[2857815.0,9510198962.396626,3327.786775,0.0,5.0],[621810.0,4594024179.78714,7388.147794,0.0,1.0],[34248603.0,117491529986.51328,3430.549561,0.0,22.0],[26038704.0,17716084106.296585,680.3750335,0.0,2.0],[2243001.0,12435416063.886423,5544.097423,0.0,4.0],[4516500.0,201313497204.375,44572.89875,0.0,90.0],[2067471.0,11362272837.49108,5495.735049,0.0,1.0],[5137232.0,498410050237.148,97019.18275,26.0,302.0],[208251628.0,244360888828.41516,1173.392454,0.0,9.0],[3888793.0,49921400006.11228,12837.24796,0.0,1.0],[30353951.0,200789362440.2724,6614.933339,0.0,3.0],[38011735.0,539087652383.5625,14182.1375,6.0,258.0],[2214465.0,206224598563.9389,93126.14946,0.0,4.0],[19908979.0,199712289421.8173,10031.26727,0.0,282.0],[143819667.0,2027231464789.8696,14095.64844,29.0,488.0],[33389.0,1673973694.64162,50135.48458,0.0,0.0],[13970308.0,19797254649.062798,1417.095074,0.0,1.0],[7130576.0,47062206680.89198,6600.056809,0.0,7.0],[5469724.0,314851156162.80194,57562.53079,0.0,4.0],[5418649.0,101437045014.82286,18719.98814,1.0,29.0],[46480882.0,1371820537886.7407,29513.65118,0.0,130.0],[569682.0,5240606060.440026,9199.177893,0.0,2.0],[9696110.0,581964017259.8107,60020.36046,15.0,236.0],[20072232.0,21502061469.02333,1071.234204,0.0,3.0],[8326348.0,9112544559.048128,1094.422736,0.0,3.0],[69960943.0,407339454089.86816,5822.383699,0.0,27.0],[1450661.0,29489012814.06706,20327.98346,0.0,15.0],[11428948.0,50271072628.69405,4398.573922,0.0,10.0],[78112073.0,938952628678.2128,12020.58264,0.0,58.0],[5663152.0,43524210529.01557,7685.509859,0.0,0.0],[36336539.0,32612397757.59756,897.5097424,0.0,7.0],[45272155.0,140553893195.3052,3104.643311,2.0,116.0],[64602298.0,3065223279437.361,47447.58893,5.0,387.0],[318386329.0,17550680174985.52,55123.84979,28.0,1569.0],[30757700.0,80845384388.0616,2628.460008,0.0,19.0],[30193258.0,482359318908.5201,15975.72938,0.0,11.0]],\"geo\":\"geo\",\"hovertemplate\":\"<b>%{hovertext}</b><br><br>Year=2014<br>Country_Code=%{location}<br>Population=%{customdata[0]}<br>GDP=%{z}<br>GDP_Per_Capita=%{customdata[2]}<br>Y_Total=%{customdata[3]}<br>A_Total=%{customdata[4]}<extra></extra>\",\"hovertext\":[\"Afghanistan\",\"Argentina\",\"Armenia\",\"Australia\",\"Austria\",\"Azerbaijan\",\"Belarus\",\"Belgium\",\"Brazil\",\"Brunei Darussalam\",\"Burundi\",\"Cameroon\",\"Canada\",\"Channel Islands\",\"China\",\"Colombia\",\"Cote d'Ivoire\",\"Cuba\",\"Cyprus\",\"Czechia\",\"Djibouti\",\"Dominican Republic\",\"Ecuador\",\"Egypt, Arab Rep.\",\"Eritrea\",\"Estonia\",\"Ethiopia\",\"Finland\",\"France\",\"Gabon\",\"Georgia\",\"Ghana\",\"Guyana\",\"Hong Kong SAR, China\",\"Hungary\",\"Iceland\",\"India\",\"Iraq\",\"Ireland\",\"Israel\",\"Italy\",\"Jamaica\",\"Japan\",\"Jordan\",\"Kazakhstan\",\"Kenya\",\"Korea, Dem. People's Rep.\",\"Korea, Rep.\",\"Kyrgyz Republic\",\"Lebanon\",\"Liechtenstein\",\"Lithuania\",\"Luxembourg\",\"Mexico\",\"Moldova\",\"Montenegro\",\"Morocco\",\"Mozambique\",\"Namibia\",\"New Zealand\",\"North Macedonia\",\"Norway\",\"Pakistan\",\"Panama\",\"Peru\",\"Poland\",\"Qatar\",\"Romania\",\"Russian Federation\",\"San Marino\",\"Senegal\",\"Serbia\",\"Singapore\",\"Slovak Republic\",\"Spain\",\"Suriname\",\"Sweden\",\"Syrian Arab Republic\",\"Tajikistan\",\"Thailand\",\"Trinidad and Tobago\",\"Tunisia\",\"Turkiye\",\"Turkmenistan\",\"Uganda\",\"Ukraine\",\"United Kingdom\",\"United States\",\"Uzbekistan\",\"Venezuela, RB\"],\"locations\":[\"AFG\",\"ARG\",\"ARM\",\"AUS\",\"AUT\",\"AZE\",\"BLR\",\"BEL\",\"BRA\",\"BRN\",\"BDI\",\"CMR\",\"CAN\",\"CHI\",\"CHN\",\"COL\",\"CIV\",\"CUB\",\"CYP\",\"CZE\",\"DJI\",\"DOM\",\"ECU\",\"EGY\",\"ERI\",\"EST\",\"ETH\",\"FIN\",\"FRA\",\"GAB\",\"GEO\",\"GHA\",\"GUY\",\"HKG\",\"HUN\",\"ISL\",\"IND\",\"IRQ\",\"IRL\",\"ISR\",\"ITA\",\"JAM\",\"JPN\",\"JOR\",\"KAZ\",\"KEN\",\"PRK\",\"KOR\",\"KGZ\",\"LBN\",\"LIE\",\"LTU\",\"LUX\",\"MEX\",\"MDA\",\"MNE\",\"MAR\",\"MOZ\",\"NAM\",\"NZL\",\"MKD\",\"NOR\",\"PAK\",\"PAN\",\"PER\",\"POL\",\"QAT\",\"ROU\",\"RUS\",\"SMR\",\"SEN\",\"SRB\",\"SGP\",\"SVK\",\"ESP\",\"SUR\",\"SWE\",\"SYR\",\"TJK\",\"THA\",\"TTO\",\"TUN\",\"TUR\",\"TKM\",\"UGA\",\"UKR\",\"GBR\",\"USA\",\"UZB\",\"VEN\"],\"name\":\"\",\"type\":\"choropleth\",\"z\":[20550582747.22122,526319673928.375,11609512939.03344,1467545212589.597,442584815245.0925,75244294270.3836,78813839988.02669,535390200107.6661,2455993624501.2266,17098342542.0584,2705783271.976485,36386546911.85514,1805749878325.109,0.0,10475682920247.86,381112110467.74176,48843008590.06024,80655999999.81966,32067658648.88385,209358834201.9588,2214679081.046806,67179914026.2089,101726331005.79909,305595408915.63947,0.0,26634083964.58785,55612228237.46408,274862826770.71848,2855964488313.4043,18203968001.85244,17627003452.99393,54782847759.6258,4127659492.209655,291459356956.02,141033843284.66055,17867662176.366657,2039127445668.468,228415656169.8021,259170903629.48825,314330062013.27,2162009616169.8132,13899228824.972816,4896994405839.0,36847643589.232056,221415572878.01663,68285768576.43379,0.0,1484318219584.19,7468096568.6965,48095213747.46267,6657170922.4184,48533659586.0794,68804811873.5699,1315351183393.7532,9510198962.396626,4594024179.78714,117491529986.51328,17716084106.296585,12435416063.886423,201313497204.375,11362272837.49108,498410050237.148,244360888828.41516,49921400006.11228,200789362440.2724,539087652383.5625,206224598563.9389,199712289421.8173,2027231464789.8696,1673973694.64162,19797254649.062798,47062206680.89198,314851156162.80194,101437045014.82286,1371820537886.7407,5240606060.440026,581964017259.8107,21502061469.02333,9112544559.048128,407339454089.86816,29489012814.06706,50271072628.69405,938952628678.2128,43524210529.01557,32612397757.59756,140553893195.3052,3065223279437.361,17550680174985.52,80845384388.0616,482359318908.5201]},{\"customdata\":[[32716210.0,20550582747.22122,628.1468039,0.0,2.0],[42669500.0,526319673928.375,12334.79825,0.0,32.0],[2889930.0,11609512939.03344,4017.229808,0.0,10.0],[23475686.0,1467545212589.597,62513.41122,3.0,395.0],[8546356.0,442584815245.0925,51786.37717,17.0,213.0],[9535079.0,75244294270.3836,7891.313147,0.0,24.0],[9448515.0,78813839988.02669,8341.399679,6.0,84.0],[11209057.0,535390200107.6661,47764.07151,0.0,47.0],[203459650.0,2455993624501.2266,12071.15821,0.0,102.0],[416656.0,17098342542.0584,41037.07265,0.0,1.0],[10494913.0,2705783271.976485,257.8185519,0.0,1.0],[22299585.0,36386546911.85514,1631.714084,0.0,6.0],[35437435.0,1805749878325.109,50955.99832,25.0,333.0],[160912.0,0.0,0.0,0.0,6.0],[1371860000.0,10475682920247.86,7636.116601,9.0,529.0],[46677947.0,381112110467.74176,8164.714495,0.0,21.0],[22995555.0,48843008590.06024,2124.019559,0.0,1.0],[11332026.0,80655999999.81966,7117.52691,0.0,203.0],[1176995.0,32067658648.88385,27245.36523,0.0,1.0],[10525347.0,209358834201.9588,19890.91991,9.0,71.0],[989087.0,2214679081.046806,2239.114538,0.0,1.0],[10282115.0,67179914026.2089,6533.66686,0.0,6.0],[15957994.0,101726331005.79909,6374.631486,0.0,2.0],[95592324.0,305595408915.63947,3196.861381,0.0,12.0],[3323425.0,0.0,0.0,0.0,1.0],[1314545.0,26634083964.58785,20261.06673,0.0,19.0],[99746766.0,55612228237.46408,557.5341484,0.0,46.0],[5461512.0,274862826770.71848,50327.24029,5.0,189.0],[66312067.0,2855964488313.4043,43068.54872,15.0,427.0],[1966855.0,18203968001.85244,9255.368597,0.0,1.0],[3719414.0,17627003452.99393,4739.188338,0.0,25.0],[28196358.0,54782847759.6258,1942.9051,0.0,4.0],[751115.0,4127659492.209655,5495.376197,0.0,1.0],[7229500.0,291459356956.02,40315.28556,0.0,3.0],[9866468.0,141033843284.66055,14294.25842,0.0,301.0],[327386.0,17867662176.366657,54576.74481,0.0,3.0],[1307246509.0,2039127445668.468,1559.864518,0.0,17.0],[36746488.0,228415656169.8021,6215.986033,0.0,1.0],[4657740.0,259170903629.48825,55643.05943,0.0,20.0],[8215700.0,314330062013.27,38259.6811,0.0,7.0],[60789140.0,2162009616169.8132,35565.72138,8.0,454.0],[2784543.0,13899228824.972816,4991.565519,0.0,59.0],[127276000.0,4896994405839.0,38475.39525,8.0,370.0],[8658026.0,36847643589.232056,4255.89431,0.0,0.0],[17288285.0,221415572878.01663,12807.26069,1.0,53.0],[45831863.0,68285768576.43379,1489.919111,0.0,90.0],[25126131.0,0.0,0.0,0.0,50.0],[50746659.0,1484318219584.19,29249.57522,8.0,293.0],[5835500.0,7468096568.6965,1279.769783,0.0,4.0],[6274342.0,48095213747.46267,7665.379692,0.0,2.0],[37096.0,6657170922.4184,179457.9179,0.0,9.0],[2932367.0,48533659586.0794,16551.0182,0.0,21.0],[556319.0,68804811873.5699,123678.7021,0.0,2.0],[118755887.0,1315351183393.7532,11076.09245,0.0,50.0],[2857815.0,9510198962.396626,3327.786775,0.0,5.0],[621810.0,4594024179.78714,7388.147794,0.0,1.0],[34248603.0,117491529986.51328,3430.549561,0.0,22.0],[26038704.0,17716084106.296585,680.3750335,0.0,2.0],[2243001.0,12435416063.886423,5544.097423,0.0,4.0],[4516500.0,201313497204.375,44572.89875,0.0,90.0],[2067471.0,11362272837.49108,5495.735049,0.0,1.0],[5137232.0,498410050237.148,97019.18275,26.0,302.0],[208251628.0,244360888828.41516,1173.392454,0.0,9.0],[3888793.0,49921400006.11228,12837.24796,0.0,1.0],[30353951.0,200789362440.2724,6614.933339,0.0,3.0],[38011735.0,539087652383.5625,14182.1375,6.0,258.0],[2214465.0,206224598563.9389,93126.14946,0.0,4.0],[19908979.0,199712289421.8173,10031.26727,0.0,282.0],[143819667.0,2027231464789.8696,14095.64844,29.0,488.0],[33389.0,1673973694.64162,50135.48458,0.0,0.0],[13970308.0,19797254649.062798,1417.095074,0.0,1.0],[7130576.0,47062206680.89198,6600.056809,0.0,7.0],[5469724.0,314851156162.80194,57562.53079,0.0,4.0],[5418649.0,101437045014.82286,18719.98814,1.0,29.0],[46480882.0,1371820537886.7407,29513.65118,0.0,130.0],[569682.0,5240606060.440026,9199.177893,0.0,2.0],[9696110.0,581964017259.8107,60020.36046,15.0,236.0],[20072232.0,21502061469.02333,1071.234204,0.0,3.0],[8326348.0,9112544559.048128,1094.422736,0.0,3.0],[69960943.0,407339454089.86816,5822.383699,0.0,27.0],[1450661.0,29489012814.06706,20327.98346,0.0,15.0],[11428948.0,50271072628.69405,4398.573922,0.0,10.0],[78112073.0,938952628678.2128,12020.58264,0.0,58.0],[5663152.0,43524210529.01557,7685.509859,0.0,0.0],[36336539.0,32612397757.59756,897.5097424,0.0,7.0],[45272155.0,140553893195.3052,3104.643311,2.0,116.0],[64602298.0,3065223279437.361,47447.58893,5.0,387.0],[318386329.0,17550680174985.52,55123.84979,28.0,1569.0],[30757700.0,80845384388.0616,2628.460008,0.0,19.0],[30193258.0,482359318908.5201,15975.72938,0.0,11.0]],\"geo\":\"geo\",\"hovertemplate\":\"Year=2014<br>A_Total=%{customdata[4]}<br>Country_Code=%{location}<br>Population=%{customdata[0]}<br>GDP=%{customdata[1]}<br>GDP_Per_Capita=%{customdata[2]}<br>Y_Total=%{customdata[3]}<extra></extra>\",\"legendgroup\":\"\",\"locations\":[\"AFG\",\"ARG\",\"ARM\",\"AUS\",\"AUT\",\"AZE\",\"BLR\",\"BEL\",\"BRA\",\"BRN\",\"BDI\",\"CMR\",\"CAN\",\"CHI\",\"CHN\",\"COL\",\"CIV\",\"CUB\",\"CYP\",\"CZE\",\"DJI\",\"DOM\",\"ECU\",\"EGY\",\"ERI\",\"EST\",\"ETH\",\"FIN\",\"FRA\",\"GAB\",\"GEO\",\"GHA\",\"GUY\",\"HKG\",\"HUN\",\"ISL\",\"IND\",\"IRQ\",\"IRL\",\"ISR\",\"ITA\",\"JAM\",\"JPN\",\"JOR\",\"KAZ\",\"KEN\",\"PRK\",\"KOR\",\"KGZ\",\"LBN\",\"LIE\",\"LTU\",\"LUX\",\"MEX\",\"MDA\",\"MNE\",\"MAR\",\"MOZ\",\"NAM\",\"NZL\",\"MKD\",\"NOR\",\"PAK\",\"PAN\",\"PER\",\"POL\",\"QAT\",\"ROU\",\"RUS\",\"SMR\",\"SEN\",\"SRB\",\"SGP\",\"SVK\",\"ESP\",\"SUR\",\"SWE\",\"SYR\",\"TJK\",\"THA\",\"TTO\",\"TUN\",\"TUR\",\"TKM\",\"UGA\",\"UKR\",\"GBR\",\"USA\",\"UZB\",\"VEN\"],\"marker\":{\"color\":\"#636efa\",\"size\":[2.0,32.0,10.0,395.0,213.0,24.0,84.0,47.0,102.0,1.0,1.0,6.0,333.0,6.0,529.0,21.0,1.0,203.0,1.0,71.0,1.0,6.0,2.0,12.0,1.0,19.0,46.0,189.0,427.0,1.0,25.0,4.0,1.0,3.0,301.0,3.0,17.0,1.0,20.0,7.0,454.0,59.0,370.0,0.0,53.0,90.0,50.0,293.0,4.0,2.0,9.0,21.0,2.0,50.0,5.0,1.0,22.0,2.0,4.0,90.0,1.0,302.0,9.0,1.0,3.0,258.0,4.0,282.0,488.0,0.0,1.0,7.0,4.0,29.0,130.0,2.0,236.0,3.0,3.0,27.0,15.0,10.0,58.0,0.0,7.0,116.0,387.0,1569.0,19.0,11.0],\"sizemode\":\"area\",\"sizeref\":4.565,\"symbol\":\"circle\"},\"mode\":\"markers\",\"name\":\"\",\"showlegend\":false,\"type\":\"scattergeo\"}],\"name\":\"2014\"},{\"data\":[{\"coloraxis\":\"coloraxis\",\"customdata\":[[34636207.0,18019558180.88125,520.252064,0.0,2.0],[43590368.0,557531376076.5289,12790.24247,4.0,36.0],[2865835.0,10546135159.67662,3679.951972,4.0,14.0],[24190907.0,1206535157874.182,49875.56514,29.0,424.0],[8736668.0,395837353013.65045,45307.58786,1.0,214.0],[9757812.0,37867518958.21657,3880.738731,18.0,42.0],[9469379.0,47722657817.9688,5039.681886,9.0,93.0],[11331422.0,476062757367.1079,42012.62272,6.0,53.0],[206859578.0,1795700169028.69,8680.768792,19.0,121.0],[425994.0,11400854269.2261,26762.94565,2.0,3.0],[10903327.0,2639321160.935754,242.0656705,1.0,2.0],[23711630.0,33814337894.86271,1426.065517,0.0,6.0],[36109487.0,1527994742063.397,42315.60371,22.0,355.0],[163721.0,0.0,0.0,0.0,6.0],[1387790000.0,11233276537088.93,8094.363367,70.0,599.0],[47625955.0,282825012374.9825,5938.463856,8.0,29.0],[24213622.0,47964234558.450325,1980.878142,2.0,3.0],[11342012.0,91369999995.87288,8055.889907,11.0,214.0],[1197881.0,29606503931.134068,24715.73047,0.0,1.0],[10566332.0,196272068606.01395,18575.23203,10.0,81.0],[1023261.0,2604955229.2035394,2545.738799,0.0,1.0],[10527592.0,75704720190.77463,7191.076572,1.0,7.0],[16439585.0,99937695998.01456,6079.088736,0.0,2.0],[99784030.0,332441717756.79785,3331.612461,3.0,15.0],[3365287.0,0.0,0.0,0.0,1.0],[1315790.0,24072829273.8647,18295.34293,1.0,20.0],[105293228.0,74296618482.88254,705.616305,8.0,54.0],[5495303.0,240771351322.4825,43814.02651,1.0,190.0],[66724104.0,2472964344428.1714,37062.53357,42.0,469.0],[2086206.0,14023890620.666958,6722.198393,0.0,1.0],[3727505.0,15141758568.36944,4062.169888,7.0,32.0],[29554303.0,56165172885.09691,1900.405937,0.0,4.0],[759087.0,4482697336.841052,5905.380196,0.0,1.0],[7336600.0,320858250766.776,43733.91636,0.0,3.0],[9814023.0,128609822791.78964,13104.69955,15.0,316.0],[335439.0,20793168030.27204,61987.92636,0.0,3.0],[1338636340.0,2294797980151.101,1714.280355,2.0,19.0],[38697943.0,166602488765.44196,4305.202702,0.0,1.0],[4755335.0,299091127505.8252,62895.91112,2.0,22.0],[8546000.0,322102790376.7,37690.47395,2.0,9.0],[60627498.0,1877071687701.062,30960.73151,28.0,482.0],[2802695.0,14077109396.812311,5022.704717,11.0,70.0],[127076000.0,5003677627280.16,39375.47316,41.0,411.0],[9964656.0,39892551152.55135,4003.404749,1.0,1.0],[17794055.0,137278320088.4374,7714.841844,17.0,70.0],[47894670.0,74815121335.96313,1562.076142,13.0,103.0],[25389611.0,0.0,0.0,7.0,57.0],[51217803.0,1500111596288.4434,29288.87044,21.0,314.0],[6079500.0,6813092065.7835,1120.666513,0.0,4.0],[6258619.0,51147308774.18365,8172.299476,0.0,2.0],[37609.0,6237264055.9086,165844.9854,0.0,9.0],[2868231.0,43047309292.67844,15008.31324,4.0,25.0],[582014.0,62216885407.109,106899.2935,0.0,2.0],[121519221.0,1078490651675.6224,8875.062256,5.0,55.0],[2803186.0,8071469355.453126,2879.391291,0.0,5.0],[622303.0,4377033429.462397,7033.604899,0.0,1.0],[35107264.0,109989112467.42912,3132.94458,1.0,23.0],[27696493.0,11936999282.717018,430.9931688,0.0,2.0],[2323352.0,10721994676.24879,4614.881721,0.0,4.0],[4714100.0,188838342517.856,40058.19616,18.0,108.0],[2072490.0,10672471859.97426,5149.589074,0.0,1.0],[5234519.0,368827142844.9351,70460.56053,4.0,306.0],[213524840.0,313629858907.59766,1468.821421,0.0,9.0],[4026336.0,57907699991.95968,14382.23238,0.0,1.0],[31132779.0,191895943814.64124,6163.791026,0.0,3.0],[37970087.0,470022572888.8713,12378.75944,11.0,269.0],[2595166.0,151732181865.2546,58467.23557,1.0,5.0],[19702267.0,185286854560.82837,9404.341874,4.0,286.0],[144342397.0,1256485906182.4758,8704.898438,56.0,544.0],[33834.0,1468377272.1222,43399.4583,0.0,0.0],[14751356.0,19040312816.005424,1290.750004,0.0,1.0],[7058322.0,40692643372.84137,5765.200762,8.0,15.0],[5607283.0,318832428533.6269,56860.41324,1.0,5.0],[5430798.0,89952699540.519,16563.4405,4.0,33.0],[46484062.0,1233554967037.0483,26537.15949,17.0,147.0],[581453.0,3317437626.243051,5705.426967,0.0,2.0],[9923085.0,515654671437.8077,51965.15715,11.0,247.0],[18964252.0,12598742887.59862,664.3416723,0.0,3.0],[8725318.0,6992393787.475526,801.3912831,1.0,4.0],[70607037.0,413366150655.47626,5854.461088,6.0,33.0],[1469330.0,23496215878.4107,15991.10879,1.0,16.0],[11685667.0,44360754189.20264,3796.16792,3.0,13.0],[81019394.0,869692960135.1382,10734.37997,8.0,66.0],[5868561.0,36169428571.56876,6163.253406,0.0,0.0],[38748299.0,29203988816.07097,753.6844086,0.0,7.0],[45004673.0,98458094369.48164,2187.730469,11.0,127.0],[65611593.0,2699659681290.8345,41146.07736,67.0,454.0],[323071755.0,18695110840672.453,57866.74493,121.0,1690.0],[31847900.0,86138288615.7052,2704.677188,13.0,32.0],[30741464.0,0.0,0.0,3.0,14.0]],\"geo\":\"geo\",\"hovertemplate\":\"<b>%{hovertext}</b><br><br>Year=2016<br>Country_Code=%{location}<br>Population=%{customdata[0]}<br>GDP=%{z}<br>GDP_Per_Capita=%{customdata[2]}<br>Y_Total=%{customdata[3]}<br>A_Total=%{customdata[4]}<extra></extra>\",\"hovertext\":[\"Afghanistan\",\"Argentina\",\"Armenia\",\"Australia\",\"Austria\",\"Azerbaijan\",\"Belarus\",\"Belgium\",\"Brazil\",\"Brunei Darussalam\",\"Burundi\",\"Cameroon\",\"Canada\",\"Channel Islands\",\"China\",\"Colombia\",\"Cote d'Ivoire\",\"Cuba\",\"Cyprus\",\"Czechia\",\"Djibouti\",\"Dominican Republic\",\"Ecuador\",\"Egypt, Arab Rep.\",\"Eritrea\",\"Estonia\",\"Ethiopia\",\"Finland\",\"France\",\"Gabon\",\"Georgia\",\"Ghana\",\"Guyana\",\"Hong Kong SAR, China\",\"Hungary\",\"Iceland\",\"India\",\"Iraq\",\"Ireland\",\"Israel\",\"Italy\",\"Jamaica\",\"Japan\",\"Jordan\",\"Kazakhstan\",\"Kenya\",\"Korea, Dem. People's Rep.\",\"Korea, Rep.\",\"Kyrgyz Republic\",\"Lebanon\",\"Liechtenstein\",\"Lithuania\",\"Luxembourg\",\"Mexico\",\"Moldova\",\"Montenegro\",\"Morocco\",\"Mozambique\",\"Namibia\",\"New Zealand\",\"North Macedonia\",\"Norway\",\"Pakistan\",\"Panama\",\"Peru\",\"Poland\",\"Qatar\",\"Romania\",\"Russian Federation\",\"San Marino\",\"Senegal\",\"Serbia\",\"Singapore\",\"Slovak Republic\",\"Spain\",\"Suriname\",\"Sweden\",\"Syrian Arab Republic\",\"Tajikistan\",\"Thailand\",\"Trinidad and Tobago\",\"Tunisia\",\"Turkiye\",\"Turkmenistan\",\"Uganda\",\"Ukraine\",\"United Kingdom\",\"United States\",\"Uzbekistan\",\"Venezuela, RB\"],\"locations\":[\"AFG\",\"ARG\",\"ARM\",\"AUS\",\"AUT\",\"AZE\",\"BLR\",\"BEL\",\"BRA\",\"BRN\",\"BDI\",\"CMR\",\"CAN\",\"CHI\",\"CHN\",\"COL\",\"CIV\",\"CUB\",\"CYP\",\"CZE\",\"DJI\",\"DOM\",\"ECU\",\"EGY\",\"ERI\",\"EST\",\"ETH\",\"FIN\",\"FRA\",\"GAB\",\"GEO\",\"GHA\",\"GUY\",\"HKG\",\"HUN\",\"ISL\",\"IND\",\"IRQ\",\"IRL\",\"ISR\",\"ITA\",\"JAM\",\"JPN\",\"JOR\",\"KAZ\",\"KEN\",\"PRK\",\"KOR\",\"KGZ\",\"LBN\",\"LIE\",\"LTU\",\"LUX\",\"MEX\",\"MDA\",\"MNE\",\"MAR\",\"MOZ\",\"NAM\",\"NZL\",\"MKD\",\"NOR\",\"PAK\",\"PAN\",\"PER\",\"POL\",\"QAT\",\"ROU\",\"RUS\",\"SMR\",\"SEN\",\"SRB\",\"SGP\",\"SVK\",\"ESP\",\"SUR\",\"SWE\",\"SYR\",\"TJK\",\"THA\",\"TTO\",\"TUN\",\"TUR\",\"TKM\",\"UGA\",\"UKR\",\"GBR\",\"USA\",\"UZB\",\"VEN\"],\"name\":\"\",\"type\":\"choropleth\",\"z\":[18019558180.88125,557531376076.5289,10546135159.67662,1206535157874.182,395837353013.65045,37867518958.21657,47722657817.9688,476062757367.1079,1795700169028.69,11400854269.2261,2639321160.935754,33814337894.86271,1527994742063.397,0.0,11233276537088.93,282825012374.9825,47964234558.450325,91369999995.87288,29606503931.134068,196272068606.01395,2604955229.2035394,75704720190.77463,99937695998.01456,332441717756.79785,0.0,24072829273.8647,74296618482.88254,240771351322.4825,2472964344428.1714,14023890620.666958,15141758568.36944,56165172885.09691,4482697336.841052,320858250766.776,128609822791.78964,20793168030.27204,2294797980151.101,166602488765.44196,299091127505.8252,322102790376.7,1877071687701.062,14077109396.812311,5003677627280.16,39892551152.55135,137278320088.4374,74815121335.96313,0.0,1500111596288.4434,6813092065.7835,51147308774.18365,6237264055.9086,43047309292.67844,62216885407.109,1078490651675.6224,8071469355.453126,4377033429.462397,109989112467.42912,11936999282.717018,10721994676.24879,188838342517.856,10672471859.97426,368827142844.9351,313629858907.59766,57907699991.95968,191895943814.64124,470022572888.8713,151732181865.2546,185286854560.82837,1256485906182.4758,1468377272.1222,19040312816.005424,40692643372.84137,318832428533.6269,89952699540.519,1233554967037.0483,3317437626.243051,515654671437.8077,12598742887.59862,6992393787.475526,413366150655.47626,23496215878.4107,44360754189.20264,869692960135.1382,36169428571.56876,29203988816.07097,98458094369.48164,2699659681290.8345,18695110840672.453,86138288615.7052,0.0]},{\"customdata\":[[34636207.0,18019558180.88125,520.252064,0.0,2.0],[43590368.0,557531376076.5289,12790.24247,4.0,36.0],[2865835.0,10546135159.67662,3679.951972,4.0,14.0],[24190907.0,1206535157874.182,49875.56514,29.0,424.0],[8736668.0,395837353013.65045,45307.58786,1.0,214.0],[9757812.0,37867518958.21657,3880.738731,18.0,42.0],[9469379.0,47722657817.9688,5039.681886,9.0,93.0],[11331422.0,476062757367.1079,42012.62272,6.0,53.0],[206859578.0,1795700169028.69,8680.768792,19.0,121.0],[425994.0,11400854269.2261,26762.94565,2.0,3.0],[10903327.0,2639321160.935754,242.0656705,1.0,2.0],[23711630.0,33814337894.86271,1426.065517,0.0,6.0],[36109487.0,1527994742063.397,42315.60371,22.0,355.0],[163721.0,0.0,0.0,0.0,6.0],[1387790000.0,11233276537088.93,8094.363367,70.0,599.0],[47625955.0,282825012374.9825,5938.463856,8.0,29.0],[24213622.0,47964234558.450325,1980.878142,2.0,3.0],[11342012.0,91369999995.87288,8055.889907,11.0,214.0],[1197881.0,29606503931.134068,24715.73047,0.0,1.0],[10566332.0,196272068606.01395,18575.23203,10.0,81.0],[1023261.0,2604955229.2035394,2545.738799,0.0,1.0],[10527592.0,75704720190.77463,7191.076572,1.0,7.0],[16439585.0,99937695998.01456,6079.088736,0.0,2.0],[99784030.0,332441717756.79785,3331.612461,3.0,15.0],[3365287.0,0.0,0.0,0.0,1.0],[1315790.0,24072829273.8647,18295.34293,1.0,20.0],[105293228.0,74296618482.88254,705.616305,8.0,54.0],[5495303.0,240771351322.4825,43814.02651,1.0,190.0],[66724104.0,2472964344428.1714,37062.53357,42.0,469.0],[2086206.0,14023890620.666958,6722.198393,0.0,1.0],[3727505.0,15141758568.36944,4062.169888,7.0,32.0],[29554303.0,56165172885.09691,1900.405937,0.0,4.0],[759087.0,4482697336.841052,5905.380196,0.0,1.0],[7336600.0,320858250766.776,43733.91636,0.0,3.0],[9814023.0,128609822791.78964,13104.69955,15.0,316.0],[335439.0,20793168030.27204,61987.92636,0.0,3.0],[1338636340.0,2294797980151.101,1714.280355,2.0,19.0],[38697943.0,166602488765.44196,4305.202702,0.0,1.0],[4755335.0,299091127505.8252,62895.91112,2.0,22.0],[8546000.0,322102790376.7,37690.47395,2.0,9.0],[60627498.0,1877071687701.062,30960.73151,28.0,482.0],[2802695.0,14077109396.812311,5022.704717,11.0,70.0],[127076000.0,5003677627280.16,39375.47316,41.0,411.0],[9964656.0,39892551152.55135,4003.404749,1.0,1.0],[17794055.0,137278320088.4374,7714.841844,17.0,70.0],[47894670.0,74815121335.96313,1562.076142,13.0,103.0],[25389611.0,0.0,0.0,7.0,57.0],[51217803.0,1500111596288.4434,29288.87044,21.0,314.0],[6079500.0,6813092065.7835,1120.666513,0.0,4.0],[6258619.0,51147308774.18365,8172.299476,0.0,2.0],[37609.0,6237264055.9086,165844.9854,0.0,9.0],[2868231.0,43047309292.67844,15008.31324,4.0,25.0],[582014.0,62216885407.109,106899.2935,0.0,2.0],[121519221.0,1078490651675.6224,8875.062256,5.0,55.0],[2803186.0,8071469355.453126,2879.391291,0.0,5.0],[622303.0,4377033429.462397,7033.604899,0.0,1.0],[35107264.0,109989112467.42912,3132.94458,1.0,23.0],[27696493.0,11936999282.717018,430.9931688,0.0,2.0],[2323352.0,10721994676.24879,4614.881721,0.0,4.0],[4714100.0,188838342517.856,40058.19616,18.0,108.0],[2072490.0,10672471859.97426,5149.589074,0.0,1.0],[5234519.0,368827142844.9351,70460.56053,4.0,306.0],[213524840.0,313629858907.59766,1468.821421,0.0,9.0],[4026336.0,57907699991.95968,14382.23238,0.0,1.0],[31132779.0,191895943814.64124,6163.791026,0.0,3.0],[37970087.0,470022572888.8713,12378.75944,11.0,269.0],[2595166.0,151732181865.2546,58467.23557,1.0,5.0],[19702267.0,185286854560.82837,9404.341874,4.0,286.0],[144342397.0,1256485906182.4758,8704.898438,56.0,544.0],[33834.0,1468377272.1222,43399.4583,0.0,0.0],[14751356.0,19040312816.005424,1290.750004,0.0,1.0],[7058322.0,40692643372.84137,5765.200762,8.0,15.0],[5607283.0,318832428533.6269,56860.41324,1.0,5.0],[5430798.0,89952699540.519,16563.4405,4.0,33.0],[46484062.0,1233554967037.0483,26537.15949,17.0,147.0],[581453.0,3317437626.243051,5705.426967,0.0,2.0],[9923085.0,515654671437.8077,51965.15715,11.0,247.0],[18964252.0,12598742887.59862,664.3416723,0.0,3.0],[8725318.0,6992393787.475526,801.3912831,1.0,4.0],[70607037.0,413366150655.47626,5854.461088,6.0,33.0],[1469330.0,23496215878.4107,15991.10879,1.0,16.0],[11685667.0,44360754189.20264,3796.16792,3.0,13.0],[81019394.0,869692960135.1382,10734.37997,8.0,66.0],[5868561.0,36169428571.56876,6163.253406,0.0,0.0],[38748299.0,29203988816.07097,753.6844086,0.0,7.0],[45004673.0,98458094369.48164,2187.730469,11.0,127.0],[65611593.0,2699659681290.8345,41146.07736,67.0,454.0],[323071755.0,18695110840672.453,57866.74493,121.0,1690.0],[31847900.0,86138288615.7052,2704.677188,13.0,32.0],[30741464.0,0.0,0.0,3.0,14.0]],\"geo\":\"geo\",\"hovertemplate\":\"Year=2016<br>A_Total=%{customdata[4]}<br>Country_Code=%{location}<br>Population=%{customdata[0]}<br>GDP=%{customdata[1]}<br>GDP_Per_Capita=%{customdata[2]}<br>Y_Total=%{customdata[3]}<extra></extra>\",\"legendgroup\":\"\",\"locations\":[\"AFG\",\"ARG\",\"ARM\",\"AUS\",\"AUT\",\"AZE\",\"BLR\",\"BEL\",\"BRA\",\"BRN\",\"BDI\",\"CMR\",\"CAN\",\"CHI\",\"CHN\",\"COL\",\"CIV\",\"CUB\",\"CYP\",\"CZE\",\"DJI\",\"DOM\",\"ECU\",\"EGY\",\"ERI\",\"EST\",\"ETH\",\"FIN\",\"FRA\",\"GAB\",\"GEO\",\"GHA\",\"GUY\",\"HKG\",\"HUN\",\"ISL\",\"IND\",\"IRQ\",\"IRL\",\"ISR\",\"ITA\",\"JAM\",\"JPN\",\"JOR\",\"KAZ\",\"KEN\",\"PRK\",\"KOR\",\"KGZ\",\"LBN\",\"LIE\",\"LTU\",\"LUX\",\"MEX\",\"MDA\",\"MNE\",\"MAR\",\"MOZ\",\"NAM\",\"NZL\",\"MKD\",\"NOR\",\"PAK\",\"PAN\",\"PER\",\"POL\",\"QAT\",\"ROU\",\"RUS\",\"SMR\",\"SEN\",\"SRB\",\"SGP\",\"SVK\",\"ESP\",\"SUR\",\"SWE\",\"SYR\",\"TJK\",\"THA\",\"TTO\",\"TUN\",\"TUR\",\"TKM\",\"UGA\",\"UKR\",\"GBR\",\"USA\",\"UZB\",\"VEN\"],\"marker\":{\"color\":\"#636efa\",\"size\":[2.0,36.0,14.0,424.0,214.0,42.0,93.0,53.0,121.0,3.0,2.0,6.0,355.0,6.0,599.0,29.0,3.0,214.0,1.0,81.0,1.0,7.0,2.0,15.0,1.0,20.0,54.0,190.0,469.0,1.0,32.0,4.0,1.0,3.0,316.0,3.0,19.0,1.0,22.0,9.0,482.0,70.0,411.0,1.0,70.0,103.0,57.0,314.0,4.0,2.0,9.0,25.0,2.0,55.0,5.0,1.0,23.0,2.0,4.0,108.0,1.0,306.0,9.0,1.0,3.0,269.0,5.0,286.0,544.0,0.0,1.0,15.0,5.0,33.0,147.0,2.0,247.0,3.0,4.0,33.0,16.0,13.0,66.0,0.0,7.0,127.0,454.0,1690.0,32.0,14.0],\"sizemode\":\"area\",\"sizeref\":4.565,\"symbol\":\"circle\"},\"mode\":\"markers\",\"name\":\"\",\"showlegend\":false,\"type\":\"scattergeo\"}],\"name\":\"2016\"},{\"data\":[{\"coloraxis\":\"coloraxis\",\"customdata\":[[36686784.0,18418848298.73975,502.0567706,0.0,2.0],[44494502.0,524819743068.6738,11795.15939,0.0,36.0],[2836557.0,12457941906.191229,4391.923697,0.0,14.0],[24966643.0,1428288504780.0408,57207.87151,3.0,427.0],[8840521.0,454991174066.3677,51466.55656,14.0,228.0],[9939771.0,47112941173.64841,4739.84171,0.0,42.0],[9438785.0,60031262269.2153,6360.062473,3.0,96.0],[11427054.0,543299067030.0321,47544.98115,1.0,54.0],[210166592.0,1916947014156.2727,9121.083403,0.0,121.0],[434274.0,13567351177.02504,31241.45396,0.0,3.0],[11493472.0,2660123597.151408,231.4464765,0.0,2.0],[25076747.0,39973839072.05253,1594.05999,0.0,6.0],[37065084.0,1725329192752.2764,46548.63841,29.0,384.0],[167259.0,0.0,0.0,0.0,6.0],[1402760000.0,13894817549531.04,9905.342004,9.0,608.0],[49276961.0,334198218084.3611,6782.03792,0.0,29.0],[25493988.0,58011466443.3486,2275.49595,0.0,3.0],[11328244.0,100049999996.17816,8831.907222,0.0,214.0],[1218831.0,35856710635.34205,29418.93555,0.0,1.0],[10629928.0,249000540727.20688,23424.48046,7.0,88.0],[1057198.0,2913466731.683014,2755.838293,0.0,1.0],[10765531.0,85555378039.36292,7947.158207,0.0,7.0],[17015672.0,107562008004.81248,6321.349401,0.0,2.0],[103740765.0,249712999392.0254,2407.086543,0.0,15.0],[3445374.0,0.0,0.0,0.0,1.0],[1321977.0,30624720198.02196,23165.84948,0.0,20.0],[111129438.0,84269348329.2765,758.2990596,0.0,54.0],[5515525.0,275708001776.134,49987.62616,6.0,196.0],[67158348.0,2790956878821.371,41557.85486,15.0,484.0],[2192012.0,16867326389.51254,7694.906045,0.0,1.0],[3726549.0,17596922469.388226,4722.042423,0.0,32.0],[30870641.0,67299280672.54637,2180.04157,0.0,4.0],[785514.0,4787636237.468526,6094.908859,0.0,1.0],[7452600.0,361731071004.414,48537.56689,0.0,3.0],[9775564.0,160564628964.63318,16425.1013,1.0,317.0],[352721.0,26264127687.08,74461.48,0.0,3.0],[1369003306.0,2702929719064.968,1974.377788,0.0,19.0],[40590700.0,227367469032.9327,5601.467061,0.0,1.0],[4867316.0,385736680788.5106,79250.38785,0.0,22.0],[8882800.0,376691526585.604,42406.84543,0.0,9.0],[60421760.0,2091932426480.0195,34622.16967,10.0,492.0],[2811835.0,15730793853.720726,5594.493935,0.0,70.0],[126811000.0,5037835383162.601,39727.1166,13.0,424.0],[10459865.0,43370860551.17504,4146.407296,0.0,1.0],[18276452.0,179339994863.5157,9812.626371,1.0,71.0],[49953304.0,92202956319.83376,1845.78294,0.0,103.0],[25638149.0,0.0,0.0,0.0,57.0],[51585058.0,1724845615391.6377,33436.92306,17.0,331.0],[6322800.0,8271108635.262,1308.140165,0.0,4.0],[5950839.0,54901519156.33505,9225.845155,0.0,2.0],[38181.0,6692504345.7558,175283.6318,1.0,10.0],[2801543.0,53751411404.84737,19186.35959,0.0,25.0],[607950.0,71000359788.015,116786.5117,0.0,2.0],[124013861.0,1222408203072.5989,9857.028829,0.0,55.0],[2707203.0,11457443183.814262,4232.206888,0.0,5.0],[622227.0,5506766650.976391,8850.092733,0.0,1.0],[35927511.0,125483059842.25671,3492.67334,0.0,23.0],[29423878.0,14845402473.98142,504.53589,0.0,2.0],[2405680.0,13682062250.04824,5687.399093,0.0,4.0],[4900600.0,211953111017.58203,43250.44097,2.0,110.0],[2076217.0,12683070060.811436,6108.740108,0.0,1.0],[5311916.0,436999692611.8571,82267.80932,39.0,345.0],[219731479.0,356128225047.2955,1620.742857,0.0,9.0],[4165255.0,64929400005.469154,15588.33733,0.0,1.0],[32203944.0,222597212926.41135,6912.110297,0.0,3.0],[37974750.0,588782567582.88,15504.58048,2.0,271.0],[2766732.0,183334953823.63644,66264.08117,0.0,5.0],[19473970.0,243317079416.4559,12494.47747,0.0,286.0],[144477859.0,1630773657129.4907,11287.36035,0.0,544.0],[34156.0,1655300872.68992,48462.96032,0.0,0.0],[15574909.0,23116897841.16476,1484.239673,0.0,1.0],[6982604.0,50640650223.27824,7252.401858,0.0,15.0],[5638676.0,376998146473.6379,66859.33834,0.0,5.0],[5446771.0,106137923990.80728,19486.39368,3.0,36.0],[46797754.0,1421702715094.387,30379.72111,2.0,149.0],[593715.0,3996204757.140345,6730.846883,0.0,2.0],[10175214.0,555455371527.1735,54589.06039,14.0,261.0],[19333463.0,21351730530.887424,1104.392448,0.0,3.0],[9128132.0,7765014424.702991,850.6685075,0.0,4.0],[71127802.0,506754616221.8523,7124.564544,0.0,33.0],[1504709.0,24322359030.70297,16164.16133,0.0,16.0],[11933041.0,42685972270.496895,3577.124412,0.0,13.0],[82809304.0,778471900959.703,9400.778214,0.0,66.0],[6065066.0,40765428569.16964,6721.34954,0.0,0.0],[41515395.0,32927025572.45853,793.1280811,0.0,7.0],[44622518.0,138176383230.69183,3096.561768,1.0,128.0],[66460344.0,2878152146988.055,43306.3083,5.0,459.0],[326838199.0,20533057312589.297,62823.30944,23.0,1713.0],[32956100.0,52633143821.0057,1597.068337,0.0,32.0],[29825653.0,0.0,0.0,0.0,14.0]],\"geo\":\"geo\",\"hovertemplate\":\"<b>%{hovertext}</b><br><br>Year=2018<br>Country_Code=%{location}<br>Population=%{customdata[0]}<br>GDP=%{z}<br>GDP_Per_Capita=%{customdata[2]}<br>Y_Total=%{customdata[3]}<br>A_Total=%{customdata[4]}<extra></extra>\",\"hovertext\":[\"Afghanistan\",\"Argentina\",\"Armenia\",\"Australia\",\"Austria\",\"Azerbaijan\",\"Belarus\",\"Belgium\",\"Brazil\",\"Brunei Darussalam\",\"Burundi\",\"Cameroon\",\"Canada\",\"Channel Islands\",\"China\",\"Colombia\",\"Cote d'Ivoire\",\"Cuba\",\"Cyprus\",\"Czechia\",\"Djibouti\",\"Dominican Republic\",\"Ecuador\",\"Egypt, Arab Rep.\",\"Eritrea\",\"Estonia\",\"Ethiopia\",\"Finland\",\"France\",\"Gabon\",\"Georgia\",\"Ghana\",\"Guyana\",\"Hong Kong SAR, China\",\"Hungary\",\"Iceland\",\"India\",\"Iraq\",\"Ireland\",\"Israel\",\"Italy\",\"Jamaica\",\"Japan\",\"Jordan\",\"Kazakhstan\",\"Kenya\",\"Korea, Dem. People's Rep.\",\"Korea, Rep.\",\"Kyrgyz Republic\",\"Lebanon\",\"Liechtenstein\",\"Lithuania\",\"Luxembourg\",\"Mexico\",\"Moldova\",\"Montenegro\",\"Morocco\",\"Mozambique\",\"Namibia\",\"New Zealand\",\"North Macedonia\",\"Norway\",\"Pakistan\",\"Panama\",\"Peru\",\"Poland\",\"Qatar\",\"Romania\",\"Russian Federation\",\"San Marino\",\"Senegal\",\"Serbia\",\"Singapore\",\"Slovak Republic\",\"Spain\",\"Suriname\",\"Sweden\",\"Syrian Arab Republic\",\"Tajikistan\",\"Thailand\",\"Trinidad and Tobago\",\"Tunisia\",\"Turkiye\",\"Turkmenistan\",\"Uganda\",\"Ukraine\",\"United Kingdom\",\"United States\",\"Uzbekistan\",\"Venezuela, RB\"],\"locations\":[\"AFG\",\"ARG\",\"ARM\",\"AUS\",\"AUT\",\"AZE\",\"BLR\",\"BEL\",\"BRA\",\"BRN\",\"BDI\",\"CMR\",\"CAN\",\"CHI\",\"CHN\",\"COL\",\"CIV\",\"CUB\",\"CYP\",\"CZE\",\"DJI\",\"DOM\",\"ECU\",\"EGY\",\"ERI\",\"EST\",\"ETH\",\"FIN\",\"FRA\",\"GAB\",\"GEO\",\"GHA\",\"GUY\",\"HKG\",\"HUN\",\"ISL\",\"IND\",\"IRQ\",\"IRL\",\"ISR\",\"ITA\",\"JAM\",\"JPN\",\"JOR\",\"KAZ\",\"KEN\",\"PRK\",\"KOR\",\"KGZ\",\"LBN\",\"LIE\",\"LTU\",\"LUX\",\"MEX\",\"MDA\",\"MNE\",\"MAR\",\"MOZ\",\"NAM\",\"NZL\",\"MKD\",\"NOR\",\"PAK\",\"PAN\",\"PER\",\"POL\",\"QAT\",\"ROU\",\"RUS\",\"SMR\",\"SEN\",\"SRB\",\"SGP\",\"SVK\",\"ESP\",\"SUR\",\"SWE\",\"SYR\",\"TJK\",\"THA\",\"TTO\",\"TUN\",\"TUR\",\"TKM\",\"UGA\",\"UKR\",\"GBR\",\"USA\",\"UZB\",\"VEN\"],\"name\":\"\",\"type\":\"choropleth\",\"z\":[18418848298.73975,524819743068.6738,12457941906.191229,1428288504780.0408,454991174066.3677,47112941173.64841,60031262269.2153,543299067030.0321,1916947014156.2727,13567351177.02504,2660123597.151408,39973839072.05253,1725329192752.2764,0.0,13894817549531.04,334198218084.3611,58011466443.3486,100049999996.17816,35856710635.34205,249000540727.20688,2913466731.683014,85555378039.36292,107562008004.81248,249712999392.0254,0.0,30624720198.02196,84269348329.2765,275708001776.134,2790956878821.371,16867326389.51254,17596922469.388226,67299280672.54637,4787636237.468526,361731071004.414,160564628964.63318,26264127687.08,2702929719064.968,227367469032.9327,385736680788.5106,376691526585.604,2091932426480.0195,15730793853.720726,5037835383162.601,43370860551.17504,179339994863.5157,92202956319.83376,0.0,1724845615391.6377,8271108635.262,54901519156.33505,6692504345.7558,53751411404.84737,71000359788.015,1222408203072.5989,11457443183.814262,5506766650.976391,125483059842.25671,14845402473.98142,13682062250.04824,211953111017.58203,12683070060.811436,436999692611.8571,356128225047.2955,64929400005.469154,222597212926.41135,588782567582.88,183334953823.63644,243317079416.4559,1630773657129.4907,1655300872.68992,23116897841.16476,50640650223.27824,376998146473.6379,106137923990.80728,1421702715094.387,3996204757.140345,555455371527.1735,21351730530.887424,7765014424.702991,506754616221.8523,24322359030.70297,42685972270.496895,778471900959.703,40765428569.16964,32927025572.45853,138176383230.69183,2878152146988.055,20533057312589.297,52633143821.0057,0.0]},{\"customdata\":[[36686784.0,18418848298.73975,502.0567706,0.0,2.0],[44494502.0,524819743068.6738,11795.15939,0.0,36.0],[2836557.0,12457941906.191229,4391.923697,0.0,14.0],[24966643.0,1428288504780.0408,57207.87151,3.0,427.0],[8840521.0,454991174066.3677,51466.55656,14.0,228.0],[9939771.0,47112941173.64841,4739.84171,0.0,42.0],[9438785.0,60031262269.2153,6360.062473,3.0,96.0],[11427054.0,543299067030.0321,47544.98115,1.0,54.0],[210166592.0,1916947014156.2727,9121.083403,0.0,121.0],[434274.0,13567351177.02504,31241.45396,0.0,3.0],[11493472.0,2660123597.151408,231.4464765,0.0,2.0],[25076747.0,39973839072.05253,1594.05999,0.0,6.0],[37065084.0,1725329192752.2764,46548.63841,29.0,384.0],[167259.0,0.0,0.0,0.0,6.0],[1402760000.0,13894817549531.04,9905.342004,9.0,608.0],[49276961.0,334198218084.3611,6782.03792,0.0,29.0],[25493988.0,58011466443.3486,2275.49595,0.0,3.0],[11328244.0,100049999996.17816,8831.907222,0.0,214.0],[1218831.0,35856710635.34205,29418.93555,0.0,1.0],[10629928.0,249000540727.20688,23424.48046,7.0,88.0],[1057198.0,2913466731.683014,2755.838293,0.0,1.0],[10765531.0,85555378039.36292,7947.158207,0.0,7.0],[17015672.0,107562008004.81248,6321.349401,0.0,2.0],[103740765.0,249712999392.0254,2407.086543,0.0,15.0],[3445374.0,0.0,0.0,0.0,1.0],[1321977.0,30624720198.02196,23165.84948,0.0,20.0],[111129438.0,84269348329.2765,758.2990596,0.0,54.0],[5515525.0,275708001776.134,49987.62616,6.0,196.0],[67158348.0,2790956878821.371,41557.85486,15.0,484.0],[2192012.0,16867326389.51254,7694.906045,0.0,1.0],[3726549.0,17596922469.388226,4722.042423,0.0,32.0],[30870641.0,67299280672.54637,2180.04157,0.0,4.0],[785514.0,4787636237.468526,6094.908859,0.0,1.0],[7452600.0,361731071004.414,48537.56689,0.0,3.0],[9775564.0,160564628964.63318,16425.1013,1.0,317.0],[352721.0,26264127687.08,74461.48,0.0,3.0],[1369003306.0,2702929719064.968,1974.377788,0.0,19.0],[40590700.0,227367469032.9327,5601.467061,0.0,1.0],[4867316.0,385736680788.5106,79250.38785,0.0,22.0],[8882800.0,376691526585.604,42406.84543,0.0,9.0],[60421760.0,2091932426480.0195,34622.16967,10.0,492.0],[2811835.0,15730793853.720726,5594.493935,0.0,70.0],[126811000.0,5037835383162.601,39727.1166,13.0,424.0],[10459865.0,43370860551.17504,4146.407296,0.0,1.0],[18276452.0,179339994863.5157,9812.626371,1.0,71.0],[49953304.0,92202956319.83376,1845.78294,0.0,103.0],[25638149.0,0.0,0.0,0.0,57.0],[51585058.0,1724845615391.6377,33436.92306,17.0,331.0],[6322800.0,8271108635.262,1308.140165,0.0,4.0],[5950839.0,54901519156.33505,9225.845155,0.0,2.0],[38181.0,6692504345.7558,175283.6318,1.0,10.0],[2801543.0,53751411404.84737,19186.35959,0.0,25.0],[607950.0,71000359788.015,116786.5117,0.0,2.0],[124013861.0,1222408203072.5989,9857.028829,0.0,55.0],[2707203.0,11457443183.814262,4232.206888,0.0,5.0],[622227.0,5506766650.976391,8850.092733,0.0,1.0],[35927511.0,125483059842.25671,3492.67334,0.0,23.0],[29423878.0,14845402473.98142,504.53589,0.0,2.0],[2405680.0,13682062250.04824,5687.399093,0.0,4.0],[4900600.0,211953111017.58203,43250.44097,2.0,110.0],[2076217.0,12683070060.811436,6108.740108,0.0,1.0],[5311916.0,436999692611.8571,82267.80932,39.0,345.0],[219731479.0,356128225047.2955,1620.742857,0.0,9.0],[4165255.0,64929400005.469154,15588.33733,0.0,1.0],[32203944.0,222597212926.41135,6912.110297,0.0,3.0],[37974750.0,588782567582.88,15504.58048,2.0,271.0],[2766732.0,183334953823.63644,66264.08117,0.0,5.0],[19473970.0,243317079416.4559,12494.47747,0.0,286.0],[144477859.0,1630773657129.4907,11287.36035,0.0,544.0],[34156.0,1655300872.68992,48462.96032,0.0,0.0],[15574909.0,23116897841.16476,1484.239673,0.0,1.0],[6982604.0,50640650223.27824,7252.401858,0.0,15.0],[5638676.0,376998146473.6379,66859.33834,0.0,5.0],[5446771.0,106137923990.80728,19486.39368,3.0,36.0],[46797754.0,1421702715094.387,30379.72111,2.0,149.0],[593715.0,3996204757.140345,6730.846883,0.0,2.0],[10175214.0,555455371527.1735,54589.06039,14.0,261.0],[19333463.0,21351730530.887424,1104.392448,0.0,3.0],[9128132.0,7765014424.702991,850.6685075,0.0,4.0],[71127802.0,506754616221.8523,7124.564544,0.0,33.0],[1504709.0,24322359030.70297,16164.16133,0.0,16.0],[11933041.0,42685972270.496895,3577.124412,0.0,13.0],[82809304.0,778471900959.703,9400.778214,0.0,66.0],[6065066.0,40765428569.16964,6721.34954,0.0,0.0],[41515395.0,32927025572.45853,793.1280811,0.0,7.0],[44622518.0,138176383230.69183,3096.561768,1.0,128.0],[66460344.0,2878152146988.055,43306.3083,5.0,459.0],[326838199.0,20533057312589.297,62823.30944,23.0,1713.0],[32956100.0,52633143821.0057,1597.068337,0.0,32.0],[29825653.0,0.0,0.0,0.0,14.0]],\"geo\":\"geo\",\"hovertemplate\":\"Year=2018<br>A_Total=%{customdata[4]}<br>Country_Code=%{location}<br>Population=%{customdata[0]}<br>GDP=%{customdata[1]}<br>GDP_Per_Capita=%{customdata[2]}<br>Y_Total=%{customdata[3]}<extra></extra>\",\"legendgroup\":\"\",\"locations\":[\"AFG\",\"ARG\",\"ARM\",\"AUS\",\"AUT\",\"AZE\",\"BLR\",\"BEL\",\"BRA\",\"BRN\",\"BDI\",\"CMR\",\"CAN\",\"CHI\",\"CHN\",\"COL\",\"CIV\",\"CUB\",\"CYP\",\"CZE\",\"DJI\",\"DOM\",\"ECU\",\"EGY\",\"ERI\",\"EST\",\"ETH\",\"FIN\",\"FRA\",\"GAB\",\"GEO\",\"GHA\",\"GUY\",\"HKG\",\"HUN\",\"ISL\",\"IND\",\"IRQ\",\"IRL\",\"ISR\",\"ITA\",\"JAM\",\"JPN\",\"JOR\",\"KAZ\",\"KEN\",\"PRK\",\"KOR\",\"KGZ\",\"LBN\",\"LIE\",\"LTU\",\"LUX\",\"MEX\",\"MDA\",\"MNE\",\"MAR\",\"MOZ\",\"NAM\",\"NZL\",\"MKD\",\"NOR\",\"PAK\",\"PAN\",\"PER\",\"POL\",\"QAT\",\"ROU\",\"RUS\",\"SMR\",\"SEN\",\"SRB\",\"SGP\",\"SVK\",\"ESP\",\"SUR\",\"SWE\",\"SYR\",\"TJK\",\"THA\",\"TTO\",\"TUN\",\"TUR\",\"TKM\",\"UGA\",\"UKR\",\"GBR\",\"USA\",\"UZB\",\"VEN\"],\"marker\":{\"color\":\"#636efa\",\"size\":[2.0,36.0,14.0,427.0,228.0,42.0,96.0,54.0,121.0,3.0,2.0,6.0,384.0,6.0,608.0,29.0,3.0,214.0,1.0,88.0,1.0,7.0,2.0,15.0,1.0,20.0,54.0,196.0,484.0,1.0,32.0,4.0,1.0,3.0,317.0,3.0,19.0,1.0,22.0,9.0,492.0,70.0,424.0,1.0,71.0,103.0,57.0,331.0,4.0,2.0,10.0,25.0,2.0,55.0,5.0,1.0,23.0,2.0,4.0,110.0,1.0,345.0,9.0,1.0,3.0,271.0,5.0,286.0,544.0,0.0,1.0,15.0,5.0,36.0,149.0,2.0,261.0,3.0,4.0,33.0,16.0,13.0,66.0,0.0,7.0,128.0,459.0,1713.0,32.0,14.0],\"sizemode\":\"area\",\"sizeref\":4.565,\"symbol\":\"circle\"},\"mode\":\"markers\",\"name\":\"\",\"showlegend\":false,\"type\":\"scattergeo\"}],\"name\":\"2018\"},{\"data\":[{\"coloraxis\":\"coloraxis\",\"customdata\":[[38972230.0,20143442151.645405,516.8665522,0.0,2.0],[45376763.0,385540224639.0123,8496.424142,3.0,39.0],[2805608.0,12641697523.377312,4505.867364,4.0,18.0],[25655289.0,1326901059034.9497,51720.37076,46.0,473.0],[8916864.0,435225238034.1043,48809.22688,7.0,235.0],[10093121.0,42692999999.54553,4229.910649,7.0,49.0],[9379952.0,61371126411.30044,6542.797491,7.0,103.0],[11538604.0,525211810650.47766,45517.79493,7.0,61.0],[213196304.0,1448559976266.8682,6794.489159,21.0,142.0],[441725.0,12005825761.282751,27179.41199,1.0,4.0],[12220227.0,2649671998.356275,216.8267413,0.0,2.0],[26491087.0,40773241542.82763,1539.130559,0.0,6.0],[38037204.0,1645423407509.0195,43258.26387,24.0,408.0],[171113.0,0.0,0.0,0.0,6.0],[1411100000.0,14687673898336.0,10408.66976,88.0,696.0],[50930662.0,270299984938.52094,5307.215228,5.0,34.0],[26811790.0,61348579475.28142,2288.119498,1.0,4.0],[11300698.0,107351999996.561,9499.590202,15.0,229.0],[1237537.0,34695821783.38465,28036.18945,0.0,1.0],[10697858.0,245974558618.368,22992.87938,11.0,99.0],[1090156.0,3181071153.709836,2917.996281,0.0,1.0],[10999664.0,78844702328.16258,7167.919159,5.0,12.0],[17588595.0,99291124006.09756,5645.19929,3.0,5.0],[107465134.0,365252651329.2719,3398.801432,6.0,21.0],[3555868.0,0.0,0.0,0.0,1.0],[1329522.0,31370395567.92096,23595.24368,2.0,22.0],[117190911.0,107657734395.09222,918.6525941,4.0,58.0],[5529543.0,271891788355.76743,49170.75215,2.0,198.0],[67571107.0,2639008701778.304,39055.28293,33.0,517.0],[2292573.0,15314577167.009909,6680.08267,0.0,1.0],[3722716.0,15842922531.928988,4255.742993,8.0,40.0],[32180401.0,70043199798.98306,2176.579459,1.0,5.0],[797202.0,5471256594.779892,6863.074346,0.0,1.0],[7481000.0,344932192059.68,46107.76528,6.0,9.0],[9750149.0,157182045264.86844,16120.98905,20.0,337.0],[366463.0,21694674808.42622,59200.17794,0.0,3.0],[1396387127.0,2667687952041.578,1910.421473,7.0,26.0],[42556984.0,184369797330.75897,4332.304125,0.0,1.0],[4985382.0,425852281950.0085,85420.19086,4.0,26.0],[9215100.0,413267669273.16,44846.7916,4.0,13.0],[59438851.0,1896755301577.4773,31911.03579,40.0,532.0],[2820436.0,13812425037.471092,4897.265897,9.0,79.0],[126261000.0,5040107754293.16,39918.16756,58.0,482.0],[10928721.0,44182298293.50135,4042.76935,2.0,3.0],[18755666.0,171082379533.5239,9121.637138,8.0,79.0],[51985780.0,100666542670.34442,1936.424589,10.0,113.0],[25867467.0,0.0,0.0,0.0,57.0],[51836239.0,1644312831689.1997,31721.29891,20.0,351.0],[6579900.0,7780874533.83,1182.5217,3.0,7.0],[5662923.0,31712128256.01973,5599.957523,0.0,2.0],[38756.0,6113951012.726399,157754.9544,0.0,10.0],[2794885.0,56846622904.70396,20339.52127,1.0,26.0],[630419.0,73992591285.2011,117370.4969,0.0,2.0],[125998302.0,1090515389740.842,8655.000682,4.0,59.0],[2635130.0,11859730543.820322,4500.624464,1.0,6.0],[621306.0,4769860740.927156,7677.152226,0.0,1.0],[36688772.0,119536470918.21692,3258.121338,1.0,24.0],[31178239.0,14028811070.43954,449.9552098,0.0,2.0],[2489098.0,10581585629.505068,4251.172766,1.0,5.0],[5090200.0,211734532296.1,41596.5055,20.0,130.0],[2072531.0,12363580534.777191,5965.450232,1.0,2.0],[5379475.0,362198318429.3602,67329.67779,8.0,353.0],[227196741.0,300425666754.4977,1322.315036,0.0,9.0],[4294396.0,53976999984.68984,12569.17154,0.0,1.0],[33304756.0,201705055941.50266,6056.343903,0.0,3.0],[37899070.0,599449188459.858,15816.9894,14.0,285.0],[2760385.0,144411363349.93082,52315.66008,3.0,8.0],[19265250.0,251362040493.91495,13047.43206,4.0,290.0],[144073139.0,1465092271887.5105,10169.08691,0.0,544.0],[34007.0,1541204337.94104,45320.20872,3.0,3.0],[16436120.0,24493157584.10844,1490.203137,0.0,1.0],[6899126.0,53356480452.392494,7733.802869,9.0,24.0],[5685807.0,345295933906.18243,60729.45035,0.0,5.0],[5458827.0,106696828640.87212,19545.74282,4.0,40.0],[47365655.0,1276962685803.0132,26959.67544,17.0,166.0],[607065.0,2911807496.26341,4796.533314,0.0,2.0],[10353442.0,547054174258.4992,52837.90398,9.0,270.0],[20772595.0,11079795397.08526,533.3852317,1.0,4.0],[9543207.0,8133996647.788332,852.3336702,0.0,4.0],[71475664.0,499681757058.099,6990.935503,2.0,35.0],[1518147.0,21059428852.29834,13871.79822,0.0,16.0],[12161723.0,42537832450.66943,3497.68141,2.0,15.0],[84135428.0,720289368348.3458,8561.070948,13.0,79.0],[6250438.0,0.0,0.0,1.0,1.0],[44404611.0,37600368181.2852,846.7672013,4.0,11.0],[44132049.0,165572005422.7314,3751.740723,19.0,147.0],[67081000.0,2704609160353.17,40318.55757,64.0,523.0],[331501080.0,21060473611704.16,63530.63348,113.0,1826.0],[34232050.0,59894305341.87075,1749.655815,5.0,37.0],[28490453.0,0.0,0.0,4.0,18.0]],\"geo\":\"geo\",\"hovertemplate\":\"<b>%{hovertext}</b><br><br>Year=2020<br>Country_Code=%{location}<br>Population=%{customdata[0]}<br>GDP=%{z}<br>GDP_Per_Capita=%{customdata[2]}<br>Y_Total=%{customdata[3]}<br>A_Total=%{customdata[4]}<extra></extra>\",\"hovertext\":[\"Afghanistan\",\"Argentina\",\"Armenia\",\"Australia\",\"Austria\",\"Azerbaijan\",\"Belarus\",\"Belgium\",\"Brazil\",\"Brunei Darussalam\",\"Burundi\",\"Cameroon\",\"Canada\",\"Channel Islands\",\"China\",\"Colombia\",\"Cote d'Ivoire\",\"Cuba\",\"Cyprus\",\"Czechia\",\"Djibouti\",\"Dominican Republic\",\"Ecuador\",\"Egypt, Arab Rep.\",\"Eritrea\",\"Estonia\",\"Ethiopia\",\"Finland\",\"France\",\"Gabon\",\"Georgia\",\"Ghana\",\"Guyana\",\"Hong Kong SAR, China\",\"Hungary\",\"Iceland\",\"India\",\"Iraq\",\"Ireland\",\"Israel\",\"Italy\",\"Jamaica\",\"Japan\",\"Jordan\",\"Kazakhstan\",\"Kenya\",\"Korea, Dem. People's Rep.\",\"Korea, Rep.\",\"Kyrgyz Republic\",\"Lebanon\",\"Liechtenstein\",\"Lithuania\",\"Luxembourg\",\"Mexico\",\"Moldova\",\"Montenegro\",\"Morocco\",\"Mozambique\",\"Namibia\",\"New Zealand\",\"North Macedonia\",\"Norway\",\"Pakistan\",\"Panama\",\"Peru\",\"Poland\",\"Qatar\",\"Romania\",\"Russian Federation\",\"San Marino\",\"Senegal\",\"Serbia\",\"Singapore\",\"Slovak Republic\",\"Spain\",\"Suriname\",\"Sweden\",\"Syrian Arab Republic\",\"Tajikistan\",\"Thailand\",\"Trinidad and Tobago\",\"Tunisia\",\"Turkiye\",\"Turkmenistan\",\"Uganda\",\"Ukraine\",\"United Kingdom\",\"United States\",\"Uzbekistan\",\"Venezuela, RB\"],\"locations\":[\"AFG\",\"ARG\",\"ARM\",\"AUS\",\"AUT\",\"AZE\",\"BLR\",\"BEL\",\"BRA\",\"BRN\",\"BDI\",\"CMR\",\"CAN\",\"CHI\",\"CHN\",\"COL\",\"CIV\",\"CUB\",\"CYP\",\"CZE\",\"DJI\",\"DOM\",\"ECU\",\"EGY\",\"ERI\",\"EST\",\"ETH\",\"FIN\",\"FRA\",\"GAB\",\"GEO\",\"GHA\",\"GUY\",\"HKG\",\"HUN\",\"ISL\",\"IND\",\"IRQ\",\"IRL\",\"ISR\",\"ITA\",\"JAM\",\"JPN\",\"JOR\",\"KAZ\",\"KEN\",\"PRK\",\"KOR\",\"KGZ\",\"LBN\",\"LIE\",\"LTU\",\"LUX\",\"MEX\",\"MDA\",\"MNE\",\"MAR\",\"MOZ\",\"NAM\",\"NZL\",\"MKD\",\"NOR\",\"PAK\",\"PAN\",\"PER\",\"POL\",\"QAT\",\"ROU\",\"RUS\",\"SMR\",\"SEN\",\"SRB\",\"SGP\",\"SVK\",\"ESP\",\"SUR\",\"SWE\",\"SYR\",\"TJK\",\"THA\",\"TTO\",\"TUN\",\"TUR\",\"TKM\",\"UGA\",\"UKR\",\"GBR\",\"USA\",\"UZB\",\"VEN\"],\"name\":\"\",\"type\":\"choropleth\",\"z\":[20143442151.645405,385540224639.0123,12641697523.377312,1326901059034.9497,435225238034.1043,42692999999.54553,61371126411.30044,525211810650.47766,1448559976266.8682,12005825761.282751,2649671998.356275,40773241542.82763,1645423407509.0195,0.0,14687673898336.0,270299984938.52094,61348579475.28142,107351999996.561,34695821783.38465,245974558618.368,3181071153.709836,78844702328.16258,99291124006.09756,365252651329.2719,0.0,31370395567.92096,107657734395.09222,271891788355.76743,2639008701778.304,15314577167.009909,15842922531.928988,70043199798.98306,5471256594.779892,344932192059.68,157182045264.86844,21694674808.42622,2667687952041.578,184369797330.75897,425852281950.0085,413267669273.16,1896755301577.4773,13812425037.471092,5040107754293.16,44182298293.50135,171082379533.5239,100666542670.34442,0.0,1644312831689.1997,7780874533.83,31712128256.01973,6113951012.726399,56846622904.70396,73992591285.2011,1090515389740.842,11859730543.820322,4769860740.927156,119536470918.21692,14028811070.43954,10581585629.505068,211734532296.1,12363580534.777191,362198318429.3602,300425666754.4977,53976999984.68984,201705055941.50266,599449188459.858,144411363349.93082,251362040493.91495,1465092271887.5105,1541204337.94104,24493157584.10844,53356480452.392494,345295933906.18243,106696828640.87212,1276962685803.0132,2911807496.26341,547054174258.4992,11079795397.08526,8133996647.788332,499681757058.099,21059428852.29834,42537832450.66943,720289368348.3458,0.0,37600368181.2852,165572005422.7314,2704609160353.17,21060473611704.16,59894305341.87075,0.0]},{\"customdata\":[[38972230.0,20143442151.645405,516.8665522,0.0,2.0],[45376763.0,385540224639.0123,8496.424142,3.0,39.0],[2805608.0,12641697523.377312,4505.867364,4.0,18.0],[25655289.0,1326901059034.9497,51720.37076,46.0,473.0],[8916864.0,435225238034.1043,48809.22688,7.0,235.0],[10093121.0,42692999999.54553,4229.910649,7.0,49.0],[9379952.0,61371126411.30044,6542.797491,7.0,103.0],[11538604.0,525211810650.47766,45517.79493,7.0,61.0],[213196304.0,1448559976266.8682,6794.489159,21.0,142.0],[441725.0,12005825761.282751,27179.41199,1.0,4.0],[12220227.0,2649671998.356275,216.8267413,0.0,2.0],[26491087.0,40773241542.82763,1539.130559,0.0,6.0],[38037204.0,1645423407509.0195,43258.26387,24.0,408.0],[171113.0,0.0,0.0,0.0,6.0],[1411100000.0,14687673898336.0,10408.66976,88.0,696.0],[50930662.0,270299984938.52094,5307.215228,5.0,34.0],[26811790.0,61348579475.28142,2288.119498,1.0,4.0],[11300698.0,107351999996.561,9499.590202,15.0,229.0],[1237537.0,34695821783.38465,28036.18945,0.0,1.0],[10697858.0,245974558618.368,22992.87938,11.0,99.0],[1090156.0,3181071153.709836,2917.996281,0.0,1.0],[10999664.0,78844702328.16258,7167.919159,5.0,12.0],[17588595.0,99291124006.09756,5645.19929,3.0,5.0],[107465134.0,365252651329.2719,3398.801432,6.0,21.0],[3555868.0,0.0,0.0,0.0,1.0],[1329522.0,31370395567.92096,23595.24368,2.0,22.0],[117190911.0,107657734395.09222,918.6525941,4.0,58.0],[5529543.0,271891788355.76743,49170.75215,2.0,198.0],[67571107.0,2639008701778.304,39055.28293,33.0,517.0],[2292573.0,15314577167.009909,6680.08267,0.0,1.0],[3722716.0,15842922531.928988,4255.742993,8.0,40.0],[32180401.0,70043199798.98306,2176.579459,1.0,5.0],[797202.0,5471256594.779892,6863.074346,0.0,1.0],[7481000.0,344932192059.68,46107.76528,6.0,9.0],[9750149.0,157182045264.86844,16120.98905,20.0,337.0],[366463.0,21694674808.42622,59200.17794,0.0,3.0],[1396387127.0,2667687952041.578,1910.421473,7.0,26.0],[42556984.0,184369797330.75897,4332.304125,0.0,1.0],[4985382.0,425852281950.0085,85420.19086,4.0,26.0],[9215100.0,413267669273.16,44846.7916,4.0,13.0],[59438851.0,1896755301577.4773,31911.03579,40.0,532.0],[2820436.0,13812425037.471092,4897.265897,9.0,79.0],[126261000.0,5040107754293.16,39918.16756,58.0,482.0],[10928721.0,44182298293.50135,4042.76935,2.0,3.0],[18755666.0,171082379533.5239,9121.637138,8.0,79.0],[51985780.0,100666542670.34442,1936.424589,10.0,113.0],[25867467.0,0.0,0.0,0.0,57.0],[51836239.0,1644312831689.1997,31721.29891,20.0,351.0],[6579900.0,7780874533.83,1182.5217,3.0,7.0],[5662923.0,31712128256.01973,5599.957523,0.0,2.0],[38756.0,6113951012.726399,157754.9544,0.0,10.0],[2794885.0,56846622904.70396,20339.52127,1.0,26.0],[630419.0,73992591285.2011,117370.4969,0.0,2.0],[125998302.0,1090515389740.842,8655.000682,4.0,59.0],[2635130.0,11859730543.820322,4500.624464,1.0,6.0],[621306.0,4769860740.927156,7677.152226,0.0,1.0],[36688772.0,119536470918.21692,3258.121338,1.0,24.0],[31178239.0,14028811070.43954,449.9552098,0.0,2.0],[2489098.0,10581585629.505068,4251.172766,1.0,5.0],[5090200.0,211734532296.1,41596.5055,20.0,130.0],[2072531.0,12363580534.777191,5965.450232,1.0,2.0],[5379475.0,362198318429.3602,67329.67779,8.0,353.0],[227196741.0,300425666754.4977,1322.315036,0.0,9.0],[4294396.0,53976999984.68984,12569.17154,0.0,1.0],[33304756.0,201705055941.50266,6056.343903,0.0,3.0],[37899070.0,599449188459.858,15816.9894,14.0,285.0],[2760385.0,144411363349.93082,52315.66008,3.0,8.0],[19265250.0,251362040493.91495,13047.43206,4.0,290.0],[144073139.0,1465092271887.5105,10169.08691,0.0,544.0],[34007.0,1541204337.94104,45320.20872,3.0,3.0],[16436120.0,24493157584.10844,1490.203137,0.0,1.0],[6899126.0,53356480452.392494,7733.802869,9.0,24.0],[5685807.0,345295933906.18243,60729.45035,0.0,5.0],[5458827.0,106696828640.87212,19545.74282,4.0,40.0],[47365655.0,1276962685803.0132,26959.67544,17.0,166.0],[607065.0,2911807496.26341,4796.533314,0.0,2.0],[10353442.0,547054174258.4992,52837.90398,9.0,270.0],[20772595.0,11079795397.08526,533.3852317,1.0,4.0],[9543207.0,8133996647.788332,852.3336702,0.0,4.0],[71475664.0,499681757058.099,6990.935503,2.0,35.0],[1518147.0,21059428852.29834,13871.79822,0.0,16.0],[12161723.0,42537832450.66943,3497.68141,2.0,15.0],[84135428.0,720289368348.3458,8561.070948,13.0,79.0],[6250438.0,0.0,0.0,1.0,1.0],[44404611.0,37600368181.2852,846.7672013,4.0,11.0],[44132049.0,165572005422.7314,3751.740723,19.0,147.0],[67081000.0,2704609160353.17,40318.55757,64.0,523.0],[331501080.0,21060473611704.16,63530.63348,113.0,1826.0],[34232050.0,59894305341.87075,1749.655815,5.0,37.0],[28490453.0,0.0,0.0,4.0,18.0]],\"geo\":\"geo\",\"hovertemplate\":\"Year=2020<br>A_Total=%{customdata[4]}<br>Country_Code=%{location}<br>Population=%{customdata[0]}<br>GDP=%{customdata[1]}<br>GDP_Per_Capita=%{customdata[2]}<br>Y_Total=%{customdata[3]}<extra></extra>\",\"legendgroup\":\"\",\"locations\":[\"AFG\",\"ARG\",\"ARM\",\"AUS\",\"AUT\",\"AZE\",\"BLR\",\"BEL\",\"BRA\",\"BRN\",\"BDI\",\"CMR\",\"CAN\",\"CHI\",\"CHN\",\"COL\",\"CIV\",\"CUB\",\"CYP\",\"CZE\",\"DJI\",\"DOM\",\"ECU\",\"EGY\",\"ERI\",\"EST\",\"ETH\",\"FIN\",\"FRA\",\"GAB\",\"GEO\",\"GHA\",\"GUY\",\"HKG\",\"HUN\",\"ISL\",\"IND\",\"IRQ\",\"IRL\",\"ISR\",\"ITA\",\"JAM\",\"JPN\",\"JOR\",\"KAZ\",\"KEN\",\"PRK\",\"KOR\",\"KGZ\",\"LBN\",\"LIE\",\"LTU\",\"LUX\",\"MEX\",\"MDA\",\"MNE\",\"MAR\",\"MOZ\",\"NAM\",\"NZL\",\"MKD\",\"NOR\",\"PAK\",\"PAN\",\"PER\",\"POL\",\"QAT\",\"ROU\",\"RUS\",\"SMR\",\"SEN\",\"SRB\",\"SGP\",\"SVK\",\"ESP\",\"SUR\",\"SWE\",\"SYR\",\"TJK\",\"THA\",\"TTO\",\"TUN\",\"TUR\",\"TKM\",\"UGA\",\"UKR\",\"GBR\",\"USA\",\"UZB\",\"VEN\"],\"marker\":{\"color\":\"#636efa\",\"size\":[2.0,39.0,18.0,473.0,235.0,49.0,103.0,61.0,142.0,4.0,2.0,6.0,408.0,6.0,696.0,34.0,4.0,229.0,1.0,99.0,1.0,12.0,5.0,21.0,1.0,22.0,58.0,198.0,517.0,1.0,40.0,5.0,1.0,9.0,337.0,3.0,26.0,1.0,26.0,13.0,532.0,79.0,482.0,3.0,79.0,113.0,57.0,351.0,7.0,2.0,10.0,26.0,2.0,59.0,6.0,1.0,24.0,2.0,5.0,130.0,2.0,353.0,9.0,1.0,3.0,285.0,8.0,290.0,544.0,3.0,1.0,24.0,5.0,40.0,166.0,2.0,270.0,4.0,4.0,35.0,16.0,15.0,79.0,1.0,11.0,147.0,523.0,1826.0,37.0,18.0],\"sizemode\":\"area\",\"sizeref\":4.565,\"symbol\":\"circle\"},\"mode\":\"markers\",\"name\":\"\",\"showlegend\":false,\"type\":\"scattergeo\"}],\"name\":\"2020\"}],\"layout\":{\"coloraxis\":{\"cmax\":5000000000000.0,\"cmin\":0,\"colorbar\":{\"title\":{\"text\":\"GDP\"}},\"colorscale\":[[0.0,\"#f0f921\"],[0.1111111111111111,\"#fdca26\"],[0.2222222222222222,\"#fb9f3a\"],[0.3333333333333333,\"#ed7953\"],[0.4444444444444444,\"#d8576b\"],[0.5555555555555556,\"#bd3786\"],[0.6666666666666666,\"#9c179e\"],[0.7777777777777778,\"#7201a8\"],[0.8888888888888888,\"#46039f\"],[1.0,\"#0d0887\"]]},\"geo\":{\"center\":{},\"domain\":{\"x\":[0.0,1.0],\"y\":[0.0,1.0]}},\"height\":600,\"legend\":{\"tracegroupgap\":0},\"margin\":{\"t\":60},\"sliders\":[{\"active\":0,\"currentvalue\":{\"prefix\":\"Year=\"},\"len\":0.9,\"pad\":{\"b\":10,\"t\":60},\"steps\":[{\"args\":[[\"1960\"],{\"frame\":{\"duration\":0,\"redraw\":true},\"fromcurrent\":true,\"mode\":\"immediate\",\"transition\":{\"duration\":0,\"easing\":\"linear\"}}],\"label\":\"1960\",\"method\":\"animate\"},{\"args\":[[\"1964\"],{\"frame\":{\"duration\":0,\"redraw\":true},\"fromcurrent\":true,\"mode\":\"immediate\",\"transition\":{\"duration\":0,\"easing\":\"linear\"}}],\"label\":\"1964\",\"method\":\"animate\"},{\"args\":[[\"1968\"],{\"frame\":{\"duration\":0,\"redraw\":true},\"fromcurrent\":true,\"mode\":\"immediate\",\"transition\":{\"duration\":0,\"easing\":\"linear\"}}],\"label\":\"1968\",\"method\":\"animate\"},{\"args\":[[\"1972\"],{\"frame\":{\"duration\":0,\"redraw\":true},\"fromcurrent\":true,\"mode\":\"immediate\",\"transition\":{\"duration\":0,\"easing\":\"linear\"}}],\"label\":\"1972\",\"method\":\"animate\"},{\"args\":[[\"1976\"],{\"frame\":{\"duration\":0,\"redraw\":true},\"fromcurrent\":true,\"mode\":\"immediate\",\"transition\":{\"duration\":0,\"easing\":\"linear\"}}],\"label\":\"1976\",\"method\":\"animate\"},{\"args\":[[\"1980\"],{\"frame\":{\"duration\":0,\"redraw\":true},\"fromcurrent\":true,\"mode\":\"immediate\",\"transition\":{\"duration\":0,\"easing\":\"linear\"}}],\"label\":\"1980\",\"method\":\"animate\"},{\"args\":[[\"1984\"],{\"frame\":{\"duration\":0,\"redraw\":true},\"fromcurrent\":true,\"mode\":\"immediate\",\"transition\":{\"duration\":0,\"easing\":\"linear\"}}],\"label\":\"1984\",\"method\":\"animate\"},{\"args\":[[\"1988\"],{\"frame\":{\"duration\":0,\"redraw\":true},\"fromcurrent\":true,\"mode\":\"immediate\",\"transition\":{\"duration\":0,\"easing\":\"linear\"}}],\"label\":\"1988\",\"method\":\"animate\"},{\"args\":[[\"1992\"],{\"frame\":{\"duration\":0,\"redraw\":true},\"fromcurrent\":true,\"mode\":\"immediate\",\"transition\":{\"duration\":0,\"easing\":\"linear\"}}],\"label\":\"1992\",\"method\":\"animate\"},{\"args\":[[\"1994\"],{\"frame\":{\"duration\":0,\"redraw\":true},\"fromcurrent\":true,\"mode\":\"immediate\",\"transition\":{\"duration\":0,\"easing\":\"linear\"}}],\"label\":\"1994\",\"method\":\"animate\"},{\"args\":[[\"1996\"],{\"frame\":{\"duration\":0,\"redraw\":true},\"fromcurrent\":true,\"mode\":\"immediate\",\"transition\":{\"duration\":0,\"easing\":\"linear\"}}],\"label\":\"1996\",\"method\":\"animate\"},{\"args\":[[\"1998\"],{\"frame\":{\"duration\":0,\"redraw\":true},\"fromcurrent\":true,\"mode\":\"immediate\",\"transition\":{\"duration\":0,\"easing\":\"linear\"}}],\"label\":\"1998\",\"method\":\"animate\"},{\"args\":[[\"2000\"],{\"frame\":{\"duration\":0,\"redraw\":true},\"fromcurrent\":true,\"mode\":\"immediate\",\"transition\":{\"duration\":0,\"easing\":\"linear\"}}],\"label\":\"2000\",\"method\":\"animate\"},{\"args\":[[\"2002\"],{\"frame\":{\"duration\":0,\"redraw\":true},\"fromcurrent\":true,\"mode\":\"immediate\",\"transition\":{\"duration\":0,\"easing\":\"linear\"}}],\"label\":\"2002\",\"method\":\"animate\"},{\"args\":[[\"2004\"],{\"frame\":{\"duration\":0,\"redraw\":true},\"fromcurrent\":true,\"mode\":\"immediate\",\"transition\":{\"duration\":0,\"easing\":\"linear\"}}],\"label\":\"2004\",\"method\":\"animate\"},{\"args\":[[\"2006\"],{\"frame\":{\"duration\":0,\"redraw\":true},\"fromcurrent\":true,\"mode\":\"immediate\",\"transition\":{\"duration\":0,\"easing\":\"linear\"}}],\"label\":\"2006\",\"method\":\"animate\"},{\"args\":[[\"2008\"],{\"frame\":{\"duration\":0,\"redraw\":true},\"fromcurrent\":true,\"mode\":\"immediate\",\"transition\":{\"duration\":0,\"easing\":\"linear\"}}],\"label\":\"2008\",\"method\":\"animate\"},{\"args\":[[\"2010\"],{\"frame\":{\"duration\":0,\"redraw\":true},\"fromcurrent\":true,\"mode\":\"immediate\",\"transition\":{\"duration\":0,\"easing\":\"linear\"}}],\"label\":\"2010\",\"method\":\"animate\"},{\"args\":[[\"2012\"],{\"frame\":{\"duration\":0,\"redraw\":true},\"fromcurrent\":true,\"mode\":\"immediate\",\"transition\":{\"duration\":0,\"easing\":\"linear\"}}],\"label\":\"2012\",\"method\":\"animate\"},{\"args\":[[\"2014\"],{\"frame\":{\"duration\":0,\"redraw\":true},\"fromcurrent\":true,\"mode\":\"immediate\",\"transition\":{\"duration\":0,\"easing\":\"linear\"}}],\"label\":\"2014\",\"method\":\"animate\"},{\"args\":[[\"2016\"],{\"frame\":{\"duration\":0,\"redraw\":true},\"fromcurrent\":true,\"mode\":\"immediate\",\"transition\":{\"duration\":0,\"easing\":\"linear\"}}],\"label\":\"2016\",\"method\":\"animate\"},{\"args\":[[\"2018\"],{\"frame\":{\"duration\":0,\"redraw\":true},\"fromcurrent\":true,\"mode\":\"immediate\",\"transition\":{\"duration\":0,\"easing\":\"linear\"}}],\"label\":\"2018\",\"method\":\"animate\"},{\"args\":[[\"2020\"],{\"frame\":{\"duration\":0,\"redraw\":true},\"fromcurrent\":true,\"mode\":\"immediate\",\"transition\":{\"duration\":0,\"easing\":\"linear\"}}],\"label\":\"2020\",\"method\":\"animate\"}],\"x\":0.1,\"xanchor\":\"left\",\"y\":0,\"yanchor\":\"top\"}],\"template\":{\"data\":{\"bar\":[{\"error_x\":{\"color\":\"#2a3f5f\"},\"error_y\":{\"color\":\"#2a3f5f\"},\"marker\":{\"line\":{\"color\":\"#E5ECF6\",\"width\":0.5},\"pattern\":{\"fillmode\":\"overlay\",\"size\":10,\"solidity\":0.2}},\"type\":\"bar\"}],\"barpolar\":[{\"marker\":{\"line\":{\"color\":\"#E5ECF6\",\"width\":0.5},\"pattern\":{\"fillmode\":\"overlay\",\"size\":10,\"solidity\":0.2}},\"type\":\"barpolar\"}],\"carpet\":[{\"aaxis\":{\"endlinecolor\":\"#2a3f5f\",\"gridcolor\":\"white\",\"linecolor\":\"white\",\"minorgridcolor\":\"white\",\"startlinecolor\":\"#2a3f5f\"},\"baxis\":{\"endlinecolor\":\"#2a3f5f\",\"gridcolor\":\"white\",\"linecolor\":\"white\",\"minorgridcolor\":\"white\",\"startlinecolor\":\"#2a3f5f\"},\"type\":\"carpet\"}],\"choropleth\":[{\"colorbar\":{\"outlinewidth\":0,\"ticks\":\"\"},\"type\":\"choropleth\"}],\"contour\":[{\"colorbar\":{\"outlinewidth\":0,\"ticks\":\"\"},\"colorscale\":[[0.0,\"#0d0887\"],[0.1111111111111111,\"#46039f\"],[0.2222222222222222,\"#7201a8\"],[0.3333333333333333,\"#9c179e\"],[0.4444444444444444,\"#bd3786\"],[0.5555555555555556,\"#d8576b\"],[0.6666666666666666,\"#ed7953\"],[0.7777777777777778,\"#fb9f3a\"],[0.8888888888888888,\"#fdca26\"],[1.0,\"#f0f921\"]],\"type\":\"contour\"}],\"contourcarpet\":[{\"colorbar\":{\"outlinewidth\":0,\"ticks\":\"\"},\"type\":\"contourcarpet\"}],\"heatmap\":[{\"colorbar\":{\"outlinewidth\":0,\"ticks\":\"\"},\"colorscale\":[[0.0,\"#0d0887\"],[0.1111111111111111,\"#46039f\"],[0.2222222222222222,\"#7201a8\"],[0.3333333333333333,\"#9c179e\"],[0.4444444444444444,\"#bd3786\"],[0.5555555555555556,\"#d8576b\"],[0.6666666666666666,\"#ed7953\"],[0.7777777777777778,\"#fb9f3a\"],[0.8888888888888888,\"#fdca26\"],[1.0,\"#f0f921\"]],\"type\":\"heatmap\"}],\"heatmapgl\":[{\"colorbar\":{\"outlinewidth\":0,\"ticks\":\"\"},\"colorscale\":[[0.0,\"#0d0887\"],[0.1111111111111111,\"#46039f\"],[0.2222222222222222,\"#7201a8\"],[0.3333333333333333,\"#9c179e\"],[0.4444444444444444,\"#bd3786\"],[0.5555555555555556,\"#d8576b\"],[0.6666666666666666,\"#ed7953\"],[0.7777777777777778,\"#fb9f3a\"],[0.8888888888888888,\"#fdca26\"],[1.0,\"#f0f921\"]],\"type\":\"heatmapgl\"}],\"histogram\":[{\"marker\":{\"pattern\":{\"fillmode\":\"overlay\",\"size\":10,\"solidity\":0.2}},\"type\":\"histogram\"}],\"histogram2d\":[{\"colorbar\":{\"outlinewidth\":0,\"ticks\":\"\"},\"colorscale\":[[0.0,\"#0d0887\"],[0.1111111111111111,\"#46039f\"],[0.2222222222222222,\"#7201a8\"],[0.3333333333333333,\"#9c179e\"],[0.4444444444444444,\"#bd3786\"],[0.5555555555555556,\"#d8576b\"],[0.6666666666666666,\"#ed7953\"],[0.7777777777777778,\"#fb9f3a\"],[0.8888888888888888,\"#fdca26\"],[1.0,\"#f0f921\"]],\"type\":\"histogram2d\"}],\"histogram2dcontour\":[{\"colorbar\":{\"outlinewidth\":0,\"ticks\":\"\"},\"colorscale\":[[0.0,\"#0d0887\"],[0.1111111111111111,\"#46039f\"],[0.2222222222222222,\"#7201a8\"],[0.3333333333333333,\"#9c179e\"],[0.4444444444444444,\"#bd3786\"],[0.5555555555555556,\"#d8576b\"],[0.6666666666666666,\"#ed7953\"],[0.7777777777777778,\"#fb9f3a\"],[0.8888888888888888,\"#fdca26\"],[1.0,\"#f0f921\"]],\"type\":\"histogram2dcontour\"}],\"mesh3d\":[{\"colorbar\":{\"outlinewidth\":0,\"ticks\":\"\"},\"type\":\"mesh3d\"}],\"parcoords\":[{\"line\":{\"colorbar\":{\"outlinewidth\":0,\"ticks\":\"\"}},\"type\":\"parcoords\"}],\"pie\":[{\"automargin\":true,\"type\":\"pie\"}],\"scatter\":[{\"fillpattern\":{\"fillmode\":\"overlay\",\"size\":10,\"solidity\":0.2},\"type\":\"scatter\"}],\"scatter3d\":[{\"line\":{\"colorbar\":{\"outlinewidth\":0,\"ticks\":\"\"}},\"marker\":{\"colorbar\":{\"outlinewidth\":0,\"ticks\":\"\"}},\"type\":\"scatter3d\"}],\"scattercarpet\":[{\"marker\":{\"colorbar\":{\"outlinewidth\":0,\"ticks\":\"\"}},\"type\":\"scattercarpet\"}],\"scattergeo\":[{\"marker\":{\"colorbar\":{\"outlinewidth\":0,\"ticks\":\"\"}},\"type\":\"scattergeo\"}],\"scattergl\":[{\"marker\":{\"colorbar\":{\"outlinewidth\":0,\"ticks\":\"\"}},\"type\":\"scattergl\"}],\"scattermapbox\":[{\"marker\":{\"colorbar\":{\"outlinewidth\":0,\"ticks\":\"\"}},\"type\":\"scattermapbox\"}],\"scatterpolar\":[{\"marker\":{\"colorbar\":{\"outlinewidth\":0,\"ticks\":\"\"}},\"type\":\"scatterpolar\"}],\"scatterpolargl\":[{\"marker\":{\"colorbar\":{\"outlinewidth\":0,\"ticks\":\"\"}},\"type\":\"scatterpolargl\"}],\"scatterternary\":[{\"marker\":{\"colorbar\":{\"outlinewidth\":0,\"ticks\":\"\"}},\"type\":\"scatterternary\"}],\"surface\":[{\"colorbar\":{\"outlinewidth\":0,\"ticks\":\"\"},\"colorscale\":[[0.0,\"#0d0887\"],[0.1111111111111111,\"#46039f\"],[0.2222222222222222,\"#7201a8\"],[0.3333333333333333,\"#9c179e\"],[0.4444444444444444,\"#bd3786\"],[0.5555555555555556,\"#d8576b\"],[0.6666666666666666,\"#ed7953\"],[0.7777777777777778,\"#fb9f3a\"],[0.8888888888888888,\"#fdca26\"],[1.0,\"#f0f921\"]],\"type\":\"surface\"}],\"table\":[{\"cells\":{\"fill\":{\"color\":\"#EBF0F8\"},\"line\":{\"color\":\"white\"}},\"header\":{\"fill\":{\"color\":\"#C8D4E3\"},\"line\":{\"color\":\"white\"}},\"type\":\"table\"}]},\"layout\":{\"annotationdefaults\":{\"arrowcolor\":\"#2a3f5f\",\"arrowhead\":0,\"arrowwidth\":1},\"autotypenumbers\":\"strict\",\"coloraxis\":{\"colorbar\":{\"outlinewidth\":0,\"ticks\":\"\"}},\"colorscale\":{\"diverging\":[[0,\"#8e0152\"],[0.1,\"#c51b7d\"],[0.2,\"#de77ae\"],[0.3,\"#f1b6da\"],[0.4,\"#fde0ef\"],[0.5,\"#f7f7f7\"],[0.6,\"#e6f5d0\"],[0.7,\"#b8e186\"],[0.8,\"#7fbc41\"],[0.9,\"#4d9221\"],[1,\"#276419\"]],\"sequential\":[[0.0,\"#0d0887\"],[0.1111111111111111,\"#46039f\"],[0.2222222222222222,\"#7201a8\"],[0.3333333333333333,\"#9c179e\"],[0.4444444444444444,\"#bd3786\"],[0.5555555555555556,\"#d8576b\"],[0.6666666666666666,\"#ed7953\"],[0.7777777777777778,\"#fb9f3a\"],[0.8888888888888888,\"#fdca26\"],[1.0,\"#f0f921\"]],\"sequentialminus\":[[0.0,\"#0d0887\"],[0.1111111111111111,\"#46039f\"],[0.2222222222222222,\"#7201a8\"],[0.3333333333333333,\"#9c179e\"],[0.4444444444444444,\"#bd3786\"],[0.5555555555555556,\"#d8576b\"],[0.6666666666666666,\"#ed7953\"],[0.7777777777777778,\"#fb9f3a\"],[0.8888888888888888,\"#fdca26\"],[1.0,\"#f0f921\"]]},\"colorway\":[\"#636efa\",\"#EF553B\",\"#00cc96\",\"#ab63fa\",\"#FFA15A\",\"#19d3f3\",\"#FF6692\",\"#B6E880\",\"#FF97FF\",\"#FECB52\"],\"font\":{\"color\":\"#2a3f5f\"},\"geo\":{\"bgcolor\":\"white\",\"lakecolor\":\"white\",\"landcolor\":\"#E5ECF6\",\"showlakes\":true,\"showland\":true,\"subunitcolor\":\"white\"},\"hoverlabel\":{\"align\":\"left\"},\"hovermode\":\"closest\",\"mapbox\":{\"style\":\"light\"},\"paper_bgcolor\":\"white\",\"plot_bgcolor\":\"#E5ECF6\",\"polar\":{\"angularaxis\":{\"gridcolor\":\"white\",\"linecolor\":\"white\",\"ticks\":\"\"},\"bgcolor\":\"#E5ECF6\",\"radialaxis\":{\"gridcolor\":\"white\",\"linecolor\":\"white\",\"ticks\":\"\"}},\"scene\":{\"xaxis\":{\"backgroundcolor\":\"#E5ECF6\",\"gridcolor\":\"white\",\"gridwidth\":2,\"linecolor\":\"white\",\"showbackground\":true,\"ticks\":\"\",\"zerolinecolor\":\"white\"},\"yaxis\":{\"backgroundcolor\":\"#E5ECF6\",\"gridcolor\":\"white\",\"gridwidth\":2,\"linecolor\":\"white\",\"showbackground\":true,\"ticks\":\"\",\"zerolinecolor\":\"white\"},\"zaxis\":{\"backgroundcolor\":\"#E5ECF6\",\"gridcolor\":\"white\",\"gridwidth\":2,\"linecolor\":\"white\",\"showbackground\":true,\"ticks\":\"\",\"zerolinecolor\":\"white\"}},\"shapedefaults\":{\"line\":{\"color\":\"#2a3f5f\"}},\"ternary\":{\"aaxis\":{\"gridcolor\":\"white\",\"linecolor\":\"white\",\"ticks\":\"\"},\"baxis\":{\"gridcolor\":\"white\",\"linecolor\":\"white\",\"ticks\":\"\"},\"bgcolor\":\"#E5ECF6\",\"caxis\":{\"gridcolor\":\"white\",\"linecolor\":\"white\",\"ticks\":\"\"}},\"title\":{\"x\":0.05},\"xaxis\":{\"automargin\":true,\"gridcolor\":\"white\",\"linecolor\":\"white\",\"ticks\":\"\",\"title\":{\"standoff\":15},\"zerolinecolor\":\"white\",\"zerolinewidth\":2},\"yaxis\":{\"automargin\":true,\"gridcolor\":\"white\",\"linecolor\":\"white\",\"ticks\":\"\",\"title\":{\"standoff\":15},\"zerolinecolor\":\"white\",\"zerolinewidth\":2}}},\"title\":{\"font\":{\"size\":20},\"text\":\"GDP and Accumulated Medals by Country\",\"x\":0.5,\"xanchor\":\"center\",\"y\":0.95,\"yanchor\":\"top\"},\"uirevision\":\"scatter_revision\",\"updatemenus\":[{\"buttons\":[{\"args\":[null,{\"frame\":{\"duration\":500,\"redraw\":true},\"fromcurrent\":true,\"mode\":\"immediate\",\"transition\":{\"duration\":500,\"easing\":\"linear\"}}],\"label\":\"&#9654;\",\"method\":\"animate\"},{\"args\":[[null],{\"frame\":{\"duration\":0,\"redraw\":true},\"fromcurrent\":true,\"mode\":\"immediate\",\"transition\":{\"duration\":0,\"easing\":\"linear\"}}],\"label\":\"&#9724;\",\"method\":\"animate\"}],\"direction\":\"left\",\"pad\":{\"r\":10,\"t\":70},\"showactive\":false,\"type\":\"buttons\",\"x\":0.1,\"xanchor\":\"right\",\"y\":0,\"yanchor\":\"top\"}],\"width\":1000},\"margin\":[5,5,5,5],\"name\":\"Plotly01139\",\"viewport_update_throttle\":200},\"id\":\"1018\",\"type\":\"panel.models.plotly.PlotlyPlot\"},{\"attributes\":{},\"id\":\"1021\",\"type\":\"UnionRenderers\"},{\"attributes\":{\"data\":{\"customdata\":[{\"__ndarray__\":\"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\",\"dtype\":\"float64\",\"order\":\"little\",\"shape\":[99,5]}],\"locations\":[[\"AFG\",\"ARG\",\"ARM\",\"AUS\",\"AUT\",\"AUT\",\"AZE\",\"BLR\",\"BEL\",\"BRA\",\"BRN\",\"BDI\",\"CMR\",\"CAN\",\"CAN\",\"CHI\",\"CHN\",\"COL\",\"CIV\",\"CUB\",\"CYP\",\"CZE\",\"DJI\",\"DOM\",\"ECU\",\"EGY\",\"ERI\",\"EST\",\"ETH\",\"FIN\",\"FIN\",\"FRA\",\"FRA\",\"GAB\",\"GEO\",\"GHA\",\"GUY\",\"HKG\",\"HUN\",\"ISL\",\"IND\",\"IRQ\",\"IRL\",\"ISR\",\"ITA\",\"ITA\",\"JAM\",\"JPN\",\"JOR\",\"KAZ\",\"KEN\",\"PRK\",\"KOR\",\"KGZ\",\"LBN\",\"LIE\",\"LTU\",\"LUX\",\"MEX\",\"MDA\",\"MNE\",\"MAR\",\"MOZ\",\"NAM\",\"NZL\",\"MKD\",\"NOR\",\"NOR\",\"PAK\",\"PAN\",\"PER\",\"POL\",\"POL\",\"QAT\",\"ROU\",\"RUS\",\"SMR\",\"SEN\",\"SRB\",\"SGP\",\"SVK\",\"ESP\",\"SUR\",\"SWE\",\"SWE\",\"SYR\",\"TJK\",\"THA\",\"TTO\",\"TUN\",\"TUR\",\"TKM\",\"UGA\",\"UKR\",\"GBR\",\"USA\",\"USA\",\"UZB\",\"VEN\"]],\"marker.size\":[{\"__ndarray__\":\"AAAAAAAAAAAAAAAAAAAAQAAAAAAAAAAAAAAAAAAANkAAAAAAAAAAQAAAAAAAACBAAAAAAAAAAAAAAAAAAAAAAAAAAAAAABBAAAAAAAAAAEAAAAAAAAAAAAAAAAAAAAAAAAAAAAAAAAAAAAAAAADwPwAAAAAAABRAAAAAAAAAAAAAAAAAAAAAAAAAAAAAAAAAAAAAAAAAAAAAAAAAAAAAAAAAAAAAAAAAAAAAAAAAAAAAAAAAAAAAAAAAAAAAAAAAAAAAAAAAAAAAAAAAAAAAAAAAAAAAAAAAAAAAAAAAAAAAAAAAAADwPwAAAAAAABRAAAAAAAAAKkAAAAAAAAAUQAAAAAAAACBAAAAAAAAAAAAAAAAAAAAAAAAAAAAAAPA/AAAAAAAAAAAAAAAAAAAAAAAAAAAAADVAAAAAAAAAAAAAAAAAAADwPwAAAAAAAPA/AAAAAAAAAAAAAAAAAAAAAAAAAAAAAEJAAAAAAACAQkAAAAAAAAAAAAAAAAAAADJAAAAAAAAAAAAAAAAAAAAAAAAAAAAAAAAAAAAAAAAAAAAAAAAAAAAAAAAAAAAAAAAAAAAAAAAAAAAAAAAAAAAAAAAAAAAAAAAAAAAAAAAAAAAAAAAAAADwPwAAAAAAAAAAAAAAAAAAAAAAAAAAAADwPwAAAAAAAAAAAAAAAAAAAAAAAAAAAAAIQAAAAAAAAAAAAAAAAAAA8D8AAAAAAAAcQAAAAAAAAABAAAAAAAAAAAAAAAAAAAAAAAAAAAAAADVAAAAAAAAAN0AAAAAAAAAAAAAAAAAAACRAAAAAAAAAAAAAAAAAAAAAAAAAAAAAAAAAAAAAAAAAAAAAAAAAAADwPwAAAAAAAAAAAAAAAAAA8D8AAAAAAAAAAAAAAAAAABhAAAAAAAAAKkAAAAAAAAAAAAAAAAAAAAAAAAAAAAAAAAAAAAAAAAAAAAAAAAAAAAAAAAAAAAAAIkAAAAAAAAAAAAAAAAAAAAAAAAAAAAAAAAAAAAAAAAA0QAAAAAAAwFFAAAAAAABAVEAAAAAAAAAAAAAAAAAAAPA/\",\"dtype\":\"float64\",\"order\":\"little\",\"shape\":[99]}]},\"selected\":{\"id\":\"1022\"},\"selection_policy\":{\"id\":\"1021\"}},\"id\":\"1017\",\"type\":\"ColumnDataSource\"},{\"attributes\":{\"data\":{\"customdata\":[{\"__ndarray__\":\"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\",\"dtype\":\"float64\",\"order\":\"little\",\"shape\":[99,5]}],\"hovertext\":[[\"Afghanistan\",\"Argentina\",\"Armenia\",\"Australia\",\"Austria\",\"Austria\",\"Azerbaijan\",\"Belarus\",\"Belgium\",\"Brazil\",\"Brunei Darussalam\",\"Burundi\",\"Cameroon\",\"Canada\",\"Canada\",\"Channel Islands\",\"China\",\"Colombia\",\"Cote d'Ivoire\",\"Cuba\",\"Cyprus\",\"Czechia\",\"Djibouti\",\"Dominican Republic\",\"Ecuador\",\"Egypt, Arab Rep.\",\"Eritrea\",\"Estonia\",\"Ethiopia\",\"Finland\",\"Finland\",\"France\",\"France\",\"Gabon\",\"Georgia\",\"Ghana\",\"Guyana\",\"Hong Kong SAR, China\",\"Hungary\",\"Iceland\",\"India\",\"Iraq\",\"Ireland\",\"Israel\",\"Italy\",\"Italy\",\"Jamaica\",\"Japan\",\"Jordan\",\"Kazakhstan\",\"Kenya\",\"Korea, Dem. People's Rep.\",\"Korea, Rep.\",\"Kyrgyz Republic\",\"Lebanon\",\"Liechtenstein\",\"Lithuania\",\"Luxembourg\",\"Mexico\",\"Moldova\",\"Montenegro\",\"Morocco\",\"Mozambique\",\"Namibia\",\"New Zealand\",\"North Macedonia\",\"Norway\",\"Norway\",\"Pakistan\",\"Panama\",\"Peru\",\"Poland\",\"Poland\",\"Qatar\",\"Romania\",\"Russian Federation\",\"San Marino\",\"Senegal\",\"Serbia\",\"Singapore\",\"Slovak Republic\",\"Spain\",\"Suriname\",\"Sweden\",\"Sweden\",\"Syrian Arab Republic\",\"Tajikistan\",\"Thailand\",\"Trinidad and Tobago\",\"Tunisia\",\"Turkiye\",\"Turkmenistan\",\"Uganda\",\"Ukraine\",\"United Kingdom\",\"United States\",\"United States\",\"Uzbekistan\",\"Venezuela, RB\"]],\"locations\":[[\"AFG\",\"ARG\",\"ARM\",\"AUS\",\"AUT\",\"AUT\",\"AZE\",\"BLR\",\"BEL\",\"BRA\",\"BRN\",\"BDI\",\"CMR\",\"CAN\",\"CAN\",\"CHI\",\"CHN\",\"COL\",\"CIV\",\"CUB\",\"CYP\",\"CZE\",\"DJI\",\"DOM\",\"ECU\",\"EGY\",\"ERI\",\"EST\",\"ETH\",\"FIN\",\"FIN\",\"FRA\",\"FRA\",\"GAB\",\"GEO\",\"GHA\",\"GUY\",\"HKG\",\"HUN\",\"ISL\",\"IND\",\"IRQ\",\"IRL\",\"ISR\",\"ITA\",\"ITA\",\"JAM\",\"JPN\",\"JOR\",\"KAZ\",\"KEN\",\"PRK\",\"KOR\",\"KGZ\",\"LBN\",\"LIE\",\"LTU\",\"LUX\",\"MEX\",\"MDA\",\"MNE\",\"MAR\",\"MOZ\",\"NAM\",\"NZL\",\"MKD\",\"NOR\",\"NOR\",\"PAK\",\"PAN\",\"PER\",\"POL\",\"POL\",\"QAT\",\"ROU\",\"RUS\",\"SMR\",\"SEN\",\"SRB\",\"SGP\",\"SVK\",\"ESP\",\"SUR\",\"SWE\",\"SWE\",\"SYR\",\"TJK\",\"THA\",\"TTO\",\"TUN\",\"TUR\",\"TKM\",\"UGA\",\"UKR\",\"GBR\",\"USA\",\"USA\",\"UZB\",\"VEN\"]],\"z\":[{\"__ndarray__\":\"z62TSesGwEEAAAAAAAAAAAAAAAAAAAAAe3PQye9TEULmjBhlSI/4QeaMGGVIj/hBAAAAAAAAAAAAAAAAAAAAANJi8OhPtwVC/Bk4QMK4D0IAAAAAAAAAAOrMBexxXadB3UhkOwVOwkGiXL3AadciQqJcvcBp1yJCAAAAAAAAAADCJlL3wc4rQuEWAWrQCO5B7LDb1DNHwEEAAAAAAAAAAAAAAAAAAAAAAAAAAAAAAAAAAAAAAAAAADWz+KkACsRBOHCTO2LW3kEAAAAAAAAAAAAAAAAAAAAAAAAAAAAAAAAAAAAAAAAAAJVyOJMXdvNBlXI4kxd280G6MO7i2vksQrow7uLa+SxChL7EZErdoEEAAAAAAAAAAJvgt1zRItJBHeJvoI5KpEG6ge56cK7TQQAAAAAAAAAAzXjLYZudrUFwuMRfTj4hQjljlO9pGNlBL6jfu/Tl3EHwihjUPlzjQfu+KzFNziJC+74rMU3OIkJzfnlbVdXEQVtCzszYoSRCAAAAAAAAAAAAAAAAAAAAAOBHQVnglMdBAAAAAAAAAAAYldu8237tQQAAAAAAAAAAAAAAAAAAAAAAAAAAAAAAAAAAAAAAAAAAcSAI5Yb6xEFObAHg9EkIQgAAAAAAAAAAAAAAAAAAAACOKf3lXkXeQQAAAAAAAAAAAAAAAAAAAADcaHAEuG/0QQAAAAAAAAAA/ADhWhQ880H8AOFaFDzzQS/6284n7+tBtuv9bRsCwEFRZst7hinjQQAAAAAAAAAAAAAAAAAAAAAAAAAAAAAAAAAAAAAAAAAAAAAAAAAAAAAAAAAAAAAAAHukNauQ6c1BAAAAAAAAAAAZBFYo3QDFQQAAAAAAAAAAEgPSM3B8BkIvnfs/J8KXQe0OX+bLeA1C7Q5f5st4DUINaqTuw4/JQQAAAAAAAAAAaswiOrWR5EG4LLVvre2/QQAAAAAAAAAAp3bvHOMLCkIAAAAAAAAAAAuBuoGYNrlBAAAAAAAAAAAzMz2qFQ0xQhXmLgbNn19CFeYuBs2fX0IAAAAAAAAAAAkQ0h24+vxB\",\"dtype\":\"float64\",\"order\":\"little\",\"shape\":[99]}]},\"selected\":{\"id\":\"1020\"},\"selection_policy\":{\"id\":\"1019\"}},\"id\":\"1016\",\"type\":\"ColumnDataSource\"},{\"attributes\":{\"active\":0,\"labels\":[\"GDP\",\"GDP_Per_Capita\"],\"margin\":[5,10,5,10]},\"id\":\"1015\",\"type\":\"RadioButtonGroup\"}],\"root_ids\":[\"1014\",\"1031\"]},\"title\":\"Bokeh Application\",\"version\":\"2.4.3\"}};\n",
       "    var render_items = [{\"docid\":\"324db7c3-75f5-4fc2-b6dd-7613b8d5fa91\",\"root_ids\":[\"1014\"],\"roots\":{\"1014\":\"d1f86ec7-291b-45a4-a92d-702f372407de\"}}];\n",
       "    root.Bokeh.embed.embed_items_notebook(docs_json, render_items);\n",
       "    for (const render_item of render_items) {\n",
       "      for (const root_id of render_item.root_ids) {\n",
       "\tconst id_el = document.getElementById(root_id)\n",
       "\tif (id_el.children.length && (id_el.children[0].className === 'bk-root')) {\n",
       "\t  const root_el = id_el.children[0]\n",
       "\t  root_el.id = root_el.id + '-rendered'\n",
       "\t}\n",
       "      }\n",
       "    }\n",
       "  }\n",
       "  if (root.Bokeh !== undefined && root.Bokeh.Panel !== undefined && ( root['Tabulator'] !== undefined)) {\n",
       "    embed_document(root);\n",
       "  } else {\n",
       "    var attempts = 0;\n",
       "    var timer = setInterval(function(root) {\n",
       "      if (root.Bokeh !== undefined && root.Bokeh.Panel !== undefined && (root['Tabulator'] !== undefined)) {\n",
       "        clearInterval(timer);\n",
       "        embed_document(root);\n",
       "      } else if (document.readyState == \"complete\") {\n",
       "        attempts++;\n",
       "        if (attempts > 200) {\n",
       "          clearInterval(timer);\n",
       "          console.log(\"Bokeh: ERROR: Unable to run BokehJS code because BokehJS library is missing\");\n",
       "        }\n",
       "      }\n",
       "    }, 25, root)\n",
       "  }\n",
       "})(window);</script>"
      ],
      "text/plain": [
       "Column\n",
       "    [0] RadioButtonGroup(options=['GDP', 'GDP_Per_Capita'], value='GDP')\n",
       "    [1] Plotly(Figure)"
      ]
     },
     "execution_count": 16,
     "metadata": {
      "application/vnd.holoviews_exec.v0+json": {
       "id": "1014"
      }
     },
     "output_type": "execute_result"
    }
   ],
   "source": [
    "data = pd.read_csv('olympic_data_country_medal_year.csv')\n",
    "# define a callback function to update the plot based on the selected parameter\n",
    "def update_plot(parameter_selector):\n",
    "    if parameter_selector == \"GDP\":\n",
    "        color_param = data[\"GDP\"]\n",
    "        range_color = [0, 5e12]\n",
    "    else:\n",
    "        color_param = data[\"GDP_Per_Capita\"]\n",
    "        range_color = [0, 100000]\n",
    "\n",
    "    map = px.choropleth(data, \n",
    "                        locations=\"Country_Code\",\n",
    "                        color=color_param,\n",
    "                        hover_name=\"Country_Name\",\n",
    "                        animation_frame=\"Year\",\n",
    "                        hover_data=[\"Population\", \"GDP\", \"GDP_Per_Capita\", \"Y_Total\", \"A_Total\"],\n",
    "                        range_color=range_color,\n",
    "                        color_continuous_scale=px.colors.sequential.Plasma_r)\n",
    "    map2 = px.scatter_geo(data, locations=\"Country_Code\",\n",
    "                        size=\"A_Total\", \n",
    "                        hover_data=[\"Population\", \"GDP\", \"GDP_Per_Capita\", \"Y_Total\", \"A_Total\"],\n",
    "                        color_continuous_scale=px.colors.sequential.Plasma,\n",
    "                        animation_frame=\"Year\")\n",
    "\n",
    "    map.add_trace(map2.data[0])\n",
    "    for i, frame in enumerate(map.frames):\n",
    "        map.frames[i].data += (map2.frames[i].data[0],)\n",
    "\n",
    "    map.update_layout(title={\n",
    "        'text': f\"{parameter_selector} and Accumulated Medals by Country\",\n",
    "        'y':0.95,\n",
    "        'x':0.5,\n",
    "        'xanchor': 'center',\n",
    "        'yanchor': 'top',\n",
    "        'font': {'size': 20}},\n",
    "        width=1000, height=600,\n",
    "       uirevision='scatter_revision'\n",
    ")\n",
    "    return Plotly(map)\n",
    "\n",
    "    \n",
    "\n",
    "parameter_selector = pnw.RadioButtonGroup(options=[\"GDP\", \"GDP_Per_Capita\"], value=\"GDP\")\n",
    "\n",
    "# create a dynamic panel with the parameter selector and the plot\n",
    "dynamic_panel = pn.Column(parameter_selector, update_plot(parameter_selector.value))\n",
    "\n",
    "# set up the callback to update the plot whenever the parameter selector changes\n",
    "parameter_selector.param.watch(update_plot, \"value\")\n",
    "\n",
    "# display the dynamic panel\n",
    "dynamic_panel.servable()"
   ]
  },
  {
   "cell_type": "code",
   "execution_count": 70,
   "id": "1c2e45bf-37c7-48e0-a2d3-a36da8843362",
   "metadata": {
    "code_folding": []
   },
   "outputs": [
    {
     "name": "stdout",
     "output_type": "stream",
     "text": [
      "Launching server at http://localhost:59871\n"
     ]
    },
    {
     "data": {
      "text/plain": [
       "<panel.io.server.Server at 0x19291989948>"
      ]
     },
     "execution_count": 70,
     "metadata": {},
     "output_type": "execute_result"
    }
   ],
   "source": [
    "import panel as pn\n",
    "\n",
    "template = pn.template.FastListTemplate(\n",
    "   \n",
    "    main=[\n",
    "        pn.Column(\n",
    "            parameter_selector, \n",
    "            update_plot(parameter_selector.value), \n",
    "         margin=(0,25)\n",
    "        ),\n",
    "        pn.Row(pn.Column(\n",
    "            fig,scatter_plot\n",
    "        )),\n",
    "        pn.Row(pn.Column(\n",
    "            line_pop * line_gdp * line_cap\n",
    "        )),\n",
    "        pn.Column(\n",
    "            bar_chart,  \n",
    "            margin=(0, 10),\n",
    "        )],\n",
    "    accent_base_color=\"#88d8b0\",\n",
    "    header_background=\"#88d8b0\"\n",
    ")\n",
    "\n",
    "template.servable()\n",
    "template.show()"
   ]
  },
  {
   "cell_type": "code",
   "execution_count": null,
   "id": "33c7a07b",
   "metadata": {},
   "outputs": [],
   "source": []
  },
  {
   "cell_type": "code",
   "execution_count": null,
   "id": "f2c2e980",
   "metadata": {},
   "outputs": [],
   "source": []
  },
  {
   "cell_type": "code",
   "execution_count": null,
   "id": "de1fa41c",
   "metadata": {},
   "outputs": [],
   "source": []
  },
  {
   "cell_type": "code",
   "execution_count": null,
   "id": "ea59f44e",
   "metadata": {},
   "outputs": [],
   "source": []
  },
  {
   "cell_type": "code",
   "execution_count": null,
   "id": "a0de20d6",
   "metadata": {},
   "outputs": [],
   "source": []
  }
 ],
 "metadata": {
  "kernelspec": {
   "display_name": "mlenv",
   "language": "python",
   "name": "mlenv"
  },
  "language_info": {
   "codemirror_mode": {
    "name": "ipython",
    "version": 3
   },
   "file_extension": ".py",
   "mimetype": "text/x-python",
   "name": "python",
   "nbconvert_exporter": "python",
   "pygments_lexer": "ipython3",
   "version": "3.7.6"
  }
 },
 "nbformat": 4,
 "nbformat_minor": 5
}
