{
 "cells": [
  {
   "cell_type": "code",
   "execution_count": 2,
   "id": "5fdd44d5",
   "metadata": {},
   "outputs": [],
   "source": [
    "import pandas as pd"
   ]
  },
  {
   "cell_type": "code",
   "execution_count": 3,
   "id": "4fe24492",
   "metadata": {},
   "outputs": [],
   "source": [
    "df = pd.read_csv('pop_gdp_vs_medal.csv')"
   ]
  },
  {
   "cell_type": "code",
   "execution_count": 5,
   "id": "86688044",
   "metadata": {},
   "outputs": [],
   "source": [
    "df = df[df['Y_Score'] != 0]"
   ]
  },
  {
   "cell_type": "code",
   "execution_count": 8,
   "id": "74de3833",
   "metadata": {},
   "outputs": [],
   "source": [
    "df.to_csv('pop_gdp_vs_medal.csv')"
   ]
  },
  {
   "cell_type": "code",
   "execution_count": null,
   "id": "dab88254",
   "metadata": {},
   "outputs": [],
   "source": []
  }
 ],
 "metadata": {
  "kernelspec": {
   "display_name": "mlenv",
   "language": "python",
   "name": "mlenv"
  },
  "language_info": {
   "codemirror_mode": {
    "name": "ipython",
    "version": 3
   },
   "file_extension": ".py",
   "mimetype": "text/x-python",
   "name": "python",
   "nbconvert_exporter": "python",
   "pygments_lexer": "ipython3",
   "version": "3.7.6"
  }
 },
 "nbformat": 4,
 "nbformat_minor": 5
}
